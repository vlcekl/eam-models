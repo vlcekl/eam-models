{
 "cells": [
  {
   "cell_type": "markdown",
   "metadata": {},
   "source": [
    "# Interatomic force field (IFF) optimization for W-based metal alloys\n",
    "\n",
    "## Calculate configuration statistics for EAM models\n",
    "\n",
    "Author: Lukas Vlcek\n",
    "\n",
    "Start Date: 2018-04-22"
   ]
  },
  {
   "cell_type": "code",
   "execution_count": 1,
   "metadata": {},
   "outputs": [
    {
     "name": "stdout",
     "output_type": "stream",
     "text": [
      "Last update: 2018-08-09 16:43:21.215586\n"
     ]
    }
   ],
   "source": [
    "from datetime import datetime ; print('Last update:', datetime.now())"
   ]
  },
  {
   "cell_type": "code",
   "execution_count": 2,
   "metadata": {
    "collapsed": true
   },
   "outputs": [],
   "source": [
    "%matplotlib inline\n",
    "import os\n",
    "import re\n",
    "import numpy as np\n",
    "import pickle\n",
    "import matplotlib.pyplot as plt\n",
    "\n",
    "# source of raw data and destination for processed data\n",
    "target_proc = '../data/target_processed'"
   ]
  },
  {
   "cell_type": "markdown",
   "metadata": {},
   "source": [
    "**Read a list of trajectory datasets for processing**"
   ]
  },
  {
   "cell_type": "code",
   "execution_count": 3,
   "metadata": {},
   "outputs": [
    {
     "name": "stdout",
     "output_type": "stream",
     "text": [
      "['bcc_npt_langevin_300K', 'i110_npt_langevin_2000K', 'bcc_npt_langevin_3700K', 'liq_5000K', 'screw_111_npt_langevin_2000K', 'fcc_npt_langevin_300K']\n"
     ]
    }
   ],
   "source": [
    "with open(os.path.join(target_proc,  \"datasets.pickle\"), 'rb') as fi:\n",
    "    datasets = pickle.load(fi)\n",
    "    print(datasets)"
   ]
  },
  {
   "cell_type": "code",
   "execution_count": 5,
   "metadata": {},
   "outputs": [],
   "source": [
    "trajectories = []\n",
    "for dset in datasets:\n",
    "    with open(os.path.join(target_proc, dset + \".pickle\"), 'rb') as fo:\n",
    "        trajectories.append(pickle.load(fo))"
   ]
  },
  {
   "cell_type": "markdown",
   "metadata": {
    "collapsed": true
   },
   "source": [
    "Function to calculate atom pair distances in a triclinic box"
   ]
  },
  {
   "cell_type": "code",
   "execution_count": 13,
   "metadata": {
    "collapsed": true
   },
   "outputs": [],
   "source": [
    "def pair_dist_triclinic(xyz, box):\n",
    "    \"\"\"\n",
    "    Calculates nearest image pair distances between all atoms in xyz array.\n",
    "    Parameters\n",
    "    -----------\n",
    "    xyz : numpy array\n",
    "          particle x, y, z coordinates\n",
    "    box : numpy 2D array of unit cell vectors\n",
    "          simulation box dimensions/shape\n",
    "    Returns\n",
    "    -------\n",
    "    rr  : (natom, natom) numpy array of pair distances\n",
    "    rx  : (natom, natom, 3) numpy array of pair distance coordinates\n",
    "    \"\"\"\n",
    "\n",
    "    n_atom = xyz.shape[0] # number of atoms in a configuration\n",
    "    rr = np.empty((n_atom, n_atom), dtype=float)\n",
    "    rx = np.empty((n_atom, n_atom, 3), dtype=float)\n",
    "    \n",
    "    boxT = box.T\n",
    "    \n",
    "    for i, pa in enumerate(xyz):\n",
    "        for j, pb in enumerate(xyz):\n",
    "            dp = pa - pb\n",
    "            dp = np.where(dp < -0.5, dp + 1.0, dp)\n",
    "            dp = np.where(dp >  0.5, dp - 1.0, dp)\n",
    "            \n",
    "            dp = boxT.dot(dp)\n",
    "            \n",
    "            rr[i,j] = np.sum(dp*dp)**0.5\n",
    "            rx[i,j] = dp\n",
    "\n",
    "    return rr, rx"
   ]
  },
  {
   "cell_type": "code",
   "execution_count": 11,
   "metadata": {},
   "outputs": [],
   "source": [
    "# sufficient statistics for EAM\n",
    "def get_stats_EAM(rr, rx, sc):\n",
    "    \"\"\"\n",
    "    Takes atom pair distances and calculates sufficeint statistics needed\n",
    "    for the parameterization of a cubic spline-based EAM model by Bonny et al. (2017).\n",
    "    \n",
    "    Parameters\n",
    "    ----------\n",
    "    rr : numpy array\n",
    "         set of pair distances\n",
    "    rx : numpy array\n",
    "         set of pair distance coordinates\n",
    "    sc : python list\n",
    "         spline nodes\n",
    "         \n",
    "    Returns\n",
    "    -------\n",
    "    ar, a1, a2 : numpy arrays (len(sc))\n",
    "                 atom energy-related statistics\n",
    "                 el_density**0.5, el_density, el_density**2\n",
    "    br, b1, b2 : numpy arrays (len(sc), natoms, 3 coordinates)\n",
    "                 atom force-related statistics (gradients of energy)\n",
    "                 grad(el_density**0.5), grad(el_density), grad(el_density**2)\n",
    "    \"\"\"\n",
    "\n",
    "    n_atom = rr.shape[0]\n",
    "\n",
    "    # energy-related statistics\n",
    "    aa = np.empty((n_atom), dtype=float)\n",
    "    ar = np.zeros((len(sc)), dtype=float)\n",
    "    a1 = np.zeros_like(ar)\n",
    "    a2 = np.zeros_like(ar)\n",
    "\n",
    "    # force-related statistics\n",
    "    br = np.zeros((len(sc), n_atom, 3), dtype=float)\n",
    "    b1 = np.zeros_like(br)\n",
    "    b2 = np.zeros_like(br)\n",
    "    zero3 = np.zeros((3))\n",
    "\n",
    "    # cycle over spline nodes\n",
    "    for ks, rc in enumerate(sc):\n",
    "\n",
    "        # cycle over atoms\n",
    "        for i in range(n_atom):\n",
    "\n",
    "            # sum electronic density over all neighbors of i within rc\n",
    "            aa[i] = sum([(rc - r)**3 for r in rr[i] if (r < rc and r > 0.01)])\n",
    "\n",
    "            # if el. density larger than zero, calculate force statistics                                                                                                                                        84,0-1        43%\n",
    "            if aa[i] > 0.0:\n",
    "\n",
    "                # precompute a list of recurring values for force statistics\n",
    "                ff = [1.5*(rc - r)**2*x/r if (r > 0.01 and r < rc) else zero3 for r, x in zip(rr[i], rx[i])]\n",
    "\n",
    "                # sum contributions to force statistics from all neighbors of i\n",
    "                b1[ks, i] = sum([2*f       for f in ff])\n",
    "                br[ks, i] = sum([ -f/np.sqrt(aa[i]) for f in ff])\n",
    "                b2[ks, i] = sum([4*f*aa[i] for f in ff])\n",
    "\n",
    "        # sum contributions to energy statistics for a given spline node\n",
    "        ar[ks] = np.sum(np.sqrt(aa))\n",
    "        a1[ks] = np.sum(aa)\n",
    "        a2[ks] = np.sum(aa**2)\n",
    "\n",
    "    return a1, ar, a2, b1, br, b2"
   ]
  },
  {
   "cell_type": "markdown",
   "metadata": {},
   "source": [
    "**Calculate pair distances and energy statistics**\n",
    "\n",
    "Force statistics not calculated for longer MD trajectories."
   ]
  },
  {
   "cell_type": "code",
   "execution_count": 22,
   "metadata": {},
   "outputs": [
    {
     "ename": "KeyboardInterrupt",
     "evalue": "",
     "output_type": "error",
     "traceback": [
      "\u001b[0;31m---------------------------------------------------------------------------\u001b[0m",
      "\u001b[0;31mKeyboardInterrupt\u001b[0m                         Traceback (most recent call last)",
      "\u001b[0;32m<ipython-input-22-ba0db5b6419e>\u001b[0m in \u001b[0;36m<module>\u001b[0;34m()\u001b[0m\n\u001b[1;32m     27\u001b[0m     \u001b[0mstats_dict\u001b[0m \u001b[0;34m=\u001b[0m \u001b[0;34m{\u001b[0m\u001b[0;34m'energy'\u001b[0m\u001b[0;34m:\u001b[0m\u001b[0;34m[\u001b[0m\u001b[0;34m]\u001b[0m\u001b[0;34m}\u001b[0m\u001b[0;34m\u001b[0m\u001b[0m\n\u001b[1;32m     28\u001b[0m     \u001b[0;32mfor\u001b[0m \u001b[0mxyz\u001b[0m\u001b[0;34m,\u001b[0m \u001b[0mbox\u001b[0m \u001b[0;32min\u001b[0m \u001b[0mzip\u001b[0m\u001b[0;34m(\u001b[0m\u001b[0mtraj\u001b[0m\u001b[0;34m[\u001b[0m\u001b[0;34m'xyz'\u001b[0m\u001b[0;34m]\u001b[0m\u001b[0;34m,\u001b[0m \u001b[0mtraj\u001b[0m\u001b[0;34m[\u001b[0m\u001b[0;34m'box'\u001b[0m\u001b[0;34m]\u001b[0m\u001b[0;34m)\u001b[0m\u001b[0;34m:\u001b[0m\u001b[0;34m\u001b[0m\u001b[0m\n\u001b[0;32m---> 29\u001b[0;31m         \u001b[0mrr\u001b[0m\u001b[0;34m,\u001b[0m \u001b[0mrx\u001b[0m \u001b[0;34m=\u001b[0m \u001b[0mpair_dist\u001b[0m\u001b[0;34m(\u001b[0m\u001b[0mxyz\u001b[0m\u001b[0;34m,\u001b[0m \u001b[0mbox\u001b[0m\u001b[0;34m)\u001b[0m\u001b[0;34m\u001b[0m\u001b[0m\n\u001b[0m\u001b[1;32m     30\u001b[0m \u001b[0;34m\u001b[0m\u001b[0m\n\u001b[1;32m     31\u001b[0m         \u001b[0ma1\u001b[0m\u001b[0;34m,\u001b[0m \u001b[0mar\u001b[0m\u001b[0;34m,\u001b[0m \u001b[0ma2\u001b[0m\u001b[0;34m,\u001b[0m \u001b[0mf1\u001b[0m\u001b[0;34m,\u001b[0m \u001b[0mfr\u001b[0m\u001b[0;34m,\u001b[0m \u001b[0mf2\u001b[0m \u001b[0;34m=\u001b[0m \u001b[0mget_stats_EAM\u001b[0m\u001b[0;34m(\u001b[0m\u001b[0mrr\u001b[0m\u001b[0;34m,\u001b[0m \u001b[0mrx\u001b[0m\u001b[0;34m,\u001b[0m \u001b[0msc\u001b[0m\u001b[0;34m)\u001b[0m\u001b[0;34m\u001b[0m\u001b[0m\n",
      "\u001b[0;32m<ipython-input-12-b1f0198f40fa>\u001b[0m in \u001b[0;36mpair_dist\u001b[0;34m(xyz, box)\u001b[0m\n\u001b[1;32m     21\u001b[0m         \u001b[0;32mfor\u001b[0m \u001b[0mj\u001b[0m\u001b[0;34m,\u001b[0m \u001b[0mpb\u001b[0m \u001b[0;32min\u001b[0m \u001b[0menumerate\u001b[0m\u001b[0;34m(\u001b[0m\u001b[0mxyz\u001b[0m\u001b[0;34m)\u001b[0m\u001b[0;34m:\u001b[0m\u001b[0;34m\u001b[0m\u001b[0m\n\u001b[1;32m     22\u001b[0m             \u001b[0mdp\u001b[0m \u001b[0;34m=\u001b[0m \u001b[0mpa\u001b[0m \u001b[0;34m-\u001b[0m \u001b[0mpb\u001b[0m\u001b[0;34m\u001b[0m\u001b[0m\n\u001b[0;32m---> 23\u001b[0;31m             \u001b[0mdp\u001b[0m \u001b[0;34m=\u001b[0m \u001b[0mnp\u001b[0m\u001b[0;34m.\u001b[0m\u001b[0mwhere\u001b[0m\u001b[0;34m(\u001b[0m\u001b[0mdp\u001b[0m \u001b[0;34m<\u001b[0m \u001b[0;34m-\u001b[0m\u001b[0;36m0.5\u001b[0m\u001b[0;34m,\u001b[0m \u001b[0mdp\u001b[0m \u001b[0;34m+\u001b[0m \u001b[0;36m1.0\u001b[0m\u001b[0;34m,\u001b[0m \u001b[0mdp\u001b[0m\u001b[0;34m)\u001b[0m\u001b[0;34m\u001b[0m\u001b[0m\n\u001b[0m\u001b[1;32m     24\u001b[0m             \u001b[0mdp\u001b[0m \u001b[0;34m=\u001b[0m \u001b[0mnp\u001b[0m\u001b[0;34m.\u001b[0m\u001b[0mwhere\u001b[0m\u001b[0;34m(\u001b[0m\u001b[0mdp\u001b[0m \u001b[0;34m>\u001b[0m  \u001b[0;36m0.5\u001b[0m\u001b[0;34m,\u001b[0m \u001b[0mdp\u001b[0m \u001b[0;34m-\u001b[0m \u001b[0;36m1.0\u001b[0m\u001b[0;34m,\u001b[0m \u001b[0mdp\u001b[0m\u001b[0;34m)\u001b[0m\u001b[0;34m\u001b[0m\u001b[0m\n\u001b[1;32m     25\u001b[0m \u001b[0;34m\u001b[0m\u001b[0m\n",
      "\u001b[0;31mKeyboardInterrupt\u001b[0m: "
     ]
    }
   ],
   "source": [
    "sc = [2.56, 2.73, 3.252, 3.804, 4.20, 4.77]\n",
    "weights = [1.0 for _ in range(len(trajectories))]\n",
    "\n",
    "stats_data = {}\n",
    "target_data = {}\n",
    "\n",
    "for di, (traj, weight) in enumerate(zip(trajectories, weights)):\n",
    "    \n",
    "    # target data\n",
    "    target_dict = {'type':'trajectory', 'weight':weight}\n",
    "    target_dict['box'] = traj['box']\n",
    "    target_dict['xyz'] = traj['xyz']\n",
    "    target_dict['energy'] = traj['energy']\n",
    "    target_dict['temp'] = traj['temp']\n",
    "\n",
    "    # save inverse temperature data (if T=0, set beta=1/300)\n",
    "    target_dict['beta'] = np.empty_like(target_dict['temp'])\n",
    "    for i, temp in enumerate(target_dict['temp']):\n",
    "        if temp == 0.0:\n",
    "            target_dict['beta'][i] = 1.0/300.0\n",
    "        else:\n",
    "            target_dict['beta'][i] = 1.0/temp\n",
    "            \n",
    "    target_data['dset'+str(di)] = target_dict\n",
    "\n",
    "    # statistics data\n",
    "    stats_dict = {'energy':[]}\n",
    "    for xyz, box in zip(traj['xyz'], traj['box']):\n",
    "        rr, rx = pair_dist(xyz, box)\n",
    "        \n",
    "        a1, ar, a2, f1, fr, f2 = get_stats_EAM(rr, rx, sc)\n",
    "        #print(xyz.shape, box)\n",
    "        #print('x', a1.shape, rr.shape, np.sum(np.abs(a1)))\n",
    "\n",
    "        stats_dict['energy'].append(np.array([ar, a2, a1]))\n",
    "        #stats_dict['forces'].append(np.array([fr, f2, f1]))\n",
    "               # add dataset\n",
    "            \n",
    "    stats_data['dset'+str(di)] = stats_dict\n",
    "    print('dataset #', di)\n",
    "\n",
    "# pickle stats and target data to be used for optimization\n",
    "with open('../../../data/working/target_2.pickle', 'wb') as fo:\n",
    "    pickle.dump(target_data, fo)\n",
    "\n",
    "with open('../../../data/working/stats_2.pickle', 'wb') as fo:\n",
    "    pickle.dump(stats_data, fo)"
   ]
  },
  {
   "cell_type": "markdown",
   "metadata": {},
   "source": [
    "Make combined reference datasets"
   ]
  }
 ],
 "metadata": {
  "kernelspec": {
   "display_name": "Python 3",
   "language": "python",
   "name": "python3"
  },
  "language_info": {
   "codemirror_mode": {
    "name": "ipython",
    "version": 3
   },
   "file_extension": ".py",
   "mimetype": "text/x-python",
   "name": "python",
   "nbconvert_exporter": "python",
   "pygments_lexer": "ipython3",
   "version": "3.6.1"
  }
 },
 "nbformat": 4,
 "nbformat_minor": 2
}
