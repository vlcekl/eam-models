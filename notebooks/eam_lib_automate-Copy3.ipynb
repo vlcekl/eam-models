{
 "cells": [
  {
   "cell_type": "code",
   "execution_count": 1,
   "metadata": {
    "collapsed": true
   },
   "outputs": [],
   "source": [
    "import os\n",
    "import sys\n",
    "import re\n",
    "import numpy as np\n",
    "%matplotlib inline\n",
    "import matplotlib.pyplot as plt\n",
    "import copy\n",
    "import pickle\n",
    "from scipy.optimize import fmin"
   ]
  },
  {
   "cell_type": "code",
   "execution_count": 2,
   "metadata": {
    "collapsed": true
   },
   "outputs": [],
   "source": [
    "%load_ext autoreload\n",
    "%autoreload 2"
   ]
  },
  {
   "cell_type": "code",
   "execution_count": 3,
   "metadata": {
    "collapsed": true
   },
   "outputs": [],
   "source": [
    "sys.path.append('../../statmechlib')\n",
    "from statmechlib.read_write import read_vasp\n",
    "from statmechlib.preprocessing import Trajectory, select_nodes, scale_configuration, pair_dist_cutoff\n",
    "from statmechlib.preprocessing import pair_dist, force_targ, get_stats_EAM, get_stats_EAM_pairdist\n",
    "from statmechlib.forcefields import sd2_loss, utot_EAM, ftot_EAM, udif_print, u_core\n",
    "from statmechlib.preprocessing import universal_eos"
   ]
  },
  {
   "cell_type": "code",
   "execution_count": 4,
   "metadata": {
    "collapsed": true
   },
   "outputs": [],
   "source": [
    "target_raw = '../data/target_raw'\n",
    "target_proc = '../data/target_processed'\n",
    "working = '../data/working'"
   ]
  },
  {
   "cell_type": "code",
   "execution_count": 5,
   "metadata": {
    "collapsed": true
   },
   "outputs": [],
   "source": [
    "n = int((1.45-0.85)/0.05 + 0.01)\n",
    "reos = np.linspace(0.85, 1.45, n+1)*2.74\n",
    "#for i, scale in enumerate(np.linspace(0.85, 1.45, 13)):\n",
    "#    print(round(reos[i], 3), universal_eos(scale, 'W'))"
   ]
  },
  {
   "cell_type": "code",
   "execution_count": 6,
   "metadata": {
    "collapsed": true
   },
   "outputs": [],
   "source": [
    "with open(os.path.join(working, 'stats_ready'+'.pickle'), 'rb') as fi:\n",
    "    stats_ready = pickle.load(fi)\n",
    "\n",
    "with open(os.path.join(working, 'target_ready'+'.pickle'), 'rb') as fi:\n",
    "    targ_ready = pickle.load(fi)   "
   ]
  },
  {
   "cell_type": "code",
   "execution_count": 7,
   "metadata": {},
   "outputs": [
    {
     "name": "stdout",
     "output_type": "stream",
     "text": [
      "[2.5, 2.65, 2.75, 3.0, 3.25, 3.5, 3.75, 4.0, 4.25, 4.356, 4.5, 4.75, 5.0, 5.25, 5.5, 5.75]\n"
     ]
    }
   ],
   "source": [
    "print(stats_ready['hyperparams'])"
   ]
  },
  {
   "cell_type": "code",
   "execution_count": 8,
   "metadata": {
    "collapsed": true
   },
   "outputs": [],
   "source": [
    "multi_index = []\n",
    "multi_index.append([0, 2, 3, 5, 7, 10, 12, 15])\n",
    "multi_index.append([0, 2, 4, 6, 8, 10, 12, 14])\n",
    "multi_index.append([0, 2, 4, 6, 8, 11, 13, 15])\n",
    "multi_index.append([1, 2, 3, 5, 7, 10, 12, 14])\n",
    "multi_index.append([1, 2, 4, 6, 8, 11, 13, 15])\n",
    "multi_index.append([1, 2, 4, 6, 9, 11, 13, 15])\n",
    "multi_index.append([1, 3, 5, 7, 9, 11, 13, 15])"
   ]
  },
  {
   "cell_type": "code",
   "execution_count": 9,
   "metadata": {},
   "outputs": [
    {
     "name": "stdout",
     "output_type": "stream",
     "text": [
      "[2.5  2.75 3.   3.5  4.   4.5  5.   5.75]\n",
      "[2.5  2.75 3.25 3.75 4.25 4.5  5.   5.5 ]\n",
      "[2.5  2.75 3.25 3.75 4.25 4.75 5.25 5.75]\n",
      "[2.65 2.75 3.   3.5  4.   4.5  5.   5.5 ]\n",
      "[2.65 2.75 3.25 3.75 4.25 4.75 5.25 5.75]\n",
      "[2.65  2.75  3.25  3.75  4.356 4.75  5.25  5.75 ]\n",
      "[2.65  3.    3.5   4.    4.356 4.75  5.25  5.75 ]\n"
     ]
    }
   ],
   "source": [
    "stats_opts = []\n",
    "for index in multi_index:\n",
    "    index = np.array([True if i in index else False for i in range(len(stats_ready['hyperparams']))])\n",
    "    print(np.array(stats_ready['hyperparams'])[index])\n",
    "    stats_opts.append(select_nodes(stats_ready, index))"
   ]
  },
  {
   "cell_type": "code",
   "execution_count": 10,
   "metadata": {
    "collapsed": true
   },
   "outputs": [],
   "source": [
    "#with open(os.path.join(working, \"stats_multi.pickle\"), 'wb') as fo:\n",
    "#    pickle.dump(stats_opts, fo)"
   ]
  },
  {
   "cell_type": "code",
   "execution_count": 11,
   "metadata": {
    "collapsed": true
   },
   "outputs": [],
   "source": [
    "#with open(os.path.join(working, \"target_multi.pickle\"), 'wb') as fo:\n",
    "#    pickle.dump(targ_ready, fo)"
   ]
  },
  {
   "cell_type": "code",
   "execution_count": 12,
   "metadata": {},
   "outputs": [
    {
     "name": "stdout",
     "output_type": "stream",
     "text": [
      "[-0.344540412587315, 1.6869558429105695e-05, 0.4527535290774057, 7.091857873610367, 1.6314949612839302, 0.7906877956550405, -0.8249673243680319, 0.14501087706040938, -0.002061634677032549, 0.0021894588902290147]\n"
     ]
    }
   ],
   "source": [
    "# read corresponding parameters\n",
    "with open(os.path.join(working, 'pars_in'+'.pickle'), 'rb') as fi:\n",
    "    pars_dict = pickle.load(fi)\n",
    "\n",
    "pars_in = pars_dict['embed'] + pars_dict['pair']\n",
    "print(pars_in)"
   ]
  },
  {
   "cell_type": "code",
   "execution_count": 13,
   "metadata": {
    "collapsed": true
   },
   "outputs": [],
   "source": [
    "with open(os.path.join(working, 'stats_multi.pickle'), 'rb') as fi:\n",
    "    stats_opts = pickle.load(fi)\n",
    "\n",
    "with open(os.path.join(working, 'target_multi.pickle'), 'rb') as fi:\n",
    "    targ_ready = pickle.load(fi)   "
   ]
  },
  {
   "cell_type": "code",
   "execution_count": 14,
   "metadata": {
    "collapsed": true
   },
   "outputs": [],
   "source": [
    "it = 3 # read in it (independent process)\n",
    "stats = []\n",
    "target = []\n",
    "for key in list(targ_ready.keys()):\n",
    "    stats.append(stats_opts[it][key])\n",
    "    target.append(targ_ready[key])"
   ]
  },
  {
   "cell_type": "code",
   "execution_count": 18,
   "metadata": {
    "collapsed": true
   },
   "outputs": [],
   "source": [
    "def optimize_EAM(target, stats, ieam, multi_pars, n_b=3):\n",
    "    \n",
    "    optimal_parameters = []\n",
    "    \n",
    "    for i, pars in enumerate(multi_pars):\n",
    "        sd_ini = sd2_loss(list(pars), stats, target, utot_EAM, None, [ieam])\n",
    "        print(i,' sd2: ini', sd_ini, end='')\n",
    "        output = fmin(sd2_loss, pars, args=(stats, target, utot_EAM, None, [ieam]), maxiter=100000, maxfun=100000, disp=0, full_output=1,ftol=1e-6)\n",
    "        optimal_parameters.append(tuple([output[1], output[0]]))\n",
    "        print('sd2: final', output[1])\n",
    "\n",
    "    n_best = min(n_b, len(optimal_parameters))\n",
    "                 \n",
    "    best_params = sorted(optimal_parameters)[:n_best]\n",
    "    \n",
    "    print('Best params:', best_params)\n",
    "\n",
    "    return best_params"
   ]
  },
  {
   "cell_type": "code",
   "execution_count": 19,
   "metadata": {},
   "outputs": [
    {
     "name": "stdout",
     "output_type": "stream",
     "text": [
      "[-6.91255865e-01  8.28994717e-03 -6.56488584e+01  2.29864616e+01\n",
      " -3.44891701e+00  3.54173287e+00 -9.25417589e-01 -1.30156579e+00\n",
      "  1.11524882e+00 -2.75716548e-01]\n",
      "[-7.48321556e-01  4.05652558e-02 -6.58038923e+01  2.30111869e+01\n",
      " -3.46274746e+00  3.36317738e+00 -7.90392451e-01 -1.39549109e+00\n",
      "  1.28525684e+00 -4.76483487e-01]\n",
      "[-7.65209019e-01  5.10656271e-02 -6.57255725e+01  2.30157390e+01\n",
      " -3.52408252e+00  3.53717635e+00 -9.09735145e-01 -1.29891899e+00\n",
      "  1.29562923e+00 -3.40358213e-01]\n",
      "[-6.51143363e-01  5.94711298e-02 -6.56295348e+01  2.29681951e+01\n",
      " -3.53769082e+00  3.41526637e+00 -7.41026477e-01 -1.29934390e+00\n",
      "  1.34477108e+00 -2.74751407e-01]\n"
     ]
    }
   ],
   "source": [
    "multi_pars = []\n",
    "multi_pars.append(pars_in)\n",
    "multi_pars.append([-0.684229349, 0.000152487644, -65.6958142, 23.0194161, -3.48639263, 3.45615281, -0.88808358, -1.34315802, 1.24532843, -0.351200974])\n",
    "for _ in range(4):\n",
    "    pars = np.array(multi_pars[1])\n",
    "    pars += np.random.standard_normal(pars.shape)*0.07\n",
    "    print(pars)\n",
    "    multi_pars.append(pars)"
   ]
  },
  {
   "cell_type": "code",
   "execution_count": 20,
   "metadata": {},
   "outputs": [
    {
     "name": "stdout",
     "output_type": "stream",
     "text": [
      "ieam: 4\n",
      "0  sd2: ini 17.129938928250372sd2: final 0.014539605941428316\n",
      "1  sd2: ini 2.2207916571636064sd2: final 0.0023569208348085367\n",
      "2  sd2: ini 18.2783464230589sd2: final 0.002070141746130063\n",
      "3  sd2: ini 3.0823578671971537sd2: final 0.0010324581660740872\n",
      "4  sd2: ini 21.316788918023786sd2: final 0.00702445409916565\n",
      "5  sd2: ini 22.05810074684803sd2: final 0.0032112984324317415\n",
      "Best params: [(0.0010324581660740872, array([-6.24358338e-01,  4.51809236e-03, -1.77244558e+01,  2.35963552e+01,\n",
      "       -3.54057571e+00, -1.49129208e-01,  2.83580154e+00, -3.33374571e+00,\n",
      "        2.28319610e+00, -6.83735732e-01])), (0.002070141746130063, array([-2.63889058e-02,  7.09518580e-03,  4.62558508e+01, -3.38644823e+00,\n",
      "       -1.59497404e+01,  4.94089455e+00,  2.23292437e-02, -2.06087018e+00,\n",
      "        1.86812219e+00, -6.40459048e-01])), (0.0023569208348085367, array([-9.84254170e-01, -7.25382335e-05,  2.06164311e+01,  3.52804273e+01,\n",
      "       -1.44848026e+01,  4.11169526e+00,  8.76427064e-01, -1.99877624e+00,\n",
      "        1.77602141e+00, -6.07504561e-01]))]\n",
      "0  sd2: ini 0.0010324581660740872sd2: final 0.0005780960718480567\n",
      "1  sd2: ini 0.002070141746130063sd2: final 0.00036771091833270593\n",
      "2  sd2: ini 0.0023569208348085367sd2: final 0.0005300950148301431\n",
      "Best params: [(0.00036771091833270593, array([-2.62347441e+00, -2.06344057e-03, -8.85603079e+01,  1.03161513e+02,\n",
      "       -2.52833858e+01,  8.44198711e+00, -9.09954979e-01, -2.06826161e+00,\n",
      "        2.43864130e+00, -7.88910880e-01])), (0.0005300950148301431, array([-2.56471297e+00, -2.18714968e-03, -8.67021904e+01,  9.92352002e+01,\n",
      "       -1.99892030e+01,  5.87293559e+00,  1.16033563e-01, -2.04061192e+00,\n",
      "        2.17974351e+00, -7.08329771e-01])), (0.0005780960718480567, array([-1.55237077e+00,  2.55922789e-03, -2.86223400e+01,  3.64090912e+01,\n",
      "       -2.39249721e+00, -1.30059086e+00,  3.45802314e+00, -3.40841423e+00,\n",
      "        2.33762109e+00, -6.88148010e-01]))]\n",
      "0  sd2: ini 0.00036771091833270593sd2: final 0.00029994821351677964\n",
      "1  sd2: ini 0.0005300950148301431sd2: final 0.00017127758537068856\n",
      "2  sd2: ini 0.0005780960718480567sd2: final 0.00018971226236538883\n",
      "Best params: [(0.00017127758537068856, array([-2.81398004e+00, -1.92798121e-03, -8.39692893e+01,  9.77586315e+01,\n",
      "       -2.26114401e+01,  7.27959802e+00, -2.54648319e-01, -2.48651240e+00,\n",
      "        2.66378549e+00, -8.37508150e-01])), (0.00018971226236538883, array([-2.12539849e+00, -1.21594655e-04, -6.23123442e+01,  7.47357925e+01,\n",
      "       -1.53870011e+01,  4.19542275e+00,  9.59606790e-01, -2.59735902e+00,\n",
      "        2.36805763e+00, -7.42065369e-01])), (0.00029994821351677964, array([-2.26316172e+00, -1.15186278e-03, -7.54634367e+01,  8.96156797e+01,\n",
      "       -2.03989960e+01,  6.32726344e+00, -3.81459891e-02, -2.20893342e+00,\n",
      "        2.31047682e+00, -7.45044958e-01]))]\n",
      "0  sd2: ini 0.00017127758537068856sd2: final 9.365900045922967e-05\n",
      "1  sd2: ini 0.00018971226236538883sd2: final 0.00011610927721441341\n",
      "2  sd2: ini 0.00029994821351677964sd2: final 0.00020314510985545113\n",
      "Best params: [(9.365900045922967e-05, array([-2.48480746e+00, -7.18057048e-04, -6.85501479e+01,  8.05699716e+01,\n",
      "       -1.65967853e+01,  4.70763228e+00,  8.67440902e-01, -2.77790185e+00,\n",
      "        2.58845869e+00, -7.99374457e-01])), (0.00011610927721441341, array([-2.75223075e+00, -1.60752620e-03, -7.94489058e+01,  9.10018596e+01,\n",
      "       -1.85578493e+01,  5.45372119e+00,  5.49975926e-01, -2.65214954e+00,\n",
      "        2.59768628e+00, -8.06321539e-01])), (0.00020314510985545113, array([-2.05420606e+00,  1.47476101e-04, -5.90715811e+01,  7.09612066e+01,\n",
      "       -1.40275720e+01,  3.61590662e+00,  1.21386792e+00, -2.66411208e+00,\n",
      "        2.35072494e+00, -7.33042400e-01]))]\n",
      "0  sd2: ini 9.365900045922967e-05sd2: final 9.336436317176916e-05\n",
      "1  sd2: ini 0.00011610927721441341sd2: final 8.210331489473626e-05\n",
      "2  sd2: ini 0.00020314510985545113sd2: final 0.00020086432659111825\n",
      "Best params: [(8.210331489473626e-05, array([-2.71714889e+00, -1.12796340e-03, -7.26776798e+01,  8.44522573e+01,\n",
      "       -1.73107104e+01,  5.00392378e+00,  8.22033539e-01, -2.89341168e+00,\n",
      "        2.72812682e+00, -8.35796716e-01])), (9.336436317176916e-05, array([-2.45430850e+00, -6.25324404e-04, -6.74998384e+01,  7.95605750e+01,\n",
      "       -1.64330635e+01,  4.65094554e+00,  8.91312051e-01, -2.79059253e+00,\n",
      "        2.58927974e+00, -7.99327547e-01])), (0.00020086432659111825, array([-2.04072409e+00,  2.75150165e-04, -5.71533658e+01,  6.87047494e+01,\n",
      "       -1.30982538e+01,  3.21640717e+00,  1.40430675e+00, -2.73681419e+00,\n",
      "        2.36328413e+00, -7.33049420e-01]))]\n",
      "0  sd2: ini 8.210331489473626e-05sd2: final 8.204689562388774e-05\n",
      "1  sd2: ini 9.336436317176916e-05sd2: final 8.824396960551845e-05\n",
      "2  sd2: ini 0.00020086432659111825sd2: final 0.00012554737232133598\n",
      "Best params: [(8.204689562388774e-05, array([-2.72395542e+00, -1.13536800e-03, -7.28130255e+01,  8.45064551e+01,\n",
      "       -1.72870567e+01,  4.99268690e+00,  8.29401022e-01, -2.89697537e+00,\n",
      "        2.72924814e+00, -8.35719302e-01])), (8.824396960551845e-05, array([-2.47082579e+00, -5.13416265e-04, -6.55853229e+01,  7.70586170e+01,\n",
      "       -1.52052954e+01,  4.11470130e+00,  1.15655278e+00, -2.90143709e+00,\n",
      "        2.61921011e+00, -8.02366630e-01])), (0.00012554737232133598, array([-2.46214814e+00, -3.02824507e-04, -6.22129238e+01,  7.20310138e+01,\n",
      "       -1.21660376e+01,  2.75832728e+00,  1.78047141e+00, -3.08010288e+00,\n",
      "        2.61664752e+00, -7.91021369e-01]))]\n",
      "ieam: 5\n",
      "0  sd2: ini 9.302380494629169sd2: final 0.003018688727023159\n",
      "1  sd2: ini 8.211125186083663sd2: final 0.00020815975066091632\n",
      "2  sd2: ini 7.869604913868861sd2: final 0.0005794461742645134\n",
      "Best params: [(0.00020815975066091632, array([-2.08481448e+00, -3.70697044e-04, -8.00552050e+01,  8.66971902e+01,\n",
      "       -1.67045471e+01,  5.00788504e+00, -1.64063747e-02, -1.95461123e+00,\n",
      "        1.81636922e+00, -4.83729101e-01])), (0.0005794461742645134, array([-2.17395200e+00, -6.45148588e-04, -7.28086532e+01,  8.05327688e+01,\n",
      "       -1.04177589e+01,  2.53704116e+00,  1.30546502e+00, -2.41266953e+00,\n",
      "        1.91161021e+00, -4.84587151e-01])), (0.003018688727023159, array([-3.23360428e+00, -1.34935670e-03, -8.41797009e+01,  8.41125981e+01,\n",
      "        1.11822576e+00, -2.51571042e+00,  3.66896154e+00, -3.15298422e+00,\n",
      "        2.05084899e+00, -4.20324335e-01]))]\n",
      "0  sd2: ini 0.00020815975066091632sd2: final 8.434280247448687e-05\n",
      "1  sd2: ini 0.0005794461742645134sd2: final 9.623043989276462e-05\n",
      "2  sd2: ini 0.003018688727023159sd2: final 9.498747310450039e-05\n",
      "Best params: [(8.434280247448687e-05, array([-1.54768853e+00,  9.87591824e-05, -5.29584273e+01,  6.47034636e+01,\n",
      "       -1.26603986e+01,  3.16147927e+00,  9.29244240e-01, -2.34660922e+00,\n",
      "        1.87562132e+00, -5.16517234e-01])), (9.498747310450039e-05, array([-1.43051097e+00,  3.10574598e-04, -4.40479816e+01,  5.63251550e+01,\n",
      "       -1.16933829e+01,  2.83561776e+00,  1.22870465e+00, -2.76782066e+00,\n",
      "        2.14080512e+00, -5.87601665e-01])), (9.623043989276462e-05, array([-1.67166400e+00, -5.81075168e-06, -5.67867484e+01,  6.83585328e+01,\n",
      "       -1.32736512e+01,  3.42706543e+00,  7.77026476e-01, -2.25106553e+00,\n",
      "        1.84052466e+00, -5.02125518e-01]))]\n",
      "0  sd2: ini 8.434280247448687e-05sd2: final 8.281410341232927e-05\n",
      "1  sd2: ini 9.498747310450039e-05sd2: final 8.08473572411814e-05\n",
      "2  sd2: ini 9.623043989276462e-05sd2: final 9.412471487875535e-05\n",
      "Best params: [(8.08473572411814e-05, array([-1.30544494e+00,  3.61447366e-04, -4.22845935e+01,  5.44040154e+01,\n",
      "       -1.08280561e+01,  2.42591805e+00,  1.40245454e+00, -2.75601851e+00,\n",
      "        2.08719175e+00, -5.79346587e-01])), (8.281410341232927e-05, array([-1.60925613e+00,  5.54296047e-05, -5.45357984e+01,  6.61720751e+01,\n",
      "       -1.29016195e+01,  3.27305408e+00,  8.72299084e-01, -2.32958154e+00,\n",
      "        1.87980078e+00, -5.14900429e-01])), (9.412471487875535e-05, array([-1.59731346e+00,  5.36852899e-05, -5.45955045e+01,  6.60395332e+01,\n",
      "       -1.26165647e+01,  3.13127144e+00,  9.24405582e-01, -2.30670504e+00,\n",
      "        1.84629905e+00, -5.05699280e-01]))]\n",
      "0  sd2: ini 8.08473572411814e-05sd2: final 7.683490235090311e-05\n",
      "1  sd2: ini 8.281410341232927e-05sd2: final 8.22767386721832e-05\n",
      "2  sd2: ini 9.412471487875535e-05sd2: final 9.251060301572117e-05\n",
      "Best params: [(7.683490235090311e-05, array([-1.33398039e+00,  3.29733661e-04, -4.34751777e+01,  5.50464036e+01,\n",
      "       -1.03955407e+01,  2.21591255e+00,  1.47817080e+00, -2.72603014e+00,\n",
      "        2.04404626e+00, -5.64556684e-01])), (8.22767386721832e-05, array([-1.61311338e+00,  5.39826052e-05, -5.46800082e+01,  6.65629862e+01,\n",
      "       -1.32918531e+01,  3.44928785e+00,  7.92257949e-01, -2.31078312e+00,\n",
      "        1.88249162e+00, -5.16513883e-01])), (9.251060301572117e-05, array([-1.64641595e+00,  1.52128065e-05, -5.60596454e+01,  6.77226710e+01,\n",
      "       -1.32501895e+01,  3.41964602e+00,  7.87293277e-01, -2.26646480e+00,\n",
      "        1.84920815e+00, -5.05795313e-01]))]\n"
     ]
    },
    {
     "name": "stdout",
     "output_type": "stream",
     "text": [
      "0  sd2: ini 7.683490235090311e-05sd2: final 6.906148198131057e-05\n",
      "1  sd2: ini 8.22767386721832e-05sd2: final 7.83039240182581e-05\n",
      "2  sd2: ini 9.251060301572117e-05sd2: final 9.176270516399925e-05\n",
      "Best params: [(6.906148198131057e-05, array([-1.49696582e+00,  1.96343140e-04, -4.85964501e+01,  5.99985530e+01,\n",
      "       -1.13812945e+01,  2.63807581e+00,  1.23995977e+00, -2.58450271e+00,\n",
      "        1.99236194e+00, -5.44575276e-01])), (7.83039240182581e-05, array([-1.56940865e+00,  8.05979038e-05, -5.38761204e+01,  6.63565647e+01,\n",
      "       -1.38563177e+01,  3.71835801e+00,  6.84305105e-01, -2.31579850e+00,\n",
      "        1.91404246e+00, -5.30127183e-01])), (9.176270516399925e-05, array([-1.67940188e+00, -5.45263089e-06, -5.68188402e+01,  6.83909450e+01,\n",
      "       -1.33058239e+01,  3.44449184e+00,  7.72677917e-01, -2.26571545e+00,\n",
      "        1.85578347e+00, -5.06055104e-01]))]\n",
      "0  sd2: ini 6.906148198131057e-05sd2: final 6.848792216694233e-05\n",
      "1  sd2: ini 7.83039240182581e-05sd2: final 7.694365794352278e-05\n",
      "2  sd2: ini 9.176270516399925e-05sd2: final 7.722072629686652e-05\n",
      "Best params: [(6.848792216694233e-05, array([-1.45787931e+00,  2.16684816e-04, -4.79281091e+01,  5.94986409e+01,\n",
      "       -1.14066028e+01,  2.65052434e+00,  1.23741325e+00, -2.58445605e+00,\n",
      "        1.99224356e+00, -5.47329377e-01])), (7.694365794352278e-05, array([-1.60639657e+00,  6.42369002e-05, -5.42863862e+01,  6.63477869e+01,\n",
      "       -1.34423711e+01,  3.52890124e+00,  7.68107781e-01, -2.33533230e+00,\n",
      "        1.91023287e+00, -5.25016005e-01])), (7.722072629686652e-05, array([-1.54913225e+00,  1.39074538e-04, -5.06643744e+01,  6.16521757e+01,\n",
      "       -1.12254627e+01,  2.54577031e+00,  1.25076654e+00, -2.51606653e+00,\n",
      "        1.93557511e+00, -5.26076938e-01]))]\n",
      "ieam: 6\n",
      "0  sd2: ini 3.7565009952339588sd2: final 8.436617288183675e-05\n",
      "1  sd2: ini 6.204248789854058sd2: final 0.0001525252391984589\n",
      "2  sd2: ini 5.305951546556925sd2: final 0.00039977164508239597\n",
      "Best params: [(8.436617288183675e-05, array([-8.47668680e-01,  1.05603924e-04, -3.31173027e+01,  4.72133906e+01,\n",
      "       -9.43817870e+00,  1.84182655e+00,  1.58051140e+00, -2.45116289e+00,\n",
      "        1.50190737e+00, -3.62344305e-01])), (0.0001525252391984589, array([-7.94268634e-01,  1.15158653e-04, -3.63016616e+01,  5.16291554e+01,\n",
      "       -1.29425937e+01,  3.38001280e+00,  8.49844108e-01, -2.23926684e+00,\n",
      "        1.51331321e+00, -3.86868152e-01])), (0.00039977164508239597, array([-6.14698466e-01,  1.54742783e-04, -7.34452067e+01,  6.60839710e+01,\n",
      "       -1.07543502e+01,  2.44593720e+00,  1.30609719e+00, -2.52754797e+00,\n",
      "        1.68505528e+00, -4.52915102e-01]))]\n",
      "0  sd2: ini 8.436617288183675e-05sd2: final 8.013184185659246e-05\n",
      "1  sd2: ini 0.0001525252391984589sd2: final 8.105181857338259e-05\n",
      "2  sd2: ini 0.00039977164508239597sd2: final 9.120725722370196e-05\n",
      "Best params: [(8.013184185659246e-05, array([-8.60119919e-01,  1.02020442e-04, -3.39485384e+01,  4.68974515e+01,\n",
      "       -8.41617613e+00,  1.37588773e+00,  1.78458179e+00, -2.48375198e+00,\n",
      "        1.47797869e+00, -3.50514013e-01])), (8.105181857338259e-05, array([-9.04435538e-01,  9.17845485e-05, -3.44189199e+01,  4.73956458e+01,\n",
      "       -8.36936258e+00,  1.35260680e+00,  1.78332678e+00, -2.46152564e+00,\n",
      "        1.44980614e+00, -3.35478884e-01])), (9.120725722370196e-05, array([-6.67321106e-01,  1.57844102e-04, -3.02154293e+01,  4.24854679e+01,\n",
      "       -7.84357437e+00,  1.17413960e+00,  1.97838501e+00, -2.73949602e+00,\n",
      "        1.68242176e+00, -4.33620023e-01]))]\n",
      "0  sd2: ini 8.013184185659246e-05sd2: final 7.973741253150826e-05\n",
      "1  sd2: ini 8.105181857338259e-05sd2: final 8.09996799735314e-05\n",
      "2  sd2: ini 9.120725722370196e-05sd2: final 9.004289898401757e-05\n",
      "Best params: [(7.973741253150826e-05, array([-8.77512056e-01,  9.95598166e-05, -3.39183292e+01,  4.68259726e+01,\n",
      "       -8.33156018e+00,  1.34304002e+00,  1.80153384e+00, -2.49424000e+00,\n",
      "        1.47783296e+00, -3.47066129e-01])), (8.09996799735314e-05, array([-8.99483359e-01,  9.26927998e-05, -3.43596974e+01,  4.72974843e+01,\n",
      "       -8.29817926e+00,  1.31901265e+00,  1.79838913e+00, -2.46478400e+00,\n",
      "        1.45049452e+00, -3.36348298e-01])), (9.004289898401757e-05, array([-6.77088962e-01,  1.52103662e-04, -3.09372563e+01,  4.36099610e+01,\n",
      "       -8.42874158e+00,  1.43242561e+00,  1.84921432e+00, -2.68337326e+00,\n",
      "        1.66682419e+00, -4.30320033e-01]))]\n",
      "0  sd2: ini 7.973741253150826e-05sd2: final 7.973041506716716e-05\n",
      "1  sd2: ini 8.09996799735314e-05sd2: final 8.015935858374991e-05\n",
      "2  sd2: ini 9.004289898401757e-05sd2: final 7.940847600735083e-05\n",
      "Best params: [(7.940847600735083e-05, array([-8.42644185e-01,  1.12391676e-04, -3.29262353e+01,  4.56835886e+01,\n",
      "       -8.21863280e+00,  1.30671054e+00,  1.84354748e+00, -2.55817651e+00,\n",
      "        1.52524158e+00, -3.64327108e-01])), (7.973041506716716e-05, array([-8.75725718e-01,  9.99124652e-05, -3.39111438e+01,  4.68056909e+01,\n",
      "       -8.31696792e+00,  1.33546877e+00,  1.80458050e+00, -2.49425181e+00,\n",
      "        1.47760038e+00, -3.47279109e-01])), (8.015935858374991e-05, array([-8.76676275e-01,  9.89336111e-05, -3.40717888e+01,  4.71677814e+01,\n",
      "       -8.59785497e+00,  1.46348862e+00,  1.74586859e+00, -2.47963838e+00,\n",
      "        1.48010876e+00, -3.48885275e-01]))]\n",
      "0  sd2: ini 7.940847600735083e-05sd2: final 7.918461589255882e-05\n",
      "1  sd2: ini 7.973041506716716e-05sd2: final 7.972878841495888e-05\n",
      "2  sd2: ini 8.015935858374991e-05sd2: final 8.000362112412158e-05\n",
      "Best params: [(7.918461589255882e-05, array([-8.34007509e-01,  1.12345780e-04, -3.30856846e+01,  4.59252120e+01,\n",
      "       -8.32263313e+00,  1.35138656e+00,  1.82066475e+00, -2.54652170e+00,\n",
      "        1.52511950e+00, -3.66504320e-01])), (7.972878841495888e-05, array([-8.75602546e-01,  9.97263432e-05, -3.39197738e+01,  4.68140867e+01,\n",
      "       -8.30956970e+00,  1.33257959e+00,  1.80598571e+00, -2.49435791e+00,\n",
      "        1.47757360e+00, -3.47296487e-01])), (8.000362112412158e-05, array([-8.68680909e-01,  1.00973380e-04, -3.39873475e+01,  4.70017601e+01,\n",
      "       -8.51548543e+00,  1.42229789e+00,  1.76370442e+00, -2.48176591e+00,\n",
      "        1.47888226e+00, -3.49560190e-01]))]\n",
      "0  sd2: ini 7.918461589255882e-05sd2: final 7.907772778959742e-05\n",
      "1  sd2: ini 7.972878841495888e-05sd2: final 7.972738380947798e-05\n",
      "2  sd2: ini 8.000362112412158e-05sd2: final 7.986740736980129e-05\n",
      "Best params: [(7.907772778959742e-05, array([-8.37261052e-01,  1.11684026e-04, -3.30352945e+01,  4.57647224e+01,\n",
      "       -8.14481098e+00,  1.27310208e+00,  1.85728646e+00, -2.55687626e+00,\n",
      "        1.52440213e+00, -3.65169502e-01])), (7.972738380947798e-05, array([-8.75891687e-01,  9.98506593e-05, -3.39161929e+01,  4.68067390e+01,\n",
      "       -8.31391525e+00,  1.33436174e+00,  1.80520432e+00, -2.49450487e+00,\n",
      "        1.47761508e+00, -3.47239660e-01])), (7.986740736980129e-05, array([-8.78691861e-01,  9.89477956e-05, -3.39881313e+01,  4.69081446e+01,\n",
      "       -8.34528284e+00,  1.34714740e+00,  1.79734211e+00, -2.48884962e+00,\n",
      "        1.47444509e+00, -3.46102809e-01]))]\n",
      "ieam: 7\n",
      "0  sd2: ini 3.420760375009486sd2: final 0.00018635081528661733\n",
      "1  sd2: ini 0.9870823718943482sd2: final 0.00021667215765860346\n",
      "2  sd2: ini 0.8657401504452743sd2: final 0.00012738345338488965\n",
      "Best params: [(0.00012738345338488965, array([-3.32158829e-01,  5.73217639e-05, -2.21732531e+01,  3.64616792e+01,\n",
      "       -8.37219365e+00,  1.47498867e+00,  1.84317646e+00, -2.50455138e+00,\n",
      "        1.45829632e+00, -3.92612729e-01])), (0.00018635081528661733, array([-5.56805741e-01,  3.67205883e-05, -2.26501316e+01,  4.03400126e+01,\n",
      "       -1.00491430e+01,  2.09179485e+00,  1.38730376e+00, -2.00855698e+00,\n",
      "        1.00585418e+00, -2.08883961e-01])), (0.00021667215765860346, array([-3.92737529e-01,  5.02597096e-05, -4.75987022e+01,  4.76347126e+01,\n",
      "       -6.64217768e+00,  7.21662582e-01,  2.13868335e+00, -2.53332174e+00,\n",
      "        1.37066605e+00, -3.42846171e-01]))]\n",
      "0  sd2: ini 0.00012738345338488965sd2: final 0.00012185599551470534\n",
      "1  sd2: ini 0.00018635081528661733sd2: final 0.0001379793131110583\n",
      "2  sd2: ini 0.00021667215765860346sd2: final 0.00010461192832069425\n",
      "Best params: [(0.00010461192832069425, array([-3.81531579e-01,  5.37869104e-05, -2.16411507e+01,  3.49157887e+01,\n",
      "       -6.56664094e+00,  6.49642242e-01,  2.19719990e+00, -2.53629440e+00,\n",
      "        1.36596315e+00, -3.46355373e-01])), (0.00012185599551470534, array([-2.86407932e-01,  6.21281234e-05, -2.22203704e+01,  3.52652949e+01,\n",
      "       -7.50651349e+00,  1.09007553e+00,  2.03531637e+00, -2.60290085e+00,\n",
      "        1.52372941e+00, -4.21391674e-01])), (0.0001379793131110583, array([-6.00597063e-01,  3.62706463e-05, -2.21175243e+01,  3.67702746e+01,\n",
      "       -7.01505277e+00,  8.24815181e-01,  2.03435619e+00, -2.28700829e+00,\n",
      "        1.04341487e+00, -1.92003283e-01]))]\n"
     ]
    },
    {
     "name": "stdout",
     "output_type": "stream",
     "text": [
      "0  sd2: ini 0.00010461192832069425sd2: final 9.980824768270997e-05\n",
      "1  sd2: ini 0.00012185599551470534sd2: final 0.00011299741284323516\n",
      "2  sd2: ini 0.0001379793131110583sd2: final 0.0001038516961615642\n",
      "Best params: [(9.980824768270997e-05, array([-4.20812866e-01,  5.13730405e-05, -2.06645266e+01,  3.34406288e+01,\n",
      "       -5.29294830e+00,  7.78609446e-02,  2.45313246e+00, -2.57966909e+00,\n",
      "        1.31322667e+00, -3.15423509e-01])), (0.0001038516961615642, array([-5.61709639e-01,  3.64607155e-05, -2.17563708e+01,  3.57499789e+01,\n",
      "       -5.29774368e+00,  1.16161692e-02,  2.38175929e+00, -2.32370645e+00,\n",
      "        1.03044580e+00, -1.97527747e-01])), (0.00011299741284323516, array([-3.03032574e-01,  6.27872198e-05, -2.05343109e+01,  3.27061311e+01,\n",
      "       -5.93401871e+00,  4.08578190e-01,  2.37115543e+00, -2.72812822e+00,\n",
      "        1.53158647e+00, -4.11908763e-01]))]\n",
      "0  sd2: ini 9.980824768270997e-05sd2: final 9.972111943687507e-05\n",
      "1  sd2: ini 0.0001038516961615642sd2: final 0.00010378764270483769\n",
      "2  sd2: ini 0.00011299741284323516sd2: final 9.911894572085881e-05\n",
      "Best params: [(9.911894572085881e-05, array([-4.57227635e-01,  4.67799778e-05, -2.14912608e+01,  3.49397925e+01,\n",
      "       -5.85048367e+00,  3.05540142e-01,  2.31537796e+00, -2.46858523e+00,\n",
      "        1.23279727e+00, -2.85151938e-01])), (9.972111943687507e-05, array([-4.18456907e-01,  5.13569170e-05, -2.08249395e+01,  3.36923543e+01,\n",
      "       -5.45667907e+00,  1.49958200e-01,  2.41869690e+00, -2.56883299e+00,\n",
      "        1.31456962e+00, -3.17176923e-01])), (0.00010378764270483769, array([-5.65063228e-01,  3.61991419e-05, -2.16857979e+01,  3.57054817e+01,\n",
      "       -5.28086769e+00,  7.71381769e-03,  2.38545676e+00, -2.32689858e+00,\n",
      "        1.02992814e+00, -1.96228258e-01]))]\n",
      "0  sd2: ini 9.911894572085881e-05sd2: final 9.874702432837546e-05\n",
      "1  sd2: ini 9.972111943687507e-05sd2: final 9.96913123802958e-05\n",
      "2  sd2: ini 0.00010378764270483769sd2: final 0.00010367980749604443\n",
      "Best params: [(9.874702432837546e-05, array([-4.56144787e-01,  4.70049258e-05, -2.13417379e+01,  3.46277876e+01,\n",
      "       -5.58336163e+00,  1.80298326e-01,  2.36998195e+00, -2.47763815e+00,\n",
      "        1.22780654e+00, -2.83289954e-01])), (9.96913123802958e-05, array([-4.17491560e-01,  5.13202164e-05, -2.09186564e+01,  3.38273433e+01,\n",
      "       -5.53411231e+00,  1.82795256e-01,  2.40193972e+00, -2.56139032e+00,\n",
      "        1.31322529e+00, -3.17432508e-01])), (0.00010367980749604443, array([-5.66813083e-01,  3.61876349e-05, -2.15264637e+01,  3.54460459e+01,\n",
      "       -5.08925749e+00, -7.78887646e-02,  2.42536867e+00, -2.33728691e+00,\n",
      "        1.02748456e+00, -1.94310529e-01]))]\n",
      "0  sd2: ini 9.874702432837546e-05sd2: final 9.861993246453789e-05\n",
      "1  sd2: ini 9.96913123802958e-05sd2: final 9.967513614414221e-05\n",
      "2  sd2: ini 0.00010367980749604443sd2: final 0.00010176443825490807\n",
      "Best params: [(9.861993246453789e-05, array([-4.58923810e-01,  4.68345673e-05, -2.13115285e+01,  3.46490074e+01,\n",
      "       -5.63830832e+00,  2.09525103e-01,  2.35933166e+00, -2.47972276e+00,\n",
      "        1.23014839e+00, -2.83167934e-01])), (9.967513614414221e-05, array([-4.19038563e-01,  5.11791858e-05, -2.09338386e+01,  3.38754325e+01,\n",
      "       -5.57167704e+00,  2.00575076e-01,  2.39395104e+00, -2.55934433e+00,\n",
      "        1.31244202e+00, -3.16861805e-01])), (0.00010176443825490807, array([-5.42624820e-01,  3.94093675e-05, -2.07524867e+01,  3.41360376e+01,\n",
      "       -4.53161773e+00, -3.08294605e-01,  2.55759361e+00, -2.42976075e+00,\n",
      "        1.08653922e+00, -2.15206938e-01]))]\n"
     ]
    }
   ],
   "source": [
    "for ieam in range(4, len(stats_opts[it]['hyperparams'])):\n",
    "    print('ieam:', ieam)\n",
    "    for i in range(6):\n",
    "        best_pars = optimize_EAM(target, stats, ieam, multi_pars)\n",
    "        multi_pars = [p[1] for p in best_pars]"
   ]
  },
  {
   "cell_type": "code",
   "execution_count": 88,
   "metadata": {},
   "outputs": [
    {
     "data": {
      "text/plain": [
       "[array([-2.46692536e+00, -7.07645876e-04, -1.92990197e+02,  5.43710332e+01,\n",
       "        -1.17019464e+01,  1.26314518e+00,  3.72747439e+00, -4.17045991e+00,\n",
       "         2.46942853e+00, -4.39168938e-01]),\n",
       " array([-1.39247738e+00,  1.45832318e-03, -1.22829256e+02,  3.89427039e+01,\n",
       "        -7.01985954e+00, -4.45624270e-01,  3.84825703e+00, -3.54791628e+00,\n",
       "         1.89469535e+00, -3.48857885e-01])]"
      ]
     },
     "execution_count": 88,
     "metadata": {},
     "output_type": "execute_result"
    }
   ],
   "source": [
    "multi_pars"
   ]
  },
  {
   "cell_type": "code",
   "execution_count": 109,
   "metadata": {
    "collapsed": true
   },
   "outputs": [],
   "source": [
    "optimal_parameters = [(0.00012508417047382345, [-9.42576521e-01,  7.61707891e-05, -1.05811358e+02,  3.61001559e+01,\n",
    "       -6.39102078e+00, -2.42484404e-02,  2.91284708e+00, -2.96955528e+00,\n",
    "        1.36061810e+00, -1.74782590e-01])]"
   ]
  },
  {
   "cell_type": "code",
   "execution_count": 111,
   "metadata": {},
   "outputs": [
    {
     "name": "stdout",
     "output_type": "stream",
     "text": [
      "5\n",
      "Targ: [-1139.2, -906.9778906249999, -1127.13044453125, -1136.3561554687499, -1136.7059554687498]\n",
      "Model: [-1138.8266939841988, -906.9937619544546, -1127.4182752746697, -1135.8062905361742, -1137.266187562031]\n",
      "[0.0390625  0.0462963  0.03937008 0.03875969 0.03875969]\n",
      "0 0.00012508417047382345\n"
     ]
    },
    {
     "data": {
      "text/plain": [
       "<matplotlib.legend.Legend at 0x16b94e3c8>"
      ]
     },
     "execution_count": 111,
     "metadata": {},
     "output_type": "execute_result"
    },
    {
     "data": {
      "image/png": "[encoded data removed]",
      "text/plain": [
       "<Figure size 1440x720 with 1 Axes>"
      ]
     },
     "metadata": {},
     "output_type": "display_data"
    }
   ],
   "source": [
    "plt.figure(figsize=(20,10))\n",
    "\n",
    "nat = np.array([len(x) for x in targ_ready['relax']['xyz']])[:-2]\n",
    "print(len(nat))\n",
    "\n",
    "for i, params_uopt in enumerate(optimal_parameters):\n",
    "\n",
    "    #print(params_uopt[1])\n",
    "\n",
    "    opti_out, targ_out = udif_print(params_uopt[1], stats, target, utot_EAM, [6])\n",
    "    plt.title('Selected configurations at 0K')\n",
    "    if i == 0:\n",
    "        print('Targ:', targ_out[-2][:-2])\n",
    "        print('Model:', opti_out[-2][:-2])\n",
    "\n",
    "        #nat = np.array([len(x) for x in targ_dict['relax']['xyz']])\n",
    "        print(len(np.array(targ_out[-2][:-2]))/nat)\n",
    "        plt.plot(np.array(targ_out[-2][:-2])/nat, 'o', label='target'+str(i), markersize=10)\n",
    "        \n",
    "    if params_uopt[0] > 0.6e-3:\n",
    "        continue\n",
    "    #if i != 10 and i != 12:\n",
    "    #    continue\n",
    "    print(i, params_uopt[0])\n",
    "\n",
    "        \n",
    "    #print('Opti:', [o for o in opti_out[-1][:-1]])\n",
    "    plt.plot(np.array([o for o in opti_out[-2][:-2]])/nat, 'x--', label='optimized '+str(i))\n",
    "#    else:\n",
    "#        plt.plot([o for o in opti_out[-1][:-1]], 'x--', label='optimized '+str(i))\n",
    "#        plt.plot(targ_out[-1][:-1], 'o', markersize=10)\n",
    "\n",
    "plt.xticks([0, 1, 2, 3, 4, 5, 6], ['BCC','FCC', 'vacancy','110','111','liq','inf'])\n",
    "plt.ylabel('Energy [eV]')\n",
    "#plt.ylim(-1145, -1136)\n",
    "#plt.ylim(-8.905, -8.7533)\n",
    "#plt.ylim(-8.9, -8.35)\n",
    "#plt.xlim(0, 4)\n",
    "\n",
    "plt.legend()"
   ]
  },
  {
   "cell_type": "code",
   "execution_count": 117,
   "metadata": {},
   "outputs": [
    {
     "name": "stdout",
     "output_type": "stream",
     "text": [
      "13\n",
      "Targ: [-271.8047221070888, -837.1711089986524, -1079.5267350307165, -1139.2, -1100.8887858645915, -1014.6561261471663, -909.2807161131147, -800.6633444635341, -697.0611202328876, -602.3043063713144, -517.7429994565125, -443.4032853774631, -378.657941519064]\n",
      "Model: [-281.37733694663257, -845.9460407503223, -1092.7697190794079, -1138.8266939841988, -1114.7206505786323, -1035.7211198916384, -923.999618205517, -806.9115530432476, -697.7972013279643, -606.2503503949613, -527.9752705111682, -456.7753817288233, -388.32212211751227]\n",
      "[0.1015625 0.1015625 0.1015625 0.1015625 0.1015625 0.1015625 0.1015625\n",
      " 0.1015625 0.1015625 0.1015625 0.1015625 0.1015625 0.1015625]\n",
      "0 0.00012508417047382345\n"
     ]
    },
    {
     "data": {
      "text/plain": [
       "<matplotlib.legend.Legend at 0x1168945c0>"
      ]
     },
     "execution_count": 117,
     "metadata": {},
     "output_type": "execute_result"
    },
    {
     "data": {
      "image/png": "[encoded data removed]",
      "text/plain": [
       "<Figure size 1440x720 with 1 Axes>"
      ]
     },
     "metadata": {},
     "output_type": "display_data"
    }
   ],
   "source": [
    "plt.figure(figsize=(20,10))\n",
    "\n",
    "nat = np.array([len(x) for x in targ_ready['eos']['xyz']])[1:]\n",
    "print(len(nat))\n",
    "\n",
    "for i, params_uopt in enumerate(optimal_parameters):\n",
    "\n",
    "    #print(params_uopt[1])\n",
    "\n",
    "    opti_out, targ_out = udif_print(params_uopt[1], stats, target, utot_EAM, [6])\n",
    "    plt.title('Selected configurations at 0K')\n",
    "    if i == 0:\n",
    "        print('Targ:', targ_out[-1][1:])\n",
    "        print('Model:', opti_out[-1][1:])\n",
    "\n",
    "        #nat = np.array([len(x) for x in targ_dict['relax']['xyz']])\n",
    "        print(len(np.array(targ_out[-1][1:]))/nat)\n",
    "        plt.plot(reos, np.array(targ_out[-1][1:])/nat, 'o', label='target'+str(i), markersize=10)\n",
    "        \n",
    "    if params_uopt[0] > 0.6e-3:\n",
    "        continue\n",
    "    #if i != 10 and i != 12:\n",
    "    #    continue\n",
    "    print(i, params_uopt[0])\n",
    "\n",
    "        \n",
    "    #print('Opti:', [o for o in opti_out[-1][:-1]])\n",
    "    plt.plot(reos, np.array([o for o in opti_out[-1][1:]])/nat, 'x--', label='optimized '+str(i))\n",
    "#    else:\n",
    "#        plt.plot([o for o in opti_out[-1][:-1]], 'x--', label='optimized '+str(i))\n",
    "#        plt.plot(targ_out[-1][:-1], 'o', markersize=10)\n",
    "\n",
    "#plt.xticks([0, 1, 2, 3, 4, 5, 6], ['BCC','FCC', 'vacancy','110','111','liq','inf'])\n",
    "plt.ylabel('Energy [eV]')\n",
    "#plt.ylim(-1145, -1136)\n",
    "#plt.ylim(-8.905, -8.7533)\n",
    "#plt.ylim(-8.9, -8.35)\n",
    "#plt.xlim(0, 4)\n",
    "\n",
    "plt.legend()"
   ]
  },
  {
   "cell_type": "code",
   "execution_count": 123,
   "metadata": {},
   "outputs": [
    {
     "name": "stdout",
     "output_type": "stream",
     "text": [
      "1138\n",
      "[8.890625 8.890625 8.890625 ... 8.890625 8.890625 8.890625]\n",
      "0 0.00012508417047382345\n"
     ]
    },
    {
     "data": {
      "text/plain": [
       "<matplotlib.legend.Legend at 0x17ab42b38>"
      ]
     },
     "execution_count": 123,
     "metadata": {},
     "output_type": "execute_result"
    },
    {
     "data": {
      "image/png": "[encoded data removed]",
      "text/plain": [
       "<Figure size 1440x720 with 1 Axes>"
      ]
     },
     "metadata": {},
     "output_type": "display_data"
    }
   ],
   "source": [
    "plt.figure(figsize=(20,10))\n",
    "\n",
    "nat = np.array([len(x) for x in targ_ready['md']['xyz']])[:]\n",
    "print(len(nat))\n",
    "\n",
    "for i, params_uopt in enumerate(optimal_parameters):\n",
    "\n",
    "    #print(params_uopt[1])\n",
    "\n",
    "    opti_out, targ_out = udif_print(params_uopt[1], stats, target, utot_EAM,[6])\n",
    "    plt.title('Selected configurations at 0K')\n",
    "    if i == 0:\n",
    "        #print('Targ:', targ_out[0][:])\n",
    "        #print('Model:', opti_out[0][:])\n",
    "\n",
    "        #nat = np.array([len(x) for x in targ_dict['relax']['xyz']])\n",
    "        print(len(np.array(targ_out[0][:]))/nat)\n",
    "        #plt.plot(np.array(targ_out[0][:])/nat, 'o', label='target'+str(i), markersize=10)\n",
    "        plt.plot(np.array(targ_out[0][:]), 'o', label='target'+str(i), markersize=2)\n",
    "\n",
    "        \n",
    "    if params_uopt[0] > 0.6e-3:\n",
    "        continue\n",
    "    #if i != 10 and i != 12:\n",
    "    #    continue\n",
    "    print(i, params_uopt[0])\n",
    "\n",
    "    #print('Opti:', [o for o in opti_out[-1][:-1]])\n",
    "    #plt.plot(np.array([o for o in opti_out[0][:]])/nat, 'x--', label='optimized '+str(i))\n",
    "    plt.plot(np.array([o for o in opti_out[0][:]]), '--', label='optimized '+str(i), lw=1.0)\n",
    "\n",
    "#    else:\n",
    "#        plt.plot([o for o in opti_out[-1][:-1]], 'x--', label='optimized '+str(i))\n",
    "#        plt.plot(targ_out[-1][:-1], 'o', markersize=10)\n",
    "\n",
    "#plt.xticks([0, 1, 2, 3, 4, 5, 6], ['BCC','FCC', 'vacancy','110','111','liq','inf'])\n",
    "plt.ylabel('Energy [eV]')\n",
    "#plt.ylim(-1145, -1136)\n",
    "#plt.ylim(-8.905, -8.533)\n",
    "#plt.ylim(-8.9, -8.35)\n",
    "\n",
    "plt.ylim(-1180,-700)\n",
    "plt.ylim(-1136,-1132)\n",
    "#plt.ylim(-1000,-900)\n",
    "\n",
    "plt.legend()"
   ]
  },
  {
   "cell_type": "code",
   "execution_count": 121,
   "metadata": {},
   "outputs": [
    {
     "name": "stdout",
     "output_type": "stream",
     "text": [
      "0 0.00012508417047382345 \n",
      " [-0.942576521, 7.61707891e-05, -105.811358, 36.1001559, -6.39102078, -0.0242484404, 2.91284708, -2.96955528, 1.3606181, -0.17478259]\n"
     ]
    }
   ],
   "source": [
    "for i, params_uopt in enumerate(optimal_parameters):\n",
    "    if params_uopt[0] > 1.1e-3:\n",
    "        continue\n",
    "    print(i, params_uopt[0], '\\n', params_uopt[1])"
   ]
  },
  {
   "cell_type": "code",
   "execution_count": 126,
   "metadata": {},
   "outputs": [
    {
     "data": {
      "text/plain": [
       "[2.65, 3.0, 3.5, 4.0, 4.356, 4.75, 5.25, 5.75]"
      ]
     },
     "execution_count": 126,
     "metadata": {},
     "output_type": "execute_result"
    }
   ],
   "source": [
    "stats_opt['hyperparams']"
   ]
  },
  {
   "cell_type": "code",
   "execution_count": 127,
   "metadata": {},
   "outputs": [
    {
     "data": {
      "text/plain": [
       "[2.5, 2.75, 3.0, 3.5, 4.0, 4.5, 5.0, 5.75]"
      ]
     },
     "execution_count": 127,
     "metadata": {},
     "output_type": "execute_result"
    }
   ],
   "source": [
    "stats_opts[it]['hyperparams']"
   ]
  },
  {
   "cell_type": "code",
   "execution_count": 128,
   "metadata": {
    "collapsed": true
   },
   "outputs": [],
   "source": [
    "pars_out = {}\n",
    "pars_out['pair_nodes'] = stats_opts[it]['hyperparams']\n",
    "pars_out['mb_node'] = 6\n",
    "pars_out['params'] = [optimal_parameters[0]]"
   ]
  },
  {
   "cell_type": "code",
   "execution_count": 129,
   "metadata": {
    "collapsed": true
   },
   "outputs": [],
   "source": [
    "optimal_list = []\n",
    "\n",
    "#with open(os.path.join(working, 'pars_out.pickle'), 'rb') as fi:\n",
    "#    optimal_list = pickle.load(fi)\n",
    "\n",
    "#if type(optimal_list) != list:\n",
    "#    optimal_list = [optimal_list]\n",
    "\n",
    "optimal_list.append(pars_out)\n",
    "\n",
    "with open(os.path.join(working, 'pars_out.pickle'), 'wb') as fo:\n",
    "    pickle.dump(optimal_list, fo)"
   ]
  },
  {
   "cell_type": "code",
   "execution_count": 130,
   "metadata": {
    "collapsed": true
   },
   "outputs": [],
   "source": [
    "with open(os.path.join(working, 'pars_out.pickle'), 'rb') as fi:\n",
    "    optimal_list = pickle.load(fi)"
   ]
  },
  {
   "cell_type": "code",
   "execution_count": 131,
   "metadata": {},
   "outputs": [
    {
     "data": {
      "text/plain": [
       "[{'pair_nodes': [2.5, 2.75, 3.0, 3.5, 4.0, 4.5, 5.0, 5.75],\n",
       "  'mb_node': 6,\n",
       "  'params': [(0.00012508417047382345,\n",
       "    [-0.942576521,\n",
       "     7.61707891e-05,\n",
       "     -105.811358,\n",
       "     36.1001559,\n",
       "     -6.39102078,\n",
       "     -0.0242484404,\n",
       "     2.91284708,\n",
       "     -2.96955528,\n",
       "     1.3606181,\n",
       "     -0.17478259])]}]"
      ]
     },
     "execution_count": 131,
     "metadata": {},
     "output_type": "execute_result"
    }
   ],
   "source": [
    "optimal_list"
   ]
  },
  {
   "cell_type": "code",
   "execution_count": 151,
   "metadata": {
    "collapsed": true
   },
   "outputs": [],
   "source": [
    "# Total pair potential\n",
    "pos = targ_ready['relax']['xyz'][0]\n",
    "bx = targ_ready['relax']['box'][0]\n",
    "rr, rx = pair_dist_cutoff(pos, bx, 5.5)"
   ]
  },
  {
   "cell_type": "code",
   "execution_count": 152,
   "metadata": {
    "collapsed": true
   },
   "outputs": [],
   "source": [
    "# embedding function\n",
    "F = lambda d, a: a[0]*d**0.5 + a[1]*d + a[2]*d**2\n",
    "\n",
    "V = lambda r, aa, cc: sum([a*(rc - r)**3 for a, rc in zip(aa, cc) if r < rc])\n",
    "\n",
    "# Cohesive potential (cubic splines - same form as V)\n",
    "phi = lambda r, aa, cc: sum([a*(rc - r)**3 for a, rc in zip(aa, cc) if r < rc])\n",
    "\n",
    "rho = lambda r, aa, kk: sum([a*(rk - r)**3 for a, rk in zip(aa, kk) if r < rk and r > 0.01])"
   ]
  },
  {
   "cell_type": "code",
   "execution_count": 153,
   "metadata": {},
   "outputs": [
    {
     "data": {
      "text/plain": [
       "[-0.942576521,\n",
       " 7.61707891e-05,\n",
       " -105.811358,\n",
       " 36.1001559,\n",
       " -6.39102078,\n",
       " -0.0242484404,\n",
       " 2.91284708,\n",
       " -2.96955528,\n",
       " 1.3606181,\n",
       " -0.17478259]"
      ]
     },
     "execution_count": 153,
     "metadata": {},
     "output_type": "execute_result"
    }
   ],
   "source": [
    "optimal_list[-1]['params'][0][1]"
   ]
  },
  {
   "cell_type": "code",
   "execution_count": 154,
   "metadata": {
    "collapsed": true
   },
   "outputs": [],
   "source": [
    "#optimal_parameters.append(tuple([output[1:], params_uopt]))\n",
    "pair_y = optimal_list[-1]['params'][0][1][2:]\n",
    "par = optimal_list[-1]['params'][0][1][:2]\n",
    "many_y = [par[0], 0.0, par[1]]\n",
    "V_x_r = optimal_list[-1]['pair_nodes'] #stats_opt['hyperparams']\n",
    "rho_x_r = [V_x_r[optimal_list[-1]['mb_node']]] #stats_opt['hyperparams'][4:5]\n",
    "rho_x_a = [1.0]"
   ]
  },
  {
   "cell_type": "code",
   "execution_count": 155,
   "metadata": {},
   "outputs": [
    {
     "data": {
      "text/plain": [
       "([-105.811358,\n",
       "  36.1001559,\n",
       "  -6.39102078,\n",
       "  -0.0242484404,\n",
       "  2.91284708,\n",
       "  -2.96955528,\n",
       "  1.3606181,\n",
       "  -0.17478259],\n",
       " [-0.942576521, 0.0, 7.61707891e-05],\n",
       " [2.5, 2.75, 3.0, 3.5, 4.0, 4.5, 5.0, 5.75],\n",
       " [5.0])"
      ]
     },
     "execution_count": 155,
     "metadata": {},
     "output_type": "execute_result"
    }
   ],
   "source": [
    "pair_y, many_y, V_x_r, rho_x_r"
   ]
  },
  {
   "cell_type": "code",
   "execution_count": 156,
   "metadata": {
    "collapsed": true
   },
   "outputs": [],
   "source": [
    "ene = []\n",
    "for a in np.linspace(0.5, 2.0, 101):\n",
    "    z = a*rr\n",
    "    u_pair = 0.5*np.sum([V(x, pair_y, V_x_r) for x in z.flatten() if x > 0.1])\n",
    "\n",
    "    u_many = 0.0\n",
    "    for i in range(z.shape[0]):\n",
    "        d = np.sum([phi(x, rho_x_a, rho_x_r) for x in z[i] if x > 0.1])\n",
    "        u_many += F(d, many_y)\n",
    "\n",
    "    ene.append([a, u_pair, u_many, u_pair+u_many])\n",
    "\n",
    "ene = np.array(ene)"
   ]
  },
  {
   "cell_type": "code",
   "execution_count": 157,
   "metadata": {},
   "outputs": [
    {
     "data": {
      "text/plain": [
       "Text(0,0.5,'U')"
      ]
     },
     "execution_count": 157,
     "metadata": {},
     "output_type": "execute_result"
    },
    {
     "data": {
      "image/png": "[encoded data removed]",
      "text/plain": [
       "<Figure size 432x288 with 1 Axes>"
      ]
     },
     "metadata": {},
     "output_type": "display_data"
    }
   ],
   "source": [
    "#plt.plot(ene[:,0], ene[:,1]/54, label='pair')\n",
    "#plt.plot(ene[:,0], ene[:,2]/54, label='manybody')\n",
    "plt.title('Equation of state (T=0K)')\n",
    "plt.plot(ene[:,0]*2.74, [universal_eos(x, 'W') for x in ene[:,0]], label='universal EOS')\n",
    "plt.plot(ene[:,0]*2.74, ene[:,3]/128, label='u-total')\n",
    "plt.hlines(0.0,0.5,6.0,lw=1)\n",
    "plt.legend()\n",
    "plt.xlim(2.0, 5.75)\n",
    "plt.ylim(-10,10)\n",
    "\n",
    "plt.xlabel('x')\n",
    "plt.ylabel(r'U')"
   ]
  },
  {
   "cell_type": "code",
   "execution_count": 39,
   "metadata": {
    "collapsed": true
   },
   "outputs": [],
   "source": [
    "rho_a = [1.0]\n",
    "rho_r = [stats_opt['hyperparams'][-1]]\n",
    "\n",
    "pair_a = pars_in1[2:]\n",
    "pair_r = stats_opt['hyperparams']\n",
    "\n",
    "many_a = [pars_in[0], 0.0, pars_in[1]]"
   ]
  },
  {
   "cell_type": "code",
   "execution_count": 40,
   "metadata": {},
   "outputs": [
    {
     "name": "stdout",
     "output_type": "stream",
     "text": [
      "rhomax: 768.0\n"
     ]
    }
   ],
   "source": [
    "# Ranges of densities and separations\n",
    "\n",
    "nr = 5000\n",
    "rcut = stats_opt['hyperparams'][-1]\n",
    "dr = rcut/nr\n",
    "\n",
    "rhomax = 12.0*phi(1.5, rho_a, rho_r)\n",
    "print('rhomax:', rhomax)\n",
    "#rhomax = 1000.0\n",
    "nrho = 5000\n",
    "drho = rhomax/nrho\n",
    "\n",
    "ri = 1.0\n",
    "ro = 2.0\n",
    "\n",
    "# W properties\n",
    "na = 74\n",
    "ma = 183.84\n",
    "lc = 3.1653\n",
    "alat = 'bcc'\n",
    "\n",
    "# System composition\n",
    "n_el = 1\n",
    "el_name = ['W']"
   ]
  },
  {
   "cell_type": "code",
   "execution_count": 41,
   "metadata": {
    "collapsed": true
   },
   "outputs": [],
   "source": [
    "def u_trans(r, unucl, ueq, ri=1.0, ro=2.0):\n",
    "    \"\"\"Transition between the core and equillibrium potentials\"\"\"\n",
    "    if r < ri:\n",
    "        return unucl\n",
    "    elif r < ro:\n",
    "        x = (ro + ri - 2*r)/(ro - ri)\n",
    "        eta = 3/16*x**5 - 5/8*x**3 + 15/16*x + 1/2\n",
    "        return ueq + eta*(unucl - ueq)\n",
    "    else:\n",
    "        return ueq"
   ]
  },
  {
   "cell_type": "code",
   "execution_count": 42,
   "metadata": {
    "collapsed": true
   },
   "outputs": [],
   "source": [
    "\n",
    "# prepare lists of values\n",
    "dens = np.linspace(0., rhomax-drho, nrho, endpoint=True)\n",
    "r = np.linspace(0., rcut-dr, nr, endpoint=True)\n",
    "r2 = np.linspace(0., rcut, 201)\n",
    "\n",
    "fembd = [F(d, many_a) for d in dens] # W\n",
    "edens = np.array([phi(x, rho_a, rho_r) for x in r])\n",
    "\n",
    "# 1. Cubic spline for r > r_o\n",
    "f_outer = [V(x, pair_a, pair_r) for i, x in enumerate(r)]\n",
    "# 2. Repulsive core for r < r_i (precalculate up to r_o)\n",
    "f_inner = [0.0] + [u_core(x) for x in r[1:]]\n",
    "# 3. Transition region for r_i < r < r_o\n",
    "fpair = [x*u_trans(x, f_inner[i], f_outer[i]) for i, x in enumerate(r)]\n",
    "#fpair = f_outer"
   ]
  },
  {
   "cell_type": "code",
   "execution_count": 708,
   "metadata": {
    "collapsed": true
   },
   "outputs": [],
   "source": [
    "# LAMMPS format\n",
    "pot_path = '../sim/potentials'\n",
    "\n",
    "with open(os.path.join(pot_path, 'W_lvnew.eam.fs'), 'w') as fo:\n",
    "    \n",
    "    # Comment section\n",
    "    fo.write('Comment 1\\n')\n",
    "    fo.write('Comment 2\\n')\n",
    "    fo.write('Comment 3\\n')\n",
    "    \n",
    "    # Number of elements\n",
    "    fo.write(f\"{n_el:5d} \")\n",
    "    for i in range(n_el):\n",
    "        fo.write(f\"{el_name[i]:2}\")\n",
    "    fo.write(\"\\n\")\n",
    "    \n",
    "    # number of grid points, step size, and cutoff\n",
    "    fo.write(f\"{nrho:5d}{drho:24.16e}{nr:5d}{dr:24.16e}{rcut:24.16e}\\n\")\n",
    "    \n",
    "    # atomic number, mass, lattice size, lattice type\n",
    "    fo.write(f\"{na:5d} {ma:14.4f} {lc:14.4f} {alat:10}\\n\")\n",
    "    \n",
    "    # Embeding function\n",
    "    for i in range(nrho//4):\n",
    "        fo.write(\"{0:20.12e}{1:20.12e}{2:20.12e}{3:20.12e}\\n\".format(*fembd[i*4:i*4+4]))\n",
    "    \n",
    "    # Electronic density\n",
    "    for i in range(nr//4):\n",
    "        fo.write(\"{0:20.12e}{1:20.12e}{2:20.12e}{3:20.12e}\\n\".format(*edens[i*4:i*4+4]))\n",
    "        \n",
    "    # Pair potential\n",
    "    for i in range(nr//4):\n",
    "        fo.write(\"{0:20.12e}{1:20.12e}{2:20.12e}{3:20.12e}\\n\".format(*fpair[i*4:i*4+4]))"
   ]
  },
  {
   "cell_type": "code",
   "execution_count": null,
   "metadata": {
    "collapsed": true
   },
   "outputs": [],
   "source": []
  }
 ],
 "metadata": {
  "kernelspec": {
   "display_name": "Python 3",
   "language": "python",
   "name": "python3"
  },
  "language_info": {
   "codemirror_mode": {
    "name": "ipython",
    "version": 3
   },
   "file_extension": ".py",
   "mimetype": "text/x-python",
   "name": "python",
   "nbconvert_exporter": "python",
   "pygments_lexer": "ipython3",
   "version": "3.6.1"
  }
 },
 "nbformat": 4,
 "nbformat_minor": 2
}
