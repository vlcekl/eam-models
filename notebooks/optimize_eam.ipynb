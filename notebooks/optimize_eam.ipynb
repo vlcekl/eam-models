{
 "cells": [
  {
   "cell_type": "code",
   "execution_count": 1,
   "metadata": {
    "collapsed": true
   },
   "outputs": [],
   "source": [
    "import os\n",
    "import sys\n",
    "import re\n",
    "import numpy as np\n",
    "%matplotlib inline\n",
    "import matplotlib.pyplot as plt\n",
    "import copy\n",
    "import pickle\n",
    "from scipy.optimize import fmin\n",
    "import multiprocessing as mp\n",
    "import functools"
   ]
  },
  {
   "cell_type": "code",
   "execution_count": 2,
   "metadata": {
    "collapsed": true
   },
   "outputs": [],
   "source": [
    "%load_ext autoreload\n",
    "%autoreload 2"
   ]
  },
  {
   "cell_type": "code",
   "execution_count": 3,
   "metadata": {},
   "outputs": [],
   "source": [
    "# statmech library setup\n",
    "sys.path.append('../../statmechlib')\n",
    "from statmechlib.preprocessing import Trajectory, select_nodes, scale_configuration, pair_dist_cutoff\n",
    "from statmechlib.forcefields import sd2_loss, utot_EAM_per_atom, utot_EAM_per_box, ftot_EAM, udif_print, u_core\n",
    "from statmechlib.preprocessing import universal_eos\n",
    "from statmechlib.preprocessing import pair_dist, force_targ, get_stats_EAM_per_atom, get_stats_EAM_per_box"
   ]
  },
  {
   "cell_type": "code",
   "execution_count": 4,
   "metadata": {
    "collapsed": true
   },
   "outputs": [],
   "source": [
    "target_raw = '../data/target_raw'\n",
    "target_proc = '../data/target_processed'\n",
    "working = '../data/working'"
   ]
  },
  {
   "cell_type": "code",
   "execution_count": 5,
   "metadata": {
    "collapsed": true
   },
   "outputs": [],
   "source": [
    "with open(os.path.join(working, 'stats_samples'+'.pickle'), 'rb') as fi:\n",
    "    stats_all = pickle.load(fi)\n",
    "\n",
    "with open(os.path.join(working, 'target_samples'+'.pickle'), 'rb') as fi:\n",
    "    targets = pickle.load(fi)   "
   ]
  },
  {
   "cell_type": "code",
   "execution_count": 6,
   "metadata": {},
   "outputs": [
    {
     "data": {
      "text/plain": [
       "{'pair': [2.74, 3.252, 3.804, 4.356, 4.908, 5.46],\n",
       " 'embed': [2.74, 3.252, 3.804, 4.356, 4.908, 5.46]}"
      ]
     },
     "execution_count": 6,
     "metadata": {},
     "output_type": "execute_result"
    }
   ],
   "source": [
    "# show all available spline knots\n",
    "stats_all['hyperparams']"
   ]
  },
  {
   "cell_type": "code",
   "execution_count": 7,
   "metadata": {},
   "outputs": [
    {
     "name": "stdout",
     "output_type": "stream",
     "text": [
      "pair: [2.74  3.252 3.804 4.356 4.908 5.46 ]\n",
      "multibody: [5.46]\n"
     ]
    }
   ],
   "source": [
    "# selecty spline knots\n",
    "pair_index = [0, 1, 2, 3, 4, 5]\n",
    "multibody_index = [5]\n",
    "\n",
    "p_ix = np.array([True if i in pair_index else False for i in range(len(stats_all['hyperparams']['pair']))])\n",
    "m_ix = np.array([True if i in multibody_index else False for i in range(len(stats_all['hyperparams']['embed']))])\n",
    "print(\"pair:\", np.array(stats_all['hyperparams']['pair'])[p_ix])\n",
    "print(\"multibody:\", np.array(stats_all['hyperparams']['embed'])[m_ix])\n",
    "\n",
    "stats = select_nodes(stats_all, p_ix, m_ix)"
   ]
  },
  {
   "cell_type": "code",
   "execution_count": 8,
   "metadata": {},
   "outputs": [
    {
     "name": "stdout",
     "output_type": "stream",
     "text": [
      "[{'embed': [-0.684229349, 0.000152487644], 'pair': [-65.6958142, 23.0194161, -3.48639263, 3.45615281, -0.88808358, -1.34315802]}]\n",
      "[-0.684229349, 0.000152487644, -65.6958142, 23.0194161, -3.48639263, 3.45615281, -0.88808358, -1.34315802]\n"
     ]
    }
   ],
   "source": [
    "# read corresponding parameters\n",
    "with open(os.path.join(working, 'pars_in'+'.pickle'), 'rb') as fi:\n",
    "    pars_list = pickle.load(fi)\n",
    "    \n",
    "pars_dict = pars_list[0]\n",
    "pars_in = pars_list[0]['embed'] + pars_list[0]['pair']\n",
    "print(pars_list)\n",
    "print(pars_in)"
   ]
  },
  {
   "cell_type": "code",
   "execution_count": 9,
   "metadata": {
    "collapsed": true
   },
   "outputs": [],
   "source": [
    "multi_pars = []\n",
    "\n",
    "multi_pars.append(pars_in)\n",
    "\n",
    "multi_pars.append([-1.48107607e+00, -2.11281591e-06, -7.75748552e+01,  1.23284902e+02,\n",
    "       -1.05876828e+02,  2.56371829e+01,  7.21885424e-01, -2.01549825e+00])\n",
    "\n",
    "multi_pars.append([ 4.21813176e+00,  1.28438711e-02,  7.18447209e+02,  2.79873504e+01,\n",
    "       -3.64063120e+01,  1.55668343e+01, -3.59671207e+00,  7.18079901e-02])\n",
    "\n",
    "multi_pars.append([-1.70284536e+00,  1.77584742e-03, -2.03091714e+02,  6.67172987e+02,\n",
    "       -1.39072153e+03,  7.95275451e+02, -2.44611978e+01,  5.09001525e+00])\n",
    "\n",
    "multi_pars.append([ 1.49705729e+00,  8.14531512e-03, -8.15988329e+02,  5.87519886e+02,\n",
    "       -1.01285873e+03,  5.10026120e+02, -1.11686150e+01,  1.51343754e+00])\n",
    "\n",
    "multi_pars.append([ 1.54864560e+00,  1.06062750e-02, -3.00996729e+02,  3.32437763e+02,\n",
    "       -3.39714171e+02,  9.93126859e+01, -2.04873166e+01,  1.12932344e+00])\n",
    "\n",
    "multi_pars.append([ 1.08153442e+00,  2.12340093e-03, -2.83828424e+02,  3.30196594e+02,\n",
    "       -3.61260411e+02,  1.30278313e+02, -3.12845720e+01,  2.97822976e+00])\n",
    "\n",
    "multi_pars.append([-1.84530425e+00, -2.18389467e-05, -1.46520729e+03,  1.16790147e+02,\n",
    "       -1.41528209e+02,  7.82448301e+01,  4.04340173e+00, -2.96638562e+00])"
   ]
  },
  {
   "cell_type": "code",
   "execution_count": 10,
   "metadata": {},
   "outputs": [],
   "source": [
    "targets['md']['weight'] = 1.0\n",
    "targets['relax']['weight'] = 20.0\n",
    "targets['eos_bcc']['weight'] = 1.0\n",
    "targets['eos_fcc']['weight'] = 0.1"
   ]
  },
  {
   "cell_type": "code",
   "execution_count": 11,
   "metadata": {
    "collapsed": true
   },
   "outputs": [],
   "source": [
    "def optimize_EAM_box_mp(pars, targets, stats, n_b=3):\n",
    "    \n",
    "    output = fmin(sd2_loss, pars, args=(targets, stats, utot_EAM_per_box), maxiter=100000, maxfun=100000, disp=0, full_output=1,ftol=1e-6)\n",
    "    \n",
    "    return tuple([output[1], output[0]])"
   ]
  },
  {
   "cell_type": "code",
   "execution_count": 12,
   "metadata": {
    "collapsed": true
   },
   "outputs": [],
   "source": [
    "def optimize_EAM_mp(pars, targets, stats, n_b=3):\n",
    "    \n",
    "    output = fmin(sd2_loss, pars, args=(targets, stats, utot_EAM_per_atom, 0.05, 0), maxiter=100000, maxfun=100000, disp=0, full_output=1,ftol=1e-6)\n",
    "        \n",
    "    return tuple([output[1], output[0]])"
   ]
  },
  {
   "cell_type": "code",
   "execution_count": 13,
   "metadata": {},
   "outputs": [
    {
     "name": "stdout",
     "output_type": "stream",
     "text": [
      "Initial params: [[-0.684229349, 0.000152487644, -65.6958142, 23.0194161, -3.48639263, 3.45615281, -0.88808358, -1.34315802], [-1.48107607, -2.11281591e-06, -77.5748552, 123.284902, -105.876828, 25.6371829, 0.721885424, -2.01549825], [4.21813176, 0.0128438711, 718.447209, 27.9873504, -36.406312, 15.5668343, -3.59671207, 0.0718079901], [-1.70284536, 0.00177584742, -203.091714, 667.172987, -1390.72153, 795.275451, -24.4611978, 5.09001525], [1.49705729, 0.00814531512, -815.988329, 587.519886, -1012.85873, 510.02612, -11.168615, 1.51343754], [1.5486456, 0.010606275, -300.996729, 332.437763, -339.714171, 99.3126859, -20.4873166, 1.12932344], [1.08153442, 0.00212340093, -283.828424, 330.196594, -361.260411, 130.278313, -31.284572, 2.97822976], [-1.84530425, -2.18389467e-05, -1465.20729, 116.790147, -141.528209, 78.2448301, 4.04340173, -2.96638562]]\n"
     ]
    },
    {
     "name": "stderr",
     "output_type": "stream",
     "text": [
      "../../statmechlib/statmechlib/forcefields/eam.py:313: RuntimeWarning: overflow encountered in exp\n",
      "  eee = np.exp(-uuu)\n",
      "../../statmechlib/statmechlib/forcefields/eam.py:313: RuntimeWarning: overflow encountered in exp\n",
      "  eee = np.exp(-uuu)\n",
      "../../statmechlib/statmechlib/forcefields/eam.py:313: RuntimeWarning: overflow encountered in exp\n",
      "  eee = np.exp(-uuu)\n"
     ]
    },
    {
     "name": "stdout",
     "output_type": "stream",
     "text": [
      "Best params: [(54.27503194288344, [-1.70284536, 0.00177584742, -203.091714, 667.172987, -1390.72153, 795.275451, -24.4611978, 5.09001525]), (54.240005743875294, [1.49705729, 0.00814531512, -815.988329, 587.519886, -1012.85873, 510.02612, -11.168615, 1.51343754]), (53.652934176378395, [4.21813176, 0.0128438711, 718.447209, 27.9873504, -36.406312, 15.5668343, -3.59671207, 0.0718079901]), (52.76251135140194, [-1.84530425, -2.18389467e-05, -1465.20729, 116.790147, -141.528209, 78.2448301, 4.04340173, -2.96638562]), (31.43827028572503, [1.5486456, 0.010606275, -300.996729, 332.437763, -339.714171, 99.3126859, -20.4873166, 1.12932344]), (25.837989712176896, [-0.684229349, 0.000152487644, -65.6958142, 23.0194161, -3.48639263, 3.45615281, -0.88808358, -1.34315802]), (24.219641050996596, [1.08153442, 0.00212340093, -283.828424, 330.196594, -361.260411, 130.278313, -31.284572, 2.97822976]), (22.418794500015203, [-1.48107607, -2.11281591e-06, -77.5748552, 123.284902, -105.876828, 25.6371829, 0.721885424, -2.01549825])]\n",
      "ieam: 0\n"
     ]
    },
    {
     "name": "stderr",
     "output_type": "stream",
     "text": [
      "../../statmechlib/statmechlib/forcefields/eam.py:313: RuntimeWarning: overflow encountered in exp\n",
      "  eee = np.exp(-uuu)\n"
     ]
    },
    {
     "name": "stdout",
     "output_type": "stream",
     "text": [
      "Iteration 0, best params: [(21.49103674809543, array([-6.24020579e-01,  1.56717189e-03,  2.12914997e+03,  5.29907587e+01,\n",
      "       -1.83396081e+02,  1.39102895e+02, -6.53209376e+01,  1.30808917e+01])), (12.948137956410331, array([-3.37767555e+00, -2.41504064e-04, -3.44242307e+02,  5.22793187e+02,\n",
      "       -2.91295935e+02,  1.13261398e+02, -3.09070851e+01,  3.63967294e+00])), (2.5117528035204297, array([ 1.05423357e+01, -1.15917861e-03,  2.34441193e+03,  4.00190251e+00,\n",
      "       -2.81073246e+01,  2.00710199e+01, -6.86369023e+00, -2.35523726e-02])), (1.8825081787049196, array([ 4.52460644e+00,  3.05226136e-03, -2.89542230e+02, -3.04754319e+01,\n",
      "       -1.18106235e+00,  6.57574358e+00, -1.41873562e+01,  3.48402045e+00])), (0.7229008781749824, array([-9.66863361e-01,  4.36568187e-04,  2.70931443e+02, -2.72593685e+01,\n",
      "       -6.80560615e+00,  1.94129659e+01, -1.71842182e+01,  4.79856519e+00])), (0.3640499760233485, array([-1.17116738e+00, -7.28802551e-04,  9.59493801e+01,  7.03810758e+00,\n",
      "        6.41745789e+00, -2.43621279e+00,  1.34009893e+00, -8.02133679e-02])), (0.06768739505754885, array([ 7.32766308e-01, -1.21562191e-04,  3.38774973e+01,  2.68429684e+00,\n",
      "        4.83027998e+00, -4.00871285e+00,  3.19385649e+00, -1.11017927e+00])), (0.01978212197866416, array([-4.86810861e-01, -1.07007415e-05,  1.36222082e+01, -5.10948371e-01,\n",
      "        3.81144573e+00, -2.83973203e+00,  1.31268287e+00, -2.80361424e-01]))]\n",
      "Iteration 1, best params: [(4.728335498161735, array([ 9.80842648e+00,  3.94446071e-03, -1.71924510e+03,  2.67360074e+01,\n",
      "        1.01429691e+01,  7.41131461e+01, -1.11266946e+02,  3.44560195e+01])), (1.2334374228000453, array([ 3.12236389e+01,  4.61726113e-03,  5.19501232e+02, -6.89813630e+01,\n",
      "       -2.68330282e+01,  6.06765094e+01, -4.19739696e+01,  3.90292699e+00])), (0.5707593504660375, array([ 3.70129234e+00,  1.35261847e-04,  1.35736481e+01, -1.24730920e+01,\n",
      "       -6.37077788e-02,  1.68194066e+01, -1.47557897e+01,  3.31100659e+00])), (0.49950057047458873, array([-4.40025545e+00, -2.92344581e-04,  2.98032711e+01, -1.47413166e+01,\n",
      "        1.81427971e+00,  1.33339439e+01, -1.63835348e+01,  5.86157398e+00])), (0.12188791376521237, array([ 4.32761191e+00,  4.61609265e-04, -2.82444468e+01,  3.14951756e+00,\n",
      "        3.18326506e+00, -6.63525540e+00,  7.35244917e+00, -3.24814091e+00])), (0.004926680092014298, array([-6.25143323e-01,  5.84930836e-05,  1.50461532e+01, -2.45628343e+00,\n",
      "        2.75468386e+00, -1.82522814e+00,  5.82628137e-01, -8.10352256e-02])), (0.00492668009053448, array([-6.25145409e-01,  5.84923406e-05,  1.50463777e+01, -2.45629314e+00,\n",
      "        2.75467070e+00, -1.82520477e+00,  5.82613180e-01, -8.10311588e-02])), (0.004926680089476894, array([-6.25140692e-01,  5.84917533e-05,  1.50464212e+01, -2.45627703e+00,\n",
      "        2.75468307e+00, -1.82521707e+00,  5.82624069e-01, -8.10349875e-02]))]\n",
      "Iteration 2, best params: [(4.223394106572107, array([-1.54903314e+01, -8.01775005e-04, -3.65017465e+02, -2.95827049e+01,\n",
      "       -1.09756333e+01,  9.77473302e+01, -1.11666201e+02,  3.72824623e+01])), (0.8547491072606463, array([ 6.57120496e+00,  1.31814898e-03,  2.05973081e+02, -4.16219052e+01,\n",
      "       -7.86452045e+00,  4.02162334e+01, -3.76208180e+01,  9.31453941e+00])), (0.52794526464536, array([-1.31127576e+00, -1.42760630e-04,  2.06848308e+01, -1.49262703e+01,\n",
      "        1.14342898e+00,  1.63619057e+01, -1.76072629e+01,  5.45341639e+00])), (0.12136832916235887, array([ 4.35108473e+00,  4.69148721e-04, -2.73057560e+01,  2.87297222e+00,\n",
      "        2.94920869e+00, -6.32778741e+00,  7.17288925e+00, -3.21426832e+00])), (0.022289415784953998, array([-2.14325221e+00, -3.89402199e-05,  1.91440174e+01, -4.04261206e+00,\n",
      "        3.07982802e+00, -9.69526182e-01, -1.23288443e+00,  8.45392059e-01])), (0.004926680091844913, array([-6.25142163e-01,  5.84927818e-05,  1.50462154e+01, -2.45628577e+00,\n",
      "        2.75468914e+00, -1.82522833e+00,  5.82628108e-01, -8.10354048e-02])), (0.00492668009053448, array([-6.25145409e-01,  5.84923406e-05,  1.50463777e+01, -2.45629314e+00,\n",
      "        2.75467070e+00, -1.82520477e+00,  5.82613180e-01, -8.10311588e-02])), (0.004926680089476894, array([-6.25140692e-01,  5.84917533e-05,  1.50464212e+01, -2.45627703e+00,\n",
      "        2.75468307e+00, -1.82521707e+00,  5.82624069e-01, -8.10349875e-02]))]\n",
      "Iteration 3, best params: [(0.854509077605951, array([ 6.67274587e+00,  1.31165023e-03,  2.12346203e+02, -4.17036105e+01,\n",
      "       -8.06139228e+00,  4.04141787e+01, -3.75769131e+01,  9.25816851e+00])), (0.027402923447662635, array([-2.52035797e+00, -7.85871252e-05,  2.43260165e+01, -4.52723274e+00,\n",
      "        2.96758507e+00, -4.00108737e-01, -1.86765534e+00,  1.11404432e+00])), (0.004926680094087156, array([-6.25130360e-01,  5.84923448e-05,  1.50464079e+01, -2.45625870e+00,\n",
      "        2.75468647e+00, -1.82523111e+00,  5.82641968e-01, -8.10426626e-02])), (0.004926680091844913, array([-6.25142163e-01,  5.84927818e-05,  1.50462154e+01, -2.45628577e+00,\n",
      "        2.75468914e+00, -1.82522833e+00,  5.82628108e-01, -8.10354048e-02])), (0.00492668009053448, array([-6.25145409e-01,  5.84923406e-05,  1.50463777e+01, -2.45629314e+00,\n",
      "        2.75467070e+00, -1.82520477e+00,  5.82613180e-01, -8.10311588e-02])), (0.004926680089855368, array([-6.25142142e-01,  5.84913064e-05,  1.50464094e+01, -2.45626280e+00,\n",
      "        2.75468787e+00, -1.82522369e+00,  5.82627978e-01, -8.10355039e-02])), (0.00492668008961606, array([-6.25145286e-01,  5.84915009e-05,  1.50464295e+01, -2.45628150e+00,\n",
      "        2.75468324e+00, -1.82521360e+00,  5.82618309e-01, -8.10322070e-02])), (0.004926680089476894, array([-6.25140692e-01,  5.84917533e-05,  1.50464212e+01, -2.45627703e+00,\n",
      "        2.75468307e+00, -1.82521707e+00,  5.82624069e-01, -8.10349875e-02]))]\n",
      "Iteration 4, best params: [(0.6291493080400297, array([ 1.13551223e+01,  2.18309818e-03,  4.38192906e+01, -9.08558893e+00,\n",
      "       -4.36097609e+00, -6.82563188e+00,  1.14387059e+01, -6.45820564e+00])), (0.004926680091844913, array([-6.25142163e-01,  5.84927818e-05,  1.50462154e+01, -2.45628577e+00,\n",
      "        2.75468914e+00, -1.82522833e+00,  5.82628108e-01, -8.10354048e-02])), (0.004926680090856931, array([-6.25129919e-01,  5.84923373e-05,  1.50463807e+01, -2.45625905e+00,\n",
      "        2.75468802e+00, -1.82523175e+00,  5.82642046e-01, -8.10427051e-02])), (0.00492668009053448, array([-6.25145409e-01,  5.84923406e-05,  1.50463777e+01, -2.45629314e+00,\n",
      "        2.75467070e+00, -1.82520477e+00,  5.82613180e-01, -8.10311588e-02])), (0.004926680089855368, array([-6.25142142e-01,  5.84913064e-05,  1.50464094e+01, -2.45626280e+00,\n",
      "        2.75468787e+00, -1.82522369e+00,  5.82627978e-01, -8.10355039e-02])), (0.00492668008961606, array([-6.25145286e-01,  5.84915009e-05,  1.50464295e+01, -2.45628150e+00,\n",
      "        2.75468324e+00, -1.82521360e+00,  5.82618309e-01, -8.10322070e-02])), (0.004926680089476894, array([-6.25140692e-01,  5.84917533e-05,  1.50464212e+01, -2.45627703e+00,\n",
      "        2.75468307e+00, -1.82521707e+00,  5.82624069e-01, -8.10349875e-02])), (0.004926680089210157, array([-6.25140612e-01,  5.84924686e-05,  1.50463356e+01, -2.45628080e+00,\n",
      "        2.75467959e+00, -1.82521768e+00,  5.82623873e-01, -8.10349686e-02]))]\n",
      "Iteration 5, best params: [(0.004926680091844913, array([-6.25142163e-01,  5.84927818e-05,  1.50462154e+01, -2.45628577e+00,\n",
      "        2.75468914e+00, -1.82522833e+00,  5.82628108e-01, -8.10354048e-02])), (0.00492668009053448, array([-6.25145409e-01,  5.84923406e-05,  1.50463777e+01, -2.45629314e+00,\n",
      "        2.75467070e+00, -1.82520477e+00,  5.82613180e-01, -8.10311588e-02])), (0.004926680090496129, array([-6.25129225e-01,  5.84923083e-05,  1.50463211e+01, -2.45625227e+00,\n",
      "        2.75468906e+00, -1.82523271e+00,  5.82642206e-01, -8.10427559e-02])), (0.004926680089855368, array([-6.25142142e-01,  5.84913064e-05,  1.50464094e+01, -2.45626280e+00,\n",
      "        2.75468787e+00, -1.82522369e+00,  5.82627978e-01, -8.10355039e-02])), (0.00492668008961606, array([-6.25145286e-01,  5.84915009e-05,  1.50464295e+01, -2.45628150e+00,\n",
      "        2.75468324e+00, -1.82521360e+00,  5.82618309e-01, -8.10322070e-02])), (0.004926680089476894, array([-6.25140692e-01,  5.84917533e-05,  1.50464212e+01, -2.45627703e+00,\n",
      "        2.75468307e+00, -1.82521707e+00,  5.82624069e-01, -8.10349875e-02])), (0.004926680089266897, array([-6.25139681e-01,  5.84923993e-05,  1.50463265e+01, -2.45627630e+00,\n",
      "        2.75468253e+00, -1.82522271e+00,  5.82628420e-01, -8.10364256e-02])), (0.004926680089210157, array([-6.25140612e-01,  5.84924686e-05,  1.50463356e+01, -2.45628080e+00,\n",
      "        2.75467959e+00, -1.82521768e+00,  5.82623873e-01, -8.10349686e-02]))]\n",
      "Final Best params: [(0.004926680091844913, array([-6.25142163e-01,  5.84927818e-05,  1.50462154e+01, -2.45628577e+00,\n",
      "        2.75468914e+00, -1.82522833e+00,  5.82628108e-01, -8.10354048e-02])), (0.00492668009053448, array([-6.25145409e-01,  5.84923406e-05,  1.50463777e+01, -2.45629314e+00,\n",
      "        2.75467070e+00, -1.82520477e+00,  5.82613180e-01, -8.10311588e-02])), (0.004926680090496129, array([-6.25129225e-01,  5.84923083e-05,  1.50463211e+01, -2.45625227e+00,\n",
      "        2.75468906e+00, -1.82523271e+00,  5.82642206e-01, -8.10427559e-02])), (0.004926680089855368, array([-6.25142142e-01,  5.84913064e-05,  1.50464094e+01, -2.45626280e+00,\n",
      "        2.75468787e+00, -1.82522369e+00,  5.82627978e-01, -8.10355039e-02])), (0.00492668008961606, array([-6.25145286e-01,  5.84915009e-05,  1.50464295e+01, -2.45628150e+00,\n",
      "        2.75468324e+00, -1.82521360e+00,  5.82618309e-01, -8.10322070e-02])), (0.004926680089476894, array([-6.25140692e-01,  5.84917533e-05,  1.50464212e+01, -2.45627703e+00,\n",
      "        2.75468307e+00, -1.82521707e+00,  5.82624069e-01, -8.10349875e-02])), (0.004926680089266897, array([-6.25139681e-01,  5.84923993e-05,  1.50463265e+01, -2.45627630e+00,\n",
      "        2.75468253e+00, -1.82522271e+00,  5.82628420e-01, -8.10364256e-02])), (0.004926680089210157, array([-6.25140612e-01,  5.84924686e-05,  1.50463356e+01, -2.45628080e+00,\n",
      "        2.75467959e+00, -1.82521768e+00,  5.82623873e-01, -8.10349686e-02]))]\n"
     ]
    }
   ],
   "source": [
    "pool = mp.Pool()\n",
    "\n",
    "for ieam in range(1):#5, len(stats_opts[it]['hyperparams'])):\n",
    "    \n",
    "    get_opt = functools.partial(optimize_EAM_mp, targets=targets, stats=stats, n_b=len(multi_pars))\n",
    "    \n",
    "    get_sd = functools.partial(sd2_loss, targets=targets, stats=stats, utot_func=utot_EAM_per_atom)\n",
    "  \n",
    "    # initial ordering\n",
    "    print('Initial params:', multi_pars)\n",
    "    \n",
    "    distances = pool.map(get_sd, multi_pars)\n",
    "    \n",
    "    optimal_params = zip(distances, multi_pars)\n",
    "    best_params = sorted(optimal_params, key=lambda param: param[0], reverse=True)\n",
    "    m_pars = [p[1] for p in best_params]\n",
    "\n",
    "    print('Best params:', best_params)\n",
    "    print('ieam:', ieam)\n",
    "    #m_pars = multi_pars\n",
    "\n",
    "    for i in range(6):\n",
    "        optimal_params = pool.map(get_opt, m_pars)\n",
    "        best_params = sorted(optimal_params, key=lambda param: param[0], reverse=True)\n",
    "        m_pars = [p[1] for p in best_params]\n",
    "        \n",
    "        print(f\"Iteration {i}, best params: {best_params}\")\n",
    "\n",
    "    print('Final Best params:', best_params)\n",
    "\n",
    "pool.close()\n",
    "pool.join()"
   ]
  },
  {
   "cell_type": "code",
   "execution_count": 14,
   "metadata": {},
   "outputs": [
    {
     "ename": "KeyError",
     "evalue": "0",
     "output_type": "error",
     "traceback": [
      "\u001b[0;31m---------------------------------------------------------------------------\u001b[0m",
      "\u001b[0;31mKeyError\u001b[0m                                  Traceback (most recent call last)",
      "\u001b[0;32m<ipython-input-14-31dc3e4e6ea3>\u001b[0m in \u001b[0;36m<module>\u001b[0;34m()\u001b[0m\n\u001b[0;32m----> 1\u001b[0;31m \u001b[0mlen\u001b[0m\u001b[0;34m(\u001b[0m\u001b[0mstats\u001b[0m\u001b[0;34m[\u001b[0m\u001b[0;36m0\u001b[0m\u001b[0;34m]\u001b[0m\u001b[0;34m)\u001b[0m\u001b[0;34m,\u001b[0m \u001b[0mtype\u001b[0m\u001b[0;34m(\u001b[0m\u001b[0mstats\u001b[0m\u001b[0;34m[\u001b[0m\u001b[0;36m0\u001b[0m\u001b[0;34m]\u001b[0m\u001b[0;34m)\u001b[0m\u001b[0;34m,\u001b[0m \u001b[0mlen\u001b[0m\u001b[0;34m(\u001b[0m\u001b[0mstats\u001b[0m\u001b[0;34m[\u001b[0m\u001b[0;36m0\u001b[0m\u001b[0;34m]\u001b[0m\u001b[0;34m[\u001b[0m\u001b[0;34m'energy'\u001b[0m\u001b[0;34m]\u001b[0m\u001b[0;34m[\u001b[0m\u001b[0;36m0\u001b[0m\u001b[0;34m]\u001b[0m\u001b[0;34m)\u001b[0m\u001b[0;34m\u001b[0m\u001b[0m\n\u001b[0m",
      "\u001b[0;31mKeyError\u001b[0m: 0"
     ]
    }
   ],
   "source": [
    "len(stats[0]), type(stats[0]), len(stats[0]['energy'][0])"
   ]
  },
  {
   "cell_type": "code",
   "execution_count": null,
   "metadata": {
    "collapsed": true
   },
   "outputs": [],
   "source": [
    "def optimize_EAM_per_atom(targets, stats, ieam, multi_pars, n_b=3):\n",
    "    \n",
    "    optimal_parameters = []\n",
    "    \n",
    "    for i, pars in enumerate(multi_pars):\n",
    "        sd_ini = sd2_loss(list(pars), stats, targets, utot_EAM_per_box, None, [ieam])\n",
    "        print(i,' sd2: ini', sd_ini, end='')\n",
    "        output = fmin(sd2_loss, pars, args=(stats, targets, utot_EAM_per_box, None, [ieam]), maxiter=100000, maxfun=100000, disp=0, full_output=1,ftol=1e-6)\n",
    "        optimal_parameters.append(tuple([output[1], output[0]]))\n",
    "        print('sd2: final', output[1])\n",
    "\n",
    "    n_best = min(n_b, len(optimal_parameters))\n",
    "    #print(optimal_parameters)\n",
    "                 \n",
    "    best_params = sorted(optimal_parameters, key=lambda param: param[0])[:n_best]\n",
    "    \n",
    "    print('Best params:', best_params)\n",
    "\n",
    "    return best_params"
   ]
  },
  {
   "cell_type": "code",
   "execution_count": null,
   "metadata": {},
   "outputs": [],
   "source": [
    "for ieam in range(4, len(stats_opts[it]['hyperparams'])):\n",
    "    print('ieam:', ieam)\n",
    "    m_pars = multi_pars\n",
    "    for i in range(6):\n",
    "        best_pars = optimize_EAM(targets, stats, ieam, m_pars, n_b=len(m_pars))\n",
    "        m_pars = [p[1] for p in best_pars]"
   ]
  },
  {
   "cell_type": "code",
   "execution_count": null,
   "metadata": {
    "collapsed": true
   },
   "outputs": [],
   "source": [
    "optimal_parameters = [(4.407570269501649e-05, [-1.21658318e+00,  3.24863580e-05, -4.73661687e+01,  2.29965951e+01,\n",
    "       -3.42248343e+00,  3.73956980e+00, -1.39292737e+00, -8.33458565e-01,\n",
    "        9.29769431e-01, -1.83568989e-01]), (6.17447812420396e-05, [-1.30551487e+00,  1.41920657e-05, -4.61160967e+01,  2.29352328e+01,\n",
    "       -3.42360958e+00,  3.82313395e+00, -1.54715703e+00, -6.97925842e-01,\n",
    "        8.68730239e-01, -1.54592379e-01]), (9.723561709685708e-05, [-1.34624502e+00,  7.49457487e-06, -4.58871674e+01,  2.24064873e+01,\n",
    "       -3.46516902e+00,  4.02263760e+00, -1.89661680e+00, -4.31617423e-01,\n",
    "        8.06406324e-01, -1.37562101e-01]), (0.00014123622250142564, [-1.34136558e+00,  1.01769934e-05, -4.93998032e+01,  2.21279115e+01,\n",
    "       -3.50791272e+00,  4.16822104e+00, -2.13414308e+00, -2.66237999e-01,\n",
    "        7.83819577e-01, -1.36703203e-01])]"
   ]
  },
  {
   "cell_type": "code",
   "execution_count": null,
   "metadata": {
    "collapsed": true
   },
   "outputs": [],
   "source": [
    "ieam6 = (0.004639595573920272, np.array([ 2.61411686e+00,  1.44689461e-02, -1.90339171e+02,  1.60713127e+02,\n",
    "       -1.50065201e+02,  3.41733929e+01, -9.38215096e+00, -2.75667517e-01,\n",
    "       -3.45258425e-01,  3.18322256e-01, -2.84002515e-01, -6.97804133e-02]))"
   ]
  },
  {
   "cell_type": "code",
   "execution_count": null,
   "metadata": {
    "collapsed": true
   },
   "outputs": [],
   "source": [
    "ieam9 = (0.008696488352891394, np.array([-1.47456565e+00, -4.79869485e-07, -1.68796012e+02,  1.01838014e+02,\n",
    "       -1.89387663e+02,  1.23197119e+02,  1.67559787e+00, -1.97672693e+00,\n",
    "        1.48460087e+00, -3.21160959e-01, -9.99990134e-01,  5.45243666e-01]))"
   ]
  },
  {
   "cell_type": "code",
   "execution_count": null,
   "metadata": {
    "collapsed": true
   },
   "outputs": [],
   "source": [
    "ieam6 = (0.012529698209073237, np.array([ 1.77179483e+00,  1.05192096e-02, -2.93005591e+02,  3.18328136e+02,\n",
    "       -3.22036226e+02,  9.25544422e+01, -1.89150669e+01,  9.60458059e-01,\n",
    "        9.09101177e-02, -2.93381125e-01,  1.16059169e-01, -1.21580547e-01]))"
   ]
  },
  {
   "cell_type": "code",
   "execution_count": null,
   "metadata": {
    "collapsed": true
   },
   "outputs": [],
   "source": [
    "ieam9 = (0.011166762673644966, np.array([-1.43897524e+00,  3.68357996e-06, -4.10835857e+01,  1.01633094e+02,\n",
    "       -9.73045925e+01,  3.38437384e+01, -3.58251075e+00, -1.67919252e+00,\n",
    "        8.65702805e-01,  2.65888291e-01, -1.20777286e+00,  4.75855652e-01]))"
   ]
  },
  {
   "cell_type": "code",
   "execution_count": null,
   "metadata": {},
   "outputs": [],
   "source": [
    "ieam6 = (0.004926680089210157, np.array([-6.25140612e-01,  5.84924686e-05,  1.50463356e+01, -2.45628080e+00,\n",
    "        2.75467959e+00, -1.82521768e+00,  5.82623873e-01, -8.10349686e-02]))"
   ]
  },
  {
   "cell_type": "code",
   "execution_count": null,
   "metadata": {
    "collapsed": true
   },
   "outputs": [],
   "source": [
    "optimal_parameters = [ieam6]"
   ]
  },
  {
   "cell_type": "code",
   "execution_count": null,
   "metadata": {},
   "outputs": [],
   "source": [
    "plt.figure(figsize=(20,10))\n",
    "\n",
    "nat = np.array([len(x) for x in targ_ready['relax']['xyz']])[:-2]\n",
    "print(len(nat))\n",
    "\n",
    "for i, params_uopt in enumerate(optimal_parameters):\n",
    "\n",
    "    #print(params_uopt[1])\n",
    "\n",
    "    opti_out, targ_out = udif_print(params_uopt[1], stats, targets, utot_EAM_per_box, [5])\n",
    "    plt.title('Selected configurations at 0K')\n",
    "    if i == 0:\n",
    "        print('Targ:', targ_out[1][:-2])\n",
    "        print('Model:', opti_out[1][:-2])\n",
    "\n",
    "        #nat = np.array([len(x) for x in targ_dict['relax']['xyz']])\n",
    "        print(len(np.array(targ_out[1][:-2]))/nat)\n",
    "        plt.plot(np.array(targ_out[1][:-2])/nat, 'o', label='target'+str(i), markersize=10)\n",
    "        \n",
    "    #if params_uopt[0] > 0.6e-3:\n",
    "    #    continue\n",
    "    print('Model:', opti_out[1][:-2])\n",
    "\n",
    "    #if i != 10 and i != 12:\n",
    "    #    continue\n",
    "    print(i, params_uopt[0])\n",
    "\n",
    "        \n",
    "    #print('Opti:', [o for o in opti_out[-1][:-1]])\n",
    "    plt.plot(np.array([o for o in opti_out[1][:-2]])/nat, 'x--', label='optimized '+str(i))\n",
    "#    else:\n",
    "#        plt.plot([o for o in opti_out[-1][:-1]], 'x--', label='optimized '+str(i))\n",
    "#        plt.plot(targ_out[-1][:-1], 'o', markersize=10)\n",
    "\n",
    "plt.xticks([0, 1, 2, 3, 4, 5, 6], ['BCC','FCC', 'vacancy','110','111','liq','inf'])\n",
    "plt.ylabel('Energy [eV]')\n",
    "#plt.ylim(-1145, -1136)\n",
    "#plt.ylim(-8.905, -8.7533)\n",
    "#plt.ylim(-8.9, -8.35)\n",
    "#plt.xlim(0, 4)\n",
    "\n",
    "plt.legend()"
   ]
  },
  {
   "cell_type": "code",
   "execution_count": null,
   "metadata": {},
   "outputs": [],
   "source": [
    "plt.figure(figsize=(20,10))\n",
    "\n",
    "nat = np.array([len(x) for x in targ_ready['eos_bcc']['xyz']])[:-1]\n",
    "print(len(nat))\n",
    "\n",
    "for i, params_uopt in enumerate(optimal_parameters):\n",
    "\n",
    "    #print(params_uopt[1])\n",
    "\n",
    "    opti_out, targ_out = udif_print(params_uopt[1], stats, targets, utot_EAM_per_box, [5])\n",
    "    plt.title('Selected configurations at 0K')\n",
    "    if i == 0:\n",
    "        print('Targ:', targ_out[2][:])\n",
    "        print('Model:', opti_out[2][:])\n",
    "\n",
    "        #nat = np.array([len(x) for x in targ_dict['relax']['xyz']])\n",
    "        print(len(np.array(targ_out[2][:-1]))/nat)\n",
    "        plt.plot(np.array(targ_out[2][:-1])/nat, 'o', label='target'+str(i), markersize=10)\n",
    "        \n",
    "    #if params_uopt[0] > 0.6e-3:\n",
    "    #    continue\n",
    "    #if i != 10 and i != 12:\n",
    "    #    continue\n",
    "    print(i, params_uopt[0])\n",
    "\n",
    "        \n",
    "    #print('Opti:', [o for o in opti_out[-1][:-1]])\n",
    "    plt.plot(np.array([o for o in opti_out[2][:-1]])/nat, 'x--', label='optimized '+str(i))\n",
    "#    else:\n",
    "#        plt.plot([o for o in opti_out[-1][:-1]], 'x--', label='optimized '+str(i))\n",
    "#        plt.plot(targ_out[-1][:-1], 'o', markersize=10)\n",
    "\n",
    "#plt.xticks([0, 1, 2, 3, 4, 5, 6], ['BCC','FCC', 'vacancy','110','111','liq','inf'])\n",
    "plt.ylabel('Energy [eV]')\n",
    "#plt.ylim(-1145, -1136)\n",
    "#plt.ylim(-8.905, -8.7533)\n",
    "#plt.ylim(-8.9, -8.35)\n",
    "#plt.xlim(0, 4)\n",
    "\n",
    "plt.legend()"
   ]
  },
  {
   "cell_type": "code",
   "execution_count": null,
   "metadata": {},
   "outputs": [],
   "source": [
    "plt.figure(figsize=(20,10))\n",
    "\n",
    "nat = np.array([len(x) for x in targ_ready['eos_fcc']['xyz']])[:-1]\n",
    "print(len(nat))\n",
    "\n",
    "for i, params_uopt in enumerate(optimal_parameters):\n",
    "\n",
    "    #print(params_uopt[1])\n",
    "\n",
    "    opti_out, targ_out = udif_print(params_uopt[1], stats, targets, utot_EAM_per_box, [5])\n",
    "    plt.title('Selected configurations at 0K')\n",
    "    if i == 0:\n",
    "        print('Targ:', targ_out[-3][:])\n",
    "        print('Model:', opti_out[-3][:])\n",
    "\n",
    "        #nat = np.array([len(x) for x in targ_dict['relax']['xyz']])\n",
    "        print(len(np.array(targ_out[3][:-1]))/nat)\n",
    "        plt.plot(np.array(targ_out[3][:-1])[[2, 3, 0, 1, 4, 5, 6, 7]]/nat, 'o', label='target'+str(i), markersize=10)\n",
    "        \n",
    "    #if params_uopt[0] > 0.6e-3:\n",
    "    #    continue\n",
    "    #if i != 10 and i != 12:\n",
    "    #    continue\n",
    "    print(i, params_uopt[0])\n",
    "\n",
    "        \n",
    "    #print('Opti:', [o for o in opti_out[-1][:-1]])\n",
    "    plt.plot(np.array([o for o in opti_out[3][:-1]])[[2, 3, 0, 1, 4, 5, 6, 7]]/nat, 'x--', label='optimized '+str(i))\n",
    "#    else:\n",
    "#        plt.plot([o for o in opti_out[-1][:-1]], 'x--', label='optimized '+str(i))\n",
    "#        plt.plot(targ_out[-1][:-1], 'o', markersize=10)\n",
    "\n",
    "#plt.xticks([0, 1, 2, 3, 4, 5, 6], ['BCC','FCC', 'vacancy','110','111','liq','inf'])\n",
    "plt.ylabel('Energy [eV]')\n",
    "#plt.ylim(-1145, -1136)\n",
    "#plt.ylim(-8.905, -8.7533)\n",
    "#plt.ylim(-8.9, -8.35)\n",
    "#plt.xlim(0, 4)\n",
    "\n",
    "plt.legend()"
   ]
  },
  {
   "cell_type": "code",
   "execution_count": null,
   "metadata": {},
   "outputs": [],
   "source": [
    "plt.figure(figsize=(20,10))\n",
    "\n",
    "nat = np.array([len(x) for x in targ_ready['eos_fcc']['xyz']])[:-1]\n",
    "print(len(nat))\n",
    "\n",
    "for i, params_uopt in enumerate(optimal_parameters):\n",
    "\n",
    "    #print(params_uopt[1])\n",
    "\n",
    "    opti_out, targ_out = udif_print(params_uopt[1], stats, targets, utot_EAM, [9])\n",
    "    plt.title('Selected configurations at 0K')\n",
    "    if i == 0:\n",
    "        print('Targ:', targ_out[-1][:])\n",
    "        print('Model:', opti_out[-1][:])\n",
    "\n",
    "        #nat = np.array([len(x) for x in targ_dict['relax']['xyz']])\n",
    "        print(len(np.array(targ_out[-1][:-1]))/nat)\n",
    "        plt.plot(np.array(targ_out[-1][:-1])[[2, 3, 0, 1, 4, 5, 6, 7, 8]]/nat, 'o', label='target'+str(i), markersize=10)\n",
    "        \n",
    "    #if params_uopt[0] > 0.6e-3:\n",
    "    #    continue\n",
    "    #if i != 10 and i != 12:\n",
    "    #    continue\n",
    "    print(i, params_uopt[0])\n",
    "\n",
    "        \n",
    "    #print('Opti:', [o for o in opti_out[-1][:-1]])\n",
    "    plt.plot( np.array([o for o in opti_out[-1][:-1]])[[2, 3, 0, 1, 4, 5, 6, 7, 8]]/nat, 'x--', label='optimized '+str(i))\n",
    "#    else:\n",
    "#        plt.plot([o for o in opti_out[-1][:-1]], 'x--', label='optimized '+str(i))\n",
    "#        plt.plot(targ_out[-1][:-1], 'o', markersize=10)\n",
    "\n",
    "#plt.xticks([0, 1, 2, 3, 4, 5, 6], ['BCC','FCC', 'vacancy','110','111','liq','inf'])\n",
    "plt.ylabel('Energy [eV]')\n",
    "#plt.ylim(-1145, -1136)\n",
    "#plt.ylim(-8.905, -8.7533)\n",
    "#plt.ylim(-8.9, -8.35)\n",
    "#plt.xlim(0, 4)\n",
    "\n",
    "plt.legend()"
   ]
  },
  {
   "cell_type": "code",
   "execution_count": null,
   "metadata": {},
   "outputs": [],
   "source": [
    "plt.figure(figsize=(20,10))\n",
    "\n",
    "nat = np.array([len(x) for x in targ_ready['md']['xyz']])[:]\n",
    "print(len(nat))\n",
    "\n",
    "for i, params_uopt in enumerate(optimal_parameters):\n",
    "\n",
    "    #print(params_uopt[1])\n",
    "\n",
    "    opti_out, targ_out = udif_print(params_uopt[1], stats, targets, utot_EAM_per_box,[5])\n",
    "    #plt.title('Selected configurations at 0K')\n",
    "    if i == 0:\n",
    "        #print('Targ:', targ_out[0][:])\n",
    "        #print('Model:', opti_out[0][:])\n",
    "\n",
    "        #nat = np.array([len(x) for x in targ_dict['relax']['xyz']])\n",
    "        print(len(np.array(targ_out[0][:]))/nat)\n",
    "        #plt.plot(np.array(targ_out[0][:])/nat, 'o', label='target'+str(i), markersize=10)\n",
    "        plt.plot(np.array(targ_out[0][:]), 'o', label='target'+str(i), markersize=5)\n",
    "\n",
    "        \n",
    "    #if params_uopt[0] > 0.6e-3:\n",
    "    #    continue\n",
    "    #if i != 1:# and i != 12:\n",
    "    #    continue\n",
    "    print(i, params_uopt[0])\n",
    "\n",
    "    #print('Opti:', [o for o in opti_out[-1][:-1]])\n",
    "    #plt.plot(np.array([o for o in opti_out[0][:]])/nat, 'x--', label='optimized '+str(i))\n",
    "    plt.plot(np.array([o for o in opti_out[0][:]]), '--', label='optimized '+str(i), lw=1.0)\n",
    "\n",
    "#    else:\n",
    "#        plt.plot([o for o in opti_out[-1][:-1]], 'x--', label='optimized '+str(i))\n",
    "#        plt.plot(targ_out[-1][:-1], 'o', markersize=10)\n",
    "\n",
    "#plt.xticks([0, 1, 2, 3, 4, 5, 6], ['BCC','FCC', 'vacancy','110','111','liq','inf'])\n",
    "plt.ylabel('Energy [eV]', fontsize=30)\n",
    "plt.xlabel('configuation #', fontsize=30)\n",
    "plt.xticks(fontsize=20)\n",
    "plt.yticks(fontsize=20)\n",
    "\n",
    "#plt.ylim(-1145, -1136)\n",
    "#plt.ylim(-8.905, -8.533)\n",
    "#plt.ylim(-8.9, -8.35)\n",
    "\n",
    "#plt.ylim(-1075,-1035)\n",
    "#plt.ylim(-1000,-900)\n",
    "#plt.ylim(-950,-900)\n",
    "#plt.ylim(-1136,-1133)\n",
    "plt.ylim(-1180,-800)\n",
    "plt.xlim(0,820)\n",
    "#plt.xlim(847,990)\n",
    "\n",
    "#plt.ylim(-1180,-800)\n",
    "\n",
    "plt.legend(fontsize=30)\n",
    "#plt.savefig(plt.savefig(os.path.join(working, 'bcc_300.png')))"
   ]
  },
  {
   "cell_type": "code",
   "execution_count": null,
   "metadata": {
    "collapsed": true
   },
   "outputs": [],
   "source": [
    "for i, params_uopt in enumerate(optimal_parameters):\n",
    "    if params_uopt[0] > 1.1e-3:\n",
    "        continue\n",
    "    print(i, params_uopt[0], '\\n', params_uopt[1])"
   ]
  },
  {
   "cell_type": "code",
   "execution_count": null,
   "metadata": {},
   "outputs": [],
   "source": [
    "stats_opts[it]['hyperparams']"
   ]
  },
  {
   "cell_type": "code",
   "execution_count": null,
   "metadata": {
    "collapsed": true
   },
   "outputs": [],
   "source": [
    "pars_out = {}\n",
    "pars_out['pair_nodes'] = stats_opts[it]['hyperparams']\n",
    "pars_out['mb_node'] = 9\n",
    "pars_out['params'] = [optimal_parameters[0]]"
   ]
  },
  {
   "cell_type": "code",
   "execution_count": null,
   "metadata": {
    "collapsed": true
   },
   "outputs": [],
   "source": [
    "optimal_list = []\n",
    "\n",
    "#with open(os.path.join(working, 'pars_out.pickle'), 'rb') as fi:\n",
    "#    optimal_list = pickle.load(fi)\n",
    "\n",
    "#if type(optimal_list) != list:\n",
    "#    optimal_list = [optimal_list]\n",
    "\n",
    "optimal_list.append(pars_out)\n",
    "\n",
    "with open(os.path.join(working, 'pars_out.pickle'), 'wb') as fo:\n",
    "    pickle.dump(optimal_list, fo)"
   ]
  },
  {
   "cell_type": "code",
   "execution_count": null,
   "metadata": {
    "collapsed": true
   },
   "outputs": [],
   "source": [
    "with open(os.path.join(working, 'pars_out.pickle'), 'rb') as fi:\n",
    "    optimal_list = pickle.load(fi)"
   ]
  },
  {
   "cell_type": "code",
   "execution_count": null,
   "metadata": {},
   "outputs": [],
   "source": [
    "optimal_list"
   ]
  },
  {
   "cell_type": "code",
   "execution_count": null,
   "metadata": {
    "collapsed": true
   },
   "outputs": [],
   "source": [
    "# Total pair potential\n",
    "pos = targ_ready['relax']['xyz'][0]\n",
    "bx = targ_ready['relax']['box'][0]\n",
    "rr, rx = pair_dist_cutoff(pos, bx, 5.5)"
   ]
  },
  {
   "cell_type": "code",
   "execution_count": null,
   "metadata": {
    "collapsed": true
   },
   "outputs": [],
   "source": [
    "# embedding function\n",
    "F = lambda d, a: a[0]*d**0.5 + a[1]*d + a[2]*d**2\n",
    "\n",
    "V = lambda r, aa, cc: sum([a*(rc - r)**3 for a, rc in zip(aa, cc) if r < rc])\n",
    "\n",
    "# Cohesive potential (cubic splines - same form as V)\n",
    "phi = lambda r, aa, cc: sum([a*(rc - r)**3 for a, rc in zip(aa, cc) if r < rc])\n",
    "\n",
    "rho = lambda r, aa, kk: sum([a*(rk - r)**3 for a, rk in zip(aa, kk) if r < rk and r > 0.01])"
   ]
  },
  {
   "cell_type": "code",
   "execution_count": null,
   "metadata": {},
   "outputs": [],
   "source": [
    "optimal_list[-1]['params'][0][1]"
   ]
  },
  {
   "cell_type": "code",
   "execution_count": null,
   "metadata": {
    "collapsed": true
   },
   "outputs": [],
   "source": [
    "#optimal_parameters.append(tuple([output[1:], params_uopt]))\n",
    "pair_y = optimal_list[-1]['params'][0][1][2:]\n",
    "par = optimal_list[-1]['params'][0][1][:2]\n",
    "many_y = [par[0], 0.0, par[1]]\n",
    "V_x_r = optimal_list[-1]['pair_nodes'] #stats_opt['hyperparams']\n",
    "rho_x_r = [V_x_r[optimal_list[-1]['mb_node']]] #stats_opt['hyperparams'][4:5]\n",
    "rho_x_a = [1.0]"
   ]
  },
  {
   "cell_type": "code",
   "execution_count": null,
   "metadata": {},
   "outputs": [],
   "source": [
    "pair_y, many_y, V_x_r, rho_x_r"
   ]
  },
  {
   "cell_type": "code",
   "execution_count": null,
   "metadata": {
    "collapsed": true
   },
   "outputs": [],
   "source": [
    "ene = []\n",
    "for a in np.linspace(0.5, 2.0, 101):\n",
    "    z = a*rr\n",
    "    u_pair = 0.5*np.sum([V(x, pair_y, V_x_r) for x in z.flatten() if x > 0.1])\n",
    "\n",
    "    u_many = 0.0\n",
    "    for i in range(z.shape[0]):\n",
    "        d = np.sum([phi(x, rho_x_a, rho_x_r) for x in z[i] if x > 0.1])\n",
    "        u_many += F(d, many_y)\n",
    "\n",
    "    ene.append([a, u_pair, u_many, u_pair+u_many])\n",
    "\n",
    "ene = np.array(ene)"
   ]
  },
  {
   "cell_type": "code",
   "execution_count": null,
   "metadata": {},
   "outputs": [],
   "source": [
    "#plt.plot(ene[:,0], ene[:,1]/54, label='pair')\n",
    "#plt.plot(ene[:,0], ene[:,2]/54, label='manybody')\n",
    "plt.title('Equation of state (T=0K)')\n",
    "plt.plot(ene[:,0]*2.74, [universal_eos(x, 'W') for x in ene[:,0]], label='universal EOS')\n",
    "plt.plot(ene[:,0]*2.74, ene[:,3]/128, label='u-total')\n",
    "plt.hlines(0.0,0.5,6.0,lw=1)\n",
    "plt.legend()\n",
    "plt.xlim(2.0, 5.75)\n",
    "plt.xlim(2.6, 2.85)\n",
    "plt.ylim(-10,10)\n",
    "plt.ylim(-9.,-8.5)\n",
    "\n",
    "plt.xlabel('x')\n",
    "plt.ylabel(r'U')"
   ]
  },
  {
   "cell_type": "code",
   "execution_count": null,
   "metadata": {
    "collapsed": true
   },
   "outputs": [],
   "source": [
    "#optimal_parameters.append(tuple([output[1:], params_uopt]))\n",
    "pair_y = optimal_list[-1]['params'][0][1][2:]\n",
    "par = optimal_list[-1]['params'][0][1][:2]\n",
    "many_y = [par[0], 0.0, par[1]]\n",
    "V_x_r = optimal_list[-1]['pair_nodes'] #stats_opt['hyperparams']\n",
    "rho_x_r = [V_x_r[optimal_list[-1]['mb_node']]] #stats_opt['hyperparams'][4:5]\n",
    "rho_x_a = [1.0]"
   ]
  },
  {
   "cell_type": "code",
   "execution_count": null,
   "metadata": {},
   "outputs": [],
   "source": [
    "pair_y, many_y"
   ]
  },
  {
   "cell_type": "code",
   "execution_count": null,
   "metadata": {},
   "outputs": [],
   "source": [
    "print(V_x_r)\n",
    "print((0.011166762673644966, np.array([-1.43897524e+00,  3.68357996e-06, -4.10835857e+01,  1.01633094e+02,\n",
    "       -9.73045925e+01,  3.38437384e+01, -3.58251075e+00, -1.67919252e+00,\n",
    "        8.65702805e-01,  2.65888291e-01, -1.20777286e+00,  4.75855652e-01])))"
   ]
  },
  {
   "cell_type": "code",
   "execution_count": null,
   "metadata": {
    "collapsed": true
   },
   "outputs": [],
   "source": [
    "pair_a = optimal_list[-1]['params'][0][1][2:]#pars_in1[2:]\n",
    "pair_r = optimal_list[-1]['pair_nodes']\n",
    "\n",
    "rho_a = [1.0]\n",
    "rho_r = [pair_r[optimal_list[-1]['mb_node']]]\n",
    "\n",
    "par = optimal_list[-1]['params'][0][1][:2]\n",
    "many_a = [par[0], 0.0, par[1]]"
   ]
  },
  {
   "cell_type": "code",
   "execution_count": null,
   "metadata": {},
   "outputs": [],
   "source": [
    "pair_a, pair_r, rho_r, many_a, par"
   ]
  },
  {
   "cell_type": "code",
   "execution_count": null,
   "metadata": {},
   "outputs": [],
   "source": [
    "# Ranges of densities and separations\n",
    "\n",
    "nr = 5000\n",
    "rcut = pair_r[-1]#stats_opt['hyperparams'][-1]\n",
    "dr = rcut/nr\n",
    "\n",
    "rhomax = 12.0*phi(1.5, rho_a, rho_r)\n",
    "print('rhomax:', rhomax)\n",
    "rhomax = 1000.0\n",
    "nrho = 5000\n",
    "drho = rhomax/nrho\n",
    "\n",
    "ri = 1.0\n",
    "ro = 2.0\n",
    "\n",
    "# W properties\n",
    "na = 74\n",
    "ma = 183.84\n",
    "lc = 3.1653\n",
    "alat = 'bcc'\n",
    "\n",
    "# System composition\n",
    "n_el = 1\n",
    "el_name = ['W']"
   ]
  },
  {
   "cell_type": "code",
   "execution_count": null,
   "metadata": {
    "collapsed": true
   },
   "outputs": [],
   "source": [
    "def u_trans(r, unucl, ueq, ri=1.0, ro=2.0):\n",
    "    \"\"\"Transition between the core and equillibrium potentials\"\"\"\n",
    "    if r < ri:\n",
    "        return unucl\n",
    "    elif r < ro:\n",
    "        x = (ro + ri - 2*r)/(ro - ri)\n",
    "        eta = 3/16*x**5 - 5/8*x**3 + 15/16*x + 1/2\n",
    "        return ueq + eta*(unucl - ueq)\n",
    "    else:\n",
    "        return ueq"
   ]
  },
  {
   "cell_type": "code",
   "execution_count": null,
   "metadata": {
    "collapsed": true
   },
   "outputs": [],
   "source": [
    "# prepare lists of values\n",
    "dens = np.linspace(0., rhomax-drho, nrho, endpoint=True)\n",
    "r = np.linspace(0., rcut-dr, nr, endpoint=True)\n",
    "r2 = np.linspace(0., rcut, 201)\n",
    "\n",
    "fembd = [F(d, many_a) for d in dens] # W\n",
    "edens = np.array([phi(x, rho_a, rho_r) for x in r])\n",
    "\n",
    "# 1. Cubic spline for r > r_o\n",
    "f_outer = [V(x, pair_a, pair_r) for i, x in enumerate(r)]\n",
    "# 2. Repulsive core for r < r_i (precalculate up to r_o)\n",
    "f_inner = [0.0] + [u_core(x) for x in r[1:]]\n",
    "# 3. Transition region for r_i < r < r_o\n",
    "fpair = [x*u_trans(x, f_inner[i], f_outer[i]) for i, x in enumerate(r)]\n",
    "#fpair = f_outer"
   ]
  },
  {
   "cell_type": "code",
   "execution_count": null,
   "metadata": {
    "collapsed": true
   },
   "outputs": [],
   "source": [
    "# LAMMPS format\n",
    "pot_path = '../sim/potentials'\n",
    "\n",
    "with open(os.path.join(pot_path, 'W_lv_bccfcc.eam.fs'), 'w') as fo:\n",
    "    \n",
    "    # Comment section\n",
    "    fo.write('Comment 1\\n')\n",
    "    fo.write('Comment 2\\n')\n",
    "    fo.write('Comment 3\\n')\n",
    "    \n",
    "    # Number of elements\n",
    "    fo.write(f\"{n_el:5d} \")\n",
    "    for i in range(n_el):\n",
    "        fo.write(f\"{el_name[i]:2}\")\n",
    "    fo.write(\"\\n\")\n",
    "    \n",
    "    # number of grid points, step size, and cutoff\n",
    "    fo.write(f\"{nrho:5d}{drho:24.16e}{nr:5d}{dr:24.16e}{rcut:24.16e}\\n\")\n",
    "    \n",
    "    # atomic number, mass, lattice size, lattice type\n",
    "    fo.write(f\"{na:5d} {ma:14.4f} {lc:14.4f} {alat:10}\\n\")\n",
    "    \n",
    "    # Embeding function\n",
    "    for i in range(nrho//4):\n",
    "        fo.write(\"{0:20.12e}{1:20.12e}{2:20.12e}{3:20.12e}\\n\".format(*fembd[i*4:i*4+4]))\n",
    "    \n",
    "    # Electronic density\n",
    "    for i in range(nr//4):\n",
    "        fo.write(\"{0:20.12e}{1:20.12e}{2:20.12e}{3:20.12e}\\n\".format(*edens[i*4:i*4+4]))\n",
    "        \n",
    "    # Pair potential\n",
    "    for i in range(nr//4):\n",
    "        fo.write(\"{0:20.12e}{1:20.12e}{2:20.12e}{3:20.12e}\\n\".format(*fpair[i*4:i*4+4]))"
   ]
  },
  {
   "cell_type": "code",
   "execution_count": null,
   "metadata": {
    "collapsed": true
   },
   "outputs": [],
   "source": []
  }
 ],
 "metadata": {
  "kernelspec": {
   "display_name": "Python 3",
   "language": "python",
   "name": "python3"
  },
  "language_info": {
   "codemirror_mode": {
    "name": "ipython",
    "version": 3
   },
   "file_extension": ".py",
   "mimetype": "text/x-python",
   "name": "python",
   "nbconvert_exporter": "python",
   "pygments_lexer": "ipython3",
   "version": "3.6.1"
  }
 },
 "nbformat": 4,
 "nbformat_minor": 2
}
