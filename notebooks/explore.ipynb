{
 "cells": [
  {
   "cell_type": "code",
   "execution_count": 106,
   "metadata": {
    "collapsed": true
   },
   "outputs": [],
   "source": [
    "import os\n",
    "import sys\n",
    "import glob\n",
    "import re\n",
    "import pprint\n",
    "import numpy as np"
   ]
  },
  {
   "cell_type": "code",
   "execution_count": 6,
   "metadata": {
    "collapsed": true
   },
   "outputs": [],
   "source": [
    "%load_ext autoreload\n",
    "%autoreload 2"
   ]
  },
  {
   "cell_type": "code",
   "execution_count": 7,
   "metadata": {
    "collapsed": true
   },
   "outputs": [],
   "source": [
    "#target_raw = './F-termi-ti3cn-data'\n",
    "target_raw = '../data/target_raw'\n",
    "dataset = 'bcc_npt_langevin_300K'\n",
    "trajdir = target_raw + '/' + dataset"
   ]
  },
  {
   "cell_type": "code",
   "execution_count": 8,
   "metadata": {},
   "outputs": [],
   "source": [
    "sys.path.append('../../statmechlib')"
   ]
  },
  {
   "cell_type": "code",
   "execution_count": 65,
   "metadata": {},
   "outputs": [],
   "source": [
    "from statmechlib.read_write import read_poscar, read_xdatcar"
   ]
  },
  {
   "cell_type": "code",
   "execution_count": 149,
   "metadata": {},
   "outputs": [],
   "source": [
    "xdatcar = os.path.join(trajdir, 'XDATCAR')\n",
    "if os.path.isfile(xdatcar):\n",
    "    traj = read_xdatcar(xdatcar)\n",
    "else:\n",
    "    print('XDATCAR not present')"
   ]
  },
  {
   "cell_type": "code",
   "execution_count": 151,
   "metadata": {},
   "outputs": [
    {
     "data": {
      "text/plain": [
       "[128]"
      ]
     },
     "execution_count": 151,
     "metadata": {},
     "output_type": "execute_result"
    }
   ],
   "source": [
    "traj['atom_num']"
   ]
  },
  {
   "cell_type": "code",
   "execution_count": 69,
   "metadata": {},
   "outputs": [],
   "source": [
    "poscar = os.path.join(trajdir, 'POSCAR')\n",
    "if os.path.isfile(poscar):\n",
    "    traj = read_poscar(poscar)\n",
    "else:\n",
    "    print('POSCAR not present')"
   ]
  },
  {
   "cell_type": "code",
   "execution_count": 155,
   "metadata": {},
   "outputs": [],
   "source": [
    "def read_outcar(filename):\n",
    "\n",
    "    with open(filename, 'r') as f:\n",
    "    \n",
    "        # initialize trajectory dataset\n",
    "        boxs = [] ; xyzs = [] ; enes = [] ; forces = [] ; temps = []\n",
    "        vects = [] ; enes_free = [] ; enes_tot = []\n",
    "    \n",
    "        for line in iter(f.readline, ''):\n",
    "        \n",
    "            # number of ions/atoms\n",
    "            if re.search('number of ions', line):\n",
    "                nat = int(re.findall('\\S+', line)[-1])\n",
    "        \n",
    "            # number of atoms of each type\n",
    "            elif re.search('ions per type', line):\n",
    "                atom_num = [int(n) for n in re.findall('\\S+', line)[4:4+nat]]\n",
    "        \n",
    "            # box shape and dimensions\n",
    "            elif re.search('VOLUME and BASIS-vectors are now', line):\n",
    "                for _ in range(4):\n",
    "                    line = f.readline()\n",
    "                \n",
    "                # read box information\n",
    "                box = np.empty((3,3), dtype=np.float64)\n",
    "                for i in range(3):\n",
    "                    box[i,:] = [float(x) for x in re.findall('\\S+', f.readline())][0:3]\n",
    "                boxs.append(box)\n",
    "            \n",
    "                for _ in range(2):\n",
    "                    line = f.readline()\n",
    "                \n",
    "                # read a, b, c vector lengths\n",
    "                vect = np.array([float(x) for x in re.findall('\\S+', f.readline())][0:3])\n",
    "                vects.append(vect)\n",
    "\n",
    "            # atom cartesian coordinates [A] and forces [eV/A]\n",
    "            elif re.search('POSITION.*TOTAL-FORCE', line):                \n",
    "                line = f.readline()\n",
    "            \n",
    "                # read coordinate and force data for all nat atoms\n",
    "                data = np.array([[float(x) for x in f.readline().split()] for _ in range(nat)])\n",
    "            \n",
    "                # create new coordinate array\n",
    "                xyz = np.empty((nat, 3), dtype=np.float64)\n",
    "                xyz[:,:] = data[:,0:3]\n",
    "            \n",
    "                assert len(xyzs) + 1 == len(boxs), f'lengths of xyzs {len(xyzs)+1} and boxs {len(boxs)} do not match'\n",
    "            \n",
    "                # convert cartesian coordinates into lattice units\n",
    "                box_inv = np.linalg.inv(boxs[-1])\n",
    "                xyz = np.matmul(box_inv, xyz.T).T\n",
    "\n",
    "                # create a new force array\n",
    "                force = np.empty((nat, 3), dtype=np.float64)\n",
    "                force[:,:] = data[:,3:6]\n",
    "            \n",
    "                xyzs.append(xyz)\n",
    "                forces.append(force)\n",
    "            \n",
    "            # E0 energy without entropy for sigma->0\n",
    "            elif re.search('FREE ENERG.*\\s+OF\\s+THE\\s+ION.ELECTRON\\s+SYSTEM\\s+\\(eV\\)', line):\n",
    "                \n",
    "                # check if the format agrees with the current assumptions\n",
    "                if not re.search('------------', f.readline()):\n",
    "                    raise ValueError('Could not find a separator line (----).')\n",
    "                \n",
    "                # read free energy (without kinetics)\n",
    "                line = f.readline()\n",
    "                if re.search('free\\s+energy\\s+TOTEN\\s+=.+eV', line):\n",
    "                    ene_free = float(re.findall('\\S+', line)[-2])\n",
    "                    enes_free.append(ene_free)\n",
    "                else:\n",
    "                    raise ValueError('Could not find a line with free energy (TOTEN).')\n",
    "                    \n",
    "                line = f.readline()\n",
    "                \n",
    "                # read energy without entropy for sigma->0\n",
    "                line = f.readline()\n",
    "                if re.search('energy\\s+without\\s+entropy.+sigma', line):\n",
    "                    ene = float(re.findall('\\S+', line)[-1])\n",
    "                    enes.append(ene)\n",
    "                else:\n",
    "                    raise ValueError('Could not find a line with free energy (TOTEN).')\n",
    "                \n",
    "           \n",
    "            # Total energy including thermostat \n",
    "            elif re.search('ETOTAL', line):\n",
    "                ene_tot = float(line.split()[-2])\n",
    "                enes_tot.append(ene_tot)\n",
    "            \n",
    "            # Instantaneous temperature \n",
    "            elif re.search('EKIN_LAT', line):\n",
    "                mo = re.search('\\(temperature\\s+(\\d+\\.?\\d*)\\s+K\\)', line)\n",
    "                temp = float(mo.group(1))\n",
    "                temps.append(temp)\n",
    "\n",
    "    #print(len(boxs), len(xyzs), len(enes), len(forces), len(temps))\n",
    "    #print(len(enes_free), len(enes_tot))\n",
    "    # check if the lengths of trajectory lists match\n",
    "    assert len(enes) == len(xyzs), f'{dataset} energy and XYZ lenghts do not match: {len(enes)}, {len(xyzs)}'\n",
    "    \n",
    "    # combine trajectory data in a dictionary\n",
    "    traj = {'box':boxs, 'xyz':xyzs, 'energy':enes, 'forces':forces, 'temp':temps}\n",
    "    traj.update({'free_energy':enes_free, 'total_energy':enes_tot, 'atom_num':atom_num})\n",
    "    \n",
    "    return traj"
   ]
  },
  {
   "cell_type": "code",
   "execution_count": 156,
   "metadata": {
    "collapsed": true
   },
   "outputs": [],
   "source": [
    "filename = os.path.join(trajdir, 'OUTCAR')"
   ]
  },
  {
   "cell_type": "code",
   "execution_count": 157,
   "metadata": {},
   "outputs": [
    {
     "name": "stdout",
     "output_type": "stream",
     "text": [
      "1496 1496 1496 1496 1496\n",
      "1496 1496\n"
     ]
    }
   ],
   "source": [
    "traj = read_outcar(filename)"
   ]
  },
  {
   "cell_type": "code",
   "execution_count": 158,
   "metadata": {},
   "outputs": [
    {
     "data": {
      "text/plain": [
       "[128]"
      ]
     },
     "execution_count": 158,
     "metadata": {},
     "output_type": "execute_result"
    }
   ],
   "source": [
    "traj['atom_num']"
   ]
  },
  {
   "cell_type": "code",
   "execution_count": 40,
   "metadata": {
    "collapsed": true
   },
   "outputs": [],
   "source": [
    "# read coordinate/forces files of a trajectory\n",
    "coor_files = glob.glob('data-1/coor*')\n",
    "fnum = lambda fname: int(re.findall('\\d+$', fname)[0])\n",
    "coor_sorted = sorted(coor_files, key=fnum)"
   ]
  }
 ],
 "metadata": {
  "kernelspec": {
   "display_name": "Python 3",
   "language": "python",
   "name": "python3"
  },
  "language_info": {
   "codemirror_mode": {
    "name": "ipython",
    "version": 3
   },
   "file_extension": ".py",
   "mimetype": "text/x-python",
   "name": "python",
   "nbconvert_exporter": "python",
   "pygments_lexer": "ipython3",
   "version": "3.6.1"
  }
 },
 "nbformat": 4,
 "nbformat_minor": 2
}
