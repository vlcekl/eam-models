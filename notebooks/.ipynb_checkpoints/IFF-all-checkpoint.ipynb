{
 "cells": [
  {
   "cell_type": "markdown",
   "metadata": {},
   "source": [
    "# Interatomic force field (IFF) optimization for W-based metal alloys\n",
    "\n",
    "Author: Lukas Vlcek\n",
    "\n",
    "Start Date: 2018-04-22"
   ]
  },
  {
   "cell_type": "code",
   "execution_count": 1,
   "metadata": {},
   "outputs": [
    {
     "name": "stdout",
     "output_type": "stream",
     "text": [
      "Last update: 2018-04-22 18:03:41.673340\n"
     ]
    }
   ],
   "source": [
    "from datetime import datetime ; print('Last update:', datetime.now())"
   ]
  },
  {
   "cell_type": "markdown",
   "metadata": {},
   "source": [
    "## 1. Target data overview"
   ]
  },
  {
   "cell_type": "markdown",
   "metadata": {},
   "source": [
    "### Bulk properties of tungsten\n",
    "(from _Marinica et.al_)\n",
    "\n",
    "Property | BCC | FCC \n",
    ":---     | :---: | :---: \n",
    "a_0 (A) | 3.1648 | 4.054 \n",
    "E_coh (eV/atom) | -8.9 | -8.43 \n",
    "C11 (GPa) | 523 | - \n",
    "C12 (GPa) | 203 | - \n",
    "C44 (GPa) | 160 | - "
   ]
  },
  {
   "cell_type": "markdown",
   "metadata": {},
   "source": [
    "### Defect properties\n",
    "(from _Marinica et.al_)\n",
    "\n",
    "Based on 128+-1 atoms\n",
    "\n",
    "Defect | Energy (eV)\n",
    ":--- | :---:\n",
    "(111) | 10.53\n",
    "(110) | 10.82\n",
    "(100) | 12.87\n",
    "OCT | 13.11\n",
    "TET | 12.27\n",
    "Vacancy | 3.49"
   ]
  },
  {
   "attachments": {},
   "cell_type": "markdown",
   "metadata": {},
   "source": [
    "### Atomic configurations and DFT data\n",
    "\n",
    "1. Data from Marinica\n",
    " * 20 configurations generated from liquid Fe trajectory, N=113\n",
    " * DFT Forces\n",
    " * DFT Energy\n",
    "\n",
    "2. Data from German (local minimum energy configs.)\n",
    "  * Energy, Hessians?\n",
    "  * Pure phases\n",
    "    * BCC (54 atoms)\n",
    "    * FCC (32 atoms)\n",
    "  * Vacancy (53 atoms)\n",
    "  * Interstitial defects \n",
    "    * 110, 111 (55 atoms)\n",
    "    * 111_easy_core (135 atoms)?"
   ]
  },
  {
   "cell_type": "markdown",
   "metadata": {},
   "source": [
    "## 2. Processing of raw data into HDF5 storage"
   ]
  },
  {
   "cell_type": "code",
   "execution_count": 3,
   "metadata": {
    "collapsed": true
   },
   "outputs": [],
   "source": [
    "import numpy as np\n",
    "import h5py"
   ]
  },
  {
   "cell_type": "markdown",
   "metadata": {},
   "source": [
    "## 3. IFF functional form\n",
    "\n",
    "### 3.1 Finnis-Sinclair\n",
    "\n",
    "Energy of an N-particle configuration\n",
    "\n",
    "$$ E = \\sum_{i=1}^N \\left[ \\sum_{j>i}^N \\phi\\left(r_{ij}\\right) + F\\left(\\rho_i\\right) \\right] $$\n",
    "\n",
    "Pair interaction\n",
    "\n",
    "$$ \\phi\\left(r_{ij}\\right) = \\frac{A}{r^{12}} - \\frac{C}{r^6} $$\n",
    "\n",
    "Embedded function\n",
    "\n",
    "$$ F = -A\\sqrt{\\rho_i} $$\n",
    "\n",
    "Effective electron density\n",
    "\n",
    "$$ \\rho_i = \\sum_{j\\ne i}^N f\\left( r_{ij} \\right) $$\n",
    "\n",
    "\n",
    "** Starting parameters (Finnis and Sinclair, Phil. Mag. 1984) **\n",
    "* d = 4.400224\n",
    "* A = 1.896373\n",
    "* c = 3.25\n",
    "* c0 = 47.1346499\n",
    "* c1 = -33.7665655\n",
    "* c2 = 6.2541999"
   ]
  },
  {
   "cell_type": "markdown",
   "metadata": {},
   "source": [
    "## 4. Loss function"
   ]
  },
  {
   "cell_type": "code",
   "execution_count": null,
   "metadata": {
    "collapsed": true
   },
   "outputs": [],
   "source": []
  },
  {
   "cell_type": "markdown",
   "metadata": {},
   "source": [
    "## 5. Optimization"
   ]
  },
  {
   "cell_type": "code",
   "execution_count": null,
   "metadata": {
    "collapsed": true
   },
   "outputs": [],
   "source": []
  }
 ],
 "metadata": {
  "kernelspec": {
   "display_name": "Python 3",
   "language": "python",
   "name": "python3"
  },
  "language_info": {
   "codemirror_mode": {
    "name": "ipython",
    "version": 3
   },
   "file_extension": ".py",
   "mimetype": "text/x-python",
   "name": "python",
   "nbconvert_exporter": "python",
   "pygments_lexer": "ipython3",
   "version": "3.6.1"
  }
 },
 "nbformat": 4,
 "nbformat_minor": 2
}
