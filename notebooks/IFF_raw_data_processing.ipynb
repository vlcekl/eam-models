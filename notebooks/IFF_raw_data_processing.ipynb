{
 "cells": [
  {
   "cell_type": "markdown",
   "metadata": {},
   "source": [
    "# Interatomic force field (IFF) optimization for W-based metal alloys\n",
    "\n",
    "## Raw target data processing\n",
    "\n",
    "Author: Lukas Vlcek\n",
    "\n",
    "Start Date: 2018-04-22"
   ]
  },
  {
   "cell_type": "code",
   "execution_count": 2,
   "metadata": {},
   "outputs": [
    {
     "name": "stdout",
     "output_type": "stream",
     "text": [
      "Last update: 2018-07-25 17:10:07.492505\n"
     ]
    }
   ],
   "source": [
    "from datetime import datetime ; print('Last update:', datetime.now())"
   ]
  },
  {
   "cell_type": "markdown",
   "metadata": {},
   "source": [
    "## 1. Target data overview"
   ]
  },
  {
   "cell_type": "markdown",
   "metadata": {},
   "source": [
    "### Bulk properties of tungsten\n",
    "from _Marinica et.al_ except for B (bulk modulus) and Pc (Cauchy pressure)\n",
    "\n",
    "T=0K?\n",
    "\n",
    "| Property | BCC | FCC |\n",
    "| :---     | :---: | :---: |\n",
    "| a_0 (A) | 3.1648 | 4.054 |\n",
    "| E_coh (eV/atom) | -8.9 | -8.43 |\n",
    "| C11 (GPa) | 523 | - |\n",
    "| C12 (GPa) | 203 | - |\n",
    "| C44 (GPa) | 160 | - |\n",
    "| B (GPa) | 310.4 | - |\n",
    "| Pc (GPa) | 21.9 | - |"
   ]
  },
  {
   "cell_type": "markdown",
   "metadata": {},
   "source": [
    "### Defect properties\n",
    "(from _Marinica et.al_)\n",
    "\n",
    "Based on 128+-1 atoms\n",
    "\n",
    "Defect | Energy (eV)\n",
    ":--- | :---:\n",
    "(111) | 10.53\n",
    "(110) | 10.82\n",
    "(100) | 12.87\n",
    "OCT | 13.11\n",
    "TET | 12.27\n",
    "Vacancy | 3.49"
   ]
  },
  {
   "cell_type": "markdown",
   "metadata": {},
   "source": [
    "### Atomic configurations and DFT data\n",
    "\n",
    "1. Data from Marinica\n",
    "  * 20 configurations generated from liquid Fe trajectory, N=113\n",
    "  * DFT Forces\n",
    "  * DFT Energy\n",
    "2. Data from German (local minimum energy configs.)\n",
    "  * Energy, Hessians?\n",
    "  * Pure phases\n",
    "    * BCC (54 atoms)\n",
    "    * FCC (32 atoms)\n",
    "  * Vacancy\n",
    "    * vacancy (53 atoms)\n",
    "  * Interstitial defects \n",
    "    * 110, 111 (55 atoms)\n",
    "  * Screw dislocation\n",
    "    * 111_easy_core (135 atoms)?"
   ]
  },
  {
   "cell_type": "markdown",
   "metadata": {},
   "source": [
    "## 2. Processing of raw data into HDF5 storage"
   ]
  },
  {
   "cell_type": "code",
   "execution_count": 24,
   "metadata": {
    "collapsed": true
   },
   "outputs": [],
   "source": [
    "%matplotlib inline\n",
    "import os\n",
    "import glob\n",
    "import re\n",
    "import numpy as np\n",
    "import h5py\n",
    "import pickle\n",
    "import matplotlib.pyplot as plt\n",
    "\n",
    "# source of raw data and destination for processed data\n",
    "target_raw = '../data/target_raw'\n",
    "target_proc = '../data/target_processed'"
   ]
  },
  {
   "cell_type": "markdown",
   "metadata": {},
   "source": [
    "Some conversion constants"
   ]
  },
  {
   "cell_type": "code",
   "execution_count": 46,
   "metadata": {
    "collapsed": true
   },
   "outputs": [],
   "source": [
    "Ry2kjmol = 2625.499638/2.0      # conversion from Rydberg to kj/mol\n",
    "Ry2eV = 13.6056980659           # conversion from Rydberg to eV\n",
    "au2angstrom = 0.52917721092     # atomic units (length) to Angstrom"
   ]
  },
  {
   "cell_type": "markdown",
   "metadata": {},
   "source": [
    "### Data from Marinica"
   ]
  },
  {
   "cell_type": "code",
   "execution_count": 116,
   "metadata": {},
   "outputs": [
    {
     "data": {
      "image/png": "[encoded data removed]",
      "text/plain": [
       "<matplotlib.figure.Figure at 0x1062b9550>"
      ]
     },
     "metadata": {},
     "output_type": "display_data"
    }
   ],
   "source": [
    "# source and destination directories\n",
    "marini_raw = os.path.join(target_raw, 'marinica_cfg')\n",
    "marini_proc = os.path.join(target_proc, 'marini')\n",
    "\n",
    "alatt = 12.74259\n",
    "\n",
    "# columns in a fixed format file\n",
    "rcols = ( (4,14), (14,24), (24,34))  # atomic coordinates\n",
    "fcols = ((34,44), (44,54), (54,64))  # atomic forces\n",
    "\n",
    "# read target data from Marinica, extract energies, xyz, forces\n",
    "enes, xyzs, frcs = [],[],[] # list of coordinates, energies, forces\n",
    "for file in glob.glob(os.path.join(marini_raw, '*.ref')):\n",
    "    #print(file)\n",
    "    with open(file, 'r') as fi:\n",
    "        ene = float(re.findall('\\S+', fi.readline())[1])\n",
    "        nat = int(re.findall('\\S+', fi.readline())[1])\n",
    "        xyz = np.zeros((nat, 3), dtype=float)\n",
    "        frc = np.zeros((nat, 3), dtype=float)\n",
    "        #print('number of atoms:', nat, '\\nenergy:', ene)\n",
    "        for i in range(nat):\n",
    "            line = fi.readline()\n",
    "            xyz[i] = [float(line[c[0]:c[1]]) for c in rcols]\n",
    "            frc[i] = [float(line[c[0]:c[1]]) for c in fcols]\n",
    "        enes.append(ene)\n",
    "        xyzs.append(xyz)\n",
    "        frcs.append(frc)\n",
    "\n",
    "#enes = np.array(enes)\n",
    "#xyzs = np.array(xyzs)\n",
    "#frcs = np.array(frcs)\n",
    "#box = np.ones_like(enes)*alatt\n",
    "#temps = np.ones_like(enes)*4000.0\n",
    "box = [alatt for _ in range(len(enes))]\n",
    "temps = [4000.0 for _ in range(len(enes))]\n",
    "\n",
    "#enes.append(0.0)\n",
    "#box.append(box[0]*3)\n",
    "#xyzs.append(xyzs[0]*3)\n",
    "#temps.append(4000.0)\n",
    "#frcs.append(np.zeros_like(frcs[0]))\n",
    "\n",
    "# save trajectory in a pickle\n",
    "traj = {'box':box, 'xyz':xyzs, 'energy':enes, 'forces':frcs, 'temp':temps}\n",
    "with open(os.path.join(target_proc, \"liq_4000k.pickle\"), 'wb') as fo:\n",
    "    pickle.dump(traj, fo)\n",
    "    \n",
    "with open(os.path.join(target_proc, \"liq_4000k.pickle\"), 'rb') as fo:\n",
    "    traj_test = pickle.load(fo)\n",
    "    #plt.plot(traj_test['energy']/113)\n",
    "    plt.plot([e/x.shape[0] for e, x in zip(traj_test['energy'], traj_test['xyz'])])\n",
    "    #plt.plot(fi['box'])\n",
    "    plt.title('Energies of individual configurations')"
   ]
  },
  {
   "cell_type": "markdown",
   "metadata": {},
   "source": [
    "### Data from German - zero T"
   ]
  },
  {
   "cell_type": "markdown",
   "metadata": {},
   "source": [
    "** German - all 0K systems joined in a 'trajectory' **"
   ]
  },
  {
   "cell_type": "code",
   "execution_count": 115,
   "metadata": {},
   "outputs": [
    {
     "name": "stdout",
     "output_type": "stream",
     "text": [
      "../data/target_raw/dft_w/bcc/rlx.out\n",
      "(54, 3)\n",
      "../data/target_raw/dft_w/vacancy/rlx.out\n",
      "(53, 3)\n",
      "../data/target_raw/dft_w/110/rlx.out\n",
      "(55, 3)\n",
      "../data/target_raw/dft_w/111/rlx.out\n",
      "(55, 3)\n",
      "ee -480.6000000000204 -2160.763257898944 54 -8.900000000000377\n",
      "ee -468.60958975147514 -2160.763257898944 53 -8.841690372669342\n",
      "ee -478.6412966408825 -2160.763257898944 55 -8.702569029834228\n",
      "ee -478.64398486557184 -2160.763257898944 55 -8.702617906646761\n",
      "fac [9.554717884929337, 9.554717884929337, 9.554717884929337, 9.554717884929337, 28.66415365478801]\n"
     ]
    },
    {
     "data": {
      "image/png": "[encoded data removed]",
      "text/plain": [
       "<matplotlib.figure.Figure at 0x1058c5be0>"
      ]
     },
     "metadata": {},
     "output_type": "display_data"
    }
   ],
   "source": [
    "# source and destination directories\n",
    "german_raw = os.path.join(target_raw, 'dft_w')\n",
    "german_proc = os.path.join(target_proc, 'german')\n",
    "\n",
    "# directories with specific 0K data\n",
    "#dirs = ['bcc', 'fcc', 'vacancy', '110', '111', '111_easy_core']\n",
    "#dirs = ['bcc', 'fcc', 'vacancy', '110', '111']\n",
    "dirs = ['bcc', 'vacancy', '110', '111']\n",
    "#dirs = ['bcc', '110','111']\n",
    "#dirs = ['bcc']\n",
    "\n",
    "\n",
    "\n",
    "# read appropriate contents - c oordinates, energies, Hessians?\n",
    "sentA = \"     End of BFGS Geometry Optimization\\n\" # sentinel 1 for file read\n",
    "sentB = \"End final coordinates\\n\"                  # sentinel 2 for file read\n",
    "sent_lattic = r'(lattice parameter)'\n",
    "\n",
    "xyz = {}\n",
    "ene = {}\n",
    "box = {}\n",
    "for cdir in dirs:\n",
    "    dname = os.path.join(german_raw, cdir)\n",
    "    with open(os.path.join(dname, 'rlx.out')) as fi:\n",
    "        print(os.path.join(dname, 'rlx.out'))\n",
    "        for line in iter(fi.readline, sentA):\n",
    "            if re.search(sent_lattic, line):\n",
    "                alatt = float(re.findall('\\S+', line)[-2])*au2angstrom\n",
    "                break\n",
    "                \n",
    "        for line in iter(fi.readline, sentA):\n",
    "            pass\n",
    "        fi.readline()\n",
    "        ene[cdir] = float(re.findall('\\S+', fi.readline())[3])\n",
    "        [fi.readline() for _ in range(3)]\n",
    "        xyz[cdir] = np.array([list(map(float, re.findall('\\S+', line)[1:4])) for line in iter(fi.readline, sentB)])\n",
    "        print(xyz[cdir].shape)\n",
    "        box[cdir] = alatt\n",
    "        \n",
    "# Join data into pseudo-trajectories\n",
    "enes = [ene[cdir]*Ry2eV for cdir in dirs]\n",
    "xyzs = [xyz[cdir]*box[cdir] for cdir in dirs]\n",
    "box = [box[cdir] for cdir in dirs]\n",
    "temps = [0.0 for cdir in dirs]\n",
    "frcs = [np.zeros_like(xyz[cdir]) for cdir in dirs]\n",
    "        \n",
    "#print('shapes', enes.shape, box, [xyzs[i].shape for i in range(xyzs.shape[0])])\n",
    "#print('xyzs', type(xyzs), xyzs.shape)\n",
    "\n",
    "# determine interaction energy\n",
    "u_t = enes[0]/xyzs[0].shape[0] # total energy per atom\n",
    "u_e = -8.9 # external energy from atom (experimental)\n",
    "u_i = u_t - u_e # internal energy per atom (to be subtracted from all atoms)\n",
    "\n",
    "for i in range(len(enes)):\n",
    "    enes[i] -= u_i*xyzs[i].shape[0]\n",
    "    print('ee', enes[i], u_i, xyzs[i].shape[0], enes[i]/xyzs[i].shape[0])\n",
    "\n",
    "# Add extra configuration with zero energy (atoms far apart)\n",
    "enes.append(0.0)\n",
    "box.append(box[0]*3)\n",
    "xyzs.append(xyzs[0]*3)\n",
    "temps.append(0.0)\n",
    "frcs.append(np.zeros_like(frcs[0]))\n",
    "\n",
    "# save trajectory in a pickle\n",
    "traj = {'box':box, 'xyz':xyzs, 'energy':enes, 'temp':temps, 'forces':frcs}\n",
    "with open(os.path.join(target_proc, \"structs_0k.pickle\"), 'wb') as fo:\n",
    "    pickle.dump(traj, fo)\n",
    "    \n",
    "print('fac',traj['box'])\n",
    "with open(os.path.join(target_proc, \"structs_0k.pickle\"), 'rb') as fo:\n",
    "    traj_test = pickle.load(fo)\n",
    "    plt.plot([e/x.shape[0] for e, x in zip(traj_test['energy'], traj_test['xyz'])])\n",
    "    #plt.plot(fi['box'])\n",
    "    plt.title('Energies of individual configurations')"
   ]
  },
  {
   "cell_type": "markdown",
   "metadata": {},
   "source": [
    "### Data from German - MD\n",
    "\n",
    "Berendsent thermostat\n",
    "\n",
    "* 300 K"
   ]
  },
  {
   "cell_type": "code",
   "execution_count": 114,
   "metadata": {},
   "outputs": [
    {
     "name": "stdout",
     "output_type": "stream",
     "text": [
      "../data/target_raw/dft_md\n",
      "../data/target_raw/dft_md/t300K\n",
      "../data/target_raw/dft_md/t300K/md.out\n",
      "../data/target_raw/dft_md/t300K/md.out\n",
      "(1201, 54, 3) (1201, 54, 3) (1201,) (1201,) (1201,)\n",
      "lenghts 101 101 (54, 3)\n"
     ]
    },
    {
     "data": {
      "image/png": "[encoded data removed]",
      "text/plain": [
       "<matplotlib.figure.Figure at 0x106df7b70>"
      ]
     },
     "metadata": {},
     "output_type": "display_data"
    }
   ],
   "source": [
    "# source and destination directories\n",
    "german_raw = os.path.join(target_raw, 'dft_md')\n",
    "german_proc = os.path.join(target_proc, 'german_md')\n",
    "\n",
    "# directories with specific temperature data\n",
    "temperatures = [300.0] # K\n",
    "cdirs = [ 't'+str(int(t))+'K' for t in temperatures]\n",
    "\n",
    "# read appropriate contents - coordinates, energies, forces\n",
    "sent_natoms = \"number of atoms\"\n",
    "sent_temper = \"Starting temperature\"\n",
    "sent_lattic = \"lattice parameter\"\n",
    "sent_Forces = \"Forces acting on atoms\" # sentinel for atomic forces\n",
    "sent_Coords = \"ATOMIC_POSITIONS\"       # sentinel for atomic coordinates\n",
    "sent_Enekin = \"kinetic energy\"         # sentinel for kinetic energy\n",
    "sent_Enetot = \"Etot\"            # sentinel for total energy\n",
    "\n",
    "for cdir in cdirs:\n",
    "    dname = os.path.join(german_raw, cdir)\n",
    "    print(german_raw)\n",
    "    print(dname)\n",
    "    print(os.path.join(dname, 'md.out'))\n",
    "\n",
    "    with open(os.path.join(dname, 'md.out')) as fi:\n",
    "        print(os.path.join(dname, 'md.out'))\n",
    "        \n",
    "        ff = [] ; rr = [] ; E_kin = [] ; E_tot = []\n",
    "        for line in iter(fi.readline, ''):\n",
    "            \n",
    "            if re.search(sent_lattic, line):\n",
    "                alatt = float(re.findall('\\S+', line)[-2])*au2angstrom\n",
    "                \n",
    "            if re.search(sent_natoms, line):\n",
    "                natoms = int(re.findall('\\S+', line)[-1])\n",
    "                \n",
    "            if re.search(sent_temper, line):\n",
    "                temperature = float(re.findall('\\S+', line)[-2])\n",
    "                \n",
    "            if re.search(sent_Forces, line):\n",
    "                fi.readline()      \n",
    "                ff.append(np.array([list(map(float, re.findall('\\S+', fi.readline())[-3:])) for i in range(natoms)]))\n",
    " \n",
    "            if re.search(sent_Coords, line):\n",
    "                rr.append(np.array([list(map(float, re.findall('\\S+', fi.readline())[-3:])) for i in range(natoms)]))\n",
    "            \n",
    "            if re.search(sent_Enekin, line):\n",
    "                E_kin.append(float(re.findall('\\S+', line)[-2]))\n",
    "                \n",
    "            if re.search(sent_Enetot, line):\n",
    "                E_tot.append(float(re.findall('\\S+', line)[-2]))\n",
    "           \n",
    "        frcs = np.array(ff)*Ry2eV/au2angstrom # kj/mol/Angstrom\n",
    "        xyzs = np.array(rr)*alatt\n",
    "        E_tot = np.array(E_tot)*Ry2eV\n",
    "        E_kin = np.array(E_kin)*Ry2eV\n",
    "        box = np.ones_like(E_tot)*alatt\n",
    "        \n",
    "        print(frcs.shape, xyzs.shape, E_tot.shape, E_kin.shape, box.shape)\n",
    "\n",
    "    enes = E_tot - E_kin\n",
    "    temps = np.ones_like(enes)*300.0\n",
    "    \n",
    "    for i in range(len(enes)):\n",
    "        enes[i] -= u_i*xyzs[i].shape[0]\n",
    "        #print('ee', enes[i], u_i, xyzs[i].shape[0], enes[i]/xyzs[i].shape[0])\n",
    "        \n",
    "    # select configurations\n",
    "    box = list(box[200::10])\n",
    "    xyzs = list(xyzs[200::10])\n",
    "    enes = list(enes[200::10])\n",
    "    frcs = list(frcs[200::10])\n",
    "    temps = list(temps[200::10])\n",
    "    \n",
    "    # Add extra configuration with zero energy (atoms far apart)\n",
    "    for _ in range(0):\n",
    "        enes.append(0.0)\n",
    "        box.append(box[0]*3)\n",
    "        xyzs.append(xyzs[0]*3)\n",
    "        temps.append(0.0)\n",
    "        frcs.append(np.zeros_like(frcs[0]))\n",
    "\n",
    "    print('lenghts', len(box), len(xyzs), frcs[0].shape)\n",
    "    # save trajectory in a pickle\n",
    "    traj = {'box':box, 'xyz':xyzs, 'energy':enes, 'forces':frcs, 'temp':temps}\n",
    "    with open(os.path.join(target_proc, \"bcc_300k.pickle\"), 'wb') as fo:\n",
    "        pickle.dump(traj, fo)\n",
    "\n",
    "    with open(os.path.join(target_proc, \"bcc_300k.pickle\"), 'rb') as fo:\n",
    "        traj_test = pickle.load(fo)\n",
    "        plt.plot([e/x.shape[0] for e, x in zip(traj_test['energy'], traj_test['xyz'])])\n",
    "        #plt.plot(fi['box'])\n",
    "        plt.title('Energies of individual configurations')"
   ]
  },
  {
   "cell_type": "code",
   "execution_count": 110,
   "metadata": {},
   "outputs": [
    {
     "name": "stdout",
     "output_type": "stream",
     "text": [
      "(1201, 54, 3)\n",
      "Average displacement: 0.0813051914325\n",
      "Force constant: 377.328297825 kJ/mol/A^2\n",
      "Stress tensor C_11: 314.70013393 GPa\n",
      "Average atomic displacement relative to the lattice constant: 2.56904674648 %\n",
      "Maximum displacement: 0.173918\n",
      "Maximum atomic displacement relative to the lattice constant: 5.49537949904 %\n"
     ]
    },
    {
     "data": {
      "image/png": "[encoded data removed]",
      "text/plain": [
       "<matplotlib.figure.Figure at 0x105d045c0>"
      ]
     },
     "metadata": {},
     "output_type": "display_data"
    }
   ],
   "source": [
    "# Estimate the force constant and stress tensor component C_11 from the atomic distributions around COMs\n",
    "\n",
    "cdir = 't300K'\n",
    "with h5py.File(os.path.join(target_proc, \"md_\" + cdir + \".h5\"), \"r\") as fi:\n",
    "    rr = fi['coordinates'][...]\n",
    "    print(rr.shape)\n",
    "    r_var = (np.sum(np.var(rr[200:,:,:], axis=0), axis=1))\n",
    "    r_var_mean = np.mean(r_var)\n",
    "    print('Average displacement:', r_var_mean**0.5)#, r_var)\n",
    "    plt.plot(np.arange(r_var.shape[0]), r_var)\n",
    "    plt.hlines(r_var_mean, 0, r_var.shape[0])\n",
    "    #plt.hist(r_var, bins=20)\n",
    "\n",
    "    plt.xlabel('atoms')\n",
    "    plt.ylabel('$r^2$')\n",
    "\n",
    "    # Estimated harmonic force constant\n",
    "    k = (8.314472*300/1000)/(r_var_mean)\n",
    "    print(\"Force constant:\", k, 'kJ/mol/A^2')\n",
    "\n",
    "    # W atoms per 1m^2\n",
    "    density = 19300 # kg/m^3\n",
    "    M_W = 183.84 #g/mol atomic weight  \n",
    "    N_A = (19300*1000/183.84*6.022e23)**(2/3) # number of atoms per 1m^2\n",
    "    \n",
    "    # Stress tensor component C_11\n",
    "    a_w = 3.1648 # lattice constant\n",
    "    k_atom = k*1000/6.022e23/1e-10*3.1648/1e9\n",
    "    C = k_atom * N_A\n",
    "    \n",
    "    print(\"Stress tensor C_11:\", C, 'GPa')\n",
    "    \n",
    "    print(\"Average atomic displacement relative to the lattice constant:\", r_var_mean**0.5/a_w*100, \"%\")\n",
    "    \n",
    "    # Maximum displacement\n",
    "    r_max = np.max(rr[200:,:,:] - np.mean(rr[200:,:,:], axis=0))\n",
    "    print('Maximum displacement:', r_max)\n",
    "    print(\"Maximum atomic displacement relative to the lattice constant:\", r_max/a_w*100, \"%\")\n"
   ]
  },
  {
   "cell_type": "markdown",
   "metadata": {},
   "source": [
    "## 3. IFF functional form\n",
    "\n",
    "### 3.1 Finnis-Sinclair potential\n",
    "\n",
    "Energy of an N-particle configuration\n",
    "\n",
    "$$ E = \\sum_{i=1}^N \\left[ \\sum_{j>i}^N V\\left(r_{ij}\\right) + F\\left(\\rho_i\\right) \\right] $$\n",
    "\n",
    "Pair interaction\n",
    "\n",
    "$$ V\\left(r_{ij}\\right) = \\left(r_{ij}-c\\right)^2\\left(c_0 + c_1r_{ij} + c_2r_{ij}^2\\right),\\,\\, r_{ij}\\le c $$\n",
    "\n",
    "\n",
    "Embedded function\n",
    "\n",
    "$$ F = -A\\sqrt{\\rho_i} $$\n",
    "\n",
    "Effective electron density\n",
    "\n",
    "$$ \\rho_i = \\sum_{j\\ne i}^N \\phi\\left(r_{ij}\\right) $$\n",
    "\n",
    "Cohesive potential\n",
    "\n",
    "$$ \\phi\\left(r_{ij}\\right) = \\left(r_{ij}-d\\right)^2,\\,\\, r_{ij}\\le d $$\n",
    "\n",
    "** Starting W parameters: ** (Finnis and Sinclair, _Phil. Mag. A_, **50(1)**, 45-66, 1984)\n",
    "* Fixed\n",
    "  * c = 3.25\n",
    "  * d = 4.400224\n",
    "* To be optimized\n",
    "  * A = 1.896373\n",
    "  * c0 = 47.1346499\n",
    "  * c1 = -33.7665655\n",
    "  * c2 = 6.2541999"
   ]
  },
  {
   "cell_type": "markdown",
   "metadata": {},
   "source": [
    "## 4. Loss function\n",
    "\n",
    "**Squared statistical distance**\n",
    "\n",
    "  $$ s^2 = \\arccos^2\\left(C_B\\right) $$\n",
    "\n",
    "\n",
    "1. Ab initio data\n",
    "  * Energies\n",
    "    $$ C_B = \\sum_{k=1}^{kmax} \\exp\\left[ -\\beta\\left(\\Delta u_k - \\Delta F\\right)/2\\right] $$\n",
    "  * Forces\n",
    "  * Hessians\n",
    "\n",
    "2. Structural fluctuations\n",
    "  * Fit Gaussian distributions described by bulk parameters\n",
    "    * Mean values (A): lattice parameters (at a particular T\n",
    "    * Variance (V): depends on elastic constants\n",
    "    \n",
    "  $$ \\ln\\left(C_B\\right) = \\frac{1}{4k_BT^2}\\frac{\\left(A_M - A_T\\right)^2}{4\\left(V_M - V_T\\right)} - \\frac{1}{4}\\ln\\frac{4 V_MV_T}{\\left(V_M+V_T\\right)^2} $$ \n",
    "  \n",
    "  * How exactly are the different elastic constants defined?\n",
    "  * Translate C11, C12, C44 to variances"
   ]
  },
  {
   "cell_type": "markdown",
   "metadata": {},
   "source": [
    "## 5. Optimization\n",
    "\n",
    "* A set of Fortran codes for parameter search on grid at:'https://github.com/vlcekl/sopt/tree/master/src/optimize/search_grid'\n",
    "* A Python script for simplex search at https://github.com/vlcekl/sopt/tree/master/src/optimize/search_simplex\n",
    "\n",
    "** Currently performing parameter grid search for FS potential ** "
   ]
  }
 ],
 "metadata": {
  "kernelspec": {
   "display_name": "Python 3",
   "language": "python",
   "name": "python3"
  },
  "language_info": {
   "codemirror_mode": {
    "name": "ipython",
    "version": 3
   },
   "file_extension": ".py",
   "mimetype": "text/x-python",
   "name": "python",
   "nbconvert_exporter": "python",
   "pygments_lexer": "ipython3",
   "version": "3.6.1"
  }
 },
 "nbformat": 4,
 "nbformat_minor": 2
}
