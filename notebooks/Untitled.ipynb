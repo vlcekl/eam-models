{
 "cells": [
  {
   "cell_type": "code",
   "execution_count": 1,
   "metadata": {
    "collapsed": true
   },
   "outputs": [],
   "source": [
    "import numpy as np\n",
    "%matplotlib inline\n",
    "import matplotlib.pyplot as plt"
   ]
  },
  {
   "cell_type": "code",
   "execution_count": 45,
   "metadata": {
    "collapsed": true
   },
   "outputs": [],
   "source": [
    "def pa_root(x):\n",
    "    r = 256.+1792*x+1120*x**2+112*x**3+x**4\n",
    "    r /= 1024+1792*x+448*x**2+16*x**3\n",
    "    #r -= 0.25*(1 - x/0.8)\n",
    "    return r"
   ]
  },
  {
   "cell_type": "code",
   "execution_count": 74,
   "metadata": {
    "collapsed": true
   },
   "outputs": [],
   "source": [
    "def pa_root_b(n):\n",
    "    m = 1\n",
    "    r = m**8+28*m**6*n+70*m**4*n**2+28*m**2*n**3+n**4\n",
    "    r /= 8*m**7+56*m**5*n+56*m**3*n**2+8*m*n**3\n",
    "    return r"
   ]
  },
  {
   "cell_type": "code",
   "execution_count": 82,
   "metadata": {},
   "outputs": [
    {
     "name": "stdout",
     "output_type": "stream",
     "text": [
      "0.25\n"
     ]
    },
    {
     "data": {
      "image/png": "[encoded data removed]",
      "text/plain": [
       "<matplotlib.figure.Figure at 0x1118a8860>"
      ]
     },
     "metadata": {},
     "output_type": "display_data"
    }
   ],
   "source": [
    "r = np.linspace(1, 10, 1000)\n",
    "plt.plot(r, np.sqrt(r), label='sqrt')\n",
    "plt.plot(r, [pa_root(x) for x in r], label='approx. A')\n",
    "plt.plot(r, [pa_root_b(x) for x in r], 'b--', label='approx. B')\n",
    "plt.legend()\n",
    "print(pa_root(0.))"
   ]
  },
  {
   "cell_type": "code",
   "execution_count": null,
   "metadata": {
    "collapsed": true
   },
   "outputs": [],
   "source": []
  },
  {
   "cell_type": "code",
   "execution_count": null,
   "metadata": {
    "collapsed": true
   },
   "outputs": [],
   "source": []
  }
 ],
 "metadata": {
  "kernelspec": {
   "display_name": "Python 3",
   "language": "python",
   "name": "python3"
  },
  "language_info": {
   "codemirror_mode": {
    "name": "ipython",
    "version": 3
   },
   "file_extension": ".py",
   "mimetype": "text/x-python",
   "name": "python",
   "nbconvert_exporter": "python",
   "pygments_lexer": "ipython3",
   "version": "3.6.1"
  }
 },
 "nbformat": 4,
 "nbformat_minor": 2
}
