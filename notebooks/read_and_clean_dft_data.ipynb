{
 "cells": [
  {
   "cell_type": "code",
   "execution_count": 1,
   "metadata": {
    "collapsed": true
   },
   "outputs": [],
   "source": [
    "import os\n",
    "import sys\n",
    "import re\n",
    "import numpy as np\n",
    "%matplotlib inline\n",
    "import matplotlib.pyplot as plt\n",
    "import copy\n",
    "import pickle\n",
    "import multiprocessing as mp"
   ]
  },
  {
   "cell_type": "code",
   "execution_count": 2,
   "metadata": {
    "collapsed": true
   },
   "outputs": [],
   "source": [
    "# jupyter notebook settings for debugging\n",
    "%load_ext autoreload\n",
    "%autoreload 2"
   ]
  },
  {
   "cell_type": "code",
   "execution_count": 3,
   "metadata": {
    "collapsed": true
   },
   "outputs": [],
   "source": [
    "# statmech library setup\n",
    "sys.path.append('../../statmechlib')\n",
    "from statmechlib.read_write import read_vasp\n",
    "from statmechlib.preprocessing import Trajectory, select_nodes, scale_configuration, pair_dist\n",
    "from statmechlib.preprocessing import force_targ, get_stats_EAM_per_atom, get_stats_EAM_per_box"
   ]
  },
  {
   "cell_type": "code",
   "execution_count": 4,
   "metadata": {
    "collapsed": true
   },
   "outputs": [],
   "source": [
    "# Define locations of relevant datasets\n",
    "\n",
    "target_raw = '../data/target_raw'\n",
    "target_proc = '../data/target_processed'\n",
    "working = '../data/working'\n",
    "\n",
    "# MD trajectories\n",
    "datasets_MD = ['bcc_npt_langevin_300K',\n",
    "            'fcc_npt_langevin_300K',\n",
    "            'vac_npt_langevin_2000K',\n",
    "            'i110_npt_langevin_2000K',\n",
    "            'i111_npt_langevin_2000K',\n",
    "            'screw_111_npt_langevin_2000K',\n",
    "            'bcc_npt_langevin_3700K',\n",
    "            'liq_3700K',\n",
    "            'liq_5000K']\n",
    "\n",
    "# 0K relaxed structures\n",
    "datasets_0k = ['bcc_0k',\n",
    "               'fcc_0k',\n",
    "               'vac_0k',\n",
    "               'i110_0k',\n",
    "               'i111_0k',\n",
    "               'screw_111_0k']\n",
    "\n",
    "# equations of state for BCC and FCC lattices\n",
    "configs = ['v0.8','v0.9','v1.0','v1.1','v1.2','v1.3','v1.4','v1.5']\n",
    "\n",
    "datasets_eos_bcc = ['eq_st_bcc/' + s for s in configs]\n",
    "datasets_eos_fcc = ['eq_st_fcc/' + s for s in configs]\n",
    "\n",
    "# bain path\n",
    "configs = ['1.00', '1.05', '1.10', '1.15', '1.20', '1.25', '1.30', '1.35', '1.40', '1.45', '1.50', '1.55']\n",
    "\n",
    "datasets_bain = ['bain_path/' + s for s in configs]\n",
    "\n",
    "# vacancy interactions\n",
    "\n",
    "configs = ['v2_r1', 'v2_r2', 'v2_r3', 'v3_1_555', 'v3_3_555', 'v4_2_555', 'v4_5_555', 'v5_555', 'v6_555', 'v6_6x6x6_360']#, 'prf_360']\n",
    "\n",
    "datasets_vacint = ['vacint/' + s for s in configs]\n",
    "\n",
    "# defined dataset directories relative to the current directory (/notebooks)\n",
    "trajdirs_MD = [target_raw + '/' + dataset for dataset in datasets_MD]\n",
    "trajdirs_0k = [target_raw + '/' + dataset for dataset in datasets_0k]\n",
    "trajdirs_eos_bcc = [target_raw + '/' + dataset for dataset in datasets_eos_bcc]\n",
    "trajdirs_eos_fcc = [target_raw + '/' + dataset for dataset in datasets_eos_fcc]\n",
    "trajdirs_bain = [target_raw + '/' + dataset for dataset in datasets_bain]\n",
    "trajdirs_vacint = [target_raw + '/' + dataset for dataset in datasets_vacint]"
   ]
  },
  {
   "cell_type": "code",
   "execution_count": 5,
   "metadata": {},
   "outputs": [
    {
     "name": "stdout",
     "output_type": "stream",
     "text": [
      "Done with vacint\n",
      "Done with MD\n",
      "Done with 0k\n",
      "Done with BCC EOS\n",
      "Done with FCC EOS\n",
      "Done with bain path\n",
      "CPU times: user 479 ms, sys: 194 ms, total: 673 ms\n",
      "Wall time: 6min 6s\n"
     ]
    }
   ],
   "source": [
    "%%time\n",
    "\n",
    "# set up a multiprocessing pool\n",
    "pool = mp.Pool()\n",
    "\n",
    "# read vacancy interactins in parallel\n",
    "output_data = pool.map(read_vasp, trajdirs_vacint)\n",
    "trajectories_vacint = dict(zip(datasets_vacint, output_data))\n",
    "print('Done with vacint')\n",
    "\n",
    "# read MD trajectories in parallel\n",
    "output_data = pool.map(read_vasp, trajdirs_MD)\n",
    "trajectories_MD = dict(zip(datasets_MD, output_data))\n",
    "print('Done with MD')\n",
    "\n",
    "# read 0K configurations in parallel\n",
    "output_data = pool.map(read_vasp, trajdirs_0k)\n",
    "trajectories_0k = dict(zip(datasets_0k, output_data))\n",
    "print('Done with 0k')\n",
    "\n",
    "# read BCC EOS in parallel\n",
    "output_data = pool.map(read_vasp, trajdirs_eos_bcc)\n",
    "trajectories_eos_bcc = dict(zip(datasets_eos_bcc, output_data))\n",
    "print('Done with BCC EOS')\n",
    "\n",
    "# read BCC EOS in parallel\n",
    "output_data = pool.map(read_vasp, trajdirs_eos_fcc)\n",
    "trajectories_eos_fcc = dict(zip(datasets_eos_fcc, output_data))\n",
    "print('Done with FCC EOS')\n",
    "\n",
    "# read bain path in parallel\n",
    "output_data = pool.map(read_vasp, trajdirs_bain)\n",
    "trajectories_bain = dict(zip(datasets_bain, output_data))\n",
    "print('Done with bain path')\n",
    "\n",
    "pool.close()\n",
    "pool.join()"
   ]
  },
  {
   "cell_type": "code",
   "execution_count": 6,
   "metadata": {
    "collapsed": true
   },
   "outputs": [],
   "source": [
    "# Convert MD trajectory dicts to objects\n",
    "trjs_MD = {}\n",
    "for k, trj in trajectories_MD.items():\n",
    "    trjs_MD[k] = Trajectory(trj, inplace=False)\n",
    "    \n",
    "# Convert 0K configs to objects\n",
    "trjs_0k = {}\n",
    "for k, trj in trajectories_0k.items():\n",
    "    trjs_0k[k] = Trajectory(trj, inplace=False)[-1]\n",
    "\n",
    "# Convert bcc eos configs to objects\n",
    "trjs_eos_bcc = {}\n",
    "for k, trj in trajectories_eos_bcc.items():\n",
    "    trjs_eos_bcc[k] = Trajectory(trj, inplace=False)[-1]\n",
    "    \n",
    "# Convert fcc eos configs to objects\n",
    "trjs_eos_fcc = {}\n",
    "for k, trj in trajectories_eos_fcc.items():\n",
    "    trjs_eos_fcc[k] = Trajectory(trj, inplace=False)[-1]\n",
    "    \n",
    "# Convert bain path configs to objects\n",
    "trjs_bain = {}\n",
    "for k, trj in trajectories_bain.items():\n",
    "    trjs_bain[k] = Trajectory(trj, inplace=False)[-1]\n",
    "    \n",
    "# Convert vacint configs to objects\n",
    "trjs_vacint = {}\n",
    "for k, trj in trajectories_vacint.items():\n",
    "    trjs_vacint[k] = Trajectory(trj, inplace=False)[-1]"
   ]
  },
  {
   "cell_type": "code",
   "execution_count": 7,
   "metadata": {},
   "outputs": [
    {
     "name": "stdout",
     "output_type": "stream",
     "text": [
      "[-1656.32569971]\n"
     ]
    }
   ],
   "source": [
    "print(trjs_0k['bcc_0k']['energy'])\n",
    "trjs_0k['bcc_0k']['energy'] = [-1656.28114021]"
   ]
  },
  {
   "cell_type": "code",
   "execution_count": 8,
   "metadata": {},
   "outputs": [
    {
     "data": {
      "image/png": "[encoded data removed]",
      "text/plain": [
       "<matplotlib.figure.Figure at 0x10eb5b890>"
      ]
     },
     "metadata": {},
     "output_type": "display_data"
    }
   ],
   "source": [
    "plt.figure(figsize=(20,10))\n",
    "ratio = [trjs_bain[key]['box'][0][2,2]/trjs_bain[key]['box'][0][0,0] for key in datasets_bain]\n",
    "plt.plot(ratio, np.array([trjs_bain[key]['energy'] for key in datasets_bain])/128.- trjs_bain['bain_path/1.00']['energy'][-1]/128.)\n",
    "plt.xlim(1.0, 1.95)\n",
    "plt.grid(True)"
   ]
  },
  {
   "cell_type": "code",
   "execution_count": 9,
   "metadata": {},
   "outputs": [
    {
     "name": "stdout",
     "output_type": "stream",
     "text": [
      "[6.430017071480506, 6.784737061480882, 6.2768544914806625, 9.969432832036546, 9.755272912036617, 13.857983257777505, 12.321587277777326, 15.914078663518012, 17.066486479258856, 16.953738564443483]\n",
      "[6.192567520000011, 6.547287510000388, 6.039404940000168, 9.833037392000278, 9.61887747200035, 13.722140026000034, 12.185744045999854, 15.778787640000246, 16.931747663999886, 16.71849784599999]\n",
      "[430 430 430 247 247 246 246 245 244 426]\n"
     ]
    },
    {
     "data": {
      "image/png": "[encoded data removed]",
      "text/plain": [
       "<matplotlib.figure.Figure at 0x1147c41d0>"
      ]
     },
     "metadata": {},
     "output_type": "display_data"
    }
   ],
   "source": [
    "plt.figure(figsize=(20,10))\n",
    "#ratio = [trjs_vacint[key]['box'][0][2,2]/trjs_bain[key]['box'][0][0,0] for key in datasets_bain]\n",
    "plt.title('Vacancy cluster formation energies')\n",
    "nat = np.array([len(trjs_vacint[key]['xyz'][-1]) for key in sorted(datasets_vacint)])\n",
    "enes_big =   [trjs_vacint[key]['energy'][-1] + 5598.713470/432*nat[i] for i, key in enumerate(sorted(datasets_vacint))]\n",
    "enes_small = [trjs_vacint[key]['energy'][-1] + 3239.858169/250*nat[i] for i, key in enumerate(sorted(datasets_vacint))]\n",
    "\n",
    "#plt.plot(np.array([trjs_vacint[key]['energy'][-1] for key in datasets_vacint])/nat - 8.9)\n",
    "#plt.xlim(1.0, 1.95)\n",
    "plt.grid(True)\n",
    "plt.plot(enes_big)\n",
    "plt.plot(enes_small)\n",
    "#plt.plot(np.array([trjs_vacint[key]['energy'][-1] for key in sorted(datasets_vacint)]) - trjs_0k['bcc_0k']['energy'][-1]/128.*nat)\n",
    "x_ticks = (list(range(len(trjs_vacint.keys()))), sorted(list(trjs_vacint.keys())))\n",
    "plt.xticks(*x_ticks)\n",
    "\n",
    "\n",
    "print([trjs_vacint[key]['energy'][-1] + 5598.713470/432*nat[i] for i, key in enumerate(sorted(datasets_vacint))])\n",
    "print([trjs_vacint[key]['energy'][-1] + 3239.858169/250*nat[i] for i, key in enumerate(sorted(datasets_vacint))])\n",
    "print(nat)"
   ]
  },
  {
   "cell_type": "code",
   "execution_count": 10,
   "metadata": {
    "collapsed": true
   },
   "outputs": [],
   "source": [
    "# Join relaxed configurations into pseudo-trajectories\n",
    "\n",
    "# join 0 K configurations into a pseudo-trajectory\n",
    "traj_0k = copy.deepcopy(trjs_0k['bcc_0k'])\n",
    "for k, trj in sorted(trjs_0k.items()):\n",
    "    if 'bcc_0k' not in k:\n",
    "        traj_0k.append(trj)\n",
    "\n",
    "# join eos bcc configurations into a pseudo-trajectory\n",
    "traj_eos_bcc = copy.deepcopy(trjs_eos_bcc['eq_st_bcc/v0.8'])\n",
    "for k, trj in sorted(trjs_eos_bcc.items()):\n",
    "    if k != 'eq_st_bcc/v0.8':\n",
    "        traj_eos_bcc.append(trj)\n",
    "\n",
    "# join eos fcc configurations into a pseudo-trajectory\n",
    "traj_eos_fcc = copy.deepcopy(trjs_eos_fcc['eq_st_fcc/v0.8'])\n",
    "for k, trj in sorted(trjs_eos_fcc.items()):\n",
    "    if k != 'eq_st_fcc/v0.8':\n",
    "    #if ('v0.8' in k) or ('v0.9' in k) or ('v1.1' in k) or ('v1.2' in k):\n",
    "        traj_eos_fcc.append(trj)\n",
    "        \n",
    "# join bain path configurations into a pseudo-trajectory\n",
    "traj_bain = copy.deepcopy(trjs_bain['bain_path/1.00'])\n",
    "for k, trj in sorted(trjs_bain.items()):\n",
    "    if k != 'bain_path/1.00':\n",
    "        traj_bain.append(trj)\n",
    "        \n",
    "# join vacint configurations into a pseudo-trajectory\n",
    "traj_vacint = copy.deepcopy(trjs_vacint['vacint/v2_r1'])\n",
    "for k, trj in sorted(trjs_vacint.items()):\n",
    "    if k != 'vacint/v2_r1':\n",
    "        traj_vacint.append(trj)"
   ]
  },
  {
   "cell_type": "code",
   "execution_count": 11,
   "metadata": {
    "collapsed": true
   },
   "outputs": [],
   "source": [
    "# Create a dictionary of trajectories\n",
    "trjs = {}\n",
    "trjs.update(trjs_MD)\n",
    "trjs['relax'] = traj_0k\n",
    "trjs['eos_bcc'] = traj_eos_bcc\n",
    "trjs['eos_fcc'] = traj_eos_fcc\n",
    "trjs['bain'] = traj_bain\n",
    "trjs['vacint'] = traj_vacint"
   ]
  },
  {
   "cell_type": "code",
   "execution_count": 12,
   "metadata": {},
   "outputs": [
    {
     "name": "stdout",
     "output_type": "stream",
     "text": [
      "('bcc_npt_langevin_3700K', <class 'statmechlib.preprocessing.trajectory.Trajectory'>)\n",
      "('vac_npt_langevin_2000K', <class 'statmechlib.preprocessing.trajectory.Trajectory'>)\n",
      "('relax', <class 'statmechlib.preprocessing.trajectory.Trajectory'>)\n",
      "('screw_111_npt_langevin_2000K', <class 'statmechlib.preprocessing.trajectory.Trajectory'>)\n",
      "('bcc_npt_langevin_300K', <class 'statmechlib.preprocessing.trajectory.Trajectory'>)\n",
      "('eos_bcc', <class 'statmechlib.preprocessing.trajectory.Trajectory'>)\n",
      "('liq_5000K', <class 'statmechlib.preprocessing.trajectory.Trajectory'>)\n",
      "('fcc_npt_langevin_300K', <class 'statmechlib.preprocessing.trajectory.Trajectory'>)\n",
      "('vacint', <class 'statmechlib.preprocessing.trajectory.Trajectory'>)\n",
      "('eos_fcc', <class 'statmechlib.preprocessing.trajectory.Trajectory'>)\n",
      "('i110_npt_langevin_2000K', <class 'statmechlib.preprocessing.trajectory.Trajectory'>)\n",
      "('liq_3700K', <class 'statmechlib.preprocessing.trajectory.Trajectory'>)\n",
      "('i111_npt_langevin_2000K', <class 'statmechlib.preprocessing.trajectory.Trajectory'>)\n",
      "('bain', <class 'statmechlib.preprocessing.trajectory.Trajectory'>)\n"
     ]
    }
   ],
   "source": [
    "# shift zero of energy to by subtracting intra-atomic contributions (energy of an isolated atom)\n",
    "\n",
    "u_total = traj_0k['energy'][0]/len(traj_0k['xyz'][0]) # total energy of a BCC lattice from DFT\n",
    "u_lattice = -8.9 # experimental lattice energy of a BCC lattice\n",
    "#u_lattice = -8.89965188\n",
    "u_intra = u_total - u_lattice # internal energy per atom (to be subtracted from all atoms)\n",
    "\n",
    "for key, trj_i in trjs.items():\n",
    "    print(key, type(trj_i))\n",
    "    trj_i.set_zero_energy(u_intra, inplace=True)"
   ]
  },
  {
   "cell_type": "code",
   "execution_count": 13,
   "metadata": {},
   "outputs": [
    {
     "data": {
      "text/plain": [
       "(-12.939696407890626,\n",
       " -8.9,\n",
       " -4.0396964078906255,\n",
       " [-1139.2,\n",
       "  -907.0154879478124,\n",
       "  -1136.4010143821092,\n",
       "  -1136.7508187321096,\n",
       "  -1190.2611772847656,\n",
       "  -1127.1746971578905],\n",
       " [-3829.2940277670314,\n",
       "  -3828.939307777031,\n",
       "  -3829.447190347031,\n",
       "  -2193.3418208310154,\n",
       "  -2193.5559807510153,\n",
       "  -2180.5329819289063,\n",
       "  -2182.0693779089065,\n",
       "  -2169.556598046797,\n",
       "  -2159.4839017546874,\n",
       "  -3783.0891523685937])"
      ]
     },
     "execution_count": 13,
     "metadata": {},
     "output_type": "execute_result"
    }
   ],
   "source": [
    "u_total, u_lattice, u_intra, trjs['relax']['energy'], trjs['vacint']['energy']"
   ]
  },
  {
   "cell_type": "code",
   "execution_count": 14,
   "metadata": {},
   "outputs": [
    {
     "data": {
      "text/plain": [
       "array([-8.9       , -8.39829156, -8.80931019, -8.81202185, -8.81674946,\n",
       "       -8.87539132])"
      ]
     },
     "execution_count": 14,
     "metadata": {},
     "output_type": "execute_result"
    }
   ],
   "source": [
    "np.array(trjs['relax']['energy'])/np.array([len(x) for x in trjs['relax']['xyz']])"
   ]
  },
  {
   "cell_type": "code",
   "execution_count": 15,
   "metadata": {
    "collapsed": true
   },
   "outputs": [],
   "source": [
    "# #%%writefile -a ../../statmechlib/statmechlib/preprocessing/stats.py\n",
    "\n",
    "# # W parameters\n",
    "# l = 0.274\n",
    "# r_wse = 3.168\n",
    "# r_wse = 1.584\n",
    "# eta = 5.69\n",
    "# dE = 8.9#8.89965188\n",
    "\n",
    "# # equation of state. x is lattice expansion/compression parameter\n",
    "# def eos(x):\n",
    "#     a = (x - 1.0)*r_wse/l\n",
    "#     ene = np.exp(-a)\n",
    "#     ene *= -1.0 - a - 0.05*a**3\n",
    "#     return dE*ene\n",
    "\n",
    "\n",
    "# def scale_configuration(trj, scale):\n",
    "#     \"\"\"\n",
    "#     Scales box size by 10 to separate all atoms beyond cutoff, and sets energies and forces to 0.\n",
    "    \n",
    "#     Parameters\n",
    "#     ----------\n",
    "#     trj: Trajectory object (or dict)\n",
    "#          Trajectory to be rescaled\n",
    "    \n",
    "#     Returns\n",
    "#     -------\n",
    "#     trj: Trajectory object (or dict)\n",
    "#          Rescaled trajectory\n",
    "#     \"\"\"\n",
    "#     trj['box'][0] = trj['box'][0]*scale\n",
    "#     trj['box0'] = trj['box0']*scale\n",
    "#     trj['energy'][0] = eos(scale)*len(trj['xyz'][0])\n",
    "#     trj['free_energy'][0] = eos(scale)*len(trj['xyz'][0])\n",
    "#     trj['total_energy'][0] = eos(scale)*len(trj['xyz'][0])\n",
    "#     trj['forces'][0] = np.zeros_like(trj['forces'][0])\n",
    "#     return trj"
   ]
  },
  {
   "cell_type": "code",
   "execution_count": 16,
   "metadata": {},
   "outputs": [
    {
     "data": {
      "text/plain": [
       "([-1656.3257], [-1139.2])"
      ]
     },
     "execution_count": 16,
     "metadata": {},
     "output_type": "execute_result"
    }
   ],
   "source": [
    "trjs_0k['bcc_0k']['total_energy'], trjs['relax'][0]['energy']"
   ]
  },
  {
   "cell_type": "code",
   "execution_count": 17,
   "metadata": {
    "collapsed": true
   },
   "outputs": [],
   "source": [
    "# Create configurations and energies based on universal equation of state for BCC tungsten\n",
    "#traj_eos = scale_configuration(copy.deepcopy(trjs['relax'][0]['bcc_0k']), 1.0)\n",
    "traj_eos = scale_configuration(copy.deepcopy(trjs['relax'][0]), 0.8)\n",
    "\n",
    "# select configurations outside the range of direct DFT EOS calculations\n",
    "scale_eos = [0.85, 0.9, 0.95, 1.0, 1.05, 1.1, 1.15, 1.2, 1.25, 1.3, 1.35, 1.4, 1.45]\n",
    "\n",
    "for scale in scale_eos:\n",
    "    #traj_scale = copy.deepcopy(trjs_0k['bcc_0k'])\n",
    "    traj_scale = copy.deepcopy(trjs['relax'][0])\n",
    "    traj_eos.append(scale_configuration(traj_scale, scale))"
   ]
  },
  {
   "cell_type": "code",
   "execution_count": 18,
   "metadata": {
    "collapsed": true
   },
   "outputs": [],
   "source": [
    "trjs['eos'] = traj_eos"
   ]
  },
  {
   "cell_type": "code",
   "execution_count": 19,
   "metadata": {
    "collapsed": true
   },
   "outputs": [],
   "source": [
    "# Create an artificial 'infinite' configuration with large box and 0 energy\n",
    "#traj_inf = copy.deepcopy(trjs_0k['bcc_0k'])\n",
    "traj_inf = copy.deepcopy(trjs['relax'][0])\n",
    "traj_inf = scale_configuration(traj_inf, 100.0)\n",
    "traj_inf['temp'] = [100.0]"
   ]
  },
  {
   "cell_type": "code",
   "execution_count": 20,
   "metadata": {
    "collapsed": true
   },
   "outputs": [],
   "source": [
    "# Add inf configuration to static pseudo-trajectory and set temperature to 100 K (for convenience)\n",
    "for key in ['relax','eos','eos_bcc','eos_fcc','bain']:\n",
    "    #trjs[key].append(traj_inf)\n",
    "    trjs[key]['temp'] = [100.0 for _ in range(len(trjs[key]['energy']))]"
   ]
  },
  {
   "cell_type": "code",
   "execution_count": 21,
   "metadata": {},
   "outputs": [
    {
     "name": "stdout",
     "output_type": "stream",
     "text": [
      "[845.26563726277175, -271.80472210708882, -837.17110899865236, -1079.5267350307165, -1139.2, -1100.8887858645915, -1014.6561261471662, -909.28071611311475, -800.66334446353414, -697.06112023288756, -602.30430637131394, -517.74299945651205, -443.40328537746308, -378.65794151906402]\n",
      "[-1022.85130544, -1114.86293192, -1139.1999955899998, -1123.98066039, -1084.68268356, -1031.68537524, -971.36389295, -907.7312258099998]\n",
      "[-816.7254944178125, -890.3914020378126, -910.3360622078125, -897.9182829678124, -865.9315437078125, -822.6787388678125, -773.4453470678123, -721.4784398478124]\n"
     ]
    },
    {
     "name": "stderr",
     "output_type": "stream",
     "text": [
      "//anaconda/lib/python2.7/site-packages/matplotlib/collections.py:590: FutureWarning: elementwise comparison failed; returning scalar instead, but in the future will perform elementwise comparison\n",
      "  if self._edgecolors == str('face'):\n"
     ]
    },
    {
     "data": {
      "image/png": "[encoded data removed]",
      "text/plain": [
       "<matplotlib.figure.Figure at 0x1147b5ed0>"
      ]
     },
     "metadata": {},
     "output_type": "display_data"
    }
   ],
   "source": [
    "for key, trj in trjs.items():\n",
    "    #print(i, list(zip(trj['atom_name'], trj['atom_num'])), len(trj['temp']))\n",
    "    if 'eos' in key:\n",
    "        plt.scatter([np.linalg.det(b)**(1./3.)/12.744894 for b in trj['box']][:-1], trj['energy'][:-1], label=key)\n",
    "        print(trj['energy'][:])\n",
    "plt.legend()\n",
    "#plt.xlim(-1780,-1100)\n",
    "plt.show()"
   ]
  },
  {
   "cell_type": "code",
   "execution_count": 22,
   "metadata": {
    "collapsed": true
   },
   "outputs": [],
   "source": [
    "def get_msd(xyzs):\n",
    "    \"\"\"Return mean squared displacement (msd) for a given trajectory (traj).\"\"\"\n",
    "    msd = []\n",
    "    for rs in xyzs:\n",
    "        msd.append(np.mean((rs - xyzs[0])**2))\n",
    "    #msd = [0.0 for _ in range(len(xyzs))]\n",
    "    return np.array(msd)"
   ]
  },
  {
   "cell_type": "code",
   "execution_count": 23,
   "metadata": {},
   "outputs": [
    {
     "name": "stderr",
     "output_type": "stream",
     "text": [
      "//anaconda/lib/python2.7/site-packages/matplotlib/axes/_axes.py:475: UserWarning: No labelled objects found. Use label='...' kwarg on individual plots.\n",
      "  warnings.warn(\"No labelled objects found. \"\n"
     ]
    },
    {
     "name": "stdout",
     "output_type": "stream",
     "text": [
      "[7.9142763063139432, 9.2354878027839309, 8.0295707174242281, 8.0295707174242281, 7.4751982339096186, 7.943014712295847]\n"
     ]
    },
    {
     "data": {
      "image/png": "[encoded data removed]",
      "text/plain": [
       "<matplotlib.figure.Figure at 0x114a2a250>"
      ]
     },
     "metadata": {},
     "output_type": "display_data"
    }
   ],
   "source": [
    "fig, axes = plt.subplots(2, 2, sharex='col', figsize=(15,10))\n",
    "\n",
    "for key, traj in trjs.items():\n",
    "    if 'relax' in key or 'eos' in key or 'vacint':\n",
    "        continue\n",
    "\n",
    "        \n",
    "    #axes[0,0].plot([e/x.shape[0] for e, x in zip(traj['energy'], traj['xyz'])], label=dset)\n",
    "    if 'screw' in key:\n",
    "        axes[0,0].plot([e for e, x in zip(traj['energy'], traj['xyz'])], label=key)\n",
    "        axes[0,1].plot([np.linalg.det(b) for b in traj['box']], label=key)\n",
    "    else:\n",
    "        axes[0,0].plot([e for e, x in zip(traj['energy'], traj['xyz'])], label=key)\n",
    "        axes[0,1].plot([np.linalg.det(b) for b in traj['box']], label=key)\n",
    "\n",
    "\n",
    "    axes[1,0].plot([t for t in traj['temp']], label=key)\n",
    "\n",
    "    msd = get_msd(traj['xyz'])\n",
    "    axes[1,1].plot(msd, label=key)\n",
    "\n",
    "axes[0,0].legend()\n",
    "axes[0,0].set_title('Energies of individual configurations', fontsize=20)\n",
    "axes[0,1].set_title('Volumes of individual configurations', fontsize=20)       \n",
    "axes[1,0].set_title('Temperature', fontsize=20)\n",
    "axes[1,1].set_title('MSD - rough/approximate', fontsize=20)\n",
    "fig.tight_layout()\n",
    "\n",
    "print([128*128/np.linalg.det(b) for b in trjs['relax']['box']])"
   ]
  },
  {
   "cell_type": "code",
   "execution_count": 130,
   "metadata": {},
   "outputs": [],
   "source": [
    "from statmechlib.preprocessing import pair_dist_cutoff\n",
    "\n",
    "def get_pair_dist(trajs):\n",
    "    if not isinstance(trajs, list):\n",
    "        trajs = [trajs]\n",
    "        \n",
    "    plt.figure(figsize=(20,10))\n",
    "    for i, traj in enumerate(trajs):\n",
    "        # calculate pair distances\n",
    "        hist = np.zeros((382), dtype=float)\n",
    "        for box, cfg in zip(traj['box'], traj['xyz']):\n",
    "            rr, rx = pair_dist_cutoff(cfg, box, 6.82)\n",
    "            hst, bin_edges = np.histogram(rr, bins=382, range=(2.0, 6.82))\n",
    "            hist += hst\n",
    "        hist /= len(traj['box'])*len(traj['xyz'][0])\n",
    "        plt.plot(bin_edges[:-1], hist*10, label=str(i))\n",
    "\n",
    "        print(len(bin_edges), len(hist))\n",
    "    \n",
    "        cumm = [sum(hist[0:k]) for k in range(len(hist))]\n",
    "        plt.plot(bin_edges[:-1], cumm, label=str(i))\n",
    "        \n",
    "        plt.vlines([4.62, 4.66, 4.70, 5.3, 5.34, 5.46, 5.66, 5.70, 5.82], 0, 100)\n",
    "\n",
    "\n",
    "    #plt.hist(rr[0], 50)\n",
    "    plt.xlim(2.2, 6.82)\n",
    "    #plt.ylim(0, 30)\n",
    "    plt.legend()"
   ]
  },
  {
   "cell_type": "code",
   "execution_count": 131,
   "metadata": {},
   "outputs": [
    {
     "name": "stdout",
     "output_type": "stream",
     "text": [
      "Replicating: 2 2 2\n",
      "Replicating: 2 2 2\n",
      "Replicating: 2 2 2\n",
      "Replicating: 2 2 2\n",
      "Replicating: 2 2 2\n",
      "Replicating: 2 2 2\n",
      "Replicating: 2 2 2\n",
      "Replicating: 2 2 2\n",
      "Replicating: 2 2 2\n",
      "Replicating: 2 2 2\n",
      "Replicating: 2 2 2\n",
      "Replicating: 2 2 2\n",
      "Replicating: 2 2 2\n",
      "Replicating: 2 2 2\n",
      "Replicating: 2 2 2\n",
      "Replicating: 2 2 2\n",
      "Replicating: 2 2 2\n",
      "Replicating: 2 2 2\n",
      "Replicating: 2 2 2\n",
      "Replicating: 2 2 2\n",
      "(383, 382)\n",
      "Replicating: 2 2 2\n",
      "Replicating: 2 2 2\n",
      "Replicating: 2 2 2\n",
      "Replicating: 2 2 2\n",
      "Replicating: 2 2 2\n",
      "Replicating: 2 2 2\n",
      "Replicating: 2 2 2\n",
      "Replicating: 2 2 2\n",
      "Replicating: 2 2 2\n",
      "Replicating: 2 2 2\n",
      "Replicating: 2 2 2\n",
      "Replicating: 2 2 2\n",
      "Replicating: 2 2 2\n",
      "Replicating: 2 2 2\n",
      "Replicating: 2 2 2\n",
      "Replicating: 2 2 2\n",
      "Replicating: 2 2 2\n",
      "Replicating: 2 2 2\n",
      "Replicating: 2 2 2\n",
      "Replicating: 2 2 2\n",
      "(383, 382)\n"
     ]
    },
    {
     "data": {
      "image/png": "[encoded data removed]",
      "text/plain": [
       "<matplotlib.figure.Figure at 0x115215d90>"
      ]
     },
     "metadata": {},
     "output_type": "display_data"
    }
   ],
   "source": [
    "get_pair_dist([trjs['bcc_npt_langevin_300K'][-20:], trjs['fcc_npt_langevin_300K'][-20:]])"
   ]
  },
  {
   "cell_type": "code",
   "execution_count": 129,
   "metadata": {},
   "outputs": [
    {
     "name": "stdout",
     "output_type": "stream",
     "text": [
      "Replicating: 2 2 2\n",
      "(383, 382)\n",
      "Replicating: 2 2 2\n",
      "(383, 382)\n"
     ]
    },
    {
     "data": {
      "image/png": "[encoded data removed]",
      "text/plain": [
       "<matplotlib.figure.Figure at 0x115078390>"
      ]
     },
     "metadata": {},
     "output_type": "display_data"
    }
   ],
   "source": [
    "get_pair_dist([trjs['relax'][0:1], trjs['relax'][1:2]])"
   ]
  },
  {
   "cell_type": "code",
   "execution_count": 41,
   "metadata": {},
   "outputs": [
    {
     "name": "stdout",
     "output_type": "stream",
     "text": [
      "(383, 382)\n"
     ]
    },
    {
     "data": {
      "image/png": "[encoded data removed]",
      "text/plain": [
       "<matplotlib.figure.Figure at 0x114d84b10>"
      ]
     },
     "metadata": {},
     "output_type": "display_data"
    }
   ],
   "source": [
    "get_pair_dist(trjs['liq_5000K'][:20])"
   ]
  },
  {
   "cell_type": "code",
   "execution_count": 26,
   "metadata": {},
   "outputs": [
    {
     "data": {
      "text/plain": [
       "[('bcc_npt_langevin_3700K', 1329),\n",
       " ('eos', 14),\n",
       " ('vac_npt_langevin_2000K', 1480),\n",
       " ('relax', 6),\n",
       " ('screw_111_npt_langevin_2000K', 1992),\n",
       " ('bcc_npt_langevin_300K', 1496),\n",
       " ('eos_bcc', 8),\n",
       " ('liq_5000K', 1406),\n",
       " ('fcc_npt_langevin_300K', 552),\n",
       " ('vacint', 10),\n",
       " ('eos_fcc', 8),\n",
       " ('i110_npt_langevin_2000K', 1461),\n",
       " ('liq_3700K', 1153),\n",
       " ('i111_npt_langevin_2000K', 1477),\n",
       " ('bain', 12)]"
      ]
     },
     "execution_count": 26,
     "metadata": {},
     "output_type": "execute_result"
    }
   ],
   "source": [
    "[(k, len(v['energy'])) for k, v in trjs.items()]"
   ]
  },
  {
   "cell_type": "code",
   "execution_count": 27,
   "metadata": {
    "collapsed": true
   },
   "outputs": [],
   "source": [
    "slices = {'bcc_npt_langevin_300K':slice(500, None,5),\n",
    "        'fcc_npt_langevin_300K':slice(50, None, 5),\n",
    "        'vac_npt_langevin_2000K':slice(300, None, 5),\n",
    "        'i110_npt_langevin_2000K':slice(1000, None, 5),\n",
    "        'i111_npt_langevin_2000K':slice(1000, None, 5),\n",
    "        'screw_111_npt_langevin_2000K':slice(1300, None, 5),\n",
    "        'bcc_npt_langevin_3700K':slice(600, None, 5),\n",
    "        'liq_3700K':slice(700, None, 5),\n",
    "        'liq_5000K':slice(800, None, 5),\n",
    "        'relax':slice(0, None, None),\n",
    "        'eos_bcc':slice(0, None, None),\n",
    "        'eos_fcc':slice(0, None, None),\n",
    "        'eos':slice(0, None, None),\n",
    "        'bain':slice(0, None, None),\n",
    "        'vacint':slice(0, None, None)\n",
    "       }"
   ]
  },
  {
   "cell_type": "code",
   "execution_count": 28,
   "metadata": {
    "collapsed": true
   },
   "outputs": [],
   "source": [
    "trj_samples = {}\n",
    "for key, traj in trjs.items():\n",
    "    trj_samples[key] = traj[slices[key]]"
   ]
  },
  {
   "cell_type": "code",
   "execution_count": 29,
   "metadata": {},
   "outputs": [
    {
     "data": {
      "text/plain": [
       "[('bcc_npt_langevin_3700K', 146),\n",
       " ('liq_5000K', 122),\n",
       " ('vac_npt_langevin_2000K', 236),\n",
       " ('relax', 6),\n",
       " ('screw_111_npt_langevin_2000K', 139),\n",
       " ('bcc_npt_langevin_300K', 200),\n",
       " ('i111_npt_langevin_2000K', 96),\n",
       " ('eos', 14),\n",
       " ('fcc_npt_langevin_300K', 101),\n",
       " ('vacint', 10),\n",
       " ('eos_fcc', 8),\n",
       " ('i110_npt_langevin_2000K', 93),\n",
       " ('liq_3700K', 91),\n",
       " ('eos_bcc', 8),\n",
       " ('bain', 12)]"
      ]
     },
     "execution_count": 29,
     "metadata": {},
     "output_type": "execute_result"
    }
   ],
   "source": [
    "[(k, len(v['energy'])) for k, v in trj_samples.items()]"
   ]
  },
  {
   "cell_type": "code",
   "execution_count": 30,
   "metadata": {
    "collapsed": true
   },
   "outputs": [],
   "source": [
    "#traj_inf['ensemble'], traj_md['ensemble'], trj_samples['bcc_npt_langevin_300K']['ensemble']"
   ]
  },
  {
   "cell_type": "code",
   "execution_count": 31,
   "metadata": {},
   "outputs": [
    {
     "name": "stdout",
     "output_type": "stream",
     "text": [
      "bain\n",
      "bcc_npt_langevin_300K\n",
      "bcc_npt_langevin_3700K\n",
      "346\n",
      "eos\n",
      "eos_bcc\n",
      "eos_fcc\n",
      "fcc_npt_langevin_300K\n",
      "447\n",
      "i110_npt_langevin_2000K\n",
      "540\n",
      "i111_npt_langevin_2000K\n",
      "636\n",
      "liq_3700K\n",
      "727\n",
      "liq_5000K\n",
      "849\n",
      "relax\n",
      "screw_111_npt_langevin_2000K\n",
      "988\n",
      "vac_npt_langevin_2000K\n",
      "1224\n",
      "vacint\n"
     ]
    }
   ],
   "source": [
    "# join all MD configurations into a pseudo-trajectory (to properly weigh phase stability)\n",
    "traj_md = copy.deepcopy(trj_samples['bcc_npt_langevin_300K'])\n",
    "\n",
    "for k, trj in sorted(trj_samples.items()):\n",
    "    print(k)\n",
    "    if 'vacint' in k or 'bain' in k or 'eos' in k or 'relax' in k or 'bcc_npt_langevin_300K' in k: \n",
    "        continue\n",
    "        \n",
    "    traj_md.append(trj)\n",
    "\n",
    "    print(len(traj_md['box']))\n",
    "\n",
    "# add inf configurations at the end to define zero of potential energy\n",
    "traj_inf_md = copy.deepcopy(traj_inf)\n",
    "traj_inf_md['ensemble'] = 'md'\n",
    "for i in range(200):\n",
    "    traj_md.append(traj_inf_md)"
   ]
  },
  {
   "cell_type": "code",
   "execution_count": 32,
   "metadata": {
    "collapsed": true
   },
   "outputs": [],
   "source": [
    "#trj_samples['eos_bcc'].append(trj_samples['eos'])"
   ]
  },
  {
   "cell_type": "code",
   "execution_count": 33,
   "metadata": {},
   "outputs": [
    {
     "data": {
      "text/plain": [
       "[-1022.85130544,\n",
       " -1114.86293192,\n",
       " -1139.1999955899998,\n",
       " -1123.98066039,\n",
       " -1084.68268356,\n",
       " -1031.68537524,\n",
       " -971.36389295,\n",
       " -907.7312258099998]"
      ]
     },
     "execution_count": 33,
     "metadata": {},
     "output_type": "execute_result"
    }
   ],
   "source": [
    "trj_samples['eos_bcc']['energy']"
   ]
  },
  {
   "cell_type": "code",
   "execution_count": 44,
   "metadata": {},
   "outputs": [
    {
     "data": {
      "text/plain": [
       "(None,)"
      ]
     },
     "execution_count": 44,
     "metadata": {},
     "output_type": "execute_result"
    }
   ],
   "source": [
    "trj_fit = {}\n",
    "trj_fit.update(trj_samples)\n",
    "trj_fit.update({'md':traj_md}),"
   ]
  },
  {
   "cell_type": "code",
   "execution_count": 45,
   "metadata": {
    "collapsed": true
   },
   "outputs": [],
   "source": [
    "#trj_fit = {'md':traj_md,\n",
    "#           'relax':trj_samples['relax'],\n",
    "#           'eos_bcc':trj_samples['eos_bcc'],\n",
    "#           'eos_fcc':trj_samples['eos_fcc'],\n",
    "#           'bain':trj_samples['bain']}"
   ]
  },
  {
   "cell_type": "code",
   "execution_count": 46,
   "metadata": {},
   "outputs": [
    {
     "data": {
      "text/plain": [
       "(['bcc_npt_langevin_3700K',\n",
       "  'eos',\n",
       "  'vac_npt_langevin_2000K',\n",
       "  'md',\n",
       "  'relax',\n",
       "  'screw_111_npt_langevin_2000K',\n",
       "  'bcc_npt_langevin_300K',\n",
       "  'eos_bcc',\n",
       "  'liq_5000K',\n",
       "  'fcc_npt_langevin_300K',\n",
       "  'vacint',\n",
       "  'eos_fcc',\n",
       "  'i110_npt_langevin_2000K',\n",
       "  'liq_3700K',\n",
       "  'i111_npt_langevin_2000K',\n",
       "  'bain'],\n",
       " dict)"
      ]
     },
     "execution_count": 46,
     "metadata": {},
     "output_type": "execute_result"
    }
   ],
   "source": [
    "trj_fit.keys(), type(trj_fit)"
   ]
  },
  {
   "cell_type": "code",
   "execution_count": 47,
   "metadata": {
    "collapsed": true
   },
   "outputs": [],
   "source": [
    "trj_fit['relax']['temp'] = [100.0 for _ in range(len(trj_fit['relax']['energy']))]\n",
    "trj_fit['bain']['temp'] = [100.0 for _ in range(len(trj_fit['bain']['energy']))]\n",
    "trj_fit['eos_bcc']['temp'] = [100.0 for _ in range(len(trj_fit['eos_bcc']['energy']))]\n",
    "trj_fit['eos_fcc']['temp'] = [100.0 for _ in range(len(trj_fit['eos_fcc']['energy']))]\n",
    "trj_fit['vacint']['temp'] = [100.0 for _ in range(len(trj_fit['vacint']['energy']))]\n",
    "trj_fit['eos']['temp'] = [100.0 for _ in range(len(trj_fit['eos']['energy']))]"
   ]
  },
  {
   "cell_type": "code",
   "execution_count": null,
   "metadata": {
    "collapsed": true
   },
   "outputs": [],
   "source": [
    "with open(os.path.join(working, \"trj_fit_everyzero.pickle\"), 'wb') as fo:\n",
    "    pickle.dump(trj_fit, fo, protocol=2)"
   ]
  },
  {
   "cell_type": "code",
   "execution_count": 48,
   "metadata": {
    "collapsed": true
   },
   "outputs": [],
   "source": [
    "trj_test = {}\n",
    "trj_test.update({'bcc_npt_langevin_300K':trj_fit['bcc_npt_langevin_300K']})"
   ]
  },
  {
   "cell_type": "code",
   "execution_count": 49,
   "metadata": {},
   "outputs": [
    {
     "data": {
      "text/plain": [
       "['bcc_npt_langevin_300K']"
      ]
     },
     "execution_count": 49,
     "metadata": {},
     "output_type": "execute_result"
    }
   ],
   "source": [
    "trj_test.keys()"
   ]
  },
  {
   "cell_type": "code",
   "execution_count": 50,
   "metadata": {
    "collapsed": true
   },
   "outputs": [],
   "source": [
    "with open(os.path.join(working, \"trj_fit_test.pickle\"), 'wb') as fo:\n",
    "    pickle.dump(trj_test, fo, protocol=2)"
   ]
  },
  {
   "cell_type": "code",
   "execution_count": 69,
   "metadata": {},
   "outputs": [
    {
     "name": "stdout",
     "output_type": "stream",
     "text": [
      "bcc_npt_langevin_300K 2.6261860585883254 0 0\n",
      "bcc_npt_langevin_300K 2.6211444195596703 0 0\n",
      "bcc_npt_langevin_300K 2.6108215986560017 0 0\n",
      "bcc_npt_langevin_300K 2.606873425049027 0 0\n",
      "bcc_npt_langevin_300K 2.6056958844661806 0 0\n",
      "bcc_npt_langevin_300K 2.6048939113728062 0 0\n",
      "bcc_npt_langevin_300K 2.604000945828387 0 0\n",
      "bcc_npt_langevin_300K 2.6015531776181318 0 0\n",
      "bcc_npt_langevin_300K 2.5961896777844373 0 0\n",
      "bcc_npt_langevin_300K 2.5946742390272477 0 0\n",
      "bcc_npt_langevin_300K 2.5917560807278903 0 0\n",
      "bcc_npt_langevin_300K 2.5816712510409268 0 0\n",
      "bcc_npt_langevin_300K 2.5774491422921977 0 0\n",
      "bcc_npt_langevin_300K 2.5678957869327883 0 0\n",
      "bcc_npt_langevin_300K 2.5573202200323832 0 0\n",
      "bcc_npt_langevin_300K 2.5541489907536095 0 0\n",
      "fcc_npt_langevin_300K 2.5095987157519692 0 0\n",
      "fcc_npt_langevin_300K 2.5026728497446644 0 0\n",
      "fcc_npt_langevin_300K 2.499611892916509 0 0\n",
      "fcc_npt_langevin_300K 2.4992555429630654 0 0\n",
      "fcc_npt_langevin_300K 2.493306874851322 0 0\n",
      "fcc_npt_langevin_300K 2.4702668504882865 0 0\n",
      "fcc_npt_langevin_300K 2.452777403866608 0 0\n",
      "fcc_npt_langevin_300K 2.4433127658035683 0 0\n",
      "fcc_npt_langevin_300K 2.4387357699951937 0 0\n",
      "vac_npt_langevin_2000K 2.404429271977826 0 0\n",
      "vac_npt_langevin_2000K 2.3933529992828353 0 0\n",
      "vac_npt_langevin_2000K 2.370903300734778 0 0\n",
      "vac_npt_langevin_2000K 2.3567834849439118 0 0\n",
      "vac_npt_langevin_2000K 2.354469944257617 0 0\n",
      "vac_npt_langevin_2000K 2.3249260954703934 0 0\n",
      "vac_npt_langevin_2000K 2.3096690862261964 0 0\n",
      "vac_npt_langevin_2000K 2.3003348559026637 0 0\n",
      "vac_npt_langevin_2000K 2.299512352190046 0 0\n",
      "vac_npt_langevin_2000K 2.2647493017227207 0 0\n",
      "vac_npt_langevin_2000K 2.2416758483537804 1 0\n",
      "i110_npt_langevin_2000K 2.162281389933819 3 1\n",
      "i110_npt_langevin_2000K 2.130733490348333 4 2\n",
      "i110_npt_langevin_2000K 2.120498629218898 5 3\n",
      "liq_5000K 2.1018179096005922 172 60\n",
      "liq_5000K 2.064314581281444 173 61\n",
      "liq_5000K 2.045962432298884 174 62\n",
      "liq_5000K 2.0399241376612745 236 117\n",
      "Minimum distance: (2.0399241376612745, 278, 149)\n"
     ]
    }
   ],
   "source": [
    "def find_min_distance(trajectories):\n",
    "    k_min = ''\n",
    "    r_min = 100.0\n",
    "    r220 = 0\n",
    "    r225 = 0\n",
    "    for key, trj in trajectories.items():\n",
    "        if 'eos' in key or 'bain' in key:\n",
    "            continue\n",
    "        for xyz, box in zip(trj['xyz'], trj['box']):\n",
    "            rr = pair_dist(xyz, box)[0]\n",
    "            rr = np.where(rr > 0.0001, rr, 100.0)\n",
    "            r = np.min(rr)\n",
    "            if r < 2.25:\n",
    "                r225 += 1\n",
    "                if r < 2.2:\n",
    "                    r220 +=1\n",
    "            if r < r_min:\n",
    "                r_min = r\n",
    "                k_min = key\n",
    "                print(k_min, r_min, r225, r220)\n",
    "\n",
    "                \n",
    "    return r_min, r225, r220\n",
    "\n",
    "print('Minimum distance:', find_min_distance(trj_fit))"
   ]
  },
  {
   "cell_type": "code",
   "execution_count": 67,
   "metadata": {},
   "outputs": [
    {
     "data": {
      "text/plain": [
       "array([2.25, 2.5 , 2.75, 3.  , 3.25, 3.5 , 3.75, 4.  , 4.25, 4.5 , 4.75,\n",
       "       5.  , 5.25, 5.5 ])"
      ]
     },
     "execution_count": 67,
     "metadata": {},
     "output_type": "execute_result"
    }
   ],
   "source": [
    "np.linspace(2.25, 5.50, 14)"
   ]
  },
  {
   "cell_type": "code",
   "execution_count": 75,
   "metadata": {},
   "outputs": [
    {
     "data": {
      "text/plain": [
       "array([2.18, 2.22, 2.26, 2.3 , 2.34, 2.38, 2.42, 2.46, 2.5 , 2.54, 2.58,\n",
       "       2.62, 2.66, 2.7 , 2.74, 2.78, 2.82, 2.86, 2.9 , 2.94, 2.98, 3.02,\n",
       "       3.06, 3.1 , 3.14, 3.18, 3.22, 3.26, 3.3 , 3.34, 3.38, 3.42, 3.46,\n",
       "       3.5 , 3.54, 3.58, 3.62, 3.66, 3.7 , 3.74, 3.78, 3.82, 3.86, 3.9 ,\n",
       "       3.94, 3.98, 4.02, 4.06, 4.1 , 4.14, 4.18, 4.22, 4.26, 4.3 , 4.34,\n",
       "       4.38, 4.42, 4.46, 4.5 , 4.54, 4.58, 4.62, 4.66, 4.7 , 4.74, 4.78,\n",
       "       4.82, 4.86, 4.9 , 4.94, 4.98, 5.02, 5.06, 5.1 , 5.14, 5.18, 5.22,\n",
       "       5.26, 5.3 , 5.34, 5.38, 5.42, 5.46, 5.5 , 5.54, 5.58, 5.62, 5.66,\n",
       "       5.7 , 5.74, 5.78, 5.82])"
      ]
     },
     "execution_count": 75,
     "metadata": {},
     "output_type": "execute_result"
    }
   ],
   "source": [
    "np.linspace(2.18, 5.82, 92)"
   ]
  },
  {
   "cell_type": "code",
   "execution_count": 72,
   "metadata": {},
   "outputs": [
    {
     "data": {
      "text/plain": [
       "array([2.5648975, 2.629795 , 2.6946925, 2.8663175, 2.973045 , 3.0797725,\n",
       "       3.5164725, 3.846445 , 4.1764175, 4.700845 , 4.8953   , 5.089755 ,\n",
       "       5.3429525, 5.401695 , 5.4604375])"
      ]
     },
     "execution_count": 72,
     "metadata": {},
     "output_type": "execute_result"
    }
   ],
   "source": [
    "np.array([ 2.5648975,  2.629795 ,  2.6946925,  2.8663175,  2.973045 ,\n",
    "        3.0797725,  3.5164725,  3.846445 ,  4.1764175,  4.700845 ,\n",
    "        4.8953   ,  5.089755 ,  5.3429525,  5.401695 ,  5.4604375])"
   ]
  },
  {
   "cell_type": "code",
   "execution_count": 91,
   "metadata": {},
   "outputs": [
    {
     "data": {
      "text/plain": [
       "[2.26,\n",
       " 2.5,\n",
       " 2.66,\n",
       " 2.74,\n",
       " 2.86,\n",
       " 3.06,\n",
       " 3.3,\n",
       " 3.62,\n",
       " 3.9,\n",
       " 4.22,\n",
       " 4.54,\n",
       " 4.86,\n",
       " 5.18,\n",
       " 5.5]"
      ]
     },
     "execution_count": 91,
     "metadata": {},
     "output_type": "execute_result"
    }
   ],
   "source": [
    "[2.26, 2.5 , 2.70, 2.74, 2.78, 2.82, 3.02, 3.30, 3.62 , 3.9, 4.22, 4.54, 4.86, 5.18, 5.5 ]\n",
    "\n",
    "[2.26, 2.5 , 2.66, 2.74, 2.86, 3.06, 3.30, 3.62 , 3.9, 4.22, 4.54, 4.86, 5.18, 5.5]"
   ]
  },
  {
   "cell_type": "code",
   "execution_count": 92,
   "metadata": {},
   "outputs": [
    {
     "data": {
      "text/plain": [
       "[2.02,\n",
       " 2.0600000000000001,\n",
       " 2.1000000000000001,\n",
       " 2.1400000000000001,\n",
       " 2.1800000000000002,\n",
       " 2.2200000000000002,\n",
       " 2.2599999999999998,\n",
       " 2.2999999999999998,\n",
       " 2.3399999999999999,\n",
       " 2.3799999999999999,\n",
       " 2.4199999999999999,\n",
       " 2.46,\n",
       " 2.5,\n",
       " 2.54,\n",
       " 2.5800000000000001,\n",
       " 2.6200000000000001,\n",
       " 2.6600000000000001,\n",
       " 2.7000000000000002,\n",
       " 2.7400000000000002,\n",
       " 2.7799999999999998,\n",
       " 2.8199999999999998,\n",
       " 2.8599999999999999,\n",
       " 2.8999999999999999,\n",
       " 2.9399999999999999,\n",
       " 2.98,\n",
       " 3.02,\n",
       " 3.0600000000000001,\n",
       " 3.1000000000000001,\n",
       " 3.1400000000000001,\n",
       " 3.1800000000000002,\n",
       " 3.2200000000000002,\n",
       " 3.2599999999999998,\n",
       " 3.2999999999999998,\n",
       " 3.3399999999999999,\n",
       " 3.3799999999999999,\n",
       " 3.4199999999999999,\n",
       " 3.46,\n",
       " 3.5,\n",
       " 3.54,\n",
       " 3.5800000000000001,\n",
       " 3.6200000000000001,\n",
       " 3.6600000000000001,\n",
       " 3.7000000000000002,\n",
       " 3.7400000000000002,\n",
       " 3.7799999999999998,\n",
       " 3.8199999999999998,\n",
       " 3.8599999999999999,\n",
       " 3.8999999999999999,\n",
       " 3.9399999999999999,\n",
       " 3.98,\n",
       " 4.0199999999999996,\n",
       " 4.0599999999999996,\n",
       " 4.0999999999999996,\n",
       " 4.1399999999999997,\n",
       " 4.1799999999999997,\n",
       " 4.2199999999999998,\n",
       " 4.2599999999999998,\n",
       " 4.2999999999999998,\n",
       " 4.3399999999999999,\n",
       " 4.3799999999999999,\n",
       " 4.4199999999999999,\n",
       " 4.46,\n",
       " 4.5,\n",
       " 4.54,\n",
       " 4.5800000000000001,\n",
       " 4.6200000000000001,\n",
       " 4.6600000000000001,\n",
       " 4.7000000000000002,\n",
       " 4.7400000000000002,\n",
       " 4.7800000000000002,\n",
       " 4.8200000000000003,\n",
       " 4.8600000000000003,\n",
       " 4.9000000000000004,\n",
       " 4.9400000000000004,\n",
       " 4.9800000000000004,\n",
       " 5.0199999999999996,\n",
       " 5.0599999999999996,\n",
       " 5.0999999999999996,\n",
       " 5.1399999999999997,\n",
       " 5.1799999999999997,\n",
       " 5.2199999999999998,\n",
       " 5.2599999999999998,\n",
       " 5.2999999999999998,\n",
       " 5.3399999999999999,\n",
       " 5.3799999999999999,\n",
       " 5.4199999999999999,\n",
       " 5.46,\n",
       " 5.5,\n",
       " 5.54,\n",
       " 5.5800000000000001,\n",
       " 5.6200000000000001,\n",
       " 5.6600000000000001,\n",
       " 5.7000000000000002,\n",
       " 5.7400000000000002,\n",
       " 5.7800000000000002,\n",
       " 5.8200000000000003]"
      ]
     },
     "execution_count": 92,
     "metadata": {},
     "output_type": "execute_result"
    }
   ],
   "source": [
    "list(np.round(np.linspace(2.02, 5.82, 96), 2))"
   ]
  },
  {
   "cell_type": "code",
   "execution_count": 93,
   "metadata": {
    "collapsed": true
   },
   "outputs": [],
   "source": [
    "from scipy.stats import describe"
   ]
  },
  {
   "cell_type": "code",
   "execution_count": 110,
   "metadata": {
    "collapsed": true
   },
   "outputs": [],
   "source": [
    "x = np.random.normal(loc=2.0, scale=1.0, size=(1000,))"
   ]
  },
  {
   "cell_type": "code",
   "execution_count": 111,
   "metadata": {},
   "outputs": [
    {
     "data": {
      "text/plain": [
       "DescribeResult(nobs=1000, minmax=(-1.2650582699977622, 4.5311430705625373), mean=2.0424637816484847, variance=0.9418641909881329, skewness=-0.0590695934741952, kurtosis=-0.07652982733259517)"
      ]
     },
     "execution_count": 111,
     "metadata": {},
     "output_type": "execute_result"
    }
   ],
   "source": [
    "describe(x)"
   ]
  },
  {
   "cell_type": "code",
   "execution_count": null,
   "metadata": {
    "collapsed": true
   },
   "outputs": [],
   "source": []
  }
 ],
 "metadata": {
  "kernelspec": {
   "display_name": "Python 2",
   "language": "python",
   "name": "python2"
  },
  "language_info": {
   "codemirror_mode": {
    "name": "ipython",
    "version": 2
   },
   "file_extension": ".py",
   "mimetype": "text/x-python",
   "name": "python",
   "nbconvert_exporter": "python",
   "pygments_lexer": "ipython2",
   "version": "2.7.13"
  }
 },
 "nbformat": 4,
 "nbformat_minor": 2
}
