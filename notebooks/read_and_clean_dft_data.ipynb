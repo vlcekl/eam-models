{
 "cells": [
  {
   "cell_type": "code",
   "execution_count": 1,
   "metadata": {
    "collapsed": true
   },
   "outputs": [],
   "source": [
    "import os\n",
    "import sys\n",
    "import re\n",
    "import numpy as np\n",
    "%matplotlib inline\n",
    "import matplotlib.pyplot as plt\n",
    "import copy\n",
    "import pickle\n",
    "import multiprocessing as mp"
   ]
  },
  {
   "cell_type": "code",
   "execution_count": 2,
   "metadata": {},
   "outputs": [],
   "source": [
    "# jupyter notebook settings for debugging\n",
    "%load_ext autoreload\n",
    "%autoreload 2"
   ]
  },
  {
   "cell_type": "code",
   "execution_count": 3,
   "metadata": {},
   "outputs": [],
   "source": [
    "# statmech library setup\n",
    "sys.path.append('../../statmechlib')\n",
    "from statmechlib.read_write import read_vasp\n",
    "from statmechlib.preprocessing import Trajectory, select_nodes, scale_configuration\n",
    "from statmechlib.preprocessing import pair_dist, force_targ, get_stats_EAM_per_atom, get_stats_EAM_per_box"
   ]
  },
  {
   "cell_type": "code",
   "execution_count": null,
   "metadata": {
    "collapsed": true
   },
   "outputs": [],
   "source": [
    "# Define locations of relevant datasets\n",
    "\n",
    "target_raw = '../data/target_raw'\n",
    "target_proc = '../data/target_processed'\n",
    "working = '../data/working'\n",
    "\n",
    "# MD trajectories\n",
    "datasets_MD = ['bcc_npt_langevin_300K',\n",
    "            'fcc_npt_langevin_300K',\n",
    "            'vac_npt_langevin_2000K',\n",
    "            'i110_npt_langevin_2000K',\n",
    "            'i111_npt_langevin_2000K',\n",
    "            'screw_111_npt_langevin_2000K',\n",
    "            'bcc_npt_langevin_3700K',\n",
    "            'liq_3700K',\n",
    "            'liq_5000K']\n",
    "\n",
    "# 0K relaxed structures\n",
    "datasets_0k = ['bcc_0k',\n",
    "               'fcc_0k',\n",
    "               'vac_0k',\n",
    "               'i110_0k',\n",
    "               'i111_0k',\n",
    "               'screw_111_0k']\n",
    "\n",
    "# equations of state for BCC and FCC lattices\n",
    "scales = ['v0','v0.8','v0.9','v1.1','v1.2','v1.3','v1.4','v1.5']\n",
    "\n",
    "datasets_eos_bcc = ['eq_st_bcc/'+s for s in scales]\n",
    "\n",
    "datasets_eos_fcc = ['eq_st_fcc/'+s for s in scales]\n",
    "\n",
    "# defined dataset directories relative to the current directory (/notebooks)\n",
    "trajdirs_MD = [target_raw + '/' + dataset for dataset in datasets_MD]\n",
    "trajdirs_0k = [target_raw + '/' + dataset for dataset in datasets_0k]\n",
    "trajdirs_eos_bcc = [target_raw + '/' + dataset for dataset in datasets_eos_bcc]\n",
    "trajdirs_eos_fcc = [target_raw + '/' + dataset for dataset in datasets_eos_fcc]"
   ]
  },
  {
   "cell_type": "code",
   "execution_count": null,
   "metadata": {},
   "outputs": [],
   "source": [
    "%%time\n",
    "\n",
    "# set up a multiprocessing pool\n",
    "pool = mp.Pool()\n",
    "\n",
    "# read MD trajectories in parallel\n",
    "output_data = pool.map(read_vasp, trajdirs_MD)\n",
    "trajectories_MD = dict(zip(datasets_MD, output_data))\n",
    "print('Done with MD')\n",
    "\n",
    "# read 0K configurations in parallel\n",
    "output_data = pool.map(read_vasp, trajdirs_0k)\n",
    "trajectories_0k = dict(zip(datasets_0k, output_data))\n",
    "print('Done with 0k')\n",
    "\n",
    "# read BCC EOS in parallel\n",
    "output_data = pool.map(read_vasp, trajdirs_eos_bcc)\n",
    "trajectories_eos_bcc = dict(zip(datasets_eos_bcc, output_data))\n",
    "print('Done with BCC EOS')\n",
    "\n",
    "# read BCC EOS in parallel\n",
    "output_data = pool.map(read_vasp, trajdirs_eos_fcc)\n",
    "trajectories_eos_fcc = dict(zip(datasets_eos_fcc, output_data))\n",
    "print('Done with FCC EOS')"
   ]
  },
  {
   "cell_type": "code",
   "execution_count": null,
   "metadata": {},
   "outputs": [],
   "source": [
    "# Convert MD trajectory dicts to objects\n",
    "trjs_MD = {}\n",
    "for k, trj in trajectories_MD.items():\n",
    "    trjs_MD[k] = Trajectory(trj, inplace=False)\n",
    "    \n",
    "# Convert MD trajectory 0K configs to objects\n",
    "trjs_0k = {}\n",
    "for k, trj in trajectories_0k.items():\n",
    "    trjs_0k[k] = Trajectory(trj, inplace=False)[-1]\n",
    "\n",
    "# Convert MD trajectory bcc eos configs to objects\n",
    "trjs_eos_bcc = {}\n",
    "for k, trj in trajectories_eos_bcc.items():\n",
    "    trjs_eos_bcc[k] = Trajectory(trj, inplace=False)[-1]\n",
    "    \n",
    "# Convert MD trajectory bcc eos configs to objects\n",
    "trjs_eos_fcc = {}\n",
    "for k, trj in trajectories_eos_fcc.items():\n",
    "    trjs_eos_fcc[k] = Trajectory(trj, inplace=False)[-1]"
   ]
  },
  {
   "cell_type": "code",
   "execution_count": null,
   "metadata": {},
   "outputs": [],
   "source": [
    "trjs_0k['bcc_0k']['energy']"
   ]
  },
  {
   "cell_type": "code",
   "execution_count": null,
   "metadata": {},
   "outputs": [],
   "source": [
    "# Join relaxed configurations into pseudo-trajectories\n",
    "\n",
    "# join 0 K configurations into a pseudo-trajectory\n",
    "traj_0k = copy.deepcopy(trjs_0k['bcc_0k'])\n",
    "for k, trj in trjs_0k.items():\n",
    "    if 'bcc_0k' not in k:\n",
    "        traj_0k.append(trj)\n",
    "\n",
    "# join eos bcc configurations into a pseudo-trajectory\n",
    "traj_eos_bcc = copy.deepcopy(trjs_eos_bcc['eq_st_bcc/v0'])\n",
    "for k, trj in trjs_eos_bcc.items():\n",
    "    if k != 'eq_st_bcc/v0':\n",
    "        traj_eos_bcc.append(trj)\n",
    "\n",
    "# join eos fcc configurations into a pseudo-trajectory\n",
    "traj_eos_fcc = copy.deepcopy(trjs_eos_fcc['eq_st_fcc/v0'])\n",
    "for k, trj in trjs_eos_fcc.items():\n",
    "    if k != 'eq_st_fcc/v0':\n",
    "        traj_eos_fcc.append(trj)"
   ]
  },
  {
   "cell_type": "code",
   "execution_count": null,
   "metadata": {
    "collapsed": true
   },
   "outputs": [],
   "source": [
    "# Create a dictionary of trajectories\n",
    "trjs = {}\n",
    "trjs.update(trjs_MD)\n",
    "trjs['relax'] = traj_0k\n",
    "trjs['eos_bcc'] = traj_eos_bcc\n",
    "trjs['eos_fcc'] = traj_eos_fcc"
   ]
  },
  {
   "cell_type": "code",
   "execution_count": null,
   "metadata": {},
   "outputs": [],
   "source": [
    "# shift zero of energy to by subtracting intra-atomic contributions (energy of an isolated atom)\n",
    "\n",
    "u_total = traj_0k['energy'][0]/len(traj_0k['xyz'][0]) # total energy of a BCC lattice from DFT\n",
    "u_lattice = -8.9 # experimental lattice energy of a BCC lattice\n",
    "u_intra = u_total - u_lattice # internal energy per atom (to be subtracted from all atoms)\n",
    "\n",
    "for key, trj_i in trjs.items():\n",
    "    print(key, type(trj_i))\n",
    "    trj_i.set_zero_energy(u_intra, inplace=True)"
   ]
  },
  {
   "cell_type": "code",
   "execution_count": null,
   "metadata": {},
   "outputs": [],
   "source": [
    "np.array(trjs['relax']['energy'])/np.array([len(x) for x in trjs['relax']['xyz']])"
   ]
  },
  {
   "cell_type": "code",
   "execution_count": null,
   "metadata": {
    "collapsed": true
   },
   "outputs": [],
   "source": [
    "#%%writefile -a ../../statmechlib/statmechlib/preprocessing/stats.py\n",
    "\n",
    "# W parameters\n",
    "l = 0.274\n",
    "r_wse = 3.168\n",
    "r_wse = 1.584\n",
    "eta = 5.69\n",
    "dE = 8.9\n",
    "\n",
    "# equation of state. x is lattice expansion/compression parameter\n",
    "def eos(x):\n",
    "    a = (x - 1.0)*r_wse/l\n",
    "    ene = np.exp(-a)\n",
    "    ene *= -1.0 - a - 0.05*a**3\n",
    "    return dE*ene\n",
    "\n",
    "\n",
    "def scale_configuration(trj, scale):\n",
    "    \"\"\"\n",
    "    Scales box size by 10 to separate all atoms beyond cutoff, and sets energies and forces to 0.\n",
    "    \n",
    "    Parameters\n",
    "    ----------\n",
    "    trj: Trajectory object (or dict)\n",
    "         Trajectory to be rescaled\n",
    "    \n",
    "    Returns\n",
    "    -------\n",
    "    trj: Trajectory object (or dict)\n",
    "         Rescaled trajectory\n",
    "    \"\"\"\n",
    "    edif = 0.0#-1656.3257 + 1139.2\n",
    "    trj['box'][0] = trj['box'][0]*scale\n",
    "    trj['box0'] = trj['box0']*scale\n",
    "    trj['energy'][0] = eos(scale)*len(trj['xyz'][0]) + edif\n",
    "    trj['free_energy'][0] = eos(scale)*len(trj['xyz'][0]) + edif\n",
    "    trj['total_energy'][0] = eos(scale)*len(trj['xyz'][0]) + edif\n",
    "    trj['forces'][0] = np.zeros_like(trj['forces'][0])\n",
    "    return trj"
   ]
  },
  {
   "cell_type": "code",
   "execution_count": null,
   "metadata": {},
   "outputs": [],
   "source": [
    "# Create configurations and energies based on universal equation of state for BCC tungsten\n",
    "traj_eos = scale_configuration(copy.deepcopy(trjs_0k['bcc_0k']), 1.0)\n",
    "\n",
    "# select configurations outside the range of direct DFT EOS calculations\n",
    "scale_eos = [0.85, 0.9, 1.2, 1.25, 1.3, 1.35, 1.4, 1.45]\n",
    "\n",
    "for scale in scale_eos:\n",
    "    traj_scale = copy.deepcopy(trjs_0k['bcc_0k'])\n",
    "    traj_eos.append(scale_configuration(traj_scale, scale))"
   ]
  },
  {
   "cell_type": "code",
   "execution_count": null,
   "metadata": {
    "collapsed": true
   },
   "outputs": [],
   "source": [
    "trjs['eos'] = traj_eos"
   ]
  },
  {
   "cell_type": "code",
   "execution_count": null,
   "metadata": {
    "collapsed": true
   },
   "outputs": [],
   "source": [
    "# Create an artificial 'infinite' configuration with large box and 0 energy\n",
    "traj_inf = copy.deepcopy(trjs_0k['bcc_0k'])\n",
    "traj_inf = scale_configuration(traj_inf, 100.0)"
   ]
  },
  {
   "cell_type": "code",
   "execution_count": null,
   "metadata": {},
   "outputs": [],
   "source": [
    "# Add inf configuration to static pseudo-trajectory and set temperature to 100 K (for convenience)\n",
    "for key in ['relax','eos','eos_bcc','eos_fcc']:\n",
    "    trjs[key].append(traj_inf)\n",
    "    trjs[key]['temp'] = [100.0 for _ in range(len(trjs[key]['temp']))]"
   ]
  },
  {
   "cell_type": "code",
   "execution_count": null,
   "metadata": {},
   "outputs": [],
   "source": [
    "for key, trj in trjs.items():\n",
    "    #print(i, list(zip(trj['atom_name'], trj['atom_num'])), len(trj['temp']))\n",
    "    if 'eos' in key:\n",
    "        plt.scatter([np.linalg.det(b)**(1./3.)/12.744894 for b in trj['box']][:-1], trj['energy'][:-1], label=key)\n",
    "        print(trj['energy'][:])\n",
    "plt.legend()\n",
    "#plt.xlim(-1780,-1100)\n",
    "plt.show()"
   ]
  },
  {
   "cell_type": "code",
   "execution_count": null,
   "metadata": {
    "collapsed": true
   },
   "outputs": [],
   "source": [
    "def get_msd(xyzs):\n",
    "    \"\"\"Return mean squared displacement (msd) for a given trajectory (traj).\"\"\"\n",
    "    msd = []\n",
    "    for rs in xyzs:\n",
    "        msd.append(np.mean((rs - xyzs[0])**2))\n",
    "    #msd = [0.0 for _ in range(len(xyzs))]\n",
    "    return np.array(msd)"
   ]
  },
  {
   "cell_type": "code",
   "execution_count": null,
   "metadata": {},
   "outputs": [],
   "source": [
    "fig, axes = plt.subplots(2, 2, sharex='col', figsize=(15,10))\n",
    "\n",
    "for key, traj in trjs.items():\n",
    "    if 'relax' in key or 'eos' in key:\n",
    "        continue\n",
    "\n",
    "        \n",
    "    #axes[0,0].plot([e/x.shape[0] for e, x in zip(traj['energy'], traj['xyz'])], label=dset)\n",
    "    if 'screw' in key:\n",
    "        axes[0,0].plot([e for e, x in zip(traj['energy'], traj['xyz'])], label=key)\n",
    "        axes[0,1].plot([np.linalg.det(b) for b in traj['box']], label=key)\n",
    "    else:\n",
    "        axes[0,0].plot([e for e, x in zip(traj['energy'], traj['xyz'])], label=key)\n",
    "        axes[0,1].plot([np.linalg.det(b) for b in traj['box']], label=key)\n",
    "\n",
    "\n",
    "    axes[1,0].plot([t for t in traj['temp']], label=key)\n",
    "\n",
    "    msd = get_msd(traj['xyz'])\n",
    "    axes[1,1].plot(msd, label=key)\n",
    "\n",
    "axes[0,0].legend()\n",
    "axes[0,0].set_title('Energies of individual configurations', fontsize=20)\n",
    "axes[0,1].set_title('Volumes of individual configurations', fontsize=20)       \n",
    "axes[1,0].set_title('Temperature', fontsize=20)\n",
    "axes[1,1].set_title('MSD - rough/approximate', fontsize=20)\n",
    "fig.tight_layout()"
   ]
  },
  {
   "cell_type": "code",
   "execution_count": null,
   "metadata": {},
   "outputs": [],
   "source": [
    "[(k, len(v['energy'])) for k, v in trjs.items()]"
   ]
  },
  {
   "cell_type": "code",
   "execution_count": null,
   "metadata": {
    "collapsed": true
   },
   "outputs": [],
   "source": [
    "slices = {'bcc_npt_langevin_300K':slice(500, None,5),\n",
    "        'fcc_npt_langevin_300K':slice(50, None, 5),\n",
    "        'vac_npt_langevin_2000K':slice(300, None, 5),\n",
    "        'i110_npt_langevin_2000K':slice(1000, None, 5),\n",
    "        'i111_npt_langevin_2000K':slice(1000, None, 5),\n",
    "        'screw_111_npt_langevin_2000K':slice(1400, None, 5),\n",
    "        'bcc_npt_langevin_3700K':slice(600, None, 5),\n",
    "        'liq_3700K':slice(800, None, 5),\n",
    "        'liq_5000K':slice(800, None, 5),\n",
    "        'relax':slice(0, None, None),\n",
    "        'eos_bcc':slice(0, None, None),\n",
    "        'eos_fcc':slice(0, None, None),\n",
    "        'eos':slice(0, None, None)\n",
    "       }"
   ]
  },
  {
   "cell_type": "code",
   "execution_count": null,
   "metadata": {
    "collapsed": true
   },
   "outputs": [],
   "source": [
    "trj_samples = {}\n",
    "for key, traj in trjs.items():\n",
    "    trj_samples[key] = traj[slices[key]]"
   ]
  },
  {
   "cell_type": "code",
   "execution_count": null,
   "metadata": {},
   "outputs": [],
   "source": [
    "[(k, len(v['energy'])) for k, v in trj_samples.items()]"
   ]
  },
  {
   "cell_type": "code",
   "execution_count": null,
   "metadata": {},
   "outputs": [],
   "source": [
    "# join 0 K configurations into a pseudo-trajectory\n",
    "traj_md = copy.deepcopy(trj_samples['bcc_npt_langevin_300K'])\n",
    "\n",
    "for k, trj in trj_samples.items():\n",
    "    print(k)\n",
    "    if 'eos' in k or 'relax' in k or 'bcc_npt_langevin_300K' in k: \n",
    "        continue\n",
    "        \n",
    "    traj_md.append(trj)\n",
    "\n",
    "    print(len(traj_md['box']))"
   ]
  },
  {
   "cell_type": "code",
   "execution_count": null,
   "metadata": {},
   "outputs": [],
   "source": [
    "trj_samples['eos_bcc'].append(trj_samples['eos'])"
   ]
  },
  {
   "cell_type": "code",
   "execution_count": null,
   "metadata": {},
   "outputs": [],
   "source": [
    "trj_samples['eos_bcc']['energy']"
   ]
  },
  {
   "cell_type": "code",
   "execution_count": null,
   "metadata": {
    "collapsed": true
   },
   "outputs": [],
   "source": [
    "trj_fit = {'md':traj_md, 'relax':trj_samples['relax'], 'eos_bcc':trj_samples['eos_bcc'], 'eos_fcc':trj_samples['eos_fcc']}"
   ]
  },
  {
   "cell_type": "code",
   "execution_count": null,
   "metadata": {},
   "outputs": [],
   "source": [
    "trj_fit['md']['xyz'][-1].shape"
   ]
  },
  {
   "cell_type": "code",
   "execution_count": null,
   "metadata": {},
   "outputs": [],
   "source": [
    "trj_fit.keys()"
   ]
  },
  {
   "cell_type": "code",
   "execution_count": null,
   "metadata": {},
   "outputs": [],
   "source": [
    "with open(os.path.join(working, \"trj_fit.pickle\"), 'wb') as fo:\n",
    "    pickle.dump(trj_fit, fo, protocol=2)"
   ]
  },
  {
   "cell_type": "code",
   "execution_count": null,
   "metadata": {
    "collapsed": true
   },
   "outputs": [],
   "source": []
  }
 ],
 "metadata": {
  "kernelspec": {
   "display_name": "Python 3",
   "language": "python",
   "name": "python3"
  },
  "language_info": {
   "codemirror_mode": {
    "name": "ipython",
    "version": 3
   },
   "file_extension": ".py",
   "mimetype": "text/x-python",
   "name": "python",
   "nbconvert_exporter": "python",
   "pygments_lexer": "ipython3",
   "version": "3.6.1"
  }
 },
 "nbformat": 4,
 "nbformat_minor": 2
}
