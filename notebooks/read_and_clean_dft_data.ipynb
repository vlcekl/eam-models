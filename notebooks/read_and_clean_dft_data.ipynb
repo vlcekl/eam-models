{
 "cells": [
  {
   "cell_type": "code",
   "execution_count": 10,
   "metadata": {
    "collapsed": true
   },
   "outputs": [],
   "source": [
    "import os\n",
    "import sys\n",
    "import re\n",
    "import numpy as np\n",
    "%matplotlib inline\n",
    "import matplotlib.pyplot as plt\n",
    "import copy\n",
    "import pickle\n",
    "import multiprocessing as mp"
   ]
  },
  {
   "cell_type": "code",
   "execution_count": 11,
   "metadata": {},
   "outputs": [
    {
     "data": {
      "text/plain": [
       "'utf-8'"
      ]
     },
     "execution_count": 11,
     "metadata": {},
     "output_type": "execute_result"
    }
   ],
   "source": [
    "sys.getdefaultencoding()"
   ]
  },
  {
   "cell_type": "code",
   "execution_count": 12,
   "metadata": {},
   "outputs": [
    {
     "name": "stdout",
     "output_type": "stream",
     "text": [
      "The autoreload extension is already loaded. To reload it, use:\n",
      "  %reload_ext autoreload\n"
     ]
    }
   ],
   "source": [
    "# jupyter notebook settings for debugging\n",
    "%load_ext autoreload\n",
    "%autoreload 2"
   ]
  },
  {
   "cell_type": "code",
   "execution_count": 14,
   "metadata": {
    "collapsed": true
   },
   "outputs": [],
   "source": [
    "# statmech library setup\n",
    "sys.path.append('../../statmechlib')\n",
    "from statmechlib.read_write import read_vasp\n",
    "from statmechlib.preprocessing import Trajectory, select_nodes, scale_configuration, pair_dist\n",
    "from statmechlib.preprocessing import pair_dist, force_targ, get_stats_EAM_per_atom, get_stats_EAM_per_box"
   ]
  },
  {
   "cell_type": "code",
   "execution_count": 17,
   "metadata": {
    "collapsed": true
   },
   "outputs": [],
   "source": [
    "# Define locations of relevant datasets\n",
    "\n",
    "target_raw = '../data/target_raw'\n",
    "target_proc = '../data/target_processed'\n",
    "working = '../data/working'\n",
    "\n",
    "# MD trajectories\n",
    "datasets_MD = ['bcc_npt_langevin_300K',\n",
    "            'fcc_npt_langevin_300K',\n",
    "            'vac_npt_langevin_2000K',\n",
    "            'i110_npt_langevin_2000K',\n",
    "            'i111_npt_langevin_2000K',\n",
    "            'screw_111_npt_langevin_2000K',\n",
    "            'bcc_npt_langevin_3700K',\n",
    "            'liq_3700K',\n",
    "            'liq_5000K']\n",
    "\n",
    "# 0K relaxed structures\n",
    "datasets_0k = ['bcc_0k',\n",
    "               'fcc_0k',\n",
    "               'vac_0k',\n",
    "               'i110_0k',\n",
    "               'i111_0k',\n",
    "               'screw_111_0k']\n",
    "\n",
    "# equations of state for BCC and FCC lattices\n",
    "configs = ['v0','v0.8','v0.9','v1.1','v1.2','v1.3','v1.4','v1.5']\n",
    "\n",
    "datasets_eos_bcc = ['eq_st_bcc/' + s for s in configs]\n",
    "datasets_eos_fcc = ['eq_st_fcc/' + s for s in configs]\n",
    "\n",
    "# bain path\n",
    "configs = ['1.00', '1.05', '1.10', '1.15', '1.20', '1.25', '1.30', '1.35', '1.40', '1.45', '1.50', '1.55']\n",
    "\n",
    "datasets_bain = ['bain_path/' + s for s in configs]\n",
    "\n",
    "# vacancy interactions\n",
    "\n",
    "configs = ['v2_r1', 'v2_r2', 'v2_r3', 'v3_1_555', 'v3_3_555', 'v4_2_555', 'v4_5_555', 'v5_555', 'v6_555', 'v6_6x6x6_360']#, 'prf_360']\n",
    "\n",
    "datasets_vacint = ['vacint/' + s for s in configs]\n",
    "\n",
    "# defined dataset directories relative to the current directory (/notebooks)\n",
    "trajdirs_MD = [target_raw + '/' + dataset for dataset in datasets_MD]\n",
    "trajdirs_0k = [target_raw + '/' + dataset for dataset in datasets_0k]\n",
    "trajdirs_eos_bcc = [target_raw + '/' + dataset for dataset in datasets_eos_bcc]\n",
    "trajdirs_eos_fcc = [target_raw + '/' + dataset for dataset in datasets_eos_fcc]\n",
    "trajdirs_bain = [target_raw + '/' + dataset for dataset in datasets_bain]\n",
    "trajdirs_vacint = [target_raw + '/' + dataset for dataset in datasets_vacint]"
   ]
  },
  {
   "cell_type": "code",
   "execution_count": 18,
   "metadata": {},
   "outputs": [
    {
     "name": "stdout",
     "output_type": "stream",
     "text": [
      "Done with vacint\n",
      "Done with MD\n",
      "Done with 0k\n",
      "Done with BCC EOS\n",
      "Done with FCC EOS\n",
      "Done with bain path\n",
      "CPU times: user 716 ms, sys: 427 ms, total: 1.14 s\n",
      "Wall time: 5min\n"
     ]
    }
   ],
   "source": [
    "%%time\n",
    "\n",
    "# set up a multiprocessing pool\n",
    "pool = mp.Pool()\n",
    "\n",
    "# read vacancy interactins in parallel\n",
    "output_data = pool.map(read_vasp, trajdirs_vacint)\n",
    "trajectories_vacint = dict(zip(datasets_vacint, output_data))\n",
    "print('Done with vacint')\n",
    "\n",
    "# read MD trajectories in parallel\n",
    "output_data = pool.map(read_vasp, trajdirs_MD)\n",
    "trajectories_MD = dict(zip(datasets_MD, output_data))\n",
    "print('Done with MD')\n",
    "\n",
    "# read 0K configurations in parallel\n",
    "output_data = pool.map(read_vasp, trajdirs_0k)\n",
    "trajectories_0k = dict(zip(datasets_0k, output_data))\n",
    "print('Done with 0k')\n",
    "\n",
    "# read BCC EOS in parallel\n",
    "output_data = pool.map(read_vasp, trajdirs_eos_bcc)\n",
    "trajectories_eos_bcc = dict(zip(datasets_eos_bcc, output_data))\n",
    "print('Done with BCC EOS')\n",
    "\n",
    "# read BCC EOS in parallel\n",
    "output_data = pool.map(read_vasp, trajdirs_eos_fcc)\n",
    "trajectories_eos_fcc = dict(zip(datasets_eos_fcc, output_data))\n",
    "print('Done with FCC EOS')\n",
    "\n",
    "# read bain path in parallel\n",
    "output_data = pool.map(read_vasp, trajdirs_bain)\n",
    "trajectories_bain = dict(zip(datasets_bain, output_data))\n",
    "print('Done with bain path')\n",
    "\n",
    "pool.close()\n",
    "pool.join()"
   ]
  },
  {
   "cell_type": "code",
   "execution_count": 19,
   "metadata": {},
   "outputs": [
    {
     "name": "stdout",
     "output_type": "stream",
     "text": [
      "vacint/v2_r1 6\n",
      "vacint/v2_r2 9\n",
      "vacint/v2_r3 3\n",
      "vacint/v3_1_555 3\n",
      "vacint/v3_3_555 3\n",
      "vacint/v4_2_555 1\n",
      "vacint/v4_5_555 3\n",
      "vacint/v5_555 3\n",
      "vacint/v6_555 3\n",
      "vacint/v6_6x6x6_360 3\n"
     ]
    }
   ],
   "source": [
    "for k, trj in trajectories_vacint.items():\n",
    "    print(k, len(trj['xyz']))"
   ]
  },
  {
   "cell_type": "code",
   "execution_count": 20,
   "metadata": {
    "collapsed": true
   },
   "outputs": [],
   "source": [
    "# Convert MD trajectory dicts to objects\n",
    "trjs_MD = {}\n",
    "for k, trj in trajectories_MD.items():\n",
    "    trjs_MD[k] = Trajectory(trj, inplace=False)\n",
    "    \n",
    "# Convert 0K configs to objects\n",
    "trjs_0k = {}\n",
    "for k, trj in trajectories_0k.items():\n",
    "    trjs_0k[k] = Trajectory(trj, inplace=False)[-1]\n",
    "\n",
    "# Convert bcc eos configs to objects\n",
    "trjs_eos_bcc = {}\n",
    "for k, trj in trajectories_eos_bcc.items():\n",
    "    trjs_eos_bcc[k] = Trajectory(trj, inplace=False)[-1]\n",
    "    \n",
    "# Convert fcc eos configs to objects\n",
    "trjs_eos_fcc = {}\n",
    "for k, trj in trajectories_eos_fcc.items():\n",
    "    trjs_eos_fcc[k] = Trajectory(trj, inplace=False)[-1]\n",
    "    \n",
    "# Convert bain path configs to objects\n",
    "trjs_bain = {}\n",
    "for k, trj in trajectories_bain.items():\n",
    "    trjs_bain[k] = Trajectory(trj, inplace=False)[-1]\n",
    "    \n",
    "# Convert vacint configs to objects\n",
    "trjs_vacint = {}\n",
    "for k, trj in trajectories_vacint.items():\n",
    "    trjs_vacint[k] = Trajectory(trj, inplace=False)[-1]"
   ]
  },
  {
   "cell_type": "code",
   "execution_count": 21,
   "metadata": {},
   "outputs": [
    {
     "name": "stdout",
     "output_type": "stream",
     "text": [
      "[-1656.3257]\n"
     ]
    }
   ],
   "source": [
    "print(trjs_0k['bcc_0k']['energy'])\n",
    "trjs_0k['bcc_0k']['energy'] = [-1656.28114021]"
   ]
  },
  {
   "cell_type": "code",
   "execution_count": 22,
   "metadata": {},
   "outputs": [
    {
     "data": {
      "image/png": "[encoded data removed]",
      "text/plain": [
       "<Figure size 1440x720 with 1 Axes>"
      ]
     },
     "metadata": {},
     "output_type": "display_data"
    }
   ],
   "source": [
    "plt.figure(figsize=(20,10))\n",
    "ratio = [trjs_bain[key]['box'][0][2,2]/trjs_bain[key]['box'][0][0,0] for key in datasets_bain]\n",
    "plt.plot(ratio, np.array([trjs_bain[key]['energy'] for key in datasets_bain])/128.- trjs_bain['bain_path/1.00']['energy'][-1]/128.)\n",
    "plt.xlim(1.0, 1.95)\n",
    "plt.grid(True)"
   ]
  },
  {
   "cell_type": "code",
   "execution_count": 23,
   "metadata": {},
   "outputs": [
    {
     "name": "stdout",
     "output_type": "stream",
     "text": [
      "[6.430017071480506, 6.784700231481111, 6.276900231480795, 9.969466412036581, 9.75526641203669, 13.85798152777761, 12.321581527777653, 15.91409664351795, 17.0665117592589, 16.9537606944441]\n",
      "[6.192567520000011, 6.547250680000616, 6.0394506800003, 9.833070972000314, 9.618870972000423, 13.72213829600014, 12.185738296000181, 15.778805620000185, 16.93177294399993, 16.718519976000607]\n",
      "[430 430 430 247 247 246 246 245 244 426]\n"
     ]
    },
    {
     "data": {
      "image/png": "[encoded data removed]",
      "text/plain": [
       "<Figure size 1440x720 with 1 Axes>"
      ]
     },
     "metadata": {},
     "output_type": "display_data"
    }
   ],
   "source": [
    "plt.figure(figsize=(20,10))\n",
    "#ratio = [trjs_vacint[key]['box'][0][2,2]/trjs_bain[key]['box'][0][0,0] for key in datasets_bain]\n",
    "plt.title('Vacancy cluster formation energies')\n",
    "nat = np.array([len(trjs_vacint[key]['xyz'][-1]) for key in sorted(datasets_vacint)])\n",
    "enes_big =   [trjs_vacint[key]['energy'][-1] + 5598.713470/432*nat[i] for i, key in enumerate(sorted(datasets_vacint))]\n",
    "enes_small = [trjs_vacint[key]['energy'][-1] + 3239.858169/250*nat[i] for i, key in enumerate(sorted(datasets_vacint))]\n",
    "\n",
    "#plt.plot(np.array([trjs_vacint[key]['energy'][-1] for key in datasets_vacint])/nat - 8.9)\n",
    "#plt.xlim(1.0, 1.95)\n",
    "plt.grid(True)\n",
    "plt.plot(enes_big)\n",
    "plt.plot(enes_small)\n",
    "#plt.plot(np.array([trjs_vacint[key]['energy'][-1] for key in sorted(datasets_vacint)]) - trjs_0k['bcc_0k']['energy'][-1]/128.*nat)\n",
    "x_ticks = (list(range(len(trjs_vacint.keys()))), sorted(list(trjs_vacint.keys())))\n",
    "plt.xticks(*x_ticks)\n",
    "\n",
    "\n",
    "print([trjs_vacint[key]['energy'][-1] + 5598.713470/432*nat[i] for i, key in enumerate(sorted(datasets_vacint))])\n",
    "print([trjs_vacint[key]['energy'][-1] + 3239.858169/250*nat[i] for i, key in enumerate(sorted(datasets_vacint))])\n",
    "print(nat)"
   ]
  },
  {
   "cell_type": "code",
   "execution_count": 24,
   "metadata": {
    "collapsed": true
   },
   "outputs": [],
   "source": [
    "# Join relaxed configurations into pseudo-trajectories\n",
    "\n",
    "# join 0 K configurations into a pseudo-trajectory\n",
    "traj_0k = copy.deepcopy(trjs_0k['bcc_0k'])\n",
    "for k, trj in sorted(trjs_0k.items()):\n",
    "    if 'bcc_0k' not in k:\n",
    "        traj_0k.append(trj)\n",
    "\n",
    "# join eos bcc configurations into a pseudo-trajectory\n",
    "traj_eos_bcc = copy.deepcopy(trjs_eos_bcc['eq_st_bcc/v0'])\n",
    "for k, trj in sorted(trjs_eos_bcc.items()):\n",
    "    if k != 'eq_st_bcc/v0':\n",
    "        traj_eos_bcc.append(trj)\n",
    "\n",
    "# join eos fcc configurations into a pseudo-trajectory\n",
    "traj_eos_fcc = copy.deepcopy(trjs_eos_fcc['eq_st_fcc/v0'])\n",
    "for k, trj in sorted(trjs_eos_fcc.items()):\n",
    "    #if k != 'eq_st_fcc/v0':\n",
    "    if ('v0.8' in k) or ('v0.9' in k) or ('v1.1' in k) or ('v1.2' in k):\n",
    "        traj_eos_fcc.append(trj)\n",
    "        \n",
    "# join bain path configurations into a pseudo-trajectory\n",
    "traj_bain = copy.deepcopy(trjs_bain['bain_path/1.00'])\n",
    "for k, trj in sorted(trjs_bain.items()):\n",
    "    if k != 'bain_path/1.00':\n",
    "        traj_bain.append(trj)\n",
    "        \n",
    "# join vacint configurations into a pseudo-trajectory\n",
    "traj_vacint = copy.deepcopy(trjs_vacint['vacint/v2_r1'])\n",
    "for k, trj in sorted(trjs_vacint.items()):\n",
    "    if k != 'vacint/v2_r1':\n",
    "        traj_vacint.append(trj)"
   ]
  },
  {
   "cell_type": "code",
   "execution_count": 25,
   "metadata": {
    "collapsed": true
   },
   "outputs": [],
   "source": [
    "# Create a dictionary of trajectories\n",
    "trjs = {}\n",
    "trjs.update(trjs_MD)\n",
    "trjs['relax'] = traj_0k\n",
    "trjs['eos_bcc'] = traj_eos_bcc\n",
    "trjs['eos_fcc'] = traj_eos_fcc\n",
    "trjs['bain'] = traj_bain\n",
    "trjs['vacint'] = traj_vacint"
   ]
  },
  {
   "cell_type": "code",
   "execution_count": 26,
   "metadata": {},
   "outputs": [
    {
     "data": {
      "text/plain": [
       "([array([[12.744894,  0.      ,  0.      ],\n",
       "         [ 0.      , 12.744894,  0.      ],\n",
       "         [ 0.      ,  0.      , 12.744894]]),\n",
       "  array([[12.10561061,  0.        ,  0.        ],\n",
       "         [ 0.        , 12.10561061,  0.        ],\n",
       "         [ 0.        ,  0.        , 12.10561061]]),\n",
       "  array([[12.6836,  0.    ,  0.    ],\n",
       "         [ 0.    , 12.6836,  0.    ],\n",
       "         [ 0.    ,  0.    , 12.6836]]),\n",
       "  array([[12.6836,  0.    ,  0.    ],\n",
       "         [ 0.    , 12.6836,  0.    ],\n",
       "         [ 0.    ,  0.    , 12.6836]]),\n",
       "  array([[39.073002,  0.      ,  0.      ],\n",
       "         [ 0.      ,  2.762878,  0.      ],\n",
       "         [19.536501,  1.381439, 20.302927]]),\n",
       "  array([[12.729505,  0.      ,  0.      ],\n",
       "         [ 0.      , 12.729505,  0.      ],\n",
       "         [ 0.      ,  0.      , 12.729505]])],\n",
       " [array([[12.744894,  0.      ,  0.      ],\n",
       "         [ 0.      , 12.744894,  0.      ],\n",
       "         [ 0.      ,  0.      , 12.744894]]),\n",
       "  array([[12.437743,  0.      ,  0.      ],\n",
       "         [ 0.      , 12.437743,  0.      ],\n",
       "         [ 0.      ,  0.      , 13.382139]]),\n",
       "  array([[12.15178 ,  0.      ,  0.      ],\n",
       "         [ 0.      , 12.15178 ,  0.      ],\n",
       "         [ 0.      ,  0.      , 14.019384]]),\n",
       "  array([[11.884675,  0.      ,  0.      ],\n",
       "         [ 0.      , 11.884675,  0.      ],\n",
       "         [ 0.      ,  0.      , 14.656629]]),\n",
       "  array([[11.634444,  0.      ,  0.      ],\n",
       "         [ 0.      , 11.634444,  0.      ],\n",
       "         [ 0.      ,  0.      , 15.293873]]),\n",
       "  array([[11.39938 ,  0.      ,  0.      ],\n",
       "         [ 0.      , 11.39938 ,  0.      ],\n",
       "         [ 0.      ,  0.      , 15.931118]]),\n",
       "  array([[11.178012,  0.      ,  0.      ],\n",
       "         [ 0.      , 11.178012,  0.      ],\n",
       "         [ 0.      ,  0.      , 16.568363]]),\n",
       "  array([[10.969059,  0.      ,  0.      ],\n",
       "         [ 0.      , 10.969059,  0.      ],\n",
       "         [ 0.      ,  0.      , 17.205608]]),\n",
       "  array([[10.771402,  0.      ,  0.      ],\n",
       "         [ 0.      , 10.771402,  0.      ],\n",
       "         [ 0.      ,  0.      , 17.842852]]),\n",
       "  array([[10.584059,  0.      ,  0.      ],\n",
       "         [ 0.      , 10.584059,  0.      ],\n",
       "         [ 0.      ,  0.      , 18.480097]]),\n",
       "  array([[10.406163,  0.      ,  0.      ],\n",
       "         [ 0.      , 10.406163,  0.      ],\n",
       "         [ 0.      ,  0.      , 19.117342]]),\n",
       "  array([[10.236946,  0.      ,  0.      ],\n",
       "         [ 0.      , 10.236946,  0.      ],\n",
       "         [ 0.      ,  0.      , 19.754586]])])"
      ]
     },
     "execution_count": 26,
     "metadata": {},
     "output_type": "execute_result"
    }
   ],
   "source": [
    "trjs['relax']['box'], trjs['bain']['box']"
   ]
  },
  {
   "cell_type": "code",
   "execution_count": 27,
   "metadata": {},
   "outputs": [
    {
     "name": "stdout",
     "output_type": "stream",
     "text": [
      "bcc_npt_langevin_300K <class 'statmechlib.preprocessing.trajectory.Trajectory'>\n",
      "fcc_npt_langevin_300K <class 'statmechlib.preprocessing.trajectory.Trajectory'>\n",
      "vac_npt_langevin_2000K <class 'statmechlib.preprocessing.trajectory.Trajectory'>\n",
      "i110_npt_langevin_2000K <class 'statmechlib.preprocessing.trajectory.Trajectory'>\n",
      "i111_npt_langevin_2000K <class 'statmechlib.preprocessing.trajectory.Trajectory'>\n",
      "screw_111_npt_langevin_2000K <class 'statmechlib.preprocessing.trajectory.Trajectory'>\n",
      "bcc_npt_langevin_3700K <class 'statmechlib.preprocessing.trajectory.Trajectory'>\n",
      "liq_3700K <class 'statmechlib.preprocessing.trajectory.Trajectory'>\n",
      "liq_5000K <class 'statmechlib.preprocessing.trajectory.Trajectory'>\n",
      "relax <class 'statmechlib.preprocessing.trajectory.Trajectory'>\n",
      "eos_bcc <class 'statmechlib.preprocessing.trajectory.Trajectory'>\n",
      "eos_fcc <class 'statmechlib.preprocessing.trajectory.Trajectory'>\n",
      "bain <class 'statmechlib.preprocessing.trajectory.Trajectory'>\n",
      "vacint <class 'statmechlib.preprocessing.trajectory.Trajectory'>\n"
     ]
    }
   ],
   "source": [
    "# shift zero of energy to by subtracting intra-atomic contributions (energy of an isolated atom)\n",
    "\n",
    "u_total = traj_0k['energy'][0]/len(traj_0k['xyz'][0]) # total energy of a BCC lattice from DFT\n",
    "u_lattice = -8.9 # experimental lattice energy of a BCC lattice\n",
    "#u_lattice = -8.89965188\n",
    "u_intra = u_total - u_lattice # internal energy per atom (to be subtracted from all atoms)\n",
    "\n",
    "for key, trj_i in trjs.items():\n",
    "    print(key, type(trj_i))\n",
    "    trj_i.set_zero_energy(u_intra, inplace=True)"
   ]
  },
  {
   "cell_type": "code",
   "execution_count": 28,
   "metadata": {},
   "outputs": [
    {
     "data": {
      "text/plain": [
       "(-12.939696407890626,\n",
       " -8.9,\n",
       " -4.0396964078906255,\n",
       " [-1139.2,\n",
       "  -907.0154879478124,\n",
       "  -1136.4010633821094,\n",
       "  -1136.7508633821094,\n",
       "  -1190.2611849347657,\n",
       "  -1127.1746561978907],\n",
       " [-3829.2940277670314,\n",
       "  -3828.9393446070308,\n",
       "  -3829.447144607031,\n",
       "  -2193.3417872510154,\n",
       "  -2193.5559872510153,\n",
       "  -2180.5329836589062,\n",
       "  -2182.069383658906,\n",
       "  -2169.556580066797,\n",
       "  -2159.4838764746873,\n",
       "  -3783.089130238593])"
      ]
     },
     "execution_count": 28,
     "metadata": {},
     "output_type": "execute_result"
    }
   ],
   "source": [
    "u_total, u_lattice, u_intra, trjs['relax']['energy'], trjs['vacint']['energy']"
   ]
  },
  {
   "cell_type": "code",
   "execution_count": 29,
   "metadata": {},
   "outputs": [
    {
     "data": {
      "text/plain": [
       "array([-8.9       , -8.39829156, -8.80931057, -8.8120222 , -8.81674952,\n",
       "       -8.87539099])"
      ]
     },
     "execution_count": 29,
     "metadata": {},
     "output_type": "execute_result"
    }
   ],
   "source": [
    "np.array(trjs['relax']['energy'])/np.array([len(x) for x in trjs['relax']['xyz']])"
   ]
  },
  {
   "cell_type": "code",
   "execution_count": 30,
   "metadata": {
    "collapsed": true
   },
   "outputs": [],
   "source": [
    "#%%writefile -a ../../statmechlib/statmechlib/preprocessing/stats.py\n",
    "\n",
    "# W parameters\n",
    "l = 0.274\n",
    "r_wse = 3.168\n",
    "r_wse = 1.584\n",
    "eta = 5.69\n",
    "dE = 8.9#8.89965188\n",
    "\n",
    "# equation of state. x is lattice expansion/compression parameter\n",
    "def eos(x):\n",
    "    a = (x - 1.0)*r_wse/l\n",
    "    ene = np.exp(-a)\n",
    "    ene *= -1.0 - a - 0.05*a**3\n",
    "    return dE*ene\n",
    "\n",
    "\n",
    "def scale_configuration(trj, scale):\n",
    "    \"\"\"\n",
    "    Scales box size by 10 to separate all atoms beyond cutoff, and sets energies and forces to 0.\n",
    "    \n",
    "    Parameters\n",
    "    ----------\n",
    "    trj: Trajectory object (or dict)\n",
    "         Trajectory to be rescaled\n",
    "    \n",
    "    Returns\n",
    "    -------\n",
    "    trj: Trajectory object (or dict)\n",
    "         Rescaled trajectory\n",
    "    \"\"\"\n",
    "    edif = 0.0#-1656.3257 + 1139.2\n",
    "    trj['box'][0] = trj['box'][0]*scale\n",
    "    trj['box0'] = trj['box0']*scale\n",
    "    trj['energy'][0] = eos(scale)*len(trj['xyz'][0]) + edif\n",
    "    trj['free_energy'][0] = eos(scale)*len(trj['xyz'][0]) + edif\n",
    "    trj['total_energy'][0] = eos(scale)*len(trj['xyz'][0]) + edif\n",
    "    trj['forces'][0] = np.zeros_like(trj['forces'][0])\n",
    "    return trj"
   ]
  },
  {
   "cell_type": "code",
   "execution_count": 31,
   "metadata": {},
   "outputs": [
    {
     "data": {
      "text/plain": [
       "([-1656.3257], [-1139.2])"
      ]
     },
     "execution_count": 31,
     "metadata": {},
     "output_type": "execute_result"
    }
   ],
   "source": [
    "trjs_0k['bcc_0k']['total_energy'], trjs['relax'][0]['energy']"
   ]
  },
  {
   "cell_type": "code",
   "execution_count": 32,
   "metadata": {
    "collapsed": true
   },
   "outputs": [],
   "source": [
    "# Create configurations and energies based on universal equation of state for BCC tungsten\n",
    "#traj_eos = scale_configuration(copy.deepcopy(trjs['relax'][0]['bcc_0k']), 1.0)\n",
    "traj_eos = scale_configuration(copy.deepcopy(trjs['relax'][0]), 1.0)\n",
    "\n",
    "# select configurations outside the range of direct DFT EOS calculations\n",
    "scale_eos = [0.85, 0.9, 1.2, 1.25, 1.3, 1.35, 1.4, 1.45]\n",
    "\n",
    "for scale in scale_eos:\n",
    "    #traj_scale = copy.deepcopy(trjs_0k['bcc_0k'])\n",
    "    traj_scale = copy.deepcopy(trjs['relax'][0])\n",
    "    traj_eos.append(scale_configuration(traj_scale, scale))"
   ]
  },
  {
   "cell_type": "code",
   "execution_count": 33,
   "metadata": {
    "collapsed": true
   },
   "outputs": [],
   "source": [
    "trjs['eos'] = traj_eos"
   ]
  },
  {
   "cell_type": "code",
   "execution_count": 34,
   "metadata": {
    "collapsed": true
   },
   "outputs": [],
   "source": [
    "# Create an artificial 'infinite' configuration with large box and 0 energy\n",
    "#traj_inf = copy.deepcopy(trjs_0k['bcc_0k'])\n",
    "traj_inf = copy.deepcopy(trjs['relax'][0])\n",
    "traj_inf = scale_configuration(traj_inf, 100.0)\n",
    "traj_inf['temp'] = [100.0]"
   ]
  },
  {
   "cell_type": "code",
   "execution_count": 35,
   "metadata": {
    "collapsed": true
   },
   "outputs": [],
   "source": [
    "# Add inf configuration to static pseudo-trajectory and set temperature to 100 K (for convenience)\n",
    "for key in ['relax','eos','eos_bcc','eos_fcc']:\n",
    "    #trjs[key].append(traj_inf)\n",
    "    trjs[key]['temp'] = [100.0 for _ in range(len(trjs[key]['energy']))]"
   ]
  },
  {
   "cell_type": "code",
   "execution_count": 36,
   "metadata": {},
   "outputs": [
    {
     "name": "stdout",
     "output_type": "stream",
     "text": [
      "[-1139.1999597899999, -1022.8512597899999, -1114.8629597899999, -1123.98065979, -1084.68265979, -1031.68535979, -971.3638597899999, -907.73125979]\n",
      "[-910.3360879478124, -816.7254879478124, -890.3913879478124, -897.9182879478125, -865.9315879478125]\n",
      "[-1139.2, -271.8047221070888, -837.1711089986524, -800.6633444635341, -697.0611202328876, -602.3043063713139, -517.742999456512, -443.4032853774631, -378.657941519064]\n"
     ]
    },
    {
     "data": {
      "image/png": "[encoded data removed]",
      "text/plain": [
       "<Figure size 432x288 with 1 Axes>"
      ]
     },
     "metadata": {},
     "output_type": "display_data"
    }
   ],
   "source": [
    "for key, trj in trjs.items():\n",
    "    #print(i, list(zip(trj['atom_name'], trj['atom_num'])), len(trj['temp']))\n",
    "    if 'eos' in key:\n",
    "        plt.scatter([np.linalg.det(b)**(1./3.)/12.744894 for b in trj['box']][:-1], trj['energy'][:-1], label=key)\n",
    "        print(trj['energy'][:])\n",
    "plt.legend()\n",
    "#plt.xlim(-1780,-1100)\n",
    "plt.show()"
   ]
  },
  {
   "cell_type": "code",
   "execution_count": 37,
   "metadata": {
    "collapsed": true
   },
   "outputs": [],
   "source": [
    "def get_msd(xyzs):\n",
    "    \"\"\"Return mean squared displacement (msd) for a given trajectory (traj).\"\"\"\n",
    "    msd = []\n",
    "    for rs in xyzs:\n",
    "        msd.append(np.mean((rs - xyzs[0])**2))\n",
    "    #msd = [0.0 for _ in range(len(xyzs))]\n",
    "    return np.array(msd)"
   ]
  },
  {
   "cell_type": "code",
   "execution_count": 82,
   "metadata": {},
   "outputs": [
    {
     "name": "stderr",
     "output_type": "stream",
     "text": [
      "No handles with labels found to put in legend.\n"
     ]
    },
    {
     "name": "stdout",
     "output_type": "stream",
     "text": [
      "[7.91427717257581, 9.235487802783931, 8.029570717424228, 8.029570717424228, 7.475199683027163, 7.943015157820841]\n"
     ]
    },
    {
     "data": {
      "image/png": "[encoded data removed]",
      "text/plain": [
       "<Figure size 1080x720 with 4 Axes>"
      ]
     },
     "metadata": {},
     "output_type": "display_data"
    }
   ],
   "source": [
    "fig, axes = plt.subplots(2, 2, sharex='col', figsize=(15,10))\n",
    "\n",
    "for key, traj in trjs.items():\n",
    "    if 'relax' in key or 'eos' in key or 'vacint':\n",
    "        continue\n",
    "\n",
    "        \n",
    "    #axes[0,0].plot([e/x.shape[0] for e, x in zip(traj['energy'], traj['xyz'])], label=dset)\n",
    "    if 'screw' in key:\n",
    "        axes[0,0].plot([e for e, x in zip(traj['energy'], traj['xyz'])], label=key)\n",
    "        axes[0,1].plot([np.linalg.det(b) for b in traj['box']], label=key)\n",
    "    else:\n",
    "        axes[0,0].plot([e for e, x in zip(traj['energy'], traj['xyz'])], label=key)\n",
    "        axes[0,1].plot([np.linalg.det(b) for b in traj['box']], label=key)\n",
    "\n",
    "\n",
    "    axes[1,0].plot([t for t in traj['temp']], label=key)\n",
    "\n",
    "    msd = get_msd(traj['xyz'])\n",
    "    axes[1,1].plot(msd, label=key)\n",
    "\n",
    "axes[0,0].legend()\n",
    "axes[0,0].set_title('Energies of individual configurations', fontsize=20)\n",
    "axes[0,1].set_title('Volumes of individual configurations', fontsize=20)       \n",
    "axes[1,0].set_title('Temperature', fontsize=20)\n",
    "axes[1,1].set_title('MSD - rough/approximate', fontsize=20)\n",
    "fig.tight_layout()\n",
    "\n",
    "print([128*128/np.linalg.det(b) for b in trjs['relax']['box']])"
   ]
  },
  {
   "cell_type": "code",
   "execution_count": 39,
   "metadata": {},
   "outputs": [
    {
     "data": {
      "text/plain": [
       "[('bcc_npt_langevin_300K', 1496),\n",
       " ('fcc_npt_langevin_300K', 552),\n",
       " ('vac_npt_langevin_2000K', 1480),\n",
       " ('i110_npt_langevin_2000K', 1461),\n",
       " ('i111_npt_langevin_2000K', 1477),\n",
       " ('screw_111_npt_langevin_2000K', 1992),\n",
       " ('bcc_npt_langevin_3700K', 1329),\n",
       " ('liq_3700K', 1153),\n",
       " ('liq_5000K', 1406),\n",
       " ('relax', 6),\n",
       " ('eos_bcc', 8),\n",
       " ('eos_fcc', 5),\n",
       " ('bain', 12),\n",
       " ('vacint', 10),\n",
       " ('eos', 9)]"
      ]
     },
     "execution_count": 39,
     "metadata": {},
     "output_type": "execute_result"
    }
   ],
   "source": [
    "[(k, len(v['energy'])) for k, v in trjs.items()]"
   ]
  },
  {
   "cell_type": "code",
   "execution_count": 40,
   "metadata": {
    "collapsed": true
   },
   "outputs": [],
   "source": [
    "slices = {'bcc_npt_langevin_300K':slice(500, None,5),\n",
    "        'fcc_npt_langevin_300K':slice(50, None, 5),\n",
    "        'vac_npt_langevin_2000K':slice(300, None, 5),\n",
    "        'i110_npt_langevin_2000K':slice(1000, None, 5),\n",
    "        'i111_npt_langevin_2000K':slice(1000, None, 5),\n",
    "        'screw_111_npt_langevin_2000K':slice(1400, None, 5),\n",
    "        'bcc_npt_langevin_3700K':slice(600, None, 5),\n",
    "        'liq_3700K':slice(800, None, 5),\n",
    "        'liq_5000K':slice(800, None, 5),\n",
    "        'relax':slice(0, None, None),\n",
    "        'eos_bcc':slice(0, None, None),\n",
    "        'eos_fcc':slice(0, None, None),\n",
    "        'eos':slice(0, None, None),\n",
    "        'bain':slice(0, None, None),\n",
    "        'vacint':slice(0, None, None)\n",
    "       }"
   ]
  },
  {
   "cell_type": "code",
   "execution_count": 41,
   "metadata": {
    "collapsed": true
   },
   "outputs": [],
   "source": [
    "trj_samples = {}\n",
    "for key, traj in trjs.items():\n",
    "    trj_samples[key] = traj[slices[key]]"
   ]
  },
  {
   "cell_type": "code",
   "execution_count": 42,
   "metadata": {},
   "outputs": [
    {
     "data": {
      "text/plain": [
       "[('bcc_npt_langevin_300K', 200),\n",
       " ('fcc_npt_langevin_300K', 101),\n",
       " ('vac_npt_langevin_2000K', 236),\n",
       " ('i110_npt_langevin_2000K', 93),\n",
       " ('i111_npt_langevin_2000K', 96),\n",
       " ('screw_111_npt_langevin_2000K', 119),\n",
       " ('bcc_npt_langevin_3700K', 146),\n",
       " ('liq_3700K', 71),\n",
       " ('liq_5000K', 122),\n",
       " ('relax', 6),\n",
       " ('eos_bcc', 8),\n",
       " ('eos_fcc', 5),\n",
       " ('bain', 12),\n",
       " ('vacint', 10),\n",
       " ('eos', 9)]"
      ]
     },
     "execution_count": 42,
     "metadata": {},
     "output_type": "execute_result"
    }
   ],
   "source": [
    "[(k, len(v['energy'])) for k, v in trj_samples.items()]"
   ]
  },
  {
   "cell_type": "code",
   "execution_count": 43,
   "metadata": {
    "collapsed": true
   },
   "outputs": [],
   "source": [
    "#traj_inf['ensemble'], traj_md['ensemble'], trj_samples['bcc_npt_langevin_300K']['ensemble']"
   ]
  },
  {
   "cell_type": "code",
   "execution_count": 44,
   "metadata": {},
   "outputs": [
    {
     "name": "stdout",
     "output_type": "stream",
     "text": [
      "bcc_npt_langevin_300K\n",
      "fcc_npt_langevin_300K\n",
      "301\n",
      "vac_npt_langevin_2000K\n",
      "537\n",
      "i110_npt_langevin_2000K\n",
      "630\n",
      "i111_npt_langevin_2000K\n",
      "726\n",
      "screw_111_npt_langevin_2000K\n",
      "845\n",
      "bcc_npt_langevin_3700K\n",
      "991\n",
      "liq_3700K\n",
      "1062\n",
      "liq_5000K\n",
      "1184\n",
      "relax\n",
      "eos_bcc\n",
      "eos_fcc\n",
      "bain\n",
      "vacint\n",
      "eos\n"
     ]
    }
   ],
   "source": [
    "# join all MD configurations into a pseudo-trajectory (to properly weigh phase stability)\n",
    "traj_md = copy.deepcopy(trj_samples['bcc_npt_langevin_300K'])\n",
    "\n",
    "for k, trj in trj_samples.items():\n",
    "    print(k)\n",
    "    if 'vacint' in k or 'bain' in k or 'eos' in k or 'relax' in k or 'bcc_npt_langevin_300K' in k: \n",
    "        continue\n",
    "        \n",
    "    traj_md.append(trj)\n",
    "\n",
    "    print(len(traj_md['box']))\n",
    "\n",
    "# add inf configurations at the end to define zero of potential energy\n",
    "traj_inf_md = copy.deepcopy(traj_inf)\n",
    "traj_inf_md['ensemble'] = 'md'\n",
    "for i in range(0):#range(200):\n",
    "    traj_md.append(traj_inf_md)"
   ]
  },
  {
   "cell_type": "code",
   "execution_count": 45,
   "metadata": {
    "collapsed": true
   },
   "outputs": [],
   "source": [
    "#trj_samples['eos_bcc'].append(trj_samples['eos'])"
   ]
  },
  {
   "cell_type": "code",
   "execution_count": 46,
   "metadata": {},
   "outputs": [
    {
     "data": {
      "text/plain": [
       "[-1139.1999597899999,\n",
       " -1022.8512597899999,\n",
       " -1114.8629597899999,\n",
       " -1123.98065979,\n",
       " -1084.68265979,\n",
       " -1031.68535979,\n",
       " -971.3638597899999,\n",
       " -907.73125979]"
      ]
     },
     "execution_count": 46,
     "metadata": {},
     "output_type": "execute_result"
    }
   ],
   "source": [
    "trj_samples['eos_bcc']['energy']"
   ]
  },
  {
   "cell_type": "code",
   "execution_count": 47,
   "metadata": {
    "collapsed": true
   },
   "outputs": [],
   "source": [
    "trj_fit = {}\n",
    "trj_fit.update(trj_samples)\n",
    "#trj_fit.update({'md':traj_md}),"
   ]
  },
  {
   "cell_type": "code",
   "execution_count": 48,
   "metadata": {
    "collapsed": true
   },
   "outputs": [],
   "source": [
    "#trj_fit = {'md':traj_md,\n",
    "#           'relax':trj_samples['relax'],\n",
    "#           'eos_bcc':trj_samples['eos_bcc'],\n",
    "#           'eos_fcc':trj_samples['eos_fcc'],\n",
    "#           'bain':trj_samples['bain']}"
   ]
  },
  {
   "cell_type": "code",
   "execution_count": 49,
   "metadata": {},
   "outputs": [
    {
     "data": {
      "text/plain": [
       "(dict_keys(['bcc_npt_langevin_300K', 'fcc_npt_langevin_300K', 'vac_npt_langevin_2000K', 'i110_npt_langevin_2000K', 'i111_npt_langevin_2000K', 'screw_111_npt_langevin_2000K', 'bcc_npt_langevin_3700K', 'liq_3700K', 'liq_5000K', 'relax', 'eos_bcc', 'eos_fcc', 'bain', 'vacint', 'eos']),\n",
       " dict)"
      ]
     },
     "execution_count": 49,
     "metadata": {},
     "output_type": "execute_result"
    }
   ],
   "source": [
    "trj_fit.keys(), type(trj_fit)"
   ]
  },
  {
   "cell_type": "code",
   "execution_count": 50,
   "metadata": {
    "collapsed": true
   },
   "outputs": [],
   "source": [
    "trj_fit['relax']['temp'] = [100.0 for _ in range(len(trj_fit['relax']['energy']))]\n",
    "trj_fit['bain']['temp'] = [100.0 for _ in range(len(trj_fit['bain']['energy']))]\n",
    "trj_fit['eos_bcc']['temp'] = [100.0 for _ in range(len(trj_fit['eos_bcc']['energy']))]\n",
    "trj_fit['eos_fcc']['temp'] = [100.0 for _ in range(len(trj_fit['eos_fcc']['energy']))]\n",
    "trj_fit['vacint']['temp'] = [100.0 for _ in range(len(trj_fit['vacint']['energy']))]\n",
    "trj_fit['eos']['temp'] = [100.0 for _ in range(len(trj_fit['eos']['energy']))]"
   ]
  },
  {
   "cell_type": "code",
   "execution_count": 56,
   "metadata": {
    "collapsed": true
   },
   "outputs": [],
   "source": [
    "with open(os.path.join(working, \"trj_fit_vacint.pickle\"), 'wb') as fo:\n",
    "    pickle.dump(trj_fit, fo, protocol=2)"
   ]
  },
  {
   "cell_type": "code",
   "execution_count": 51,
   "metadata": {},
   "outputs": [
    {
     "data": {
      "text/plain": [
       "dict_keys(['bcc_npt_langevin_300K', 'fcc_npt_langevin_300K', 'vac_npt_langevin_2000K', 'i110_npt_langevin_2000K', 'i111_npt_langevin_2000K', 'screw_111_npt_langevin_2000K', 'bcc_npt_langevin_3700K', 'liq_3700K', 'liq_5000K', 'relax', 'eos_bcc', 'eos_fcc', 'bain', 'vacint', 'eos'])"
      ]
     },
     "execution_count": 51,
     "metadata": {},
     "output_type": "execute_result"
    }
   ],
   "source": [
    "trj_fit.keys()"
   ]
  },
  {
   "cell_type": "code",
   "execution_count": 69,
   "metadata": {},
   "outputs": [
    {
     "name": "stdout",
     "output_type": "stream",
     "text": [
      "bcc_npt_langevin_300K 2.6261860585883254 0 0\n",
      "bcc_npt_langevin_300K 2.6211444195596703 0 0\n",
      "bcc_npt_langevin_300K 2.6108215986560017 0 0\n",
      "bcc_npt_langevin_300K 2.606873425049027 0 0\n",
      "bcc_npt_langevin_300K 2.6056958844661806 0 0\n",
      "bcc_npt_langevin_300K 2.6048939113728062 0 0\n",
      "bcc_npt_langevin_300K 2.604000945828387 0 0\n",
      "bcc_npt_langevin_300K 2.6015531776181318 0 0\n",
      "bcc_npt_langevin_300K 2.5961896777844373 0 0\n",
      "bcc_npt_langevin_300K 2.5946742390272477 0 0\n",
      "bcc_npt_langevin_300K 2.5917560807278903 0 0\n",
      "bcc_npt_langevin_300K 2.5816712510409268 0 0\n",
      "bcc_npt_langevin_300K 2.5774491422921977 0 0\n",
      "bcc_npt_langevin_300K 2.5678957869327883 0 0\n",
      "bcc_npt_langevin_300K 2.5573202200323832 0 0\n",
      "bcc_npt_langevin_300K 2.5541489907536095 0 0\n",
      "fcc_npt_langevin_300K 2.5095987157519692 0 0\n",
      "fcc_npt_langevin_300K 2.5026728497446644 0 0\n",
      "fcc_npt_langevin_300K 2.499611892916509 0 0\n",
      "fcc_npt_langevin_300K 2.4992555429630654 0 0\n",
      "fcc_npt_langevin_300K 2.493306874851322 0 0\n",
      "fcc_npt_langevin_300K 2.4702668504882865 0 0\n",
      "fcc_npt_langevin_300K 2.452777403866608 0 0\n",
      "fcc_npt_langevin_300K 2.4433127658035683 0 0\n",
      "fcc_npt_langevin_300K 2.4387357699951937 0 0\n",
      "vac_npt_langevin_2000K 2.404429271977826 0 0\n",
      "vac_npt_langevin_2000K 2.3933529992828353 0 0\n",
      "vac_npt_langevin_2000K 2.370903300734778 0 0\n",
      "vac_npt_langevin_2000K 2.3567834849439118 0 0\n",
      "vac_npt_langevin_2000K 2.354469944257617 0 0\n",
      "vac_npt_langevin_2000K 2.3249260954703934 0 0\n",
      "vac_npt_langevin_2000K 2.3096690862261964 0 0\n",
      "vac_npt_langevin_2000K 2.3003348559026637 0 0\n",
      "vac_npt_langevin_2000K 2.299512352190046 0 0\n",
      "vac_npt_langevin_2000K 2.2647493017227207 0 0\n",
      "vac_npt_langevin_2000K 2.2416758483537804 1 0\n",
      "i110_npt_langevin_2000K 2.162281389933819 3 1\n",
      "i110_npt_langevin_2000K 2.130733490348333 4 2\n",
      "i110_npt_langevin_2000K 2.120498629218898 5 3\n",
      "liq_5000K 2.1018179096005922 172 60\n",
      "liq_5000K 2.064314581281444 173 61\n",
      "liq_5000K 2.045962432298884 174 62\n",
      "liq_5000K 2.0399241376612745 236 117\n",
      "Minimum distance: (2.0399241376612745, 278, 149)\n"
     ]
    }
   ],
   "source": [
    "def find_min_distance(trajectories):\n",
    "    k_min = ''\n",
    "    r_min = 100.0\n",
    "    r220 = 0\n",
    "    r225 = 0\n",
    "    for key, trj in trajectories.items():\n",
    "        if 'eos' in key or 'bain' in key:\n",
    "            continue\n",
    "        for xyz, box in zip(trj['xyz'], trj['box']):\n",
    "            rr = pair_dist(xyz, box)[0]\n",
    "            rr = np.where(rr > 0.0001, rr, 100.0)\n",
    "            r = np.min(rr)\n",
    "            if r < 2.25:\n",
    "                r225 += 1\n",
    "                if r < 2.2:\n",
    "                    r220 +=1\n",
    "            if r < r_min:\n",
    "                r_min = r\n",
    "                k_min = key\n",
    "                print(k_min, r_min, r225, r220)\n",
    "\n",
    "                \n",
    "    return r_min, r225, r220\n",
    "\n",
    "print('Minimum distance:', find_min_distance(trj_fit))"
   ]
  },
  {
   "cell_type": "code",
   "execution_count": 67,
   "metadata": {},
   "outputs": [
    {
     "data": {
      "text/plain": [
       "array([2.25, 2.5 , 2.75, 3.  , 3.25, 3.5 , 3.75, 4.  , 4.25, 4.5 , 4.75,\n",
       "       5.  , 5.25, 5.5 ])"
      ]
     },
     "execution_count": 67,
     "metadata": {},
     "output_type": "execute_result"
    }
   ],
   "source": [
    "np.linspace(2.25, 5.50, 14)"
   ]
  },
  {
   "cell_type": "code",
   "execution_count": 75,
   "metadata": {},
   "outputs": [
    {
     "data": {
      "text/plain": [
       "array([2.18, 2.22, 2.26, 2.3 , 2.34, 2.38, 2.42, 2.46, 2.5 , 2.54, 2.58,\n",
       "       2.62, 2.66, 2.7 , 2.74, 2.78, 2.82, 2.86, 2.9 , 2.94, 2.98, 3.02,\n",
       "       3.06, 3.1 , 3.14, 3.18, 3.22, 3.26, 3.3 , 3.34, 3.38, 3.42, 3.46,\n",
       "       3.5 , 3.54, 3.58, 3.62, 3.66, 3.7 , 3.74, 3.78, 3.82, 3.86, 3.9 ,\n",
       "       3.94, 3.98, 4.02, 4.06, 4.1 , 4.14, 4.18, 4.22, 4.26, 4.3 , 4.34,\n",
       "       4.38, 4.42, 4.46, 4.5 , 4.54, 4.58, 4.62, 4.66, 4.7 , 4.74, 4.78,\n",
       "       4.82, 4.86, 4.9 , 4.94, 4.98, 5.02, 5.06, 5.1 , 5.14, 5.18, 5.22,\n",
       "       5.26, 5.3 , 5.34, 5.38, 5.42, 5.46, 5.5 , 5.54, 5.58, 5.62, 5.66,\n",
       "       5.7 , 5.74, 5.78, 5.82])"
      ]
     },
     "execution_count": 75,
     "metadata": {},
     "output_type": "execute_result"
    }
   ],
   "source": [
    "np.linspace(2.18, 5.82, 92)"
   ]
  },
  {
   "cell_type": "code",
   "execution_count": 72,
   "metadata": {},
   "outputs": [
    {
     "data": {
      "text/plain": [
       "array([2.5648975, 2.629795 , 2.6946925, 2.8663175, 2.973045 , 3.0797725,\n",
       "       3.5164725, 3.846445 , 4.1764175, 4.700845 , 4.8953   , 5.089755 ,\n",
       "       5.3429525, 5.401695 , 5.4604375])"
      ]
     },
     "execution_count": 72,
     "metadata": {},
     "output_type": "execute_result"
    }
   ],
   "source": [
    "np.array([ 2.5648975,  2.629795 ,  2.6946925,  2.8663175,  2.973045 ,\n",
    "        3.0797725,  3.5164725,  3.846445 ,  4.1764175,  4.700845 ,\n",
    "        4.8953   ,  5.089755 ,  5.3429525,  5.401695 ,  5.4604375])"
   ]
  },
  {
   "cell_type": "code",
   "execution_count": null,
   "metadata": {
    "collapsed": true
   },
   "outputs": [],
   "source": [
    "[2.26, 2.5 , 2.70, 2.74, 2.78, 2.82, 3.02, 3.30, 3.62 , 3.9, 4.22, 4.54, 4.86, 5.18, 5.5 ]\n",
    "\n",
    "[2.26, 2.5 , 2.66, 2.74, 2.86, 3.06, 3.30, 3.62 , 3.9, 4.22, 4.54, 4.86, 5.18, 5.5]"
   ]
  }
 ],
 "metadata": {
  "kernelspec": {
   "display_name": "Python 3",
   "language": "python",
   "name": "python3"
  },
  "language_info": {
   "codemirror_mode": {
    "name": "ipython",
    "version": 3
   },
   "file_extension": ".py",
   "mimetype": "text/x-python",
   "name": "python",
   "nbconvert_exporter": "python",
   "pygments_lexer": "ipython3",
   "version": "3.6.1"
  }
 },
 "nbformat": 4,
 "nbformat_minor": 2
}
