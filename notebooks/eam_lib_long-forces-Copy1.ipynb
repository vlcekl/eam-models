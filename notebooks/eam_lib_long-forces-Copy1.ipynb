{
 "cells": [
  {
   "cell_type": "code",
   "execution_count": 368,
   "metadata": {
    "collapsed": true
   },
   "outputs": [],
   "source": [
    "import os\n",
    "import sys\n",
    "import re\n",
    "import numpy as np\n",
    "%matplotlib inline\n",
    "import matplotlib.pyplot as plt\n",
    "import copy\n",
    "import pickle"
   ]
  },
  {
   "cell_type": "code",
   "execution_count": 369,
   "metadata": {},
   "outputs": [
    {
     "name": "stdout",
     "output_type": "stream",
     "text": [
      "The autoreload extension is already loaded. To reload it, use:\n",
      "  %reload_ext autoreload\n"
     ]
    }
   ],
   "source": [
    "%load_ext autoreload\n",
    "%autoreload 2"
   ]
  },
  {
   "cell_type": "code",
   "execution_count": 370,
   "metadata": {
    "collapsed": true
   },
   "outputs": [],
   "source": [
    "sys.path.append('../../statmechlib')\n",
    "from statmechlib.read_write import read_vasp\n",
    "from statmechlib.preprocessing import Trajectory"
   ]
  },
  {
   "cell_type": "code",
   "execution_count": 371,
   "metadata": {
    "collapsed": true
   },
   "outputs": [],
   "source": [
    "target_raw = '../data/target_raw'\n",
    "target_proc = '../data/target_processed'\n",
    "working = '../data/working'\n",
    "\n",
    "datasets = ['bcc_npt_langevin_300K',\n",
    "            'fcc_npt_langevin_300K',\n",
    "            'vac_npt_langevin_2000K',\n",
    "            'i110_npt_langevin_2000K',\n",
    "            'i111_npt_langevin_2000K',\n",
    "            'screw_111_npt_langevin_2000K',\n",
    "            'bcc_npt_langevin_3700K',\n",
    "            'liq_3700K',\n",
    "            'liq_5000K']\n",
    "\n",
    "datasets_0k = ['bcc_0k',\n",
    "               'fcc_0k',\n",
    "               'vac_0k',\n",
    "               'i110_0k',\n",
    "               'i111_0k',\n",
    "               'screw_111_0k']"
   ]
  },
  {
   "cell_type": "code",
   "execution_count": 372,
   "metadata": {
    "collapsed": true
   },
   "outputs": [],
   "source": [
    "#with open(os.path.join(target_proc,  \"datasets.pickle\"), 'wb') as fo:\n",
    "#    pickle.dump(datasets, fo)\n",
    "#\n",
    "#print(datasets)"
   ]
  },
  {
   "cell_type": "code",
   "execution_count": 373,
   "metadata": {
    "collapsed": true
   },
   "outputs": [],
   "source": [
    "trajdirs = [target_raw + '/' + dataset for dataset in datasets]\n",
    "trajdirs_0k = [target_raw + '/' + dataset for dataset in datasets_0k]"
   ]
  },
  {
   "cell_type": "code",
   "execution_count": 374,
   "metadata": {},
   "outputs": [
    {
     "name": "stdout",
     "output_type": "stream",
     "text": [
      "Reading ../data/target_raw/bcc_npt_langevin_300K/OUTCAR\n",
      "Reading ../data/target_raw/bcc_npt_langevin_300K/POSCAR\n",
      "Reading ../data/target_raw/bcc_npt_langevin_300K/CONTCAR\n",
      "Reading ../data/target_raw/bcc_npt_langevin_300K/XDATCAR\n",
      "Reading ../data/target_raw/bcc_npt_langevin_300K/OSZICAR\n",
      "Reading ../data/target_raw/bcc_npt_langevin_300K/INCAR\n",
      "Reading ../data/target_raw/fcc_npt_langevin_300K/OUTCAR\n",
      "Reading ../data/target_raw/fcc_npt_langevin_300K/POSCAR\n",
      "Reading ../data/target_raw/fcc_npt_langevin_300K/CONTCAR\n",
      "Reading ../data/target_raw/fcc_npt_langevin_300K/XDATCAR\n",
      "Reading ../data/target_raw/fcc_npt_langevin_300K/OSZICAR\n",
      "Reading ../data/target_raw/fcc_npt_langevin_300K/INCAR\n",
      "Reading ../data/target_raw/vac_npt_langevin_2000K/OUTCAR\n",
      "Reading ../data/target_raw/vac_npt_langevin_2000K/POSCAR\n",
      "Reading ../data/target_raw/vac_npt_langevin_2000K/CONTCAR\n",
      "Reading ../data/target_raw/vac_npt_langevin_2000K/XDATCAR\n",
      "Reading ../data/target_raw/vac_npt_langevin_2000K/OSZICAR\n",
      "Reading ../data/target_raw/vac_npt_langevin_2000K/INCAR\n",
      "Reading ../data/target_raw/i110_npt_langevin_2000K/OUTCAR\n",
      "Reading ../data/target_raw/i110_npt_langevin_2000K/POSCAR\n",
      "Reading ../data/target_raw/i110_npt_langevin_2000K/CONTCAR\n",
      "Reading ../data/target_raw/i110_npt_langevin_2000K/XDATCAR\n",
      "Reading ../data/target_raw/i110_npt_langevin_2000K/OSZICAR\n",
      "Reading ../data/target_raw/i110_npt_langevin_2000K/INCAR\n",
      "Reading ../data/target_raw/i111_npt_langevin_2000K/OUTCAR\n",
      "Reading ../data/target_raw/i111_npt_langevin_2000K/POSCAR\n",
      "Reading ../data/target_raw/i111_npt_langevin_2000K/CONTCAR\n",
      "Reading ../data/target_raw/i111_npt_langevin_2000K/XDATCAR\n",
      "Reading ../data/target_raw/i111_npt_langevin_2000K/OSZICAR\n",
      "Reading ../data/target_raw/i111_npt_langevin_2000K/INCAR\n",
      "Reading ../data/target_raw/screw_111_npt_langevin_2000K/OUTCAR\n",
      "Reading ../data/target_raw/screw_111_npt_langevin_2000K/POSCAR\n",
      "Reading ../data/target_raw/screw_111_npt_langevin_2000K/CONTCAR\n",
      "Reading ../data/target_raw/screw_111_npt_langevin_2000K/XDATCAR\n",
      "Reading ../data/target_raw/screw_111_npt_langevin_2000K/OSZICAR\n",
      "Reading ../data/target_raw/screw_111_npt_langevin_2000K/INCAR\n",
      "Reading ../data/target_raw/bcc_npt_langevin_3700K/OUTCAR\n",
      "Reading ../data/target_raw/bcc_npt_langevin_3700K/POSCAR\n",
      "Reading ../data/target_raw/bcc_npt_langevin_3700K/CONTCAR\n",
      "Reading ../data/target_raw/bcc_npt_langevin_3700K/XDATCAR\n",
      "Reading ../data/target_raw/bcc_npt_langevin_3700K/OSZICAR\n",
      "Reading ../data/target_raw/bcc_npt_langevin_3700K/INCAR\n",
      "Reading ../data/target_raw/liq_3700K/OUTCAR\n",
      "Reading ../data/target_raw/liq_3700K/POSCAR\n",
      "Reading ../data/target_raw/liq_3700K/CONTCAR\n",
      "Reading ../data/target_raw/liq_3700K/XDATCAR\n",
      "Reading ../data/target_raw/liq_3700K/OSZICAR\n",
      "Reading ../data/target_raw/liq_3700K/INCAR\n",
      "Reading ../data/target_raw/liq_5000K/OUTCAR\n",
      "Reading ../data/target_raw/liq_5000K/POSCAR\n",
      "Reading ../data/target_raw/liq_5000K/CONTCAR\n",
      "Reading ../data/target_raw/liq_5000K/XDATCAR\n",
      "Reading ../data/target_raw/liq_5000K/OSZICAR\n",
      "Reading ../data/target_raw/liq_5000K/INCAR\n"
     ]
    }
   ],
   "source": [
    "trajectories = {}\n",
    "for name, traj_path in zip(datasets, trajdirs):\n",
    "    trajectories[name] = read_vasp(traj_path)"
   ]
  },
  {
   "cell_type": "code",
   "execution_count": 375,
   "metadata": {},
   "outputs": [
    {
     "name": "stdout",
     "output_type": "stream",
     "text": [
      "Reading ../data/target_raw/bcc_0k/OUTCAR\n",
      "Reading ../data/target_raw/bcc_0k/POSCAR\n",
      "Reading ../data/target_raw/bcc_0k/CONTCAR\n",
      "Reading ../data/target_raw/bcc_0k/XDATCAR\n",
      "Reading ../data/target_raw/bcc_0k/OSZICAR\n",
      "Reading ../data/target_raw/bcc_0k/INCAR\n",
      "Reading ../data/target_raw/fcc_0k/OUTCAR\n",
      "Reading ../data/target_raw/fcc_0k/POSCAR\n",
      "Reading ../data/target_raw/fcc_0k/CONTCAR\n",
      "Reading ../data/target_raw/fcc_0k/OSZICAR\n",
      "Reading ../data/target_raw/fcc_0k/INCAR\n",
      "Reading ../data/target_raw/vac_0k/OUTCAR\n",
      "Reading ../data/target_raw/vac_0k/POSCAR\n",
      "Reading ../data/target_raw/vac_0k/CONTCAR\n",
      "Reading ../data/target_raw/vac_0k/XDATCAR\n",
      "Reading ../data/target_raw/vac_0k/OSZICAR\n",
      "Reading ../data/target_raw/vac_0k/INCAR\n",
      "Reading ../data/target_raw/i110_0k/OUTCAR\n",
      "Reading ../data/target_raw/i110_0k/POSCAR\n",
      "Reading ../data/target_raw/i110_0k/CONTCAR\n",
      "Reading ../data/target_raw/i110_0k/XDATCAR\n",
      "Reading ../data/target_raw/i110_0k/OSZICAR\n",
      "Reading ../data/target_raw/i110_0k/INCAR\n",
      "Reading ../data/target_raw/i111_0k/OUTCAR\n",
      "Reading ../data/target_raw/i111_0k/POSCAR\n",
      "Reading ../data/target_raw/i111_0k/CONTCAR\n",
      "Reading ../data/target_raw/i111_0k/XDATCAR\n",
      "Reading ../data/target_raw/i111_0k/OSZICAR\n",
      "Reading ../data/target_raw/i111_0k/INCAR\n",
      "Reading ../data/target_raw/screw_111_0k/OUTCAR\n",
      "Reading ../data/target_raw/screw_111_0k/POSCAR\n",
      "Reading ../data/target_raw/screw_111_0k/CONTCAR\n",
      "Reading ../data/target_raw/screw_111_0k/XDATCAR\n",
      "Reading ../data/target_raw/screw_111_0k/OSZICAR\n",
      "Reading ../data/target_raw/screw_111_0k/INCAR\n"
     ]
    }
   ],
   "source": [
    "trajectories_0k = {}\n",
    "for name, traj_path in zip(datasets_0k, trajdirs_0k):\n",
    "    trajectories_0k[name] = read_vasp(traj_path)"
   ]
  },
  {
   "cell_type": "code",
   "execution_count": 376,
   "metadata": {
    "collapsed": true
   },
   "outputs": [],
   "source": [
    "# Convert MD trajectory dicts to objects\n",
    "trjs = {}\n",
    "for k, trj in trajectories.items():\n",
    "    trjs[k] = Trajectory(trj, inplace=False)"
   ]
  },
  {
   "cell_type": "code",
   "execution_count": 377,
   "metadata": {
    "collapsed": true
   },
   "outputs": [],
   "source": [
    "# Convert MD trajectory 0K configs to objects\n",
    "trjs_0k = {}\n",
    "for k, trj in trajectories_0k.items():\n",
    "    trjs_0k[k] = Trajectory(trj, inplace=False)[-1]"
   ]
  },
  {
   "cell_type": "code",
   "execution_count": 378,
   "metadata": {},
   "outputs": [
    {
     "name": "stdout",
     "output_type": "stream",
     "text": [
      "bcc_0k\n",
      "1\n",
      "fcc_0k\n",
      "2\n",
      "vac_0k\n",
      "3\n",
      "i110_0k\n",
      "4\n",
      "i111_0k\n",
      "5\n",
      "screw_111_0k\n",
      "6\n"
     ]
    }
   ],
   "source": [
    "# join 0 K configurations into a pseudo-trajectory\n",
    "traj0k = copy.deepcopy(trjs_0k['bcc_0k'])\n",
    "\n",
    "for k, trj in trjs_0k.items():\n",
    "    print(k)\n",
    "    if 'bcc' not in k:\n",
    "        traj0k.append(trj)\n",
    "    print(len(traj0k['box']))"
   ]
  },
  {
   "cell_type": "code",
   "execution_count": 379,
   "metadata": {},
   "outputs": [
    {
     "data": {
      "text/plain": [
       "[-1656.3257, -1343.3027, -1640.2161, -1657.5219, -1657.8717, -1735.6202]"
      ]
     },
     "execution_count": 379,
     "metadata": {},
     "output_type": "execute_result"
    }
   ],
   "source": [
    "traj0k['energy']"
   ]
  },
  {
   "cell_type": "code",
   "execution_count": 380,
   "metadata": {
    "collapsed": true
   },
   "outputs": [],
   "source": [
    "# Create an artificial configuration with large box and 0 energy\n",
    "traj_inf = copy.deepcopy(trjs_0k['bcc_0k'])"
   ]
  },
  {
   "cell_type": "code",
   "execution_count": 838,
   "metadata": {
    "collapsed": true
   },
   "outputs": [],
   "source": [
    "# W parameters\n",
    "l = 0.274\n",
    "r_wse = 3.168\n",
    "r_wse = 1.584\n",
    "eta = 5.69\n",
    "dE = 8.9\n",
    "\n",
    "# equation of state. x is lattice expansion/compression parameter\n",
    "def eos(x):\n",
    "    a = (x - 1.0)*r_wse/l\n",
    "    ene = np.exp(-a)\n",
    "    ene *= -1.0 - a - 0.05*a**3\n",
    "    return dE*ene"
   ]
  },
  {
   "cell_type": "code",
   "execution_count": 843,
   "metadata": {},
   "outputs": [
    {
     "data": {
      "text/plain": [
       "-837.1711089986524"
      ]
     },
     "execution_count": 843,
     "metadata": {},
     "output_type": "execute_result"
    }
   ],
   "source": [
    "eos(0.9)*128"
   ]
  },
  {
   "cell_type": "code",
   "execution_count": 844,
   "metadata": {
    "collapsed": true
   },
   "outputs": [],
   "source": [
    "def scale_configuration(trj, scale):\n",
    "    \"\"\"\n",
    "    Scales box size by 10 to separate all atoms beyond cutoff, and sets energies and forces to 0.\n",
    "    \n",
    "    Parameters\n",
    "    ----------\n",
    "    trj: Trajectory object (or dict)\n",
    "         Trajectory to be rescaled\n",
    "    \n",
    "    Returns\n",
    "    -------\n",
    "    trj: Trajectory object (or dict)\n",
    "         Rescaled trajectory\n",
    "    \"\"\"\n",
    "    trj['box'][0] = trj['box'][0]*scale\n",
    "    trj['box0'] = trj['box0']*scale\n",
    "    trj['energy'][0] = eos(scale)*len(trj['xyz'][0])\n",
    "    trj['free_energy'][0] = eos(scale)*len(trj['xyz'][0])\n",
    "    trj['total_energy'][0] = eos(scale)*len(trj['xyz'][0])\n",
    "    trj['forces'][0] = np.zeros_like(trj['forces'][0])\n",
    "    return trj"
   ]
  },
  {
   "cell_type": "code",
   "execution_count": 1000,
   "metadata": {},
   "outputs": [
    {
     "name": "stdout",
     "output_type": "stream",
     "text": [
      "13.999999999999998\n"
     ]
    }
   ],
   "source": [
    "n = (1.5-0.8)/0.05\n",
    "print(n)\n",
    "reos = np.linspace(0.8, 1.5, 15)*2.74"
   ]
  },
  {
   "cell_type": "code",
   "execution_count": 985,
   "metadata": {
    "collapsed": true
   },
   "outputs": [],
   "source": [
    "traj_eos = scale_configuration(copy.deepcopy(trjs_0k['bcc_0k']), 100.0)"
   ]
  },
  {
   "cell_type": "code",
   "execution_count": 986,
   "metadata": {
    "collapsed": true
   },
   "outputs": [],
   "source": [
    "for scale in np.linspace(0.8, 1.5, 15):\n",
    "    traj_scale = copy.deepcopy(trjs_0k['bcc_0k'])\n",
    "    traj_eos.append(scale_configuration(traj_scale, scale))"
   ]
  },
  {
   "cell_type": "code",
   "execution_count": 987,
   "metadata": {},
   "outputs": [
    {
     "data": {
      "text/plain": [
       "[array([[1274.4894,    0.    ,    0.    ],\n",
       "        [   0.    , 1274.4894,    0.    ],\n",
       "        [   0.    ,    0.    , 1274.4894]]),\n",
       " array([[10.1959152,  0.       ,  0.       ],\n",
       "        [ 0.       , 10.1959152,  0.       ],\n",
       "        [ 0.       ,  0.       , 10.1959152]]),\n",
       " array([[10.8331599,  0.       ,  0.       ],\n",
       "        [ 0.       , 10.8331599,  0.       ],\n",
       "        [ 0.       ,  0.       , 10.8331599]]),\n",
       " array([[11.4704046,  0.       ,  0.       ],\n",
       "        [ 0.       , 11.4704046,  0.       ],\n",
       "        [ 0.       ,  0.       , 11.4704046]]),\n",
       " array([[12.1076493,  0.       ,  0.       ],\n",
       "        [ 0.       , 12.1076493,  0.       ],\n",
       "        [ 0.       ,  0.       , 12.1076493]]),\n",
       " array([[12.744894,  0.      ,  0.      ],\n",
       "        [ 0.      , 12.744894,  0.      ],\n",
       "        [ 0.      ,  0.      , 12.744894]]),\n",
       " array([[13.3821387,  0.       ,  0.       ],\n",
       "        [ 0.       , 13.3821387,  0.       ],\n",
       "        [ 0.       ,  0.       , 13.3821387]]),\n",
       " array([[14.0193834,  0.       ,  0.       ],\n",
       "        [ 0.       , 14.0193834,  0.       ],\n",
       "        [ 0.       ,  0.       , 14.0193834]]),\n",
       " array([[14.6566281,  0.       ,  0.       ],\n",
       "        [ 0.       , 14.6566281,  0.       ],\n",
       "        [ 0.       ,  0.       , 14.6566281]]),\n",
       " array([[15.2938728,  0.       ,  0.       ],\n",
       "        [ 0.       , 15.2938728,  0.       ],\n",
       "        [ 0.       ,  0.       , 15.2938728]]),\n",
       " array([[15.9311175,  0.       ,  0.       ],\n",
       "        [ 0.       , 15.9311175,  0.       ],\n",
       "        [ 0.       ,  0.       , 15.9311175]]),\n",
       " array([[16.5683622,  0.       ,  0.       ],\n",
       "        [ 0.       , 16.5683622,  0.       ],\n",
       "        [ 0.       ,  0.       , 16.5683622]]),\n",
       " array([[17.2056069,  0.       ,  0.       ],\n",
       "        [ 0.       , 17.2056069,  0.       ],\n",
       "        [ 0.       ,  0.       , 17.2056069]]),\n",
       " array([[17.8428516,  0.       ,  0.       ],\n",
       "        [ 0.       , 17.8428516,  0.       ],\n",
       "        [ 0.       ,  0.       , 17.8428516]]),\n",
       " array([[18.4800963,  0.       ,  0.       ],\n",
       "        [ 0.       , 18.4800963,  0.       ],\n",
       "        [ 0.       ,  0.       , 18.4800963]]),\n",
       " array([[19.117341,  0.      ,  0.      ],\n",
       "        [ 0.      , 19.117341,  0.      ],\n",
       "        [ 0.      ,  0.      , 19.117341]])]"
      ]
     },
     "execution_count": 987,
     "metadata": {},
     "output_type": "execute_result"
    }
   ],
   "source": [
    "traj_eos['box']"
   ]
  },
  {
   "cell_type": "code",
   "execution_count": 988,
   "metadata": {
    "collapsed": true
   },
   "outputs": [],
   "source": [
    "traj_eos['temp'] = [100.0 for _ in range(len(traj_eos['temp']))]"
   ]
  },
  {
   "cell_type": "code",
   "execution_count": 989,
   "metadata": {
    "collapsed": true
   },
   "outputs": [],
   "source": [
    "trjs['eos'] = traj_eos"
   ]
  },
  {
   "cell_type": "code",
   "execution_count": 382,
   "metadata": {
    "collapsed": true
   },
   "outputs": [],
   "source": [
    "traj_inf = scale_configuration(traj_inf, 100.0)"
   ]
  },
  {
   "cell_type": "code",
   "execution_count": 383,
   "metadata": {},
   "outputs": [
    {
     "data": {
      "text/plain": [
       "array([[127.44894465,   0.        ,   0.        ],\n",
       "       [  0.        , 127.44894465,   0.        ],\n",
       "       [  0.        ,   0.        , 127.44894465]])"
      ]
     },
     "execution_count": 383,
     "metadata": {},
     "output_type": "execute_result"
    }
   ],
   "source": [
    "traj_inf['box0']"
   ]
  },
  {
   "cell_type": "code",
   "execution_count": 385,
   "metadata": {
    "collapsed": true
   },
   "outputs": [],
   "source": [
    "traj0k['temp'] = [100.0 for _ in range(len(traj0k['temp']))]"
   ]
  },
  {
   "cell_type": "code",
   "execution_count": 386,
   "metadata": {
    "collapsed": true
   },
   "outputs": [],
   "source": [
    "traj0k.append(traj_inf)"
   ]
  },
  {
   "cell_type": "code",
   "execution_count": 387,
   "metadata": {
    "collapsed": true
   },
   "outputs": [],
   "source": [
    "trjs['relax'] = traj0k"
   ]
  },
  {
   "cell_type": "code",
   "execution_count": 388,
   "metadata": {},
   "outputs": [
    {
     "data": {
      "image/png": "[encoded data removed]",
      "text/plain": [
       "<Figure size 432x288 with 1 Axes>"
      ]
     },
     "metadata": {},
     "output_type": "display_data"
    }
   ],
   "source": [
    "for key, trj in trjs.items():\n",
    "    #print(i, list(zip(trj['atom_name'], trj['atom_num'])), len(trj['temp']))\n",
    "    plt.plot(trj['temp'], label=key)\n",
    "\n",
    "plt.legend()\n",
    "plt.show()"
   ]
  },
  {
   "cell_type": "code",
   "execution_count": 389,
   "metadata": {
    "collapsed": true
   },
   "outputs": [],
   "source": [
    "def get_msd(xyzs):\n",
    "    \"\"\"Return mean squared displacement (msd) for a given trajectory (traj).\"\"\"\n",
    "    msd = []\n",
    "    for rs in xyzs:\n",
    "        msd.append(np.mean((rs - xyzs[0])**2))\n",
    "    #msd = [0.0 for _ in range(len(xyzs))]\n",
    "    return np.array(msd)"
   ]
  },
  {
   "cell_type": "code",
   "execution_count": 390,
   "metadata": {},
   "outputs": [
    {
     "data": {
      "image/png": "[encoded data removed]",
      "text/plain": [
       "<Figure size 1080x720 with 4 Axes>"
      ]
     },
     "metadata": {},
     "output_type": "display_data"
    }
   ],
   "source": [
    "fig, axes = plt.subplots(2, 2, sharex='col', figsize=(15,10))\n",
    "\n",
    "for key, traj in trjs.items():\n",
    "    if 'relax' in key:\n",
    "        continue\n",
    "\n",
    "        \n",
    "    #axes[0,0].plot([e/x.shape[0] for e, x in zip(traj['energy'], traj['xyz'])], label=dset)\n",
    "    if 'screw' in key:\n",
    "        axes[0,0].plot([e for e, x in zip(traj['energy'], traj['xyz'])], label=key)\n",
    "        axes[0,1].plot([np.linalg.det(b) for b in traj['box']], label=key)\n",
    "    else:\n",
    "        axes[0,0].plot([e for e, x in zip(traj['energy'], traj['xyz'])], label=key)\n",
    "        axes[0,1].plot([np.linalg.det(b) for b in traj['box']], label=key)\n",
    "\n",
    "\n",
    "    axes[1,0].plot([t for t in traj['temp']], label=key)\n",
    "\n",
    "    msd = get_msd(traj['xyz'])\n",
    "    axes[1,1].plot(msd, label=key)\n",
    "\n",
    "axes[0,0].legend()\n",
    "axes[0,0].set_title('Energies of individual configurations', fontsize=20)\n",
    "axes[0,1].set_title('Volumes of individual configurations', fontsize=20)       \n",
    "axes[1,0].set_title('Temperature', fontsize=20)\n",
    "axes[1,1].set_title('MSD - rough/approximate', fontsize=20)\n",
    "fig.tight_layout()"
   ]
  },
  {
   "cell_type": "code",
   "execution_count": 391,
   "metadata": {},
   "outputs": [
    {
     "data": {
      "text/plain": [
       "[('bcc_npt_langevin_300K', 1496),\n",
       " ('fcc_npt_langevin_300K', 552),\n",
       " ('vac_npt_langevin_2000K', 1480),\n",
       " ('i110_npt_langevin_2000K', 1461),\n",
       " ('i111_npt_langevin_2000K', 1477),\n",
       " ('screw_111_npt_langevin_2000K', 1992),\n",
       " ('bcc_npt_langevin_3700K', 1329),\n",
       " ('liq_3700K', 1153),\n",
       " ('liq_5000K', 1406),\n",
       " ('relax', 7)]"
      ]
     },
     "execution_count": 391,
     "metadata": {},
     "output_type": "execute_result"
    }
   ],
   "source": [
    "[(k, len(v['energy'])) for k, v in trjs.items()]"
   ]
  },
  {
   "cell_type": "code",
   "execution_count": 392,
   "metadata": {
    "collapsed": true
   },
   "outputs": [],
   "source": [
    "cuts = {'bcc_npt_langevin_300K':500,\n",
    "        'fcc_npt_langevin_300K':50,\n",
    "        'vac_npt_langevin_2000K':300,\n",
    "        'i110_npt_langevin_2000K':1000,\n",
    "        'i111_npt_langevin_2000K':1000,\n",
    "        'screw_111_npt_langevin_2000K':1400,\n",
    "        'bcc_npt_langevin_3700K':600,\n",
    "        'liq_3700K':800,\n",
    "        'liq_5000K':800,\n",
    "        'relax':0}"
   ]
  },
  {
   "cell_type": "code",
   "execution_count": 393,
   "metadata": {
    "collapsed": true
   },
   "outputs": [],
   "source": [
    "trj_samples = {}\n",
    "for key, traj in trjs.items():\n",
    "    if 'relax' not in key:\n",
    "        trj_samples[key] = traj[cuts[key]::5]\n",
    "    else:\n",
    "        trj_samples[key] = traj[cuts[key]:]"
   ]
  },
  {
   "cell_type": "code",
   "execution_count": 990,
   "metadata": {
    "collapsed": true
   },
   "outputs": [],
   "source": [
    "trj_samples['eos'] = traj_eos"
   ]
  },
  {
   "cell_type": "code",
   "execution_count": 991,
   "metadata": {},
   "outputs": [
    {
     "data": {
      "text/plain": [
       "[('bcc_npt_langevin_300K', 200),\n",
       " ('fcc_npt_langevin_300K', 101),\n",
       " ('vac_npt_langevin_2000K', 236),\n",
       " ('i110_npt_langevin_2000K', 93),\n",
       " ('i111_npt_langevin_2000K', 96),\n",
       " ('screw_111_npt_langevin_2000K', 119),\n",
       " ('bcc_npt_langevin_3700K', 146),\n",
       " ('liq_3700K', 71),\n",
       " ('liq_5000K', 122),\n",
       " ('relax', 7),\n",
       " ('eos', 16)]"
      ]
     },
     "execution_count": 991,
     "metadata": {},
     "output_type": "execute_result"
    }
   ],
   "source": [
    "[(k, len(v['energy'])) for k, v in trj_samples.items()]"
   ]
  },
  {
   "cell_type": "code",
   "execution_count": 395,
   "metadata": {
    "collapsed": true
   },
   "outputs": [],
   "source": [
    "from statmechlib.preprocessing import pair_dist, force_targ, get_stats_EAM, get_stats_EAM_pairdist"
   ]
  },
  {
   "cell_type": "code",
   "execution_count": 397,
   "metadata": {},
   "outputs": [
    {
     "name": "stdout",
     "output_type": "stream",
     "text": [
      "bcc_npt_langevin_300K\n",
      "fcc_npt_langevin_300K\n",
      "301\n",
      "vac_npt_langevin_2000K\n",
      "537\n",
      "i110_npt_langevin_2000K\n",
      "630\n",
      "i111_npt_langevin_2000K\n",
      "726\n",
      "screw_111_npt_langevin_2000K\n",
      "845\n",
      "bcc_npt_langevin_3700K\n",
      "liq_3700K\n",
      "916\n",
      "liq_5000K\n",
      "1038\n",
      "relax\n"
     ]
    }
   ],
   "source": [
    "# join 0 K configurations into a pseudo-trajectory\n",
    "traj_md = copy.deepcopy(trj_samples['bcc_npt_langevin_300K'])\n",
    "\n",
    "for k, trj in trj_samples.items():\n",
    "    print(k)\n",
    "    if 'relax' in k or 'bcc_npt' in k: \n",
    "        continue\n",
    "        \n",
    "    traj_md.append(trj)\n",
    "\n",
    "    print(len(traj_md['box']))"
   ]
  },
  {
   "cell_type": "code",
   "execution_count": 402,
   "metadata": {
    "collapsed": true
   },
   "outputs": [],
   "source": [
    "trj_fit = {'md':traj_md, 'relax':trj_samples['relax']}"
   ]
  },
  {
   "cell_type": "code",
   "execution_count": 427,
   "metadata": {},
   "outputs": [
    {
     "data": {
      "text/plain": [
       "(113, 3)"
      ]
     },
     "execution_count": 427,
     "metadata": {},
     "output_type": "execute_result"
    }
   ],
   "source": [
    "trj_fit['md']['xyz'][-1].shape"
   ]
  },
  {
   "cell_type": "code",
   "execution_count": 992,
   "metadata": {
    "collapsed": true
   },
   "outputs": [],
   "source": [
    "trj_fit['eos'] = traj_eos"
   ]
  },
  {
   "cell_type": "code",
   "execution_count": 993,
   "metadata": {},
   "outputs": [
    {
     "data": {
      "text/plain": [
       "dict_keys(['md', 'relax', 'eos'])"
      ]
     },
     "execution_count": 993,
     "metadata": {},
     "output_type": "execute_result"
    }
   ],
   "source": [
    "trj_fit.keys()"
   ]
  },
  {
   "cell_type": "code",
   "execution_count": 994,
   "metadata": {
    "collapsed": true
   },
   "outputs": [],
   "source": [
    "with open(os.path.join(working, \"trj_fit.pickle\"), 'wb') as fo:\n",
    "    pickle.dump(trj_fit, fo)"
   ]
  },
  {
   "cell_type": "code",
   "execution_count": 995,
   "metadata": {},
   "outputs": [
    {
     "name": "stdout",
     "output_type": "stream",
     "text": [
      "dataset # md\n",
      "dataset # relax\n",
      "dataset # eos\n"
     ]
    }
   ],
   "source": [
    "weights = {k:1.0 for k in trj_fit}\n",
    "weights['relax'] = 10.0\n",
    "weights['eos'] = 2.0\n",
    "\n",
    "target_data = {}\n",
    "\n",
    "for key, trj in trj_fit.items():\n",
    "    \n",
    "    print('dataset #', key)\n",
    "\n",
    "    # target data\n",
    "    target_dict = {'type':'trajectory', 'weight':weights[key]}\n",
    "    target_dict['box'] = trj['box']\n",
    "    target_dict['xyz'] = trj['xyz']\n",
    "    target_dict['energy'] = trj['energy']\n",
    "    target_dict['forces'] = force_targ(trj['forces'])\n",
    "    target_dict['temp'] = trj['temp']\n",
    "\n",
    "    # save inverse temperature data (if T=0, set beta=1/300)\n",
    "    target_dict['beta'] = np.empty_like(target_dict['temp'])\n",
    "    for i, temp in enumerate(target_dict['temp']):\n",
    "        if temp == 0.0:\n",
    "            target_dict['beta'][i] = 1.0/300.0\n",
    "        else:\n",
    "            target_dict['beta'][i] = 1.0/temp\n",
    "\n",
    "    target_dict['beta'] = list(target_dict['beta'])\n",
    "            \n",
    "    target_data[key] = target_dict"
   ]
  },
  {
   "cell_type": "code",
   "execution_count": 996,
   "metadata": {
    "collapsed": true
   },
   "outputs": [],
   "source": [
    "with open(os.path.join(working, \"target_fit.pickle\"), 'wb') as fo:\n",
    "    pickle.dump(target_data, fo)"
   ]
  },
  {
   "cell_type": "code",
   "execution_count": 997,
   "metadata": {
    "collapsed": true
   },
   "outputs": [],
   "source": [
    "# load target data\n",
    "with open(os.path.join(working, 'target_fit'+'.pickle'), 'rb') as fi:\n",
    "    targ_dict = pickle.load(fi)"
   ]
  },
  {
   "cell_type": "code",
   "execution_count": 998,
   "metadata": {},
   "outputs": [
    {
     "data": {
      "text/plain": [
       "(1038, 16)"
      ]
     },
     "execution_count": 998,
     "metadata": {},
     "output_type": "execute_result"
    }
   ],
   "source": [
    "len(targ_dict['md']['energy']), len(targ_dict['eos']['energy'])"
   ]
  },
  {
   "cell_type": "code",
   "execution_count": 999,
   "metadata": {},
   "outputs": [
    {
     "name": "stdout",
     "output_type": "stream",
     "text": [
      "dataset # md\n",
      "dataset # relax\n",
      "dataset # eos\n",
      "conf 0\n",
      "conf 1\n",
      "Replicating: 2 2 2\n",
      "conf 2\n",
      "Replicating: 2 2 2\n",
      "conf 3\n",
      "Replicating: 2 2 2\n",
      "conf 4\n",
      "conf 5\n",
      "conf 6\n",
      "conf 7\n",
      "conf 8\n",
      "conf 9\n",
      "conf 10\n",
      "conf 11\n",
      "conf 12\n",
      "conf 13\n",
      "conf 14\n",
      "conf 15\n"
     ]
    }
   ],
   "source": [
    "#sc = [2.74, 3.252, 3.804, 4.356, 4.908, 5.46]\n",
    "#sc = [2.74, 3.25, 3.75, 4.5, 5.48]\n",
    "sc = [2.5, 2.65, 2.75, 3.0, 3.25, 3.5, 3.75, 4.0, 4.25, 4.356, 4.5, 4.75, 5.0, 5.25, 5.5, 5.75]\n",
    "#index = [0, 1, 3, 5, 8, 10]\n",
    "\n",
    "#stats_data = {}\n",
    "\n",
    "#stats_data['function'] = 'EAM-cubic-spline'\n",
    "#stats_data['hyperparams'] = sc\n",
    "\n",
    "for key, trj in trj_fit.items():\n",
    "    \n",
    "    print('dataset #', key)\n",
    "    if 'eos' not in key:\n",
    "        continue\n",
    "\n",
    "    # statistics data\n",
    "    stats_dict = {'energy':[], 'forces':[]}\n",
    "    for ii, (xyz, box) in enumerate(zip(trj['xyz'], trj['box'])):\n",
    "        print('conf', ii)\n",
    "        \n",
    "        a1, ar, a2, f1, fr, f2 = get_stats_EAM_pairdist(xyz, box, sc=sc)\n",
    "\n",
    "        #print(xyz.shape, box)\n",
    "        #print('x', a1.shape, rr.shape, np.sum(np.abs(a1)))\n",
    "        #print('x', a1.shape, ar, a1, a2)\n",
    "        \n",
    "        stats_dict['energy'].append(np.array([ar, a2, a1]))\n",
    "        stats_dict['forces'].append(np.array([fr, f2, f1]))\n",
    "\n",
    "        #stats_dict['forces'].append(np.array([fr, f2, f1]))\n",
    "               # add dataset\n",
    "            \n",
    "        #print('conf:', len(traj['xyz']), box.max())\n",
    "        # plot pair distances - \n",
    "        #if ii == 10:\n",
    "        #    plt.hist(rr.flatten(),100, alpha=1.0,label=key, histtype='step')\n",
    "        #    plt.xlim(2,6)\n",
    "        #    plt.ylim(0,1500)\n",
    "            \n",
    "    #plt.legend()\n",
    "    stats_data[key] = stats_dict"
   ]
  },
  {
   "cell_type": "code",
   "execution_count": 1001,
   "metadata": {},
   "outputs": [
    {
     "data": {
      "text/plain": [
       "[(0, 0.0),\n",
       " (1, 2871.704949746209),\n",
       " (2, 1957.0612995615413),\n",
       " (3, 1270.0354794894415),\n",
       " (4, 775.8603672848167),\n",
       " (5, 439.76884070258643),\n",
       " (6, 226.9937774976612),\n",
       " (7, 102.76814281684393),\n",
       " (8, 35.72189713659567),\n",
       " (9, 6.889121080228055),\n",
       " (10, 0.13433706010541785),\n",
       " (11, 0.0),\n",
       " (12, 0.0),\n",
       " (13, 0.0),\n",
       " (14, 0.0),\n",
       " (15, 0.0)]"
      ]
     },
     "execution_count": 1001,
     "metadata": {},
     "output_type": "execute_result"
    }
   ],
   "source": [
    "[(i, x[2,5]) for i, x in enumerate(stats_data['eos']['energy'])]"
   ]
  },
  {
   "cell_type": "code",
   "execution_count": null,
   "metadata": {
    "collapsed": true
   },
   "outputs": [],
   "source": []
  },
  {
   "cell_type": "code",
   "execution_count": 438,
   "metadata": {},
   "outputs": [
    {
     "name": "stdout",
     "output_type": "stream",
     "text": [
      "dataset # md\n",
      "conf 0\n",
      "conf 1\n",
      "conf 2\n",
      "conf 3\n",
      "conf 4\n",
      "conf 5\n",
      "conf 6\n",
      "conf 7\n",
      "conf 8\n",
      "conf 9\n",
      "conf 10\n",
      "conf 11\n",
      "conf 12\n",
      "conf 13\n",
      "conf 14\n",
      "conf 15\n",
      "conf 16\n",
      "conf 17\n",
      "conf 18\n",
      "conf 19\n",
      "conf 20\n",
      "conf 21\n",
      "conf 22\n",
      "conf 23\n",
      "conf 24\n",
      "conf 25\n",
      "conf 26\n",
      "conf 27\n",
      "conf 28\n",
      "conf 29\n",
      "conf 30\n",
      "conf 31\n",
      "conf 32\n",
      "conf 33\n",
      "conf 34\n",
      "conf 35\n",
      "conf 36\n",
      "conf 37\n",
      "conf 38\n",
      "conf 39\n",
      "conf 40\n",
      "conf 41\n",
      "conf 42\n",
      "conf 43\n",
      "conf 44\n",
      "conf 45\n",
      "conf 46\n",
      "conf 47\n",
      "conf 48\n",
      "conf 49\n",
      "conf 50\n",
      "conf 51\n",
      "conf 52\n",
      "conf 53\n",
      "conf 54\n",
      "conf 55\n",
      "conf 56\n",
      "conf 57\n",
      "conf 58\n",
      "conf 59\n",
      "conf 60\n",
      "conf 61\n",
      "conf 62\n",
      "conf 63\n",
      "conf 64\n",
      "conf 65\n",
      "conf 66\n",
      "conf 67\n",
      "conf 68\n",
      "conf 69\n",
      "conf 70\n",
      "conf 71\n",
      "conf 72\n",
      "conf 73\n",
      "conf 74\n",
      "conf 75\n",
      "conf 76\n",
      "conf 77\n",
      "conf 78\n",
      "conf 79\n",
      "conf 80\n",
      "conf 81\n",
      "conf 82\n",
      "conf 83\n",
      "conf 84\n",
      "conf 85\n",
      "conf 86\n",
      "conf 87\n",
      "conf 88\n",
      "conf 89\n",
      "conf 90\n",
      "conf 91\n",
      "conf 92\n",
      "conf 93\n",
      "conf 94\n",
      "conf 95\n",
      "conf 96\n",
      "conf 97\n",
      "conf 98\n",
      "conf 99\n",
      "conf 100\n",
      "conf 101\n",
      "conf 102\n",
      "conf 103\n",
      "conf 104\n",
      "conf 105\n",
      "conf 106\n",
      "conf 107\n",
      "conf 108\n",
      "conf 109\n",
      "conf 110\n",
      "conf 111\n",
      "conf 112\n",
      "conf 113\n",
      "conf 114\n",
      "conf 115\n",
      "conf 116\n",
      "conf 117\n",
      "conf 118\n",
      "conf 119\n",
      "conf 120\n",
      "conf 121\n",
      "conf 122\n",
      "conf 123\n",
      "conf 124\n",
      "conf 125\n",
      "conf 126\n",
      "conf 127\n",
      "conf 128\n",
      "conf 129\n",
      "conf 130\n",
      "conf 131\n",
      "conf 132\n",
      "conf 133\n",
      "conf 134\n",
      "conf 135\n",
      "conf 136\n",
      "conf 137\n",
      "conf 138\n",
      "conf 139\n",
      "conf 140\n",
      "conf 141\n",
      "conf 142\n",
      "conf 143\n",
      "conf 144\n",
      "conf 145\n",
      "conf 146\n",
      "conf 147\n",
      "conf 148\n",
      "conf 149\n",
      "conf 150\n",
      "conf 151\n",
      "conf 152\n",
      "conf 153\n",
      "conf 154\n",
      "conf 155\n",
      "conf 156\n",
      "conf 157\n",
      "conf 158\n",
      "conf 159\n",
      "conf 160\n",
      "conf 161\n",
      "conf 162\n",
      "conf 163\n",
      "conf 164\n",
      "conf 165\n",
      "conf 166\n",
      "conf 167\n",
      "conf 168\n",
      "conf 169\n",
      "conf 170\n",
      "conf 171\n",
      "conf 172\n",
      "conf 173\n",
      "conf 174\n",
      "conf 175\n",
      "conf 176\n",
      "conf 177\n",
      "conf 178\n",
      "conf 179\n",
      "conf 180\n",
      "conf 181\n",
      "conf 182\n",
      "conf 183\n",
      "conf 184\n",
      "conf 185\n",
      "conf 186\n",
      "conf 187\n",
      "conf 188\n",
      "conf 189\n",
      "conf 190\n",
      "conf 191\n",
      "conf 192\n",
      "conf 193\n",
      "conf 194\n",
      "conf 195\n",
      "conf 196\n",
      "conf 197\n",
      "conf 198\n",
      "conf 199\n",
      "conf 200\n",
      "conf 201\n",
      "conf 202\n",
      "conf 203\n",
      "conf 204\n",
      "conf 205\n",
      "conf 206\n",
      "conf 207\n",
      "conf 208\n",
      "conf 209\n",
      "conf 210\n",
      "conf 211\n",
      "conf 212\n",
      "conf 213\n",
      "conf 214\n",
      "conf 215\n",
      "conf 216\n",
      "conf 217\n",
      "conf 218\n",
      "conf 219\n",
      "conf 220\n",
      "conf 221\n",
      "conf 222\n",
      "conf 223\n",
      "conf 224\n",
      "conf 225\n",
      "conf 226\n",
      "conf 227\n",
      "conf 228\n",
      "conf 229\n",
      "conf 230\n",
      "conf 231\n",
      "conf 232\n",
      "conf 233\n",
      "conf 234\n",
      "conf 235\n",
      "conf 236\n",
      "conf 237\n",
      "conf 238\n",
      "conf 239\n",
      "conf 240\n",
      "conf 241\n",
      "conf 242\n",
      "conf 243\n",
      "conf 244\n",
      "conf 245\n",
      "conf 246\n",
      "conf 247\n",
      "conf 248\n",
      "conf 249\n",
      "conf 250\n",
      "conf 251\n",
      "conf 252\n",
      "conf 253\n",
      "conf 254\n",
      "conf 255\n",
      "conf 256\n",
      "conf 257\n",
      "conf 258\n",
      "conf 259\n",
      "conf 260\n",
      "conf 261\n",
      "conf 262\n",
      "conf 263\n",
      "conf 264\n",
      "conf 265\n",
      "conf 266\n",
      "conf 267\n",
      "conf 268\n",
      "conf 269\n",
      "conf 270\n",
      "conf 271\n",
      "conf 272\n",
      "conf 273\n",
      "conf 274\n",
      "conf 275\n",
      "conf 276\n",
      "conf 277\n",
      "conf 278\n",
      "conf 279\n",
      "conf 280\n",
      "conf 281\n",
      "conf 282\n",
      "conf 283\n",
      "conf 284\n",
      "conf 285\n",
      "conf 286\n",
      "conf 287\n",
      "conf 288\n",
      "conf 289\n",
      "conf 290\n",
      "conf 291\n",
      "conf 292\n",
      "conf 293\n",
      "conf 294\n",
      "conf 295\n",
      "conf 296\n",
      "conf 297\n",
      "conf 298\n",
      "conf 299\n",
      "conf 300\n",
      "conf 301\n",
      "conf 302\n",
      "conf 303\n",
      "conf 304\n",
      "conf 305\n",
      "conf 306\n",
      "conf 307\n",
      "conf 308\n",
      "conf 309\n",
      "conf 310\n",
      "conf 311\n",
      "conf 312\n",
      "conf 313\n",
      "conf 314\n",
      "conf 315\n",
      "conf 316\n",
      "conf 317\n",
      "conf 318\n",
      "conf 319\n",
      "conf 320\n",
      "conf 321\n",
      "conf 322\n",
      "conf 323\n",
      "conf 324\n",
      "conf 325\n",
      "conf 326\n",
      "conf 327\n",
      "conf 328\n",
      "conf 329\n",
      "conf 330\n",
      "conf 331\n",
      "conf 332\n",
      "conf 333\n",
      "conf 334\n",
      "conf 335\n",
      "conf 336\n",
      "conf 337\n",
      "conf 338\n",
      "conf 339\n",
      "conf 340\n",
      "conf 341\n",
      "conf 342\n",
      "conf 343\n",
      "conf 344\n",
      "conf 345\n",
      "conf 346\n",
      "conf 347\n",
      "conf 348\n",
      "conf 349\n",
      "conf 350\n",
      "conf 351\n",
      "conf 352\n",
      "conf 353\n",
      "conf 354\n",
      "conf 355\n",
      "conf 356\n",
      "conf 357\n",
      "conf 358\n",
      "conf 359\n",
      "conf 360\n",
      "conf 361\n",
      "conf 362\n",
      "conf 363\n",
      "conf 364\n",
      "conf 365\n",
      "conf 366\n",
      "conf 367\n",
      "conf 368\n",
      "conf 369\n",
      "conf 370\n",
      "conf 371\n",
      "conf 372\n",
      "conf 373\n",
      "conf 374\n",
      "conf 375\n",
      "conf 376\n",
      "conf 377\n",
      "conf 378\n",
      "conf 379\n",
      "conf 380\n",
      "conf 381\n",
      "conf 382\n",
      "conf 383\n",
      "conf 384\n",
      "conf 385\n",
      "conf 386\n",
      "conf 387\n",
      "conf 388\n",
      "conf 389\n",
      "conf 390\n",
      "conf 391\n",
      "conf 392\n",
      "conf 393\n",
      "conf 394\n",
      "conf 395\n",
      "conf 396\n",
      "conf 397\n",
      "conf 398\n",
      "conf 399\n",
      "conf 400\n",
      "conf 401\n",
      "conf 402\n",
      "conf 403\n",
      "conf 404\n",
      "conf 405\n",
      "conf 406\n",
      "conf 407\n",
      "conf 408\n",
      "conf 409\n",
      "conf 410\n",
      "conf 411\n",
      "conf 412\n",
      "conf 413\n",
      "conf 414\n",
      "conf 415\n",
      "conf 416\n",
      "conf 417\n",
      "conf 418\n",
      "conf 419\n",
      "conf 420\n",
      "conf 421\n",
      "conf 422\n",
      "conf 423\n",
      "conf 424\n",
      "conf 425\n",
      "conf 426\n",
      "conf 427\n",
      "conf 428\n",
      "conf 429\n",
      "conf 430\n",
      "conf 431\n",
      "conf 432\n",
      "conf 433\n",
      "conf 434\n",
      "conf 435\n",
      "conf 436\n",
      "conf 437\n",
      "conf 438\n",
      "conf 439\n",
      "conf 440\n",
      "conf 441\n",
      "conf 442\n",
      "conf 443\n",
      "conf 444\n",
      "conf 445\n",
      "conf 446\n",
      "conf 447\n",
      "conf 448\n",
      "conf 449\n",
      "conf 450\n",
      "conf 451\n",
      "conf 452\n",
      "conf 453\n",
      "conf 454\n",
      "conf 455\n",
      "conf 456\n",
      "conf 457\n",
      "conf 458\n",
      "conf 459\n",
      "conf 460\n",
      "conf 461\n",
      "conf 462\n",
      "conf 463\n",
      "conf 464\n",
      "conf 465\n",
      "conf 466\n",
      "conf 467\n",
      "conf 468\n",
      "conf 469\n",
      "conf 470\n",
      "conf 471\n",
      "conf 472\n",
      "conf 473\n",
      "conf 474\n",
      "conf 475\n",
      "conf 476\n",
      "conf 477\n",
      "conf 478\n",
      "conf 479\n",
      "conf 480\n",
      "conf 481\n",
      "conf 482\n",
      "conf 483\n",
      "conf 484\n",
      "conf 485\n",
      "conf 486\n",
      "conf 487\n",
      "conf 488\n",
      "conf 489\n",
      "conf 490\n",
      "conf 491\n",
      "conf 492\n",
      "conf 493\n",
      "conf 494\n",
      "conf 495\n",
      "conf 496\n",
      "conf 497\n",
      "conf 498\n",
      "conf 499\n",
      "conf 500\n",
      "conf 501\n",
      "conf 502\n",
      "conf 503\n",
      "conf 504\n",
      "conf 505\n",
      "conf 506\n",
      "conf 507\n",
      "conf 508\n",
      "conf 509\n",
      "conf 510\n",
      "conf 511\n",
      "conf 512\n",
      "conf 513\n",
      "conf 514\n",
      "conf 515\n",
      "conf 516\n",
      "conf 517\n",
      "conf 518\n",
      "conf 519\n",
      "conf 520\n",
      "conf 521\n",
      "conf 522\n",
      "conf 523\n",
      "conf 524\n",
      "conf 525\n",
      "conf 526\n",
      "conf 527\n",
      "conf 528\n",
      "conf 529\n",
      "conf 530\n",
      "conf 531\n",
      "conf 532\n",
      "conf 533\n",
      "conf 534\n",
      "conf 535\n",
      "conf 536\n",
      "conf 537\n",
      "conf 538\n",
      "conf 539\n",
      "conf 540\n",
      "conf 541\n",
      "conf 542\n",
      "conf 543\n",
      "conf 544\n",
      "conf 545\n",
      "conf 546\n",
      "conf 547\n",
      "conf 548\n",
      "conf 549\n",
      "conf 550\n",
      "conf 551\n",
      "conf 552\n",
      "conf 553\n",
      "conf 554\n",
      "conf 555\n",
      "conf 556\n",
      "conf 557\n",
      "conf 558\n",
      "conf 559\n",
      "conf 560\n",
      "conf 561\n",
      "conf 562\n",
      "conf 563\n",
      "conf 564\n",
      "conf 565\n",
      "conf 566\n",
      "conf 567\n",
      "conf 568\n",
      "conf 569\n",
      "conf 570\n",
      "conf 571\n",
      "conf 572\n",
      "conf 573\n",
      "conf 574\n",
      "conf 575\n",
      "conf 576\n",
      "conf 577\n",
      "conf 578\n",
      "conf 579\n",
      "conf 580\n",
      "conf 581\n",
      "conf 582\n",
      "conf 583\n",
      "conf 584\n",
      "conf 585\n",
      "conf 586\n",
      "conf 587\n",
      "conf 588\n",
      "conf 589\n",
      "conf 590\n",
      "conf 591\n",
      "conf 592\n",
      "conf 593\n",
      "conf 594\n",
      "conf 595\n",
      "conf 596\n",
      "conf 597\n",
      "conf 598\n",
      "conf 599\n",
      "conf 600\n",
      "conf 601\n",
      "conf 602\n",
      "conf 603\n",
      "conf 604\n",
      "conf 605\n",
      "conf 606\n",
      "conf 607\n",
      "conf 608\n",
      "conf 609\n",
      "conf 610\n",
      "conf 611\n",
      "conf 612\n",
      "conf 613\n",
      "conf 614\n",
      "conf 615\n",
      "conf 616\n",
      "conf 617\n",
      "conf 618\n",
      "conf 619\n",
      "conf 620\n",
      "conf 621\n",
      "conf 622\n",
      "conf 623\n",
      "conf 624\n",
      "conf 625\n",
      "conf 626\n",
      "conf 627\n",
      "conf 628\n",
      "conf 629\n",
      "conf 630\n",
      "conf 631\n",
      "conf 632\n",
      "conf 633\n",
      "conf 634\n",
      "conf 635\n",
      "conf 636\n",
      "conf 637\n",
      "conf 638\n",
      "conf 639\n",
      "conf 640\n",
      "conf 641\n",
      "conf 642\n",
      "conf 643\n",
      "conf 644\n",
      "conf 645\n",
      "conf 646\n",
      "conf 647\n",
      "conf 648\n",
      "conf 649\n",
      "conf 650\n",
      "conf 651\n",
      "conf 652\n",
      "conf 653\n",
      "conf 654\n",
      "conf 655\n",
      "conf 656\n",
      "conf 657\n",
      "conf 658\n",
      "conf 659\n",
      "conf 660\n",
      "conf 661\n",
      "conf 662\n",
      "conf 663\n",
      "conf 664\n",
      "conf 665\n",
      "conf 666\n",
      "conf 667\n",
      "conf 668\n",
      "conf 669\n",
      "conf 670\n",
      "conf 671\n",
      "conf 672\n",
      "conf 673\n",
      "conf 674\n",
      "conf 675\n",
      "conf 676\n",
      "conf 677\n",
      "conf 678\n",
      "conf 679\n",
      "conf 680\n",
      "conf 681\n",
      "conf 682\n",
      "conf 683\n",
      "conf 684\n",
      "conf 685\n",
      "conf 686\n",
      "conf 687\n",
      "conf 688\n",
      "conf 689\n",
      "conf 690\n",
      "conf 691\n",
      "conf 692\n",
      "conf 693\n",
      "conf 694\n",
      "conf 695\n",
      "conf 696\n",
      "conf 697\n",
      "conf 698\n",
      "conf 699\n",
      "conf 700\n",
      "conf 701\n",
      "conf 702\n",
      "conf 703\n",
      "conf 704\n",
      "conf 705\n",
      "conf 706\n",
      "conf 707\n",
      "conf 708\n",
      "conf 709\n",
      "conf 710\n",
      "conf 711\n",
      "conf 712\n",
      "conf 713\n",
      "conf 714\n",
      "conf 715\n",
      "conf 716\n",
      "conf 717\n",
      "conf 718\n",
      "conf 719\n",
      "conf 720\n",
      "conf 721\n",
      "conf 722\n",
      "conf 723\n",
      "conf 724\n",
      "conf 725\n",
      "conf 726\n",
      "Replicating: 1 5 1\n",
      "conf 727\n",
      "Replicating: 1 5 1\n",
      "conf 728\n",
      "Replicating: 1 5 1\n",
      "conf 729\n",
      "Replicating: 1 5 1\n",
      "conf 730\n",
      "Replicating: 1 5 1\n",
      "conf 731\n",
      "Replicating: 1 5 1\n",
      "conf 732\n",
      "Replicating: 1 5 1\n",
      "conf 733\n",
      "Replicating: 1 5 1\n",
      "conf 734\n",
      "Replicating: 1 5 1\n",
      "conf 735\n",
      "Replicating: 1 5 1\n",
      "conf 736\n",
      "Replicating: 1 5 1\n",
      "conf 737\n",
      "Replicating: 1 5 1\n",
      "conf 738\n",
      "Replicating: 1 5 1\n",
      "conf 739\n",
      "Replicating: 1 5 1\n",
      "conf 740\n",
      "Replicating: 1 5 1\n",
      "conf 741\n",
      "Replicating: 1 5 1\n",
      "conf 742\n",
      "Replicating: 1 5 1\n",
      "conf 743\n",
      "Replicating: 1 5 1\n",
      "conf 744\n",
      "Replicating: 1 5 1\n",
      "conf 745\n",
      "Replicating: 1 5 1\n",
      "conf 746\n",
      "Replicating: 1 5 1\n",
      "conf 747\n",
      "Replicating: 1 5 1\n",
      "conf 748\n",
      "Replicating: 1 5 1\n",
      "conf 749\n",
      "Replicating: 1 5 1\n",
      "conf 750\n",
      "Replicating: 1 5 1\n",
      "conf 751\n",
      "Replicating: 1 5 1\n",
      "conf 752\n",
      "Replicating: 1 5 1\n",
      "conf 753\n",
      "Replicating: 1 5 1\n",
      "conf 754\n",
      "Replicating: 1 5 1\n",
      "conf 755\n",
      "Replicating: 1 5 1\n",
      "conf 756\n",
      "Replicating: 1 5 1\n",
      "conf 757\n",
      "Replicating: 1 5 1\n",
      "conf 758\n",
      "Replicating: 1 5 1\n",
      "conf 759\n",
      "Replicating: 1 5 1\n",
      "conf 760\n",
      "Replicating: 1 5 1\n",
      "conf 761\n",
      "Replicating: 1 5 1\n",
      "conf 762\n",
      "Replicating: 1 5 1\n",
      "conf 763\n",
      "Replicating: 1 5 1\n",
      "conf 764\n",
      "Replicating: 1 5 1\n",
      "conf 765\n",
      "Replicating: 1 5 1\n",
      "conf 766\n",
      "Replicating: 1 5 1\n",
      "conf 767\n",
      "Replicating: 1 5 1\n",
      "conf 768\n",
      "Replicating: 1 5 1\n",
      "conf 769\n",
      "Replicating: 1 5 1\n",
      "conf 770\n",
      "Replicating: 1 5 1\n",
      "conf 771\n",
      "Replicating: 1 5 1\n",
      "conf 772\n",
      "Replicating: 1 5 1\n",
      "conf 773\n",
      "Replicating: 1 5 1\n",
      "conf 774\n",
      "Replicating: 1 5 1\n",
      "conf 775\n",
      "Replicating: 1 5 1\n",
      "conf 776\n",
      "Replicating: 1 5 1\n",
      "conf 777\n",
      "Replicating: 1 5 1\n",
      "conf 778\n",
      "Replicating: 1 5 1\n",
      "conf 779\n",
      "Replicating: 1 5 1\n",
      "conf 780\n",
      "Replicating: 1 5 1\n",
      "conf 781\n",
      "Replicating: 1 5 1\n",
      "conf 782\n",
      "Replicating: 1 5 1\n",
      "conf 783\n",
      "Replicating: 1 5 1\n",
      "conf 784\n",
      "Replicating: 1 5 1\n",
      "conf 785\n",
      "Replicating: 1 5 1\n",
      "conf 786\n",
      "Replicating: 1 5 1\n",
      "conf 787\n",
      "Replicating: 1 5 1\n",
      "conf 788\n",
      "Replicating: 1 5 1\n"
     ]
    },
    {
     "name": "stdout",
     "output_type": "stream",
     "text": [
      "conf 789\n",
      "Replicating: 1 5 1\n",
      "conf 790\n",
      "Replicating: 1 5 1\n",
      "conf 791\n",
      "Replicating: 1 5 1\n",
      "conf 792\n",
      "Replicating: 1 5 1\n",
      "conf 793\n",
      "Replicating: 1 5 1\n",
      "conf 794\n",
      "Replicating: 1 5 1\n",
      "conf 795\n",
      "Replicating: 1 5 1\n",
      "conf 796\n",
      "Replicating: 1 5 1\n",
      "conf 797\n",
      "Replicating: 1 5 1\n",
      "conf 798\n",
      "Replicating: 1 5 1\n",
      "conf 799\n",
      "Replicating: 1 5 1\n",
      "conf 800\n",
      "Replicating: 1 5 1\n",
      "conf 801\n",
      "Replicating: 1 5 1\n",
      "conf 802\n",
      "Replicating: 1 5 1\n",
      "conf 803\n",
      "Replicating: 1 5 1\n",
      "conf 804\n",
      "Replicating: 1 5 1\n",
      "conf 805\n",
      "Replicating: 1 5 1\n",
      "conf 806\n",
      "Replicating: 1 5 1\n",
      "conf 807\n",
      "Replicating: 1 5 1\n",
      "conf 808\n",
      "Replicating: 1 5 1\n",
      "conf 809\n",
      "Replicating: 1 5 1\n",
      "conf 810\n",
      "Replicating: 1 5 1\n",
      "conf 811\n",
      "Replicating: 1 5 1\n",
      "conf 812\n",
      "Replicating: 1 5 1\n",
      "conf 813\n",
      "Replicating: 1 5 1\n",
      "conf 814\n",
      "Replicating: 1 5 1\n",
      "conf 815\n",
      "Replicating: 1 5 1\n",
      "conf 816\n",
      "Replicating: 1 5 1\n",
      "conf 817\n",
      "Replicating: 1 5 1\n",
      "conf 818\n",
      "Replicating: 1 5 1\n",
      "conf 819\n",
      "Replicating: 1 5 1\n",
      "conf 820\n",
      "Replicating: 1 5 1\n",
      "conf 821\n",
      "Replicating: 1 5 1\n",
      "conf 822\n",
      "Replicating: 1 5 1\n",
      "conf 823\n",
      "Replicating: 1 5 1\n",
      "conf 824\n",
      "Replicating: 1 5 1\n",
      "conf 825\n",
      "Replicating: 1 5 1\n",
      "conf 826\n",
      "Replicating: 1 5 1\n",
      "conf 827\n",
      "Replicating: 1 5 1\n",
      "conf 828\n",
      "Replicating: 1 5 1\n",
      "conf 829\n",
      "Replicating: 1 5 1\n",
      "conf 830\n",
      "Replicating: 1 5 1\n",
      "conf 831\n",
      "Replicating: 1 5 1\n",
      "conf 832\n",
      "Replicating: 1 5 1\n",
      "conf 833\n",
      "Replicating: 1 5 1\n",
      "conf 834\n",
      "Replicating: 1 5 1\n",
      "conf 835\n",
      "Replicating: 1 5 1\n",
      "conf 836\n",
      "Replicating: 1 5 1\n",
      "conf 837\n",
      "Replicating: 1 5 1\n",
      "conf 838\n",
      "Replicating: 1 5 1\n",
      "conf 839\n",
      "Replicating: 1 5 1\n",
      "conf 840\n",
      "Replicating: 1 5 1\n",
      "conf 841\n",
      "Replicating: 1 5 1\n",
      "conf 842\n",
      "Replicating: 1 5 1\n",
      "conf 843\n",
      "Replicating: 1 5 1\n",
      "conf 844\n",
      "Replicating: 1 5 1\n",
      "conf 845\n",
      "conf 846\n",
      "conf 847\n",
      "conf 848\n",
      "conf 849\n",
      "conf 850\n",
      "conf 851\n",
      "conf 852\n",
      "conf 853\n",
      "conf 854\n",
      "conf 855\n",
      "conf 856\n",
      "conf 857\n",
      "conf 858\n",
      "conf 859\n",
      "conf 860\n",
      "conf 861\n",
      "conf 862\n",
      "conf 863\n",
      "conf 864\n",
      "conf 865\n",
      "conf 866\n",
      "conf 867\n",
      "conf 868\n",
      "conf 869\n",
      "conf 870\n",
      "conf 871\n",
      "conf 872\n",
      "conf 873\n",
      "conf 874\n",
      "conf 875\n",
      "conf 876\n",
      "conf 877\n",
      "conf 878\n",
      "conf 879\n",
      "conf 880\n",
      "conf 881\n",
      "conf 882\n",
      "conf 883\n",
      "conf 884\n",
      "conf 885\n",
      "conf 886\n",
      "conf 887\n",
      "conf 888\n",
      "conf 889\n",
      "conf 890\n",
      "conf 891\n",
      "conf 892\n",
      "conf 893\n",
      "conf 894\n",
      "conf 895\n",
      "conf 896\n",
      "conf 897\n",
      "conf 898\n",
      "conf 899\n",
      "conf 900\n",
      "conf 901\n",
      "conf 902\n",
      "conf 903\n",
      "conf 904\n",
      "conf 905\n",
      "conf 906\n",
      "conf 907\n",
      "conf 908\n",
      "conf 909\n",
      "conf 910\n",
      "conf 911\n",
      "conf 912\n",
      "conf 913\n",
      "conf 914\n",
      "conf 915\n",
      "conf 916\n",
      "conf 917\n",
      "conf 918\n",
      "conf 919\n",
      "conf 920\n",
      "conf 921\n",
      "conf 922\n",
      "conf 923\n",
      "conf 924\n",
      "conf 925\n",
      "conf 926\n",
      "conf 927\n",
      "conf 928\n",
      "conf 929\n",
      "conf 930\n",
      "conf 931\n",
      "conf 932\n",
      "conf 933\n",
      "conf 934\n",
      "conf 935\n",
      "conf 936\n",
      "conf 937\n",
      "conf 938\n",
      "conf 939\n",
      "conf 940\n",
      "conf 941\n",
      "conf 942\n",
      "conf 943\n",
      "conf 944\n",
      "conf 945\n",
      "conf 946\n",
      "conf 947\n",
      "conf 948\n",
      "conf 949\n",
      "conf 950\n",
      "conf 951\n",
      "conf 952\n",
      "conf 953\n",
      "conf 954\n",
      "conf 955\n",
      "conf 956\n",
      "conf 957\n",
      "conf 958\n",
      "conf 959\n",
      "conf 960\n",
      "conf 961\n",
      "conf 962\n",
      "conf 963\n",
      "conf 964\n",
      "conf 965\n",
      "conf 966\n",
      "conf 967\n",
      "conf 968\n",
      "conf 969\n",
      "conf 970\n",
      "conf 971\n",
      "conf 972\n",
      "conf 973\n",
      "conf 974\n",
      "conf 975\n",
      "conf 976\n",
      "conf 977\n",
      "conf 978\n",
      "conf 979\n",
      "conf 980\n",
      "conf 981\n",
      "conf 982\n",
      "conf 983\n",
      "conf 984\n",
      "conf 985\n",
      "conf 986\n",
      "conf 987\n",
      "conf 988\n",
      "conf 989\n",
      "conf 990\n",
      "conf 991\n",
      "conf 992\n",
      "conf 993\n",
      "conf 994\n",
      "conf 995\n",
      "conf 996\n",
      "conf 997\n",
      "conf 998\n",
      "conf 999\n",
      "conf 1000\n",
      "conf 1001\n",
      "conf 1002\n",
      "conf 1003\n",
      "conf 1004\n",
      "conf 1005\n",
      "conf 1006\n",
      "conf 1007\n",
      "conf 1008\n",
      "conf 1009\n",
      "conf 1010\n",
      "conf 1011\n",
      "conf 1012\n",
      "conf 1013\n",
      "conf 1014\n",
      "conf 1015\n",
      "conf 1016\n",
      "conf 1017\n",
      "conf 1018\n",
      "conf 1019\n",
      "conf 1020\n",
      "conf 1021\n",
      "conf 1022\n",
      "conf 1023\n",
      "conf 1024\n",
      "conf 1025\n",
      "conf 1026\n",
      "conf 1027\n",
      "conf 1028\n",
      "conf 1029\n",
      "conf 1030\n",
      "conf 1031\n",
      "conf 1032\n",
      "conf 1033\n",
      "conf 1034\n",
      "conf 1035\n",
      "conf 1036\n",
      "conf 1037\n",
      "dataset # relax\n",
      "conf 0\n",
      "conf 1\n",
      "conf 2\n",
      "conf 3\n",
      "conf 4\n",
      "conf 5\n",
      "Replicating: 1 5 1\n",
      "conf 6\n"
     ]
    }
   ],
   "source": [
    "#sc = [2.74, 3.252, 3.804, 4.356, 4.908, 5.46]\n",
    "#sc = [2.74, 3.25, 3.75, 4.5, 5.48]\n",
    "sc = [2.5, 2.65, 2.75, 3.0, 3.25, 3.5, 3.75, 4.0, 4.25, 4.356, 4.5, 4.75, 5.0, 5.25, 5.5, 5.75]\n",
    "#index = [0, 1, 3, 5, 8, 10]\n",
    "\n",
    "stats_data = {}\n",
    "\n",
    "stats_data['function'] = 'EAM-cubic-spline'\n",
    "stats_data['hyperparams'] = sc\n",
    "\n",
    "for key, trj in trj_fit.items():\n",
    "    \n",
    "    print('dataset #', key)\n",
    "#    if 'relax' not in key:\n",
    "#        continue\n",
    "\n",
    "    # statistics data\n",
    "    stats_dict = {'energy':[], 'forces':[]}\n",
    "    for ii, (xyz, box) in enumerate(zip(trj['xyz'], trj['box'])):\n",
    "        print('conf', ii)\n",
    "        \n",
    "        a1, ar, a2, f1, fr, f2 = get_stats_EAM_pairdist(xyz, box, sc=sc)\n",
    "\n",
    "        #print(xyz.shape, box)\n",
    "        #print('x', a1.shape, rr.shape, np.sum(np.abs(a1)))\n",
    "        #print('x', a1.shape, ar, a1, a2)\n",
    "        \n",
    "        stats_dict['energy'].append(np.array([ar, a2, a1]))\n",
    "        stats_dict['forces'].append(np.array([fr, f2, f1]))\n",
    "\n",
    "        #stats_dict['forces'].append(np.array([fr, f2, f1]))\n",
    "               # add dataset\n",
    "            \n",
    "        #print('conf:', len(traj['xyz']), box.max())\n",
    "        # plot pair distances - \n",
    "        #if ii == 10:\n",
    "        #    plt.hist(rr.flatten(),100, alpha=1.0,label=key, histtype='step')\n",
    "        #    plt.xlim(2,6)\n",
    "        #    plt.ylim(0,1500)\n",
    "            \n",
    "    #plt.legend()\n",
    "    stats_data[key] = stats_dict"
   ]
  },
  {
   "cell_type": "code",
   "execution_count": 1002,
   "metadata": {
    "collapsed": true
   },
   "outputs": [],
   "source": [
    "with open(os.path.join(working, \"stats_fit.pickle\"), 'wb') as fo:\n",
    "    pickle.dump(stats_data, fo)"
   ]
  },
  {
   "cell_type": "code",
   "execution_count": 1003,
   "metadata": {
    "collapsed": true
   },
   "outputs": [],
   "source": [
    "#%%writefile -a ../src/optimize/optscript.py\n",
    "\n",
    "from statmechlib.forcefields import sd2_loss, utot_EAM, ftot_EAM, udif_print\n",
    "from scipy.optimize import fmin"
   ]
  },
  {
   "cell_type": "code",
   "execution_count": 1004,
   "metadata": {
    "collapsed": true
   },
   "outputs": [],
   "source": [
    "#%%writefile -a ../src/optimize/optscript.py\n",
    "\n",
    "# load stats data\n",
    "with open(os.path.join(working, 'stats_fit'+'.pickle'), 'rb') as fi:\n",
    "    stats_dict = pickle.load(fi)"
   ]
  },
  {
   "cell_type": "code",
   "execution_count": 1005,
   "metadata": {
    "collapsed": true
   },
   "outputs": [],
   "source": [
    "#%%writefile -a ../src/optimize/optscript.py\n",
    "\n",
    "# load stats data\n",
    "with open(os.path.join(working, 'pars_in'+'.pickle'), 'rb') as fi:\n",
    "    pars_dict = pickle.load(fi)"
   ]
  },
  {
   "cell_type": "code",
   "execution_count": 1006,
   "metadata": {},
   "outputs": [
    {
     "name": "stdout",
     "output_type": "stream",
     "text": [
      "[-0.344540412587315, 1.6869558429105695e-05, 7.262799609949834, 2.8551814788414784, -1.1750824011719558, 0.5925315310384949, -0.41006381316375573, 0.11872947102754242]\n"
     ]
    }
   ],
   "source": [
    "#%%writefile -a ../src/optimize/optscript.py\n",
    "#pars_in = [pars_dict['embed'][0], pars_dict['embed'][2], *pars_dict['pair']]\n",
    "pars_in = pars_dict['embed'] + pars_dict['pair']\n",
    "print(pars_in)"
   ]
  },
  {
   "cell_type": "code",
   "execution_count": 1007,
   "metadata": {},
   "outputs": [
    {
     "name": "stdout",
     "output_type": "stream",
     "text": [
      "-1656.3257 128\n",
      "-12.94004453125 -8.9 -4.04004453125\n",
      "OK energies: [-1139.2, -906.9778906249999, -1127.13044453125, -1136.3561554687499, -1136.7059554687498, -1190.21418828125, 0.0]\n"
     ]
    }
   ],
   "source": [
    "# Final scaling and normalization of data\n",
    "# %load ../src/optimize/optscript.py\n",
    "\n",
    "# scale energies (subtract energy of an isolated atom)\n",
    "# determine interaction energy\n",
    "print(targ_dict['relax']['energy'][0], len(targ_dict['relax']['xyz'][0]))\n",
    "u_t = targ_dict['relax']['energy'][0]/len(targ_dict['relax']['xyz'][0])\n",
    "u_e = -8.9 # external energy from atom (experimental)\n",
    "u_i = u_t - u_e # internal energy per atom (to be subtracted from all atoms)\n",
    "print(u_t, u_e, u_i)\n",
    "\n",
    "emin = 0.0\n",
    "esum = 0.0\n",
    "isum = 0.0\n",
    "lemin = 0.0\n",
    "lesum = 0.0\n",
    "lisum = 0.0\n",
    "for key, trj in targ_dict.items():\n",
    "    if 'eos' in key:\n",
    "        continue\n",
    "    for i in range(len(targ_dict[key]['energy'])):\n",
    "        targ_dict[key]['energy'][i] -= u_i*targ_dict[key]['xyz'][i].shape[0]\n",
    "        enex = targ_dict[key]['energy'][i]/targ_dict[key]['xyz'][i].shape[0]\n",
    "\n",
    "#        if 'fcc' in key:\n",
    "#            esum += enex\n",
    "#            isum += 1.0\n",
    "#            if enex < emin:\n",
    "#                imin = i\n",
    "#                #print(enex)\n",
    "#                emin = enex\n",
    "#                xmin = targ_dict[key]['xyz'][i]\n",
    "#                bmin = targ_dict[key]['box'][i]\n",
    "#                smin = stats_dict[key]['energy'][i]\n",
    "\n",
    "#        if 'liq_5000K' in key:\n",
    "#            lesum += enex\n",
    "#            lisum += 1.0\n",
    "#            if enex < lemin:\n",
    "#                limin = i\n",
    "#                #print(enex)\n",
    "#                lemin = enex\n",
    "#                lxmin = targ_dict[key]['xyz'][i]\n",
    "#                lbmin = targ_dict[key]['box'][i]\n",
    "#                lsmin = stats_dict[key]['energy'][i]\n",
    "#                lnat = targ_dict[key]['xyz'][i].shape[0]\n",
    "\n",
    "#print('Emin', emin, esum/isum)\n",
    "\n",
    "# temporary fix - set fcc energy at 0K to minimum energy of 300K trajectory\n",
    "#targ_dict['relax']['energy'][1] = emin*targ_dict['relax']['xyz'][1].shape[0]\n",
    "#targ_dict['relax']['xyz'][1] = xmin\n",
    "#targ_dict['relax']['box'][1] = bmin\n",
    "#stats_dict['relax']['energy'][1] = smin\n",
    "\n",
    "#targ_dict['relax']['energy'][5] = lemin*lnat\n",
    "#targ_dict['relax']['xyz'][5] = lxmin\n",
    "#targ_dict['relax']['box'][5] = lbmin\n",
    "#stats_dict['relax']['energy'][5] = lsmin\n",
    "\n",
    "targ_dict['relax']['energy'][-1] = 0.0\n",
    "\n",
    "#targ_dict['relax']['energy'][5] = targ_dict['relax']['energy'][6]\n",
    "#targ_dict['relax']['xyz'][5] = targ_dict['relax']['xyz'][6]\n",
    "#targ_dict['relax']['box'][5] = targ_dict['relax']['box'][6]\n",
    "#stats_dict['relax']['energy'][5] = stats_dict['relax']['energy'][6]\n",
    "\n",
    "print('OK energies:', targ_dict['relax']['energy'])"
   ]
  },
  {
   "cell_type": "code",
   "execution_count": 1008,
   "metadata": {},
   "outputs": [
    {
     "name": "stdout",
     "output_type": "stream",
     "text": [
      "OK energies: [-2.9688679595213743e-239, 845.2656372627717, -271.80472210709036, -837.1711089986524, -1079.5267350307167, -1139.2, -1100.8887858645915, -1014.6561261471662, -909.2807161131147, -800.6633444635341, -697.0611202328876, -602.3043063713139, -517.742999456512, -443.4032853774631, -378.657941519064, -322.6037245559544]\n"
     ]
    }
   ],
   "source": [
    "print('OK energies:', targ_dict['eos']['energy'])"
   ]
  },
  {
   "cell_type": "code",
   "execution_count": 1009,
   "metadata": {
    "collapsed": true
   },
   "outputs": [],
   "source": [
    "#Add Inf configurations at the end of the MD trajectory\n",
    "for key in targ_dict['md']:\n",
    "    if 'type' in key or 'weight' in key:\n",
    "        continue\n",
    "    #print(key, type(targ_dict['md'][key][-1]))\n",
    "    for i in range(100):\n",
    "        targ_dict['md'][key].append(targ_dict['relax'][key][-1])"
   ]
  },
  {
   "cell_type": "code",
   "execution_count": 1010,
   "metadata": {
    "collapsed": true
   },
   "outputs": [],
   "source": [
    "stats_dict['md'].keys()\n",
    "for key in stats_dict['md']:\n",
    "    #print(key, type(stats_dict['md'][key]))\n",
    "    for i in range(100):\n",
    "        stats_dict['md'][key].append(stats_dict['relax'][key][-1])"
   ]
  },
  {
   "cell_type": "code",
   "execution_count": 1011,
   "metadata": {},
   "outputs": [
    {
     "name": "stdout",
     "output_type": "stream",
     "text": [
      "box 1138 <class 'list'>\n",
      "xyz 1138 <class 'list'>\n",
      "energy 1138 <class 'list'>\n",
      "forces 1138 <class 'list'>\n",
      "temp 1138 <class 'list'>\n",
      "beta 1138 <class 'list'>\n"
     ]
    }
   ],
   "source": [
    "for key in targ_dict['md']:\n",
    "    if 'type' in key or 'weight' in key:\n",
    "        continue\n",
    "    #print(key, len(stats_dict['md'][key]), type(stats_dict['md'][key]))\n",
    "    print(key, len(targ_dict['md'][key]), type(targ_dict['md'][key]))"
   ]
  },
  {
   "cell_type": "code",
   "execution_count": 1043,
   "metadata": {
    "collapsed": true
   },
   "outputs": [],
   "source": [
    "targ_dict['eos']['weight'] = 1.0"
   ]
  },
  {
   "cell_type": "code",
   "execution_count": 1044,
   "metadata": {},
   "outputs": [
    {
     "name": "stdout",
     "output_type": "stream",
     "text": [
      "[1.0, 10.0, 1.0]\n"
     ]
    }
   ],
   "source": [
    "#targ_dict['relax']['weight'] = 5.0\n",
    "print([targ_dict[k]['weight'] for k in targ_dict])"
   ]
  },
  {
   "cell_type": "code",
   "execution_count": 1045,
   "metadata": {},
   "outputs": [
    {
     "name": "stdout",
     "output_type": "stream",
     "text": [
      "[2.74, 3.252, 3.804, 4.356, 4.908, 5.46]\n",
      "[2.5, 2.65, 2.75, 3.0, 3.25, 3.5, 3.75, 4.0, 4.25, 4.356, 4.5, 4.75, 5.0, 5.25, 5.5, 5.75]\n"
     ]
    }
   ],
   "source": [
    "print([2.74, 3.252, 3.804, 4.356, 4.908, 5.46])\n",
    "print(stats_dict['hyperparams'])"
   ]
  },
  {
   "cell_type": "code",
   "execution_count": 1014,
   "metadata": {},
   "outputs": [
    {
     "name": "stdout",
     "output_type": "stream",
     "text": [
      "[2.75  3.25  3.75  4.356 5.    5.5  ]\n"
     ]
    }
   ],
   "source": [
    "index = [2, 4, 6, 9, 12, 14]\n",
    "index = np.array([True if i in index else False for i in range(len(stats_dict['hyperparams']))])\n",
    "print(np.array(stats_dict['hyperparams'])[index])"
   ]
  },
  {
   "cell_type": "code",
   "execution_count": 1015,
   "metadata": {
    "collapsed": true
   },
   "outputs": [],
   "source": [
    "def select_nodes(stats_input, index):\n",
    "    \"\"\"\n",
    "    Select only configuration statistics from stats (spline nodes) that are given in index.\n",
    "    \"\"\"\n",
    "    \n",
    "    stats_select = copy.deepcopy(stats_input)\n",
    "    \n",
    "    for key, stats in stats_select.items():\n",
    "        if type(stats) == dict and 'energy' in stats.keys():\n",
    "            for i, conf in enumerate(stats['energy']):\n",
    "                new_conf = np.empty((3, sum(index)), dtype=float)\n",
    "                new_conf[0] = conf[0][index]\n",
    "                new_conf[1] = conf[1][index]\n",
    "                new_conf[2] = conf[2][index]\n",
    "                stats['energy'][i] = new_conf\n",
    "                \n",
    "    stats_select['hyperparams'] = list(np.array(stats_select['hyperparams'])[index])\n",
    "\n",
    "    return stats_select"
   ]
  },
  {
   "cell_type": "code",
   "execution_count": 1016,
   "metadata": {
    "collapsed": true
   },
   "outputs": [],
   "source": [
    "stats_opt = select_nodes(stats_dict, index)\n",
    "#stats_opt = copy.deepcopy(stats_dict)"
   ]
  },
  {
   "cell_type": "code",
   "execution_count": 1017,
   "metadata": {
    "collapsed": true
   },
   "outputs": [],
   "source": [
    "#stats_opt['function'] = 'EAM-cubic-spline'\n",
    "#stats_opt['hyperparams'] = sc"
   ]
  },
  {
   "cell_type": "code",
   "execution_count": 1018,
   "metadata": {},
   "outputs": [
    {
     "data": {
      "text/plain": [
       "[2.75, 3.25, 3.75, 4.356, 5.0, 5.5]"
      ]
     },
     "execution_count": 1018,
     "metadata": {},
     "output_type": "execute_result"
    }
   ],
   "source": [
    "stats_opt['hyperparams']"
   ]
  },
  {
   "cell_type": "code",
   "execution_count": 1046,
   "metadata": {
    "collapsed": true
   },
   "outputs": [],
   "source": [
    "# prepare data for fitting\n",
    "stats = []\n",
    "target = []\n",
    "for key in list(targ_dict.keys()):\n",
    "    stats.append(stats_opt[key])\n",
    "    target.append(targ_dict[key])"
   ]
  },
  {
   "cell_type": "code",
   "execution_count": 1047,
   "metadata": {},
   "outputs": [
    {
     "data": {
      "text/plain": [
       "[7.262799609949834,\n",
       " 2.8551814788414784,\n",
       " -1.1750824011719558,\n",
       " 0.5925315310384949,\n",
       " -0.41006381316375573,\n",
       " 0.11872947102754242]"
      ]
     },
     "execution_count": 1047,
     "metadata": {},
     "output_type": "execute_result"
    }
   ],
   "source": [
    "pars_dict['pair']"
   ]
  },
  {
   "cell_type": "code",
   "execution_count": 746,
   "metadata": {
    "collapsed": true
   },
   "outputs": [],
   "source": [
    "multi_pars = [pars_in]"
   ]
  },
  {
   "cell_type": "code",
   "execution_count": 747,
   "metadata": {},
   "outputs": [
    {
     "data": {
      "text/plain": [
       "[[-0.344540412587315,\n",
       "  1.6869558429105695e-05,\n",
       "  7.262799609949834,\n",
       "  2.8551814788414784,\n",
       "  -1.1750824011719558,\n",
       "  0.5925315310384949,\n",
       "  -0.41006381316375573,\n",
       "  0.11872947102754242]]"
      ]
     },
     "execution_count": 747,
     "metadata": {},
     "output_type": "execute_result"
    }
   ],
   "source": [
    "multi_pars"
   ]
  },
  {
   "cell_type": "code",
   "execution_count": 939,
   "metadata": {},
   "outputs": [
    {
     "name": "stdout",
     "output_type": "stream",
     "text": [
      "[-3.74132698e+00 -3.84519381e-04  8.77628167e+00 -2.20871168e+00\n",
      "  3.35359442e+00 -9.38564806e-01 -5.63659772e-01  9.27857151e-01]\n",
      "Initial sd2: 18.385948858900285\n",
      "Opt # 0 (18.385947572509735, 1231, 1848, 0)\n",
      "Optimized parameters:\n",
      "-4.106337580417493 -0.00043474528399824625 11.900001139980201 -2.1909805889672187 3.298635451314461 -0.8620135176999827 -0.6197461173620957 1.0165861995570689\n"
     ]
    }
   ],
   "source": [
    "pars = multi_pars[0]\n",
    "#optimal_parameters = []\n",
    "print(pars)\n",
    "sd_ini = sd2_loss(pars, stats, target, utot_EAM)\n",
    "print('Initial sd2:', sd_ini)\n",
    "output = fmin(sd2_loss, pars, args=(stats, target, utot_EAM), maxiter=100000, maxfun=100000, disp=0, full_output=1,ftol=1e-6)\n",
    "params_uopt = output[0]\n",
    "print('Opt #', 0, output[1:])\n",
    "print(\"Optimized parameters:\")\n",
    "print(*params_uopt)\n",
    "#optimal_parameters.append(tuple([output[1:], params_uopt]))"
   ]
  },
  {
   "cell_type": "code",
   "execution_count": 810,
   "metadata": {},
   "outputs": [
    {
     "data": {
      "text/plain": [
       "array([-3.74366839e+00, -3.82503855e-04,  9.95130195e+00, -2.40887446e+00,\n",
       "        3.04037104e+00, -4.33470879e-01, -9.53991736e-01,  1.05194950e+00])"
      ]
     },
     "execution_count": 810,
     "metadata": {},
     "output_type": "execute_result"
    }
   ],
   "source": [
    "params_uopt"
   ]
  },
  {
   "cell_type": "code",
   "execution_count": 750,
   "metadata": {
    "collapsed": true
   },
   "outputs": [],
   "source": [
    "multi_pars =[pars_in]"
   ]
  },
  {
   "cell_type": "code",
   "execution_count": 751,
   "metadata": {
    "collapsed": true
   },
   "outputs": [],
   "source": [
    "multi_pars.append(list(optimal_parameters[0][1]))"
   ]
  },
  {
   "cell_type": "code",
   "execution_count": 752,
   "metadata": {},
   "outputs": [
    {
     "data": {
      "text/plain": [
       "[[-0.344540412587315,\n",
       "  1.6869558429105695e-05,\n",
       "  7.262799609949834,\n",
       "  2.8551814788414784,\n",
       "  -1.1750824011719558,\n",
       "  0.5925315310384949,\n",
       "  -0.41006381316375573,\n",
       "  0.11872947102754242],\n",
       " [-0.35206612437975615,\n",
       "  9.133245928096229e-05,\n",
       "  -9.104710583927625,\n",
       "  -2.330660092181559,\n",
       "  3.7660858018253074,\n",
       "  -1.8353825384526679,\n",
       "  0.0524308338710909,\n",
       "  0.0854579607184422]]"
      ]
     },
     "execution_count": 752,
     "metadata": {},
     "output_type": "execute_result"
    }
   ],
   "source": [
    "multi_pars"
   ]
  },
  {
   "cell_type": "code",
   "execution_count": 1075,
   "metadata": {},
   "outputs": [
    {
     "name": "stdout",
     "output_type": "stream",
     "text": [
      "[-6.40386694e-01  4.55421623e-05  1.47596411e+01 -3.28930776e+00\n",
      "  3.00810593e+00 -1.45206836e+00  3.64510676e-01 -4.73073383e-02]\n",
      "[-7.45916154e-01  3.08885905e-05  1.70496294e+01 -3.32108954e+00\n",
      "  2.96445187e+00 -1.31795507e+00  2.14785137e-01  2.83753805e-02]\n",
      "[-6.16214011e-01  6.26591289e-06  1.99170483e+01 -3.12063295e+00\n",
      "  3.46857797e+00 -1.59497754e+00  4.95023109e-01 -8.97969420e-02]\n",
      "[-0.69374187 -0.07014593 14.62356607 -3.34941372  2.92903989 -1.42059216\n",
      "  0.34934313 -0.02074406]\n",
      "[-0.6514919   0.0367744  14.73777414 -3.3750922   3.02001612 -1.44729236\n",
      "  0.37016058 -0.02163768]\n",
      "[-0.63328183  0.1088114  14.76414781 -3.22646983  2.99003872 -1.49131763\n",
      "  0.36519592 -0.0697674 ]\n",
      "[-6.94081557e-01  3.94887885e-02  1.48759650e+01 -3.24747101e+00\n",
      "  2.98451024e+00 -1.45304175e+00  3.65593363e-01 -5.34871049e-03]\n",
      "[-6.89175434e-01  1.36416426e-03  1.48650716e+01 -3.23101743e+00\n",
      "  3.00017322e+00 -1.47985480e+00  2.84545262e-01 -8.78507063e-02]\n"
     ]
    }
   ],
   "source": [
    "# Formatting for optimization\n",
    "multi_pars = []\n",
    "\n",
    "#pars_in1 = multi_pars[0]\n",
    "#pars_in2 = multi_pars[1]\n",
    "\n",
    "pars_in1 = optimal_parameters[2][1]\n",
    "pars_in2 = optimal_parameters[21][1]\n",
    "pars_in3 = optimal_parameters[25][1]\n",
    "\n",
    "\n",
    "#pars_in1 = [-2.21684325e+00, -1.77860942e-04, -3.66546338e+00, -1.71191389e+00, 4.38944526e+00, -2.66122494e+00,  7.24452435e-01,  2.29732818e-01]\n",
    "#pars_in2 = [-1.27104003e+00, -4.74103470e-05, -1.81120680e+01, -1.95915397e+00, 4.09985823e+00, -1.83714241e+00, -1.61099628e-02,  2.92927073e-01]\n",
    "\n",
    "print(pars_in1)\n",
    "print(pars_in2)\n",
    "print(pars_in3)\n",
    "\n",
    "multi_pars.append(pars_in1)\n",
    "multi_pars.append(pars_in2)\n",
    "multi_pars.append(pars_in3)\n",
    "\n",
    "for _ in range(5):\n",
    "    pars = np.array(pars_in1)\n",
    "    pars += np.random.standard_normal(pars.shape)*0.05\n",
    "    print(pars)\n",
    "    multi_pars.append(pars)\n",
    "\n",
    "for _ in range(5):\n",
    "    pars = np.array(pars_in2)\n",
    "    pars += np.random.standard_normal(pars.shape)*0.05\n",
    "    multi_pars.append(pars)\n",
    "\n",
    "for _ in range(5):\n",
    "    pars = np.array(pars_in3)\n",
    "    pars += np.random.standard_normal(pars.shape)*0.05\n",
    "    multi_pars.append(pars)\n",
    "    \n",
    "for _ in range(5):\n",
    "    pars = 0.5*(np.array(pars_in1) + np.array(pars_in2))\n",
    "    pars += np.random.standard_normal(pars.shape)*0.05\n",
    "    multi_pars.append(pars)\n",
    "\n",
    "for _ in range(5):\n",
    "    pars = 0.5*(np.array(pars_in1) + np.array(pars_in3))\n",
    "    pars += np.random.standard_normal(pars.shape)*0.05\n",
    "    multi_pars.append(pars)\n",
    "\n",
    "for _ in range(5):\n",
    "    pars = 0.5*(np.array(pars_in2) + np.array(pars_in3))\n",
    "    pars += np.random.standard_normal(pars.shape)*0.05\n",
    "    multi_pars.append(pars)"
   ]
  },
  {
   "cell_type": "code",
   "execution_count": 1076,
   "metadata": {},
   "outputs": [
    {
     "name": "stdout",
     "output_type": "stream",
     "text": [
      "Initial sd2: 0.001773337768822206\n",
      "Opt # 0 (0.001773337768822206, 166, 297, 0)\n",
      "Optimized parameters:\n",
      "-0.640386693835336 4.5542162261271055e-05 14.759641059284208 -3.2893077551080467 3.008105926388613 -1.4520683631508362 0.36451067624715894 -0.04730733830013417\n",
      "Initial sd2: 0.001937125454473442\n",
      "Opt # 1 (0.0017733377688371682, 1351, 1980, 0)\n",
      "Optimized parameters:\n",
      "-0.6403848765778248 4.554255284252228e-05 14.75959426612199 -3.289311404618888 3.0081071570877747 -1.4520716388076647 0.36451381273612654 -0.04730882969282006\n",
      "Initial sd2: 0.0027491653641401543\n",
      "Opt # 2 (0.0017733377687110862, 1685, 2475, 0)\n",
      "Optimized parameters:\n",
      "-0.6403818402665377 4.5542767804947936e-05 14.75953645844853 -3.2893086744877076 3.00811402860027 -1.4520790595813748 0.36452000800042017 -0.04731147071089932\n",
      "Initial sd2: 29.382411868971314\n"
     ]
    },
    {
     "name": "stderr",
     "output_type": "stream",
     "text": [
      "../../statmechlib/statmechlib/forcefields/eam.py:219: RuntimeWarning: overflow encountered in exp\n",
      "  eee = np.exp(-uuu)\n"
     ]
    },
    {
     "name": "stdout",
     "output_type": "stream",
     "text": [
      "Opt # 3 (0.0057852709595026365, 815, 1289, 0)\n",
      "Optimized parameters:\n",
      "-0.7521413838874745 8.274625396231483e-06 17.02959269028483 -2.6050670116550596 3.3174986919232246 -1.6566587921665172 0.4385761764009512 -0.03142098864642921\n",
      "Initial sd2: 28.753903340379694\n",
      "Opt # 4 (28.753903340379694, 14, 139, 0)\n",
      "Optimized parameters:\n",
      "-0.6514918951653479 0.03677439516308615 14.737774139785861 -3.3750921990547185 3.020016117112844 -1.4472923600058707 0.37016058401321195 -0.02163768026680503\n",
      "Initial sd2: 29.608813203268078\n",
      "Opt # 5 (29.608813203268078, 14, 139, 0)\n",
      "Optimized parameters:\n",
      "-0.6332818308608155 0.10881140222644015 14.764147812263024 -3.2264698277358694 2.990038719676219 -1.491317630925703 0.36519592211318236 -0.0697674025663197\n",
      "Initial sd2: 28.753903340379694\n",
      "Opt # 6 (28.753903340379694, 14, 139, 0)\n",
      "Optimized parameters:\n",
      "-0.6940815571696345 0.03948878854413699 14.875965028849857 -3.247471013761168 2.9845102365883482 -1.4530417454356 0.36559336303013723 -0.005348710494593581\n",
      "Initial sd2: 16.568873603980844\n",
      "Opt # 7 (0.010102620475610795, 1493, 2207, 0)\n",
      "Optimized parameters:\n",
      "-0.6853419170972732 2.819349562830167e-05 17.364688696765253 -4.37381763835802 4.180068716934263 -2.097411975585093 0.6414307515927813 -0.10229384401313757\n",
      "Initial sd2: 28.753903340379694\n",
      "Opt # 8 (28.753903340379694, 15, 149, 0)\n",
      "Optimized parameters:\n",
      "-0.7612877457114574 0.05424778598751192 17.08125190464565 -3.290495195112434 3.049836910514259 -1.3197888522577796 0.13391661398007687 0.08836627320264177\n",
      "Initial sd2: 28.753903340379694\n",
      "Opt # 9 (28.753903340379694, 15, 149, 0)\n",
      "Optimized parameters:\n",
      "-0.7414255190062116 0.05370337550362366 17.056167744975205 -3.2600885162823188 2.932976994649635 -1.2181930190087997 0.1899687446621895 0.0013789171827489413\n",
      "Initial sd2: 28.753903340379694\n",
      "Opt # 10 (28.753903340379694, 15, 149, 0)\n",
      "Optimized parameters:\n",
      "-0.7969966353159691 0.036175611398097315 17.160334017759325 -3.376467163653722 2.9604421612995933 -1.40535307753734 0.27157508196614566 0.0536787220201686\n",
      "Initial sd2: 17.117287721989477\n",
      "Opt # 11 (0.0032626444787699433, 904, 1387, 0)\n",
      "Optimized parameters:\n",
      "-0.7038405618870377 2.3487724600578534e-05 19.72483351224473 -3.6892001214801122 3.0861547367213 -1.263157795579803 0.21870454629565406 0.012716255010252128\n",
      "Initial sd2: 28.753903340379694\n",
      "Opt # 12 (28.753903340379694, 15, 149, 0)\n",
      "Optimized parameters:\n",
      "-0.7368231808854738 0.03199184906195486 17.017178992810617 -3.3196673654614712 2.988722532168575 -1.389122902131173 0.20469903244396828 0.04471385358098921\n",
      "Initial sd2: 28.753903340379694\n",
      "Opt # 13 (28.753903340379694, 15, 149, 0)\n",
      "Optimized parameters:\n",
      "-0.61258274749945 0.03360237797409884 19.88884622364817 -3.1332704874766955 3.5391384148113905 -1.6497384220372189 0.5468954749480768 -0.08147017587885447\n",
      "Initial sd2: 28.753903340379694\n",
      "Opt # 14 (28.753903340379694, 15, 149, 0)\n",
      "Optimized parameters:\n",
      "-0.6847651159680379 0.046722975035522536 19.87951922233823 -3.070668738085018 3.425148285550413 -1.6147468062298604 0.5279304510499426 -0.1509471853925225\n",
      "Initial sd2: 14.779322524990533\n",
      "Opt # 15 (0.009469983018720854, 1091, 1678, 0)\n",
      "Optimized parameters:\n",
      "-0.6175283474612319 -7.452956173146864e-05 31.02588048459731 -2.7449653905634546 4.1677425661676715 -1.6834144333635912 0.6095340722172308 -0.11855106170859994\n",
      "Initial sd2: 28.753903340379694\n",
      "Opt # 16 (28.753903340379694, 15, 149, 0)\n",
      "Optimized parameters:\n",
      "-0.591804507405722 0.056262203602735206 19.921772855063992 -3.1439008749613366 3.4302524396777145 -1.5661624282968964 0.5516208712794408 -0.08044765192346104\n",
      "Initial sd2: 29.3874795673927\n",
      "Opt # 17 (0.010665439091233325, 1208, 1862, 0)\n",
      "Optimized parameters:\n",
      "-0.6617834074957992 9.37835876525497e-05 5.1687959638245005 -3.295319653797457 3.1443540334216595 -2.029823101105726 0.6623868107019355 -0.12767954617434696\n",
      "Initial sd2: 13.146209629262469\n",
      "Opt # 18 (0.006804439676838065, 1440, 2183, 0)\n",
      "Optimized parameters:\n",
      "-0.8600289681902369 -2.7722822781161253e-05 24.637571320408775 -3.4801959822380404 3.7972968241401093 -1.5931615955824472 0.2997799514615055 0.04635093054140493\n",
      "Initial sd2: 6.169307369435651\n",
      "Opt # 19 (0.002781086398529288, 1088, 1658, 0)\n",
      "Optimized parameters:\n",
      "-0.8224835330119493 8.943765739866808e-06 19.8340385155005 -3.3514254704704483 3.180385366214092 -1.343341253586777 0.17465334686402478 0.06608383088056069\n",
      "Initial sd2: 14.736471421357564\n",
      "Opt # 20 (0.005301509106623902, 442, 726, 0)\n",
      "Optimized parameters:\n",
      "-0.726465960804817 -1.4967767383309743e-07 18.332065920794513 -2.614781400808937 3.440194352511109 -1.6857397957363944 0.479575344414223 -0.05064587259132941\n",
      "Initial sd2: 14.792908889642877\n",
      "Opt # 21 (0.0059025136174608965, 1050, 1613, 0)\n",
      "Optimized parameters:\n",
      "-0.7848675022088968 4.755547027097988e-06 17.791703359492303 -2.7238823107852053 3.3565163791279984 -1.6458233688424284 0.4060145463093625 -0.011768808635793049\n",
      "Initial sd2: 28.753903340379694\n",
      "Opt # 22 (28.753903340379694, 14, 139, 0)\n",
      "Optimized parameters:\n",
      "-0.6585523417317162 0.06396773110235124 15.90229221406883 -3.3223155702434104 3.054480713142779 -1.3988211798456265 0.25389451576872424 0.04347041150663516\n",
      "Initial sd2: 14.27274372370249\n",
      "Opt # 23 (0.004822876970000837, 483, 779, 0)\n",
      "Optimized parameters:\n",
      "-0.6307157357917077 9.361337261509175e-06 18.6057943355965 -3.4003859356085915 3.88645215581342 -1.9228158296686928 0.6435292704247505 -0.12349477206461928\n",
      "Initial sd2: 14.708756472919344\n",
      "Opt # 24 (0.006619015267255427, 1905, 2854, 0)\n",
      "Optimized parameters:\n",
      "-0.8278098873159689 -2.691226041034187e-05 24.590045630161484 -3.5205634794284943 3.8501227110564833 -1.6143609365384184 0.3292537419404217 0.028791731287859706\n",
      "Initial sd2: 29.35990252498151\n"
     ]
    },
    {
     "name": "stderr",
     "output_type": "stream",
     "text": [
      "//anaconda/envs/py36/lib/python3.6/site-packages/numpy/core/_methods.py:75: RuntimeWarning: overflow encountered in reduce\n",
      "  ret = umr_sum(arr, axis, dtype, out, keepdims)\n"
     ]
    },
    {
     "name": "stdout",
     "output_type": "stream",
     "text": [
      "Opt # 25 (0.01216889113871224, 833, 1290, 0)\n",
      "Optimized parameters:\n",
      "-0.7667263777058825 -2.693792828858353e-05 19.161238335283883 -1.8744923468386796 3.5917024537119033 -1.7285760228185625 0.4548874107100572 -0.02062197435628087\n",
      "Initial sd2: 28.753903340379694\n",
      "Opt # 26 (28.753903340379694, 15, 149, 0)\n",
      "Optimized parameters:\n",
      "-0.6005966617285077 0.03569305047746104 17.35236747198401 -3.15595780470133 3.177633815260248 -1.4523069813385694 0.4051973130363756 -0.07873277905694576\n",
      "Initial sd2: 28.753903340379694\n",
      "Opt # 27 (28.753903340379694, 15, 149, 0)\n",
      "Optimized parameters:\n",
      "-0.6304386447315125 0.05641431083650176 17.302216618018278 -3.2462460927508934 3.2137692910611664 -1.517219677744854 0.4540947569225935 -0.07634818333103534\n",
      "Initial sd2: 14.79881713724749\n",
      "Opt # 28 (0.009571325855834313, 1143, 1725, 0)\n",
      "Optimized parameters:\n",
      "-0.6521563888291936 -8.667977387586694e-05 32.308155676309575 -1.997706798805202 3.615304803909189 -1.2858772187959415 0.3963181270535324 -0.0500877624760373\n",
      "Initial sd2: 13.801923623453437\n",
      "Opt # 29 (0.004357026956690531, 1449, 2193, 0)\n",
      "Optimized parameters:\n",
      "-0.7781991041402063 2.1854838680039274e-05 18.271170677834935 -3.8270756730854796 3.5236596507481215 -1.622160701378958 0.3352295134341966 0.009139322852307234\n",
      "Initial sd2: 28.753903340379708\n",
      "Opt # 30 (28.753903340379708, 15, 149, 0)\n",
      "Optimized parameters:\n",
      "-0.7127475766906664 0.012080891629326782 18.53164780946766 -3.2230341159231086 3.1742704135765907 -1.4594660759130325 0.27397870858418627 -0.0585573942957002\n",
      "Initial sd2: 28.753903340379694\n",
      "Opt # 31 (28.753903340379694, 15, 149, 0)\n",
      "Optimized parameters:\n",
      "-0.7048434765765978 0.06269389769901322 18.446763929695923 -3.2483835176854328 3.16354534241306 -1.4782239009920624 0.36431476680481595 -0.10321174415149684\n",
      "Initial sd2: 28.753903340379708\n",
      "Opt # 32 (28.753903340379708, 15, 149, 0)\n",
      "Optimized parameters:\n",
      "-0.5945206198692403 0.014485534755589448 18.568637578657068 -3.1394584782821733 3.2358675670249206 -1.454776070509768 0.36011410424949464 -0.006819679911062439\n"
     ]
    }
   ],
   "source": [
    "optimal_parameters = []\n",
    "for i, pars in enumerate(multi_pars):\n",
    "    sd_ini = sd2_loss(list(pars), stats, target, utot_EAM)\n",
    "    print('Initial sd2:', sd_ini)\n",
    "    output = fmin(sd2_loss, list(pars), args=(stats, target, utot_EAM), maxiter=100000, maxfun=100000, disp=0, full_output=1,ftol=1e-6)\n",
    "    params_uopt = output[0]\n",
    "    print('Opt #', i, output[1:])\n",
    "    print(\"Optimized parameters:\")\n",
    "    print(*params_uopt)\n",
    "    optimal_parameters.append(tuple([output[1:], params_uopt]))"
   ]
  },
  {
   "cell_type": "code",
   "execution_count": 138,
   "metadata": {
    "collapsed": true
   },
   "outputs": [],
   "source": [
    "with open(os.path.join(working, 'output_many.pickle'), 'rb') as fi:\n",
    "    optimal_list = pickle.load(fi)\n",
    "\n",
    "if type(optimal_list) != list:\n",
    "    optimal_list = [optimal_list]\n",
    "\n",
    "optimal_list.append(optimal_parameters)\n",
    "\n",
    "with open(os.path.join(working, 'output_many.pickle'), 'wb') as fo:\n",
    "    pickle.dump(optimal_list, fo)"
   ]
  },
  {
   "cell_type": "code",
   "execution_count": 1077,
   "metadata": {},
   "outputs": [
    {
     "name": "stdout",
     "output_type": "stream",
     "text": [
      "6\n",
      "Targ: [-1139.2, -906.9778906249999, -1127.13044453125, -1136.3561554687499, -1136.7059554687498, -1190.21418828125]\n",
      "Model: [-1136.6031250033834, -907.5693915238007, -1126.4100781247969, -1135.5903501673224, -1135.2148383534213, -1193.8223889982519]\n",
      "[0.046875   0.05555556 0.04724409 0.04651163 0.04651163 0.04444444]\n",
      "0 0.001773337768822206\n",
      "1 0.0017733377688371682\n",
      "2 0.0017733377687110862\n",
      "19 0.002781086398529288\n"
     ]
    },
    {
     "data": {
      "text/plain": [
       "<matplotlib.legend.Legend at 0x164bab550>"
      ]
     },
     "execution_count": 1077,
     "metadata": {},
     "output_type": "execute_result"
    },
    {
     "data": {
      "image/png": "[encoded data removed]",
      "text/plain": [
       "<Figure size 1440x720 with 1 Axes>"
      ]
     },
     "metadata": {},
     "output_type": "display_data"
    }
   ],
   "source": [
    "plt.figure(figsize=(20,10))\n",
    "\n",
    "nat = np.array([len(x) for x in targ_dict['relax']['xyz']])[:-1]\n",
    "print(len(nat))\n",
    "\n",
    "for i, params_uopt in enumerate(optimal_parameters):\n",
    "\n",
    "    #print(params_uopt[1])\n",
    "\n",
    "    opti_out, targ_out = udif_print(params_uopt[1], stats, target, utot_EAM)\n",
    "    plt.title('Selected configurations at 0K')\n",
    "    if i == 0:\n",
    "        print('Targ:', targ_out[-2][:-1])\n",
    "        print('Model:', opti_out[-2][:-1])\n",
    "\n",
    "        #nat = np.array([len(x) for x in targ_dict['relax']['xyz']])\n",
    "        print(len(np.array(targ_out[-2][:-1]))/nat)\n",
    "        plt.plot(np.array(targ_out[-2][:-1])/nat, 'o', label='target'+str(i), markersize=10)\n",
    "        \n",
    "    if params_uopt[0][0] > 3e-3:\n",
    "        continue\n",
    "    #if i != 10 and i != 12:\n",
    "    #    continue\n",
    "    print(i, params_uopt[0][0])\n",
    "\n",
    "        \n",
    "    #print('Opti:', [o for o in opti_out[-1][:-1]])\n",
    "    plt.plot(np.array([o for o in opti_out[-2][:-1]])/nat, 'x--', label='optimized '+str(i))\n",
    "#    else:\n",
    "#        plt.plot([o for o in opti_out[-1][:-1]], 'x--', label='optimized '+str(i))\n",
    "#        plt.plot(targ_out[-1][:-1], 'o', markersize=10)\n",
    "\n",
    "plt.xticks([0, 1, 2, 3, 4, 5, 6], ['BCC','FCC', 'vacancy','110','111','liq','inf'])\n",
    "plt.ylabel('Energy [eV]')\n",
    "#plt.ylim(-1145, -1136)\n",
    "#plt.ylim(-8.905, -8.7533)\n",
    "#plt.ylim(-8.9, -8.35)\n",
    "#plt.xlim(0, 4)\n",
    "\n",
    "plt.legend()"
   ]
  },
  {
   "cell_type": "code",
   "execution_count": 1078,
   "metadata": {},
   "outputs": [
    {
     "name": "stdout",
     "output_type": "stream",
     "text": [
      "15\n",
      "Targ: [845.2656372627717, -271.80472210709036, -837.1711089986524, -1079.5267350307167, -1139.2, -1100.8887858645915, -1014.6561261471662, -909.2807161131147, -800.6633444635341, -697.0611202328876, -602.3043063713139, -517.742999456512, -443.4032853774631, -378.657941519064, -322.6037245559544]\n",
      "Model: [844.5897962562947, -283.09453955942195, -841.8398708655365, -1079.127592342516, -1136.6031250033834, -1105.5986705019855, -1022.9333919604725, -919.0602164008186, -809.5567157437055, -700.6815383802398, -598.3520167191967, -509.58655905830324, -439.36279657621776, -384.4857355853266, -339.9690648233429]\n",
      "[0.1171875 0.1171875 0.1171875 0.1171875 0.1171875 0.1171875 0.1171875\n",
      " 0.1171875 0.1171875 0.1171875 0.1171875 0.1171875 0.1171875 0.1171875\n",
      " 0.1171875]\n",
      "0 0.001773337768822206\n",
      "1 0.0017733377688371682\n",
      "2 0.0017733377687110862\n",
      "19 0.002781086398529288\n"
     ]
    },
    {
     "data": {
      "text/plain": [
       "<matplotlib.legend.Legend at 0x164edd160>"
      ]
     },
     "execution_count": 1078,
     "metadata": {},
     "output_type": "execute_result"
    },
    {
     "data": {
      "image/png": "[encoded data removed]",
      "text/plain": [
       "<Figure size 1440x720 with 1 Axes>"
      ]
     },
     "metadata": {},
     "output_type": "display_data"
    }
   ],
   "source": [
    "plt.figure(figsize=(20,10))\n",
    "\n",
    "nat = np.array([len(x) for x in targ_dict['eos']['xyz']])[1:]\n",
    "print(len(nat))\n",
    "\n",
    "for i, params_uopt in enumerate(optimal_parameters):\n",
    "\n",
    "    #print(params_uopt[1])\n",
    "\n",
    "    opti_out, targ_out = udif_print(params_uopt[1], stats, target, utot_EAM)\n",
    "    plt.title('Selected configurations at 0K')\n",
    "    if i == 0:\n",
    "        print('Targ:', targ_out[-1][1:])\n",
    "        print('Model:', opti_out[-1][1:])\n",
    "\n",
    "        #nat = np.array([len(x) for x in targ_dict['relax']['xyz']])\n",
    "        print(len(np.array(targ_out[-1][1:]))/nat)\n",
    "        plt.plot(reos, np.array(targ_out[-1][1:])/nat, 'o', label='target'+str(i), markersize=10)\n",
    "        \n",
    "    if params_uopt[0][0] > 3e-3:\n",
    "        continue\n",
    "    #if i != 10 and i != 12:\n",
    "    #    continue\n",
    "    print(i, params_uopt[0][0])\n",
    "\n",
    "        \n",
    "    #print('Opti:', [o for o in opti_out[-1][:-1]])\n",
    "    plt.plot(reos, np.array([o for o in opti_out[-1][1:]])/nat, 'x--', label='optimized '+str(i))\n",
    "#    else:\n",
    "#        plt.plot([o for o in opti_out[-1][:-1]], 'x--', label='optimized '+str(i))\n",
    "#        plt.plot(targ_out[-1][:-1], 'o', markersize=10)\n",
    "\n",
    "#plt.xticks([0, 1, 2, 3, 4, 5, 6], ['BCC','FCC', 'vacancy','110','111','liq','inf'])\n",
    "plt.ylabel('Energy [eV]')\n",
    "#plt.ylim(-1145, -1136)\n",
    "#plt.ylim(-8.905, -8.7533)\n",
    "#plt.ylim(-8.9, -8.35)\n",
    "#plt.xlim(0, 4)\n",
    "\n",
    "plt.legend()"
   ]
  },
  {
   "cell_type": "code",
   "execution_count": 1079,
   "metadata": {},
   "outputs": [
    {
     "name": "stdout",
     "output_type": "stream",
     "text": [
      "1138\n",
      "[8.890625 8.890625 8.890625 ... 8.890625 8.890625 8.890625]\n",
      "0 0.001773337768822206\n",
      "1 0.0017733377688371682\n",
      "2 0.0017733377687110862\n",
      "19 0.002781086398529288\n"
     ]
    },
    {
     "data": {
      "text/plain": [
       "<matplotlib.legend.Legend at 0x165204eb8>"
      ]
     },
     "execution_count": 1079,
     "metadata": {},
     "output_type": "execute_result"
    },
    {
     "data": {
      "image/png": "[encoded data removed]",
      "text/plain": [
       "<Figure size 1440x720 with 1 Axes>"
      ]
     },
     "metadata": {},
     "output_type": "display_data"
    }
   ],
   "source": [
    "plt.figure(figsize=(20,10))\n",
    "\n",
    "nat = np.array([len(x) for x in targ_dict['md']['xyz']])[:]\n",
    "print(len(nat))\n",
    "\n",
    "for i, params_uopt in enumerate(optimal_parameters):\n",
    "\n",
    "    #print(params_uopt[1])\n",
    "\n",
    "    opti_out, targ_out = udif_print(params_uopt[1], stats, target, utot_EAM)\n",
    "    plt.title('Selected configurations at 0K')\n",
    "    if i == 0:\n",
    "        #print('Targ:', targ_out[0][:])\n",
    "        #print('Model:', opti_out[0][:])\n",
    "\n",
    "        #nat = np.array([len(x) for x in targ_dict['relax']['xyz']])\n",
    "        print(len(np.array(targ_out[0][:]))/nat)\n",
    "        #plt.plot(np.array(targ_out[0][:])/nat, 'o', label='target'+str(i), markersize=10)\n",
    "        plt.plot(np.array(targ_out[0][:]), 'o', label='target'+str(i), markersize=10)\n",
    "\n",
    "        \n",
    "    if params_uopt[0][0] > 3e-3:\n",
    "        continue\n",
    "    #if i != 10 and i != 12:\n",
    "    #    continue\n",
    "    print(i, params_uopt[0][0])\n",
    "\n",
    "    #print('Opti:', [o for o in opti_out[-1][:-1]])\n",
    "    #plt.plot(np.array([o for o in opti_out[0][:]])/nat, 'x--', label='optimized '+str(i))\n",
    "    plt.plot(np.array([o for o in opti_out[0][:]]), 'x--', label='optimized '+str(i))\n",
    "\n",
    "#    else:\n",
    "#        plt.plot([o for o in opti_out[-1][:-1]], 'x--', label='optimized '+str(i))\n",
    "#        plt.plot(targ_out[-1][:-1], 'o', markersize=10)\n",
    "\n",
    "#plt.xticks([0, 1, 2, 3, 4, 5, 6], ['BCC','FCC', 'vacancy','110','111','liq','inf'])\n",
    "plt.ylabel('Energy [eV]')\n",
    "#plt.ylim(-1145, -1136)\n",
    "#plt.ylim(-8.905, -8.533)\n",
    "#plt.ylim(-8.9, -8.35)\n",
    "\n",
    "plt.ylim(-1180,-700)\n",
    "#plt.ylim(-1136,-1132)\n",
    "\n",
    "plt.legend()"
   ]
  },
  {
   "cell_type": "code",
   "execution_count": 1058,
   "metadata": {},
   "outputs": [
    {
     "name": "stdout",
     "output_type": "stream",
     "text": [
      "0 [-6.40391666e-01  4.55421839e-05  1.47597142e+01 -3.28933841e+00\n",
      "  3.00811255e+00 -1.45206949e+00  3.64506315e-01 -4.73044320e-02]\n",
      "1 [-6.40383091e-01  4.55427924e-05  1.47595424e+01 -3.28930960e+00\n",
      "  3.00811037e+00 -1.45207629e+00  3.64517558e-01 -4.73104164e-02]\n",
      "2 [-6.40386694e-01  4.55421623e-05  1.47596411e+01 -3.28930776e+00\n",
      "  3.00810593e+00 -1.45206836e+00  3.64510676e-01 -4.73073383e-02]\n",
      "4 [-5.92636997e-01  2.64079812e-05  2.10906412e+01 -4.11891483e+00\n",
      "  3.38241068e+00 -1.49240911e+00  4.62909384e-01 -9.68563942e-02]\n",
      "5 [-7.28927981e-01  3.93375442e-05  1.60109365e+01 -3.30756066e+00\n",
      "  2.84358144e+00 -1.27603251e+00  2.01829773e-01  2.57612645e-02]\n",
      "10 [-1.12641450e+00  5.15851031e-05  8.93552576e+00 -3.30710918e+00\n",
      "  3.03958631e+00 -1.56080871e+00 -1.87837515e-02  2.22241768e-01]\n",
      "13 [-6.23911810e-01 -3.48406749e-05  2.64704254e+01 -2.78828741e+00\n",
      "  3.43057170e+00 -1.32066599e+00  3.83506245e-01 -5.76844065e-02]\n",
      "14 [-8.17040221e-01 -7.02206859e-05  2.77007718e+01 -2.32155566e+00\n",
      "  3.89173479e+00 -1.57214230e+00  3.57579344e-01  2.15956097e-02]\n",
      "16 [-7.42087995e-01 -2.91069502e-05  2.30102654e+01 -2.43165013e+00\n",
      "  3.42405812e+00 -1.49160378e+00  3.91118539e-01 -2.20405424e-02]\n",
      "17 [-8.19975191e-01 -2.46776816e-05  1.97325666e+01 -1.84360697e+00\n",
      "  3.34351938e+00 -1.63016549e+00  4.04300398e-01  2.69520972e-03]\n",
      "19 [-9.29028704e-01  7.70749317e-05  5.96536976e+00 -3.11063910e+00\n",
      "  2.84523857e+00 -1.59707650e+00  1.36468373e-01  1.18237168e-01]\n",
      "20 [-6.44547047e-01  4.82064103e-05  1.48668025e+01 -2.93536384e+00\n",
      "  2.51718441e+00 -1.13907574e+00  2.13942916e-01 -8.32948485e-03]\n",
      "21 [-7.45916154e-01  3.08885905e-05  1.70496294e+01 -3.32108954e+00\n",
      "  2.96445187e+00 -1.31795507e+00  2.14785137e-01  2.83753805e-02]\n",
      "22 [-8.44270733e-01  7.45534949e-05  1.03021355e+01 -4.04003215e+00\n",
      "  3.09512667e+00 -1.61443809e+00  2.29492707e-01  5.93399251e-02]\n",
      "23 [-7.38395524e-01  5.29273562e-05  1.41405335e+01 -3.64828369e+00\n",
      "  3.00218548e+00 -1.45009934e+00  2.70254399e-01  1.03786652e-02]\n",
      "25 [-6.16214011e-01  6.26591289e-06  1.99170483e+01 -3.12063295e+00\n",
      "  3.46857797e+00 -1.59497754e+00  4.95023109e-01 -8.97969420e-02]\n",
      "27 [-8.01340191e-01 -4.44447460e-05  2.99658019e+01 -3.80064938e+00\n",
      "  3.64221953e+00 -1.21630627e+00  1.58903151e-01  6.22246561e-02]\n",
      "28 [-9.46894190e-01  5.58829890e-05  1.02202738e+01 -2.80665202e+00\n",
      "  2.64392052e+00 -1.42524614e+00  9.46729056e-02  1.29400036e-01]\n",
      "29 [-7.24839751e-01  5.61613865e-06  1.91766420e+01 -2.12995003e+00\n",
      "  2.50964859e+00 -1.03490714e+00  1.55887085e-01  3.21809133e-02]\n",
      "30 [-6.03080334e-01  3.94570874e-05  1.64207019e+01 -2.63585459e+00\n",
      "  2.28513061e+00 -9.04819980e-01  1.29458978e-01  1.38908477e-03]\n",
      "31 [-8.39905315e-01  8.54498652e-05  4.97941887e+00 -2.89462565e+00\n",
      "  2.68130648e+00 -1.57080126e+00  2.11034190e-01  6.55776956e-02]\n",
      "32 [-8.34608644e-01  2.21152220e-05  1.89314441e+01 -3.39584709e+00\n",
      "  2.81243532e+00 -1.11321074e+00  3.41745969e-02  1.06800282e-01]\n"
     ]
    }
   ],
   "source": [
    "for i, params_uopt in enumerate(optimal_parameters):\n",
    "    if params_uopt[0][0] > 1e0:\n",
    "        continue\n",
    "    print(i, params_uopt[1])\n"
   ]
  },
  {
   "cell_type": "code",
   "execution_count": 1059,
   "metadata": {
    "collapsed": true
   },
   "outputs": [],
   "source": [
    "# W parameters\n",
    "l = 0.274\n",
    "r_wse = 3.168\n",
    "r_wse = 1.584\n",
    "eta = 5.69\n",
    "dE = 8.9\n",
    "\n",
    "# equation of state. x is lattice expansion/compression parameter\n",
    "def eos(x):\n",
    "    a = (x - 1.0)*r_wse/l\n",
    "    ene = np.exp(-a)\n",
    "    ene *= -1.0 - a - 0.05*a**3\n",
    "    return dE*ene"
   ]
  },
  {
   "cell_type": "code",
   "execution_count": 1060,
   "metadata": {
    "collapsed": true
   },
   "outputs": [],
   "source": [
    "f_spline = lambda r, aa, kk: sum([a*(rk - r)**3 for a, rk in zip(aa, kk) if r < rk and r > 0.01])\n",
    "\n",
    "# electronic density function (cubic splines)\n",
    "#rho = lambda r, a, k: sum([c*(p - r)**3 for c, p in zip(a, k) if r < p])\n",
    "\n",
    "rho = f_spline\n",
    "\n",
    "# embedding function\n",
    "F = lambda d, a: a[0]*d**0.5 + a[1]*d + a[2]*d**2\n",
    "\n",
    "# pair potential function (same spline form as electronic density)\n",
    "V = rho\n",
    "\n",
    "V = lambda r, aa, cc: sum([a*(rc - r)**3 for a, rc in zip(aa, cc) if r < rc])\n",
    "\n",
    "# Embedding function. Parameters: electronic density (d), coefficients for 1/2, 1, and 2 powers of density\n",
    "F = lambda d, a: a[0]*d**0.5 + a[1]*d + a[2]*d**2\n",
    "\n",
    "# Cohesive potential (cubic splines - same form as V)\n",
    "phi = V"
   ]
  },
  {
   "cell_type": "code",
   "execution_count": 1061,
   "metadata": {},
   "outputs": [
    {
     "data": {
      "text/plain": [
       "(array([ 1.,  0.,  0.,  0.,  0.,  0.,  0.,  0.,  0.,  0.,  0.,  0.,  8.,\n",
       "         0.,  6.,  0.,  0.,  0.,  0.,  0., 12.,  0.,  0., 24.,  0.,  8.,\n",
       "         0.,  0.,  3.,  0.,  0., 24., 12.,  0.,  0., 12.,  0.,  8.,  0.,\n",
       "         0.,  3.,  0.,  0.,  6.,  0.,  0.,  0.,  0.,  0.,  1.]),\n",
       " array([ 0.        ,  0.22074804,  0.44149608,  0.66224412,  0.88299216,\n",
       "         1.1037402 ,  1.32448824,  1.54523628,  1.76598432,  1.98673236,\n",
       "         2.20748039,  2.42822843,  2.64897647,  2.86972451,  3.09047255,\n",
       "         3.31122059,  3.53196863,  3.75271667,  3.97346471,  4.19421275,\n",
       "         4.41496079,  4.63570883,  4.85645687,  5.07720491,  5.29795295,\n",
       "         5.51870099,  5.73944903,  5.96019707,  6.1809451 ,  6.40169314,\n",
       "         6.62244118,  6.84318922,  7.06393726,  7.2846853 ,  7.50543334,\n",
       "         7.72618138,  7.94692942,  8.16767746,  8.3884255 ,  8.60917354,\n",
       "         8.82992158,  9.05066962,  9.27141766,  9.4921657 ,  9.71291374,\n",
       "         9.93366178, 10.15440981, 10.37515785, 10.59590589, 10.81665393,\n",
       "        11.03740197]),\n",
       " <a list of 50 Patch objects>)"
      ]
     },
     "execution_count": 1061,
     "metadata": {},
     "output_type": "execute_result"
    },
    {
     "data": {
      "image/png": "[encoded data removed]",
      "text/plain": [
       "<Figure size 432x288 with 1 Axes>"
      ]
     },
     "metadata": {},
     "output_type": "display_data"
    }
   ],
   "source": [
    "from statmechlib.preprocessing import pair_dist_cutoff, force_targ\n",
    "# Total pair potential\n",
    "pos = targ_dict['relax']['xyz'][0]\n",
    "bx = targ_dict['relax']['box'][0]\n",
    "rr, rx = pair_dist_cutoff(pos, bx, 5.5)\n",
    "\n",
    "plt.hist(rr[0], 50)\n",
    "#r = np.linspace(0., rcut, 201)"
   ]
  },
  {
   "cell_type": "code",
   "execution_count": 1062,
   "metadata": {
    "collapsed": true
   },
   "outputs": [],
   "source": [
    "# embedding function\n",
    "F = lambda d, a: a[0]*d**0.5 + a[1]*d + a[2]*d**2\n",
    "\n",
    "V = lambda r, aa, cc: sum([a*(rc - r)**3 for a, rc in zip(aa, cc) if r < rc])\n",
    "\n",
    "# Cohesive potential (cubic splines - same form as V)\n",
    "phi = lambda r, aa, cc: sum([a*(rc - r)**3 for a, rc in zip(aa, cc) if r < rc])"
   ]
  },
  {
   "cell_type": "code",
   "execution_count": 1063,
   "metadata": {
    "collapsed": true
   },
   "outputs": [],
   "source": [
    "#optimal_parameters.append(tuple([output[1:], params_uopt]))\n",
    "pair_y = optimal_parameters[1][1][2:]\n",
    "par = optimal_parameters[1][1][:2]\n",
    "many_y = [par[0], 0.0, par[1]]"
   ]
  },
  {
   "cell_type": "code",
   "execution_count": 1064,
   "metadata": {
    "collapsed": true
   },
   "outputs": [],
   "source": [
    "#many_y = [multi_pars[0][0], 0.0, multi_pars[0][1]]\n",
    "#pair_y = multi_pars[0][2:]"
   ]
  },
  {
   "cell_type": "code",
   "execution_count": 1065,
   "metadata": {
    "collapsed": true
   },
   "outputs": [],
   "source": [
    "#V_x_r = [2.5, 2.75, 3.25, 3.75, 4.5, 5.5]\n",
    "V_x_r = stats_opt['hyperparams']\n",
    "rho_x_r = stats_opt['hyperparams'][-1:]\n",
    "rho_x_a = [1.0]"
   ]
  },
  {
   "cell_type": "code",
   "execution_count": 1066,
   "metadata": {},
   "outputs": [
    {
     "data": {
      "text/plain": [
       "([2.75, 3.25, 3.75, 4.356, 5.0, 5.5],\n",
       " [-0.6403830910889873, 0.0, 4.554279241792763e-05],\n",
       " array([14.75954237, -3.2893096 ,  3.00811037, -1.45207629,  0.36451756,\n",
       "        -0.04731042]))"
      ]
     },
     "execution_count": 1066,
     "metadata": {},
     "output_type": "execute_result"
    }
   ],
   "source": [
    "stats_opt['hyperparams'], many_y, pair_y"
   ]
  },
  {
   "cell_type": "code",
   "execution_count": 1067,
   "metadata": {},
   "outputs": [
    {
     "data": {
      "text/plain": [
       "([1.0],\n",
       " [5.5],\n",
       " [-0.6403830910889873, 0.0, 4.554279241792763e-05],\n",
       " [2.75, 3.25, 3.75, 4.356, 5.0, 5.5],\n",
       " array([14.75954237, -3.2893096 ,  3.00811037, -1.45207629,  0.36451756,\n",
       "        -0.04731042]))"
      ]
     },
     "execution_count": 1067,
     "metadata": {},
     "output_type": "execute_result"
    }
   ],
   "source": [
    "rho_x_a, rho_x_r, many_y, V_x_r, pair_y"
   ]
  },
  {
   "cell_type": "code",
   "execution_count": 1068,
   "metadata": {
    "collapsed": true
   },
   "outputs": [],
   "source": [
    "ene = []\n",
    "for a in np.linspace(0.5, 2.0, 101):\n",
    "    z = a*rr\n",
    "    u_pair = 0.5*np.sum([V(x, pair_y, V_x_r) for x in z.flatten() if x > 0.1])\n",
    "\n",
    "    u_many = 0.0\n",
    "    for i in range(z.shape[0]):\n",
    "        #print(z[i])\n",
    "        d = np.sum([phi(x, rho_x_a, rho_x_r) for x in z[i] if x > 0.1])\n",
    "        #print('d',a, d)\n",
    "        u_many += F(d, many_y)\n",
    "\n",
    "    ene.append([a, u_pair, u_many, u_pair+u_many])\n",
    "    #print(a, u_pair, u_many, u_pair + u_many)\n",
    "\n",
    "#print(ene)\n",
    "ene = np.array(ene)\n",
    "#ene2 = np.array(ene2)\n",
    "#ene"
   ]
  },
  {
   "cell_type": "code",
   "execution_count": 1069,
   "metadata": {},
   "outputs": [
    {
     "data": {
      "text/plain": [
       "Text(0,0.5,'U')"
      ]
     },
     "execution_count": 1069,
     "metadata": {},
     "output_type": "execute_result"
    },
    {
     "data": {
      "image/png": "[encoded data removed]",
      "text/plain": [
       "<Figure size 432x288 with 1 Axes>"
      ]
     },
     "metadata": {},
     "output_type": "display_data"
    }
   ],
   "source": [
    "#plt.plot(ene[:,0], ene[:,1]/54, label='pair')\n",
    "#plt.plot(ene[:,0], ene[:,2]/54, label='manybody')\n",
    "plt.title('Equation of state (T=0K)')\n",
    "plt.plot(ene[:,0]*2.74, [eos(x) for x in ene[:,0]], label='universal EOS')\n",
    "plt.plot(ene[:,0]*2.74, ene[:,3]/128, label='u-total')\n",
    "#plt.plot(ene2[:,0], ene2[:,3]/54, label='f-total')\n",
    "plt.hlines(0.0,0.5,6.0,lw=1)\n",
    "plt.legend()\n",
    "plt.xlim(2.0, 5.75)\n",
    "plt.ylim(-10,10)\n",
    "#plt.xlim(2.5, 3.0)\n",
    "#plt.ylim(-9,-8.8)\n",
    "\n",
    "plt.xlabel('x')\n",
    "plt.ylabel(r'U')"
   ]
  },
  {
   "cell_type": "code",
   "execution_count": 39,
   "metadata": {
    "collapsed": true
   },
   "outputs": [],
   "source": [
    "rho_a = [1.0]\n",
    "rho_r = [stats_opt['hyperparams'][-1]]\n",
    "\n",
    "pair_a = pars_in1[2:]\n",
    "pair_r = stats_opt['hyperparams']\n",
    "\n",
    "many_a = [pars_in[0], 0.0, pars_in[1]]"
   ]
  },
  {
   "cell_type": "code",
   "execution_count": 40,
   "metadata": {},
   "outputs": [
    {
     "name": "stdout",
     "output_type": "stream",
     "text": [
      "rhomax: 768.0\n"
     ]
    }
   ],
   "source": [
    "# Ranges of densities and separations\n",
    "\n",
    "nr = 5000\n",
    "rcut = stats_opt['hyperparams'][-1]\n",
    "dr = rcut/nr\n",
    "\n",
    "rhomax = 12.0*phi(1.5, rho_a, rho_r)\n",
    "print('rhomax:', rhomax)\n",
    "#rhomax = 1000.0\n",
    "nrho = 5000\n",
    "drho = rhomax/nrho\n",
    "\n",
    "ri = 1.0\n",
    "ro = 2.0\n",
    "\n",
    "# W properties\n",
    "na = 74\n",
    "ma = 183.84\n",
    "lc = 3.1653\n",
    "alat = 'bcc'\n",
    "\n",
    "# System composition\n",
    "n_el = 1\n",
    "el_name = ['W']"
   ]
  },
  {
   "cell_type": "code",
   "execution_count": 41,
   "metadata": {
    "collapsed": true
   },
   "outputs": [],
   "source": [
    "def u_trans(r, unucl, ueq, ri=1.0, ro=2.0):\n",
    "    \"\"\"Transition between the core and equillibrium potentials\"\"\"\n",
    "    if r < ri:\n",
    "        return unucl\n",
    "    elif r < ro:\n",
    "        x = (ro + ri - 2*r)/(ro - ri)\n",
    "        eta = 3/16*x**5 - 5/8*x**3 + 15/16*x + 1/2\n",
    "        return ueq + eta*(unucl - ueq)\n",
    "    else:\n",
    "        return ueq"
   ]
  },
  {
   "cell_type": "code",
   "execution_count": 42,
   "metadata": {
    "collapsed": true
   },
   "outputs": [],
   "source": [
    "from statmechlib.forcefields import u_core\n",
    "\n",
    "# prepare lists of values\n",
    "dens = np.linspace(0., rhomax-drho, nrho, endpoint=True)\n",
    "r = np.linspace(0., rcut-dr, nr, endpoint=True)\n",
    "r2 = np.linspace(0., rcut, 201)\n",
    "\n",
    "fembd = [F(d, many_a) for d in dens] # W\n",
    "edens = np.array([phi(x, rho_a, rho_r) for x in r])\n",
    "\n",
    "# 1. Cubic spline for r > r_o\n",
    "f_outer = [V(x, pair_a, pair_r) for i, x in enumerate(r)]\n",
    "# 2. Repulsive core for r < r_i (precalculate up to r_o)\n",
    "f_inner = [0.0] + [u_core(x) for x in r[1:]]\n",
    "# 3. Transition region for r_i < r < r_o\n",
    "fpair = [x*u_trans(x, f_inner[i], f_outer[i]) for i, x in enumerate(r)]\n",
    "#fpair = f_outer"
   ]
  },
  {
   "cell_type": "code",
   "execution_count": 708,
   "metadata": {
    "collapsed": true
   },
   "outputs": [],
   "source": [
    "# LAMMPS format\n",
    "pot_path = '../sim/potentials'\n",
    "\n",
    "with open(os.path.join(pot_path, 'W_lvnew.eam.fs'), 'w') as fo:\n",
    "    \n",
    "    # Comment section\n",
    "    fo.write('Comment 1\\n')\n",
    "    fo.write('Comment 2\\n')\n",
    "    fo.write('Comment 3\\n')\n",
    "    \n",
    "    # Number of elements\n",
    "    fo.write(f\"{n_el:5d} \")\n",
    "    for i in range(n_el):\n",
    "        fo.write(f\"{el_name[i]:2}\")\n",
    "    fo.write(\"\\n\")\n",
    "    \n",
    "    # number of grid points, step size, and cutoff\n",
    "    fo.write(f\"{nrho:5d}{drho:24.16e}{nr:5d}{dr:24.16e}{rcut:24.16e}\\n\")\n",
    "    \n",
    "    # atomic number, mass, lattice size, lattice type\n",
    "    fo.write(f\"{na:5d} {ma:14.4f} {lc:14.4f} {alat:10}\\n\")\n",
    "    \n",
    "    # Embeding function\n",
    "    for i in range(nrho//4):\n",
    "        fo.write(\"{0:20.12e}{1:20.12e}{2:20.12e}{3:20.12e}\\n\".format(*fembd[i*4:i*4+4]))\n",
    "    \n",
    "    # Electronic density\n",
    "    for i in range(nr//4):\n",
    "        fo.write(\"{0:20.12e}{1:20.12e}{2:20.12e}{3:20.12e}\\n\".format(*edens[i*4:i*4+4]))\n",
    "        \n",
    "    # Pair potential\n",
    "    for i in range(nr//4):\n",
    "        fo.write(\"{0:20.12e}{1:20.12e}{2:20.12e}{3:20.12e}\\n\".format(*fpair[i*4:i*4+4]))"
   ]
  },
  {
   "cell_type": "code",
   "execution_count": null,
   "metadata": {
    "collapsed": true
   },
   "outputs": [],
   "source": []
  }
 ],
 "metadata": {
  "kernelspec": {
   "display_name": "Python 3",
   "language": "python",
   "name": "python3"
  },
  "language_info": {
   "codemirror_mode": {
    "name": "ipython",
    "version": 3
   },
   "file_extension": ".py",
   "mimetype": "text/x-python",
   "name": "python",
   "nbconvert_exporter": "python",
   "pygments_lexer": "ipython3",
   "version": "3.6.1"
  }
 },
 "nbformat": 4,
 "nbformat_minor": 2
}
