{
 "cells": [
  {
   "cell_type": "code",
   "execution_count": 1,
   "metadata": {
    "collapsed": true
   },
   "outputs": [],
   "source": [
    "import os\n",
    "import sys\n",
    "import re\n",
    "import numpy as np\n",
    "%matplotlib inline\n",
    "import matplotlib.pyplot as plt\n",
    "import copy\n",
    "import pickle\n",
    "from scipy.optimize import fmin"
   ]
  },
  {
   "cell_type": "code",
   "execution_count": 2,
   "metadata": {
    "collapsed": true
   },
   "outputs": [],
   "source": [
    "%load_ext autoreload\n",
    "%autoreload 2"
   ]
  },
  {
   "cell_type": "code",
   "execution_count": 3,
   "metadata": {
    "collapsed": true
   },
   "outputs": [],
   "source": [
    "sys.path.append('../../statmechlib')\n",
    "from statmechlib.read_write import read_vasp\n",
    "from statmechlib.preprocessing import Trajectory, select_nodes, scale_configuration, pair_dist_cutoff\n",
    "from statmechlib.preprocessing import pair_dist, force_targ, get_stats_EAM, get_stats_EAM_pairdist\n",
    "from statmechlib.forcefields import sd2_loss, utot_EAM, ftot_EAM, udif_print, u_core\n",
    "from statmechlib.preprocessing import universal_eos"
   ]
  },
  {
   "cell_type": "code",
   "execution_count": 4,
   "metadata": {
    "collapsed": true
   },
   "outputs": [],
   "source": [
    "target_raw = '../data/target_raw'\n",
    "target_proc = '../data/target_processed'\n",
    "working = '../data/working'"
   ]
  },
  {
   "cell_type": "code",
   "execution_count": 21,
   "metadata": {
    "collapsed": true
   },
   "outputs": [],
   "source": [
    "n = int((1.45-0.85)/0.05 + 0.01)\n",
    "reos = np.linspace(0.85, 1.45, n+1)*2.74\n",
    "#for i, scale in enumerate(np.linspace(0.85, 1.45, 13)):\n",
    "#    print(round(reos[i], 3), universal_eos(scale, 'W'))"
   ]
  },
  {
   "cell_type": "code",
   "execution_count": 6,
   "metadata": {
    "collapsed": true
   },
   "outputs": [],
   "source": [
    "with open(os.path.join(working, 'stats_ready'+'.pickle'), 'rb') as fi:\n",
    "    stats_ready = pickle.load(fi)\n",
    "\n",
    "with open(os.path.join(working, 'target_ready'+'.pickle'), 'rb') as fi:\n",
    "    targ_ready = pickle.load(fi)   "
   ]
  },
  {
   "cell_type": "code",
   "execution_count": 7,
   "metadata": {},
   "outputs": [
    {
     "name": "stdout",
     "output_type": "stream",
     "text": [
      "[2.5, 2.65, 2.75, 3.0, 3.25, 3.5, 3.75, 4.0, 4.25, 4.356, 4.5, 4.75, 5.0, 5.25, 5.5, 5.75]\n"
     ]
    }
   ],
   "source": [
    "print(stats_ready['hyperparams'])"
   ]
  },
  {
   "cell_type": "code",
   "execution_count": 8,
   "metadata": {
    "collapsed": true
   },
   "outputs": [],
   "source": [
    "multi_index = []\n",
    "multi_index.append([0, 2, 3, 5, 7, 10, 12, 15])\n",
    "multi_index.append([0, 2, 4, 6, 8, 10, 12, 14])\n",
    "multi_index.append([0, 2, 4, 6, 8, 11, 13, 15])\n",
    "multi_index.append([1, 2, 3, 5, 7, 10, 12, 14])\n",
    "multi_index.append([1, 2, 4, 6, 8, 11, 13, 15])\n",
    "multi_index.append([1, 2, 4, 6, 9, 11, 13, 15])\n",
    "multi_index.append([1, 3, 5, 7, 9, 11, 13, 15])"
   ]
  },
  {
   "cell_type": "code",
   "execution_count": 9,
   "metadata": {},
   "outputs": [
    {
     "name": "stdout",
     "output_type": "stream",
     "text": [
      "[2.5  2.75 3.   3.5  4.   4.5  5.   5.75]\n",
      "[2.5  2.75 3.25 3.75 4.25 4.5  5.   5.5 ]\n",
      "[2.5  2.75 3.25 3.75 4.25 4.75 5.25 5.75]\n",
      "[2.65 2.75 3.   3.5  4.   4.5  5.   5.5 ]\n",
      "[2.65 2.75 3.25 3.75 4.25 4.75 5.25 5.75]\n",
      "[2.65  2.75  3.25  3.75  4.356 4.75  5.25  5.75 ]\n",
      "[2.65  3.    3.5   4.    4.356 4.75  5.25  5.75 ]\n"
     ]
    }
   ],
   "source": [
    "stats_opts = []\n",
    "for index in multi_index:\n",
    "    index = np.array([True if i in index else False for i in range(len(stats_ready['hyperparams']))])\n",
    "    print(np.array(stats_ready['hyperparams'])[index])\n",
    "    stats_opts.append(select_nodes(stats_ready, index))"
   ]
  },
  {
   "cell_type": "code",
   "execution_count": 10,
   "metadata": {
    "collapsed": true
   },
   "outputs": [],
   "source": [
    "#with open(os.path.join(working, \"stats_multi.pickle\"), 'wb') as fo:\n",
    "#    pickle.dump(stats_opts, fo)"
   ]
  },
  {
   "cell_type": "code",
   "execution_count": 11,
   "metadata": {
    "collapsed": true
   },
   "outputs": [],
   "source": [
    "#with open(os.path.join(working, \"target_multi.pickle\"), 'wb') as fo:\n",
    "#    pickle.dump(targ_ready, fo)"
   ]
  },
  {
   "cell_type": "code",
   "execution_count": 12,
   "metadata": {},
   "outputs": [
    {
     "name": "stdout",
     "output_type": "stream",
     "text": [
      "[-0.344540412587315, 1.6869558429105695e-05, 0.4527535290774057, 7.091857873610367, 1.6314949612839302, 0.7906877956550405, -0.8249673243680319, 0.14501087706040938, -0.002061634677032549, 0.0021894588902290147]\n"
     ]
    }
   ],
   "source": [
    "# read corresponding parameters\n",
    "with open(os.path.join(working, 'pars_in'+'.pickle'), 'rb') as fi:\n",
    "    pars_dict = pickle.load(fi)\n",
    "\n",
    "pars_in = pars_dict['embed'] + pars_dict['pair']\n",
    "print(pars_in)"
   ]
  },
  {
   "cell_type": "code",
   "execution_count": 13,
   "metadata": {
    "collapsed": true
   },
   "outputs": [],
   "source": [
    "with open(os.path.join(working, 'stats_multi.pickle'), 'rb') as fi:\n",
    "    stats_opts = pickle.load(fi)\n",
    "\n",
    "with open(os.path.join(working, 'target_multi.pickle'), 'rb') as fi:\n",
    "    targ_ready = pickle.load(fi)   "
   ]
  },
  {
   "cell_type": "code",
   "execution_count": 14,
   "metadata": {
    "collapsed": true
   },
   "outputs": [],
   "source": [
    "it = 2 # read in it (independent process)\n",
    "stats = []\n",
    "target = []\n",
    "for key in list(targ_ready.keys()):\n",
    "    stats.append(stats_opts[it][key])\n",
    "    target.append(targ_ready[key])"
   ]
  },
  {
   "cell_type": "code",
   "execution_count": 15,
   "metadata": {
    "collapsed": true
   },
   "outputs": [],
   "source": [
    "def optimize_EAM(target, stats, ieam, multi_pars, n_b=2):\n",
    "    \n",
    "    optimal_parameters = []\n",
    "    \n",
    "    for i, pars in enumerate(multi_pars):\n",
    "        sd_ini = sd2_loss(list(pars), stats, target, utot_EAM, None, [ieam])\n",
    "        print(i,' sd2: ini', sd_ini, end='')\n",
    "        output = fmin(sd2_loss, pars, args=(stats, target, utot_EAM, None, [ieam]), maxiter=100000, maxfun=100000, disp=0, full_output=1,ftol=1e-6)\n",
    "        optimal_parameters.append(tuple([output[1], output[0]]))\n",
    "        print('sd2: final', output[1])\n",
    "\n",
    "    n_best = min(n_b, len(optimal_parameters))\n",
    "                 \n",
    "    best_params = sorted(optimal_parameters)[:n_best]\n",
    "    \n",
    "    print('Best params:', best_params)\n",
    "\n",
    "    return best_params"
   ]
  },
  {
   "cell_type": "code",
   "execution_count": 16,
   "metadata": {},
   "outputs": [
    {
     "name": "stdout",
     "output_type": "stream",
     "text": [
      "[-0.4141044  -0.03951211  0.49088958  7.1488957   1.67706284  0.71038753\n",
      " -0.84090038  0.03646109 -0.0354178   0.12260251]\n",
      "[-3.80892060e-01  3.03555398e-03  5.46238137e-01  7.06723151e+00\n",
      "  1.74922040e+00  7.54957894e-01 -8.34986204e-01  1.96997165e-01\n",
      "  1.13314513e-01  6.68271643e-03]\n",
      "[-3.16451584e-01  4.66238420e-03  3.89279204e-01  7.13790474e+00\n",
      "  1.70691420e+00  8.43165438e-01 -7.98565738e-01  2.31543002e-01\n",
      "  4.08409293e-02  1.82000263e-02]\n",
      "[-0.32490021 -0.03578817  0.39090867  7.1678345   1.70147744  0.84543367\n",
      " -0.8272709   0.20010768 -0.07965459  0.07769506]\n"
     ]
    }
   ],
   "source": [
    "multi_pars = []\n",
    "multi_pars.append(pars_in)\n",
    "for _ in range(4):\n",
    "    pars = np.array(pars_in)\n",
    "    pars += np.random.standard_normal(pars.shape)*0.07\n",
    "    print(pars)\n",
    "    multi_pars.append(pars)"
   ]
  },
  {
   "cell_type": "code",
   "execution_count": 17,
   "metadata": {},
   "outputs": [
    {
     "name": "stdout",
     "output_type": "stream",
     "text": [
      "ieam: 4\n",
      "0  sd2: ini 12.748006702327558sd2: final 0.01016972076295386\n",
      "1  sd2: ini 19.71782631212136sd2: final 0.006215326210446043\n",
      "2  sd2: ini 21.277980590071614sd2: final 0.002304118969732464\n",
      "3  sd2: ini 21.24943489646291sd2: final 0.0013801301877890391\n",
      "4  sd2: ini 19.293967769876947sd2: final 0.002404935422724283\n",
      "Best params: [(0.0013801301877890391, array([ 1.16509820e-01,  1.90431940e-03, -1.77121531e+00,  8.18721008e+00,\n",
      "       -1.80741773e+00,  3.85543943e+00, -3.19491008e+00,  1.86833616e+00,\n",
      "       -4.92495627e-01, -5.86957882e-02])), (0.002304118969732464, array([ 4.76437691e-01,  2.61726017e-03, -4.79598247e+00,  2.58910642e+00,\n",
      "        9.53905299e-02,  2.32009500e+00, -2.78794500e+00,  2.29476313e+00,\n",
      "       -1.02733819e+00,  9.52627447e-02]))]\n",
      "0  sd2: ini 0.0013801301877890391sd2: final 0.00021277027512724194\n",
      "1  sd2: ini 0.002304118969732464sd2: final 0.0003582040423541045\n",
      "Best params: [(0.00021277027512724194, array([-1.41820012e+00,  9.85319393e-04,  7.22226563e+01,  5.98134086e+00,\n",
      "       -3.56604599e+00,  5.69504607e+00, -4.33045811e+00,  1.96659644e+00,\n",
      "       -3.64756959e-02, -1.98232504e-01])), (0.0003582040423541045, array([-1.17594688e+00,  1.49422152e-03,  1.46780120e+02, -4.07198235e+00,\n",
      "       -1.47599344e+00,  4.50728237e+00, -4.37413408e+00,  2.64857886e+00,\n",
      "       -5.96684828e-01, -5.50416874e-02]))]\n",
      "0  sd2: ini 0.00021277027512724194sd2: final 0.00021021331893194203\n",
      "1  sd2: ini 0.0003582040423541045sd2: final 0.00035005599898334195\n",
      "Best params: [(0.00021021331893194203, array([-1.50902963e+00,  8.50283599e-04,  6.12902352e+01,  7.79205039e+00,\n",
      "       -3.68207604e+00,  5.73695928e+00, -4.30172451e+00,  1.92766950e+00,\n",
      "       -5.72370177e-03, -2.04352703e-01])), (0.00035005599898334195, array([-1.27511470e+00,  1.41066291e-03,  1.40067021e+02, -3.42052304e+00,\n",
      "       -1.76515838e+00,  4.79944363e+00, -4.51587159e+00,  2.61934650e+00,\n",
      "       -5.14267370e-01, -8.03153139e-02]))]\n",
      "0  sd2: ini 0.00021021331893194203sd2: final 0.00020783430192183682\n",
      "1  sd2: ini 0.00035005599898334195sd2: final 0.00018109857577425017\n",
      "Best params: [(0.00018109857577425017, array([-1.57793745e+00,  6.41419221e-04,  1.91484796e+01,  1.30254166e+01,\n",
      "       -5.17179850e+00,  6.62539169e+00, -4.31839733e+00,  1.44829047e+00,\n",
      "        3.93995176e-01, -3.09261426e-01])), (0.00020783430192183682, array([-1.42515196e+00,  9.64939552e-04,  6.82604329e+01,  6.49561856e+00,\n",
      "       -3.67622143e+00,  5.74911616e+00, -4.31779832e+00,  1.92509001e+00,\n",
      "       -7.24663336e-03, -2.05258588e-01]))]\n",
      "0  sd2: ini 0.00018109857577425017sd2: final 0.0001803387241330936\n",
      "1  sd2: ini 0.00020783430192183682sd2: final 0.00020745398520172675\n",
      "Best params: [(0.0001803387241330936, array([-1.56897886e+00,  6.31924249e-04,  1.67573416e+01,  1.34292024e+01,\n",
      "       -5.18491326e+00,  6.59293428e+00, -4.27173174e+00,  1.42428449e+00,\n",
      "        3.96037682e-01, -3.08253525e-01])), (0.00020745398520172675, array([-1.41636506e+00,  9.60735827e-04,  6.72462611e+01,  6.71468640e+00,\n",
      "       -3.66375941e+00,  5.71242032e+00, -4.28388132e+00,  1.91516292e+00,\n",
      "       -1.17289811e-02, -2.03070776e-01]))]\n",
      "0  sd2: ini 0.0001803387241330936sd2: final 0.00018033868507831335\n",
      "1  sd2: ini 0.00020745398520172675sd2: final 0.00019576799104110217\n",
      "Best params: [(0.00018033868507831335, array([-1.56886894e+00,  6.31818257e-04,  1.67505185e+01,  1.34306595e+01,\n",
      "       -5.18481969e+00,  6.59294856e+00, -4.27175607e+00,  1.42431622e+00,\n",
      "        3.96026150e-01, -3.08256689e-01])), (0.00019576799104110217, array([-1.45466105e+00,  7.85742525e-04,  4.11007607e+01,  1.06049385e+01,\n",
      "       -4.22590235e+00,  5.91657134e+00, -4.13621441e+00,  1.67583026e+00,\n",
      "        1.34932349e-01, -2.36416995e-01]))]\n",
      "ieam: 5\n",
      "0  sd2: ini 1.7633024464039782sd2: final 0.0006192142748060814\n",
      "1  sd2: ini 0.25234774189650333sd2: final 0.00015002494616579934\n",
      "Best params: [(0.00015002494616579934, array([-9.02148206e-01,  2.51044971e-04,  4.45849960e+01,  1.05083457e+01,\n",
      "       -4.06821879e+00,  5.40222187e+00, -3.65046048e+00,  1.25012547e+00,\n",
      "        1.33835466e-01, -1.69363151e-01])), (0.0006192142748060814, array([-6.14937045e-01,  5.15134158e-04,  2.56058088e+01,  5.73832129e+00,\n",
      "       -6.64246527e+00,  6.88783233e+00, -3.87807501e+00,  5.38577382e-01,\n",
      "        7.44635294e-01, -3.50350594e-01]))]\n",
      "0  sd2: ini 0.00015002494616579934sd2: final 0.00014552251068061762\n",
      "1  sd2: ini 0.0006192142748060814sd2: final 0.00023732823487220955\n",
      "Best params: [(0.00014552251068061762, array([-9.37846526e-01,  2.23806592e-04,  2.44401935e+01,  1.25740547e+01,\n",
      "       -4.06049358e+00,  5.36794010e+00, -3.60683279e+00,  1.22992307e+00,\n",
      "        1.38227514e-01, -1.66900433e-01])), (0.00023732823487220955, array([-1.12555559e+00,  1.10399327e-04, -5.16533699e+01,  2.23781498e+01,\n",
      "       -6.52227314e+00,  6.65135980e+00, -3.46419704e+00,  3.55638709e-01,\n",
      "        8.02911308e-01, -3.24735428e-01]))]\n",
      "0  sd2: ini 0.00014552251068061762sd2: final 0.00014535286618277737\n",
      "1  sd2: ini 0.00023732823487220955sd2: final 0.00023719110563490494\n",
      "Best params: [(0.00014535286618277737, array([-9.35230650e-01,  2.24000711e-04,  2.38952025e+01,  1.26873432e+01,\n",
      "       -4.06405862e+00,  5.35097211e+00, -3.58742465e+00,  1.22205901e+00,\n",
      "        1.37861395e-01, -1.66336198e-01])), (0.00023719110563490494, array([-1.12540326e+00,  1.06539704e-04, -5.26115303e+01,  2.25710017e+01,\n",
      "       -6.51561380e+00,  6.64567817e+00, -3.45926520e+00,  3.56543882e-01,\n",
      "        8.01789051e-01, -3.24566570e-01]))]\n",
      "0  sd2: ini 0.00014535286618277737sd2: final 0.00014535286618227157\n",
      "1  sd2: ini 0.00023719110563490494sd2: final 0.00020897401085674406\n",
      "Best params: [(0.00014535286618227157, array([-9.35230634e-01,  2.24000783e-04,  2.38951536e+01,  1.26873449e+01,\n",
      "       -4.06405880e+00,  5.35097207e+00, -3.58742466e+00,  1.22205900e+00,\n",
      "        1.37861395e-01, -1.66336198e-01])), (0.00020897401085674406, array([-8.13503932e-01,  2.43943693e-04, -2.73829928e+00,  1.51479872e+01,\n",
      "       -5.69181489e+00,  6.38008659e+00, -3.68294567e+00,  7.37507158e-01,\n",
      "        5.64583308e-01, -2.91024662e-01]))]\n",
      "0  sd2: ini 0.00014535286618227157sd2: final 0.00014535286618227157\n",
      "1  sd2: ini 0.00020897401085674406sd2: final 0.00019754661853111453\n",
      "Best params: [(0.00014535286618227157, array([-9.35230634e-01,  2.24000783e-04,  2.38951536e+01,  1.26873449e+01,\n",
      "       -4.06405880e+00,  5.35097207e+00, -3.58742466e+00,  1.22205900e+00,\n",
      "        1.37861395e-01, -1.66336198e-01])), (0.00019754661853111453, array([-9.45583616e-01,  2.07472323e-04, -7.67695225e+00,  1.58728545e+01,\n",
      "       -5.65174470e+00,  6.38810538e+00, -3.72404981e+00,  7.53216752e-01,\n",
      "        5.65921695e-01, -2.83170317e-01]))]\n",
      "0  sd2: ini 0.00014535286618227157sd2: final 0.00014535286618227157\n",
      "1  sd2: ini 0.00019754661853111453sd2: final 0.00016819593559210723\n",
      "Best params: [(0.00014535286618227157, array([-9.35230634e-01,  2.24000783e-04,  2.38951536e+01,  1.26873449e+01,\n",
      "       -4.06405880e+00,  5.35097207e+00, -3.58742466e+00,  1.22205900e+00,\n",
      "        1.37861395e-01, -1.66336198e-01])), (0.00016819593559210723, array([-1.09893093e+00,  1.36473204e-04, -2.20373207e+01,  1.90182347e+01,\n",
      "       -5.23964905e+00,  5.87255794e+00, -3.41962577e+00,  7.60277252e-01,\n",
      "        4.57928270e-01, -2.33913867e-01]))]\n",
      "ieam: 6\n",
      "0  sd2: ini 5.149586061377587sd2: final 0.00035529223991826863\n",
      "1  sd2: ini 1.1617812579446405sd2: final 0.0008213116596016755\n",
      "Best params: [(0.00035529223991826863, array([-2.52857880e-03,  1.44943303e-04,  3.73760850e+01,  4.96780037e+00,\n",
      "       -4.42341455e+00,  6.22726513e+00, -4.20430060e+00,  1.44034748e+00,\n",
      "        1.39327353e-01, -2.52052024e-01])), (0.0008213116596016755, array([-4.60768570e-01,  7.63397372e-05, -4.89364227e+01,  1.35258840e+01,\n",
      "       -4.48566596e+00,  6.38085444e+00, -4.13207274e+00,  1.09573321e+00,\n",
      "        3.31566653e-01, -2.28651310e-01]))]\n",
      "0  sd2: ini 0.00035529223991826863sd2: final 0.0002291349071043658\n",
      "1  sd2: ini 0.0008213116596016755sd2: final 0.00014587955861265154\n",
      "Best params: [(0.00014587955861265154, array([-7.12065372e-01,  5.18459547e-05, -1.08304019e+01,  1.73182326e+01,\n",
      "       -4.26200858e+00,  4.74182766e+00, -2.57787490e+00,  4.76410804e-01,\n",
      "        2.39988415e-01, -1.10430754e-01])), (0.0002291349071043658, array([-1.30177044e-01,  1.48496178e-04,  1.05004385e+02, -1.87538818e+00,\n",
      "       -2.59870805e+00,  4.96528791e+00, -3.97442873e+00,  1.88619946e+00,\n",
      "       -3.39711312e-01, -9.56292514e-02]))]\n"
     ]
    },
    {
     "name": "stdout",
     "output_type": "stream",
     "text": [
      "0  sd2: ini 0.00014587955861265154sd2: final 0.00013598010732754137\n",
      "1  sd2: ini 0.0002291349071043658sd2: final 0.00022819478861719003\n",
      "Best params: [(0.00013598010732754137, array([-5.66570226e-01,  7.63308312e-05,  1.72633428e+01,  1.25722291e+01,\n",
      "       -3.89309933e+00,  4.82330223e+00, -2.92638465e+00,  8.12711142e-01,\n",
      "        1.07014368e-01, -1.09663816e-01])), (0.00022819478861719003, array([-1.48103630e-01,  1.47038896e-04,  1.04944103e+02, -1.91388066e+00,\n",
      "       -2.57858541e+00,  4.96557990e+00, -3.98158721e+00,  1.88333164e+00,\n",
      "       -3.38988238e-01, -9.29454552e-02]))]\n",
      "0  sd2: ini 0.00013598010732754137sd2: final 0.00012806275781989296\n",
      "1  sd2: ini 0.00022819478861719003sd2: final 0.00022571630986968424\n",
      "Best params: [(0.00012806275781989296, array([-6.39414579e-01,  6.61908631e-05,  1.90688614e+01,  1.32127835e+01,\n",
      "       -3.33852259e+00,  4.34658398e+00, -2.73850133e+00,  8.82357849e-01,\n",
      "       -2.38155880e-02, -5.77138789e-02])), (0.00022571630986968424, array([-1.71317295e-01,  1.43857797e-04,  1.07642942e+02, -1.82828854e+00,\n",
      "       -2.27592818e+00,  4.71172340e+00, -3.89265821e+00,  1.93768798e+00,\n",
      "       -4.16101398e-01, -6.62693025e-02]))]\n",
      "0  sd2: ini 0.00012806275781989296sd2: final 0.0001280627450367734\n",
      "1  sd2: ini 0.00022571630986968424sd2: final 0.00019530163816135177\n",
      "Best params: [(0.0001280627450367734, array([-6.39402017e-01,  6.61831880e-05,  1.90641033e+01,  1.32141694e+01,\n",
      "       -3.33851895e+00,  4.34655867e+00, -2.73846126e+00,  8.82359236e-01,\n",
      "       -2.38144698e-02, -5.77176596e-02])), (0.00019530163816135177, array([-4.21426813e-01,  1.06192733e-04,  8.78683378e+01,  3.08270577e+00,\n",
      "       -1.63784469e+00,  3.84741689e+00, -3.29828149e+00,  1.77896919e+00,\n",
      "       -5.26428856e-01,  2.14963271e-02]))]\n",
      "0  sd2: ini 0.0001280627450367734sd2: final 0.00012806269936489886\n",
      "1  sd2: ini 0.00019530163816135177sd2: final 0.00016484952200173405\n",
      "Best params: [(0.00012806269936489886, array([-6.39351303e-01,  6.61934998e-05,  1.90733695e+01,  1.32120778e+01,\n",
      "       -3.33850583e+00,  4.34661834e+00, -2.73849598e+00,  8.82379163e-01,\n",
      "       -2.38332795e-02, -5.77168530e-02])), (0.00016484952200173405, array([-3.44625674e-01,  1.15322235e-04,  7.16139597e+01,  3.94389507e+00,\n",
      "       -2.87364447e+00,  4.72702771e+00, -3.50056813e+00,  1.49204170e+00,\n",
      "       -2.15190616e-01, -7.87224336e-02]))]\n",
      "ieam: 7\n",
      "0  sd2: ini 7.674235682840983sd2: final 0.00020111210252767283\n",
      "1  sd2: ini 19.746457435446082sd2: final 0.0003520415727823308\n",
      "Best params: [(0.00020111210252767283, array([-1.62721743e-01,  4.11062085e-05,  1.08184555e+02,  5.86566333e-01,\n",
      "       -3.42019574e+00,  4.85147292e+00, -3.17853215e+00,  1.09895540e+00,\n",
      "       -5.56451596e-03, -1.39737334e-01])), (0.0003520415727823308, array([ 5.68786528e-02,  4.80831773e-05,  4.39668414e+01,  3.93439940e+00,\n",
      "       -5.02408053e+00,  6.38452359e+00, -3.90672052e+00,  1.03144941e+00,\n",
      "        4.13401900e-01, -3.37430219e-01]))]\n",
      "0  sd2: ini 0.00020111210252767283sd2: final 0.00012013921071913684\n",
      "1  sd2: ini 0.0003520415727823308sd2: final 0.0003317200203341481\n",
      "Best params: [(0.00012013921071913684, array([-4.46516612e-01,  2.20496959e-05,  3.31075608e+01,  1.21322347e+01,\n",
      "       -2.64700139e+00,  3.43141725e+00, -2.01434845e+00,  6.84609376e-01,\n",
      "       -1.97819362e-01,  3.06871826e-02])), (0.0003317200203341481, array([ 5.14629029e-02,  5.09832087e-05,  6.96697192e+01,  6.20442017e-01,\n",
      "       -5.02054692e+00,  6.42182580e+00, -3.95000412e+00,  1.03231867e+00,\n",
      "        4.14318105e-01, -3.36221602e-01]))]\n",
      "0  sd2: ini 0.00012013921071913684sd2: final 0.00012013495811668949\n",
      "1  sd2: ini 0.0003317200203341481sd2: final 0.0001381354079645624\n",
      "Best params: [(0.00012013495811668949, array([-4.47041262e-01,  2.20271876e-05,  3.31571466e+01,  1.21231412e+01,\n",
      "       -2.64579290e+00,  3.43233618e+00, -2.01552678e+00,  6.84882222e-01,\n",
      "       -1.97910348e-01,  3.08280317e-02])), (0.0001381354079645624, array([-2.98510495e-01,  3.19667406e-05,  7.51312640e+01,  5.20488501e+00,\n",
      "       -1.95143785e+00,  3.51780802e+00, -2.58413096e+00,  1.24164546e+00,\n",
      "       -3.84607758e-01,  1.85158729e-02]))]\n",
      "0  sd2: ini 0.00012013495811668949sd2: final 0.00012012388335169193\n",
      "1  sd2: ini 0.0001381354079645624sd2: final 0.00012909831368581998\n",
      "Best params: [(0.00012012388335169193, array([-4.45661117e-01,  2.20988416e-05,  3.32236333e+01,  1.21115154e+01,\n",
      "       -2.64655980e+00,  3.43207662e+00, -2.01561502e+00,  6.85903463e-01,\n",
      "       -1.98086982e-01,  3.04828705e-02])), (0.00012909831368581998, array([-4.19441631e-01,  2.45370786e-05,  5.93429796e+01,  8.80976385e+00,\n",
      "       -1.67624458e+00,  2.96594558e+00, -2.11644657e+00,  1.06059574e+00,\n",
      "       -4.53818876e-01,  8.66154381e-02]))]\n",
      "0  sd2: ini 0.00012012388335169193sd2: final 0.00012011074850199746\n",
      "1  sd2: ini 0.00012909831368581998sd2: final 0.00012722712780226253\n",
      "Best params: [(0.00012011074850199746, array([-4.46748712e-01,  2.20438441e-05,  3.32238073e+01,  1.21092795e+01,\n",
      "       -2.64380949e+00,  3.43271634e+00, -2.01711162e+00,  6.86293991e-01,\n",
      "       -1.98384507e-01,  3.08214216e-02])), (0.00012722712780226253, array([-3.73988328e-01,  2.72473535e-05,  6.23563235e+01,  7.75488959e+00,\n",
      "       -1.92022911e+00,  3.25870967e+00, -2.29762248e+00,  1.08451589e+00,\n",
      "       -3.90495476e-01,  5.10990286e-02]))]\n",
      "0  sd2: ini 0.00012011074850199746sd2: final 0.00012006919081731452\n",
      "1  sd2: ini 0.00012722712780226253sd2: final 0.00012569828239617046\n",
      "Best params: [(0.00012006919081731452, array([-4.44842384e-01,  2.21455097e-05,  3.33963127e+01,  1.20965190e+01,\n",
      "       -2.63981811e+00,  3.42637287e+00, -2.01448436e+00,  6.88574994e-01,\n",
      "       -2.00181569e-01,  3.08184020e-02])), (0.00012569828239617046, array([-3.91994883e-01,  2.57348610e-05,  5.69798981e+01,  8.87228110e+00,\n",
      "       -1.93531760e+00,  3.15818933e+00, -2.17732235e+00,  1.02344771e+00,\n",
      "       -3.89427866e-01,  5.97160880e-02]))]\n"
     ]
    }
   ],
   "source": [
    "for ieam in range(4, len(stats_opts[it]['hyperparams'])):\n",
    "    print('ieam:', ieam)\n",
    "    for i in range(6):\n",
    "        best_pars = optimize_EAM(target, stats, ieam, multi_pars)\n",
    "        multi_pars = [p[1] for p in best_pars]"
   ]
  },
  {
   "cell_type": "code",
   "execution_count": 88,
   "metadata": {},
   "outputs": [
    {
     "data": {
      "text/plain": [
       "[array([-2.46692536e+00, -7.07645876e-04, -1.92990197e+02,  5.43710332e+01,\n",
       "        -1.17019464e+01,  1.26314518e+00,  3.72747439e+00, -4.17045991e+00,\n",
       "         2.46942853e+00, -4.39168938e-01]),\n",
       " array([-1.39247738e+00,  1.45832318e-03, -1.22829256e+02,  3.89427039e+01,\n",
       "        -7.01985954e+00, -4.45624270e-01,  3.84825703e+00, -3.54791628e+00,\n",
       "         1.89469535e+00, -3.48857885e-01])]"
      ]
     },
     "execution_count": 88,
     "metadata": {},
     "output_type": "execute_result"
    }
   ],
   "source": [
    "multi_pars"
   ]
  },
  {
   "cell_type": "code",
   "execution_count": 18,
   "metadata": {
    "collapsed": true
   },
   "outputs": [],
   "source": [
    "optimal_parameters = [(0.00012006919081731452, [-4.44842384e-01,  2.21455097e-05,  3.33963127e+01,  1.20965190e+01,\n",
    "       -2.63981811e+00,  3.42637287e+00, -2.01448436e+00,  6.88574994e-01,\n",
    "       -2.00181569e-01,  3.08184020e-02])]"
   ]
  },
  {
   "cell_type": "code",
   "execution_count": 24,
   "metadata": {},
   "outputs": [
    {
     "name": "stdout",
     "output_type": "stream",
     "text": [
      "5\n",
      "Targ: [-1139.2, -906.9778906249999, -1127.13044453125, -1136.3561554687499, -1136.7059554687498]\n",
      "Model: [-1138.7468642450626, -907.0057314831845, -1127.4685021129915, -1137.0727469492165, -1136.0732989780167]\n",
      "[0.0390625  0.0462963  0.03937008 0.03875969 0.03875969]\n",
      "0 0.00012006919081731452\n"
     ]
    },
    {
     "data": {
      "text/plain": [
       "<matplotlib.legend.Legend at 0x185fe9160>"
      ]
     },
     "execution_count": 24,
     "metadata": {},
     "output_type": "execute_result"
    },
    {
     "data": {
      "image/png": "[encoded data removed]",
      "text/plain": [
       "<Figure size 1440x720 with 1 Axes>"
      ]
     },
     "metadata": {},
     "output_type": "display_data"
    }
   ],
   "source": [
    "plt.figure(figsize=(20,10))\n",
    "\n",
    "nat = np.array([len(x) for x in targ_ready['relax']['xyz']])[:-2]\n",
    "print(len(nat))\n",
    "\n",
    "for i, params_uopt in enumerate(optimal_parameters):\n",
    "\n",
    "    #print(params_uopt[1])\n",
    "\n",
    "    opti_out, targ_out = udif_print(params_uopt[1], stats, target, utot_EAM, [7])\n",
    "    plt.title('Selected configurations at 0K')\n",
    "    if i == 0:\n",
    "        print('Targ:', targ_out[-2][:-2])\n",
    "        print('Model:', opti_out[-2][:-2])\n",
    "\n",
    "        #nat = np.array([len(x) for x in targ_dict['relax']['xyz']])\n",
    "        print(len(np.array(targ_out[-2][:-2]))/nat)\n",
    "        plt.plot(np.array(targ_out[-2][:-2])/nat, 'o', label='target'+str(i), markersize=10)\n",
    "        \n",
    "    if params_uopt[0] > 0.6e-3:\n",
    "        continue\n",
    "    #if i != 10 and i != 12:\n",
    "    #    continue\n",
    "    print(i, params_uopt[0])\n",
    "\n",
    "        \n",
    "    #print('Opti:', [o for o in opti_out[-1][:-1]])\n",
    "    plt.plot(np.array([o for o in opti_out[-2][:-2]])/nat, 'x--', label='optimized '+str(i))\n",
    "#    else:\n",
    "#        plt.plot([o for o in opti_out[-1][:-1]], 'x--', label='optimized '+str(i))\n",
    "#        plt.plot(targ_out[-1][:-1], 'o', markersize=10)\n",
    "\n",
    "plt.xticks([0, 1, 2, 3, 4, 5, 6], ['BCC','FCC', 'vacancy','110','111','liq','inf'])\n",
    "plt.ylabel('Energy [eV]')\n",
    "#plt.ylim(-1145, -1136)\n",
    "#plt.ylim(-8.905, -8.7533)\n",
    "#plt.ylim(-8.9, -8.35)\n",
    "#plt.xlim(0, 4)\n",
    "\n",
    "plt.legend()"
   ]
  },
  {
   "cell_type": "code",
   "execution_count": 23,
   "metadata": {},
   "outputs": [
    {
     "name": "stdout",
     "output_type": "stream",
     "text": [
      "13\n",
      "Targ: [-271.8047221070888, -837.1711089986524, -1079.5267350307165, -1139.2, -1100.8887858645915, -1014.6561261471663, -909.2807161131147, -800.6633444635341, -697.0611202328876, -602.3043063713144, -517.7429994565125, -443.4032853774631, -378.657941519064]\n",
      "Model: [-272.9259128164474, -834.7322327139491, -1081.8052966888795, -1138.7468642450626, -1097.0395644018768, -1014.5119358659786, -914.699514699419, -807.3575845785504, -701.0378021630931, -601.0910945413891, -511.3597181674677, -439.3543436810054, -385.56672675354986]\n",
      "[0.1015625 0.1015625 0.1015625 0.1015625 0.1015625 0.1015625 0.1015625\n",
      " 0.1015625 0.1015625 0.1015625 0.1015625 0.1015625 0.1015625]\n",
      "0 0.00012006919081731452\n"
     ]
    },
    {
     "data": {
      "text/plain": [
       "<matplotlib.legend.Legend at 0x1673d4080>"
      ]
     },
     "execution_count": 23,
     "metadata": {},
     "output_type": "execute_result"
    },
    {
     "data": {
      "image/png": "[encoded data removed]",
      "text/plain": [
       "<Figure size 1440x720 with 1 Axes>"
      ]
     },
     "metadata": {},
     "output_type": "display_data"
    }
   ],
   "source": [
    "plt.figure(figsize=(20,10))\n",
    "\n",
    "nat = np.array([len(x) for x in targ_ready['eos']['xyz']])[1:]\n",
    "print(len(nat))\n",
    "\n",
    "for i, params_uopt in enumerate(optimal_parameters):\n",
    "\n",
    "    #print(params_uopt[1])\n",
    "\n",
    "    opti_out, targ_out = udif_print(params_uopt[1], stats, target, utot_EAM, [7])\n",
    "    plt.title('Selected configurations at 0K')\n",
    "    if i == 0:\n",
    "        print('Targ:', targ_out[-1][1:])\n",
    "        print('Model:', opti_out[-1][1:])\n",
    "\n",
    "        #nat = np.array([len(x) for x in targ_dict['relax']['xyz']])\n",
    "        print(len(np.array(targ_out[-1][1:]))/nat)\n",
    "        plt.plot(reos, np.array(targ_out[-1][1:])/nat, 'o', label='target'+str(i), markersize=10)\n",
    "        \n",
    "    if params_uopt[0] > 0.6e-3:\n",
    "        continue\n",
    "    #if i != 10 and i != 12:\n",
    "    #    continue\n",
    "    print(i, params_uopt[0])\n",
    "\n",
    "        \n",
    "    #print('Opti:', [o for o in opti_out[-1][:-1]])\n",
    "    plt.plot(reos, np.array([o for o in opti_out[-1][1:]])/nat, 'x--', label='optimized '+str(i))\n",
    "#    else:\n",
    "#        plt.plot([o for o in opti_out[-1][:-1]], 'x--', label='optimized '+str(i))\n",
    "#        plt.plot(targ_out[-1][:-1], 'o', markersize=10)\n",
    "\n",
    "#plt.xticks([0, 1, 2, 3, 4, 5, 6], ['BCC','FCC', 'vacancy','110','111','liq','inf'])\n",
    "plt.ylabel('Energy [eV]')\n",
    "#plt.ylim(-1145, -1136)\n",
    "#plt.ylim(-8.905, -8.7533)\n",
    "#plt.ylim(-8.9, -8.35)\n",
    "#plt.xlim(0, 4)\n",
    "\n",
    "plt.legend()"
   ]
  },
  {
   "cell_type": "code",
   "execution_count": 25,
   "metadata": {},
   "outputs": [
    {
     "name": "stdout",
     "output_type": "stream",
     "text": [
      "1138\n",
      "[8.890625 8.890625 8.890625 ... 8.890625 8.890625 8.890625]\n",
      "0 0.00012006919081731452\n"
     ]
    },
    {
     "data": {
      "text/plain": [
       "<matplotlib.legend.Legend at 0x15c248748>"
      ]
     },
     "execution_count": 25,
     "metadata": {},
     "output_type": "execute_result"
    },
    {
     "data": {
      "image/png": "[encoded data removed]",
      "text/plain": [
       "<Figure size 1440x720 with 1 Axes>"
      ]
     },
     "metadata": {},
     "output_type": "display_data"
    }
   ],
   "source": [
    "plt.figure(figsize=(20,10))\n",
    "\n",
    "nat = np.array([len(x) for x in targ_ready['md']['xyz']])[:]\n",
    "print(len(nat))\n",
    "\n",
    "for i, params_uopt in enumerate(optimal_parameters):\n",
    "\n",
    "    #print(params_uopt[1])\n",
    "\n",
    "    opti_out, targ_out = udif_print(params_uopt[1], stats, target, utot_EAM,[7])\n",
    "    plt.title('Selected configurations at 0K')\n",
    "    if i == 0:\n",
    "        #print('Targ:', targ_out[0][:])\n",
    "        #print('Model:', opti_out[0][:])\n",
    "\n",
    "        #nat = np.array([len(x) for x in targ_dict['relax']['xyz']])\n",
    "        print(len(np.array(targ_out[0][:]))/nat)\n",
    "        #plt.plot(np.array(targ_out[0][:])/nat, 'o', label='target'+str(i), markersize=10)\n",
    "        plt.plot(np.array(targ_out[0][:]), 'o', label='target'+str(i), markersize=2)\n",
    "\n",
    "        \n",
    "    if params_uopt[0] > 0.6e-3:\n",
    "        continue\n",
    "    #if i != 10 and i != 12:\n",
    "    #    continue\n",
    "    print(i, params_uopt[0])\n",
    "\n",
    "    #print('Opti:', [o for o in opti_out[-1][:-1]])\n",
    "    #plt.plot(np.array([o for o in opti_out[0][:]])/nat, 'x--', label='optimized '+str(i))\n",
    "    plt.plot(np.array([o for o in opti_out[0][:]]), '--', label='optimized '+str(i), lw=1.0)\n",
    "\n",
    "#    else:\n",
    "#        plt.plot([o for o in opti_out[-1][:-1]], 'x--', label='optimized '+str(i))\n",
    "#        plt.plot(targ_out[-1][:-1], 'o', markersize=10)\n",
    "\n",
    "#plt.xticks([0, 1, 2, 3, 4, 5, 6], ['BCC','FCC', 'vacancy','110','111','liq','inf'])\n",
    "plt.ylabel('Energy [eV]')\n",
    "#plt.ylim(-1145, -1136)\n",
    "#plt.ylim(-8.905, -8.533)\n",
    "#plt.ylim(-8.9, -8.35)\n",
    "\n",
    "plt.ylim(-1180,-700)\n",
    "plt.ylim(-1136,-1132)\n",
    "#plt.ylim(-1000,-900)\n",
    "\n",
    "plt.legend()"
   ]
  },
  {
   "cell_type": "code",
   "execution_count": 121,
   "metadata": {},
   "outputs": [
    {
     "name": "stdout",
     "output_type": "stream",
     "text": [
      "0 0.00012508417047382345 \n",
      " [-0.942576521, 7.61707891e-05, -105.811358, 36.1001559, -6.39102078, -0.0242484404, 2.91284708, -2.96955528, 1.3606181, -0.17478259]\n"
     ]
    }
   ],
   "source": [
    "for i, params_uopt in enumerate(optimal_parameters):\n",
    "    if params_uopt[0] > 1.1e-3:\n",
    "        continue\n",
    "    print(i, params_uopt[0], '\\n', params_uopt[1])"
   ]
  },
  {
   "cell_type": "code",
   "execution_count": 126,
   "metadata": {},
   "outputs": [
    {
     "data": {
      "text/plain": [
       "[2.65, 3.0, 3.5, 4.0, 4.356, 4.75, 5.25, 5.75]"
      ]
     },
     "execution_count": 126,
     "metadata": {},
     "output_type": "execute_result"
    }
   ],
   "source": [
    "stats_opt['hyperparams']"
   ]
  },
  {
   "cell_type": "code",
   "execution_count": 127,
   "metadata": {},
   "outputs": [
    {
     "data": {
      "text/plain": [
       "[2.5, 2.75, 3.0, 3.5, 4.0, 4.5, 5.0, 5.75]"
      ]
     },
     "execution_count": 127,
     "metadata": {},
     "output_type": "execute_result"
    }
   ],
   "source": [
    "stats_opts[it]['hyperparams']"
   ]
  },
  {
   "cell_type": "code",
   "execution_count": 128,
   "metadata": {
    "collapsed": true
   },
   "outputs": [],
   "source": [
    "pars_out = {}\n",
    "pars_out['pair_nodes'] = stats_opts[it]['hyperparams']\n",
    "pars_out['mb_node'] = 6\n",
    "pars_out['params'] = [optimal_parameters[0]]"
   ]
  },
  {
   "cell_type": "code",
   "execution_count": 129,
   "metadata": {
    "collapsed": true
   },
   "outputs": [],
   "source": [
    "optimal_list = []\n",
    "\n",
    "#with open(os.path.join(working, 'pars_out.pickle'), 'rb') as fi:\n",
    "#    optimal_list = pickle.load(fi)\n",
    "\n",
    "#if type(optimal_list) != list:\n",
    "#    optimal_list = [optimal_list]\n",
    "\n",
    "optimal_list.append(pars_out)\n",
    "\n",
    "with open(os.path.join(working, 'pars_out.pickle'), 'wb') as fo:\n",
    "    pickle.dump(optimal_list, fo)"
   ]
  },
  {
   "cell_type": "code",
   "execution_count": 130,
   "metadata": {
    "collapsed": true
   },
   "outputs": [],
   "source": [
    "with open(os.path.join(working, 'pars_out.pickle'), 'rb') as fi:\n",
    "    optimal_list = pickle.load(fi)"
   ]
  },
  {
   "cell_type": "code",
   "execution_count": 131,
   "metadata": {},
   "outputs": [
    {
     "data": {
      "text/plain": [
       "[{'pair_nodes': [2.5, 2.75, 3.0, 3.5, 4.0, 4.5, 5.0, 5.75],\n",
       "  'mb_node': 6,\n",
       "  'params': [(0.00012508417047382345,\n",
       "    [-0.942576521,\n",
       "     7.61707891e-05,\n",
       "     -105.811358,\n",
       "     36.1001559,\n",
       "     -6.39102078,\n",
       "     -0.0242484404,\n",
       "     2.91284708,\n",
       "     -2.96955528,\n",
       "     1.3606181,\n",
       "     -0.17478259])]}]"
      ]
     },
     "execution_count": 131,
     "metadata": {},
     "output_type": "execute_result"
    }
   ],
   "source": [
    "optimal_list"
   ]
  },
  {
   "cell_type": "code",
   "execution_count": 151,
   "metadata": {
    "collapsed": true
   },
   "outputs": [],
   "source": [
    "# Total pair potential\n",
    "pos = targ_ready['relax']['xyz'][0]\n",
    "bx = targ_ready['relax']['box'][0]\n",
    "rr, rx = pair_dist_cutoff(pos, bx, 5.5)"
   ]
  },
  {
   "cell_type": "code",
   "execution_count": 152,
   "metadata": {
    "collapsed": true
   },
   "outputs": [],
   "source": [
    "# embedding function\n",
    "F = lambda d, a: a[0]*d**0.5 + a[1]*d + a[2]*d**2\n",
    "\n",
    "V = lambda r, aa, cc: sum([a*(rc - r)**3 for a, rc in zip(aa, cc) if r < rc])\n",
    "\n",
    "# Cohesive potential (cubic splines - same form as V)\n",
    "phi = lambda r, aa, cc: sum([a*(rc - r)**3 for a, rc in zip(aa, cc) if r < rc])\n",
    "\n",
    "rho = lambda r, aa, kk: sum([a*(rk - r)**3 for a, rk in zip(aa, kk) if r < rk and r > 0.01])"
   ]
  },
  {
   "cell_type": "code",
   "execution_count": 153,
   "metadata": {},
   "outputs": [
    {
     "data": {
      "text/plain": [
       "[-0.942576521,\n",
       " 7.61707891e-05,\n",
       " -105.811358,\n",
       " 36.1001559,\n",
       " -6.39102078,\n",
       " -0.0242484404,\n",
       " 2.91284708,\n",
       " -2.96955528,\n",
       " 1.3606181,\n",
       " -0.17478259]"
      ]
     },
     "execution_count": 153,
     "metadata": {},
     "output_type": "execute_result"
    }
   ],
   "source": [
    "optimal_list[-1]['params'][0][1]"
   ]
  },
  {
   "cell_type": "code",
   "execution_count": 154,
   "metadata": {
    "collapsed": true
   },
   "outputs": [],
   "source": [
    "#optimal_parameters.append(tuple([output[1:], params_uopt]))\n",
    "pair_y = optimal_list[-1]['params'][0][1][2:]\n",
    "par = optimal_list[-1]['params'][0][1][:2]\n",
    "many_y = [par[0], 0.0, par[1]]\n",
    "V_x_r = optimal_list[-1]['pair_nodes'] #stats_opt['hyperparams']\n",
    "rho_x_r = [V_x_r[optimal_list[-1]['mb_node']]] #stats_opt['hyperparams'][4:5]\n",
    "rho_x_a = [1.0]"
   ]
  },
  {
   "cell_type": "code",
   "execution_count": 155,
   "metadata": {},
   "outputs": [
    {
     "data": {
      "text/plain": [
       "([-105.811358,\n",
       "  36.1001559,\n",
       "  -6.39102078,\n",
       "  -0.0242484404,\n",
       "  2.91284708,\n",
       "  -2.96955528,\n",
       "  1.3606181,\n",
       "  -0.17478259],\n",
       " [-0.942576521, 0.0, 7.61707891e-05],\n",
       " [2.5, 2.75, 3.0, 3.5, 4.0, 4.5, 5.0, 5.75],\n",
       " [5.0])"
      ]
     },
     "execution_count": 155,
     "metadata": {},
     "output_type": "execute_result"
    }
   ],
   "source": [
    "pair_y, many_y, V_x_r, rho_x_r"
   ]
  },
  {
   "cell_type": "code",
   "execution_count": 156,
   "metadata": {
    "collapsed": true
   },
   "outputs": [],
   "source": [
    "ene = []\n",
    "for a in np.linspace(0.5, 2.0, 101):\n",
    "    z = a*rr\n",
    "    u_pair = 0.5*np.sum([V(x, pair_y, V_x_r) for x in z.flatten() if x > 0.1])\n",
    "\n",
    "    u_many = 0.0\n",
    "    for i in range(z.shape[0]):\n",
    "        d = np.sum([phi(x, rho_x_a, rho_x_r) for x in z[i] if x > 0.1])\n",
    "        u_many += F(d, many_y)\n",
    "\n",
    "    ene.append([a, u_pair, u_many, u_pair+u_many])\n",
    "\n",
    "ene = np.array(ene)"
   ]
  },
  {
   "cell_type": "code",
   "execution_count": 157,
   "metadata": {},
   "outputs": [
    {
     "data": {
      "text/plain": [
       "Text(0,0.5,'U')"
      ]
     },
     "execution_count": 157,
     "metadata": {},
     "output_type": "execute_result"
    },
    {
     "data": {
      "image/png": "[encoded data removed]",
      "text/plain": [
       "<Figure size 432x288 with 1 Axes>"
      ]
     },
     "metadata": {},
     "output_type": "display_data"
    }
   ],
   "source": [
    "#plt.plot(ene[:,0], ene[:,1]/54, label='pair')\n",
    "#plt.plot(ene[:,0], ene[:,2]/54, label='manybody')\n",
    "plt.title('Equation of state (T=0K)')\n",
    "plt.plot(ene[:,0]*2.74, [universal_eos(x, 'W') for x in ene[:,0]], label='universal EOS')\n",
    "plt.plot(ene[:,0]*2.74, ene[:,3]/128, label='u-total')\n",
    "plt.hlines(0.0,0.5,6.0,lw=1)\n",
    "plt.legend()\n",
    "plt.xlim(2.0, 5.75)\n",
    "plt.ylim(-10,10)\n",
    "\n",
    "plt.xlabel('x')\n",
    "plt.ylabel(r'U')"
   ]
  },
  {
   "cell_type": "code",
   "execution_count": 39,
   "metadata": {
    "collapsed": true
   },
   "outputs": [],
   "source": [
    "rho_a = [1.0]\n",
    "rho_r = [stats_opt['hyperparams'][-1]]\n",
    "\n",
    "pair_a = pars_in1[2:]\n",
    "pair_r = stats_opt['hyperparams']\n",
    "\n",
    "many_a = [pars_in[0], 0.0, pars_in[1]]"
   ]
  },
  {
   "cell_type": "code",
   "execution_count": 40,
   "metadata": {},
   "outputs": [
    {
     "name": "stdout",
     "output_type": "stream",
     "text": [
      "rhomax: 768.0\n"
     ]
    }
   ],
   "source": [
    "# Ranges of densities and separations\n",
    "\n",
    "nr = 5000\n",
    "rcut = stats_opt['hyperparams'][-1]\n",
    "dr = rcut/nr\n",
    "\n",
    "rhomax = 12.0*phi(1.5, rho_a, rho_r)\n",
    "print('rhomax:', rhomax)\n",
    "#rhomax = 1000.0\n",
    "nrho = 5000\n",
    "drho = rhomax/nrho\n",
    "\n",
    "ri = 1.0\n",
    "ro = 2.0\n",
    "\n",
    "# W properties\n",
    "na = 74\n",
    "ma = 183.84\n",
    "lc = 3.1653\n",
    "alat = 'bcc'\n",
    "\n",
    "# System composition\n",
    "n_el = 1\n",
    "el_name = ['W']"
   ]
  },
  {
   "cell_type": "code",
   "execution_count": 41,
   "metadata": {
    "collapsed": true
   },
   "outputs": [],
   "source": [
    "def u_trans(r, unucl, ueq, ri=1.0, ro=2.0):\n",
    "    \"\"\"Transition between the core and equillibrium potentials\"\"\"\n",
    "    if r < ri:\n",
    "        return unucl\n",
    "    elif r < ro:\n",
    "        x = (ro + ri - 2*r)/(ro - ri)\n",
    "        eta = 3/16*x**5 - 5/8*x**3 + 15/16*x + 1/2\n",
    "        return ueq + eta*(unucl - ueq)\n",
    "    else:\n",
    "        return ueq"
   ]
  },
  {
   "cell_type": "code",
   "execution_count": 42,
   "metadata": {
    "collapsed": true
   },
   "outputs": [],
   "source": [
    "\n",
    "# prepare lists of values\n",
    "dens = np.linspace(0., rhomax-drho, nrho, endpoint=True)\n",
    "r = np.linspace(0., rcut-dr, nr, endpoint=True)\n",
    "r2 = np.linspace(0., rcut, 201)\n",
    "\n",
    "fembd = [F(d, many_a) for d in dens] # W\n",
    "edens = np.array([phi(x, rho_a, rho_r) for x in r])\n",
    "\n",
    "# 1. Cubic spline for r > r_o\n",
    "f_outer = [V(x, pair_a, pair_r) for i, x in enumerate(r)]\n",
    "# 2. Repulsive core for r < r_i (precalculate up to r_o)\n",
    "f_inner = [0.0] + [u_core(x) for x in r[1:]]\n",
    "# 3. Transition region for r_i < r < r_o\n",
    "fpair = [x*u_trans(x, f_inner[i], f_outer[i]) for i, x in enumerate(r)]\n",
    "#fpair = f_outer"
   ]
  },
  {
   "cell_type": "code",
   "execution_count": 708,
   "metadata": {
    "collapsed": true
   },
   "outputs": [],
   "source": [
    "# LAMMPS format\n",
    "pot_path = '../sim/potentials'\n",
    "\n",
    "with open(os.path.join(pot_path, 'W_lvnew.eam.fs'), 'w') as fo:\n",
    "    \n",
    "    # Comment section\n",
    "    fo.write('Comment 1\\n')\n",
    "    fo.write('Comment 2\\n')\n",
    "    fo.write('Comment 3\\n')\n",
    "    \n",
    "    # Number of elements\n",
    "    fo.write(f\"{n_el:5d} \")\n",
    "    for i in range(n_el):\n",
    "        fo.write(f\"{el_name[i]:2}\")\n",
    "    fo.write(\"\\n\")\n",
    "    \n",
    "    # number of grid points, step size, and cutoff\n",
    "    fo.write(f\"{nrho:5d}{drho:24.16e}{nr:5d}{dr:24.16e}{rcut:24.16e}\\n\")\n",
    "    \n",
    "    # atomic number, mass, lattice size, lattice type\n",
    "    fo.write(f\"{na:5d} {ma:14.4f} {lc:14.4f} {alat:10}\\n\")\n",
    "    \n",
    "    # Embeding function\n",
    "    for i in range(nrho//4):\n",
    "        fo.write(\"{0:20.12e}{1:20.12e}{2:20.12e}{3:20.12e}\\n\".format(*fembd[i*4:i*4+4]))\n",
    "    \n",
    "    # Electronic density\n",
    "    for i in range(nr//4):\n",
    "        fo.write(\"{0:20.12e}{1:20.12e}{2:20.12e}{3:20.12e}\\n\".format(*edens[i*4:i*4+4]))\n",
    "        \n",
    "    # Pair potential\n",
    "    for i in range(nr//4):\n",
    "        fo.write(\"{0:20.12e}{1:20.12e}{2:20.12e}{3:20.12e}\\n\".format(*fpair[i*4:i*4+4]))"
   ]
  },
  {
   "cell_type": "code",
   "execution_count": null,
   "metadata": {
    "collapsed": true
   },
   "outputs": [],
   "source": []
  }
 ],
 "metadata": {
  "kernelspec": {
   "display_name": "Python 3",
   "language": "python",
   "name": "python3"
  },
  "language_info": {
   "codemirror_mode": {
    "name": "ipython",
    "version": 3
   },
   "file_extension": ".py",
   "mimetype": "text/x-python",
   "name": "python",
   "nbconvert_exporter": "python",
   "pygments_lexer": "ipython3",
   "version": "3.6.1"
  }
 },
 "nbformat": 4,
 "nbformat_minor": 2
}
