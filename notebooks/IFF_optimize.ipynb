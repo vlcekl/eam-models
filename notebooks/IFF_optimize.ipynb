{
 "cells": [
  {
   "cell_type": "markdown",
   "metadata": {},
   "source": [
    "# Interatomic force field (IFF) optimization for W-based metal alloys\n",
    "\n",
    "Author: Lukas Vlcek\n",
    "\n",
    "Start Date: 2018-04-22"
   ]
  },
  {
   "cell_type": "code",
   "execution_count": 7,
   "metadata": {},
   "outputs": [
    {
     "name": "stdout",
     "output_type": "stream",
     "text": [
      "Last update: 2018-07-14 19:45:25.250775\n"
     ]
    }
   ],
   "source": [
    "from datetime import datetime ; print('Last update:', datetime.now())"
   ]
  },
  {
   "cell_type": "code",
   "execution_count": 8,
   "metadata": {},
   "outputs": [],
   "source": [
    "# Notebook setup\n",
    "%matplotlib inline\n",
    "import os\n",
    "import glob\n",
    "import sys\n",
    "import re\n",
    "import numpy as np\n",
    "import matplotlib.pyplot as plt\n",
    "import h5py"
   ]
  },
  {
   "cell_type": "markdown",
   "metadata": {},
   "source": [
    "## 1. Introduction\n",
    "\n",
    "**Goal:** Optimize EAM potential for W using the functional form of Bonny et al. (2017), and target data from Marinica et al. (2013) and German. Show that using this simplified EAM form we can develop a more predictive model of W compared to EAM2 model of Marinica."
   ]
  },
  {
   "cell_type": "markdown",
   "metadata": {},
   "source": [
    "## 2. Model\n",
    "\n",
    "Energy of an N-particle configuration\n",
    "\n",
    "$$ E = \\sum_{i=1}^N \\left[ \\sum_{j>i}^N V_{t_it_j}\\left(r_{ij}\\right) + F_{t_i}\\left(\\rho_i\\right) \\right] $$\n",
    "\n",
    "Here $V_{t_it_j}$ is pair interaction between atom types $t_i$ and $t_j$ at distance $r_{ij}$ defined as\n",
    "\n",
    "$$ V_{t_it_j}\\left(r_{ij}\\right) = \\sum_{k=1}^{N_p}\\left[a_k\\left(r_k - r_{ij}\\right)^3\\Theta\\left(r_k - r_{ij}\\right)\\right]\\ $$\n",
    "\n",
    "where $\\Theta$ is Heaviside step function.\n",
    "$F_{t_i}$ is the manybody embedding function\n",
    "\n",
    "$$ F_{t_i}(\\rho_i) = A_{t_i}\\sqrt{\\rho_i} + B_{t_i}\\rho + C_{t_i}\\rho^2 $$\n",
    "\n",
    "where $\\rho_i$ effective electron density \n",
    "\n",
    "$$ \\rho_i = \\sum_{j\\ne i}^N \\phi_{t_j}\\left(r_{ij}\\right) $$\n",
    "\n",
    "and $\\phi$ is cohesive potential\n",
    "\n",
    "$$ \\phi\\left(r_{ij}\\right) = D_{t_j}\\left(r_c - r_{ij}\\right)^3\\Theta\\left(r_c - r_{ij}\\right) $$"
   ]
  },
  {
   "cell_type": "code",
   "execution_count": 14,
   "metadata": {
    "collapsed": true
   },
   "outputs": [],
   "source": [
    "# Define EAM functions\n",
    "\n",
    "# Pair potential (cubic splines). Parameters: distance (r), spline parameters (aa), spline nodes (cc)\n",
    "V = lambda r, aa, cc: sum([a*(rc - r)**3 for a, rc in zip(aa, cc) if r < rc])\n",
    "\n",
    "# Embedding function. Parameters: electronic density (d), coefficients for 1/2, 1, and 2 powers of density\n",
    "F = lambda d, a: a[0]*d**0.5 + a[1]*d + a[2]*d**2\n",
    "\n",
    "# Cohesive potential (cubic splines - same form as V)\n",
    "phi = V"
   ]
  },
  {
   "cell_type": "markdown",
   "metadata": {},
   "source": [
    "## 3. Target data"
   ]
  },
  {
   "cell_type": "markdown",
   "metadata": {},
   "source": [
    "### Bulk properties of tungsten\n",
    "from _Marinica et.al_ except for B (bulk modulus) and Pc (Cauchy pressure)\n",
    "\n",
    "T=0K?\n",
    "\n",
    "| Property | BCC | FCC |\n",
    "| :---     | :---: | :---: |\n",
    "| a_0 (A) | 3.1648 | 4.054 |\n",
    "| E_coh (eV/atom) | -8.9 | -8.43 |\n",
    "| C11 (GPa) | 523 | - |\n",
    "| C12 (GPa) | 203 | - |\n",
    "| C44 (GPa) | 160 | - |\n",
    "| B (GPa) | 310.4 | - |\n",
    "| Pc (GPa) | 21.9 | - |"
   ]
  },
  {
   "cell_type": "markdown",
   "metadata": {},
   "source": [
    "### Defect properties\n",
    "(from _Marinica et.al_)\n",
    "\n",
    "Based on 128+-1 atoms\n",
    "\n",
    "Defect | Energy (eV)\n",
    ":--- | :---:\n",
    "(111) | 10.53\n",
    "(110) | 10.82\n",
    "(100) | 12.87\n",
    "OCT | 13.11\n",
    "TET | 12.27\n",
    "Vacancy | 3.49"
   ]
  },
  {
   "cell_type": "markdown",
   "metadata": {},
   "source": [
    "### List of available atomic configurations and DFT data\n",
    "\n",
    "1. Data from Marinica\n",
    "  * 20 configurations generated from liquid Fe trajectory, N=113\n",
    "  * DFT Forces\n",
    "  * DFT Energy\n",
    "2. Data from German (local minimum energy configs.)\n",
    "  * Energy, Hessians?\n",
    "  * Pure phases\n",
    "    * BCC (54 atoms)\n",
    "    * FCC (32 atoms)\n",
    "  * Vacancy\n",
    "    * vacancy (53 atoms)\n",
    "  * Interstitial defects \n",
    "    * 110, 111 (55 atoms)\n",
    "  * Screw dislocation\n",
    "    * 111_easy_core (135 atoms)?"
   ]
  },
  {
   "cell_type": "markdown",
   "metadata": {},
   "source": [
    "## 5. Optimization\n",
    "\n",
    "Optimization is based on minimization of statistical distance."
   ]
  },
  {
   "cell_type": "markdown",
   "metadata": {},
   "source": [
    "Starting potential (initial guess) is derived by fitting the chosen functional form to EAM2 potential of Marinica (2013) et al. with Bonny et al. (2017) corrections."
   ]
  },
  {
   "cell_type": "markdown",
   "metadata": {
    "collapsed": true
   },
   "source": [
    "Parameters of EAM2 potential by Marinica (2013)"
   ]
  },
  {
   "cell_type": "code",
   "execution_count": 18,
   "metadata": {
    "collapsed": true
   },
   "outputs": [],
   "source": [
    "# Cohesive potential parameters\n",
    "rho_w_a = [-0.420429e1, 0.518217702, 0.5627208e-1, 0.344164179e-1]\n",
    "rho_w_r = [2.5, 3.1, 3.5, 4.9]\n",
    "\n",
    "# Embedding function parameters\n",
    "F_w_a = [-5.946454, 0.0, -0.049477] # Original Marinica\n",
    "Fc_w_a = [-5.524855802, 2.317313103e-1, -3.665345949e-2, 8.989367404e-3] # Bonny's correction\n",
    "\n",
    "# Pair potential parameters\n",
    "arr = np.array([\n",
    "(1,  0.960851701343041e2, 2.5648975),\n",
    "(2, -0.184410923895214e3, 2.6297950),\n",
    "(3,  0.935784079613550e2, 2.6946925),\n",
    "(4, -0.798358265041677e1, 2.8663175),\n",
    "(5,  0.747034092936229e1, 2.9730450),\n",
    "(6, -0.152756043708453e1, 3.0797725),\n",
    "(7,  0.125205932634393e1, 3.5164725),\n",
    "(8,  0.163082162159425e1, 3.8464450),\n",
    "(9, -0.141854775352260e1, 4.1764175),\n",
    "(10,-0.819936046256149e0, 4.7008450),\n",
    "(11, 0.198013514305908e1, 4.8953000),\n",
    "(12,-0.696430179520267e0, 5.0897550),\n",
    "(13, 0.304546909722160e-1,5.3429525),\n",
    "(14,-0.163131143161660e1, 5.4016950),\n",
    "(15, 0.138409896486177e1, 5.4604375)])\n",
    "\n",
    "V_w_a = arr[:,1]\n",
    "V_w_r = arr[:,2]"
   ]
  },
  {
   "cell_type": "markdown",
   "metadata": {},
   "source": [
    "Potential functions converting Marinica to Bonny"
   ]
  },
  {
   "cell_type": "code",
   "execution_count": 17,
   "metadata": {},
   "outputs": [],
   "source": [
    "# Gauge conversion perameters\n",
    "C = 1.848055990\n",
    "S = 2.232322602e-1\n",
    "\n",
    "# Rescaled pair potential function\n",
    "V_eam2 = lambda r: 0.5*(V(r, V_w_a, V_w_r) - 2*C*rho(r, rho_w_a, rho_w_r))\n",
    "\n",
    "# Rescaled cohesive potential function\n",
    "rho = lambda r: phi(r, rho_w_a, rho_w_r)*S\n",
    "\n",
    "# Rescaled embedding function with Bonny's correction\n",
    "Fe = lambda d, a: F(d/S, a) + C/S*d # rescaled potential\n",
    "Fc = lambda d, a: a[0] + a[1]*d + a[2]*d**2 + a[3]*d**3 # correction\n",
    "Fa = lambda d, a1, a2: Fe(d, a1) if d < 1.359141225 else Fc(d, a2) # rescaled + correction"
   ]
  },
  {
   "cell_type": "code",
   "execution_count": 74,
   "metadata": {},
   "outputs": [
    {
     "name": "stderr",
     "output_type": "stream",
     "text": [
      "//anaconda/envs/py36/lib/python3.6/site-packages/ipykernel_launcher.py:9: RuntimeWarning: invalid value encountered in double_scalars\n",
      "  if __name__ == '__main__':\n"
     ]
    },
    {
     "data": {
      "image/png": "[encoded data removed]",
      "text/plain": [
       "<matplotlib.figure.Figure at 0x107dbd6a0>"
      ]
     },
     "metadata": {},
     "output_type": "display_data"
    }
   ],
   "source": [
    "# plot the functions and potentials\n",
    "rcut = 5.46\n",
    "r = np.linspace(0., rcut, 201)\n",
    "\n",
    "plt.figure(figsize=(10,8))\n",
    "\n",
    "# Electronic density\n",
    "dens = [rho(x, rho_w_a, rho_w_r)*S*8 for x in r]\n",
    "dens_old = np.array([rho(x, rho_w_a_old, rho_w_r)*S*8 for x in r])\n",
    "imax = np.argmax(dens_old)\n",
    "dens_old[0:imax] = dens_old.max()\n",
    "plt.subplot(221)\n",
    "plt.title('Electronic density (multiplied by 8 for BCC)')\n",
    "plt.plot(r, dens, label='Marinica no typo')\n",
    "plt.plot(r, dens_old, label='Marinica typo, used by Bonny')\n",
    "plt.legend()\n",
    "plt.hlines(1.0, 1.5, rcut)\n",
    "plt.axis([1.5, rcut, 0, 0.3*8])\n",
    "plt.xlabel('r[A]')\n",
    "plt.ylabel(r'$ \\rho $')\n",
    "\n",
    "# Embedding function\n",
    "dens = np.linspace(0., 8., 101)\n",
    "embed = [Fa(d, F_w_a, Fc_w_a) for d in dens]\n",
    "embed_old = [Fe(d, F_w_a) for d in dens]\n",
    "plt.subplot(222)\n",
    "plt.title('Embedding function')\n",
    "plt.plot(dens, embed, label='corrected by Bonny')\n",
    "plt.plot(dens, embed_old, label='orig. Marinica')\n",
    "plt.legend()\n",
    "plt.axis([0, 8, -7.5, 0.0])\n",
    "plt.xlabel(r'$\\rho$')\n",
    "plt.ylabel(r'$F(\\rho)$')\n",
    "\n",
    "# Pair and manybody potentials\n",
    "pot = [V(x, V_w_a, V_w_r) - 2*C*rho(x, rho_w_a, rho_w_r) for x in r]\n",
    "#V(x, V_w_a, V_w_r) - 2*C*rho(x, rho_w_a_old, rho_w_r)\n",
    "pot_manybody = [u_manybody(x) for x in r]\n",
    "pot_manybody_typo = [u_manybody_typo(x) for x in r]\n",
    "pot_manybody_marinica = [u_manybody_marinica(x) for x in r]\n",
    "\n",
    "plt.subplot(223)\n",
    "plt.title('Pair and manybody potentials')\n",
    "plt.plot(r, pot, label='pair potential')\n",
    "plt.plot(r, pot_manybody, label='manybody potential')\n",
    "plt.plot(r, pot_manybody_typo, label='manybody potential with typo')\n",
    "plt.plot(r, pot_manybody_marinica, label='manybody typo, no correction')\n",
    "plt.legend()\n",
    "plt.hlines(0.0, 1.5, rcut)\n",
    "plt.axis([1.5, rcut, -1.0, 1.0])\n",
    "plt.xlabel('r[A]')\n",
    "plt.ylabel(r'$V(r)$')\n",
    "\n",
    "# Total potential per atom (bulk)\n",
    "pot = [utot(x) for x in r]\n",
    "pot_bonny = [utot_bonny(x) for x in r]\n",
    "pot_marinica = [utot_marinica(x) for x in r]\n",
    "pot_marinica_typo = [utot_marinica_typo(x) for x in r]\n",
    "plt.subplot(224)\n",
    "plt.title('Total potential per atom in BCC')\n",
    "plt.plot(r, pot, label='Marinica no typo + Bonny corr.')\n",
    "plt.plot(r, pot_bonny, label='Marinica typo + Bonny corr.')\n",
    "plt.plot(r, pot_marinica, label='Marinica no typo + no Bonny corr.')\n",
    "plt.plot(r, pot_marinica_typo, 'o', ms=2, label='Marinica typo + no corr.')\n",
    "plt.legend()\n",
    "plt.hlines(0.0, 1.5, rcut)\n",
    "plt.axis([1.5, rcut, -1, 1.0])\n",
    "plt.xlabel('r[A]')\n",
    "plt.ylabel(r'U(r)')\n",
    "\n",
    "plt.tight_layout()"
   ]
  },
  {
   "cell_type": "markdown",
   "metadata": {
    "collapsed": true
   },
   "source": [
    "### Convert potentials into LAMMPS and Yuri formats\n",
    "\n",
    "#### Pure elements W"
   ]
  },
  {
   "cell_type": "code",
   "execution_count": 160,
   "metadata": {
    "collapsed": true
   },
   "outputs": [],
   "source": [
    "# Ranges of densities and separations\n",
    "rhomax = 10.0\n",
    "nrho = 5000\n",
    "drho = rhomax/nrho\n",
    "\n",
    "nr = 5000\n",
    "#rcut = 5.46\n",
    "rcut = 5.4604375\n",
    "dr = rcut/nr\n",
    "\n",
    "ri = 1.0\n",
    "ro = 2.0\n",
    "\n",
    "# W properties\n",
    "na = 74\n",
    "ma = 183.84\n",
    "lc = 3.1653\n",
    "alat = 'bcc'\n",
    "\n",
    "# System composition\n",
    "n_el = 1\n",
    "el_name = ['W']"
   ]
  },
  {
   "cell_type": "code",
   "execution_count": 150,
   "metadata": {
    "collapsed": true
   },
   "outputs": [],
   "source": [
    "def u_core(r, za=74, zb=74):\n",
    "    qe_sq = 14.3992 # squared electron charge  \n",
    "    rs = 0.4683766/(za**(2/3) + zb**(2/3))**0.5\n",
    "    x = r/rs\n",
    "    u  = 0.1818*np.exp(-3.2*x)\n",
    "    u += 0.5099*np.exp(-0.9423*x)\n",
    "    u += 0.2802*np.exp(-0.4029*x)\n",
    "    u += 0.02817*np.exp(-0.2016*x)\n",
    "    u *= za*zb*qe_sq/r\n",
    "    return u\n",
    "\n",
    "def u_combine(r, unucl, ueq, ri=1.0, ro=2.0):\n",
    "    \n",
    "    if r < ri:\n",
    "        u = unucl\n",
    "    elif r < ro:\n",
    "        x = (ro + ri - 2*r)/(ro - ri)\n",
    "        eta = 3/16*x**5 - 5/8*x**3 + 15/16*x + 1/2\n",
    "        u = ueq + eta*(unucl - ueq)\n",
    "    else:\n",
    "        u = ueq\n",
    "        \n",
    "    return u"
   ]
  },
  {
   "cell_type": "code",
   "execution_count": 151,
   "metadata": {
    "collapsed": true
   },
   "outputs": [],
   "source": [
    "# Cubic spline function for pair potentials and electronic density\n",
    "f_spline = lambda r, aa, kk: sum([a*(rk - r)**3 for a, rk in zip(aa, kk) if r < rk])\n",
    "\n",
    "# Functional form for the embedding potential\n",
    "f_embed = lambda d, a: a[0]*d**0.5 + a[1]*d + a[2]*d**2\n",
    "\n",
    "# prepare lists of values\n",
    "dens = np.linspace(0., rhomax-drho, nrho, endpoint=True)\n",
    "r = np.linspace(0., rcut-dr, nr, endpoint=True)\n",
    "\n",
    "#fembd = [f_embed(d, F_re_a) for d in dens] # Re\n",
    "fembd = [Fa(d, F_w_a, Fc_w_a) for d in dens] # W\n",
    "\n",
    "#edens = [f_spline(x, rho_re_a, rho_re_r) for x in r] # Re\n",
    "edens = np.array([f_spline(x, rho_w_a_old, rho_w_r)*S for x in r]) # W\n",
    "imax = np.argmax(edens)\n",
    "edens[0:imax] = edens.max()\n",
    "\n",
    "# Pair potential\n",
    "\n",
    "# 1. Cubic spline for r > r_o\n",
    "f_outer = [f_spline(x, V_w_a, V_w_r) - 2*C*edens[i]/S for i, x in enumerate(r)]\n",
    "\n",
    "# 2. Repulsive core for r < r_i (precalculate up to r_o)\n",
    "f_inner = [0.0] + [u_core(x) for x in r[1:]]\n",
    "\n",
    "# 3. Transition region for r_i < r < r_o\n",
    "fpair = [x*u_combine(x, f_inner[i], f_outer[i]) for i, x in enumerate(r)]"
   ]
  },
  {
   "cell_type": "markdown",
   "metadata": {},
   "source": [
    "Write LAMMPS format file"
   ]
  },
  {
   "cell_type": "code",
   "execution_count": 140,
   "metadata": {
    "collapsed": true
   },
   "outputs": [],
   "source": [
    "with open('W_lv.eam.fs', 'w') as fo:\n",
    "    \n",
    "    # Comment section\n",
    "    fo.write('Comment 1\\n')\n",
    "    fo.write('Comment 2\\n')\n",
    "    fo.write('Comment 3\\n')\n",
    "    \n",
    "    # Number of elements\n",
    "    fo.write(f\"{n_el:5d} \")\n",
    "    for i in range(n_el):\n",
    "        fo.write(f\"{el_name[i]:2}\")\n",
    "    fo.write(\"\\n\")\n",
    "    \n",
    "    # number of grid points, step size, and cutoff\n",
    "    fo.write(f\"{nrho:5d}{drho:24.16e}{nr:5d}{dr:24.16e}{rcut:24.16e}\\n\")\n",
    "    \n",
    "    # atomic number, mass, lattice size, lattice type\n",
    "    fo.write(f\"{na:5d} {ma:14.4f} {lc:14.4f} {alat:10}\\n\")\n",
    "    \n",
    "    # Embeding function\n",
    "    for i in range(nrho//4):\n",
    "        fo.write(\"{0:20.12e}{1:20.12e}{2:20.12e}{3:20.12e}\\n\".format(*fembd[i*4:i*4+4]))\n",
    "    \n",
    "    # Electronic density\n",
    "    for i in range(nr//4):\n",
    "        fo.write(\"{0:20.12e}{1:20.12e}{2:20.12e}{3:20.12e}\\n\".format(*edens[i*4:i*4+4]))\n",
    "        \n",
    "    # Pair potential\n",
    "    for i in range(nr//4):\n",
    "        fo.write(\"{0:20.12e}{1:20.12e}{2:20.12e}{3:20.12e}\\n\".format(*fpair[i*4:i*4+4]))"
   ]
  },
  {
   "cell_type": "markdown",
   "metadata": {},
   "source": [
    "## Optimize\n",
    "\n",
    "Script? Load Module?"
   ]
  },
  {
   "cell_type": "code",
   "execution_count": null,
   "metadata": {
    "collapsed": true
   },
   "outputs": [],
   "source": []
  }
 ],
 "metadata": {
  "kernelspec": {
   "display_name": "Python 3",
   "language": "python",
   "name": "python3"
  },
  "language_info": {
   "codemirror_mode": {
    "name": "ipython",
    "version": 3
   },
   "file_extension": ".py",
   "mimetype": "text/x-python",
   "name": "python",
   "nbconvert_exporter": "python",
   "pygments_lexer": "ipython3",
   "version": "3.6.1"
  }
 },
 "nbformat": 4,
 "nbformat_minor": 2
}
