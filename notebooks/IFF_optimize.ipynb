{
 "cells": [
  {
   "cell_type": "markdown",
   "metadata": {},
   "source": [
    "# Interatomic force field (IFF) optimization for W-based metal alloys\n",
    "\n",
    "Author: Lukas Vlcek\n",
    "\n",
    "Start Date: 2018-04-22"
   ]
  },
  {
   "cell_type": "code",
   "execution_count": 1,
   "metadata": {},
   "outputs": [
    {
     "name": "stdout",
     "output_type": "stream",
     "text": [
      "Last update: 2018-07-25 21:53:17.329834\n"
     ]
    }
   ],
   "source": [
    "from datetime import datetime ; print('Last update:', datetime.now())"
   ]
  },
  {
   "cell_type": "markdown",
   "metadata": {},
   "source": [
    "# Table of Contents\n",
    "\n",
    "* [1. Introduction](#1.-Introduction)\n",
    "* [2. Theoretical background](#2.-Theoretical-background)\n",
    "    * [2.1 Model definition](#2.1-Model-definition)\n",
    "    * [2.2 Optimization approach](#2.2-Optimization-approach)\n",
    "        * [2.2.1 Perturbation technique](#2.2.2-Perturbation-technique)\n",
    "        * [2.2.2 Statistical distance loss function](#2.2.1-Statistical-distance-loss-function)\n",
    "    * [2.3 Target data](#2.3-Target-data)\n",
    "    * [2.4 Simulation details](#2.4-Simulation-details)\n",
    "* [3. Optimization](#3.-Optimization)"
   ]
  },
  {
   "cell_type": "markdown",
   "metadata": {},
   "source": [
    "**Notebook setup**"
   ]
  },
  {
   "cell_type": "code",
   "execution_count": 37,
   "metadata": {
    "collapsed": true
   },
   "outputs": [],
   "source": [
    "# Import libraries\n",
    "%matplotlib inline\n",
    "import os\n",
    "import glob\n",
    "import sys\n",
    "import re\n",
    "import numpy as np\n",
    "import matplotlib.pyplot as plt\n",
    "import h5py\n",
    "from itertools import product\n",
    "from scipy.optimize import fmin\n",
    "\n",
    "# Paths to important directories\n",
    "pot_path = '../sim/potentials'\n",
    "target_raw = '../data/target_raw'\n",
    "target_proc = '../data/target_processed'\n",
    "working = '../data/working'"
   ]
  },
  {
   "cell_type": "markdown",
   "metadata": {},
   "source": [
    "## 1. Introduction\n",
    "\n",
    "**Goal:** Optimize EAM potential for W using the functional form of Bonny et al. (2017), and target data from Marinica et al. (2013) and German. Show that using this simplified EAM form we can develop a more predictive model of W compared to EAM2 model of Marinica."
   ]
  },
  {
   "cell_type": "markdown",
   "metadata": {},
   "source": [
    "## 2. Theoretical background\n",
    "\n",
    "### 2.1 Model definition\n",
    "\n",
    "**Equilibrium potential**\n",
    "\n",
    "Energy of an N-particle configuration\n",
    "\n",
    "$$ E = \\sum_{i=1}^N \\left[ \\sum_{j>i}^N V_{t_it_j}\\left(r_{ij}\\right) + F_{t_i}\\left(\\rho_i\\right) \\right] $$\n",
    "\n",
    "Here $V_{t_it_j}$ is pair interaction between atom types $t_i$ and $t_j$ at distance $r_{ij}$ defined as\n",
    "\n",
    "$$ V_{t_it_j}\\left(r_{ij}\\right) = \\sum_{k=1}^{N_p}\\left[a_k\\left(r_k - r_{ij}\\right)^3\\Theta\\left(r_k - r_{ij}\\right)\\right]\\ $$\n",
    "\n",
    "where $\\Theta$ is Heaviside step function.\n",
    "$F_{t_i}$ is the manybody embedding function\n",
    "\n",
    "$$ F_{t_i}(\\rho_i) = A_{t_i}\\sqrt{\\rho_i} + B_{t_i}\\rho + C_{t_i}\\rho^2 $$\n",
    "\n",
    "where $\\rho_i$ effective electron density \n",
    "\n",
    "$$ \\rho_i = \\sum_{j\\ne i}^N \\phi_{t_j}\\left(r_{ij}\\right) $$\n",
    "\n",
    "and $\\phi$ is cohesive potential\n",
    "\n",
    "$$ \\phi\\left(r_{ij}\\right) = D_{t_j}\\left(r_c - r_{ij}\\right)^3\\Theta\\left(r_c - r_{ij}\\right) $$"
   ]
  },
  {
   "cell_type": "code",
   "execution_count": 3,
   "metadata": {
    "collapsed": true
   },
   "outputs": [],
   "source": [
    "# Define the equilibrium EAM functions (to be optimized)\n",
    "\n",
    "# Pair potential (cubic splines). Parameters: distance (r), spline parameters (aa), spline nodes (cc)\n",
    "V = lambda r, aa, cc: sum([a*(rc - r)**3 for a, rc in zip(aa, cc) if r < rc])\n",
    "\n",
    "# Embedding function. Parameters: electronic density (d), coefficients for 1/2, 1, and 2 powers of density\n",
    "F = lambda d, a: a[0]*d**0.5 + a[1]*d + a[2]*d**2\n",
    "\n",
    "# Cohesive potential (cubic splines - same form as V)\n",
    "phi = V"
   ]
  },
  {
   "cell_type": "markdown",
   "metadata": {},
   "source": [
    "**Core and transition potential for short and intermediate distances**"
   ]
  },
  {
   "cell_type": "code",
   "execution_count": 4,
   "metadata": {
    "collapsed": true
   },
   "outputs": [],
   "source": [
    "# Define the core and transition parts of the potential (kept constant)\n",
    "def u_core(r, za=74, zb=74):\n",
    "    \"\"\"Repulsive potential of the atomic cores. Default atomic numbers for W\"\"\"\n",
    "    qe_sq = 14.3992 # squared electron charge  \n",
    "    rs = 0.4683766/(za**(2/3) + zb**(2/3))**0.5\n",
    "    x = r/rs\n",
    "    u  = 0.1818*np.exp(-3.2*x)\n",
    "    u += 0.5099*np.exp(-0.9423*x)\n",
    "    u += 0.2802*np.exp(-0.4029*x)\n",
    "    u += 0.02817*np.exp(-0.2016*x)\n",
    "    u *= za*zb*qe_sq/r\n",
    "    return u\n",
    "\n",
    "def u_trans(r, unucl, ueq, ri=1.0, ro=2.0):\n",
    "    \"\"\"Transition between the core and equillibrium potentials\"\"\"\n",
    "    if r < ri:\n",
    "        return unucl\n",
    "    elif r < ro:\n",
    "        x = (ro + ri - 2*r)/(ro - ri)\n",
    "        eta = 3/16*x**5 - 5/8*x**3 + 15/16*x + 1/2\n",
    "        return ueq + eta*(unucl - ueq)\n",
    "    else:\n",
    "        return ueq    "
   ]
  },
  {
   "cell_type": "markdown",
   "metadata": {},
   "source": [
    "### 2.2 Optimization approach"
   ]
  },
  {
   "cell_type": "markdown",
   "metadata": {},
   "source": [
    "#### 2.2.1 Perturbation technique\n",
    "\n",
    "**Pair distances**"
   ]
  },
  {
   "cell_type": "code",
   "execution_count": 6,
   "metadata": {
    "collapsed": true
   },
   "outputs": [],
   "source": [
    "def pair_dist(xyz, box):\n",
    "    \"\"\"\n",
    "    Calculates nearest image pair distances between all atoms in xyz array.\n",
    "    Parameters\n",
    "    -----------\n",
    "    xyz : numpy array\n",
    "          particle x, y, z coordinates\n",
    "    box : scalar or numpy array\n",
    "          simulation box dimensions/shape\n",
    "    Returns\n",
    "    -------\n",
    "    rr  : (natom, natom) numpy array of pair distances\n",
    "    rx  : (natom, natom, 3) numpy array of pair distance coordinates\n",
    "    \"\"\"\n",
    "\n",
    "    n_atom = xyz.shape[0] # number of atoms in a configuration\n",
    "    rr = np.empty((n_atom, n_atom), dtype=float)\n",
    "    rx = np.empty((n_atom, n_atom, 3), dtype=float)\n",
    "\n",
    "    for i, pa in enumerate(xyz):\n",
    "        for j, pb in enumerate(xyz):\n",
    "            dp = pa - pb\n",
    "            dp = np.where(dp < -0.5*box, dp + box, dp)\n",
    "            dp = np.where(dp >  0.5*box, dp - box, dp)\n",
    "            rr[i,j] = np.sum(dp*dp)**0.5\n",
    "            rx[i,j] = dp\n",
    "\n",
    "    return rr, rx"
   ]
  },
  {
   "cell_type": "markdown",
   "metadata": {},
   "source": [
    "**EAM sufficient statistics**"
   ]
  },
  {
   "cell_type": "code",
   "execution_count": 6,
   "metadata": {
    "collapsed": true
   },
   "outputs": [],
   "source": [
    "def get_stats_EAM(rr, rx, sc):\n",
    "    \"\"\"\n",
    "    Takes atom pair distances and calculates sufficeint statistics needed\n",
    "    for the parameterization of a cubic spline-based EAM model by Bonny et al. (2017).\n",
    "    \n",
    "    Parameters\n",
    "    ----------\n",
    "    rr : numpy array\n",
    "         set of pair distances\n",
    "    rx : numpy array\n",
    "         set of pair distance coordinates\n",
    "    sc : python list\n",
    "         spline nodes\n",
    "         \n",
    "    Returns\n",
    "    -------\n",
    "    ar, a1, a2 : numpy arrays (len(sc))\n",
    "                 atom energy-related statistics\n",
    "                 el_density**0.5, el_density, el_density**2\n",
    "    br, b1, b2 : numpy arrays (len(sc), natoms, 3 coordinates)\n",
    "                 atom force-related statistics (gradients of energy)\n",
    "                 grad(el_density**0.5), grad(el_density), grad(el_density**2)\n",
    "    \"\"\"\n",
    "    \n",
    "    # number of atoms in configuration\n",
    "    n_atom = rr.shape[0]\n",
    "    \n",
    "    # energy-related statistics\n",
    "    aa = np.empty((n_atom), dtype=float)\n",
    "    ar = np.zeros((len(sc)), dtype=float)\n",
    "    a1 = np.zeros_like(ar)\n",
    "    a2 = np.zeros_like(ar)\n",
    "    \n",
    "    # force-related statistics\n",
    "    br = np.zeros((len(sc), n_atom, 3), dtype=float)\n",
    "    b1 = np.zeros_like(br)\n",
    "    b2 = np.zeros_like(br)\n",
    "    zero3 = np.zeros((3), dtype=float)\n",
    "\n",
    "    # cycle over spline nodes\n",
    "    for ks, rc in enumerate(sc):\n",
    "        \n",
    "        # cycle over atoms\n",
    "        for i in range(n_atom):\n",
    "            \n",
    "            # sum electronic density over all neighbors of i within rc\n",
    "            aa[i] = sum([(rc - r)**3 for r in rr[i] if (r < rc and r > 0.01)])\n",
    "\n",
    "            # if el. density larger than zero, calculate force statistics\n",
    "            if aa[i] > 0.0:\n",
    "                \n",
    "                # precompute a list of recurring values for force statistics\n",
    "                ff = [1.5*(rc - r)**2*x/r if (r > 0.01 and r < rc) else zero3 for r, x in zip(rr[i], rx[i])]\n",
    "                \n",
    "                # sum contributions to force statistics from all neighbors of i\n",
    "                b1[ks, i] = sum([2*f       for f in ff])\n",
    "                br[ks, i] = sum([ -f/np.sqrt(aa[i]) for f in ff])\n",
    "                b2[ks, i] = sum([4*f*aa[i] for f in ff])\n",
    "\n",
    "        # sum contributions to energy statistics for a given spline node\n",
    "        ar[ks] = np.sum(np.sqrt(aa))\n",
    "        a1[ks] = np.sum(aa)\n",
    "        a2[ks] = np.sum(aa**2)\n",
    "        \n",
    "    return a1, ar, a2, b1, br, b2"
   ]
  },
  {
   "cell_type": "markdown",
   "metadata": {},
   "source": [
    "**EAM configurational energy based on sufficient statistics and model parameters**"
   ]
  },
  {
   "cell_type": "code",
   "execution_count": 16,
   "metadata": {
    "collapsed": true
   },
   "outputs": [],
   "source": [
    "def utot_EAM(params, ustats):\n",
    "    \"\"\"\n",
    "    Calculates configurational energy from EAM sufficient statistics and model parameters\n",
    "\n",
    "    Parameters\n",
    "    ----------\n",
    "    params : list of lists and floats\n",
    "             EAM interaction parameters (spline coefficients array and embedding function parameters)\n",
    "    ustats : list of lists and floats\n",
    "             Sufficient statistics for a trajectory of configurations\n",
    "\n",
    "    Returns\n",
    "    -------\n",
    "    u_total: float\n",
    "             total configurational energy (sum of pair and manybody interactions) for trajectory of configurations\n",
    "    \"\"\"\n",
    "\n",
    "    n_sample = stats.shape[0]\n",
    "\n",
    "    # pair interactions from array of spline coefficeints and corresponding statistic\n",
    "    u_pair = np.array([sum([a*s for a, s in zip(params[2:], ustats[i, 2])]) for i in range(n_sample)])\n",
    "\n",
    "    # manybody interactions from embedding function parameters and corresponding statistics\n",
    "    u_many = np.array([params[0]*ustats[i, 0] + params[1]*ustats[i, 1] for i in range(n_sample)])\n",
    "\n",
    "    u_total = u_pair + u_many\n",
    "\n",
    "    return u_total"
   ]
  },
  {
   "cell_type": "code",
   "execution_count": 17,
   "metadata": {
    "collapsed": true
   },
   "outputs": [],
   "source": [
    "def ftot_EAM(params, fstats):\n",
    "    \"\"\"\n",
    "    Calculates configurational energy from EAM sufficient statistics and model parameters\n",
    "\n",
    "    Parameters\n",
    "    ----------\n",
    "    params : list of lists and floats\n",
    "             EAM interaction parameters (spline coefficients array and embedding function parameters)\n",
    "    fstats : list of lists and floats\n",
    "             Sufficient statistics\n",
    "\n",
    "    Returns\n",
    "    -------\n",
    "    f_total: float\n",
    "             total configurational energy (sum of pair and manybody interactions)\n",
    "    \"\"\"\n",
    "\n",
    "    # number of samples and atoms\n",
    "    n_sample = stats.shape[0]\n",
    "    n_atom = stats.shape[1]\n",
    "\n",
    "    f_total = np.zeros((n_sample, 6*n_atom + 1), dtype=float)\n",
    "\n",
    "    # cycle over samples\n",
    "    for i in range(n_sample):\n",
    "\n",
    "        # pair interactions from array of spline coefficeints and corresponding statistic\n",
    "        f_pair = sum([p*s for p, s in zip(params[2:], fstats[i,2])]) \n",
    "\n",
    "        # manybody interactions from embedding function parameters and corresponding statistics\n",
    "        f_many = params[0]*fstats[i,0] + params[1]*fstats[i,1]\n",
    "\n",
    "        # Create a 6N + 1 array of 0, f, and -f\n",
    "        f_total[1:3*n_atom+1] = f_pair.flatten() + f_many.flatten()\n",
    "        f_total[3*n_atom+1:] = -f_total[1:3*n_atom+1]\n",
    "            \n",
    "    return f_total"
   ]
  },
  {
   "cell_type": "markdown",
   "metadata": {},
   "source": [
    "#### 2.2.2 Statistical distance loss function\n",
    "\n",
    "**Loss function based on configurational energies and forces**"
   ]
  },
  {
   "cell_type": "code",
   "execution_count": 18,
   "metadata": {
    "collapsed": true
   },
   "outputs": [],
   "source": [
    "def sd2_loss(params, stats, targets, weights=None):\n",
    "    \"\"\"\n",
    "    Calculates squared statistical distance loss function for configurational energies and forces.\n",
    "\n",
    "    Parameters\n",
    "    ----------\n",
    "    params : list of lists and floats\n",
    "             EAM interaction parameters (spline coefficients array and embedding function parameters)\n",
    "    stats  : list of lists and floats\n",
    "             Sufficient statistics\n",
    "    targets: list of lists and floats\n",
    "             target energies and forces\n",
    "    weights: weighting of different target data\n",
    "\n",
    "    Returns\n",
    "    -------\n",
    "    sd2, sd2f: float\n",
    "               squared statistical distances between model and target (energy and force-based)\n",
    "    \"\"\"\n",
    "\n",
    "    # apply bounds on parametes\n",
    "    #p = np.where(p < -1.0, -1.0, p)\n",
    "    #p = np.where(p >  1.0,  1.0, p)\n",
    "\n",
    "    # if weights not provided, assign equal weights\n",
    "    if not weights:\n",
    "        weights = np.ones((len(targ)), dtype=float)\n",
    "\n",
    "    # cycle over target system trajectories and statistics to determine SD\n",
    "    sd2 = sd2f = 0.0\n",
    "    for targ, stat, w in zip(targets, stats, weights):\n",
    "\n",
    "        beta = targ['beta'] # system inverse temperature\n",
    "        u_targ = targ['energy'] # target energies\n",
    "        u_stat = stat['energy'] # energy statistics\n",
    "        u_pars = params\n",
    "        n_sample = u_targ.shape[0]\n",
    "\n",
    "        # energy diference array for a given target trajectory\n",
    "        uuu = beta*(utot_EAM(u_pars, u_stat) - u_targ) # array(n_sample)\n",
    "        uuu -= np.mean(uuu)\n",
    "        eee = np.exp(-uuu)\n",
    " \n",
    "        # are forces available?\n",
    "        if 'forces' not in targ:\n",
    "\n",
    "            # energy-based free energy difference and statistical distance\n",
    "            ge = -np.log(np.mean(eee))   # free energy difference (shifted)\n",
    "            cb = np.mean(np.exp(-0.5*(uuu - ge))) # Bhattacharyya coefficient\n",
    "            sd2 += w*np.arccos(cb)**2              # statistical distance\n",
    "\n",
    "        else:\n",
    "\n",
    "            betad = beta*0.01  # beta * dl\n",
    "            f_targ = targ['forces'] # target forces (n_sample, 1+6N) (0, 3Nf, -3Nf)\n",
    "            f_stat = stat['forces'] # force statistics (n_sample, npars, 3N)\n",
    "            f_pars = params\n",
    "\n",
    "            eeh = np.exp(-0.5*uuu)\n",
    "            fff = ftot_EAM(f_pars, f_stat) # n_sample *(6N + 1) force contributions\n",
    "\n",
    "            # target and model force terms\n",
    "            fpave = np.mean(np.exp(betad*f_targ))\n",
    "            fqave = np.mean([eee[i]*np.mean(np.exp(betad*fff[i])) for i in range(n_sample)])\n",
    "            fhave = np.mean([eeh[i]*np.mean(np.exp(0.5*betad*(fff[i]+f_targ[i]))) for i in range(n_sample)])\n",
    "            \n",
    "            # force-based free energy difference and statistical distance\n",
    "            gef = -np.log(fqave/fpave)\n",
    "            cb = fhave/(fqave*fpave)**0.5\n",
    "            if cb > 1: cb = 1\n",
    "            sd2f += w*np.arccos(cb)**2\n",
    "\n",
    "    return sd2 + sd2f"
   ]
  },
  {
   "cell_type": "code",
   "execution_count": 11,
   "metadata": {
    "collapsed": true
   },
   "outputs": [],
   "source": [
    "def thermo(params, stats, targets):\n",
    "    \"\"\"\n",
    "    Calculates squared statistical distance loss function for configurational energies and forces.\n",
    "    \n",
    "    Parameters\n",
    "    ----------\n",
    "    params : list of lists and floats\n",
    "             EAM interaction parameters (spline coefficients array and embedding function parameters)\n",
    "    stats  : list of lists and floats\n",
    "             Sufficient statistics\n",
    "    targets: list of lists and floats\n",
    "             target energies and forces\n",
    "    \n",
    "    Returns\n",
    "    -------\n",
    "    ge, he, se : floats\n",
    "                 free energy, enthalpy, and entropy differences\n",
    "    \"\"\"\n",
    "\n",
    "    for targ, stat in zip(targets, stats):\n",
    "        beta = targ['beta'] # system inverse temperature\n",
    "        u_targ = targ['energy'] # target energies\n",
    "        u_stat = stat['energy'] # energy statistics\n",
    "\n",
    "        # energy diference array for a given target trajectory\n",
    "        uuu = beta*(utot_EAM(params, u_stat) - u_targ)\n",
    "        uave = np.mean(uuu)\n",
    "        uuu -= uave\n",
    "        eee = np.exp(-uuu)\n",
    "\n",
    "        ge = np.mean(eee)\n",
    "        he = (np.mean(eee*(beta*hee + uuu + uave))/ge - beta*np.mean(hee))/beta\n",
    "\n",
    "        ge = -np.log(ge)\n",
    "        eee = np.exp(-0.5*(uuu - ge))\n",
    "        ge = (ge + uave)/beta\n",
    "        se = he - ge\n",
    "\n",
    "    return ge, he, se"
   ]
  },
  {
   "cell_type": "markdown",
   "metadata": {},
   "source": [
    "### 2.3 Target data"
   ]
  },
  {
   "cell_type": "markdown",
   "metadata": {},
   "source": [
    "**Bulk properties of tungsten** (from _Marinica et.al_ except for B (bulk modulus) and Pc (Cauchy pressure)) T=0K?\n",
    "\n",
    "| Property | BCC | FCC |\n",
    "| :---     | :---: | :---: |\n",
    "| a_0 (A) | 3.1648 | 4.054 |\n",
    "| E_coh (eV/atom) | -8.9 | -8.43 |\n",
    "| C11 (GPa) | 523 | - |\n",
    "| C12 (GPa) | 203 | - |\n",
    "| C44 (GPa) | 160 | - |\n",
    "| B (GPa) | 310.4 | - |\n",
    "| Pc (GPa) | 21.9 | - |"
   ]
  },
  {
   "cell_type": "markdown",
   "metadata": {},
   "source": [
    "**Defect properties** (from _Marinica et.al_), based on 128+-1 atoms\n",
    "\n",
    "Defect | Energy (eV)\n",
    ":--- | :---:\n",
    "(111) | 10.53\n",
    "(110) | 10.82\n",
    "(100) | 12.87\n",
    "OCT | 13.11\n",
    "TET | 12.27\n",
    "Vacancy | 3.49"
   ]
  },
  {
   "cell_type": "markdown",
   "metadata": {},
   "source": [
    "**List of available atomic configurations and DFT data**\n",
    "\n",
    "1. Data from Marinica\n",
    "  * 20 configurations generated from liquid Fe trajectory, N=113\n",
    "  * DFT Forces\n",
    "  * DFT Energy\n",
    "2. Data from German (local minimum energy configs.)\n",
    "  * Energy, Hessians?\n",
    "  * Pure phases\n",
    "    * BCC (54 atoms)\n",
    "    * FCC (32 atoms)\n",
    "  * Vacancy\n",
    "    * vacancy (53 atoms)\n",
    "  * Interstitial defects \n",
    "    * 110, 111 (55 atoms)\n",
    "  * Screw dislocation\n",
    "    * 111_easy_core (135 atoms)?"
   ]
  },
  {
   "cell_type": "markdown",
   "metadata": {},
   "source": [
    "**Universal equation of state for metals at 0K**"
   ]
  },
  {
   "cell_type": "code",
   "execution_count": 13,
   "metadata": {
    "collapsed": true
   },
   "outputs": [],
   "source": [
    "# W parameters\n",
    "l = 0.274\n",
    "r_wse = 3.168\n",
    "r_wse = 1.584\n",
    "eta = 5.69\n",
    "dE = 8.9\n",
    "\n",
    "# equation of state. x is lattice expansion/compression parameter\n",
    "def eos(x):\n",
    "    a = (x - 1.0)*r_wse/l\n",
    "    ene = np.exp(-a)\n",
    "    ene *= -1.0 - a - 0.05*a**3\n",
    "    return dE*ene"
   ]
  },
  {
   "cell_type": "markdown",
   "metadata": {},
   "source": [
    "**Load target data files**"
   ]
  },
  {
   "cell_type": "markdown",
   "metadata": {},
   "source": [
    "Structure of h5 files with configuration data.\n",
    "\n",
    "1. Single target_conf file contains all the information from different simulations\n",
    "2. Each simulation is treated as a trajectory (sometimes with only 1 configuration)\n",
    "3. Trajectory data structure\n",
    "    * overall description\n",
    "        * General description\n",
    "        * Particle id, element\n",
    "    * per-configuration description\n",
    "        * box description\n",
    "        * particle coordinates ordered by particle number\n",
    "        * configurational, kinetic, and total energies\n",
    "        * forces per particle\n",
    "        * "
   ]
  },
  {
   "cell_type": "markdown",
   "metadata": {},
   "source": [
    "### 2.4 Simulation details"
   ]
  },
  {
   "cell_type": "markdown",
   "metadata": {},
   "source": [
    "## 3. Optimization\n",
    "\n",
    "** Read pickled data**"
   ]
  },
  {
   "cell_type": "code",
   "execution_count": 38,
   "metadata": {},
   "outputs": [],
   "source": [
    "import pickle\n",
    "\n",
    "# load target data\n",
    "with open(os.path.join(working, 'target'+'.pickle'), 'rb') as fi:\n",
    "    targ_dict = pickle.load(fi)\n",
    "\n",
    "# load stats data\n",
    "with open(os.path.join(working, 'stats'+'.pickle'), 'rb') as fi:\n",
    "    stats_dict = pickle.load(fi)\n",
    "    \n",
    "# load stats data\n",
    "with open(os.path.join(working, 'pars_in'+'.pickle'), 'rb') as fi:\n",
    "    pars_dict = pickle.load(fi)"
   ]
  },
  {
   "cell_type": "code",
   "execution_count": 39,
   "metadata": {},
   "outputs": [
    {
     "data": {
      "text/plain": [
       "dict_keys(['type', 'weight', 'box', 'xyz', 'energy', 'temp', 'forces', 'beta'])"
      ]
     },
     "execution_count": 39,
     "metadata": {},
     "output_type": "execute_result"
    }
   ],
   "source": [
    "targ_dict['dset1'].keys()"
   ]
  },
  {
   "cell_type": "code",
   "execution_count": 40,
   "metadata": {},
   "outputs": [
    {
     "data": {
      "text/plain": [
       "[array([[  0.00000000e+00,   0.00000000e+00,   5.30470267e+01,\n",
       "           1.75593619e+02,   2.97014262e+02,   5.10177394e+02],\n",
       "        [  0.00000000e+00,   0.00000000e+00,   5.02878315e+01,\n",
       "           6.03745127e+03,   4.94228670e+04,   4.30232846e+05],\n",
       "        [  0.00000000e+00,   0.00000000e+00,   5.21108712e+01,\n",
       "           5.70983685e+02,   1.63365688e+03,   4.82001802e+03]]),\n",
       " array([[  0.00000000e+00,   0.00000000e+00,   5.14550258e+01,\n",
       "           1.70464399e+02,   2.88428719e+02,   4.95566130e+02],\n",
       "        [  0.00000000e+00,   0.00000000e+00,   4.71552969e+01,\n",
       "           5.67884370e+03,   4.65444808e+04,   4.05625877e+05],\n",
       "        [  0.00000000e+00,   0.00000000e+00,   4.99675939e+01,\n",
       "           5.48384801e+02,   1.56997576e+03,   4.63468054e+03]]),\n",
       " array([[  8.44107144e-01,   2.85999494e+00,   5.92911700e+01,\n",
       "           1.85073450e+02,   3.09049456e+02,   5.27399971e+02],\n",
       "        [  4.53796910e-03,   1.06712274e-01,   8.82656903e+01,\n",
       "           7.15801700e+03,   5.50390964e+04,   4.65405264e+05],\n",
       "        [  1.22551319e-01,   7.45935051e-01,   6.54734242e+01,\n",
       "           6.24238885e+02,   1.73764902e+03,   5.05797812e+03]]),\n",
       " array([[  9.59311615e-01,   2.59761858e+00,   5.92099268e+01,\n",
       "           1.85051341e+02,   3.08975681e+02,   5.27390766e+02],\n",
       "        [  5.23529881e-03,   1.10929666e-01,   8.83970411e+01,\n",
       "           7.15780013e+03,   5.49929959e+04,   4.65423753e+05],\n",
       "        [  1.58407449e-01,   7.98339961e-01,   6.53383083e+01,\n",
       "           6.24107950e+02,   1.73683834e+03,   5.05788631e+03]]),\n",
       " array([[ 0.,  0.,  0.,  0.,  0.,  0.],\n",
       "        [ 0.,  0.,  0.,  0.,  0.,  0.],\n",
       "        [ 0.,  0.,  0.,  0.,  0.,  0.]])]"
      ]
     },
     "execution_count": 40,
     "metadata": {},
     "output_type": "execute_result"
    }
   ],
   "source": [
    "stats_dict['dset0']['energy']"
   ]
  },
  {
   "cell_type": "code",
   "execution_count": 32,
   "metadata": {},
   "outputs": [
    {
     "data": {
      "text/plain": [
       "{'embed': [-0.82756444522907735, 0.0, 2.2224833877071661e-05],\n",
       " 'pair': [-0.17418264521969035,\n",
       "  7.6813060863722065,\n",
       "  1.6921565935750296,\n",
       "  0.89780949157203727,\n",
       "  -0.93943800806449307,\n",
       "  0.18581577387791415]}"
      ]
     },
     "execution_count": 32,
     "metadata": {},
     "output_type": "execute_result"
    }
   ],
   "source": [
    "pars_dict"
   ]
  },
  {
   "cell_type": "code",
   "execution_count": 41,
   "metadata": {},
   "outputs": [
    {
     "data": {
      "text/plain": [
       "[-0.82756444522907735,\n",
       " 2.2224833877071661e-05,\n",
       " -0.17418264521969035,\n",
       " 7.6813060863722065,\n",
       " 1.6921565935750296,\n",
       " 0.89780949157203727,\n",
       " -0.93943800806449307,\n",
       " 0.18581577387791415]"
      ]
     },
     "execution_count": 41,
     "metadata": {},
     "output_type": "execute_result"
    }
   ],
   "source": [
    "pars_in = [pars_dict['embed'][0], pars_dict['embed'][2], *pars_dict['pair']]\n",
    "pars_in"
   ]
  },
  {
   "cell_type": "code",
   "execution_count": 50,
   "metadata": {},
   "outputs": [
    {
     "name": "stdout",
     "output_type": "stream",
     "text": [
      "[[  0.00000000e+00   0.00000000e+00   5.30470267e+01   1.75593619e+02\n",
      "    2.97014262e+02   5.10177394e+02]\n",
      " [  0.00000000e+00   0.00000000e+00   5.02878315e+01   6.03745127e+03\n",
      "    4.94228670e+04   4.30232846e+05]\n",
      " [  0.00000000e+00   0.00000000e+00   5.21108712e+01   5.70983685e+02\n",
      "    1.63365688e+03   4.82001802e+03]]\n",
      "[[  1.99433497e+01   4.42389319e+01   1.80667351e+02   4.18244472e+02\n",
      "    6.44134609e+02   1.05542974e+03]\n",
      " [  4.08717808e-01   5.60422387e+00   9.90640840e+02   2.54535235e+04\n",
      "    1.37679380e+05   9.56721872e+05]\n",
      " [  4.78124149e+00   2.04517147e+01   3.06169058e+02   1.60178615e+03\n",
      "    3.76892775e+03   1.00467523e+04]]\n",
      "[[  0.00000000e+00   5.90864237e-01   5.37197136e+01   1.76035288e+02\n",
      "    2.97297010e+02   5.10355754e+02]\n",
      " [  0.00000000e+00   1.24774658e-05   5.32228812e+01   6.10468927e+03\n",
      "    4.96349066e+04   4.30930912e+05]\n",
      " [  0.00000000e+00   1.19714373e-02   5.34971125e+01   5.73957884e+02\n",
      "    1.63689840e+03   4.82356820e+03]]\n"
     ]
    }
   ],
   "source": [
    "stats = []\n",
    "for k, v in stats_dict.items():\n",
    "    print(v['energy'][0])\n",
    "    dct ={'energy':valu, 'forces':valf}\n",
    "    stats.append(dct)"
   ]
  },
  {
   "cell_type": "code",
   "execution_count": null,
   "metadata": {
    "collapsed": true
   },
   "outputs": [],
   "source": [
    "output = fmin(sd2_loss, pars_in, args=(stats, targets, weights), maxiter=100000, maxfun=100000, disp=0, full_output=1,ftol=1e-6)\n",
    "params_opt = output[0]\n",
    "print(*params_opt)"
   ]
  }
 ],
 "metadata": {
  "kernelspec": {
   "display_name": "Python 3",
   "language": "python",
   "name": "python3"
  },
  "language_info": {
   "codemirror_mode": {
    "name": "ipython",
    "version": 3
   },
   "file_extension": ".py",
   "mimetype": "text/x-python",
   "name": "python",
   "nbconvert_exporter": "python",
   "pygments_lexer": "ipython3",
   "version": "3.6.1"
  }
 },
 "nbformat": 4,
 "nbformat_minor": 2
}
