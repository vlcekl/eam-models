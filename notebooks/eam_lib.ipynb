{
 "cells": [
  {
   "cell_type": "code",
   "execution_count": 125,
   "metadata": {
    "collapsed": true
   },
   "outputs": [],
   "source": [
    "import os\n",
    "import sys\n",
    "import re\n",
    "import numpy as np\n",
    "%matplotlib inline\n",
    "import matplotlib.pyplot as plt\n",
    "import copy"
   ]
  },
  {
   "cell_type": "code",
   "execution_count": 2,
   "metadata": {},
   "outputs": [],
   "source": [
    "%load_ext autoreload\n",
    "%autoreload 2"
   ]
  },
  {
   "cell_type": "code",
   "execution_count": 35,
   "metadata": {},
   "outputs": [],
   "source": [
    "sys.path.append('../../statmechlib')\n",
    "from statmechlib.read_write import read_vasp\n",
    "from statmechlib.preprocessing import Trajectory, get_stats_EAM"
   ]
  },
  {
   "cell_type": "code",
   "execution_count": 4,
   "metadata": {
    "collapsed": true
   },
   "outputs": [],
   "source": [
    "target_raw = '../data/target_raw'\n",
    "target_proc = '../data/target_processed'\n",
    "\n",
    "datasets = ['bcc_npt_langevin_300K',\n",
    "            'fcc_npt_langevin_300K',\n",
    "            'vac_npt_langevin_2000K',\n",
    "            'i110_npt_langevin_2000K',\n",
    "            'i111_npt_langevin_2000K',\n",
    "            'screw_111_npt_langevin_2000K',\n",
    "            'bcc_npt_langevin_3700K',\n",
    "            'liq_3700K',\n",
    "            'liq_5000K']\n",
    "\n",
    "datasets_0k = ['bcc_0k',\n",
    "               'fcc_0k',\n",
    "               'vac_0k',\n",
    "               'i110_0k',\n",
    "               'i111_0k',\n",
    "               'screw_111_0k']"
   ]
  },
  {
   "cell_type": "code",
   "execution_count": 5,
   "metadata": {
    "collapsed": true
   },
   "outputs": [],
   "source": [
    "#with open(os.path.join(target_proc,  \"datasets.pickle\"), 'wb') as fo:\n",
    "#    pickle.dump(datasets, fo)\n",
    "#\n",
    "#print(datasets)"
   ]
  },
  {
   "cell_type": "code",
   "execution_count": 6,
   "metadata": {
    "collapsed": true
   },
   "outputs": [],
   "source": [
    "trajdirs = [target_raw + '/' + dataset for dataset in datasets]\n",
    "trajdirs_0k = [target_raw + '/' + dataset for dataset in datasets_0k]"
   ]
  },
  {
   "cell_type": "code",
   "execution_count": 92,
   "metadata": {},
   "outputs": [
    {
     "name": "stdout",
     "output_type": "stream",
     "text": [
      "Reading ../data/target_raw/bcc_npt_langevin_300K/OUTCAR\n",
      "Reading ../data/target_raw/bcc_npt_langevin_300K/POSCAR\n",
      "Reading ../data/target_raw/bcc_npt_langevin_300K/CONTCAR\n",
      "Reading ../data/target_raw/bcc_npt_langevin_300K/XDATCAR\n",
      "Reading ../data/target_raw/bcc_npt_langevin_300K/OSZICAR\n",
      "Reading ../data/target_raw/bcc_npt_langevin_300K/INCAR\n",
      "Reading ../data/target_raw/fcc_npt_langevin_300K/OUTCAR\n",
      "Reading ../data/target_raw/fcc_npt_langevin_300K/POSCAR\n",
      "Reading ../data/target_raw/fcc_npt_langevin_300K/CONTCAR\n",
      "Reading ../data/target_raw/fcc_npt_langevin_300K/XDATCAR\n",
      "Reading ../data/target_raw/fcc_npt_langevin_300K/OSZICAR\n",
      "Reading ../data/target_raw/fcc_npt_langevin_300K/INCAR\n",
      "Reading ../data/target_raw/vac_npt_langevin_2000K/OUTCAR\n",
      "Reading ../data/target_raw/vac_npt_langevin_2000K/POSCAR\n",
      "Reading ../data/target_raw/vac_npt_langevin_2000K/CONTCAR\n",
      "Reading ../data/target_raw/vac_npt_langevin_2000K/XDATCAR\n",
      "Reading ../data/target_raw/vac_npt_langevin_2000K/OSZICAR\n",
      "Reading ../data/target_raw/vac_npt_langevin_2000K/INCAR\n",
      "Reading ../data/target_raw/i110_npt_langevin_2000K/OUTCAR\n",
      "Reading ../data/target_raw/i110_npt_langevin_2000K/POSCAR\n",
      "Reading ../data/target_raw/i110_npt_langevin_2000K/CONTCAR\n",
      "Reading ../data/target_raw/i110_npt_langevin_2000K/XDATCAR\n",
      "Reading ../data/target_raw/i110_npt_langevin_2000K/OSZICAR\n",
      "Reading ../data/target_raw/i110_npt_langevin_2000K/INCAR\n",
      "Reading ../data/target_raw/i111_npt_langevin_2000K/OUTCAR\n",
      "Reading ../data/target_raw/i111_npt_langevin_2000K/POSCAR\n",
      "Reading ../data/target_raw/i111_npt_langevin_2000K/CONTCAR\n",
      "Reading ../data/target_raw/i111_npt_langevin_2000K/XDATCAR\n",
      "Reading ../data/target_raw/i111_npt_langevin_2000K/OSZICAR\n",
      "Reading ../data/target_raw/i111_npt_langevin_2000K/INCAR\n",
      "Reading ../data/target_raw/screw_111_npt_langevin_2000K/OUTCAR\n",
      "Reading ../data/target_raw/screw_111_npt_langevin_2000K/POSCAR\n",
      "Reading ../data/target_raw/screw_111_npt_langevin_2000K/CONTCAR\n",
      "Reading ../data/target_raw/screw_111_npt_langevin_2000K/XDATCAR\n",
      "Reading ../data/target_raw/screw_111_npt_langevin_2000K/OSZICAR\n",
      "Reading ../data/target_raw/screw_111_npt_langevin_2000K/INCAR\n",
      "Reading ../data/target_raw/bcc_npt_langevin_3700K/OUTCAR\n",
      "Reading ../data/target_raw/bcc_npt_langevin_3700K/POSCAR\n",
      "Reading ../data/target_raw/bcc_npt_langevin_3700K/CONTCAR\n",
      "Reading ../data/target_raw/bcc_npt_langevin_3700K/XDATCAR\n",
      "Reading ../data/target_raw/bcc_npt_langevin_3700K/OSZICAR\n",
      "Reading ../data/target_raw/bcc_npt_langevin_3700K/INCAR\n",
      "Reading ../data/target_raw/liq_3700K/OUTCAR\n",
      "Reading ../data/target_raw/liq_3700K/POSCAR\n",
      "Reading ../data/target_raw/liq_3700K/CONTCAR\n",
      "Reading ../data/target_raw/liq_3700K/XDATCAR\n",
      "Reading ../data/target_raw/liq_3700K/OSZICAR\n",
      "Reading ../data/target_raw/liq_3700K/INCAR\n",
      "Reading ../data/target_raw/liq_5000K/OUTCAR\n",
      "Reading ../data/target_raw/liq_5000K/POSCAR\n",
      "Reading ../data/target_raw/liq_5000K/CONTCAR\n",
      "Reading ../data/target_raw/liq_5000K/XDATCAR\n",
      "Reading ../data/target_raw/liq_5000K/OSZICAR\n",
      "Reading ../data/target_raw/liq_5000K/INCAR\n"
     ]
    }
   ],
   "source": [
    "trajectories = {}\n",
    "for name, traj_path in zip(datasets, trajdirs):\n",
    "    trajectories[name] = read_vasp(traj_path)"
   ]
  },
  {
   "cell_type": "code",
   "execution_count": 93,
   "metadata": {},
   "outputs": [
    {
     "name": "stdout",
     "output_type": "stream",
     "text": [
      "Reading ../data/target_raw/bcc_0k/OUTCAR\n",
      "Reading ../data/target_raw/bcc_0k/POSCAR\n",
      "Reading ../data/target_raw/bcc_0k/CONTCAR\n",
      "Reading ../data/target_raw/bcc_0k/XDATCAR\n",
      "Reading ../data/target_raw/bcc_0k/OSZICAR\n",
      "Reading ../data/target_raw/bcc_0k/INCAR\n",
      "Reading ../data/target_raw/fcc_0k/OUTCAR\n",
      "Reading ../data/target_raw/fcc_0k/POSCAR\n",
      "Reading ../data/target_raw/fcc_0k/CONTCAR\n",
      "Reading ../data/target_raw/fcc_0k/OSZICAR\n",
      "Reading ../data/target_raw/fcc_0k/INCAR\n",
      "Reading ../data/target_raw/vac_0k/OUTCAR\n",
      "Reading ../data/target_raw/vac_0k/POSCAR\n",
      "Reading ../data/target_raw/vac_0k/CONTCAR\n",
      "Reading ../data/target_raw/vac_0k/OSZICAR\n",
      "Reading ../data/target_raw/vac_0k/INCAR\n",
      "Reading ../data/target_raw/i110_0k/OUTCAR\n",
      "Reading ../data/target_raw/i110_0k/POSCAR\n",
      "Reading ../data/target_raw/i110_0k/CONTCAR\n",
      "Reading ../data/target_raw/i110_0k/XDATCAR\n",
      "Reading ../data/target_raw/i110_0k/OSZICAR\n",
      "Reading ../data/target_raw/i110_0k/INCAR\n",
      "Reading ../data/target_raw/i111_0k/OUTCAR\n",
      "Reading ../data/target_raw/i111_0k/POSCAR\n",
      "Reading ../data/target_raw/i111_0k/CONTCAR\n",
      "Reading ../data/target_raw/i111_0k/XDATCAR\n",
      "Reading ../data/target_raw/i111_0k/OSZICAR\n",
      "Reading ../data/target_raw/i111_0k/INCAR\n",
      "Reading ../data/target_raw/screw_111_0k/OUTCAR\n",
      "Reading ../data/target_raw/screw_111_0k/POSCAR\n",
      "Reading ../data/target_raw/screw_111_0k/CONTCAR\n",
      "Reading ../data/target_raw/screw_111_0k/OSZICAR\n",
      "Reading ../data/target_raw/screw_111_0k/INCAR\n"
     ]
    }
   ],
   "source": [
    "trajectories_0k = {}\n",
    "for name, traj_path in zip(datasets_0k, trajdirs_0k):\n",
    "    trajectories_0k[name] = read_vasp(traj_path)"
   ]
  },
  {
   "cell_type": "code",
   "execution_count": 97,
   "metadata": {},
   "outputs": [
    {
     "data": {
      "text/plain": [
       "(dict_keys(['box', 'xyz', 'atom_type', 'energy', 'forces', 'temp', 'free_energy', 'total_energy', 'atom_num', 'ensemble', 'box0', 'xyz0', 'atom_type0', 'atom_name', 'atom_num0']),\n",
       " '../data/target_raw/vac_npt_langevin_2000K',\n",
       " 'vac_npt_langevin_2000K')"
      ]
     },
     "execution_count": 97,
     "metadata": {},
     "output_type": "execute_result"
    }
   ],
   "source": [
    "trajectories[datasets[2]].keys(), trajdirs[2], datasets[2]"
   ]
  },
  {
   "cell_type": "code",
   "execution_count": 105,
   "metadata": {
    "collapsed": true
   },
   "outputs": [],
   "source": [
    "# Convert MD trajectory dicts to objects\n",
    "trjs = {}\n",
    "for k, trj in trajectories.items():\n",
    "    trjs[k] = Trajectory(trj, inplace=False)"
   ]
  },
  {
   "cell_type": "code",
   "execution_count": 106,
   "metadata": {},
   "outputs": [],
   "source": [
    "# Convert MD trajectory 0K configs to objects\n",
    "trjs_0k = {}\n",
    "for k, trj in trajectories_0k.items():\n",
    "    trjs_0k[k] = Trajectory(trj, inplace=False)[-1]"
   ]
  },
  {
   "cell_type": "code",
   "execution_count": 132,
   "metadata": {},
   "outputs": [],
   "source": [
    "trjs_all = copy.deepcopy(trjs)"
   ]
  },
  {
   "cell_type": "code",
   "execution_count": 120,
   "metadata": {},
   "outputs": [],
   "source": [
    "trj_big_screw_0k = trjs_0k['screw_111_0k'].replicate(vec_a=1, vec_b=4, vec_c=1)\n",
    "trj_big_screw = trjs['screw_111_npt_langevin_2000K'].replicate(vec_a=1, vec_b=4, vec_c=1)"
   ]
  },
  {
   "cell_type": "code",
   "execution_count": 142,
   "metadata": {},
   "outputs": [
    {
     "name": "stdout",
     "output_type": "stream",
     "text": [
      "bcc_0k\n",
      "fcc_0k\n",
      "vac_0k\n",
      "i110_0k\n",
      "i111_0k\n",
      "screw_111_0k\n"
     ]
    }
   ],
   "source": [
    "traj0k = trjs_0k['bcc_0k']\n",
    "\n",
    "for k, trj in trjs_0k.items():\n",
    "    print(k)\n",
    "    if ('screw' not in k) and ('bcc' not in k):\n",
    "        traj0k.append(trj)\n",
    "    print(len())\n",
    "\n",
    "traj0k.append(trj_big_screw_0k)"
   ]
  },
  {
   "cell_type": "code",
   "execution_count": 140,
   "metadata": {},
   "outputs": [
    {
     "data": {
      "text/plain": [
       "[array([[12.748742,  0.      ,  0.      ],\n",
       "        [ 0.      , 12.748742,  0.      ],\n",
       "        [ 0.      ,  0.      , 12.748742]]),\n",
       " array([[10.85089164,  0.        ,  0.        ],\n",
       "        [ 0.        , 10.85089164,  0.        ],\n",
       "        [ 0.        ,  0.        , 10.85089164]]),\n",
       " array([[12.73304597,  0.        ,  0.        ],\n",
       "        [ 0.        , 12.73304597,  0.        ],\n",
       "        [ 0.        ,  0.        , 12.73304597]]),\n",
       " array([[12.6836,  0.    ,  0.    ],\n",
       "        [ 0.    , 12.6836,  0.    ],\n",
       "        [ 0.    ,  0.    , 12.6836]]),\n",
       " array([[12.6836,  0.    ,  0.    ],\n",
       "        [ 0.    , 12.6836,  0.    ],\n",
       "        [ 0.    ,  0.    , 12.6836]]),\n",
       " array([[39.07300206,  0.        ,  0.        ],\n",
       "        [ 0.        , 11.05151387,  0.        ],\n",
       "        [19.53650103,  1.38143923, 20.30292746]]),\n",
       " array([[10.85089164,  0.        ,  0.        ],\n",
       "        [ 0.        , 10.85089164,  0.        ],\n",
       "        [ 0.        ,  0.        , 10.85089164]]),\n",
       " array([[12.73304597,  0.        ,  0.        ],\n",
       "        [ 0.        , 12.73304597,  0.        ],\n",
       "        [ 0.        ,  0.        , 12.73304597]]),\n",
       " array([[12.6836,  0.    ,  0.    ],\n",
       "        [ 0.    , 12.6836,  0.    ],\n",
       "        [ 0.    ,  0.    , 12.6836]]),\n",
       " array([[12.6836,  0.    ,  0.    ],\n",
       "        [ 0.    , 12.6836,  0.    ],\n",
       "        [ 0.    ,  0.    , 12.6836]]),\n",
       " array([[39.07300206,  0.        ,  0.        ],\n",
       "        [ 0.        , 11.05151387,  0.        ],\n",
       "        [19.53650103,  1.38143923, 20.30292746]])]"
      ]
     },
     "execution_count": 140,
     "metadata": {},
     "output_type": "execute_result"
    }
   ],
   "source": [
    "traj0k['box']"
   ]
  },
  {
   "cell_type": "code",
   "execution_count": 80,
   "metadata": {},
   "outputs": [
    {
     "data": {
      "text/plain": [
       "'npt'"
      ]
     },
     "execution_count": 80,
     "metadata": {},
     "output_type": "execute_result"
    }
   ],
   "source": [
    "trj_end['ensemble']"
   ]
  },
  {
   "cell_type": "code",
   "execution_count": 82,
   "metadata": {},
   "outputs": [
    {
     "data": {
      "text/plain": [
       "['npt', 'npt', 'npt', 'npt', 'npt', 'npt']"
      ]
     },
     "execution_count": 82,
     "metadata": {},
     "output_type": "execute_result"
    }
   ],
   "source": [
    "[t['ensemble'] for t in trajectories_0k]"
   ]
  },
  {
   "cell_type": "code",
   "execution_count": 32,
   "metadata": {},
   "outputs": [
    {
     "name": "stdout",
     "output_type": "stream",
     "text": [
      "0 [('W', 128)] 1496\n",
      "1 [('W', 108)] 552\n",
      "2 [('W', 127)] 1480\n",
      "3 [('W', 129)] 1461\n",
      "4 [('W', 129)] 1477\n",
      "5 [('W', 135)] 1992\n",
      "6 [('W', 128)] 1329\n",
      "7 [('W', 113)] 1153\n",
      "8 [('W', 113)] 1406\n"
     ]
    },
    {
     "data": {
      "image/png": "[encoded data removed]",
      "text/plain": [
       "<Figure size 432x288 with 1 Axes>"
      ]
     },
     "metadata": {},
     "output_type": "display_data"
    }
   ],
   "source": [
    "for i, trj in enumerate(trajectories):\n",
    "    #for key in trj:\n",
    "    print(i, list(zip(trj['atom_name'], trj['atom_num'])), len(trj['temp']))\n",
    "    plt.plot(trj['temp'], label=i)\n",
    "\n",
    "plt.legend()\n",
    "plt.show()"
   ]
  },
  {
   "cell_type": "code",
   "execution_count": 36,
   "metadata": {},
   "outputs": [
    {
     "name": "stdout",
     "output_type": "stream",
     "text": [
      "0 [('W', 128)] 1496\n",
      "1 [('W', 108)] 552\n",
      "2 [('W', 127)] 1480\n",
      "3 [('W', 129)] 1461\n",
      "4 [('W', 129)] 1477\n",
      "5 [('W', 135)] 1992\n",
      "6 [('W', 128)] 1329\n",
      "7 [('W', 113)] 1153\n",
      "8 [('W', 113)] 1406\n"
     ]
    },
    {
     "data": {
      "image/png": "[encoded data removed]",
      "text/plain": [
       "<Figure size 432x288 with 1 Axes>"
      ]
     },
     "metadata": {},
     "output_type": "display_data"
    }
   ],
   "source": [
    "for i, trj in enumerate(trajectories):\n",
    "    print(i, list(zip(trj['atom_name'], trj['atom_num'])), len(trj['energy']))\n",
    "    plt.plot(trj['energy'], label=datasets[i])\n",
    "plt.legend()\n",
    "plt.show()"
   ]
  },
  {
   "cell_type": "code",
   "execution_count": 64,
   "metadata": {},
   "outputs": [
    {
     "data": {
      "text/plain": [
       "dict_keys(['box', 'xyz', 'atom_type', 'energy', 'forces', 'temp', 'free_energy', 'total_energy', 'atom_num', 'ensemble', 'box0', 'xyz0', 'atom_type0', 'atom_name', 'atom_num0'])"
      ]
     },
     "execution_count": 64,
     "metadata": {},
     "output_type": "execute_result"
    }
   ],
   "source": [
    "trajectories_0k[0].keys()"
   ]
  },
  {
   "cell_type": "code",
   "execution_count": 71,
   "metadata": {},
   "outputs": [
    {
     "name": "stderr",
     "output_type": "stream",
     "text": [
      "[autoreload of statmechlib.preprocessing.trajectory failed: Traceback (most recent call last):\n",
      "  File \"//anaconda/envs/py36/lib/python3.6/site-packages/IPython/extensions/autoreload.py\", line 245, in check\n",
      "    superreload(m, reload, self.old_objects)\n",
      "  File \"//anaconda/envs/py36/lib/python3.6/site-packages/IPython/extensions/autoreload.py\", line 368, in superreload\n",
      "    module = reload(module)\n",
      "  File \"//anaconda/envs/py36/lib/python3.6/imp.py\", line 314, in reload\n",
      "    return importlib.reload(module)\n",
      "  File \"//anaconda/envs/py36/lib/python3.6/importlib/__init__.py\", line 166, in reload\n",
      "    _bootstrap._exec(spec, module)\n",
      "  File \"<frozen importlib._bootstrap>\", line 608, in _exec\n",
      "  File \"<frozen importlib._bootstrap_external>\", line 674, in exec_module\n",
      "  File \"<frozen importlib._bootstrap_external>\", line 781, in get_code\n",
      "  File \"<frozen importlib._bootstrap_external>\", line 741, in source_to_code\n",
      "  File \"<frozen importlib._bootstrap>\", line 205, in _call_with_frames_removed\n",
      "  File \"../../statmechlib/statmechlib/preprocessing/trajectory.py\", line 60\n",
      "    raise IndexError, \"The index (%d) is out of range.\"%key\n",
      "                    ^\n",
      "SyntaxError: invalid syntax\n",
      "]\n"
     ]
    },
    {
     "data": {
      "text/plain": [
       "[('box', list),\n",
       " ('xyz', list),\n",
       " ('atom_type', list),\n",
       " ('energy', list),\n",
       " ('forces', list),\n",
       " ('temp', list),\n",
       " ('free_energy', list),\n",
       " ('total_energy', list),\n",
       " ('atom_num', list),\n",
       " ('ensemble', str),\n",
       " ('box0', numpy.ndarray),\n",
       " ('xyz0', numpy.ndarray),\n",
       " ('atom_type0', numpy.ndarray),\n",
       " ('atom_name', list),\n",
       " ('atom_num0', list)]"
      ]
     },
     "execution_count": 71,
     "metadata": {},
     "output_type": "execute_result"
    }
   ],
   "source": [
    "[(k, type(v)) for k, v in trajectories_0k[0].items()]"
   ]
  },
  {
   "cell_type": "code",
   "execution_count": 73,
   "metadata": {},
   "outputs": [
    {
     "data": {
      "text/plain": [
       "['W']"
      ]
     },
     "execution_count": 73,
     "metadata": {},
     "output_type": "execute_result"
    }
   ],
   "source": [
    "trajectories_0k[0]['atom_name']"
   ]
  },
  {
   "cell_type": "code",
   "execution_count": null,
   "metadata": {
    "collapsed": true
   },
   "outputs": [],
   "source": [
    "# Create a combined 'trajectory' of 0K configurations\n",
    "trj_0k = dict.fromkeys(trajectories_0k[0])\n",
    "\n",
    "# Append the last relaxation configurations and corresponding energies\n",
    "for i, trj in enumerate(trajectories_0k):\n",
    "    for key in trj:\n",
    "        #print('Start:', i, key, len(trj[key]), end=' ')\n",
    "        if 'atom_name' in key:\n",
    "            continue\n",
    "        if type(trj[key]) == list:\n",
    "            trj[key][:] = trj[key][min_conf[i]:]"
   ]
  },
  {
   "cell_type": "code",
   "execution_count": 38,
   "metadata": {},
   "outputs": [
    {
     "name": "stdout",
     "output_type": "stream",
     "text": [
      "0 [('W', 128)] 5\n"
     ]
    },
    {
     "ename": "TypeError",
     "evalue": "scatter() missing 1 required positional argument: 'y'",
     "output_type": "error",
     "traceback": [
      "\u001b[0;31m---------------------------------------------------------------------------\u001b[0m",
      "\u001b[0;31mTypeError\u001b[0m                                 Traceback (most recent call last)",
      "\u001b[0;32m<ipython-input-38-43e2e0e71607>\u001b[0m in \u001b[0;36m<module>\u001b[0;34m()\u001b[0m\n\u001b[1;32m      2\u001b[0m     \u001b[0;31m#for key in trj:\u001b[0m\u001b[0;34m\u001b[0m\u001b[0;34m\u001b[0m\u001b[0m\n\u001b[1;32m      3\u001b[0m     \u001b[0mprint\u001b[0m\u001b[0;34m(\u001b[0m\u001b[0mi\u001b[0m\u001b[0;34m,\u001b[0m \u001b[0mlist\u001b[0m\u001b[0;34m(\u001b[0m\u001b[0mzip\u001b[0m\u001b[0;34m(\u001b[0m\u001b[0mtrj\u001b[0m\u001b[0;34m[\u001b[0m\u001b[0;34m'atom_name'\u001b[0m\u001b[0;34m]\u001b[0m\u001b[0;34m,\u001b[0m \u001b[0mtrj\u001b[0m\u001b[0;34m[\u001b[0m\u001b[0;34m'atom_num'\u001b[0m\u001b[0;34m]\u001b[0m\u001b[0;34m)\u001b[0m\u001b[0;34m)\u001b[0m\u001b[0;34m,\u001b[0m \u001b[0mlen\u001b[0m\u001b[0;34m(\u001b[0m\u001b[0mtrj\u001b[0m\u001b[0;34m[\u001b[0m\u001b[0;34m'energy'\u001b[0m\u001b[0;34m]\u001b[0m\u001b[0;34m)\u001b[0m\u001b[0;34m)\u001b[0m\u001b[0;34m\u001b[0m\u001b[0m\n\u001b[0;32m----> 4\u001b[0;31m     \u001b[0mplt\u001b[0m\u001b[0;34m.\u001b[0m\u001b[0mscatter\u001b[0m\u001b[0;34m(\u001b[0m\u001b[0mtrj\u001b[0m\u001b[0;34m[\u001b[0m\u001b[0;34m'energy'\u001b[0m\u001b[0;34m]\u001b[0m\u001b[0;34m[\u001b[0m\u001b[0;34m-\u001b[0m\u001b[0;36m1\u001b[0m\u001b[0;34m]\u001b[0m\u001b[0;34m,\u001b[0m \u001b[0mlabel\u001b[0m\u001b[0;34m=\u001b[0m\u001b[0mdatasets_0k\u001b[0m\u001b[0;34m[\u001b[0m\u001b[0mi\u001b[0m\u001b[0;34m]\u001b[0m\u001b[0;34m)\u001b[0m\u001b[0;34m\u001b[0m\u001b[0m\n\u001b[0m\u001b[1;32m      5\u001b[0m \u001b[0mplt\u001b[0m\u001b[0;34m.\u001b[0m\u001b[0mlegend\u001b[0m\u001b[0;34m(\u001b[0m\u001b[0;34m)\u001b[0m\u001b[0;34m\u001b[0m\u001b[0m\n\u001b[1;32m      6\u001b[0m \u001b[0mplt\u001b[0m\u001b[0;34m.\u001b[0m\u001b[0mshow\u001b[0m\u001b[0;34m(\u001b[0m\u001b[0;34m)\u001b[0m\u001b[0;34m\u001b[0m\u001b[0m\n",
      "\u001b[0;31mTypeError\u001b[0m: scatter() missing 1 required positional argument: 'y'"
     ]
    }
   ],
   "source": [
    "for i, trj in enumerate(trajectories_0k):\n",
    "    print(i, list(zip(trj['atom_name'], trj['atom_num'])), len(trj['energy']))\n",
    "    plt.scatter(trj['energy'][-1], label=datasets_0k[i])\n",
    "plt.legend()\n",
    "plt.show()"
   ]
  },
  {
   "cell_type": "code",
   "execution_count": null,
   "metadata": {
    "collapsed": true
   },
   "outputs": [],
   "source": [
    "for i, params_uopt in enumerate(optimal_parameters[7:8]):\n",
    "    opti_out, targ_out = udif_print(params_uopt, stats, target, utot_EAM)\n",
    "    plt.title('Selected configurations at 0K')\n",
    "    if i == len(optimal_parameters)-1:\n",
    "        plt.plot([o for o in opti_out[-1][:-1]], 'x--', label='optimized')\n",
    "        plt.plot(targ_out[-1][:-1], 'o', label='target', markersize=10)\n",
    "    else:\n",
    "        plt.plot([o for o in opti_out[-1][:-1]], 'x--')\n",
    "        plt.plot(targ_out[-1][:-1], 'o', label='target', markersize=10)\n",
    "\n",
    "plt.xticks([0, 1, 2, 3], ['BCC','vacancy','110','111'])\n",
    "plt.ylabel('Energy [eV]')\n",
    "plt.legend()"
   ]
  },
  {
   "cell_type": "code",
   "execution_count": 216,
   "metadata": {
    "collapsed": true
   },
   "outputs": [],
   "source": [
    "# Process trajectories - cut out the equilibration periods\n",
    "#min_conf = [100, 150, 100, 0] # starting indices\n",
    "min_conf = [0, 0, 0, 0] # starting indices"
   ]
  },
  {
   "cell_type": "code",
   "execution_count": 217,
   "metadata": {
    "collapsed": true
   },
   "outputs": [],
   "source": [
    "# cycle over trajectories and eliminate equilibration configurations in all\n",
    "for i, trj in enumerate(trajectories):\n",
    "    for key in trj:\n",
    "        #print('Start:', i, key, len(trj[key]), end=' ')\n",
    "        if 'atom_num' in key or 'atom_name' in key:\n",
    "            continue\n",
    "        if type(trj[key]) == list:\n",
    "            trj[key][:] = trj[key][min_conf[i]:]\n",
    "            \n",
    "        #print('End:', i, key, len(trj[key]))"
   ]
  },
  {
   "cell_type": "code",
   "execution_count": 218,
   "metadata": {},
   "outputs": [
    {
     "name": "stdout",
     "output_type": "stream",
     "text": [
      "0 [('C', 32), ('N', 32), ('Ti', 96), ('O', 64), ('Al', 4), ('F', 12)] 619\n",
      "1 [('C', 32), ('N', 32), ('Ti', 96), ('O', 64), ('Al', 4), ('F', 12)] 426\n",
      "2 [('C', 32), ('N', 32), ('Ti', 96), ('F', 76), ('Al', 4)] 432\n",
      "3 [('C', 32), ('N', 32), ('Ti', 96), ('F', 76), ('Al', 4)] 458\n"
     ]
    },
    {
     "data": {
      "image/png": "[encoded data removed]",
      "text/plain": [
       "<Figure size 432x288 with 1 Axes>"
      ]
     },
     "metadata": {},
     "output_type": "display_data"
    },
    {
     "name": "stdout",
     "output_type": "stream",
     "text": [
      "0 [('C', 32), ('N', 32), ('Ti', 96), ('O', 64), ('Al', 4), ('F', 12)] 619\n",
      "1 [('C', 32), ('N', 32), ('Ti', 96), ('O', 64), ('Al', 4), ('F', 12)] 426\n",
      "2 [('C', 32), ('N', 32), ('Ti', 96), ('F', 76), ('Al', 4)] 432\n",
      "3 [('C', 32), ('N', 32), ('Ti', 96), ('F', 76), ('Al', 4)] 458\n"
     ]
    },
    {
     "data": {
      "text/plain": [
       "<function matplotlib.pyplot.legend(*args, **kwargs)>"
      ]
     },
     "execution_count": 218,
     "metadata": {},
     "output_type": "execute_result"
    },
    {
     "data": {
      "image/png": "[encoded data removed]",
      "text/plain": [
       "<Figure size 432x288 with 1 Axes>"
      ]
     },
     "metadata": {},
     "output_type": "display_data"
    }
   ],
   "source": [
    "for i, trj in enumerate(trajectories):\n",
    "    #for key in trj:\n",
    "    print(i, list(zip(trj['atom_name'], trj['atom_num'])), len(trj['temp']))\n",
    "    plt.plot(trj['temp'], label=i)\n",
    "\n",
    "plt.legend()\n",
    "plt.show()\n",
    "\n",
    "for i, trj in enumerate(trajectories):\n",
    "    #for key in trj:\n",
    "    print(i, list(zip(trj['atom_name'], trj['atom_num'])), len(trj['energy']))\n",
    "    plt.plot(trj['energy'], label=i)\n",
    "plt.legend"
   ]
  },
  {
   "cell_type": "code",
   "execution_count": 219,
   "metadata": {
    "collapsed": true
   },
   "outputs": [],
   "source": [
    "trjs = []\n",
    "for trj in trajectories:\n",
    "    trj['ensemble'] = 'npt'\n",
    "    trjs.append(Trajectory(trj, inplace=False))"
   ]
  },
  {
   "cell_type": "code",
   "execution_count": 220,
   "metadata": {
    "collapsed": true
   },
   "outputs": [],
   "source": [
    "trj_f = trjs[3]"
   ]
  },
  {
   "cell_type": "code",
   "execution_count": 221,
   "metadata": {
    "collapsed": true
   },
   "outputs": [],
   "source": [
    "#trj_f.append(trjs[2])"
   ]
  },
  {
   "cell_type": "code",
   "execution_count": 222,
   "metadata": {},
   "outputs": [
    {
     "name": "stdout",
     "output_type": "stream",
     "text": [
      "0 [('C', 32), ('N', 32), ('Ti', 96), ('O', 64), ('Al', 4), ('F', 12)] 519\n",
      "1 [('C', 32), ('N', 32), ('Ti', 96), ('F', 76), ('Al', 4)] 458\n"
     ]
    },
    {
     "data": {
      "image/png": "[encoded data removed]",
      "text/plain": [
       "<Figure size 432x288 with 1 Axes>"
      ]
     },
     "metadata": {},
     "output_type": "display_data"
    },
    {
     "name": "stdout",
     "output_type": "stream",
     "text": [
      "0 [('C', 32), ('N', 32), ('Ti', 96), ('O', 64), ('Al', 4), ('F', 12)] 519\n",
      "1 [('C', 32), ('N', 32), ('Ti', 96), ('F', 76), ('Al', 4)] 458\n"
     ]
    },
    {
     "data": {
      "text/plain": [
       "<function matplotlib.pyplot.legend(*args, **kwargs)>"
      ]
     },
     "execution_count": 222,
     "metadata": {},
     "output_type": "execute_result"
    },
    {
     "data": {
      "image/png": "[encoded data removed]",
      "text/plain": [
       "<Figure size 432x288 with 1 Axes>"
      ]
     },
     "metadata": {},
     "output_type": "display_data"
    }
   ],
   "source": [
    "for i, trj in enumerate([trj_o, trj_f]):\n",
    "    #for key in trj:\n",
    "    print(i, list(zip(trj['atom_name'], trj['atom_num'])), len(trj['temp']))\n",
    "    plt.plot(trj['temp'], label=i)\n",
    "\n",
    "plt.legend()\n",
    "plt.show()\n",
    "\n",
    "for i, trj in enumerate([trj_o, trj_f]):\n",
    "    #for key in trj:\n",
    "    print(i, list(zip(trj['atom_name'], trj['atom_num'])), len(trj['energy']))\n",
    "    plt.plot(trj['energy'], label=i)\n",
    "plt.legend"
   ]
  },
  {
   "cell_type": "code",
   "execution_count": 223,
   "metadata": {
    "collapsed": true
   },
   "outputs": [],
   "source": [
    "#trj_o.to_xyz(os.path.join(target_raw, 'mx_o.xyz'))"
   ]
  },
  {
   "cell_type": "code",
   "execution_count": 228,
   "metadata": {
    "collapsed": true
   },
   "outputs": [],
   "source": [
    "trj_f.to_xyz(os.path.join(target_raw, 'mx_f.xyz'))\n",
    "trjs[2].to_xyz(os.path.join(target_raw, 'mx_f0.xyz'))\n",
    "trjs[0].to_xyz(os.path.join(target_raw, 'mx_o0.xyz'))"
   ]
  },
  {
   "cell_type": "code",
   "execution_count": 69,
   "metadata": {},
   "outputs": [
    {
     "data": {
      "text/plain": [
       "dict_keys(['box', 'xyz', 'atom_type', 'energy', 'forces', 'temp', 'free_energy', 'total_energy', 'atom_num', 'box0', 'xyz0', 'atom_type0', 'atom_name', 'ensemble'])"
      ]
     },
     "execution_count": 69,
     "metadata": {},
     "output_type": "execute_result"
    }
   ],
   "source": [
    "trj_f._trajectory.keys()"
   ]
  },
  {
   "cell_type": "code",
   "execution_count": 71,
   "metadata": {},
   "outputs": [
    {
     "data": {
      "text/plain": [
       "array([[12.26800591,  0.        ,  0.        ],\n",
       "       [-6.12871001, 10.63327471,  0.        ],\n",
       "       [ 0.        ,  0.        , 22.39172064]])"
      ]
     },
     "execution_count": 71,
     "metadata": {},
     "output_type": "execute_result"
    }
   ],
   "source": [
    "trj_f['box'][0]"
   ]
  },
  {
   "cell_type": "code",
   "execution_count": 72,
   "metadata": {},
   "outputs": [
    {
     "name": "stdout",
     "output_type": "stream",
     "text": [
      "atom_type 458 458\n"
     ]
    }
   ],
   "source": [
    "trj_f_big = trj_f.replicate(vec_a=2, vec_b=2, vec_c=1)"
   ]
  },
  {
   "cell_type": "code",
   "execution_count": 74,
   "metadata": {},
   "outputs": [
    {
     "data": {
      "text/plain": [
       "(array([[12.26800591,  0.        ,  0.        ],\n",
       "        [-6.12871001, 10.63327471,  0.        ],\n",
       "        [ 0.        ,  0.        , 22.39172064]]),\n",
       " array([[ 24.53601182,   0.        ,   0.        ],\n",
       "        [-12.25742002,  21.26654942,   0.        ],\n",
       "        [  0.        ,   0.        ,  22.39172064]]))"
      ]
     },
     "execution_count": 74,
     "metadata": {},
     "output_type": "execute_result"
    }
   ],
   "source": [
    "trj_f['box'][0], trj_f_big['box'][0]"
   ]
  },
  {
   "cell_type": "code",
   "execution_count": 75,
   "metadata": {
    "collapsed": true
   },
   "outputs": [],
   "source": [
    "trj_f_big.to_xyz(os.path.join(target_raw, 'mx_f_big.xyz'))"
   ]
  },
  {
   "cell_type": "code",
   "execution_count": 191,
   "metadata": {},
   "outputs": [
    {
     "name": "stdout",
     "output_type": "stream",
     "text": [
      "rcut: 8.0 (960, 960) (960, 960) (960, 960)\n",
      "rcut: 8.0 (960, 960) (960, 960) (960, 960)\n"
     ]
    }
   ],
   "source": [
    "stats_big = [get_stats_Mie(xyz, box, atype, ms=[12, 6], rcut=8.0) for xyz, box, atype in zip(trj_f_big['xyz'][:2], trj_f_big['box'][:2], trj_f_big['atom_type'][:2])]"
   ]
  },
  {
   "cell_type": "code",
   "execution_count": 192,
   "metadata": {},
   "outputs": [
    {
     "data": {
      "text/plain": [
       "[{(0, 0): [0.03162699484710008, 0.6525214192650043],\n",
       "  (0, 1): [0.10672188400541137, 1.6456098108578487],\n",
       "  (0, 2): [0.08980721870694111, 8.130457894749211],\n",
       "  (0, 3): [0.0008197648577815001, 0.6534306368314461],\n",
       "  (0, 4): [1.0896124071947332e-06, 0.010061281492170431],\n",
       "  (1, 1): [0.0003984254182350491, 0.305249168529528],\n",
       "  (1, 2): [0.09797523164407955, 8.283863072227104],\n",
       "  (1, 3): [0.0013876158843156756, 0.7949456979607498],\n",
       "  (1, 4): [1.4066108079657566e-06, 0.010485025352389732],\n",
       "  (2, 2): [0.003886293902995668, 2.977894095198382],\n",
       "  (2, 3): [0.08397988232140166, 7.905704032368878],\n",
       "  (2, 4): [3.551735270483283e-05, 0.06841585160076499],\n",
       "  (3, 3): [0.007554726045737894, 2.556123720537764],\n",
       "  (3, 4): [0.0803510575908502, 2.5779593104283736],\n",
       "  (4, 4): [3.325807140913793e-08, 0.0005309305926080219]},\n",
       " {(0, 0): [0.031601778590005035, 0.6527506032628334],\n",
       "  (0, 1): [0.10722600423540615, 1.647295504723056],\n",
       "  (0, 2): [0.08997513233925168, 8.137276409146548],\n",
       "  (0, 3): [0.0008186416436684956, 0.6530472100999597],\n",
       "  (0, 4): [1.0816323459712138e-06, 0.010032941755238233],\n",
       "  (1, 1): [0.00039911926319425987, 0.3054727333455054],\n",
       "  (1, 2): [0.09794593972065788, 8.283679414987638],\n",
       "  (1, 3): [0.0013847925037258505, 0.7944633044341143],\n",
       "  (1, 4): [1.4033645105544148e-06, 0.0104787692257129],\n",
       "  (2, 2): [0.0038878961263150024, 2.9787243878896787],\n",
       "  (2, 3): [0.08383447900968001, 7.898906494383899],\n",
       "  (2, 4): [3.5480863789599214e-05, 0.06835091426559124],\n",
       "  (3, 3): [0.00755129165355627, 2.5560465530559737],\n",
       "  (3, 4): [0.08038129147899974, 2.5805741520681207],\n",
       "  (4, 4): [3.350105451626012e-08, 0.0005323955855905238]}]"
      ]
     },
     "execution_count": 192,
     "metadata": {},
     "output_type": "execute_result"
    }
   ],
   "source": [
    "[s[0] for s in stats_big]"
   ]
  },
  {
   "cell_type": "code",
   "execution_count": 187,
   "metadata": {},
   "outputs": [
    {
     "name": "stdout",
     "output_type": "stream",
     "text": [
      "Replicating: 2 2 1\n",
      "rcut: 8.0 (240, 960) (240, 960) (240, 960)\n",
      "Replicating: 2 2 1\n",
      "rcut: 8.0 (240, 960) (240, 960) (240, 960)\n"
     ]
    }
   ],
   "source": [
    "stats = [get_stats_Mie(xyz, box, atype, ms=[12, 6], rcut=8.0) for xyz, box, atype in zip(trj_f['xyz'][:2], trj_f['box'][:2], trj_f['atom_type'][:2])]"
   ]
  },
  {
   "cell_type": "code",
   "execution_count": 188,
   "metadata": {},
   "outputs": [
    {
     "data": {
      "text/plain": [
       "[{(0, 0): [0.007906748711775052, 0.16313035481625124],\n",
       "  (0, 1): [0.026680471001352783, 0.41140245271446196],\n",
       "  (0, 2): [0.022451804676735285, 2.0326144736873033],\n",
       "  (0, 3): [0.00020494121444537505, 0.16335765920786152],\n",
       "  (0, 4): [2.724031017986833e-07, 0.002515320373042608],\n",
       "  (1, 1): [9.960635455876223e-05, 0.07631229213238201],\n",
       "  (1, 2): [0.024493807911019884, 2.0709657680567757],\n",
       "  (1, 3): [0.0003469039710789188, 0.19873642449018736],\n",
       "  (1, 4): [3.5165270199143894e-07, 0.0026212563380974326],\n",
       "  (2, 2): [0.000971573475748917, 0.7444735237995957],\n",
       "  (2, 3): [0.020994970580350405, 1.9764260080922191],\n",
       "  (2, 4): [8.879338176208207e-06, 0.017103962900191248],\n",
       "  (3, 3): [0.0018886815114344743, 0.639030930134441],\n",
       "  (3, 4): [0.020087764397712562, 0.6444898276070936],\n",
       "  (4, 4): [8.314517852284482e-09, 0.00013273264815200547]},\n",
       " {(0, 0): [0.007900444647501175, 0.1631876508157079],\n",
       "  (0, 1): [0.026806501058851497, 0.4118238761807639],\n",
       "  (0, 2): [0.022493783084812938, 2.034319102286638],\n",
       "  (0, 3): [0.000204660410917124, 0.16326180252498995],\n",
       "  (0, 4): [2.7040808649280344e-07, 0.002508235438809558],\n",
       "  (1, 1): [9.977981579856509e-05, 0.07636818333637634],\n",
       "  (1, 2): [0.024486484930164455, 2.070919853746909],\n",
       "  (1, 3): [0.0003461981259314626, 0.1986158261085286],\n",
       "  (1, 4): [3.5084112763860376e-07, 0.0026196923064282247],\n",
       "  (2, 2): [0.000971974031578751, 0.7446810969724199],\n",
       "  (2, 3): [0.020958619752420006, 1.9747266235959746],\n",
       "  (2, 4): [8.870215947399802e-06, 0.017087728566397807],\n",
       "  (3, 3): [0.001887822913389067, 0.6390116382639933],\n",
       "  (3, 4): [0.02009532286974992, 0.6451435380170298],\n",
       "  (4, 4): [8.375263629065026e-09, 0.00013309889639763093]}]"
      ]
     },
     "execution_count": 188,
     "metadata": {},
     "output_type": "execute_result"
    }
   ],
   "source": [
    "[s[0] for s in stats]"
   ]
  },
  {
   "cell_type": "code",
   "execution_count": 204,
   "metadata": {},
   "outputs": [
    {
     "data": {
      "text/plain": [
       "array([-0.00022955, -0.00010835,  0.00035975])"
      ]
     },
     "execution_count": 204,
     "metadata": {},
     "output_type": "execute_result"
    }
   ],
   "source": [
    "stats[0][1][(0, 0)][-1][0]"
   ]
  },
  {
   "cell_type": "code",
   "execution_count": 208,
   "metadata": {},
   "outputs": [
    {
     "data": {
      "text/plain": [
       "array([-0.00022955, -0.00010835,  0.00035975])"
      ]
     },
     "execution_count": 208,
     "metadata": {},
     "output_type": "execute_result"
    }
   ],
   "source": [
    "stats_big[0][1][(0, 0)][-1][240]"
   ]
  },
  {
   "cell_type": "markdown",
   "metadata": {},
   "source": [
    "1. Set charges based on Weiwei's charge info and past force fields\n",
    "2. Take input parameters from the previous optimization\n",
    "3. Create energy and force function for fitting (Start from EAM notebook)\n",
    "4. Optimize"
   ]
  },
  {
   "cell_type": "code",
   "execution_count": 210,
   "metadata": {},
   "outputs": [
    {
     "data": {
      "text/plain": [
       "(array([[12.06557696,  0.        ,  0.        ],\n",
       "        [-6.05432642, 10.43313152,  0.        ],\n",
       "        [ 0.        ,  0.        , 22.02162543]]),\n",
       " array([[12.26800591,  0.        ,  0.        ],\n",
       "        [-6.12871001, 10.63327471,  0.        ],\n",
       "        [ 0.        ,  0.        , 22.39172064]]))"
      ]
     },
     "execution_count": 210,
     "metadata": {},
     "output_type": "execute_result"
    }
   ],
   "source": [
    "trj_o['box'][0], trj_f['box'][0]"
   ]
  },
  {
   "cell_type": "code",
   "execution_count": null,
   "metadata": {
    "collapsed": true
   },
   "outputs": [],
   "source": []
  }
 ],
 "metadata": {
  "kernelspec": {
   "display_name": "Python 3",
   "language": "python",
   "name": "python3"
  },
  "language_info": {
   "codemirror_mode": {
    "name": "ipython",
    "version": 3
   },
   "file_extension": ".py",
   "mimetype": "text/x-python",
   "name": "python",
   "nbconvert_exporter": "python",
   "pygments_lexer": "ipython3",
   "version": "3.6.1"
  }
 },
 "nbformat": 4,
 "nbformat_minor": 2
}
