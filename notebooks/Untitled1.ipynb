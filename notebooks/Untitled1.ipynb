{
 "cells": [
  {
   "cell_type": "code",
   "execution_count": 1,
   "metadata": {},
   "outputs": [],
   "source": [
    "%load_ext autoreload\n",
    "%autoreload 2"
   ]
  },
  {
   "cell_type": "code",
   "execution_count": 2,
   "metadata": {
    "collapsed": true
   },
   "outputs": [],
   "source": [
    "import sys"
   ]
  },
  {
   "cell_type": "code",
   "execution_count": 4,
   "metadata": {},
   "outputs": [],
   "source": [
    "sys.path.append('../../statmechlib')"
   ]
  },
  {
   "cell_type": "code",
   "execution_count": 6,
   "metadata": {
    "collapsed": true
   },
   "outputs": [],
   "source": [
    "import statmechlib"
   ]
  },
  {
   "cell_type": "code",
   "execution_count": 7,
   "metadata": {},
   "outputs": [
    {
     "name": "stdout",
     "output_type": "stream",
     "text": [
      "0.0.1\n"
     ]
    }
   ],
   "source": [
    "print(statmechlib.__version__)"
   ]
  },
  {
   "cell_type": "code",
   "execution_count": 8,
   "metadata": {},
   "outputs": [],
   "source": [
    "import statmechlib.preprocessing as prep"
   ]
  },
  {
   "cell_type": "code",
   "execution_count": 9,
   "metadata": {},
   "outputs": [
    {
     "name": "stdout",
     "output_type": "stream",
     "text": [
      "\n",
      "    Takes atom pair distances and calculates sufficeint statistics needed\n",
      "    for the parameterization of a cubic spline-based EAM model by Bonny et al. (2017).\n",
      " \n",
      "    Parameters\n",
      "    ----------\n",
      "    rr : numpy array\n",
      "         set of pair distances\n",
      "    rx : numpy array\n",
      "         set of pair distance coordinates\n",
      "    sc : python list\n",
      "         spline nodes\n",
      "\n",
      "    Returns\n",
      "    -------\n",
      "    ar, a1, a2 : numpy arrays (len(sc))\n",
      "                 atom energy-related statistics\n",
      "                 el_density**0.5, el_density, el_density**2\n",
      "    br, b1, b2 : numpy arrays (len(sc), natoms, 3 coordinates)\n",
      "                 atom force-related statistics (gradients of energy)\n",
      "                 grad(el_density**0.5), grad(el_density), grad(el_density**2)\n",
      "    \n"
     ]
    }
   ],
   "source": [
    "print(prep.get_stats_EAM.__doc__)"
   ]
  },
  {
   "cell_type": "code",
   "execution_count": 11,
   "metadata": {},
   "outputs": [],
   "source": [
    "import statmechlib.read_write as rw"
   ]
  },
  {
   "cell_type": "code",
   "execution_count": 12,
   "metadata": {},
   "outputs": [
    {
     "name": "stdout",
     "output_type": "stream",
     "text": [
      "\n",
      "    Writes tabulated EAM functions in LAMMPS format\n",
      "\n",
      "    Parameters\n",
      "    ----------\n",
      "    params: dict\n",
      "            parameters needed to construct the potential:\n",
      "\n",
      "    filename: str\n",
      "              name of the output forcefield file\n",
      "    \n"
     ]
    }
   ],
   "source": [
    "print(rw.write_eam_lammps.__doc__)"
   ]
  },
  {
   "cell_type": "code",
   "execution_count": 14,
   "metadata": {},
   "outputs": [
    {
     "name": "stdout",
     "output_type": "stream",
     "text": [
      "\n",
      "    Reads configuration and energy files from a VASP MD simulation in a given directory\n",
      "    and returns trajectory data in a dictionary.\n",
      "    \n",
      "    Parameters\n",
      "    ----------\n",
      "    dataset : string\n",
      "              directory with VASP MD simulation data, has to contain XDATCAR and md.out files\n",
      "    Returns\n",
      "    -------\n",
      "    traj : dictionary\n",
      "           trajectory information (configuration, box, energy, forces)\n",
      "    \n"
     ]
    }
   ],
   "source": [
    "print(rw.read_vasp.__doc__)"
   ]
  },
  {
   "cell_type": "code",
   "execution_count": null,
   "metadata": {
    "collapsed": true
   },
   "outputs": [],
   "source": []
  }
 ],
 "metadata": {
  "kernelspec": {
   "display_name": "Python 3",
   "language": "python",
   "name": "python3"
  },
  "language_info": {
   "codemirror_mode": {
    "name": "ipython",
    "version": 3
   },
   "file_extension": ".py",
   "mimetype": "text/x-python",
   "name": "python",
   "nbconvert_exporter": "python",
   "pygments_lexer": "ipython3",
   "version": "3.6.1"
  }
 },
 "nbformat": 4,
 "nbformat_minor": 2
}
