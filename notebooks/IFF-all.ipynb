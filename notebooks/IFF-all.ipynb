{
 "cells": [
  {
   "cell_type": "markdown",
   "metadata": {},
   "source": [
    "# Interatomic force field (IFF) optimization for W-based metal alloys\n",
    "\n",
    "Author: Lukas Vlcek\n",
    "\n",
    "Start Date: 2018-04-22"
   ]
  },
  {
   "cell_type": "code",
   "execution_count": 1,
   "metadata": {},
   "outputs": [
    {
     "name": "stdout",
     "output_type": "stream",
     "text": [
      "Last update: 2018-04-23 00:58:33.810376\n"
     ]
    }
   ],
   "source": [
    "from datetime import datetime ; print('Last update:', datetime.now())"
   ]
  },
  {
   "cell_type": "markdown",
   "metadata": {},
   "source": [
    "## 1. Target data overview"
   ]
  },
  {
   "cell_type": "markdown",
   "metadata": {},
   "source": [
    "### Bulk properties of tungsten\n",
    "from _Marinica et.al_ except for B (bulk modulus) and Pc (Cauchy pressure)\n",
    "\n",
    "T=0K?\n",
    "\n",
    "| Property | BCC | FCC |\n",
    "| :---     | :---: | :---: |\n",
    "| a_0 (A) | 3.1648 | 4.054 |\n",
    "| E_coh (eV/atom) | -8.9 | -8.43 |\n",
    "| C11 (GPa) | 523 | - |\n",
    "| C12 (GPa) | 203 | - |\n",
    "| C44 (GPa) | 160 | - |\n",
    "| B (GPa) | 310.4 | - |\n",
    "| Pc (GPa) | 21.9 | - |"
   ]
  },
  {
   "cell_type": "markdown",
   "metadata": {},
   "source": [
    "### Defect properties\n",
    "(from _Marinica et.al_)\n",
    "\n",
    "Based on 128+-1 atoms\n",
    "\n",
    "Defect | Energy (eV)\n",
    ":--- | :---:\n",
    "(111) | 10.53\n",
    "(110) | 10.82\n",
    "(100) | 12.87\n",
    "OCT | 13.11\n",
    "TET | 12.27\n",
    "Vacancy | 3.49"
   ]
  },
  {
   "attachments": {},
   "cell_type": "markdown",
   "metadata": {},
   "source": [
    "### Atomic configurations and DFT data\n",
    "\n",
    "1. Data from Marinica\n",
    "  * 20 configurations generated from liquid Fe trajectory, N=113\n",
    "  * DFT Forces\n",
    "  * DFT Energy\n",
    "2. Data from German (local minimum energy configs.)\n",
    "  * Energy, Hessians?\n",
    "  * Pure phases\n",
    "    * BCC (54 atoms)\n",
    "    * FCC (32 atoms)\n",
    "  * Vacancy (53 atoms)\n",
    "  * Interstitial defects \n",
    "    * 110, 111 (55 atoms)\n",
    "    * 111_easy_core (135 atoms)?"
   ]
  },
  {
   "cell_type": "markdown",
   "metadata": {},
   "source": [
    "## 2. Processing of raw data into HDF5 storage"
   ]
  },
  {
   "cell_type": "code",
   "execution_count": 2,
   "metadata": {},
   "outputs": [
    {
     "name": "stdout",
     "output_type": "stream",
     "text": [
      "../data/target_raw/marinica_cfg/cas10.ref\n",
      "ene: -748.925969\n",
      "../data/target_raw/marinica_cfg/cas11.ref\n",
      "ene: -792.8714965\n",
      "../data/target_raw/marinica_cfg/cas12.ref\n",
      "ene: -880.6363416\n",
      "../data/target_raw/marinica_cfg/cas13.ref\n",
      "ene: -815.6129699\n",
      "../data/target_raw/marinica_cfg/cas14.ref\n",
      "ene: -749.7703982\n",
      "../data/target_raw/marinica_cfg/cas15.ref\n",
      "ene: -757.3972938\n",
      "../data/target_raw/marinica_cfg/cas16.ref\n",
      "ene: -759.2465558\n",
      "../data/target_raw/marinica_cfg/cas17.ref\n",
      "ene: -827.2314602\n",
      "../data/target_raw/marinica_cfg/cas18.ref\n",
      "ene: -753.0714903\n",
      "../data/target_raw/marinica_cfg/cas19.ref\n",
      "ene: -755.1659965\n",
      "../data/target_raw/marinica_cfg/cas20.ref\n",
      "ene: -770.3314257\n",
      "../data/target_raw/marinica_cfg/cas4.ref\n",
      "ene: -892.8326097\n",
      "../data/target_raw/marinica_cfg/cas5.ref\n",
      "ene: -754.7616929\n",
      "../data/target_raw/marinica_cfg/cas6.ref\n",
      "ene: -759.3048204\n",
      "../data/target_raw/marinica_cfg/cas7.ref\n",
      "ene: -758.0452513\n",
      "../data/target_raw/marinica_cfg/cas8.ref\n",
      "ene: -767.8930345\n",
      "../data/target_raw/marinica_cfg/cas9.ref\n",
      "ene: -759.4538044\n"
     ]
    }
   ],
   "source": [
    "import os\n",
    "import glob\n",
    "import re\n",
    "import numpy as np\n",
    "import h5py\n",
    "\n",
    "# source of raw data\n",
    "target_raw = '../data/target_raw'\n",
    "german_raw = os.path.join(target_raw, 'dft_w')\n",
    "marini_raw = os.path.join(target_raw, 'marinica_cfg')\n",
    "\n",
    "# destination for processed data (hdf5 format)\n",
    "target_proc = '../data/target_processed'\n",
    "german_proc = os.path.join(target_proc, 'german')\n",
    "marini_proc = os.path.join(target_proc, 'marini')\n",
    "\n",
    "# read target data from Marinica, extract xyz, forces, energies\n",
    "for file in glob.glob(os.path.join(marini_raw, '*.ref')):\n",
    "    print(file)\n",
    "    with open(file, 'r') as fi:\n",
    "        ene = float(re.findall('\\S+', fi.readline())[1])\n",
    "        print('ene:', ene)\n",
    "        fi.readline()\n",
    "        #hrp.append([float(re.findall('\\S+', fi.readline())[2]) for _ in range(lpmax)])\n",
    "        for line in iter(fi.readline, ''):\n",
    "            pass\n",
    "        "
   ]
  },
  {
   "cell_type": "markdown",
   "metadata": {},
   "source": [
    "## 3. IFF functional form\n",
    "\n",
    "### 3.1 Finnis-Sinclair potential\n",
    "\n",
    "Energy of an N-particle configuration\n",
    "\n",
    "$$ E = \\sum_{i=1}^N \\left[ \\sum_{j>i}^N V\\left(r_{ij}\\right) + F\\left(\\rho_i\\right) \\right] $$\n",
    "\n",
    "Pair interaction\n",
    "\n",
    "$$ V\\left(r_{ij}\\right) = \\left(r_{ij}-c\\right)^2\\left(c_0 + c_1r_{ij} + c_2r_{ij}^2\\right),\\,\\, r_{ij}\\le c $$\n",
    "\n",
    "\n",
    "Embedded function\n",
    "\n",
    "$$ F = -A\\sqrt{\\rho_i} $$\n",
    "\n",
    "Effective electron density\n",
    "\n",
    "$$ \\rho_i = \\sum_{j\\ne i}^N \\phi\\left(r_{ij}\\right) $$\n",
    "\n",
    "Cohesive potential\n",
    "\n",
    "$$ \\phi\\left(r_{ij}\\right) = \\left(r_{ij}-d\\right)^2,\\,\\, r_{ij}\\le d $$\n",
    "\n",
    "** Starting W parameters: ** (Finnis and Sinclair, _Phil. Mag. A_, **50(1)**, 45-66, 1984)\n",
    "* Fixed\n",
    "  * d = 4.400224\n",
    "  * c = 3.25\n",
    "* To be optimized\n",
    "  * A = 1.896373\n",
    "  * c0 = 47.1346499\n",
    "  * c1 = -33.7665655\n",
    "  * c2 = 6.2541999"
   ]
  },
  {
   "cell_type": "markdown",
   "metadata": {},
   "source": [
    "## 4. Loss function\n",
    "\n",
    "1. Ab initio data (energies)\n",
    "\n",
    "  $$  $$\n",
    "\n",
    "2. Structural fluctuations\n",
    "  * Fit Gaussian distributions described by bulk parameters\n",
    "    * Mean values: lattice parameters (at a particular T\n",
    "    * Variance: elastic constants"
   ]
  },
  {
   "cell_type": "code",
   "execution_count": null,
   "metadata": {
    "collapsed": true
   },
   "outputs": [],
   "source": []
  },
  {
   "cell_type": "markdown",
   "metadata": {},
   "source": [
    "## 5. Optimization\n",
    "\n",
    "* A set of Fortran codes for parameter search on grid at:'https://github.com/vlcekl/sopt/tree/master/src/optimize/search_grid'\n",
    "* A Python script for simplex search at https://github.com/vlcekl/sopt/tree/master/src/optimize/search_simplex"
   ]
  },
  {
   "cell_type": "code",
   "execution_count": null,
   "metadata": {
    "collapsed": true
   },
   "outputs": [],
   "source": [
    "\n"
   ]
  }
 ],
 "metadata": {
  "kernelspec": {
   "display_name": "Python 3",
   "language": "python",
   "name": "python3"
  },
  "language_info": {
   "codemirror_mode": {
    "name": "ipython",
    "version": 3
   },
   "file_extension": ".py",
   "mimetype": "text/x-python",
   "name": "python",
   "nbconvert_exporter": "python",
   "pygments_lexer": "ipython3",
   "version": "3.6.1"
  }
 },
 "nbformat": 4,
 "nbformat_minor": 2
}
