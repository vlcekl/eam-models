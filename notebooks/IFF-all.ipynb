{
 "cells": [
  {
   "cell_type": "markdown",
   "metadata": {},
   "source": [
    "# Interatomic force field (IFF) optimization for W-based metal alloys\n",
    "\n",
    "Author: Lukas Vlcek\n",
    "\n",
    "Start Date: 2018-04-22"
   ]
  },
  {
   "cell_type": "code",
   "execution_count": 1,
   "metadata": {},
   "outputs": [
    {
     "name": "stdout",
     "output_type": "stream",
     "text": [
      "Last update: 2018-04-23 13:05:51.717644\n"
     ]
    }
   ],
   "source": [
    "from datetime import datetime ; print('Last update:', datetime.now())"
   ]
  },
  {
   "cell_type": "markdown",
   "metadata": {},
   "source": [
    "## 1. Target data overview"
   ]
  },
  {
   "cell_type": "markdown",
   "metadata": {},
   "source": [
    "### Bulk properties of tungsten\n",
    "from _Marinica et.al_ except for B (bulk modulus) and Pc (Cauchy pressure)\n",
    "\n",
    "T=0K?\n",
    "\n",
    "| Property | BCC | FCC |\n",
    "| :---     | :---: | :---: |\n",
    "| a_0 (A) | 3.1648 | 4.054 |\n",
    "| E_coh (eV/atom) | -8.9 | -8.43 |\n",
    "| C11 (GPa) | 523 | - |\n",
    "| C12 (GPa) | 203 | - |\n",
    "| C44 (GPa) | 160 | - |\n",
    "| B (GPa) | 310.4 | - |\n",
    "| Pc (GPa) | 21.9 | - |"
   ]
  },
  {
   "cell_type": "markdown",
   "metadata": {},
   "source": [
    "### Defect properties\n",
    "(from _Marinica et.al_)\n",
    "\n",
    "Based on 128+-1 atoms\n",
    "\n",
    "Defect | Energy (eV)\n",
    ":--- | :---:\n",
    "(111) | 10.53\n",
    "(110) | 10.82\n",
    "(100) | 12.87\n",
    "OCT | 13.11\n",
    "TET | 12.27\n",
    "Vacancy | 3.49"
   ]
  },
  {
   "attachments": {},
   "cell_type": "markdown",
   "metadata": {},
   "source": [
    "### Atomic configurations and DFT data\n",
    "\n",
    "1. Data from Marinica\n",
    "  * 20 configurations generated from liquid Fe trajectory, N=113\n",
    "  * DFT Forces\n",
    "  * DFT Energy\n",
    "2. Data from German (local minimum energy configs.)\n",
    "  * Energy, Hessians?\n",
    "  * Pure phases\n",
    "    * BCC (54 atoms)\n",
    "    * FCC (32 atoms)\n",
    "  * Vacancy (53 atoms)\n",
    "  * Interstitial defects \n",
    "    * 110, 111 (55 atoms)\n",
    "    * 111_easy_core (135 atoms)?"
   ]
  },
  {
   "cell_type": "markdown",
   "metadata": {},
   "source": [
    "## 2. Processing of raw data into HDF5 storage"
   ]
  },
  {
   "cell_type": "code",
   "execution_count": 2,
   "metadata": {
    "collapsed": true
   },
   "outputs": [],
   "source": [
    "%matplotlib inline\n",
    "import os\n",
    "import glob\n",
    "import re\n",
    "import numpy as np\n",
    "import h5py\n",
    "import matplotlib.pyplot as plt\n",
    "\n",
    "# source of raw data and destination for processed data\n",
    "target_raw = '../data/target_raw'\n",
    "target_proc = '../data/target_processed'"
   ]
  },
  {
   "cell_type": "markdown",
   "metadata": {},
   "source": [
    "### Data from Marinica"
   ]
  },
  {
   "cell_type": "code",
   "execution_count": 3,
   "metadata": {},
   "outputs": [
    {
     "name": "stdout",
     "output_type": "stream",
     "text": [
      "coordinates\n",
      "energies\n",
      "forces\n",
      "4000.0\n",
      "coordinates (17, 113, 3) 1.70206\n",
      "forces (17, 113, 3) -8.55918\n"
     ]
    },
    {
     "data": {
      "image/png": "[encoded data removed]",
      "text/plain": [
       "<matplotlib.figure.Figure at 0x10cc1d048>"
      ]
     },
     "metadata": {},
     "output_type": "display_data"
    }
   ],
   "source": [
    "# source and destination directories\n",
    "marini_raw = os.path.join(target_raw, 'marinica_cfg')\n",
    "marini_proc = os.path.join(target_proc, 'marini')\n",
    "\n",
    "# columns in a fixed format file\n",
    "rcols = ( (4,14), (14,24), (24,34))  # atomic coordinates\n",
    "fcols = ((34,44), (44,54), (54,64))  # atomic forces\n",
    "\n",
    "# read target data from Marinica, extract energies, xyz, forces\n",
    "enes, xyzs, frcs = [],[],[] # list of coordinates, energies, forces\n",
    "for file in glob.glob(os.path.join(marini_raw, '*.ref')):\n",
    "    #print(file)\n",
    "    with open(file, 'r') as fi:\n",
    "        ene = float(re.findall('\\S+', fi.readline())[1])\n",
    "        nat = int(re.findall('\\S+', fi.readline())[1])\n",
    "        xyz = np.zeros((nat, 3), dtype=float)\n",
    "        frc = np.zeros((nat, 3), dtype=float)\n",
    "        #print('number of atoms:', nat, '\\nenergy:', ene)\n",
    "        for i in range(nat):\n",
    "            line = fi.readline()\n",
    "            xyz[i] = [float(line[c[0]:c[1]]) for c in rcols]\n",
    "            frc[i] = [float(line[c[0]:c[1]]) for c in fcols]\n",
    "        enes.append(ene)\n",
    "        xyzs.append(xyz)\n",
    "        frcs.append(frc)\n",
    "\n",
    "enes = np.array(enes)\n",
    "xyzs = np.array(xyzs)\n",
    "frcs = np.array(frcs)\n",
    "\n",
    "# save all trajectory data in an hdf5 file\n",
    "with h5py.File(os.path.join(target_proc, \"marini_dft.hdf5\"), \"w\") as fo:\n",
    "    fo.attrs['temperature (K)'] = 4000.0\n",
    "    dset_e = fo.create_dataset(\"energies\", enes.shape, dtype='f')\n",
    "    dset_e[...] = enes\n",
    "    dset_r = fo.create_dataset(\"coordinates\", xyzs.shape, dtype='f')\n",
    "    dset_r[...] = xyzs\n",
    "    dset_f = fo.create_dataset(\"forces\", frcs.shape, dtype='f')\n",
    "    dset_f[...] = frcs\n",
    "\n",
    "# Check if the new file is OK\n",
    "with h5py.File(os.path.join(target_proc, \"marini_dft.hdf5\"), \"r\") as fi:\n",
    "    fi.visit(lambda x: print(x))\n",
    "    print(fi.attrs['temperature (K)'])\n",
    "    for name in fi:\n",
    "        if name != 'energies':\n",
    "            print(name, fi[name].shape, fi[name][0,0,0])\n",
    "    plt.plot(fi['energies'])\n",
    "    plt.title('Energies of individual configurations')"
   ]
  },
  {
   "cell_type": "markdown",
   "metadata": {},
   "source": [
    "### Data from German"
   ]
  },
  {
   "cell_type": "code",
   "execution_count": 4,
   "metadata": {},
   "outputs": [
    {
     "name": "stdout",
     "output_type": "stream",
     "text": [
      "['../data/target_raw/dft_w/bcc', '../data/target_raw/dft_w/fcc', '../data/target_raw/dft_w/vacancy', '../data/target_raw/dft_w/110', '../data/target_raw/dft_w/111']\n"
     ]
    }
   ],
   "source": [
    "# source and destination directories\n",
    "german_raw = os.path.join(target_raw, 'dft_w')\n",
    "german_proc = os.path.join(target_proc, 'german')\n",
    "\n",
    "# directories with specific 0K data\n",
    "dirlist = ['bcc', 'fcc', 'vacancy', '110', '111']\n",
    "dirlist = [os.path.join(german_raw, cdir) for cdir in dirlist]\n",
    "print(dirlist)\n",
    "\n",
    "# read appropriate contents - coordinates, energies, Hessians?\n",
    "for cdir in dirlist:\n",
    "    with open(os.path.join(cdir, 'rlx.out')) as fi:\n",
    "        pass\n",
    "                          \n",
    "#with h5py.File(\"german_dft.hdf5\", \"w\") as fo:\n",
    "#    dset = fo.create_dataset(\"mydataset\", (100,), dtype='i')"
   ]
  },
  {
   "cell_type": "markdown",
   "metadata": {},
   "source": [
    "## 3. IFF functional form\n",
    "\n",
    "### 3.1 Finnis-Sinclair potential\n",
    "\n",
    "Energy of an N-particle configuration\n",
    "\n",
    "$$ E = \\sum_{i=1}^N \\left[ \\sum_{j>i}^N V\\left(r_{ij}\\right) + F\\left(\\rho_i\\right) \\right] $$\n",
    "\n",
    "Pair interaction\n",
    "\n",
    "$$ V\\left(r_{ij}\\right) = \\left(r_{ij}-c\\right)^2\\left(c_0 + c_1r_{ij} + c_2r_{ij}^2\\right),\\,\\, r_{ij}\\le c $$\n",
    "\n",
    "\n",
    "Embedded function\n",
    "\n",
    "$$ F = -A\\sqrt{\\rho_i} $$\n",
    "\n",
    "Effective electron density\n",
    "\n",
    "$$ \\rho_i = \\sum_{j\\ne i}^N \\phi\\left(r_{ij}\\right) $$\n",
    "\n",
    "Cohesive potential\n",
    "\n",
    "$$ \\phi\\left(r_{ij}\\right) = \\left(r_{ij}-d\\right)^2,\\,\\, r_{ij}\\le d $$\n",
    "\n",
    "** Starting W parameters: ** (Finnis and Sinclair, _Phil. Mag. A_, **50(1)**, 45-66, 1984)\n",
    "* Fixed\n",
    "  * d = 4.400224\n",
    "  * c = 3.25\n",
    "* To be optimized\n",
    "  * A = 1.896373\n",
    "  * c0 = 47.1346499\n",
    "  * c1 = -33.7665655\n",
    "  * c2 = 6.2541999"
   ]
  },
  {
   "cell_type": "markdown",
   "metadata": {},
   "source": [
    "## 4. Loss function\n",
    "\n",
    "**Squared statistical distance**\n",
    "\n",
    "  $$ s^2 = \\arccos^2\\left(C_B\\right) $$\n",
    "\n",
    "\n",
    "1. Ab initio data\n",
    "  * Energies\n",
    "    $$ C_B = \\sum_{k=1}^{kmax} \\exp\\left[ -\\beta\\left(\\Delta u_k - \\Delta F\\right)/2\\right] $$\n",
    "  * Forces\n",
    "  * Hessians\n",
    "\n",
    "2. Structural fluctuations\n",
    "  * Fit Gaussian distributions described by bulk parameters\n",
    "    * Mean values (A): lattice parameters (at a particular T\n",
    "    * Variance (V): depends on elastic constants\n",
    "    \n",
    "  $$ \\ln\\left(C_B\\right) = \\frac{1}{4k_BT^2}\\frac{\\left(A_M - A_T\\right)^2}{4\\left(V_M - V_T\\right)} - \\frac{1}{4}\\ln\\frac{4 V_MV_T}{\\left(V_M+V_T\\right)^2} $$ \n",
    "  \n",
    "  * How exactly are the different elastic constants defined?\n",
    "  * Translate C11, C12, C44 to variances"
   ]
  },
  {
   "cell_type": "markdown",
   "metadata": {},
   "source": [
    "## 5. Optimization\n",
    "\n",
    "* A set of Fortran codes for parameter search on grid at:'https://github.com/vlcekl/sopt/tree/master/src/optimize/search_grid'\n",
    "* A Python script for simplex search at https://github.com/vlcekl/sopt/tree/master/src/optimize/search_simplex\n",
    "\n",
    "** Currently performing parameter grid search for FS potential ** "
   ]
  },
  {
   "cell_type": "code",
   "execution_count": null,
   "metadata": {
    "collapsed": true
   },
   "outputs": [],
   "source": []
  }
 ],
 "metadata": {
  "kernelspec": {
   "display_name": "Python 3",
   "language": "python",
   "name": "python3"
  },
  "language_info": {
   "codemirror_mode": {
    "name": "ipython",
    "version": 3
   },
   "file_extension": ".py",
   "mimetype": "text/x-python",
   "name": "python",
   "nbconvert_exporter": "python",
   "pygments_lexer": "ipython3",
   "version": "3.6.1"
  }
 },
 "nbformat": 4,
 "nbformat_minor": 2
}
