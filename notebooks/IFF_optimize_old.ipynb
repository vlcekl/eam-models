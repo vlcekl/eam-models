{
 "cells": [
  {
   "cell_type": "markdown",
   "metadata": {},
   "source": [
    "# Interatomic force field (IFF) optimization for W-based metal alloys\n",
    "\n",
    "Author: Lukas Vlcek\n",
    "\n",
    "Start Date: 2018-04-22"
   ]
  },
  {
   "cell_type": "code",
   "execution_count": 1,
   "metadata": {},
   "outputs": [
    {
     "name": "stdout",
     "output_type": "stream",
     "text": [
      "Last update: 2018-07-25 21:53:17.329834\n"
     ]
    }
   ],
   "source": [
    "from datetime import datetime ; print('Last update:', datetime.now())"
   ]
  },
  {
   "cell_type": "markdown",
   "metadata": {},
   "source": [
    "# Table of Contents\n",
    "\n",
    "* [1. Introduction](#1.-Introduction)\n",
    "* [2. Theoretical background](#2.-Theoretical-background)\n",
    "    * [2.1 Model definition](#2.1-Model-definition)\n",
    "    * [2.2 Optimization approach](#2.2-Optimization-approach)\n",
    "        * [2.2.1 Perturbation technique](#2.2.2-Perturbation-technique)\n",
    "        * [2.2.2 Statistical distance loss function](#2.2.1-Statistical-distance-loss-function)\n",
    "    * [2.3 Target data](#2.3-Target-data)\n",
    "    * [2.4 Simulation details](#2.4-Simulation-details)\n",
    "* [3. Results](#3.-Results)\n",
    "    * [3.1 Initial model](#3.1-Initial-model)"
   ]
  },
  {
   "cell_type": "markdown",
   "metadata": {},
   "source": [
    "**Notebook setup**"
   ]
  },
  {
   "cell_type": "code",
   "execution_count": 2,
   "metadata": {
    "collapsed": true
   },
   "outputs": [],
   "source": [
    "# Import libraries\n",
    "%matplotlib inline\n",
    "import os\n",
    "import glob\n",
    "import sys\n",
    "import re\n",
    "import numpy as np\n",
    "import matplotlib.pyplot as plt\n",
    "import h5py\n",
    "from itertools import product\n",
    "\n",
    "# Paths to important directories\n",
    "pot_path = '../sim/potentials'\n",
    "target_raw = '../data/target_raw'\n",
    "target_proc = '../data/target_processed'"
   ]
  },
  {
   "cell_type": "markdown",
   "metadata": {},
   "source": [
    "## 1. Introduction\n",
    "\n",
    "**Goal:** Optimize EAM potential for W using the functional form of Bonny et al. (2017), and target data from Marinica et al. (2013) and German. Show that using this simplified EAM form we can develop a more predictive model of W compared to EAM2 model of Marinica."
   ]
  },
  {
   "cell_type": "markdown",
   "metadata": {},
   "source": [
    "## 2. Theoretical background\n",
    "\n",
    "### 2.1 Model definition\n",
    "\n",
    "**Equilibrium potential**\n",
    "\n",
    "Energy of an N-particle configuration\n",
    "\n",
    "$$ E = \\sum_{i=1}^N \\left[ \\sum_{j>i}^N V_{t_it_j}\\left(r_{ij}\\right) + F_{t_i}\\left(\\rho_i\\right) \\right] $$\n",
    "\n",
    "Here $V_{t_it_j}$ is pair interaction between atom types $t_i$ and $t_j$ at distance $r_{ij}$ defined as\n",
    "\n",
    "$$ V_{t_it_j}\\left(r_{ij}\\right) = \\sum_{k=1}^{N_p}\\left[a_k\\left(r_k - r_{ij}\\right)^3\\Theta\\left(r_k - r_{ij}\\right)\\right]\\ $$\n",
    "\n",
    "where $\\Theta$ is Heaviside step function.\n",
    "$F_{t_i}$ is the manybody embedding function\n",
    "\n",
    "$$ F_{t_i}(\\rho_i) = A_{t_i}\\sqrt{\\rho_i} + B_{t_i}\\rho + C_{t_i}\\rho^2 $$\n",
    "\n",
    "where $\\rho_i$ effective electron density \n",
    "\n",
    "$$ \\rho_i = \\sum_{j\\ne i}^N \\phi_{t_j}\\left(r_{ij}\\right) $$\n",
    "\n",
    "and $\\phi$ is cohesive potential\n",
    "\n",
    "$$ \\phi\\left(r_{ij}\\right) = D_{t_j}\\left(r_c - r_{ij}\\right)^3\\Theta\\left(r_c - r_{ij}\\right) $$"
   ]
  },
  {
   "cell_type": "code",
   "execution_count": 3,
   "metadata": {
    "collapsed": true
   },
   "outputs": [],
   "source": [
    "# Define the equilibrium EAM functions (to be optimized)\n",
    "\n",
    "# Pair potential (cubic splines). Parameters: distance (r), spline parameters (aa), spline nodes (cc)\n",
    "V = lambda r, aa, cc: sum([a*(rc - r)**3 for a, rc in zip(aa, cc) if r < rc])\n",
    "\n",
    "# Embedding function. Parameters: electronic density (d), coefficients for 1/2, 1, and 2 powers of density\n",
    "F = lambda d, a: a[0]*d**0.5 + a[1]*d + a[2]*d**2\n",
    "\n",
    "# Cohesive potential (cubic splines - same form as V)\n",
    "phi = V"
   ]
  },
  {
   "cell_type": "markdown",
   "metadata": {},
   "source": [
    "**Core and transition potential for short and intermediate distances**"
   ]
  },
  {
   "cell_type": "code",
   "execution_count": 4,
   "metadata": {
    "collapsed": true
   },
   "outputs": [],
   "source": [
    "# Define the core and transition parts of the potential (kept constant)\n",
    "def u_core(r, za=74, zb=74):\n",
    "    \"\"\"Repulsive potential of the atomic cores. Default atomic numbers for W\"\"\"\n",
    "    qe_sq = 14.3992 # squared electron charge  \n",
    "    rs = 0.4683766/(za**(2/3) + zb**(2/3))**0.5\n",
    "    x = r/rs\n",
    "    u  = 0.1818*np.exp(-3.2*x)\n",
    "    u += 0.5099*np.exp(-0.9423*x)\n",
    "    u += 0.2802*np.exp(-0.4029*x)\n",
    "    u += 0.02817*np.exp(-0.2016*x)\n",
    "    u *= za*zb*qe_sq/r\n",
    "    return u\n",
    "\n",
    "def u_trans(r, unucl, ueq, ri=1.0, ro=2.0):\n",
    "    \"\"\"Transition between the core and equillibrium potentials\"\"\"\n",
    "    if r < ri:\n",
    "        return unucl\n",
    "    elif r < ro:\n",
    "        x = (ro + ri - 2*r)/(ro - ri)\n",
    "        eta = 3/16*x**5 - 5/8*x**3 + 15/16*x + 1/2\n",
    "        return ueq + eta*(unucl - ueq)\n",
    "    else:\n",
    "        return ueq    "
   ]
  },
  {
   "cell_type": "markdown",
   "metadata": {},
   "source": [
    "### 2.2 Optimization approach"
   ]
  },
  {
   "cell_type": "markdown",
   "metadata": {},
   "source": [
    "#### 2.2.1 Perturbation technique\n",
    "\n",
    "**Pair distances**"
   ]
  },
  {
   "cell_type": "code",
   "execution_count": 6,
   "metadata": {
    "collapsed": true
   },
   "outputs": [],
   "source": [
    "def pair_dist(xyz, box):\n",
    "    \"\"\"\n",
    "    Calculates nearest image pair distances between all atoms in xyz array.\n",
    "    Parameters\n",
    "    -----------\n",
    "    xyz : numpy array\n",
    "          particle x, y, z coordinates\n",
    "    box : scalar or numpy array\n",
    "          simulation box dimensions/shape\n",
    "    Returns\n",
    "    -------\n",
    "    rr  : (natom, natom) numpy array of pair distances\n",
    "    rx  : (natom, natom, 3) numpy array of pair distance coordinates\n",
    "    \"\"\"\n",
    "\n",
    "    n_atom = xyz.shape[0] # number of atoms in a configuration\n",
    "    rr = np.empty((n_atom, n_atom), dtype=float)\n",
    "    rx = np.empty((n_atom, n_atom, 3), dtype=float)\n",
    "\n",
    "    for i, pa in enumerate(xyz):\n",
    "        for j, pb in enumerate(xyz):\n",
    "            dp = pa - pb\n",
    "            dp = np.where(dp < -0.5*box, dp + box, dp)\n",
    "            dp = np.where(dp >  0.5*box, dp - box, dp)\n",
    "            rr[i,j] = np.sum(dp*dp)**0.5\n",
    "            rx[i,j] = dp\n",
    "        \n",
    "    return rr, rx"
   ]
  },
  {
   "cell_type": "markdown",
   "metadata": {},
   "source": [
    "**EAM sufficient statistics**"
   ]
  },
  {
   "cell_type": "code",
   "execution_count": 6,
   "metadata": {
    "collapsed": true
   },
   "outputs": [],
   "source": [
    "def get_stats_EAM(rr, rx, sc):\n",
    "    \"\"\"\n",
    "    Takes atom pair distances and calculates sufficeint statistics needed\n",
    "    for the parameterization of a cubic spline-based EAM model by Bonny et al. (2017).\n",
    "    \n",
    "    Parameters\n",
    "    ----------\n",
    "    rr : numpy array\n",
    "         set of pair distances\n",
    "    rx : numpy array\n",
    "         set of pair distance coordinates\n",
    "    sc : python list\n",
    "         spline nodes\n",
    "         \n",
    "    Returns\n",
    "    -------\n",
    "    ar, a1, a2 : numpy arrays (len(sc))\n",
    "                 atom energy-related statistics\n",
    "                 el_density**0.5, el_density, el_density**2\n",
    "    br, b1, b2 : numpy arrays (len(sc), natoms, 3 coordinates)\n",
    "                 atom force-related statistics (gradients of energy)\n",
    "                 grad(el_density**0.5), grad(el_density), grad(el_density**2)\n",
    "    \"\"\"\n",
    "    \n",
    "    # number of atoms in configuration\n",
    "    n_atom = rr.shape[0]\n",
    "    \n",
    "    # energy-related statistics\n",
    "    aa = np.empty((n_atom), dtype=float)\n",
    "    ar = np.zeros((len(sc)), dtype=float)\n",
    "    a1 = np.zeros_like(ar)\n",
    "    a2 = np.zeros_like(ar)\n",
    "    \n",
    "    # force-related statistics\n",
    "    br = np.zeros((len(sc), n_atom, 3), dtype=float)\n",
    "    b1 = np.zeros_like(br)\n",
    "    b2 = np.zeros_like(br)\n",
    "    zero3 = np.zeros((3), dtype=float)\n",
    "\n",
    "    # cycle over spline nodes\n",
    "    for ks, rc in enumerate(sc):\n",
    "        \n",
    "        # cycle over atoms\n",
    "        for i in range(n_atom):\n",
    "            \n",
    "            # sum electronic density over all neighbors of i within rc\n",
    "            aa[i] = sum([(rc - r)**3 for r in rr[i] if (r < rc and r > 0.01)])\n",
    "\n",
    "            # if el. density larger than zero, calculate force statistics\n",
    "            if aa[i] > 0.0:\n",
    "                \n",
    "                # precompute a list of recurring values for force statistics\n",
    "                ff = [1.5*(rc - r)**2*x/r if (r > 0.01 and r < rc) else zero3 for r, x in zip(rr[i], rx[i])]\n",
    "                \n",
    "                # sum contributions to force statistics from all neighbors of i\n",
    "                b1[ks, i] = sum([2*f       for f in ff])\n",
    "                br[ks, i] = sum([ -f/np.sqrt(aa[i]) for f in ff])\n",
    "                b2[ks, i] = sum([4*f*aa[i] for f in ff])\n",
    "\n",
    "        # sum contributions to energy statistics for a given spline node\n",
    "        ar[ks] = np.sum(np.sqrt(aa))\n",
    "        a1[ks] = np.sum(aa)\n",
    "        a2[ks] = np.sum(aa**2)\n",
    "        \n",
    "    return a1, ar, a2, b1, br, b2"
   ]
  },
  {
   "cell_type": "markdown",
   "metadata": {},
   "source": [
    "**EAM configurational energy based on sufficient statistics and model parameters**"
   ]
  },
  {
   "cell_type": "code",
   "execution_count": 16,
   "metadata": {
    "collapsed": true
   },
   "outputs": [],
   "source": [
    "def utot_EAM(params, ustats):\n",
    "    \"\"\"\n",
    "    Calculates configurational energy from EAM sufficient statistics and model parameters\n",
    "\n",
    "    Parameters\n",
    "    ----------\n",
    "    params : list of lists and floats\n",
    "             EAM interaction parameters (spline coefficients array and embedding function parameters)\n",
    "    ustats : list of lists and floats\n",
    "             Sufficient statistics for a trajectory of configurations\n",
    "\n",
    "    Returns\n",
    "    -------\n",
    "    u_total: float\n",
    "             total configurational energy (sum of pair and manybody interactions) for trajectory of configurations\n",
    "    \"\"\"\n",
    "\n",
    "    n_sample = stats.shape[0]\n",
    "\n",
    "    # pair interactions from array of spline coefficeints and corresponding statistic\n",
    "    u_pair = np.array([sum([a*s for a, s in zip(params[0], ustats[i, 0])]) for i in range(n_sample)])\n",
    "\n",
    "    # manybody interactions from embedding function parameters and corresponding statistics\n",
    "    u_many = np.array([params[1]*ustats[i, 1] + params[2]*ustats[i,2] for i in range(n_sample)])\n",
    "\n",
    "    u_total = u_pair + u_many\n",
    "\n",
    "    return u_total"
   ]
  },
  {
   "cell_type": "code",
   "execution_count": 17,
   "metadata": {
    "collapsed": true
   },
   "outputs": [],
   "source": [
    "def ftot_EAM(params, fstats):\n",
    "    \"\"\"\n",
    "    Calculates configurational energy from EAM sufficient statistics and model parameters\n",
    "\n",
    "    Parameters\n",
    "    ----------\n",
    "    params : list of lists and floats\n",
    "             EAM interaction parameters (spline coefficients array and embedding function parameters)\n",
    "    fstats : list of lists and floats\n",
    "             Sufficient statistics\n",
    "\n",
    "    Returns\n",
    "    -------\n",
    "    f_total: float\n",
    "             total configurational energy (sum of pair and manybody interactions)\n",
    "    \"\"\"\n",
    "\n",
    "    # number of samples and atoms\n",
    "    n_sample = stats.shape[0]\n",
    "    n_atom = stats.shape[1]\n",
    "\n",
    "    f_total = np.zeros((n_sample, 6*n_atom + 1), dtype=float)\n",
    "\n",
    "    # cycle over samples\n",
    "    for i in range(n_sample):\n",
    "\n",
    "        # pair interactions from array of spline coefficeints and corresponding statistic\n",
    "        f_pair = sum([p*s for p, s in zip(params[0], fstats[i,0])]) \n",
    "\n",
    "        # manybody interactions from embedding function parameters and corresponding statistics\n",
    "        f_many = params[1]*fstats[i,1] + params[2]*fstats[i,2]\n",
    "\n",
    "        # Create a 6N + 1 array of 0, f, and -f\n",
    "        f_total[1:3*n_atom+1] = f_pair.flatten() + f_many.flatten()\n",
    "        f_total[3*n_atom+1:] = -f_total[1:3*n_atom+1]\n",
    "            \n",
    "    return f_total"
   ]
  },
  {
   "cell_type": "markdown",
   "metadata": {},
   "source": [
    "#### 2.2.2 Statistical distance loss function\n",
    "\n",
    "**Loss function based on configurational energies and forces**"
   ]
  },
  {
   "cell_type": "code",
   "execution_count": 18,
   "metadata": {
    "collapsed": true
   },
   "outputs": [],
   "source": [
    "def sd2_loss(params, stats, targets, weights=None):\n",
    "    \"\"\"\n",
    "    Calculates squared statistical distance loss function for configurational energies and forces.\n",
    "\n",
    "    Parameters\n",
    "    ----------\n",
    "    params : list of lists and floats\n",
    "             EAM interaction parameters (spline coefficients array and embedding function parameters)\n",
    "    stats  : list of lists and floats\n",
    "             Sufficient statistics\n",
    "    targets: list of lists and floats\n",
    "             target energies and forces\n",
    "    weights: weighting of different target data\n",
    "\n",
    "    Returns\n",
    "    -------\n",
    "    sd2, sd2f: float\n",
    "               squared statistical distances between model and target (energy and force-based)\n",
    "    \"\"\"\n",
    "\n",
    "    # apply bounds on parametes\n",
    "    #p = np.where(p < -1.0, -1.0, p)\n",
    "    #p = np.where(p >  1.0,  1.0, p)\n",
    "\n",
    "    # if weights not provided, assign equal weights\n",
    "    if not weights:\n",
    "        weights = np.ones((len(targ)), dtype=float)\n",
    "\n",
    "    # cycle over target system trajectories and statistics to determine SD\n",
    "    sd2 = sd2f = 0.0\n",
    "    for targ, stat, w in zip(targets, stats, weights):\n",
    "\n",
    "        beta = targ['beta'] # system inverse temperature\n",
    "        u_targ = targ['energy'] # target energies\n",
    "        u_stat = stat['energy'] # energy statistics\n",
    "        u_pars = params[0]\n",
    "        n_sample = u_targ.shape[0]\n",
    "\n",
    "        # energy diference array for a given target trajectory\n",
    "        uuu = beta*(utot_EAM(u_pars, u_stat) - u_targ) # array(n_sample)\n",
    "        uuu -= np.mean(uuu)\n",
    "        eee = np.exp(-uuu)\n",
    " \n",
    "        # are forces available?\n",
    "        if 'forces' not in targ:\n",
    "\n",
    "            # energy-based free energy difference and statistical distance\n",
    "            ge = -np.log(np.mean(eee))   # free energy difference (shifted)\n",
    "            cb = np.mean(np.exp(-0.5*(uuu - ge))) # Bhattacharyya coefficient\n",
    "            sd2 += w*np.arccos(cb)**2              # statistical distance\n",
    "\n",
    "        else:\n",
    "\n",
    "            betad = beta*0.01  # beta * dl\n",
    "            f_targ = targ['forces'] # target forces (n_sample, 1+6N) (0, 3Nf, -3Nf)\n",
    "            f_stat = stat['forces'] # force statistics (n_sample, npars, 3N)\n",
    "            f_pars = params[1]\n",
    "\n",
    "            eeh = np.exp(-0.5*uuu)\n",
    "            fff = ftot_EAM(f_pars, f_stat) # n_sample *(6N + 1) force contributions\n",
    "\n",
    "            # target and model force terms\n",
    "            fpave = np.mean(np.exp(betad*f_targ))\n",
    "            fqave = np.mean([eee[i]*np.mean(np.exp(betad*fff[i])) for i in range(n_sample)])\n",
    "            fhave = np.mean([eeh[i]*np.mean(np.exp(0.5*betad*(fff[i]+f_targ[i]))) for i in range(n_sample)])\n",
    "            \n",
    "            # force-based free energy difference and statistical distance\n",
    "            gef = -np.log(fqave/fpave)\n",
    "            cb = fhave/(fqave*fpave)**0.5\n",
    "            if cb > 1: cb = 1\n",
    "            sd2f += w*np.arccos(cb)**2\n",
    "\n",
    "    return sd2 + sd2f"
   ]
  },
  {
   "cell_type": "code",
   "execution_count": 11,
   "metadata": {
    "collapsed": true
   },
   "outputs": [],
   "source": [
    "def thermo(params, stats, targets):\n",
    "    \"\"\"\n",
    "    Calculates squared statistical distance loss function for configurational energies and forces.\n",
    "    \n",
    "    Parameters\n",
    "    ----------\n",
    "    params : list of lists and floats\n",
    "             EAM interaction parameters (spline coefficients array and embedding function parameters)\n",
    "    stats  : list of lists and floats\n",
    "             Sufficient statistics\n",
    "    targets: list of lists and floats\n",
    "             target energies and forces\n",
    "    \n",
    "    Returns\n",
    "    -------\n",
    "    ge, he, se : floats\n",
    "                 free energy, enthalpy, and entropy differences\n",
    "    \"\"\"\n",
    "    \n",
    "    for targ, stat in zip(targets, stats):\n",
    "        beta = targ['beta'] # system inverse temperature\n",
    "        u_targ = targ['energy'] # target energies\n",
    "        u_stat = stat['energy'] # energy statistics\n",
    "\n",
    "        # energy diference array for a given target trajectory\n",
    "        uuu = beta*(utot_EAM(params, u_stat) - u_targ)\n",
    "        uave = np.mean(uuu)\n",
    "        uuu -= uave\n",
    "        eee = np.exp(-uuu)\n",
    "\n",
    "        ge = np.mean(eee)\n",
    "        he = (np.mean(eee*(beta*hee + uuu + uave))/ge - beta*np.mean(hee))/beta\n",
    "        \n",
    "        ge = -np.log(ge)\n",
    "        eee = np.exp(-0.5*(uuu - ge))\n",
    "        ge = (ge + uave)/beta\n",
    "        se = he - ge\n",
    "\n",
    "    return ge, he, se"
   ]
  },
  {
   "cell_type": "markdown",
   "metadata": {},
   "source": [
    "### 2.3 Target data"
   ]
  },
  {
   "cell_type": "markdown",
   "metadata": {},
   "source": [
    "**Bulk properties of tungsten** (from _Marinica et.al_ except for B (bulk modulus) and Pc (Cauchy pressure)) T=0K?\n",
    "\n",
    "| Property | BCC | FCC |\n",
    "| :---     | :---: | :---: |\n",
    "| a_0 (A) | 3.1648 | 4.054 |\n",
    "| E_coh (eV/atom) | -8.9 | -8.43 |\n",
    "| C11 (GPa) | 523 | - |\n",
    "| C12 (GPa) | 203 | - |\n",
    "| C44 (GPa) | 160 | - |\n",
    "| B (GPa) | 310.4 | - |\n",
    "| Pc (GPa) | 21.9 | - |"
   ]
  },
  {
   "cell_type": "markdown",
   "metadata": {},
   "source": [
    "**Defect properties** (from _Marinica et.al_), based on 128+-1 atoms\n",
    "\n",
    "Defect | Energy (eV)\n",
    ":--- | :---:\n",
    "(111) | 10.53\n",
    "(110) | 10.82\n",
    "(100) | 12.87\n",
    "OCT | 13.11\n",
    "TET | 12.27\n",
    "Vacancy | 3.49"
   ]
  },
  {
   "cell_type": "markdown",
   "metadata": {},
   "source": [
    "**List of available atomic configurations and DFT data**\n",
    "\n",
    "1. Data from Marinica\n",
    "  * 20 configurations generated from liquid Fe trajectory, N=113\n",
    "  * DFT Forces\n",
    "  * DFT Energy\n",
    "2. Data from German (local minimum energy configs.)\n",
    "  * Energy, Hessians?\n",
    "  * Pure phases\n",
    "    * BCC (54 atoms)\n",
    "    * FCC (32 atoms)\n",
    "  * Vacancy\n",
    "    * vacancy (53 atoms)\n",
    "  * Interstitial defects \n",
    "    * 110, 111 (55 atoms)\n",
    "  * Screw dislocation\n",
    "    * 111_easy_core (135 atoms)?"
   ]
  },
  {
   "cell_type": "markdown",
   "metadata": {},
   "source": [
    "**Universal equation of state for metals at 0K**"
   ]
  },
  {
   "cell_type": "code",
   "execution_count": 13,
   "metadata": {
    "collapsed": true
   },
   "outputs": [],
   "source": [
    "# W parameters\n",
    "l = 0.274\n",
    "r_wse = 3.168\n",
    "r_wse = 1.584\n",
    "eta = 5.69\n",
    "dE = 8.9\n",
    "\n",
    "# equation of state. x is lattice expansion/compression parameter\n",
    "def eos(x):\n",
    "    a = (x - 1.0)*r_wse/l\n",
    "    ene = np.exp(-a)\n",
    "    ene *= -1.0 - a - 0.05*a**3\n",
    "    return dE*ene"
   ]
  },
  {
   "cell_type": "markdown",
   "metadata": {},
   "source": [
    "**Load target data files**"
   ]
  },
  {
   "cell_type": "markdown",
   "metadata": {},
   "source": [
    "Structure of h5 files with configuration data.\n",
    "\n",
    "1. Single target_conf file contains all the information from different simulations\n",
    "2. Each simulation is treated as a trajectory (sometimes with only 1 configuration)\n",
    "3. Trajectory data structure\n",
    "    * overall description\n",
    "        * General description\n",
    "        * Particle id, element\n",
    "    * per-configuration description\n",
    "        * box description\n",
    "        * particle coordinates ordered by particle number\n",
    "        * configurational, kinetic, and total energies\n",
    "        * forces per particle\n",
    "        * "
   ]
  },
  {
   "cell_type": "markdown",
   "metadata": {},
   "source": [
    "### 2.4 Simulation details"
   ]
  },
  {
   "cell_type": "markdown",
   "metadata": {},
   "source": [
    "## 3. Results\n",
    "\n",
    "### 3.1 Reference: Marinica EAM2 model"
   ]
  },
  {
   "cell_type": "markdown",
   "metadata": {},
   "source": [
    "The starting potential is derived by directly fitting EAM2 potential of Marinica (2013) with Bonny (2017) corrections. For this initial guess we target the equation of state of EAM2 for BCC configuration at 300 K."
   ]
  },
  {
   "cell_type": "markdown",
   "metadata": {
    "collapsed": true
   },
   "source": [
    "The parameters of EAM2 potential by Marinica (2013) with Bonny (2017) correction."
   ]
  },
  {
   "cell_type": "code",
   "execution_count": 842,
   "metadata": {
    "collapsed": true
   },
   "outputs": [],
   "source": [
    "# Cohesive potential parameters\n",
    "rho_w_a = [-0.420429e1, 0.518217702, 0.5627208e-1, 0.344164179e-1]\n",
    "rho_w_r = [2.5, 3.1, 3.5, 4.9]\n",
    "\n",
    "# Embedding function parameters\n",
    "F_w_a = [-5.946454, 0.0, -0.049477] # Original Marinica\n",
    "Fc_w_a = [-5.524855802, 2.317313103e-1, -3.665345949e-2, 8.989367404e-3] # Bonny's correction\n",
    "\n",
    "# Pair potential parameters\n",
    "arr = np.array([\n",
    "(1,  0.960851701343041e2, 2.5648975),\n",
    "(2, -0.184410923895214e3, 2.6297950),\n",
    "(3,  0.935784079613550e2, 2.6946925),\n",
    "(4, -0.798358265041677e1, 2.8663175),\n",
    "(5,  0.747034092936229e1, 2.9730450),\n",
    "(6, -0.152756043708453e1, 3.0797725),\n",
    "(7,  0.125205932634393e1, 3.5164725),\n",
    "(8,  0.163082162159425e1, 3.8464450),\n",
    "(9, -0.141854775352260e1, 4.1764175),\n",
    "(10,-0.819936046256149e0, 4.7008450),\n",
    "(11, 0.198013514305908e1, 4.8953000),\n",
    "(12,-0.696430179520267e0, 5.0897550),\n",
    "(13, 0.304546909722160e-1,5.3429525),\n",
    "(14,-0.163131143161660e1, 5.4016950),\n",
    "(15, 0.138409896486177e1, 5.4604375)])\n",
    "\n",
    "V_w_a = arr[:,1]\n",
    "V_w_r = arr[:,2]"
   ]
  },
  {
   "cell_type": "markdown",
   "metadata": {},
   "source": [
    "Potential functions for the use with EAM2 and gauge transformation into Bonny (2017) form."
   ]
  },
  {
   "cell_type": "code",
   "execution_count": 876,
   "metadata": {
    "collapsed": true
   },
   "outputs": [],
   "source": [
    "# Gauge conversion perameters\n",
    "C = 1.848055990\n",
    "S = 2.232322602e-1\n",
    "\n",
    "# Rescaled cohesive potential function\n",
    "rho = lambda r: phi(r, rho_w_a, rho_w_r)*S\n",
    "\n",
    "# Rescaled embedding function with Bonny's correction\n",
    "Fe = lambda d, a: F(d/S, a) + C/S*d # rescaled potential\n",
    "Fc = lambda d, a: a[0] + a[1]*d + a[2]*d**2 + a[3]*d**3 # correction\n",
    "Fa = lambda d, a1, a2: Fe(d, a1) if d < 1.359141225 else Fc(d, a2) # rescaled + correction\n",
    "\n",
    "# Rescaled pair potential function\n",
    "V_pair = lambda r: 0.5*(V(r, V_w_a, V_w_r) - 2*C*rho(r)/S)\n",
    "\n",
    "# Manybody potential for 8 NN\n",
    "V_man = lambda x: Fa(rho(x)*8, F_w_a, Fc_w_a)/8\n",
    "V_many = lambda d: Fa(d, F_w_a, Fc_w_a)"
   ]
  },
  {
   "cell_type": "code",
   "execution_count": 877,
   "metadata": {},
   "outputs": [
    {
     "name": "stderr",
     "output_type": "stream",
     "text": [
      "//anaconda/envs/py36/lib/python3.6/site-packages/ipykernel_launcher.py:7: RuntimeWarning: invalid value encountered in double_scalars\n",
      "  import sys\n"
     ]
    },
    {
     "data": {
      "image/png": "[encoded data removed]",
      "text/plain": [
       "<matplotlib.figure.Figure at 0x10a9c8c88>"
      ]
     },
     "metadata": {},
     "output_type": "display_data"
    }
   ],
   "source": [
    "# plot the functions and potentials\n",
    "rcut = 5.46\n",
    "r = np.linspace(0., rcut, 201)\n",
    "\n",
    "plt.figure(figsize=(10,8))\n",
    "\n",
    "# Electronic density\n",
    "pot_coh = np.array([rho(x)*8 for x in r])\n",
    "imax = np.argmax(pot_coh)\n",
    "pot_coh[0:imax] = pot_coh.max()\n",
    "plt.subplot(221)\n",
    "plt.title('Electronic density (multiplied by 8 for BCC)')\n",
    "plt.plot(r, pot_coh, label='Marinica/Bonny')\n",
    "plt.legend()\n",
    "plt.hlines(1.0, 1.5, rcut)\n",
    "plt.axis([1.5, rcut, 0, 0.3*8])\n",
    "plt.xlabel('r[A]')\n",
    "plt.ylabel(r'$ \\rho $')\n",
    "\n",
    "# Embedding function\n",
    "dens = np.linspace(0., 8., 101)\n",
    "embed = [Fa(d, F_w_a, Fc_w_a) for d in dens]\n",
    "plt.subplot(222)\n",
    "plt.title('Embedding function')\n",
    "plt.plot(dens, embed, label='Marinica/Bonny')\n",
    "plt.legend()\n",
    "plt.axis([0, 8, -7.5, 0.0])\n",
    "plt.xlabel(r'$\\rho$')\n",
    "plt.ylabel(r'$F(\\rho)$')\n",
    "\n",
    "# Pair and manybody potentials\n",
    "pot_pair = [V(x, V_w_a, V_w_r) - 2*C*rho(x)/S for x in r]\n",
    "\n",
    "#pot_pair = [V_pair(x) for x in r]\n",
    "pot_manybody = [V_man(x) for x in r]\n",
    "plt.subplot(223)\n",
    "plt.title('Pair and manybody potentials')\n",
    "plt.plot(r, pot_pair, label='pair potential')\n",
    "plt.plot(r, pot_manybody, label='manybody potential')\n",
    "plt.legend()\n",
    "plt.hlines(0.0, 1.5, rcut)\n",
    "plt.axis([1.5, rcut, -1.0, 1.0])\n",
    "plt.xlabel('r[A]')\n",
    "plt.ylabel(r'$V(r)$')\n",
    "\n",
    "# Total potential per atom (bulk)\n",
    "pot_tot = [V_pair(x) + V_man(x) for x in r]\n",
    "plt.subplot(224)\n",
    "plt.title('Total potential per atom in BCC')\n",
    "plt.plot(r, pot_tot, label='Marinica/Bonny')\n",
    "plt.legend()\n",
    "plt.hlines(0.0, 1.5, rcut)\n",
    "plt.axis([1.5, rcut, -1, 1.0])\n",
    "#plt.axis([2.65, 2.8, -0.975, -0.925])\n",
    "plt.xlabel('r[A]')\n",
    "plt.ylabel(r'U(r)')\n",
    "#plt.vlines(4.77, -1, 1)\n",
    "\n",
    "plt.tight_layout()"
   ]
  },
  {
   "cell_type": "markdown",
   "metadata": {},
   "source": [
    "Extract relevant configuration parameters for optimization"
   ]
  },
  {
   "cell_type": "code",
   "execution_count": 874,
   "metadata": {
    "collapsed": true
   },
   "outputs": [],
   "source": [
    "# set of spline nodes\n",
    "#sc = [2.7, 3.252, 3.804, 4.356, 4.908, 5.46]\n",
    "sc = [2.56, 2.73, 3.252, 3.804, 4.20, 4.77]\n",
    "\n",
    "# calculate pair distance matrices (absalute values, components)\n",
    "rr, rx = pair_dist(xyz, box)\n",
    "\n",
    "# calculate sufficient statistics for energies and forces from pair distances\n",
    "stats = get_stats_EAM(rr, rx, sc)"
   ]
  },
  {
   "cell_type": "code",
   "execution_count": 305,
   "metadata": {
    "collapsed": true
   },
   "outputs": [],
   "source": [
    "# Cycle over all configurations in a trajectory\n"
   ]
  },
  {
   "cell_type": "code",
   "execution_count": 846,
   "metadata": {},
   "outputs": [
    {
     "ename": "TypeError",
     "evalue": "'numpy.float64' object is not iterable",
     "output_type": "error",
     "traceback": [
      "\u001b[0;31m---------------------------------------------------------------------------\u001b[0m",
      "\u001b[0;31mTypeError\u001b[0m                                 Traceback (most recent call last)",
      "\u001b[0;32m<ipython-input-846-1bea864ec768>\u001b[0m in \u001b[0;36m<module>\u001b[0;34m()\u001b[0m\n\u001b[1;32m      7\u001b[0m     \u001b[0mu_many\u001b[0m \u001b[0;34m=\u001b[0m \u001b[0;36m0.0\u001b[0m\u001b[0;34m\u001b[0m\u001b[0m\n\u001b[1;32m      8\u001b[0m     \u001b[0;32mfor\u001b[0m \u001b[0mi\u001b[0m \u001b[0;32min\u001b[0m \u001b[0mrange\u001b[0m\u001b[0;34m(\u001b[0m\u001b[0mz\u001b[0m\u001b[0;34m.\u001b[0m\u001b[0mshape\u001b[0m\u001b[0;34m[\u001b[0m\u001b[0;36m0\u001b[0m\u001b[0;34m]\u001b[0m\u001b[0;34m)\u001b[0m\u001b[0;34m:\u001b[0m\u001b[0;34m\u001b[0m\u001b[0m\n\u001b[0;32m----> 9\u001b[0;31m         \u001b[0md\u001b[0m \u001b[0;34m=\u001b[0m \u001b[0mnp\u001b[0m\u001b[0;34m.\u001b[0m\u001b[0msum\u001b[0m\u001b[0;34m(\u001b[0m\u001b[0;34m[\u001b[0m\u001b[0mrho\u001b[0m\u001b[0;34m(\u001b[0m\u001b[0mx\u001b[0m\u001b[0;34m)\u001b[0m \u001b[0;32mif\u001b[0m \u001b[0mx\u001b[0m \u001b[0;34m>\u001b[0m \u001b[0mrmax\u001b[0m \u001b[0;32melse\u001b[0m \u001b[0mdmax\u001b[0m \u001b[0;32mfor\u001b[0m \u001b[0mx\u001b[0m \u001b[0;32min\u001b[0m \u001b[0mz\u001b[0m\u001b[0;34m[\u001b[0m\u001b[0mi\u001b[0m\u001b[0;34m]\u001b[0m\u001b[0;34m]\u001b[0m\u001b[0;34m)\u001b[0m\u001b[0;34m\u001b[0m\u001b[0m\n\u001b[0m\u001b[1;32m     10\u001b[0m         \u001b[0mu_many\u001b[0m \u001b[0;34m+=\u001b[0m \u001b[0mV_many\u001b[0m\u001b[0;34m(\u001b[0m\u001b[0md\u001b[0m\u001b[0;34m)\u001b[0m\u001b[0;34m\u001b[0m\u001b[0m\n\u001b[1;32m     11\u001b[0m \u001b[0;34m\u001b[0m\u001b[0m\n",
      "\u001b[0;31mTypeError\u001b[0m: 'numpy.float64' object is not iterable"
     ]
    }
   ],
   "source": [
    "# Total pair potential\n",
    "ene = []\n",
    "for a in np.linspace(0.5, 2.0, 101):\n",
    "    z = a*r\n",
    "    u_pair = np.sum([V_pair(x) for x in z.flatten()])\n",
    "\n",
    "    u_many = 0.0\n",
    "    for i in range(z.shape[0]):\n",
    "        d = np.sum([rho(x) if x > rmax else dmax for x in z[i]])\n",
    "        u_many += V_many(d)\n",
    "\n",
    "    ene.append([a, u_pair, u_many, u_pair+u_many])\n",
    "\n",
    "ene = np.array(ene)\n",
    "plt.plot(ene[:,0], ene[:,1]/54, label='pair')\n",
    "plt.plot(ene[:,0], ene[:,2]/54, label='manybody')\n",
    "plt.plot(ene[:,0], ene[:,3]/54, label='total')\n",
    "plt.plot(ene[:,0], [eos(x) for x in ene[:,0]], label='EOS')\n",
    "plt.hlines(0.0,0.5,2.0,lw=1)\n",
    "plt.legend()\n",
    "plt.xlim(0.5, 2.0)\n",
    "plt.ylim(-10,10)"
   ]
  },
  {
   "cell_type": "code",
   "execution_count": 275,
   "metadata": {},
   "outputs": [
    {
     "data": {
      "text/plain": [
       "(-1.0, 0)"
      ]
     },
     "execution_count": 275,
     "metadata": {},
     "output_type": "execute_result"
    },
    {
     "data": {
      "image/png": "[encoded data removed]",
      "text/plain": [
       "<matplotlib.figure.Figure at 0x10b8a6eb8>"
      ]
     },
     "metadata": {},
     "output_type": "display_data"
    }
   ],
   "source": [
    "plt.figure(figsize=(6,7))\n",
    "plt.plot((ene[:,0] - 1)*r_wse/l, [eos(x)/dE for x in ene[:,0]], label='EOS')\n",
    "plt.xlim(-1.0, 8.0)\n",
    "plt.ylim(-1.0,0)"
   ]
  },
  {
   "cell_type": "code",
   "execution_count": null,
   "metadata": {
    "collapsed": true
   },
   "outputs": [],
   "source": [
    "# Calculate "
   ]
  },
  {
   "cell_type": "markdown",
   "metadata": {
    "collapsed": true
   },
   "source": [
    "### Convert potentials into LAMMPS and Yuri formats\n",
    "\n",
    "#### Pure elements W"
   ]
  },
  {
   "cell_type": "code",
   "execution_count": 35,
   "metadata": {
    "collapsed": true
   },
   "outputs": [],
   "source": [
    "# Ranges of densities and separations\n",
    "rhomax = 10.0\n",
    "nrho = 5000\n",
    "drho = rhomax/nrho\n",
    "\n",
    "nr = 5000\n",
    "#rcut = 5.46\n",
    "rcut = 5.4604375\n",
    "dr = rcut/nr\n",
    "\n",
    "ri = 1.0\n",
    "ro = 2.0\n",
    "\n",
    "# W properties\n",
    "na = 74\n",
    "ma = 183.84\n",
    "lc = 3.1653\n",
    "alat = 'bcc'\n",
    "\n",
    "# System composition\n",
    "n_el = 1\n",
    "el_name = ['W']"
   ]
  },
  {
   "cell_type": "code",
   "execution_count": 37,
   "metadata": {
    "collapsed": true
   },
   "outputs": [],
   "source": [
    "# Cubic spline function for pair potentials and electronic density\n",
    "f_spline = lambda r, aa, kk: sum([a*(rk - r)**3 for a, rk in zip(aa, kk) if r < rk])\n",
    "\n",
    "# Functional form for the embedding potential\n",
    "f_embed = lambda d, a: a[0]*d**0.5 + a[1]*d + a[2]*d**2\n",
    "\n",
    "# prepare lists of values\n",
    "dens = np.linspace(0., rhomax-drho, nrho, endpoint=True)\n",
    "r = np.linspace(0., rcut-dr, nr, endpoint=True)\n",
    "\n",
    "#fembd = [f_embed(d, F_re_a) for d in dens] # Re\n",
    "fembd = [Fa(d, F_w_a, Fc_w_a) for d in dens] # W\n",
    "\n",
    "#edens = [f_spline(x, rho_re_a, rho_re_r) for x in r] # Re\n",
    "edens = np.array([f_spline(x, rho_w_a, rho_w_r)*S for x in r]) # W\n",
    "imax = np.argmax(edens)\n",
    "edens[0:imax] = edens.max()\n",
    "\n",
    "# Pair potential\n",
    "\n",
    "# 1. Cubic spline for r > r_o\n",
    "f_outer = [f_spline(x, V_w_a, V_w_r) - 2*C*edens[i]/S for i, x in enumerate(r)]\n",
    "\n",
    "# 2. Repulsive core for r < r_i (precalculate up to r_o)\n",
    "f_inner = [0.0] + [u_core(x) for x in r[1:]]\n",
    "\n",
    "# 3. Transition region for r_i < r < r_o\n",
    "fpair = [x*u_trans(x, f_inner[i], f_outer[i]) for i, x in enumerate(r)]"
   ]
  },
  {
   "cell_type": "markdown",
   "metadata": {},
   "source": [
    "### 3.5 Output optimized potential"
   ]
  },
  {
   "cell_type": "code",
   "execution_count": 60,
   "metadata": {
    "collapsed": true
   },
   "outputs": [],
   "source": [
    "# LAMMPS format\n",
    "with open(os.path.join(pot_path, 'W_lv.eam.fs'), 'w') as fo:\n",
    "    \n",
    "    # Comment section\n",
    "    fo.write('Comment 1\\n')\n",
    "    fo.write('Comment 2\\n')\n",
    "    fo.write('Comment 3\\n')\n",
    "    \n",
    "    # Number of elements\n",
    "    fo.write(f\"{n_el:5d} \")\n",
    "    for i in range(n_el):\n",
    "        fo.write(f\"{el_name[i]:2}\")\n",
    "    fo.write(\"\\n\")\n",
    "    \n",
    "    # number of grid points, step size, and cutoff\n",
    "    fo.write(f\"{nrho:5d}{drho:24.16e}{nr:5d}{dr:24.16e}{rcut:24.16e}\\n\")\n",
    "    \n",
    "    # atomic number, mass, lattice size, lattice type\n",
    "    fo.write(f\"{na:5d} {ma:14.4f} {lc:14.4f} {alat:10}\\n\")\n",
    "    \n",
    "    # Embeding function\n",
    "    for i in range(nrho//4):\n",
    "        fo.write(\"{0:20.12e}{1:20.12e}{2:20.12e}{3:20.12e}\\n\".format(*fembd[i*4:i*4+4]))\n",
    "    \n",
    "    # Electronic density\n",
    "    for i in range(nr//4):\n",
    "        fo.write(\"{0:20.12e}{1:20.12e}{2:20.12e}{3:20.12e}\\n\".format(*edens[i*4:i*4+4]))\n",
    "        \n",
    "    # Pair potential\n",
    "    for i in range(nr//4):\n",
    "        fo.write(\"{0:20.12e}{1:20.12e}{2:20.12e}{3:20.12e}\\n\".format(*fpair[i*4:i*4+4]))"
   ]
  }
 ],
 "metadata": {
  "kernelspec": {
   "display_name": "Python 3",
   "language": "python",
   "name": "python3"
  },
  "language_info": {
   "codemirror_mode": {
    "name": "ipython",
    "version": 3
   },
   "file_extension": ".py",
   "mimetype": "text/x-python",
   "name": "python",
   "nbconvert_exporter": "python",
   "pygments_lexer": "ipython3",
   "version": "3.6.1"
  }
 },
 "nbformat": 4,
 "nbformat_minor": 2
}
