{
 "cells": [
  {
   "cell_type": "markdown",
   "metadata": {},
   "source": [
    "# Interatomic force field (IFF) optimization for W-based metal alloys\n",
    "\n",
    "Author: Lukas Vlcek\n",
    "\n",
    "Start Date: 2018-04-22"
   ]
  },
  {
   "cell_type": "code",
   "execution_count": 1,
   "metadata": {},
   "outputs": [
    {
     "name": "stdout",
     "output_type": "stream",
     "text": [
      "Last update: 2018-11-12 13:27:38.145026\n"
     ]
    }
   ],
   "source": [
    "from datetime import datetime ; print('Last update:', datetime.now())"
   ]
  },
  {
   "cell_type": "markdown",
   "metadata": {},
   "source": [
    "# Table of Contents\n",
    "\n",
    "* [1. Introduction](#1.-Introduction)\n",
    "* [2. Theoretical background](#2.-Theoretical-background)\n",
    "    * [2.1 Model definition](#2.1-Model-definition)\n",
    "    * [2.2 Optimization approach](#2.2-Optimization-approach)\n",
    "        * [2.2.1 Perturbation technique](#2.2.1-Perturbation-technique)\n",
    "        * [2.2.2 Statistical distance loss function](#2.2.2-Statistical-distance-loss-function)\n",
    "    * [2.3 Target data](#2.3-Target-data)\n",
    "    * [2.4 Simulation details](#2.4-Simulation-details)\n",
    "* [3. Optimization](#3.-Optimization)"
   ]
  },
  {
   "cell_type": "markdown",
   "metadata": {},
   "source": [
    "**Notebook setup**"
   ]
  },
  {
   "cell_type": "code",
   "execution_count": 2,
   "metadata": {
    "collapsed": true
   },
   "outputs": [],
   "source": [
    "# Import libraries\n",
    "%matplotlib inline\n",
    "import os\n",
    "import glob\n",
    "import sys\n",
    "import re\n",
    "import numpy as np\n",
    "import matplotlib.pyplot as plt\n",
    "import h5py\n",
    "from itertools import product\n",
    "from scipy.optimize import fmin\n",
    "\n",
    "# Paths to important directories\n",
    "pot_path = '../sim/potentials'\n",
    "target_raw = '../data/target_raw'\n",
    "target_proc = '../data/target_processed'\n",
    "working = '../data/working'"
   ]
  },
  {
   "cell_type": "markdown",
   "metadata": {},
   "source": [
    "## 1. Introduction\n",
    "\n",
    "**Goal:** Optimize EAM potential for W using the functional form of Bonny et al. (2017), and target data from Marinica et al. (2013) and German. Show that using this simplified EAM form we can develop a more predictive model of W compared to EAM2 model of Marinica."
   ]
  },
  {
   "cell_type": "markdown",
   "metadata": {},
   "source": [
    "## 2. Theoretical background\n",
    "\n",
    "### 2.1 Model definition\n",
    "\n",
    "**Equilibrium potential**\n",
    "\n",
    "Energy of an N-particle configuration\n",
    "\n",
    "$$ E = \\sum_{i=1}^N \\left[ \\sum_{j>i}^N V_{t_it_j}\\left(r_{ij}\\right) + F_{t_i}\\left(\\rho_i\\right) \\right] $$\n",
    "\n",
    "Here $V_{t_it_j}$ is pair interaction between atom types $t_i$ and $t_j$ at distance $r_{ij}$ defined as\n",
    "\n",
    "$$ V_{t_it_j}\\left(r_{ij}\\right) = \\sum_{k=1}^{K}\\left[a_k\\left(r_k - r_{ij}\\right)^3\\Theta\\left(r_k - r_{ij}\\right)\\right]\\ $$\n",
    "\n",
    "where $\\Theta$ is Heaviside step function.\n",
    "$F_{t_i}$ is the manybody embedding function\n",
    "\n",
    "$$ F_{t_i}(\\rho_i) = A_{t_i}\\sqrt{\\rho_i} + B_{t_i}\\rho + C_{t_i}\\rho^2 $$\n",
    "\n",
    "where $\\rho_i$ effective electron density \n",
    "\n",
    "$$ \\rho_i = \\sum_{j\\ne i}^N \\phi_{t_j}\\left(r_{ij}\\right) $$\n",
    "\n",
    "and $\\phi$ is cohesive potential\n",
    "\n",
    "$$ \\phi\\left(r_{ij}\\right) = D_{t_j}\\left(r_c - r_{ij}\\right)^3\\Theta\\left(r_c - r_{ij}\\right) $$"
   ]
  },
  {
   "cell_type": "code",
   "execution_count": 3,
   "metadata": {
    "collapsed": true
   },
   "outputs": [],
   "source": [
    "# Define the equilibrium EAM functions (to be optimized)\n",
    "\n",
    "# Pair potential (cubic splines). Parameters: distance (r), spline parameters (aa), spline nodes (cc)\n",
    "V = lambda r, aa, cc: sum([a*(rc - r)**3 for a, rc in zip(aa, cc) if r < rc])\n",
    "\n",
    "# Embedding function. Parameters: electronic density (d), coefficients for 1/2, 1, and 2 powers of density\n",
    "F = lambda d, a: a[0]*d**0.5 + a[1]*d + a[2]*d**2\n",
    "\n",
    "# Cohesive potential (cubic splines - same form as V)\n",
    "phi = V"
   ]
  },
  {
   "cell_type": "markdown",
   "metadata": {},
   "source": [
    "**Core and transition potential for short and intermediate distances**"
   ]
  },
  {
   "cell_type": "code",
   "execution_count": 4,
   "metadata": {
    "collapsed": true
   },
   "outputs": [],
   "source": [
    "#%%writefile -a ../../statmechlib/statmechlib/read_write/write_eam_lammps.py\n",
    "\n",
    "# Define the core and transition parts of the potential (kept constant)\n",
    "def u_core(r, za=74, zb=74):\n",
    "    \"\"\"Repulsive potential of the atomic cores. Default atomic numbers for W\"\"\"\n",
    "    qe_sq = 14.3992 # squared electron charge  \n",
    "    rs = 0.4683766/(za**(2/3) + zb**(2/3))**0.5\n",
    "    x = r/rs\n",
    "    u  = 0.1818*np.exp(-3.2*x)\n",
    "    u += 0.5099*np.exp(-0.9423*x)\n",
    "    u += 0.2802*np.exp(-0.4029*x)\n",
    "    u += 0.02817*np.exp(-0.2016*x)\n",
    "    u *= za*zb*qe_sq/r\n",
    "    return u\n",
    "\n",
    "def u_trans(r, unucl, ueq, ri=1.0, ro=2.0):\n",
    "    \"\"\"Transition between the core and equillibrium potentials\"\"\"\n",
    "    if r < ri:\n",
    "        return unucl\n",
    "    elif r < ro:\n",
    "        x = (ro + ri - 2*r)/(ro - ri)\n",
    "        eta = 3/16*x**5 - 5/8*x**3 + 15/16*x + 1/2\n",
    "        return ueq + eta*(unucl - ueq)\n",
    "    else:\n",
    "        return ueq    "
   ]
  },
  {
   "cell_type": "markdown",
   "metadata": {},
   "source": [
    "### 2.2 Optimization approach"
   ]
  },
  {
   "cell_type": "markdown",
   "metadata": {},
   "source": [
    "#### 2.2.1 Perturbation technique"
   ]
  },
  {
   "cell_type": "markdown",
   "metadata": {},
   "source": [
    "**EAM sufficient statistics**"
   ]
  },
  {
   "cell_type": "markdown",
   "metadata": {},
   "source": [
    "**Energy of a configuration**\n",
    "\n",
    "Energy of an N-particle configuration\n",
    "\n",
    "$$ E_{pair} = \\sum_{k=1}^{K}a_k\\sum_{i=1}^N \\sum_{j>i}^N \\left[\\left(r_k - r_{ij}\\right)^3\\Theta\\left(r_k - r_{ij}\\right)\\right]\\ = \\sum_{k=1}^{K}a_kv_k $$\n",
    "\n",
    "$$ E_{manybody} = b_1\\sum_{i=1}^N\\sqrt{\\sum_{j\\ne i}^N \\left[\\left(r_c - r_{ij}\\right)^3\\Theta\\left(r_c - r_{ij}\\right)\\right]} + b_2 \\sum_{i=1}^N \\left( \\sum_{j\\ne i}^N \\left[\\left(r_c - r_{ij}\\right)^3\\Theta\\left(r_c - r_{ij}\\right)\\right] \\right)^2 = b_1m_1 + b_2m_2$$\n",
    "\n",
    "**Similar for evaluating forces on each atom... **\n",
    "\n",
    "During optimization, collect statistics $v_k$ and $b_k$ for each configuration and calculate its energy by multiplying them by model parameters $a_k$ and $b_k$."
   ]
  },
  {
   "cell_type": "code",
   "execution_count": 5,
   "metadata": {
    "collapsed": true
   },
   "outputs": [],
   "source": [
    "#%%writefile ../../statmechlib/statmechlib/preprocessing/pair_dist.py\n",
    "\n",
    "# pair distances between system atoms\n",
    "def pair_dist(xyz, box):\n",
    "    \"\"\"\n",
    "    Calculates nearest image pair distances between all atoms in xyz array.\n",
    "    Parameters\n",
    "    -----------\n",
    "    xyz : numpy array\n",
    "          particle x, y, z coordinates\n",
    "    box : scalar or numpy array\n",
    "          simulation box dimensions/shape\n",
    "    Returns\n",
    "    -------\n",
    "    rr  : (natom, natom) numpy array of pair distances\n",
    "    rx  : (natom, natom, 3) numpy array of pair distance coordinates\n",
    "    \"\"\"\n",
    "\n",
    "    n_atom = xyz.shape[0] # number of atoms in a configuration\n",
    "    rr = np.empty((n_atom, n_atom), dtype=float)\n",
    "    rx = np.empty((n_atom, n_atom, 3), dtype=float)\n",
    "\n",
    "    for i, pa in enumerate(xyz):\n",
    "        for j, pb in enumerate(xyz):\n",
    "            dp = pa - pb\n",
    "            dp = np.where(dp < -0.5*box, dp + box, dp)\n",
    "            dp = np.where(dp >  0.5*box, dp - box, dp)\n",
    "            rr[i,j] = np.sum(dp*dp)**0.5\n",
    "            rx[i,j] = dp\n",
    "\n",
    "    return rr, rx"
   ]
  },
  {
   "cell_type": "code",
   "execution_count": 6,
   "metadata": {
    "collapsed": true
   },
   "outputs": [],
   "source": [
    "#%%writefile -a ../../statmechlib/statmechlib/preprocessing/pair_dist.py\n",
    "def pair_dist_triclinic(xyz, box):\n",
    "    \"\"\"\n",
    "    Calculates nearest image pair distances between all atoms in xyz array.\n",
    "    Parameters\n",
    "    -----------\n",
    "    xyz : numpy array\n",
    "          particle x, y, z coordinates\n",
    "    box : numpy 2D array of unit cell vectors or a float\n",
    "          simulation box dimensions/shape\n",
    "    Returns\n",
    "    -------\n",
    "    rr  : (natom, natom) numpy array of pair distances\n",
    "    rx  : (natom, natom, 3) numpy array of pair distance coordinates\n",
    "    \"\"\"\n",
    "    \n",
    "    # make sure that the box is a 3x3 matrix (if box is float, multiply it by a unit matrix)\n",
    "    box = np.eye(3).dot(box)\n",
    "\n",
    "    n_atom = xyz.shape[0] # number of atoms in a configuration\n",
    "    rr = np.empty((n_atom, n_atom), dtype=float)\n",
    "    rx = np.empty((n_atom, n_atom, 3), dtype=float)\n",
    "    \n",
    "    boxT = box.T\n",
    "    \n",
    "    for i, pa in enumerate(xyz):\n",
    "        for j, pb in enumerate(xyz):\n",
    "            dp = pa - pb\n",
    "            dp = np.where(dp < -0.5, dp + 1.0, dp)\n",
    "            dp = np.where(dp >  0.5, dp - 1.0, dp)\n",
    "            \n",
    "            dp = boxT.dot(dp)\n",
    "            \n",
    "            rr[i,j] = np.sum(dp*dp)**0.5\n",
    "            rx[i,j] = dp\n",
    "\n",
    "    return rr, rx"
   ]
  },
  {
   "cell_type": "code",
   "execution_count": 7,
   "metadata": {
    "collapsed": true
   },
   "outputs": [],
   "source": [
    "#%%writefile ../../statmechlib/statmechlib/preprocessing/stats_eam.py\n",
    "def get_stats_EAM(rr, rx, sc):\n",
    "    \"\"\"\n",
    "    Takes atom pair distances and calculates sufficeint statistics needed\n",
    "    for the parameterization of a cubic spline-based EAM model by Bonny et al. (2017).\n",
    "    \n",
    "    Parameters\n",
    "    ----------\n",
    "    rr : numpy array\n",
    "         set of pair distances\n",
    "    rx : numpy array\n",
    "         set of pair distance coordinates\n",
    "    sc : python list\n",
    "         spline nodes\n",
    "         \n",
    "    Returns\n",
    "    -------\n",
    "    ar, a1, a2 : numpy arrays (len(sc))\n",
    "                 atom energy-related statistics\n",
    "                 el_density**0.5, el_density, el_density**2\n",
    "    br, b1, b2 : numpy arrays (len(sc), natoms, 3 coordinates)\n",
    "                 atom force-related statistics (gradients of energy)\n",
    "                 grad(el_density**0.5), grad(el_density), grad(el_density**2)\n",
    "    \"\"\"\n",
    "    \n",
    "    # number of atoms in configuration\n",
    "    n_atom = rr.shape[0]\n",
    "    \n",
    "    # energy-related statistics\n",
    "    aa = np.empty((n_atom), dtype=float)\n",
    "    ar = np.zeros((len(sc)), dtype=float)\n",
    "    a1 = np.zeros_like(ar)\n",
    "    a2 = np.zeros_like(ar)\n",
    "    \n",
    "    # force-related statistics\n",
    "    br = np.zeros((len(sc), n_atom, 3), dtype=float)\n",
    "    b1 = np.zeros_like(br)\n",
    "    b2 = np.zeros_like(br)\n",
    "    zero3 = np.zeros((3), dtype=float)\n",
    "\n",
    "    # cycle over spline nodes\n",
    "    for ks, rc in enumerate(sc):\n",
    "        \n",
    "        # cycle over atoms\n",
    "        for i in range(n_atom):\n",
    "            \n",
    "            # sum electronic density over all neighbors of i within rc\n",
    "            aa[i] = sum([(rc - r)**3 for r in rr[i] if (r < rc and r > 0.01)])\n",
    "\n",
    "            # if el. density larger than zero, calculate force statistics\n",
    "            if aa[i] > 0.0:\n",
    "                \n",
    "                # precompute a list of recurring values for force statistics\n",
    "                ff = [1.5*(rc - r)**2*x/r if (r > 0.01 and r < rc) else zero3 for r, x in zip(rr[i], rx[i])]\n",
    "                \n",
    "                # sum contributions to force statistics from all neighbors of i\n",
    "                b1[ks, i] = sum([2*f       for f in ff])\n",
    "                br[ks, i] = sum([ -f/np.sqrt(aa[i]) for f in ff])\n",
    "                b2[ks, i] = sum([4*f*aa[i] for f in ff])\n",
    "\n",
    "        # sum contributions to energy statistics for a given spline node\n",
    "        ar[ks] = np.sum(np.sqrt(aa))\n",
    "        a1[ks] = np.sum(aa)\n",
    "        a2[ks] = np.sum(aa**2)\n",
    "        \n",
    "    return a1, ar, a2, b1, br, b2"
   ]
  },
  {
   "cell_type": "markdown",
   "metadata": {},
   "source": [
    "**EAM configurational energy based on sufficient statistics and model parameters**"
   ]
  },
  {
   "cell_type": "code",
   "execution_count": 8,
   "metadata": {
    "collapsed": true
   },
   "outputs": [],
   "source": [
    "#%%writefile -a ../../statmechlib/statmechlib/forcefields/eam.py\n",
    "\n",
    "def utot_EAM(params, ustats):\n",
    "    \"\"\"\n",
    "    Calculates configurational energy from EAM sufficient statistics and model parameters\n",
    "\n",
    "    Parameters\n",
    "    ----------\n",
    "    params : list of lists and floats\n",
    "             EAM interaction parameters (spline coefficients array and embedding function parameters)\n",
    "    ustats : list of lists and floats\n",
    "             Sufficient statistics for a trajectory of configurations\n",
    "\n",
    "    Returns\n",
    "    -------\n",
    "    u_total: float\n",
    "             total configurational energy (sum of pair and manybody interactions) for trajectory of configurations\n",
    "    \"\"\"\n",
    "\n",
    "    n_sample = len(ustats)\n",
    "\n",
    "    # pair interactions from array of spline coefficeints and corresponding statistic\n",
    "    u_pair = np.array([sum([a*s for a, s in zip(params[2:], ustats[i][2,:])]) for i in range(n_sample)])\n",
    "\n",
    "    # manybody interactions from embedding function parameters and corresponding statistics\n",
    "    u_many = np.array([params[0]*ustats[i][0, -1] + params[1]*ustats[i][1, -1] for i in range(n_sample)])\n",
    "\n",
    "    u_total = 0.5*u_pair + u_many\n",
    "\n",
    "    return u_total"
   ]
  },
  {
   "cell_type": "code",
   "execution_count": 9,
   "metadata": {
    "collapsed": true
   },
   "outputs": [],
   "source": [
    "#%%writefile -a ../../statmechlib/statmechlib/forcefields/eam.py\n",
    "\n",
    "def ftot_EAM(params, fstats):\n",
    "    \"\"\"\n",
    "    Calculates configurational energy from EAM sufficient statistics and model parameters\n",
    "\n",
    "    Parameters\n",
    "    ----------\n",
    "    params : list of lists and floats\n",
    "             EAM interaction parameters (spline coefficients array and embedding function parameters)\n",
    "    fstats : list of lists and floats\n",
    "             Sufficient statistics\n",
    "\n",
    "    Returns\n",
    "    -------\n",
    "    f_total: float\n",
    "             total configurational energy (sum of pair and manybody interactions)\n",
    "    \"\"\"\n",
    "\n",
    "    # number of samples and atoms\n",
    "    n_sample = len(fstats)\n",
    "    \n",
    "    \n",
    "    # cycle over samples\n",
    "    f_total = []\n",
    "    for i in range(n_sample):\n",
    "\n",
    "        # pair interactions from array of spline coefficeints and corresponding statistic\n",
    "        f_pair = sum([p*s for p, s in zip(params[2:], fstats[i][2,:])]) \n",
    "\n",
    "        # manybody interactions from embedding function parameters and corresponding statistics\n",
    "        f_many = params[0]*fstats[i][0,-1] + params[1]*fstats[i][1, -1]\n",
    "        \n",
    "        n_atom = fstats[i][0,0].shape[0]\n",
    "        # Create a 6N + 1 array of 0, f, and -f\n",
    "        fx = np.zeros((6*n_atom + 1), dtype=float)\n",
    "        fx[1:3*n_atom+1] = 0.5*f_pair.flatten() + f_many.flatten()\n",
    "        fx[3*n_atom+1:] = -fx[1:3*n_atom+1]\n",
    "        #print('natom', n_atom, type(f_pair), type(f_many), f_pair.shape, f_many.shape)\n",
    " \n",
    "        f_total.append(fx)\n",
    "        \n",
    "    return np.array(f_total)"
   ]
  },
  {
   "cell_type": "markdown",
   "metadata": {},
   "source": [
    "#### 2.2.2 Statistical distance loss function\n",
    "\n",
    "**Loss function based on configurational energies and forces**"
   ]
  },
  {
   "cell_type": "code",
   "execution_count": 10,
   "metadata": {
    "collapsed": true
   },
   "outputs": [],
   "source": [
    "#%%writefile -a ../../statmechlib/statmechlib/forcefields/eam.py\n",
    "\n",
    "def sd2_loss(params, stats, targets, utot_func, ftot_func=None, dl=0.05, verbose=0):\n",
    "    \"\"\"\n",
    "    Calculates squared statistical distance loss function for configurational energies and forces.\n",
    "\n",
    "    Parameters\n",
    "    ----------\n",
    "    params : list of lists and floats\n",
    "             EAM interaction parameters (spline coefficients array and embedding function parameters)\n",
    "    stats  : list of lists and floats\n",
    "             Sufficient statistics\n",
    "    targets: list of lists and floats\n",
    "             target energies and forces\n",
    "    utot_func: function\n",
    "               takes parameters and statistics and returns configurational energies\n",
    "    ftot_func: function\n",
    "               takes parameters and statistics and returns atomic forces\n",
    "    dl: float\n",
    "        coordinate perturbation magnitude for energy calculation from forces: du = f*dl\n",
    "\n",
    "    Returns\n",
    "    -------\n",
    "    sd2, sd2f: float\n",
    "               squared statistical distances between model and target (energy and force-based)\n",
    "    \"\"\"\n",
    "\n",
    "    # apply bounds on parametes\n",
    "    #p = np.where(p < -1.0, -1.0, p)\n",
    "    #p = np.where(p >  1.0,  1.0, p)\n",
    "\n",
    "    # cycle over target system trajectories and statistics to determine SD\n",
    "    sd2 = sd2f = 0.0\n",
    "    for targ, stat in zip(targets, stats):\n",
    "\n",
    "        beta = np.mean(targ['beta']) # system inverse temperature\n",
    "        u_targ = np.array(targ['energy']) # target energies\n",
    "        u_stat = stat['energy'] # energy statistics\n",
    "        n_sample = len(u_targ)\n",
    "        w = targ.get('weight', 1.0)\n",
    "\n",
    "        # energy diference array for a given target trajectory\n",
    "        uuu = beta*(utot_EAM(params, u_stat) - u_targ) # array(n_sample)\n",
    "        uuu -= np.mean(uuu)\n",
    "        eee = np.exp(-uuu)\n",
    "        \n",
    "        #print('sd2', utot_EAM(params, u_stat)[0], u_targ[0])\n",
    "\n",
    "        # are we using forces?\n",
    "        if (not ftot_func) and ('forcesx' not in targ):\n",
    "\n",
    "            # energy-based free energy difference and statistical distance\n",
    "            ge = -np.log(np.mean(eee))   # free energy difference (shifted)\n",
    "            cb = np.mean(np.exp(-0.5*(uuu - ge))) # Bhattacharyya coefficient\n",
    "            sd2 += w*np.arccos(cb)**2              # statistical distance\n",
    "\n",
    "        else:\n",
    "\n",
    "            betad = beta*dl  # beta * dl\n",
    "            f_targ = targ['forces'] # target forces (n_sample, 1+6N) (0, 3Nf, -3Nf)\n",
    "            f_stat = stat['forces'] # force statistics (n_sample, npars, 3N)\n",
    "\n",
    "            eeh = np.exp(-0.5*uuu)\n",
    "            fff = ftot_func(params, f_stat) # n_sample *(6N + 1) force contributions\n",
    "\n",
    "            # target and model force terms\n",
    "            fpave = np.mean([np.mean(np.exp(betad*f_targ[i])) for i in range(n_sample)])\n",
    "            fqave = np.mean([eee[i]*np.mean(np.exp(betad*fff[i])) for i in range(n_sample)])\n",
    "            fhave = np.mean([eeh[i]*np.mean(np.exp(0.5*betad*(fff[i]+f_targ[i]))) for i in range(n_sample)])\n",
    "            \n",
    "            # force-based free energy difference and statistical distance\n",
    "            gef = -np.log(fqave/fpave)\n",
    "            cb = fhave/(fqave*fpave)**0.5\n",
    "            if cb > 1: cb = 1\n",
    "            sd2f += w*np.arccos(cb)**2\n",
    "    \n",
    "    if verbose > 0:\n",
    "        print('loss', sd2+sd2f)\n",
    "    \n",
    "    return sd2 + sd2f"
   ]
  },
  {
   "cell_type": "code",
   "execution_count": 11,
   "metadata": {
    "collapsed": true
   },
   "outputs": [],
   "source": [
    "#%%writefile -a ../../statmechlib/statmechlib/forcefields/eam.py\n",
    "\n",
    "def udif_print(params, stats, targets, utot_func):\n",
    "    \"\"\"\n",
    "    Calculates squared statistical distance loss function for configurational energies and forces.\n",
    "\n",
    "    Parameters\n",
    "    ----------\n",
    "    params : list of lists and floats\n",
    "             EAM interaction parameters (spline coefficients array and embedding function parameters)\n",
    "    stats  : list of lists and floats\n",
    "             Sufficient statistics\n",
    "    targets: list of lists and floats\n",
    "             target energies and forces\n",
    "    utot_func: function\n",
    "               takes parameters and statistics and returns configurational energies\n",
    "\n",
    "    Returns\n",
    "    -------\n",
    "    opti_out, targ_out: lists of floats\n",
    "            model and target configurational energies\n",
    "    \"\"\"\n",
    "    \n",
    "    opti_out = []\n",
    "    targ_out = []\n",
    "    # cycle over target system trajectories and statistics to determine SD\n",
    "    for targ, stat in zip(targets, stats):\n",
    "\n",
    "        u_targ = np.array(targ['energy']) # target energies\n",
    "        u_stat = stat['energy'] # energy statistics\n",
    "\n",
    "        opti_out.append(list(utot_EAM(params, u_stat)))\n",
    "        targ_out.append(list(u_targ))\n",
    "    \n",
    "    return opti_out, targ_out"
   ]
  },
  {
   "cell_type": "markdown",
   "metadata": {},
   "source": [
    "### 2.3 Target data"
   ]
  },
  {
   "cell_type": "markdown",
   "metadata": {},
   "source": [
    "**Bulk properties of tungsten** (from _Marinica et.al_ except for B (bulk modulus) and Pc (Cauchy pressure)) T=0K?\n",
    "\n",
    "| Property | BCC | FCC |\n",
    "| :---     | :---: | :---: |\n",
    "| a_0 (A) | 3.1648 | 4.054 |\n",
    "| E_coh (eV/atom) | -8.9 | -8.43 |\n",
    "| C11 (GPa) | 523 | - |\n",
    "| C12 (GPa) | 203 | - |\n",
    "| C44 (GPa) | 160 | - |\n",
    "| B (GPa) | 310.4 | - |\n",
    "| Pc (GPa) | 21.9 | - |"
   ]
  },
  {
   "cell_type": "markdown",
   "metadata": {},
   "source": [
    "**Defect properties** (from _Marinica et.al_), based on 128+-1 atoms\n",
    "\n",
    "Defect | Energy (eV)\n",
    ":--- | :---:\n",
    "(111) | 10.53\n",
    "(110) | 10.82\n",
    "(100) | 12.87\n",
    "OCT | 13.11\n",
    "TET | 12.27\n",
    "Vacancy | 3.49"
   ]
  },
  {
   "cell_type": "markdown",
   "metadata": {},
   "source": [
    "**List of available atomic configurations and DFT data**\n",
    "\n",
    "1. Data from Marinica\n",
    "  * 20 configurations generated from liquid Fe trajectory, N=113\n",
    "  * DFT Forces\n",
    "  * DFT Energy\n",
    "2. Data from German (local minimum energy configs.)\n",
    "  * Energy, Hessians?\n",
    "  * Pure phases\n",
    "    * BCC (54 atoms)\n",
    "    * FCC (32 atoms)\n",
    "  * Vacancy\n",
    "    * vacancy (53 atoms)\n",
    "  * Interstitial defects \n",
    "    * 110, 111 (55 atoms)\n",
    "  * Screw dislocation\n",
    "    * 111_easy_core (135 atoms)?"
   ]
  },
  {
   "cell_type": "markdown",
   "metadata": {},
   "source": [
    "**Universal equation of state for metals at 0K**"
   ]
  },
  {
   "cell_type": "code",
   "execution_count": 12,
   "metadata": {
    "collapsed": true
   },
   "outputs": [],
   "source": [
    "# W parameters\n",
    "l = 0.274\n",
    "r_wse = 3.168\n",
    "r_wse = 1.584\n",
    "eta = 5.69\n",
    "dE = 8.9\n",
    "\n",
    "# equation of state. x is lattice expansion/compression parameter\n",
    "def eos(x):\n",
    "    a = (x - 1.0)*r_wse/l\n",
    "    ene = np.exp(-a)\n",
    "    ene *= -1.0 - a - 0.05*a**3\n",
    "    return dE*ene"
   ]
  },
  {
   "cell_type": "markdown",
   "metadata": {},
   "source": [
    "**Load target data files**"
   ]
  },
  {
   "cell_type": "markdown",
   "metadata": {},
   "source": [
    "Structure of h5 files with configuration data.\n",
    "\n",
    "1. Single target_conf file contains all the information from different simulations\n",
    "2. Each simulation is treated as a trajectory (sometimes with only 1 configuration)\n",
    "3. Trajectory data structure\n",
    "    * overall description\n",
    "        * General description\n",
    "        * Particle id, element\n",
    "    * per-configuration description\n",
    "        * box description\n",
    "        * particle coordinates ordered by particle number\n",
    "        * configurational, kinetic, and total energies\n",
    "        * forces per particle\n",
    "        * "
   ]
  },
  {
   "cell_type": "markdown",
   "metadata": {},
   "source": [
    "### 2.4 Simulation details"
   ]
  },
  {
   "cell_type": "markdown",
   "metadata": {},
   "source": [
    "## 3. Optimization\n",
    "\n",
    "** Read pickled data**"
   ]
  },
  {
   "cell_type": "code",
   "execution_count": 125,
   "metadata": {
    "collapsed": true
   },
   "outputs": [],
   "source": [
    "import pickle\n",
    "\n",
    "# load target data\n",
    "with open(os.path.join(working, 'target_filtered'+'.pickle'), 'rb') as fi:\n",
    "    targ_dict = pickle.load(fi)\n",
    "\n",
    "# load stats data\n",
    "with open(os.path.join(working, 'stats_filtered'+'.pickle'), 'rb') as fi:\n",
    "    stats_dict = pickle.load(fi)\n",
    "\n",
    "# load target data\n",
    "#with open(os.path.join(working, 'target'+'.pickle'), 'rb') as fi:\n",
    "#    targ0_dict = pickle.load(fi)\n",
    "\n",
    "# load stats data\n",
    "#with open(os.path.join(working, 'stats'+'.pickle'), 'rb') as fi:\n",
    "#    stats0_dict = pickle.load(fi)\n",
    "\n",
    "# load stats data\n",
    "with open(os.path.join(working, 'pars_in'+'.pickle'), 'rb') as fi:\n",
    "    pars_dict = pickle.load(fi)"
   ]
  },
  {
   "cell_type": "code",
   "execution_count": 160,
   "metadata": {
    "collapsed": true
   },
   "outputs": [],
   "source": [
    "import pickle\n",
    "\n",
    "# load target data\n",
    "with open(os.path.join(working, 'target_filteredx'+'.pickle'), 'rb') as fi:\n",
    "    targ_dictx = pickle.load(fi)\n",
    "\n",
    "# load stats data\n",
    "with open(os.path.join(working, 'stats_filteredx'+'.pickle'), 'rb') as fi:\n",
    "    stats_dictx = pickle.load(fi)\n",
    "\n",
    "# load target data\n",
    "#with open(os.path.join(working, 'target'+'.pickle'), 'rb') as fi:\n",
    "#    targ0_dict = pickle.load(fi)\n",
    "\n",
    "# load stats data\n",
    "#with open(os.path.join(working, 'stats'+'.pickle'), 'rb') as fi:\n",
    "#    stats0_dict = pickle.load(fi)\n",
    "\n",
    "# load stats data\n",
    "#with open(os.path.join(working, 'pars_in'+'.pickle'), 'rb') as fi:\n",
    "#    pars_dict = pickle.load(fi)"
   ]
  },
  {
   "cell_type": "code",
   "execution_count": 168,
   "metadata": {},
   "outputs": [
    {
     "data": {
      "text/plain": [
       "(array([[1.43942442e+00, 1.05107079e+01, 1.31294665e+02, 4.09884134e+02,\n",
       "         6.90602070e+02, 1.19042649e+03],\n",
       "        [1.50050196e-03, 7.38892675e-02, 1.57266174e+02, 1.34006460e+04,\n",
       "         1.06797455e+05, 9.38673806e+05],\n",
       "        [1.13007244e-01, 1.43498916e+00, 1.36244310e+02, 1.30638896e+03,\n",
       "         3.70196029e+03, 1.09915915e+04]]),\n",
       " array([[1.43942442e+00, 1.05107079e+01, 1.31294665e+02, 4.09884134e+02,\n",
       "         6.90602070e+02, 1.19042649e+03],\n",
       "        [1.50050196e-03, 7.38892675e-02, 1.57266174e+02, 1.34006460e+04,\n",
       "         1.06797455e+05, 9.38673806e+05],\n",
       "        [1.13007244e-01, 1.43498916e+00, 1.36244310e+02, 1.30638896e+03,\n",
       "         3.70196029e+03, 1.09915915e+04]]))"
      ]
     },
     "execution_count": 168,
     "metadata": {},
     "output_type": "execute_result"
    }
   ],
   "source": [
    "stats_dictx['dset3']['energy'][-1], stats_dict['dset3']['energy'][-1]"
   ]
  },
  {
   "cell_type": "code",
   "execution_count": 130,
   "metadata": {},
   "outputs": [
    {
     "data": {
      "text/plain": [
       "dict_keys(['dset0', 'dset1', 'dset2', 'dset3', 'dset4', 'dset5', 'dset6', 'dset7', 'dset8', 'dset9'])"
      ]
     },
     "execution_count": 130,
     "metadata": {},
     "output_type": "execute_result"
    }
   ],
   "source": [
    "targ_dict.keys()"
   ]
  },
  {
   "cell_type": "code",
   "execution_count": 149,
   "metadata": {},
   "outputs": [
    {
     "data": {
      "text/plain": [
       "array([[0.00000000e+00, 1.51084109e+00, 1.24163645e+02, 4.11308720e+02,\n",
       "        6.97223782e+02, 1.20030465e+03],\n",
       "       [0.00000000e+00, 3.17172910e-05, 1.14754590e+02, 1.36791207e+04,\n",
       "        1.12809763e+05, 9.90307760e+05],\n",
       "       [0.00000000e+00, 3.29779109e-02, 1.20693813e+02, 1.32219335e+03,\n",
       "        3.79853013e+03, 1.12567229e+04]])"
      ]
     },
     "execution_count": 149,
     "metadata": {},
     "output_type": "execute_result"
    }
   ],
   "source": [
    "stats_dict['dset0']['energy'][0]"
   ]
  },
  {
   "cell_type": "code",
   "execution_count": 153,
   "metadata": {},
   "outputs": [
    {
     "data": {
      "text/plain": [
       "54"
      ]
     },
     "execution_count": 153,
     "metadata": {},
     "output_type": "execute_result"
    }
   ],
   "source": [
    "len(targ_dict['dset9']['xyz'][0])"
   ]
  },
  {
   "cell_type": "code",
   "execution_count": 155,
   "metadata": {},
   "outputs": [
    {
     "data": {
      "text/plain": [
       "688.078125"
      ]
     },
     "execution_count": 155,
     "metadata": {},
     "output_type": "execute_result"
    }
   ],
   "source": [
    "1631/(128/54)"
   ]
  },
  {
   "cell_type": "code",
   "execution_count": 159,
   "metadata": {},
   "outputs": [
    {
     "data": {
      "text/plain": [
       "-1139.2000000000482"
      ]
     },
     "execution_count": 159,
     "metadata": {},
     "output_type": "execute_result"
    }
   ],
   "source": [
    "targ_dict['dset9']['energy'][0]*128/54"
   ]
  },
  {
   "cell_type": "code",
   "execution_count": 127,
   "metadata": {
    "collapsed": true
   },
   "outputs": [],
   "source": [
    "#i = 0\n",
    "#for key, value in targ0_dict.items():\n",
    "#    targ_dict['struct'+str(i)] = value\n",
    "#    i += 1\n",
    "#    print(i, key)"
   ]
  },
  {
   "cell_type": "code",
   "execution_count": 128,
   "metadata": {
    "collapsed": true
   },
   "outputs": [],
   "source": [
    "#i = 0\n",
    "#for key, value in stats0_dict.items():\n",
    "#    stats_dict['struct'+str(i)] = value\n",
    "#    i += 1"
   ]
  },
  {
   "cell_type": "code",
   "execution_count": 129,
   "metadata": {},
   "outputs": [
    {
     "name": "stdout",
     "output_type": "stream",
     "text": [
      "dset0 dict_keys(['type', 'weight', 'box', 'xyz', 'energy', 'temp', 'beta']) 1.0\n",
      "dset1 dict_keys(['type', 'weight', 'box', 'xyz', 'energy', 'temp', 'beta']) 1.0\n",
      "dset2 dict_keys(['type', 'weight', 'box', 'xyz', 'energy', 'temp', 'beta']) 1.0\n",
      "dset3 dict_keys(['type', 'weight', 'box', 'xyz', 'energy', 'temp', 'beta']) 1.0\n",
      "dset4 dict_keys(['type', 'weight', 'box', 'xyz', 'energy', 'temp', 'beta']) 1.0\n",
      "dset5 dict_keys(['type', 'weight', 'box', 'xyz', 'energy', 'temp', 'beta']) 1.0\n",
      "dset6 dict_keys(['type', 'weight', 'box', 'xyz', 'energy', 'temp', 'beta']) 1.0\n",
      "dset7 dict_keys(['type', 'weight', 'box', 'xyz', 'energy', 'temp', 'beta']) 1.0\n",
      "dset8 dict_keys(['type', 'weight', 'box', 'xyz', 'energy', 'temp', 'beta']) 1.0\n",
      "dset9 dict_keys(['type', 'weight', 'box', 'xyz', 'energy', 'temp', 'beta']) 10.0\n",
      "dset0 dict_keys(['energy'])\n",
      "dset1 dict_keys(['energy'])\n",
      "dset2 dict_keys(['energy'])\n",
      "dset3 dict_keys(['energy'])\n",
      "dset4 dict_keys(['energy'])\n",
      "dset5 dict_keys(['energy'])\n",
      "dset6 dict_keys(['energy'])\n",
      "dset7 dict_keys(['energy'])\n",
      "dset8 dict_keys(['energy'])\n",
      "dset9 dict_keys(['energy'])\n"
     ]
    }
   ],
   "source": [
    "for key in targ_dict.keys():\n",
    "    print(key, targ_dict[key].keys(), targ_dict[key]['weight'])\n",
    "    \n",
    "for key in stats_dict.keys():\n",
    "    print(key, stats_dict[key].keys())"
   ]
  },
  {
   "cell_type": "code",
   "execution_count": 143,
   "metadata": {},
   "outputs": [
    {
     "name": "stdout",
     "output_type": "stream",
     "text": [
      "{'energy': [array([[0.00000000e+00, 1.51084109e+00, 1.24163645e+02, 4.11308720e+02,\n",
      "        6.97223782e+02, 1.20030465e+03],\n",
      "       [0.00000000e+00, 3.17172910e-05, 1.14754590e+02, 1.36791207e+04,\n",
      "        1.12809763e+05, 9.90307760e+05],\n",
      "       [0.00000000e+00, 3.29779109e-02, 1.20693813e+02, 1.32219335e+03,\n",
      "        3.79853013e+03, 1.12567229e+04]]), array([[0.00000000e+00, 1.39672154e+00, 1.24044758e+02, 4.11237813e+02,\n",
      "        6.97177381e+02, 1.20027808e+03],\n",
      "       [0.00000000e+00, 2.39657787e-05, 1.14325957e+02, 1.36703215e+04,\n",
      "        1.12782427e+05, 9.90231954e+05],\n",
      "       [0.00000000e+00, 2.81749860e-02, 1.20464910e+02, 1.32174807e+03,\n",
      "        3.79803998e+03, 1.12562473e+04]]), array([[0.00000000e+00, 1.30648024e+00, 1.24017219e+02, 4.11262144e+02,\n",
      "        6.97225949e+02, 1.20035207e+03],\n",
      "       [0.00000000e+00, 1.73976358e-05, 1.14163247e+02, 1.36729948e+04,\n",
      "        1.12812821e+05, 9.90475351e+05],\n",
      "       [0.00000000e+00, 2.47847189e-02, 1.20400871e+02, 1.32189603e+03,\n",
      "        3.79856401e+03, 1.12576343e+04]]), array([[0.00000000e+00, 1.28804247e+00, 1.24099008e+02, 4.11365955e+02,\n",
      "        6.97332297e+02, 1.20046811e+03],\n",
      "       [0.00000000e+00, 1.49922503e-05, 1.14402596e+02, 1.36859725e+04,\n",
      "        1.12879480e+05, 9.90851997e+05],\n",
      "       [0.00000000e+00, 2.43459987e-02, 1.20548554e+02, 1.32255060e+03,\n",
      "        3.79971138e+03, 1.12597997e+04]]), array([[0.00000000e+00, 1.34446860e+00, 1.24251734e+02, 4.11541903e+02,\n",
      "        6.97508786e+02, 1.20065946e+03],\n",
      "       [0.00000000e+00, 1.68618998e-05, 1.14914301e+02, 1.37082739e+04,\n",
      "        1.12989993e+05, 9.91468772e+05],\n",
      "       [0.00000000e+00, 2.55216619e-02, 1.20836272e+02, 1.32366488e+03,\n",
      "        3.80161473e+03, 1.12633621e+04]]), array([[0.00000000e+00, 1.38810160e+00, 1.24433461e+02, 4.11807341e+02,\n",
      "        6.97801313e+02, 1.20100018e+03],\n",
      "       [0.00000000e+00, 1.68647829e-05, 1.15590157e+02, 1.37434563e+04,\n",
      "        1.13178691e+05, 9.92588795e+05],\n",
      "       [0.00000000e+00, 2.54118643e-02, 1.21191355e+02, 1.32537036e+03,\n",
      "        3.80479966e+03, 1.12697455e+04]]), array([[0.00000000e+00, 1.42675769e+00, 1.24595570e+02, 4.12019014e+02,\n",
      "        6.98026441e+02, 1.20125937e+03],\n",
      "       [0.00000000e+00, 2.07350084e-05, 1.16237408e+02, 1.37726602e+04,\n",
      "        1.13328332e+05, 9.93458718e+05],\n",
      "       [0.00000000e+00, 2.66328940e-02, 1.21516547e+02, 1.32674913e+03,\n",
      "        3.80727571e+03, 1.12746354e+04]]), array([[0.00000000e+00, 1.50492831e+00, 1.24707075e+02, 4.12166202e+02,\n",
      "        6.98182918e+02, 1.20144122e+03],\n",
      "       [0.00000000e+00, 2.33091896e-05, 1.16712609e+02, 1.37933920e+04,\n",
      "        1.13433613e+05, 9.94073660e+05],\n",
      "       [0.00000000e+00, 2.99193419e-02, 1.21745221e+02, 1.32771439e+03,\n",
      "        3.80900349e+03, 1.12780745e+04]]), array([[0.00000000e+00, 1.55895833e+00, 1.24755005e+02, 4.12254179e+02,\n",
      "        6.98284864e+02, 1.20156981e+03],\n",
      "       [0.00000000e+00, 3.16575012e-05, 1.16909500e+02, 1.38050494e+04,\n",
      "        1.13498788e+05, 9.94493405e+05],\n",
      "       [0.00000000e+00, 3.33070945e-02, 1.21841627e+02, 1.32827906e+03,\n",
      "        3.81010961e+03, 1.12804773e+04]]), array([[0.00000000e+00, 1.54082235e+00, 1.24737787e+02, 4.12263341e+02,\n",
      "        6.98302638e+02, 1.20160086e+03],\n",
      "       [0.00000000e+00, 4.81744502e-05, 1.16832025e+02, 1.38052240e+04,\n",
      "        1.13505233e+05, 9.94573092e+05],\n",
      "       [0.00000000e+00, 3.53961679e-02, 1.21805069e+02, 1.32832089e+03,\n",
      "        3.81027478e+03, 1.12810165e+04]]), array([[0.00000000e+00, 1.53631713e+00, 1.24753145e+02, 4.12291055e+02,\n",
      "        6.98336651e+02, 1.20164346e+03],\n",
      "       [0.00000000e+00, 5.14620524e-05, 1.16815443e+02, 1.38070481e+04,\n",
      "        1.13520040e+05, 9.94685015e+05],\n",
      "       [0.00000000e+00, 3.54650078e-02, 1.21821472e+02, 1.32846884e+03,\n",
      "        3.81060490e+03, 1.12817614e+04]]), array([[0.00000000e+00, 1.52508429e+00, 1.24767308e+02, 4.12318265e+02,\n",
      "        6.98375877e+02, 1.20169244e+03],\n",
      "       [0.00000000e+00, 4.15190471e-05, 1.16780156e+02, 1.38084882e+04,\n",
      "        1.13536938e+05, 9.94812004e+05],\n",
      "       [0.00000000e+00, 3.29651389e-02, 1.21832961e+02, 1.32860819e+03,\n",
      "        3.81098439e+03, 1.12826143e+04]]), array([[0.00000000e+00, 1.46475122e+00, 1.24777109e+02, 4.12334708e+02,\n",
      "        6.98413309e+02, 1.20174473e+03],\n",
      "       [0.00000000e+00, 3.68424676e-05, 1.16683048e+02, 1.38074890e+04,\n",
      "        1.13548956e+05, 9.94935493e+05],\n",
      "       [0.00000000e+00, 3.11101941e-02, 1.21827804e+02, 1.32866197e+03,\n",
      "        3.81132331e+03, 1.12835018e+04]]), array([[0.00000000e+00, 1.45711758e+00, 1.24769277e+02, 4.12301815e+02,\n",
      "        6.98385334e+02, 1.20171197e+03],\n",
      "       [0.00000000e+00, 3.49700309e-05, 1.16527708e+02, 1.38005270e+04,\n",
      "        1.13521204e+05, 9.94789282e+05],\n",
      "       [0.00000000e+00, 3.12498512e-02, 1.21789514e+02, 1.32840819e+03,\n",
      "        3.81096372e+03, 1.12828145e+04]]), array([[0.00000000e+00, 1.50483456e+00, 1.24745725e+02, 4.12253418e+02,\n",
      "        6.98339046e+02, 1.20165947e+03],\n",
      "       [0.00000000e+00, 2.98229033e-05, 1.16376634e+02, 1.37928538e+04,\n",
      "        1.13486528e+05, 9.94596918e+05],\n",
      "       [0.00000000e+00, 3.23094119e-02, 1.21731515e+02, 1.32807626e+03,\n",
      "        3.81043187e+03, 1.12817925e+04]]), array([[0.00000000e+00, 1.52679718e+00, 1.24683829e+02, 4.12203161e+02,\n",
      "        6.98301553e+02, 1.20162730e+03],\n",
      "       [0.00000000e+00, 3.48035953e-05, 1.16155746e+02, 1.37858556e+04,\n",
      "        1.13460198e+05, 9.94479716e+05],\n",
      "       [0.00000000e+00, 3.44677813e-02, 1.21612202e+02, 1.32774770e+03,\n",
      "        3.81001118e+03, 1.12811675e+04]]), array([[0.00000000e+00, 1.45539873e+00, 1.24604065e+02, 4.12178375e+02,\n",
      "        6.98307602e+02, 1.20165992e+03],\n",
      "       [0.00000000e+00, 4.23151796e-05, 1.15918619e+02, 1.37831750e+04,\n",
      "        1.13465250e+05, 9.94588050e+05],\n",
      "       [0.00000000e+00, 3.38141356e-02, 1.21467305e+02, 1.32759815e+03,\n",
      "        3.81008323e+03, 1.12817803e+04]]), array([[0.00000000e+00, 1.34364494e+00, 1.24575088e+02, 4.12229797e+02,\n",
      "        6.98398907e+02, 1.20179191e+03],\n",
      "       [0.00000000e+00, 3.30413150e-05, 1.15839849e+02, 1.37906513e+04,\n",
      "        1.13526290e+05, 9.95029756e+05],\n",
      "       [0.00000000e+00, 2.92602228e-02, 1.21416578e+02, 1.32793936e+03,\n",
      "        3.81108933e+03, 1.12842679e+04]]), array([[0.00000000e+00, 1.22166890e+00, 1.24584777e+02, 4.12337786e+02,\n",
      "        6.98552316e+02, 1.20199590e+03],\n",
      "       [0.00000000e+00, 1.78564778e-05, 1.15893609e+02, 1.38060657e+04,\n",
      "        1.13629743e+05, 9.95719592e+05],\n",
      "       [0.00000000e+00, 2.28962158e-02, 1.21439392e+02, 1.32865121e+03,\n",
      "        3.81278495e+03, 1.12881262e+04]]), array([[0.00000000e+00, 1.12169019e+00, 1.24615201e+02, 4.12440535e+02,\n",
      "        6.98689894e+02, 1.20217761e+03],\n",
      "       [0.00000000e+00, 1.21626782e-05, 1.16042227e+02, 1.38209860e+04,\n",
      "        1.13723732e+05, 9.96339425e+05],\n",
      "       [0.00000000e+00, 1.89798706e-02, 1.21505149e+02, 1.32933236e+03,\n",
      "        3.81431223e+03, 1.12915730e+04]]), array([[0.00000000e+00, 1.10577467e+00, 1.24616906e+02, 4.12457844e+02,\n",
      "        6.98714750e+02, 1.20221421e+03],\n",
      "       [0.00000000e+00, 8.11425662e-06, 1.16110347e+02, 1.38248304e+04,\n",
      "        1.13745756e+05, 9.96484402e+05],\n",
      "       [0.00000000e+00, 1.71947228e-02, 1.21519077e+02, 1.32946828e+03,\n",
      "        3.81461624e+03, 1.12923052e+04]]), array([[0.00000000e+00, 1.18994392e+00, 1.24662433e+02, 4.12493595e+02,\n",
      "        6.98745014e+02, 1.20224436e+03],\n",
      "       [0.00000000e+00, 9.47379009e-06, 1.16310183e+02, 1.38299214e+04,\n",
      "        1.13766125e+05, 9.96585499e+05],\n",
      "       [0.00000000e+00, 1.93451489e-02, 1.21612915e+02, 1.32970313e+03,\n",
      "        3.81494996e+03, 1.12928733e+04]]), array([[0.00000000e+00, 1.31769688e+00, 1.24720226e+02, 4.12518661e+02,\n",
      "        6.98753415e+02, 1.20224201e+03],\n",
      "       [0.00000000e+00, 2.00675678e-05, 1.16506909e+02, 1.38325909e+04,\n",
      "        1.13768878e+05, 9.96566544e+05],\n",
      "       [0.00000000e+00, 2.49658352e-02, 1.21722316e+02, 1.32985334e+03,\n",
      "        3.81502616e+03, 1.12928077e+04]]), array([[0.00000000e+00, 1.41150217e+00, 1.24779181e+02, 4.12556817e+02,\n",
      "        6.98776029e+02, 1.20225784e+03],\n",
      "       [0.00000000e+00, 3.48656836e-05, 1.16716952e+02, 1.38371619e+04,\n",
      "        1.13781619e+05, 9.96611881e+05],\n",
      "       [0.00000000e+00, 3.00090423e-02, 1.21835522e+02, 1.33009035e+03,\n",
      "        3.81526174e+03, 1.12930913e+04]]), array([[0.00000000e+00, 1.44388013e+00, 1.24879255e+02, 4.12665959e+02,\n",
      "        6.98888153e+02, 1.20238350e+03],\n",
      "       [0.00000000e+00, 3.47454557e-05, 1.17070762e+02, 1.38515391e+04,\n",
      "        1.13854273e+05, 9.97028959e+05],\n",
      "       [0.00000000e+00, 3.05265455e-02, 1.22027615e+02, 1.33078976e+03,\n",
      "        3.81648389e+03, 1.12954527e+04]]), array([[0.00000000e+00, 1.47115580e+00, 1.24918216e+02, 4.12707426e+02,\n",
      "        6.98934923e+02, 1.20243812e+03],\n",
      "       [0.00000000e+00, 2.69546742e-05, 1.17169417e+02, 1.38565176e+04,\n",
      "        1.13883275e+05, 9.97206118e+05],\n",
      "       [0.00000000e+00, 2.95215253e-02, 1.22095721e+02, 1.33104773e+03,\n",
      "        3.81698634e+03, 1.12964712e+04]]), array([[0.00000000e+00, 1.52379902e+00, 1.24952090e+02, 4.12735064e+02,\n",
      "        6.98966714e+02, 1.20247473e+03],\n",
      "       [0.00000000e+00, 2.57468121e-05, 1.17276285e+02, 1.38601291e+04,\n",
      "        1.13904069e+05, 9.97329147e+05],\n",
      "       [0.00000000e+00, 3.04224533e-02, 1.22157962e+02, 1.33122402e+03,\n",
      "        3.81733362e+03, 1.12971617e+04]]), array([[0.00000000e+00, 1.51793488e+00, 1.25046087e+02, 4.12890318e+02,\n",
      "        6.99157991e+02, 1.20271053e+03],\n",
      "       [0.00000000e+00, 2.63267449e-05, 1.17632604e+02, 1.38812378e+04,\n",
      "        1.14029888e+05, 9.98116873e+05],\n",
      "       [0.00000000e+00, 3.08939121e-02, 1.22342312e+02, 1.33222959e+03,\n",
      "        3.81942921e+03, 1.13016025e+04]]), array([[0.00000000e+00, 1.45918918e+00, 1.25123474e+02, 4.13030698e+02,\n",
      "        6.99332429e+02, 1.20292656e+03],\n",
      "       [0.00000000e+00, 2.36727738e-05, 1.17930921e+02, 1.39003035e+04,\n",
      "        1.14144311e+05, 9.98836551e+05],\n",
      "       [0.00000000e+00, 2.92954238e-02, 1.22495397e+02, 1.33313896e+03,\n",
      "        3.82133900e+03, 1.13056677e+04]]), array([[0.00000000e+00, 1.40413029e+00, 1.25183130e+02, 4.13182580e+02,\n",
      "        6.99533457e+02, 1.20318546e+03],\n",
      "       [0.00000000e+00, 1.70000584e-05, 1.18161662e+02, 1.39203551e+04,\n",
      "        1.14273109e+05, 9.99683359e+05],\n",
      "       [0.00000000e+00, 2.64126585e-02, 1.22613183e+02, 1.33411332e+03,\n",
      "        3.82352258e+03, 1.13105099e+04]]), array([[0.00000000e+00, 1.39217160e+00, 1.25230056e+02, 4.13346179e+02,\n",
      "        6.99762472e+02, 1.20349224e+03],\n",
      "       [0.00000000e+00, 1.29114412e-05, 1.18310538e+02, 1.39406828e+04,\n",
      "        1.14414471e+05, 1.00066356e+06],\n",
      "       [0.00000000e+00, 2.50847932e-02, 1.22699659e+02, 1.33514205e+03,\n",
      "        3.82597978e+03, 1.13162034e+04]]), array([[0.00000000e+00, 1.35290500e+00, 1.25314301e+02, 4.13559864e+02,\n",
      "        7.00048835e+02, 1.20387018e+03],\n",
      "       [0.00000000e+00, 1.26701542e-05, 1.18601917e+02, 1.39680814e+04,\n",
      "        1.14595184e+05, 1.00188982e+06],\n",
      "       [0.00000000e+00, 2.46301668e-02, 1.22859574e+02, 1.33649922e+03,\n",
      "        3.82907414e+03, 1.13232525e+04]]), array([[0.00000000e+00, 1.25527440e+00, 1.25383862e+02, 4.13754988e+02,\n",
      "        7.00316177e+02, 1.20422637e+03],\n",
      "       [0.00000000e+00, 1.16977031e-05, 1.18827575e+02, 1.39929104e+04,\n",
      "        1.14763704e+05, 1.00304661e+06],\n",
      "       [0.00000000e+00, 2.20590855e-02, 1.22989829e+02, 1.33773612e+03,\n",
      "        3.83196247e+03, 1.13298986e+04]]), array([[0.00000000e+00, 1.19065185e+00, 1.25512354e+02, 4.14018880e+02,\n",
      "        7.00661707e+02, 1.20467646e+03],\n",
      "       [0.00000000e+00, 1.08523984e-05, 1.19261811e+02, 1.40270943e+04,\n",
      "        1.14984011e+05, 1.00451932e+06],\n",
      "       [0.00000000e+00, 1.92138132e-02, 1.23233450e+02, 1.33941907e+03,\n",
      "        3.83570996e+03, 1.13383179e+04]]), array([[0.00000000e+00, 1.27011273e+00, 1.25702291e+02, 4.14308097e+02,\n",
      "        7.01017847e+02, 1.20512488e+03],\n",
      "       [0.00000000e+00, 1.04757621e-05, 1.19970174e+02, 1.40661682e+04,\n",
      "        1.15217678e+05, 1.00601545e+06],\n",
      "       [0.00000000e+00, 2.03883826e-02, 1.23604561e+02, 1.34128894e+03,\n",
      "        3.83960899e+03, 1.13467600e+04]]), array([[0.00000000e+00, 1.40782261e+00, 1.25945435e+02, 4.14635716e+02,\n",
      "        7.01405349e+02, 1.20560146e+03],\n",
      "       [0.00000000e+00, 1.34085685e-05, 1.20945439e+02, 1.41121058e+04,\n",
      "        1.15478483e+05, 1.00763337e+06],\n",
      "       [0.00000000e+00, 2.51830260e-02, 1.24090525e+02, 1.34343280e+03,\n",
      "        3.84388696e+03, 1.13557838e+04]]), array([[0.00000000e+00, 1.52128155e+00, 1.26152170e+02, 4.14917379e+02,\n",
      "        7.01739039e+02, 1.20601379e+03],\n",
      "       [0.00000000e+00, 2.07842149e-05, 1.21778106e+02, 1.41518513e+04,\n",
      "        1.15704319e+05, 1.00904000e+06],\n",
      "       [0.00000000e+00, 3.14076603e-02, 1.24504124e+02, 1.34527957e+03,\n",
      "        3.84757745e+03, 1.13636036e+04]]), array([[0.00000000e+00, 1.60671630e+00, 1.26273915e+02, 4.15072382e+02,\n",
      "        7.01920301e+02, 1.20623637e+03],\n",
      "       [0.00000000e+00, 2.90227014e-05, 1.22243030e+02, 1.41739813e+04,\n",
      "        1.15829213e+05, 1.00981274e+06],\n",
      "       [0.00000000e+00, 3.54758203e-02, 1.24743665e+02, 1.34630026e+03,\n",
      "        3.84959478e+03, 1.13678504e+04]]), array([[0.00000000e+00, 1.61860005e+00, 1.26343380e+02, 4.15170891e+02,\n",
      "        7.02036443e+02, 1.20637924e+03],\n",
      "       [0.00000000e+00, 3.88178529e-05, 1.22523942e+02, 1.41886855e+04,\n",
      "        1.15912083e+05, 1.01032148e+06],\n",
      "       [0.00000000e+00, 3.73031064e-02, 1.24882916e+02, 1.34695941e+03,\n",
      "        3.85090357e+03, 1.13706007e+04]]), array([[0.00000000e+00, 1.57343975e+00, 1.26343603e+02, 4.15191927e+02,\n",
      "        7.02063194e+02, 1.20641083e+03],\n",
      "       [0.00000000e+00, 3.93100371e-05, 1.22511181e+02, 1.41920004e+04,\n",
      "        1.15932442e+05, 1.01044136e+06],\n",
      "       [0.00000000e+00, 3.49859258e-02, 1.24881288e+02, 1.34710345e+03,\n",
      "        3.85121264e+03, 1.13712234e+04]]), array([[0.00000000e+00, 1.42018183e+00, 1.26247971e+02, 4.15117849e+02,\n",
      "        7.01983063e+02, 1.20631499e+03],\n",
      "       [0.00000000e+00, 2.40366608e-05, 1.22151904e+02, 1.41818631e+04,\n",
      "        1.15879194e+05, 1.01011850e+06],\n",
      "       [0.00000000e+00, 2.79372607e-02, 1.24694669e+02, 1.34662318e+03,\n",
      "        3.85033231e+03, 1.13694139e+04]]), array([[0.00000000e+00, 1.28936433e+00, 1.26099002e+02, 4.14992120e+02,\n",
      "        7.01847736e+02, 1.20615475e+03],\n",
      "       [0.00000000e+00, 1.36537220e-05, 1.21573232e+02, 1.41635534e+04,\n",
      "        1.15784222e+05, 1.00955555e+06],\n",
      "       [0.00000000e+00, 2.25702950e-02, 1.24400016e+02, 1.34578961e+03,\n",
      "        3.84881671e+03, 1.13663441e+04]]), array([[0.00000000e+00, 1.26370560e+00, 1.26010949e+02, 4.14915756e+02,\n",
      "        7.01760134e+02, 1.20604431e+03],\n",
      "       [0.00000000e+00, 1.63417777e-05, 1.21244452e+02, 1.41524317e+04,\n",
      "        1.15722602e+05, 1.00916711e+06],\n",
      "       [0.00000000e+00, 2.21270277e-02, 1.24227479e+02, 1.34528241e+03,\n",
      "        3.84783390e+03, 1.13642267e+04]]), array([[0.00000000e+00, 1.35001786e+00, 1.25990879e+02, 4.14870915e+02,\n",
      "        7.01693814e+02, 1.20594917e+03],\n",
      "       [0.00000000e+00, 2.38584560e-05, 1.21194172e+02, 1.41461546e+04,\n",
      "        1.15677256e+05, 1.00883884e+06],\n",
      "       [0.00000000e+00, 2.59107761e-02, 1.24192078e+02, 1.34498837e+03,\n",
      "        3.84709696e+03, 1.13624145e+04]]), array([[0.00000000e+00, 1.46380259e+00, 1.26010343e+02, 4.14812881e+02,\n",
      "        7.01592566e+02, 1.20579868e+03],\n",
      "       [0.00000000e+00, 2.72093347e-05, 1.21284113e+02, 1.41387364e+04,\n",
      "        1.15612464e+05, 1.00834234e+06],\n",
      "       [0.00000000e+00, 3.04175560e-02, 1.24233303e+02, 1.34461986e+03,\n",
      "        3.84599752e+03, 1.13595917e+04]]), array([[0.00000000e+00, 1.54347523e+00, 1.25976255e+02, 4.14656654e+02,\n",
      "        7.01371687e+02, 1.20549660e+03],\n",
      "       [0.00000000e+00, 2.46925088e-05, 1.21106334e+02, 1.41171948e+04,\n",
      "        1.15466725e+05, 1.00733208e+06],\n",
      "       [0.00000000e+00, 3.16338145e-02, 1.24158637e+02, 1.34360359e+03,\n",
      "        3.84357544e+03, 1.13539008e+04]]), array([[0.00000000e+00, 1.53779796e+00, 1.25881811e+02, 4.14436267e+02,\n",
      "        7.01091115e+02, 1.20513533e+03],\n",
      "       [0.00000000e+00, 1.92102747e-05, 1.20669624e+02, 1.40865731e+04,\n",
      "        1.15280898e+05, 1.00612278e+06],\n",
      "       [0.00000000e+00, 2.99382088e-02, 1.23960187e+02, 1.34216621e+03,\n",
      "        3.84049498e+03, 1.13470928e+04]]), array([[0.00000000e+00, 1.47643656e+00, 1.25743845e+02, 4.14218905e+02,\n",
      "        7.00845811e+02, 1.20484182e+03],\n",
      "       [0.00000000e+00, 1.47887435e-05, 1.20031192e+02, 1.40548529e+04,\n",
      "        1.15111443e+05, 1.00510923e+06],\n",
      "       [0.00000000e+00, 2.72383204e-02, 1.23669555e+02, 1.34072411e+03,\n",
      "        3.83776272e+03, 1.13415032e+04]]), array([[0.00000000e+00, 1.47117354e+00, 1.25603976e+02, 4.13984796e+02,\n",
      "        7.00575966e+02, 1.20451659e+03],\n",
      "       [0.00000000e+00, 1.60886075e-05, 1.19454848e+02, 1.40216505e+04,\n",
      "        1.14927857e+05, 1.00399563e+06],\n",
      "       [0.00000000e+00, 2.72750270e-02, 1.23386652e+02, 1.33918568e+03,\n",
      "        3.83477228e+03, 1.13353269e+04]]), array([[0.00000000e+00, 1.48344231e+00, 1.25511126e+02, 4.13817023e+02,\n",
      "        7.00380050e+02, 1.20428166e+03],\n",
      "       [0.00000000e+00, 1.80202163e-05, 1.19111748e+02, 1.39984186e+04,\n",
      "        1.14796200e+05, 1.00319670e+06],\n",
      "       [0.00000000e+00, 2.85650768e-02, 1.23205421e+02, 1.33809165e+03,\n",
      "        3.83260968e+03, 1.13308751e+04]]), array([[0.00000000e+00, 1.49080457e+00, 1.25421628e+02, 4.13665273e+02,\n",
      "        7.00200682e+02, 1.20406752e+03],\n",
      "       [0.00000000e+00, 2.00549187e-05, 1.18795454e+02, 1.39779570e+04,\n",
      "        1.14678187e+05, 1.00247991e+06],\n",
      "       [0.00000000e+00, 2.96647107e-02, 1.23033737e+02, 1.33711128e+03,\n",
      "        3.83064406e+03, 1.13268391e+04]]), array([[0.00000000e+00, 1.57770479e+00, 1.25412234e+02, 4.13574039e+02,\n",
      "        7.00066567e+02, 1.20389196e+03],\n",
      "       [0.00000000e+00, 2.61384620e-05, 1.18836317e+02, 1.39670600e+04,\n",
      "        1.14595788e+05, 1.00191800e+06],\n",
      "       [0.00000000e+00, 3.43908726e-02, 1.23029004e+02, 1.33654476e+03,\n",
      "        3.82920736e+03, 1.13235792e+04]]), array([[0.00000000e+00, 1.73169671e+00, 1.25475260e+02, 4.13590977e+02,\n",
      "        7.00052328e+02, 1.20385856e+03],\n",
      "       [0.00000000e+00, 3.72020865e-05, 1.19229719e+02, 1.39725974e+04,\n",
      "        1.14599210e+05, 1.00186040e+06],\n",
      "       [0.00000000e+00, 4.14641985e-02, 1.23179859e+02, 1.33670660e+03,\n",
      "        3.82912314e+03, 1.13230524e+04]]), array([[0.00000000e+00, 1.86405576e+00, 1.25574116e+02, 4.13680419e+02,\n",
      "        7.00121838e+02, 1.20392522e+03],\n",
      "       [0.00000000e+00, 5.04281947e-05, 1.19796860e+02, 1.39889462e+04,\n",
      "        1.14661425e+05, 1.00215222e+06],\n",
      "       [0.00000000e+00, 4.73631241e-02, 1.23406854e+02, 1.33735253e+03,\n",
      "        3.82997642e+03, 1.13244380e+04]]), array([[0.00000000e+00, 1.94187491e+00, 1.25689343e+02, 4.13787728e+02,\n",
      "        7.00207984e+02, 1.20400872e+03],\n",
      "       [0.00000000e+00, 6.96830583e-05, 1.20395898e+02, 1.40069407e+04,\n",
      "        1.14731306e+05, 1.00248597e+06],\n",
      "       [0.00000000e+00, 5.18635476e-02, 1.23660319e+02, 1.33810123e+03,\n",
      "        3.83099328e+03, 1.13261134e+04]]), array([[0.00000000e+00, 1.90731276e+00, 1.25722173e+02, 4.13797005e+02,\n",
      "        7.00191309e+02, 1.20397456e+03],\n",
      "       [0.00000000e+00, 7.62531261e-05, 1.20556389e+02, 1.40092980e+04,\n",
      "        1.14725048e+05, 1.00239293e+06],\n",
      "       [0.00000000e+00, 5.07981371e-02, 1.23730506e+02, 1.33817827e+03,\n",
      "        3.83083632e+03, 1.13255093e+04]]), array([[0.00000000e+00, 1.81757361e+00, 1.25692524e+02, 4.13777926e+02,\n",
      "        7.00173696e+02, 1.20396047e+03],\n",
      "       [0.00000000e+00, 5.56259706e-05, 1.20387514e+02, 1.40064008e+04,\n",
      "        1.14713613e+05, 1.00235135e+06],\n",
      "       [0.00000000e+00, 4.41919901e-02, 1.23662734e+02, 1.33804982e+03,\n",
      "        3.83064406e+03, 1.13252540e+04]]), array([[0.00000000e+00, 1.74990635e+00, 1.25633254e+02, 4.13696226e+02,\n",
      "        7.00081714e+02, 1.20385069e+03],\n",
      "       [0.00000000e+00, 5.26716823e-05, 1.20081173e+02, 1.39941821e+04,\n",
      "        1.14649909e+05, 1.00197497e+06],\n",
      "       [0.00000000e+00, 3.99597490e-02, 1.23532748e+02, 1.33750314e+03,\n",
      "        3.82961855e+03, 1.13231683e+04]]), array([[2.77446148e-04, 1.63691147e+00, 1.25570529e+02, 4.13624637e+02,\n",
      "        7.00009811e+02, 1.20376737e+03],\n",
      "       [7.40670101e-16, 7.36933811e-05, 1.19783884e+02, 1.39829940e+04,\n",
      "        1.14596965e+05, 1.00167326e+06],\n",
      "       [3.84881826e-08, 3.81738185e-02, 1.23399842e+02, 1.33701683e+03,\n",
      "        3.82879983e+03, 1.13215555e+04]]), array([[6.68681580e-04, 1.59077652e+00, 1.25536655e+02, 4.13601039e+02,\n",
      "        6.99996014e+02, 1.20375471e+03],\n",
      "       [2.49912197e-14, 7.77092227e-05, 1.19609945e+02, 1.39780723e+04,\n",
      "        1.14580220e+05, 1.00159564e+06],\n",
      "       [2.23567528e-07, 3.79065561e-02, 1.23325917e+02, 1.33683730e+03,\n",
      "        3.82860659e+03, 1.13212511e+04]]), array([[0.00000000e+00, 1.58921548e+00, 1.25554487e+02, 4.13670246e+02,\n",
      "        7.00096081e+02, 1.20388237e+03],\n",
      "       [0.00000000e+00, 5.29220121e-05, 1.19632409e+02, 1.39859128e+04,\n",
      "        1.14638992e+05, 1.00198894e+06],\n",
      "       [0.00000000e+00, 3.75700579e-02, 1.23353161e+02, 1.33726074e+03,\n",
      "        3.82966395e+03, 1.13235933e+04]]), array([[0.00000000e+00, 1.61809406e+00, 1.25590370e+02, 4.13761395e+02,\n",
      "        7.00216094e+02, 1.20402960e+03],\n",
      "       [0.00000000e+00, 3.51048736e-05, 1.19747238e+02, 1.39973071e+04,\n",
      "        1.14712947e+05, 1.00245527e+06],\n",
      "       [0.00000000e+00, 3.62138383e-02, 1.23419868e+02, 1.33783527e+03,\n",
      "        3.83095125e+03, 1.13263183e+04]]), array([[0.00000000e+00, 1.67015283e+00, 1.25634666e+02, 4.13832406e+02,\n",
      "        7.00300719e+02, 1.20412854e+03],\n",
      "       [0.00000000e+00, 2.94238221e-05, 1.19892111e+02, 1.40062301e+04,\n",
      "        1.14765023e+05, 1.00276760e+06],\n",
      "       [0.00000000e+00, 3.61917282e-02, 1.23502296e+02, 1.33828306e+03,\n",
      "        3.83185797e+03, 1.13281470e+04]]), array([[0.00000000e+00, 1.68241481e+00, 1.25657614e+02, 4.13864827e+02,\n",
      "        7.00340037e+02, 1.20417789e+03],\n",
      "       [0.00000000e+00, 2.64390834e-05, 1.19952640e+02, 1.40101827e+04,\n",
      "        1.14788990e+05, 1.00292428e+06],\n",
      "       [0.00000000e+00, 3.53031359e-02, 1.23541871e+02, 1.33848517e+03,\n",
      "        3.83227760e+03, 1.13290604e+04]]), array([[0.00000000e+00, 1.62900378e+00, 1.25655105e+02, 4.13876190e+02,\n",
      "        7.00366455e+02, 1.20422041e+03],\n",
      "       [0.00000000e+00, 2.47897799e-05, 1.19931223e+02, 1.40119711e+04,\n",
      "        1.14808001e+05, 1.00307606e+06],\n",
      "       [0.00000000e+00, 3.31099838e-02, 1.23534298e+02, 1.33856227e+03,\n",
      "        3.83257574e+03, 1.13298792e+04]]), array([[0.00000000e+00, 1.50974040e+00, 1.25601296e+02, 4.13811630e+02,\n",
      "        7.00305650e+02, 1.20415942e+03],\n",
      "       [0.00000000e+00, 2.56788695e-05, 1.19745711e+02, 1.40044527e+04,\n",
      "        1.14774232e+05, 1.00290305e+06],\n",
      "       [0.00000000e+00, 3.08104968e-02, 1.23432121e+02, 1.33816441e+03,\n",
      "        3.83194447e+03, 1.13287886e+04]]), array([[0.00000000e+00, 1.51357815e+00, 1.25540602e+02, 4.13728633e+02,\n",
      "        7.00215302e+02, 1.20405895e+03],\n",
      "       [0.00000000e+00, 3.42918645e-05, 1.19575944e+02, 1.39946484e+04,\n",
      "        1.14721147e+05, 1.00259681e+06],\n",
      "       [0.00000000e+00, 3.22923941e-02, 1.23323800e+02, 1.33765097e+03,\n",
      "        3.83099057e+03, 1.13269525e+04]]), array([[0.00000000e+00, 1.64184998e+00, 1.25527668e+02, 4.13700463e+02,\n",
      "        7.00185874e+02, 1.20403009e+03],\n",
      "       [0.00000000e+00, 5.62525080e-05, 1.19592593e+02, 1.39923490e+04,\n",
      "        1.14708429e+05, 1.00253100e+06],\n",
      "       [0.00000000e+00, 4.00290434e-02, 1.23310084e+02, 1.33749356e+03,\n",
      "        3.83070583e+03, 1.13264673e+04]]), array([[0.00000000e+00, 1.72014498e+00, 1.25466460e+02, 4.13616041e+02,\n",
      "        7.00092281e+02, 1.20392265e+03],\n",
      "       [0.00000000e+00, 7.75532511e-05, 1.19423290e+02, 1.39823654e+04,\n",
      "        1.14653047e+05, 1.00219962e+06],\n",
      "       [0.00000000e+00, 4.64480515e-02, 1.23200763e+02, 1.33697075e+03,\n",
      "        3.82971504e+03, 1.13244959e+04]]), array([[0.00000000e+00, 1.70607495e+00, 1.25394780e+02, 4.13526646e+02,\n",
      "        6.99995539e+02, 1.20381167e+03],\n",
      "       [0.00000000e+00, 7.04579983e-05, 1.19109601e+02, 1.39699387e+04,\n",
      "        1.14588953e+05, 1.00182911e+06],\n",
      "       [0.00000000e+00, 4.58516435e-02, 1.23053316e+02, 1.33638748e+03,\n",
      "        3.82865254e+03, 1.13224062e+04]]), array([[0.00000000e+00, 1.60214896e+00, 1.25338145e+02, 4.13480474e+02,\n",
      "        6.99951174e+02, 1.20376414e+03],\n",
      "       [0.00000000e+00, 3.78898756e-05, 1.18807454e+02, 1.39622924e+04,\n",
      "        1.14554633e+05, 1.00164886e+06],\n",
      "       [0.00000000e+00, 3.70157279e-02, 1.22927660e+02, 1.33606650e+03,\n",
      "        3.82813760e+03, 1.13214702e+04]]), array([[0.00000000e+00, 1.50080308e+00, 1.25290127e+02, 4.13414978e+02,\n",
      "        6.99869742e+02, 1.20365994e+03],\n",
      "       [0.00000000e+00, 1.72000287e-05, 1.18555468e+02, 1.39523625e+04,\n",
      "        1.14497157e+05, 1.00128361e+06],\n",
      "       [0.00000000e+00, 2.87665158e-02, 1.22821523e+02, 1.33562556e+03,\n",
      "        3.82722318e+03, 1.13194749e+04]]), array([[0.00000000e+00, 1.36904596e+00, 1.25250565e+02, 4.13382420e+02,\n",
      "        6.99834389e+02, 1.20361693e+03],\n",
      "       [0.00000000e+00, 2.14386574e-05, 1.18377329e+02, 1.39469773e+04,\n",
      "        1.14469439e+05, 1.00111829e+06],\n",
      "       [0.00000000e+00, 2.51888292e-02, 1.22738673e+02, 1.33539887e+03,\n",
      "        3.82681045e+03, 1.13186236e+04]]), array([[0.00000000e+00, 1.34326212e+00, 1.25250442e+02, 4.13425478e+02,\n",
      "        6.99903445e+02, 1.20371426e+03],\n",
      "       [0.00000000e+00, 2.90559840e-05, 1.18344658e+02, 1.39513265e+04,\n",
      "        1.14507955e+05, 1.00141080e+06],\n",
      "       [0.00000000e+00, 2.59968992e-02, 1.22732134e+02, 1.33565312e+03,\n",
      "        3.82752799e+03, 1.13203946e+04]]), array([[0.00000000e+00, 1.40892195e+00, 1.25289224e+02, 4.13523031e+02,\n",
      "        7.00041756e+02, 1.20389989e+03],\n",
      "       [0.00000000e+00, 2.66296377e-05, 1.18464040e+02, 1.39629294e+04,\n",
      "        1.14591009e+05, 1.00199295e+06],\n",
      "       [0.00000000e+00, 2.78959531e-02, 1.22803184e+02, 1.33625846e+03,\n",
      "        3.82899923e+03, 1.13238192e+04]]), array([[0.00000000e+00, 1.48526459e+00, 1.25339458e+02, 4.13628333e+02,\n",
      "        7.00184120e+02, 1.20408296e+03],\n",
      "       [0.00000000e+00, 2.26577282e-05, 1.18651701e+02, 1.39763596e+04,\n",
      "        1.14679929e+05, 1.00258055e+06],\n",
      "       [0.00000000e+00, 3.02556242e-02, 1.22901328e+02, 1.33692673e+03,\n",
      "        3.83053310e+03, 1.13272224e+04]]), array([[0.00000000e+00, 1.47981005e+00, 1.25440996e+02, 4.13794715e+02,\n",
      "        7.00387580e+02, 1.20433065e+03],\n",
      "       [0.00000000e+00, 3.49546646e-05, 1.19060465e+02, 1.39993286e+04,\n",
      "        1.14815062e+05, 1.00341383e+06],\n",
      "       [0.00000000e+00, 3.27545645e-02, 1.23104610e+02, 1.33801032e+03,\n",
      "        3.83276994e+03, 1.13318988e+04]]), array([[0.00000000e+00, 1.43371572e+00, 1.25545409e+02, 4.13965002e+02,\n",
      "        7.00591497e+02, 1.20457925e+03],\n",
      "       [0.00000000e+00, 4.49858192e-05, 1.19479542e+02, 1.40238727e+04,\n",
      "        1.14956196e+05, 1.00427933e+06],\n",
      "       [0.00000000e+00, 3.27432975e-02, 1.23313611e+02, 1.33913570e+03,\n",
      "        3.83504331e+03, 1.13366471e+04]]), array([[0.00000000e+00, 1.42210348e+00, 1.25716520e+02, 4.14227824e+02,\n",
      "        7.00898570e+02, 1.20495207e+03],\n",
      "       [0.00000000e+00, 3.68318467e-05, 1.20168936e+02, 1.40617353e+04,\n",
      "        1.15168331e+05, 1.00557283e+06],\n",
      "       [0.00000000e+00, 3.09333491e-02, 1.23656289e+02, 1.34087170e+03,\n",
      "        3.83846386e+03, 1.13437588e+04]]), array([[0.00000000e+00, 1.40616680e+00, 1.25905488e+02, 4.14510085e+02,\n",
      "        7.01225476e+02, 1.20534877e+03],\n",
      "       [0.00000000e+00, 2.46768156e-05, 1.20941665e+02, 1.41026529e+04,\n",
      "        1.15394880e+05, 1.00695062e+06],\n",
      "       [0.00000000e+00, 2.86468326e-02, 1.24036494e+02, 1.34273977e+03,\n",
      "        3.84210881e+03, 1.13513281e+04]]), array([[0.00000000e+00, 1.44364344e+00, 1.26093171e+02, 4.14779855e+02,\n",
      "        7.01533742e+02, 1.20572262e+03],\n",
      "       [0.00000000e+00, 2.20647567e-05, 1.21766480e+02, 1.41428090e+04,\n",
      "        1.15612281e+05, 1.00826241e+06],\n",
      "       [0.00000000e+00, 2.79597230e-02, 1.24424048e+02, 1.34454171e+03,\n",
      "        3.84556662e+03, 1.13584862e+04]]), array([[0.00000000e+00, 1.55218380e+00, 1.26338176e+02, 4.15105200e+02,\n",
      "        7.01896901e+02, 1.20615901e+03],\n",
      "       [0.00000000e+00, 2.60985806e-05, 1.22861015e+02, 1.41908316e+04,\n",
      "        1.15866247e+05, 1.00978261e+06],\n",
      "       [0.00000000e+00, 3.09401139e-02, 1.24932846e+02, 1.34670825e+03,\n",
      "        3.84962809e+03, 1.13668208e+04]]), array([[0.00000000e+00, 1.67292736e+00, 1.26515019e+02, 4.15339687e+02,\n",
      "        7.02160237e+02, 1.20647963e+03],\n",
      "       [0.00000000e+00, 2.78018857e-05, 1.23662183e+02, 1.42247106e+04,\n",
      "        1.16046633e+05, 1.01088129e+06],\n",
      "       [0.00000000e+00, 3.48316775e-02, 1.25301737e+02, 1.34825792e+03,\n",
      "        3.85255211e+03, 1.13729101e+04]]), array([[0.00000000e+00, 1.64014392e+00, 1.26556787e+02, 4.15427485e+02,\n",
      "        7.02272306e+02, 1.20662912e+03],\n",
      "       [0.00000000e+00, 2.47119822e-05, 1.23791211e+02, 1.42348076e+04,\n",
      "        1.16112079e+05, 1.01134306e+06],\n",
      "       [0.00000000e+00, 3.29827668e-02, 1.25378308e+02, 1.34879745e+03,\n",
      "        3.85373426e+03, 1.13756552e+04]]), array([[0.00000000e+00, 1.53189634e+00, 1.26538104e+02, 4.15474421e+02,\n",
      "        7.02352281e+02, 1.20674789e+03],\n",
      "       [0.00000000e+00, 1.61682477e-05, 1.23551078e+02, 1.42363202e+04,\n",
      "        1.16144795e+05, 1.01165469e+06],\n",
      "       [0.00000000e+00, 2.79404091e-02, 1.25312306e+02, 1.34902481e+03,\n",
      "        3.85450104e+03, 1.13777334e+04]]), array([[0.00000000e+00, 1.45513809e+00, 1.26529418e+02, 4.15513125e+02,\n",
      "        7.02409842e+02, 1.20682405e+03],\n",
      "       [0.00000000e+00, 1.28631283e-05, 1.23361660e+02, 1.42366592e+04,\n",
      "        1.16162072e+05, 1.01181995e+06],\n",
      "       [0.00000000e+00, 2.56819036e-02, 1.25268722e+02, 1.34919834e+03,\n",
      "        3.85501865e+03, 1.13790016e+04]]), array([[0.00000000e+00, 1.50522508e+00, 1.26579175e+02, 4.15614002e+02,\n",
      "        7.02533413e+02, 1.20697214e+03],\n",
      "       [0.00000000e+00, 1.91894857e-05, 1.23486271e+02, 1.42477266e+04,\n",
      "        1.16231490e+05, 1.01226151e+06],\n",
      "       [0.00000000e+00, 2.87544046e-02, 1.25355867e+02, 1.34981027e+03,\n",
      "        3.85630723e+03, 1.13816914e+04]]), array([[0.00000000e+00, 1.63994902e+00, 1.26606595e+02, 4.15656682e+02,\n",
      "        7.02583170e+02, 1.20702401e+03],\n",
      "       [0.00000000e+00, 4.05296867e-05, 1.23582246e+02, 1.42523007e+04,\n",
      "        1.16258106e+05, 1.01240593e+06],\n",
      "       [0.00000000e+00, 3.63778327e-02, 1.25408921e+02, 1.35006774e+03,\n",
      "        3.85681885e+03, 1.13826144e+04]]), array([[0.00000000e+00, 1.68705706e+00, 1.26569283e+02, 4.15633907e+02,\n",
      "        7.02565977e+02, 1.20700126e+03],\n",
      "       [0.00000000e+00, 5.62426619e-05, 1.23414142e+02, 1.42487048e+04,\n",
      "        1.16244918e+05, 1.01232187e+06],\n",
      "       [0.00000000e+00, 4.01620422e-02, 1.25331663e+02, 1.34991265e+03,\n",
      "        3.85662029e+03, 1.13821709e+04]]), array([[0.00000000e+00, 1.61087589e+00, 1.26486319e+02, 4.15558023e+02,\n",
      "        7.02488898e+02, 1.20690861e+03],\n",
      "       [0.00000000e+00, 4.96434208e-05, 1.23023697e+02, 1.42377673e+04,\n",
      "        1.16192963e+05, 1.01201015e+06],\n",
      "       [0.00000000e+00, 3.74174846e-02, 1.25156218e+02, 1.34941143e+03,\n",
      "        3.85576888e+03, 1.13804218e+04]]), array([[0.00000000e+00, 1.47514747e+00, 1.26387538e+02, 4.15484052e+02,\n",
      "        7.02419422e+02, 1.20683393e+03],\n",
      "       [0.00000000e+00, 2.89749982e-05, 1.22617884e+02, 1.42278610e+04,\n",
      "        1.16148829e+05, 1.01176973e+06],\n",
      "       [0.00000000e+00, 3.03181323e-02, 1.24957524e+02, 1.34893474e+03,\n",
      "        3.85501633e+03, 1.13790322e+04]]), array([[0.00000000e+00, 1.38169615e+00, 1.26292289e+02, 4.15425535e+02,\n",
      "        7.02375763e+02, 1.20680001e+03],\n",
      "       [0.00000000e+00, 1.32632241e-05, 1.22297644e+02, 1.42215537e+04,\n",
      "        1.16127410e+05, 1.01168897e+06],\n",
      "       [0.00000000e+00, 2.38576342e-02, 1.24777715e+02, 1.34858152e+03,\n",
      "        3.85457808e+03, 1.13784541e+04]]), array([[0.00000000e+00, 1.37223455e+00, 1.26203776e+02, 4.15325916e+02,\n",
      "        7.02274004e+02, 1.20669228e+03],\n",
      "       [0.00000000e+00, 1.11112651e-05, 1.22095105e+02, 1.42113680e+04,\n",
      "        1.16073610e+05, 1.01138333e+06],\n",
      "       [0.00000000e+00, 2.34103612e-02, 1.24626562e+02, 1.34798886e+03,\n",
      "        3.85353533e+03, 1.13765263e+04]]), array([[0.00000000e+00, 1.42049240e+00, 1.26168285e+02, 4.15228707e+02,\n",
      "        7.02148699e+02, 1.20653646e+03],\n",
      "       [0.00000000e+00, 1.68546493e-05, 1.22141472e+02, 1.42023792e+04,\n",
      "        1.16007368e+05, 1.01092829e+06],\n",
      "       [0.00000000e+00, 2.76737555e-02, 1.24587505e+02, 1.34742590e+03,\n",
      "        3.85225187e+03, 1.13737144e+04]]), array([[0.00000000e+00, 1.53098128e+00, 1.26184015e+02, 4.15163027e+02,\n",
      "        7.02045549e+02, 1.20639780e+03],\n",
      "       [0.00000000e+00, 2.62281534e-05, 1.22373612e+02, 1.41974015e+04,\n",
      "        1.15954592e+05, 1.01052560e+06],\n",
      "       [0.00000000e+00, 3.25776605e-02, 1.24647267e+02, 1.34706293e+03,\n",
      "        3.85120519e+03, 1.13712165e+04]]), array([[0.00000000e+00, 1.62252883e+00, 1.26299838e+02, 4.15219179e+02,\n",
      "        7.02073296e+02, 1.20641079e+03],\n",
      "       [0.00000000e+00, 3.20842463e-05, 1.22900287e+02, 1.42069243e+04,\n",
      "        1.15980140e+05, 1.01059851e+06],\n",
      "       [0.00000000e+00, 3.58004005e-02, 1.24889106e+02, 1.34745684e+03,\n",
      "        3.85155004e+03, 1.13715169e+04]]), array([[0.00000000e+00, 1.63869233e+00, 1.26399847e+02, 4.15273468e+02,\n",
      "        7.02100215e+02, 1.20642121e+03],\n",
      "       [0.00000000e+00, 2.57088757e-05, 1.23240951e+02, 1.42133086e+04,\n",
      "        1.15994112e+05, 1.01061901e+06],\n",
      "       [0.00000000e+00, 3.42133495e-02, 1.25079019e+02, 1.34779330e+03,\n",
      "        3.85182497e+03, 1.13716870e+04]]), array([[0.00000000e+00, 1.56611273e+00, 1.26405354e+02, 4.15275472e+02,\n",
      "        7.02094102e+02, 1.20640813e+03],\n",
      "       [0.00000000e+00, 1.94650917e-05, 1.23126246e+02, 1.42099522e+04,\n",
      "        1.15975545e+05, 1.01051522e+06],\n",
      "       [0.00000000e+00, 3.04542462e-02, 1.25067476e+02, 1.34774949e+03,\n",
      "        3.85167804e+03, 1.13713285e+04]]), array([[0.00000000e+00, 1.53486401e+00, 1.26339394e+02, 4.15200589e+02,\n",
      "        7.02007783e+02, 1.20630588e+03],\n",
      "       [0.00000000e+00, 2.63151945e-05, 1.22770411e+02, 1.41968336e+04,\n",
      "        1.15907151e+05, 1.01012703e+06],\n",
      "       [0.00000000e+00, 3.06246303e-02, 1.24920187e+02, 1.34721815e+03,\n",
      "        3.85066815e+03, 1.13693155e+04]]), array([[0.00000000e+00, 1.52037387e+00, 1.26235909e+02, 4.15110227e+02,\n",
      "        7.01917823e+02, 1.20620965e+03],\n",
      "       [0.00000000e+00, 2.72244358e-05, 1.22305081e+02, 1.41828072e+04,\n",
      "        1.15841299e+05, 1.00977998e+06],\n",
      "       [0.00000000e+00, 3.08851835e-02, 1.24704614e+02, 1.34660517e+03,\n",
      "        3.84964541e+03, 1.13674551e+04]]), array([[0.00000000e+00, 1.49231759e+00, 1.26178306e+02, 4.15072693e+02,\n",
      "        7.01888335e+02, 1.20618588e+03],\n",
      "       [0.00000000e+00, 1.81483017e-05, 1.22054812e+02, 1.41774306e+04,\n",
      "        1.15821349e+05, 1.00970079e+06],\n",
      "       [0.00000000e+00, 2.86300464e-02, 1.24586084e+02, 1.34635757e+03,\n",
      "        3.84931911e+03, 1.13670077e+04]]), array([[0.00000000e+00, 1.36918129e+00, 1.26145274e+02, 4.15055167e+02,\n",
      "        7.01881576e+02, 1.20618432e+03],\n",
      "       [0.00000000e+00, 1.53526528e-05, 1.21904914e+02, 1.41753839e+04,\n",
      "        1.15818973e+05, 1.00970633e+06],\n",
      "       [0.00000000e+00, 2.48562754e-02, 1.24516658e+02, 1.34624915e+03,\n",
      "        3.84925638e+03, 1.13669983e+04]]), array([[0.00000000e+00, 1.38032570e+00, 1.26190520e+02, 4.15084174e+02,\n",
      "        7.01910303e+02, 1.20620875e+03],\n",
      "       [0.00000000e+00, 1.45861149e-05, 1.22094094e+02, 1.41807020e+04,\n",
      "        1.15844163e+05, 1.00981558e+06],\n",
      "       [0.00000000e+00, 2.46303324e-02, 1.24608902e+02, 1.34645897e+03,\n",
      "        3.84960609e+03, 1.13675104e+04]]), array([[0.00000000e+00, 1.55275063e+00, 1.26267007e+02, 4.15118301e+02,\n",
      "        7.01932833e+02, 1.20621586e+03],\n",
      "       [0.00000000e+00, 2.41879710e-05, 1.22489280e+02, 1.41879770e+04,\n",
      "        1.15869393e+05, 1.00988157e+06],\n",
      "       [0.00000000e+00, 3.20300571e-02, 1.24777324e+02, 1.34672167e+03,\n",
      "        3.84991046e+03, 1.13677233e+04]]), array([[0.00000000e+00, 1.69252507e+00, 1.26356111e+02, 4.15170082e+02,\n",
      "        7.01978686e+02, 1.20625520e+03],\n",
      "       [0.00000000e+00, 3.96610203e-05, 1.22886043e+02, 1.41961525e+04,\n",
      "        1.15903647e+05, 1.01002842e+06],\n",
      "       [0.00000000e+00, 3.90416171e-02, 1.24962318e+02, 1.34707489e+03,\n",
      "        3.85043534e+03, 1.13684931e+04]]), array([[0.00000000e+00, 1.71111015e+00, 1.26387310e+02, 4.15177626e+02,\n",
      "        7.01986355e+02, 1.20626274e+03],\n",
      "       [0.00000000e+00, 4.04100116e-05, 1.22962867e+02, 1.41959109e+04,\n",
      "        1.15903331e+05, 1.01003066e+06],\n",
      "       [0.00000000e+00, 3.99052336e-02, 1.25016704e+02, 1.34710376e+03,\n",
      "        3.85048971e+03, 1.13685922e+04]]), array([[0.00000000e+00, 1.68084391e+00, 1.26436688e+02, 4.15231781e+02,\n",
      "        7.02051031e+02, 1.20634318e+03],\n",
      "       [0.00000000e+00, 3.25308414e-05, 1.23059180e+02, 1.42014225e+04,\n",
      "        1.15939234e+05, 1.01027427e+06],\n",
      "       [0.00000000e+00, 3.74528363e-02, 1.25098428e+02, 1.34742565e+03,\n",
      "        3.85116195e+03, 1.13700603e+04]]), array([[0.00000000e+00, 1.67577279e+00, 1.26472475e+02, 4.15298623e+02,\n",
      "        7.02135296e+02, 1.20645209e+03],\n",
      "       [0.00000000e+00, 2.70252231e-05, 1.23103991e+02, 1.42096359e+04,\n",
      "        1.15993267e+05, 1.01063852e+06],\n",
      "       [0.00000000e+00, 3.44945746e-02, 1.25153160e+02, 1.34784508e+03,\n",
      "        3.85207786e+03, 1.13721128e+04]]), array([[0.00000000e+00, 1.73396494e+00, 1.26561546e+02, 4.15403302e+02,\n",
      "        7.02248146e+02, 1.20658421e+03],\n",
      "       [0.00000000e+00, 2.93615954e-05, 1.23427628e+02, 1.42247858e+04,\n",
      "        1.16073197e+05, 1.01110981e+06],\n",
      "       [0.00000000e+00, 3.56521898e-02, 1.25325280e+02, 1.34853772e+03,\n",
      "        3.85334601e+03, 1.13746574e+04]]), array([[0.00000000e+00, 1.82467615e+00, 1.26663359e+02, 4.15508116e+02,\n",
      "        7.02355820e+02, 1.20670474e+03],\n",
      "       [0.00000000e+00, 4.71995622e-05, 1.23819440e+02, 1.42394708e+04,\n",
      "        1.16146657e+05, 1.01152579e+06],\n",
      "       [0.00000000e+00, 4.21183762e-02, 1.25525678e+02, 1.34922339e+03,\n",
      "        3.85454027e+03, 1.13769524e+04]]), array([[0.00000000e+00, 1.93308974e+00, 1.26711187e+02, 4.15570977e+02,\n",
      "        7.02425792e+02, 1.20678745e+03],\n",
      "       [0.00000000e+00, 5.67300578e-05, 1.23990517e+02, 1.42470932e+04,\n",
      "        1.16188394e+05, 1.01178163e+06],\n",
      "       [0.00000000e+00, 4.60498891e-02, 1.25617639e+02, 1.34961596e+03,\n",
      "        3.85528320e+03, 1.13784718e+04]]), array([[0.00000000e+00, 1.90593536e+00, 1.26691717e+02, 4.15608401e+02,\n",
      "        7.02493624e+02, 1.20688982e+03],\n",
      "       [0.00000000e+00, 4.99083771e-05, 1.23911683e+02, 1.42509961e+04,\n",
      "        1.16226764e+05, 1.01209263e+06],\n",
      "       [0.00000000e+00, 4.43270421e-02, 1.25578678e+02, 1.34983967e+03,\n",
      "        3.85599180e+03, 1.13803418e+04]]), array([[0.00000000e+00, 1.81826040e+00, 1.26690110e+02, 4.15664395e+02,\n",
      "        7.02577557e+02, 1.20700709e+03],\n",
      "       [0.00000000e+00, 3.28657136e-05, 1.23876812e+02, 1.42566668e+04,\n",
      "        1.16272444e+05, 1.01243878e+06],\n",
      "       [0.00000000e+00, 3.92395816e-02, 1.25570437e+02, 1.35017115e+03,\n",
      "        3.85685805e+03, 1.13824642e+04]]), array([[0.00000000e+00, 1.71118472e+00, 1.26722922e+02, 4.15771484e+02,\n",
      "        7.02721892e+02, 1.20719642e+03],\n",
      "       [0.00000000e+00, 2.98247638e-05, 1.23964178e+02, 1.42696784e+04,\n",
      "        1.16360171e+05, 1.01303766e+06],\n",
      "       [0.00000000e+00, 3.55062892e-02, 1.25628145e+02, 1.35083967e+03,\n",
      "        3.85839876e+03, 1.13859661e+04]]), array([[0.00000000e+00, 1.68326716e+00, 1.26835807e+02, 4.15956995e+02,\n",
      "        7.02946636e+02, 1.20747555e+03],\n",
      "       [0.00000000e+00, 3.19048851e-05, 1.24409289e+02, 1.42952161e+04,\n",
      "        1.16508983e+05, 1.01397364e+06],\n",
      "       [0.00000000e+00, 3.57104573e-02, 1.25852371e+02, 1.35204588e+03,\n",
      "        3.86086606e+03, 1.13912292e+04]]), array([[0.00000000e+00, 1.74917316e+00, 1.26973767e+02, 4.16168904e+02,\n",
      "        7.03193301e+02, 1.20777321e+03],\n",
      "       [0.00000000e+00, 3.91081480e-05, 1.25019655e+02, 1.43259789e+04,\n",
      "        1.16678789e+05, 1.01499940e+06],\n",
      "       [0.00000000e+00, 4.00638546e-02, 1.26137906e+02, 1.35344938e+03,\n",
      "        3.86361043e+03, 1.13968941e+04]]), array([[0.00000000e+00, 1.83288345e+00, 1.27055966e+02, 4.16320265e+02,\n",
      "        7.03372080e+02, 1.20798955e+03],\n",
      "       [0.00000000e+00, 4.12330748e-05, 1.25388649e+02, 1.43481464e+04,\n",
      "        1.16802880e+05, 1.01575047e+06],\n",
      "       [0.00000000e+00, 4.22991313e-02, 1.26308766e+02, 1.35445494e+03,\n",
      "        3.86560519e+03, 1.14010217e+04]]), array([[0.00000000e+00, 1.86878167e+00, 1.27109171e+02, 4.16431428e+02,\n",
      "        7.03506355e+02, 1.20814997e+03],\n",
      "       [0.00000000e+00, 4.08420437e-05, 1.25594741e+02, 1.43638305e+04,\n",
      "        1.16894041e+05, 1.01630004e+06],\n",
      "       [0.00000000e+00, 4.22216171e-02, 1.26413859e+02, 1.35518405e+03,\n",
      "        3.86709212e+03, 1.14040687e+04]]), array([[0.00000000e+00, 1.83259386e+00, 1.27125592e+02, 4.16475525e+02,\n",
      "        7.03563959e+02, 1.20821669e+03],\n",
      "       [0.00000000e+00, 3.38759549e-05, 1.25609977e+02, 1.43692232e+04,\n",
      "        1.16930181e+05, 1.01651681e+06],\n",
      "       [0.00000000e+00, 3.96956312e-02, 1.26438378e+02, 1.35546027e+03,\n",
      "        3.86771362e+03, 1.14053138e+04]]), array([[0.00000000e+00, 1.70739982e+00, 1.27025989e+02, 4.16409773e+02,\n",
      "        7.03515202e+02, 1.20817277e+03],\n",
      "       [0.00000000e+00, 2.97167764e-05, 1.25182584e+02, 1.43591924e+04,\n",
      "        1.16893885e+05, 1.01635207e+06],\n",
      "       [0.00000000e+00, 3.56572083e-02, 1.26234565e+02, 1.35501698e+03,\n",
      "        3.86715585e+03, 1.14044527e+04]])]}\n"
     ]
    }
   ],
   "source": [
    "print(stats_dict['dset0'])"
   ]
  },
  {
   "cell_type": "code",
   "execution_count": 268,
   "metadata": {},
   "outputs": [
    {
     "data": {
      "text/plain": [
       "[-0.4093427610992626,\n",
       " 0.0,\n",
       " 0.8307314918975489,\n",
       " 6.306463298847209,\n",
       " 2.569446338927059,\n",
       " -0.21327208205268988,\n",
       " -0.22254590199235236,\n",
       " 0.02984117320348275]"
      ]
     },
     "execution_count": 268,
     "metadata": {},
     "output_type": "execute_result"
    }
   ],
   "source": [
    "pars_in = [pars_dict['embed'][0], pars_dict['embed'][2], *pars_dict['pair']]\n",
    "pars_in"
   ]
  },
  {
   "cell_type": "code",
   "execution_count": 269,
   "metadata": {},
   "outputs": [
    {
     "name": "stdout",
     "output_type": "stream",
     "text": [
      "[ 0.23142822  0.57247001  0.9247365   5.92707447  1.7452207  -1.63034386\n",
      " -0.63105446  0.83818248]\n",
      "[-8.37900779e-02  1.98091024e-01 -7.90709556e-01  5.30022902e+00\n",
      "  1.27014955e+00 -1.30292507e+00  3.18250159e-03 -4.53493872e-01]\n",
      "[-0.94619699  0.68825437  2.21345885  7.143577    3.52906429 -0.62687826\n",
      " -1.67355937 -0.13768577]\n",
      "[-2.00752731  1.01939977  0.8097831   7.40805966  2.00659029 -0.2639227\n",
      " -0.16719565  0.14457012]\n",
      "[-1.69524362 -0.46533706 -0.99856738  7.61324799  0.50108481 -0.07834254\n",
      " -1.77253791 -1.91500556]\n",
      "[ 0.2869238  -1.19277731  2.07137914  5.89648816  4.86244512  0.97997761\n",
      "  0.18495724 -0.28548979]\n",
      "[-0.81435     2.02123532  1.49748032  6.38210101  2.93011762 -0.20135641\n",
      "  0.36652122 -0.78373454]\n",
      "[-1.05923514 -1.11705386  0.48274368  5.92733904  1.67723785 -1.0996199\n",
      " -0.29753018 -1.51259493]\n",
      "[-1.86446572 -2.35558271  3.23029002  5.64653163  1.27298809 -0.25748638\n",
      " -0.31541193  0.41160006]\n",
      "[ 0.02791664 -0.76179715 -0.21839563  6.04095422  3.18810598  0.94879934\n",
      "  1.31868744  0.96891826]\n"
     ]
    }
   ],
   "source": [
    "multi_pars = [np.array(pars_in)]\n",
    "for _ in range(10):\n",
    "    pars = np.array(pars_in)\n",
    "    pars += np.random.standard_normal(pars.shape)\n",
    "    print(pars)\n",
    "    multi_pars.append(pars)"
   ]
  },
  {
   "cell_type": "code",
   "execution_count": 270,
   "metadata": {
    "collapsed": true
   },
   "outputs": [],
   "source": [
    "stats = []\n",
    "target = []\n",
    "for dset in list(stats_dict.keys()):#[0:-1]:#[0::2]:\n",
    "    stats.append(stats_dict[dset])\n",
    "    target.append(targ_dict[dset])"
   ]
  },
  {
   "cell_type": "markdown",
   "metadata": {},
   "source": [
    "**Optimization based on energy information**"
   ]
  },
  {
   "cell_type": "code",
   "execution_count": 271,
   "metadata": {},
   "outputs": [
    {
     "name": "stdout",
     "output_type": "stream",
     "text": [
      "-1.7050573475264987 -0.00027452785983948775 1.163910986038036 29.785905788577768 -0.668574479304952 0.20162318032315352 0.46348454587271604 0.03681414351467822\n"
     ]
    }
   ],
   "source": [
    "output = fmin(sd2_loss, pars_in, args=(stats, target, utot_EAM), maxiter=100000, maxfun=100000, disp=0, full_output=1,ftol=1e-6)\n",
    "params_uopt = output[0]\n",
    "print(*params_uopt)"
   ]
  },
  {
   "cell_type": "code",
   "execution_count": 272,
   "metadata": {},
   "outputs": [
    {
     "data": {
      "text/plain": [
       "[array([[0.00000000e+00, 0.00000000e+00, 5.30470267e+01, 1.75593619e+02,\n",
       "         2.97014262e+02, 5.10177394e+02],\n",
       "        [0.00000000e+00, 0.00000000e+00, 5.02878315e+01, 6.03745127e+03,\n",
       "         4.94228670e+04, 4.30232846e+05],\n",
       "        [0.00000000e+00, 0.00000000e+00, 5.21108712e+01, 5.70983685e+02,\n",
       "         1.63365688e+03, 4.82001802e+03]]),\n",
       " array([[0.00000000e+00, 0.00000000e+00, 5.14550258e+01, 1.70464399e+02,\n",
       "         2.88428719e+02, 4.95566130e+02],\n",
       "        [0.00000000e+00, 0.00000000e+00, 4.71552969e+01, 5.67884370e+03,\n",
       "         4.65444808e+04, 4.05625877e+05],\n",
       "        [0.00000000e+00, 0.00000000e+00, 4.99675939e+01, 5.48384801e+02,\n",
       "         1.56997576e+03, 4.63468054e+03]]),\n",
       " array([[8.44107144e-01, 2.85999494e+00, 5.92911700e+01, 1.85073450e+02,\n",
       "         3.09049456e+02, 5.27399971e+02],\n",
       "        [4.53796910e-03, 1.06712274e-01, 8.82656903e+01, 7.15801700e+03,\n",
       "         5.50390964e+04, 4.65405264e+05],\n",
       "        [1.22551319e-01, 7.45935051e-01, 6.54734242e+01, 6.24238885e+02,\n",
       "         1.73764902e+03, 5.05797812e+03]]),\n",
       " array([[9.59311615e-01, 2.59761858e+00, 5.92099268e+01, 1.85051341e+02,\n",
       "         3.08975681e+02, 5.27390766e+02],\n",
       "        [5.23529881e-03, 1.10929666e-01, 8.83970411e+01, 7.15780013e+03,\n",
       "         5.49929959e+04, 4.65423753e+05],\n",
       "        [1.58407449e-01, 7.98339961e-01, 6.53383083e+01, 6.24107950e+02,\n",
       "         1.73683834e+03, 5.05788631e+03]]),\n",
       " array([[0., 0., 0., 0., 0., 0.],\n",
       "        [0., 0., 0., 0., 0., 0.],\n",
       "        [0., 0., 0., 0., 0., 0.]])]"
      ]
     },
     "execution_count": 272,
     "metadata": {},
     "output_type": "execute_result"
    }
   ],
   "source": [
    "stats[-1]['energy']"
   ]
  },
  {
   "cell_type": "code",
   "execution_count": 273,
   "metadata": {},
   "outputs": [
    {
     "name": "stdout",
     "output_type": "stream",
     "text": [
      "Opt # 0 (5.146842174177293e-06, 962, 1478, 0)\n",
      "-1.7050573475264987 -0.00027452785983948775 1.163910986038036 29.785905788577768 -0.668574479304952 0.20162318032315352 0.46348454587271604 0.03681414351467822\n"
     ]
    },
    {
     "name": "stderr",
     "output_type": "stream",
     "text": [
      "//anaconda/envs/py36/lib/python3.6/site-packages/ipykernel_launcher.py:45: RuntimeWarning: overflow encountered in exp\n"
     ]
    },
    {
     "name": "stdout",
     "output_type": "stream",
     "text": [
      "Opt # 1 (5.323523214631226e-05, 710, 1127, 0)\n",
      "-0.4245988982066239 0.000765063500745991 2.5369403006283413 19.685823456991255 2.0682942762996683 -0.8413382932197484 0.21314488716475144 -0.24070829706545757\n",
      "Opt # 2 (1.2974332754827464e-05, 1101, 1733, 0)\n",
      "-0.0996902388584549 0.0007068844212734825 -1.049263884777384 18.454607819494637 0.16573713455275313 0.5897417964501547 0.005506444130563057 -0.3781130056180323\n",
      "Opt # 3 (1.0325323045570119e-05, 1169, 1812, 0)\n",
      "-0.9966441458096613 0.00015725655193593553 -2.170165268594465 38.487835431662724 0.7405015145584144 -2.9698710130979307 2.942379382309224 -0.6699039923289153\n",
      "Opt # 4 (6.0079794689575185e-05, 375, 626, 0)\n",
      "-1.4400418014108758 0.0002959642713654875 1.0665374445747389 7.79054041154442 2.2275194996106613 -0.3351682686671459 -0.2564685555741777 0.15589042128186614\n",
      "Opt # 5 (1.1321434359223211e-05, 607, 984, 0)\n",
      "-0.7689133623701777 0.0002872285588834826 -1.3869674157129368 12.510569087755353 0.3850268058049924 -0.12181458962713743 0.8698590389450731 -0.37241014490676577\n",
      "Opt # 6 (0.0014475580141154562, 177, 321, 0)\n",
      "0.31537523405803325 -0.0012490463394689427 2.3949524800695716 7.5225268191320716 6.300466643911826 0.965724213547878 0.21384718728483382 -0.3005557214183797\n",
      "Opt # 7 (2.6739523939933566e-05, 750, 1204, 0)\n",
      "-1.7911363785039414 -0.000283886719901462 3.210949720938485 3.4236404005384866 1.75150513862302 -0.35311372327118024 0.7135162352620654 0.01167620147950051\n",
      "Opt # 8 (0.0003588145213510295, 305, 523, 0)\n",
      "-0.6811397536939012 0.001648162787403358 0.9049786687054213 7.8803078175944945 1.2140590399239157 -1.2363399523304546 -0.3937718779356423 -0.08011375047034935\n",
      "Opt # 9 (0.0005419469642508193, 177, 322, 0)\n",
      "-1.9675024316931 -0.00031614557363837117 3.5866589855555717 6.621387986664913 1.657963781405789 -0.2928584213918567 -0.3241089151260531 0.40289810029643036\n",
      "Opt # 10 (3.211950181293283e-05, 697, 1109, 0)\n",
      "-0.1512015244031808 0.0005582806194057643 -2.415070075371994 34.068280827425426 0.46657280245385446 -3.9469682748041848 4.393813374315213 -1.293781888248298\n"
     ]
    }
   ],
   "source": [
    "optimal_parameters = []\n",
    "for i, pars in enumerate(multi_pars):\n",
    "    output = fmin(sd2_loss, list(pars), args=(stats, target, utot_EAM), maxiter=100000, maxfun=100000, disp=0, full_output=1,ftol=1e-6)\n",
    "    params_uopt = output[0]\n",
    "    print('Opt #', i, output[1:])\n",
    "    print(*params_uopt)\n",
    "    optimal_parameters.append(params_uopt)"
   ]
  },
  {
   "cell_type": "code",
   "execution_count": 141,
   "metadata": {
    "collapsed": true
   },
   "outputs": [],
   "source": [
    "#for params_uopt in optimal_parameters:\n",
    "#params_uopt = [-1.16494967738, 6.20745548861e-05, -0.290442393674, 3.77245567597, 2.2853453724, 0.362671647375, -0.235319114902, 0.048201030536]\n",
    "#opti_out, targ_out = udif_print(params_uopt, stats, target, utot_EAM)"
   ]
  },
  {
   "cell_type": "code",
   "execution_count": null,
   "metadata": {
    "collapsed": true
   },
   "outputs": [],
   "source": []
  },
  {
   "cell_type": "code",
   "execution_count": 275,
   "metadata": {},
   "outputs": [
    {
     "data": {
      "text/plain": [
       "<matplotlib.legend.Legend at 0x11473d278>"
      ]
     },
     "execution_count": 275,
     "metadata": {},
     "output_type": "execute_result"
    },
    {
     "data": {
      "image/png": "[encoded data removed]",
      "text/plain": [
       "<Figure size 432x288 with 1 Axes>"
      ]
     },
     "metadata": {},
     "output_type": "display_data"
    }
   ],
   "source": [
    "for i, params_uopt in enumerate(optimal_parameters[0:1]):\n",
    "    opti_out, targ_out = udif_print(params_uopt, stats, target, utot_EAM)\n",
    "    plt.title('Selected configurations at 0K')\n",
    "    if i == len(optimal_parameters)-1:\n",
    "        plt.plot([o for o in opti_out[-1][:-1]], 'x--', label='optimized')\n",
    "        plt.plot(targ_out[-1][:-1], 'o', label='target', markersize=10)\n",
    "    else:\n",
    "        plt.plot([o for o in opti_out[-1][:-1]], 'x--')\n",
    "        plt.plot(targ_out[-1][:-1], 'o', label='target', markersize=10)\n",
    "\n",
    "plt.xticks([0, 1, 2, 3], ['BCC','vacancy','110','111'])\n",
    "plt.ylabel('Energy [eV]')\n",
    "plt.legend()"
   ]
  },
  {
   "cell_type": "code",
   "execution_count": 282,
   "metadata": {},
   "outputs": [
    {
     "data": {
      "image/png": "[encoded data removed]",
      "text/plain": [
       "<Figure size 1080x1080 with 9 Axes>"
      ]
     },
     "metadata": {},
     "output_type": "display_data"
    }
   ],
   "source": [
    "names = ['bcc_npt_langevin_300K_filtered',\n",
    " 'fcc_npt_langevin_300K_filtered',\n",
    " 'vac_npt_langevin_2000K_filtered',\n",
    " 'i110_npt_langevin_2000K_filtered',\n",
    " 'i111_npt_langevin_2000K_filtered',\n",
    " 'screw_111_npt_langevin_2000K_filtered',\n",
    " 'bcc_npt_langevin_3700K_filtered',\n",
    " 'liq_3700K_filtered',\n",
    " 'liq_5000K_filtered']\n",
    "\n",
    "fig, axes = plt.subplots(3, 3, sharex='col', figsize=(15,15))\n",
    "\n",
    "for ip, params_uopt in enumerate(optimal_parameters[:]):\n",
    "    opti_out, targ_out = udif_print(params_uopt, stats, target, utot_EAM)\n",
    "\n",
    "    for i, (tar, opt) in enumerate(zip(targ_out[:-1], opti_out[:-1])):\n",
    "        x, y = divmod(i, 3)\n",
    "        tar = np.array(tar)\n",
    "        opt = np.array(opt)\n",
    "        #print(names[i], (tar.mean() - opt.mean())/target[i]['xyz'][0].shape[0])\n",
    "        opt += tar.mean() - opt.mean()\n",
    "        \n",
    "        if ip == 0:\n",
    "            axes[x,y].plot(tar, '-', label='target', linewidth=4)\n",
    "        if ip != 1:\n",
    "            continue\n",
    "        axes[x,y].plot(opt, '-', label='optimized'+str(ip), linewidth=0.5)\n",
    "\n",
    "#        if ip == len(optimal_parameters)-1:\n",
    "        \n",
    "#            if y == 0:\n",
    "#                axes[x,y].set_ylabel('Energy (eV)')\n",
    "#            else:\n",
    "#                axes[x,y].set_ylabel('')\n",
    "\n",
    "#            if x == 2:\n",
    "#                axes[x,y].set_xlabel('configuration #')\n",
    "#            else:\n",
    "#                axes[x,y].set_xlabel('')\n",
    "\n",
    "\n",
    "#        else:\n",
    "#            if ip == 0:\n",
    "#                axes[x,y].plot(opt, '-', linewidth=3)\n",
    "#            else:\n",
    "#                axes[x,y].plot(opt, '-', linewidth=0.5)\n",
    "                \n",
    "        axes[x,y].set_title(names[i])\n",
    "        axes[x,y].legend()\n",
    "        \n",
    "fig.tight_layout()"
   ]
  },
  {
   "cell_type": "code",
   "execution_count": 295,
   "metadata": {
    "collapsed": true
   },
   "outputs": [],
   "source": [
    "# electronic density function (cubic splines)\n",
    "rho = lambda r, a, k: sum([c*(p - r)**3 for c, p in zip(a, k) if r < p])\n",
    "\n",
    "# embedding function\n",
    "F = lambda d, a: a[0]*d**0.5 + a[1]*d + a[2]*d**2\n",
    "\n",
    "V = lambda r, aa, cc: sum([a*(rc - r)**3 for a, rc in zip(aa, cc) if r < rc])\n",
    "\n",
    "# Cohesive potential (cubic splines - same form as V)\n",
    "phi = lambda r, aa, cc: sum([a*(rc - r)**3 for a, rc in zip(aa, cc) if r < rc])"
   ]
  },
  {
   "cell_type": "code",
   "execution_count": 296,
   "metadata": {
    "collapsed": true
   },
   "outputs": [],
   "source": [
    "# electronic density parameters\n",
    "rho_re_a = [3.704045964e-3]\n",
    "rho_re_r = [5.46]\n",
    "\n",
    "# embeding function parameters\n",
    "F_re_a = [-7.046791948, 1.23658472, 1.143405627]\n",
    "#F_re_a = [-7.046791948, 0, 1.143405627]\n",
    "\n",
    "# pair potential\n",
    "V_re_a = [6.726805309, 3.217593889, -6.545857587e-1, 1.453229484e-1, -2.063629464e-1, 6.114909116e-2]\n",
    "V_re_r = [2.7, 3.252, 3.804, 4.356, 4.908, 5.46]"
   ]
  },
  {
   "cell_type": "code",
   "execution_count": 297,
   "metadata": {
    "collapsed": true
   },
   "outputs": [],
   "source": [
    "# electronic density parameters\n",
    "#rho_x_a = [3.704045964e-3]\n",
    "rho_x_a = [1.0]\n",
    "rho_x_r = [4.77]\n",
    "\n",
    "# embeding function parameters\n",
    "F_x_a = [-7.046791948, 1.23658472, 1.143405627]\n",
    "#F_re_a = [-7.046791948, 0, 1.143405627]\n",
    "\n",
    "#3.704045964e-3\n",
    "\n",
    "# pair potential\n",
    "V_x_a = [6.726805309, 3.217593889, -6.545857587e-1, 1.453229484e-1, -2.063629464e-1, 6.114909116e-2]\n",
    "V_x_a = [x*2 for x in V_re_a]\n",
    "#V_re_r = [2.7, 3.252, 3.804, 4.356, 4.908, 5.46]\n",
    "V_x_r = [2.56, 2.73, 3.252, 3.804, 4.20, 4.77]\n",
    "#[2.56, 2.73, 3.252, 3.804, 4.20, 4.77]"
   ]
  },
  {
   "cell_type": "code",
   "execution_count": 298,
   "metadata": {
    "collapsed": true
   },
   "outputs": [],
   "source": [
    "def utot_re(x):\n",
    "    u = 4*V(x, V_re_a, V_re_r)\n",
    "    d = 8*phi(x, rho_re_a, rho_re_r)\n",
    "    u += F(d, F_re_a)\n",
    "    return u/8"
   ]
  },
  {
   "cell_type": "code",
   "execution_count": 316,
   "metadata": {},
   "outputs": [
    {
     "data": {
      "text/plain": [
       "array([-1.70505735e+00, -2.74527860e-04,  1.16391099e+00,  2.97859058e+01,\n",
       "       -6.68574479e-01,  2.01623180e-01,  4.63484546e-01,  3.68141435e-02])"
      ]
     },
     "execution_count": 316,
     "metadata": {},
     "output_type": "execute_result"
    }
   ],
   "source": [
    "params_uopt1 = optimal_parameters[0]\n",
    "params_uopt1"
   ]
  },
  {
   "cell_type": "code",
   "execution_count": 327,
   "metadata": {
    "collapsed": true
   },
   "outputs": [],
   "source": [
    "params_uopt1 = np.array([-1.5423210689784401, -0.00017343233436656878, -90.79414800589194, 32.89403373260747, -3.10540157135613, 4.060736599127576, -2.1465438441937845, 0.4381050467510904])"
   ]
  },
  {
   "cell_type": "code",
   "execution_count": 345,
   "metadata": {
    "collapsed": true
   },
   "outputs": [],
   "source": [
    "#V_x_r = [2.56, 2.73, 3.252, 3.804, 4.20, 4.77]\n",
    "V_x_r = [2.5, 2.75, 3.25, 3.75, 4.5, 5.5]\n",
    "params_uopt1 = np.array([-2.84348049e+00, -2.76675081e-04, -1.04368940e+02,  3.27679045e+01,-3.89903767e+00,  3.10005072e+00, -9.31445199e-01,  5.39337680e-01])"
   ]
  },
  {
   "cell_type": "code",
   "execution_count": 346,
   "metadata": {
    "collapsed": true
   },
   "outputs": [],
   "source": [
    "pair_x = pars_in[2:]\n",
    "many_x = [pars_in[0], 0.0, pars_in[1]]"
   ]
  },
  {
   "cell_type": "code",
   "execution_count": 347,
   "metadata": {},
   "outputs": [
    {
     "data": {
      "text/plain": [
       "[-2.84348049, 0.0, -0.000276675081]"
      ]
     },
     "execution_count": 347,
     "metadata": {},
     "output_type": "execute_result"
    }
   ],
   "source": [
    "pair_y = params_uopt1[2:]\n",
    "many_y = [params_uopt1[0], 0.0, params_uopt1[1]]\n",
    "\n",
    "#pair_z = params_fopt[2:]\n",
    "#many_z = [params_fopt[0], 0.0, params_fopt[1]]\n",
    "many_y"
   ]
  },
  {
   "cell_type": "code",
   "execution_count": 2,
   "metadata": {},
   "outputs": [
    {
     "name": "stdout",
     "output_type": "stream",
     "text": [
      "Appending to ../../src/mkpot/wpot.f\n"
     ]
    }
   ],
   "source": [
    "%%writefile -a ../../src/mkpot/wpot.f\n",
    "\n",
    "# Cohesive potential parameters\n",
    "rho_w_a = [-0.420429e1, 0.518217702, 0.5627208e-1, 0.344164179e-1]\n",
    "rho_w_r = [2.5, 3.1, 3.5, 4.9]\n",
    "\n",
    "# Embedding function parameters\n",
    "F_w_a = [-5.946454, 0.0, -0.049477] # Original Marinica\n",
    "Fc_w_a = [-5.524855802, 2.317313103e-1, -3.665345949e-2, 8.989367404e-3] # Bonny's correction\n",
    "\n",
    "# Pair potential parameters\n",
    "arr = np.array([\n",
    "(1,  0.960851701343041e2, 2.5648975),\n",
    "(2, -0.184410923895214e3, 2.6297950),\n",
    "(3,  0.935784079613550e2, 2.6946925),\n",
    "(4, -0.798358265041677e1, 2.8663175),\n",
    "(5,  0.747034092936229e1, 2.9730450),\n",
    "(6, -0.152756043708453e1, 3.0797725),\n",
    "(7,  0.125205932634393e1, 3.5164725),\n",
    "(8,  0.163082162159425e1, 3.8464450),\n",
    "(9, -0.141854775352260e1, 4.1764175),\n",
    "(10,-0.819936046256149e0, 4.7008450),\n",
    "(11, 0.198013514305908e1, 4.8953000),\n",
    "(12,-0.696430179520267e0, 5.0897550),\n",
    "(13, 0.304546909722160e-1,5.3429525),\n",
    "(14,-0.163131143161660e1, 5.4016950),\n",
    "(15, 0.138409896486177e1, 5.4604375)])\n",
    "\n",
    "V_w_a = arr[:,1]\n",
    "V_w_r = arr[:,2]"
   ]
  },
  {
   "cell_type": "code",
   "execution_count": 349,
   "metadata": {
    "collapsed": true
   },
   "outputs": [],
   "source": [
    "# Gauge conversion perameters\n",
    "C = 1.848055990\n",
    "S = 2.232322602e-1\n",
    "\n",
    "# Rescaled cohesive potential function\n",
    "rho = lambda r: phi(r, rho_w_a, rho_w_r)*S\n",
    "\n",
    "# Rescaled embedding function with Bonny's correction\n",
    "Fe = lambda d, a: F(d/S, a) + C/S*d # rescaled potential\n",
    "Fc = lambda d, a: a[0] + a[1]*d + a[2]*d**2 + a[3]*d**3 # correction\n",
    "Fa = lambda d, a1, a2: Fe(d, a1) if d < 1.359141225 else Fc(d, a2) # rescaled + correction\n",
    "\n",
    "# Rescaled pair potential function\n",
    "V_pair = lambda r: 0.5*(V(r, V_w_a, V_w_r) - 2*C*rho(r)/S)\n",
    "\n",
    "# Manybody potential for 8 NN\n",
    "V_man = lambda x: Fa(rho(x)*8, F_w_a, Fc_w_a)/8\n",
    "V_many = lambda d: Fa(d, F_w_a, Fc_w_a)"
   ]
  },
  {
   "cell_type": "code",
   "execution_count": 350,
   "metadata": {
    "collapsed": true
   },
   "outputs": [],
   "source": [
    "def utot_opt(x, pn, mn):\n",
    "    u = 4*V(x, pn, V_x_r)\n",
    "    d = 8*phi(x, rho_x_a, rho_x_r)\n",
    "    u += F(d, mn)\n",
    "    return u/8"
   ]
  },
  {
   "cell_type": "code",
   "execution_count": 351,
   "metadata": {},
   "outputs": [
    {
     "data": {
      "text/plain": [
       "(array([-104.36894   ,   32.7679045 ,   -3.89903767,    3.10005072,\n",
       "          -0.9314452 ,    0.53933768]), [-2.84348049, 0.0, -0.000276675081])"
      ]
     },
     "execution_count": 351,
     "metadata": {},
     "output_type": "execute_result"
    }
   ],
   "source": [
    "pair_y, many_y"
   ]
  },
  {
   "cell_type": "code",
   "execution_count": 352,
   "metadata": {},
   "outputs": [
    {
     "name": "stderr",
     "output_type": "stream",
     "text": [
      "//anaconda/envs/py36/lib/python3.6/site-packages/ipykernel_launcher.py:5: RuntimeWarning: invalid value encountered in double_scalars\n",
      "  \"\"\"\n"
     ]
    },
    {
     "data": {
      "text/plain": [
       "Text(0,0.5,'U(r)')"
      ]
     },
     "execution_count": 352,
     "metadata": {},
     "output_type": "execute_result"
    },
    {
     "data": {
      "image/png": "[encoded data removed]",
      "text/plain": [
       "<Figure size 432x288 with 1 Axes>"
      ]
     },
     "metadata": {},
     "output_type": "display_data"
    }
   ],
   "source": [
    "rcut = 5.46\n",
    "rcut = 5.5\n",
    "r = np.linspace(0., rcut, 201)\n",
    "\n",
    "pot = [utot_re(x) for x in r]\n",
    "pot_start = [utot_opt(x, pair_x, many_x) for x in r]\n",
    "pot_uopt = [utot_opt(x, pair_y, many_y) for x in r]\n",
    "plt.title('Total potential per atom in BCC')\n",
    "\n",
    "pot_tot = [V_pair(x) + V_man(x) for x in r]\n",
    "\n",
    "plt.plot(r, pot_tot, label='Marinica/Bonny')\n",
    "plt.plot(r, pot_start, label='starting')\n",
    "plt.plot(r, pot_uopt, label='u-optimized')\n",
    "\n",
    "plt.legend()\n",
    "plt.hlines(0.0, 1.5, rcut)\n",
    "#plt.hlines(-0.89, 1.5, rcut)\n",
    "\n",
    "plt.axis([1.5, rcut, -1.1, 1.0])\n",
    "plt.xlabel('r[A]')\n",
    "plt.ylabel(r'U(r)')"
   ]
  },
  {
   "cell_type": "markdown",
   "metadata": {
    "collapsed": true
   },
   "source": [
    "2.56674843448 108.531333 363.656614418\n",
    "1.60689383571 106.678515243 353.069044769\n",
    "0.68181879396 104.846905608 342.690155898\n",
    "-0.209292464317 103.036382016 332.517861368\n",
    "-1.06724173015 101.246822388 322.550074739\n",
    "-1.89281697401 99.4781046454 312.784709572\n",
    "-2.68679250692 97.7301067103 303.219679429\n",
    "-3.44992914055 96.0027065041 293.85289787\n",
    "-4.18297434641 94.2957819481 284.682278458"
   ]
  },
  {
   "cell_type": "code",
   "execution_count": 343,
   "metadata": {},
   "outputs": [
    {
     "data": {
      "text/plain": [
       "[-493.9489032643447,\n",
       " -476.4739182929307,\n",
       " -459.4127377281277,\n",
       " -442.7602366829182,\n",
       " -426.5113004082011,\n",
       " -410.6608241750577,\n",
       " -395.20371315770853,\n",
       " -380.1348823171599,\n",
       " -365.44925628554364,\n",
       " -351.1417692511487,\n",
       " -337.2073648441415,\n",
       " -323.6409960229809,\n",
       " -310.4376249615238,\n",
       " -297.59222293682205,\n",
       " -285.0997702176111,\n",
       " -272.9552559534913,\n",
       " -261.1536780648013,\n",
       " -249.69004313318194,\n",
       " -238.5593662928345,\n",
       " -227.75667112246856,\n",
       " -217.27698953794393,\n",
       " -207.1153616856057,\n",
       " -197.26683583630896,\n",
       " -187.72646828013842,\n",
       " -178.48932322181983,\n",
       " -169.55047267682477,\n",
       " -160.90499636816682,\n",
       " -152.54798162389253,\n",
       " -144.4745232752641,\n",
       " -136.67972355563637,\n",
       " -129.15869200002572,\n",
       " -121.90654534537403,\n",
       " -114.91840743150516,\n",
       " -108.18940910277512,\n",
       " -101.71468811041697,\n",
       " -95.48938901557878,\n",
       " -89.50866309305613,\n",
       " -83.76766823571936,\n",
       " -78.26156885963434,\n",
       " -72.98553580987891,\n",
       " -67.93474626705331,\n",
       " -63.104383654486654,\n",
       " -58.48963754613714,\n",
       " -54.08570357518935,\n",
       " -49.88778334334603,\n",
       " -45.89108433081617,\n",
       " -42.09081980699911,\n",
       " -38.482208741865065,\n",
       " -35.06047571803199,\n",
       " -31.820850843539645,\n",
       " -28.758569665320422,\n",
       " -25.868873083367873,\n",
       " -23.147007265602767,\n",
       " -20.588223563437126,\n",
       " -18.187778428036815,\n",
       " -15.940933327282616,\n",
       " -13.842954663430387,\n",
       " -11.889113691470737,\n",
       " -10.074686438188362,\n",
       " -8.394953621921607,\n",
       " -6.845200573022868,\n",
       " -5.420717155019798,\n",
       " -4.116797686478306,\n",
       " -2.928740863567505,\n",
       " -1.8518496833272442,\n",
       " -0.8814313676388501,\n",
       " -0.012797287899475762,\n",
       " 0.7587371095992426,\n",
       " 1.4378523775874807,\n",
       " 2.029225141028041,\n",
       " 2.5375281696208356,\n",
       " 2.96743044960024,\n",
       " 3.3235972548247315,\n",
       " 3.610690217157794,\n",
       " 3.8333673961393684,\n",
       " 3.996283347946843,\n",
       " 4.104089193644661,\n",
       " 4.161432686721522,\n",
       " 4.172958279914092,\n",
       " 4.143307191316082,\n",
       " 4.0771174697715065,\n",
       " 3.9790240595508317,\n",
       " 3.8536588643086427,\n",
       " 3.705650810321459,\n",
       " 3.539625909004113,\n",
       " 3.360207318703095,\n",
       " 3.1720154057651957,\n",
       " 2.9796678048795746,\n",
       " 2.7877794786913226,\n",
       " 2.6009627766844834,\n",
       " 2.423827493332366,\n",
       " 2.2609801101303555,\n",
       " 2.115618948495283,\n",
       " 1.9866502183529606,\n",
       " 1.8721624174991964,\n",
       " 1.7702417683917462,\n",
       " 1.6789722718491231,\n",
       " 1.5964357599965742,\n",
       " 1.520711948455463,\n",
       " 1.4498784877720805,\n",
       " 1.3820110140815758,\n",
       " 1.3155239340093323,\n",
       " 1.2501926788117825,\n",
       " 1.1861315476957226,\n",
       " 1.1234530203659432,\n",
       " 1.0622678037880244,\n",
       " 1.0026848781526096,\n",
       " 0.9448115420339156,\n",
       " 0.888753456734606,\n",
       " 0.8346146898085132,\n",
       " 0.7824977577519552,\n",
       " 0.7325036678536234,\n",
       " 0.6847319591920957,\n",
       " 0.6392807427690932,\n",
       " 0.5962467407654981,\n",
       " 0.555725324905965,\n",
       " 0.5178105539166125,\n",
       " 0.4825952100588393,\n",
       " 0.4501708347206217,\n",
       " 0.4206055568068501,\n",
       " 0.39381146771767295,\n",
       " 0.36963357031659316,\n",
       " 0.34791551540218446,\n",
       " 0.3284998759245692,\n",
       " 0.31122817641030953,\n",
       " 0.2959409212482076,\n",
       " 0.28247762179442737,\n",
       " 0.2706768222505622,\n",
       " 0.2603761242628204,\n",
       " 0.2514122101842169,\n",
       " 0.24362086493456947,\n",
       " 0.23683699638482336,\n",
       " 0.23089465418280497,\n",
       " 0.22562704692653535,\n",
       " 0.22086655757856088,\n",
       " 0.216444756999973,\n",
       " 0.21219241546554457,\n",
       " 0.20794781916833305,\n",
       " 0.20365648742190634,\n",
       " 0.1993386991912277,\n",
       " 0.19501550519151878,\n",
       " 0.1907071763540943,\n",
       " 0.1864331988861112,\n",
       " 0.1822122655092584,\n",
       " 0.1780622624178705,\n",
       " 0.17400025141174968,\n",
       " 0.17004244655445921,\n",
       " 0.1662041845787411,\n",
       " 0.16249988810014582,\n",
       " 0.1589430204986625,\n",
       " 0.1555460310738095,\n",
       " 0.15232028875435255,\n",
       " 0.14927600222647436,\n",
       " 0.14642212380150088,\n",
       " 0.14376623363067187,\n",
       " 0.1413143999245649,\n",
       " 0.13907100955357643,\n",
       " 0.13703856165223188,\n",
       " 0.1352174144108697,\n",
       " 0.13360547178401655,\n",
       " 0.1321977918544089,\n",
       " 0.13098609121803004,\n",
       " 0.12995810857948972,\n",
       " 0.12909677330731673,\n",
       " 0.12837863083158743,\n",
       " 0.12775009571654425,\n",
       " 0.12711555758592535,\n",
       " 0.12636421741729853,\n",
       " 0.12536779828800687,\n",
       " 0.12397275100594626,\n",
       " 0.12198646086195353,\n",
       " 0.11914972688833284,\n",
       " 0.11507014717605138,\n",
       " 0.10898258137247285,\n",
       " 0.09857093870123494,\n",
       " 0.08762920557617188,\n",
       " 0.07752871282464006,\n",
       " 0.06823581083169822,\n",
       " 0.05971684998240487,\n",
       " 0.051938180661819294,\n",
       " 0.04486615325499996,\n",
       " 0.038467118147005624,\n",
       " 0.03270742572289502,\n",
       " 0.02755342636772692,\n",
       " 0.022971470466560066,\n",
       " 0.018927908404453075,\n",
       " 0.015389090566464975,\n",
       " 0.012321367337654368,\n",
       " 0.009691089103080008,\n",
       " 0.0074646062478006415,\n",
       " 0.005608269156875022,\n",
       " 0.004088428215361856,\n",
       " 0.0028714338083199904,\n",
       " 0.0019236363208081219,\n",
       " 0.001211386137885001,\n",
       " 0.0007010336446093777,\n",
       " 0.0003589292260400032,\n",
       " 0.00015142326723562266,\n",
       " 4.486615325499931e-05,\n",
       " 5.6082691568749135e-06,\n",
       " 0.0]"
      ]
     },
     "execution_count": 343,
     "metadata": {},
     "output_type": "execute_result"
    }
   ],
   "source": [
    "[utot_opt(x, pair_y, many_y) for x in r]"
   ]
  },
  {
   "cell_type": "code",
   "execution_count": 344,
   "metadata": {},
   "outputs": [
    {
     "data": {
      "text/plain": [
       "Text(0,0.5,'U')"
      ]
     },
     "execution_count": 344,
     "metadata": {},
     "output_type": "execute_result"
    },
    {
     "data": {
      "image/png": "[encoded data removed]",
      "text/plain": [
       "<Figure size 432x288 with 1 Axes>"
      ]
     },
     "metadata": {},
     "output_type": "display_data"
    }
   ],
   "source": [
    "# Total pair potential\n",
    "pos = targ_dict['dset9']['xyz'][0]\n",
    "bx = targ_dict['dset9']['box'][0]\n",
    "rr, rx = pair_dist_triclinic(pos, bx)\n",
    "\n",
    "plt.hist(rr[0], 50)\n",
    "#r = np.linspace(0., rcut, 201)\n",
    "ene = []\n",
    "for a in np.linspace(0.5, 2.0, 101):\n",
    "    z = a*rr\n",
    "    u_pair = 0.5*np.sum([V(x, pair_y, V_x_r) for x in z.flatten() if x > 0.1])\n",
    "\n",
    "    u_many = 0.0\n",
    "    for i in range(z.shape[0]):\n",
    "        #print(z[i])\n",
    "        d = np.sum([phi(x, rho_x_a, rho_x_r) for x in z[i] if x > 0.1])\n",
    "        #print('d',a, d)\n",
    "        u_many += F(d, many_y)\n",
    "\n",
    "    ene.append([a, u_pair, u_many, u_pair+u_many])\n",
    "\n",
    "#ene2 = []\n",
    "#for a in np.linspace(0.5, 2.0, 101):\n",
    "#    z = a*rr\n",
    "#    u_pair = 0.5*np.sum([V(x, pair_z, V_x_r) for x in z.flatten() if x > 0.1])\n",
    "\n",
    "#    u_many = 0.0\n",
    "#    for i in range(z.shape[0]):\n",
    "        #print(z[i])\n",
    "#        d = np.sum([phi(x, rho_x_a, rho_x_r) for x in z[i] if x > 0.1])\n",
    "#        u_many += F(d, many_z)\n",
    "\n",
    "#    ene2.append([a, u_pair, u_many, u_pair+u_many])\n",
    "    \n",
    "#print(ene)\n",
    "ene = np.array(ene)\n",
    "#ene2 = np.array(ene2)\n",
    "\n",
    "#plt.plot(ene[:,0], ene[:,1]/54, label='pair')\n",
    "#plt.plot(ene[:,0], ene[:,2]/54, label='manybody')\n",
    "plt.title('Equation of state (T=0K)')\n",
    "plt.plot(ene[:,0], [eos(x) for x in ene[:,0]], label='universal EOS')\n",
    "plt.plot(ene[:,0], ene[:,3]/54, label='u-total')\n",
    "#plt.plot(ene2[:,0], ene2[:,3]/54, label='f-total')\n",
    "plt.hlines(0.0,0.5,2.0,lw=1)\n",
    "plt.legend()\n",
    "plt.xlim(0.5, 2.0)\n",
    "plt.ylim(-10,10)\n",
    "plt.xlabel('x')\n",
    "plt.ylabel(r'U')"
   ]
  },
  {
   "cell_type": "code",
   "execution_count": 98,
   "metadata": {
    "collapsed": true
   },
   "outputs": [],
   "source": [
    "# Ranges of densities and separations\n",
    "rhomax = 1000.0\n",
    "nrho = 5000\n",
    "drho = rhomax/nrho\n",
    "\n",
    "nr = 5000\n",
    "#rcut = 5.46\n",
    "rcut = 4.77\n",
    "dr = rcut/nr\n",
    "\n",
    "ri = 1.0\n",
    "ro = 2.0\n",
    "\n",
    "# W properties\n",
    "na = 74\n",
    "ma = 183.84\n",
    "lc = 3.1653\n",
    "alat = 'bcc'\n",
    "\n",
    "# System composition\n",
    "n_el = 1\n",
    "el_name = ['W']"
   ]
  },
  {
   "cell_type": "code",
   "execution_count": 99,
   "metadata": {
    "collapsed": true
   },
   "outputs": [],
   "source": [
    "f_spline = lambda r, aa, kk: sum([a*(rk - r)**3 for a, rk in zip(aa, kk) if r < rk and r > 0.01])\n",
    "\n",
    "# electronic density function (cubic splines)\n",
    "#rho = lambda r, a, k: sum([c*(p - r)**3 for c, p in zip(a, k) if r < p])\n",
    "\n",
    "rho = f_spline\n",
    "\n",
    "# embedding function\n",
    "F = lambda d, a: a[0]*d**0.5 + a[1]*d + a[2]*d**2\n",
    "\n",
    "# pair potential function (same spline form as electronic density)\n",
    "V = rho\n",
    "\n",
    "V = lambda r, aa, cc: sum([a*(rc - r)**3 for a, rc in zip(aa, cc) if r < rc])\n",
    "\n",
    "# Embedding function. Parameters: electronic density (d), coefficients for 1/2, 1, and 2 powers of density\n",
    "F = lambda d, a: a[0]*d**0.5 + a[1]*d + a[2]*d**2\n",
    "\n",
    "# Cohesive potential (cubic splines - same form as V)\n",
    "phi = V"
   ]
  },
  {
   "cell_type": "code",
   "execution_count": 100,
   "metadata": {
    "collapsed": true
   },
   "outputs": [],
   "source": [
    "rho_a = [1.0]\n",
    "rho_r = [4.77]\n",
    "\n",
    "pair_a = params_uopt[2:]\n",
    "pair_r = [2.56, 2.73, 3.252, 3.804, 4.20, 4.77]\n",
    "\n",
    "many_a = [params_uopt[0], 0.0, params_uopt[1]]"
   ]
  },
  {
   "cell_type": "code",
   "execution_count": 101,
   "metadata": {
    "collapsed": true
   },
   "outputs": [],
   "source": [
    "# prepare lists of values\n",
    "dens = np.linspace(0., rhomax-drho, nrho, endpoint=True)\n",
    "r = np.linspace(0., rcut-dr, nr, endpoint=True)\n",
    "r2 = np.linspace(0., rcut, 201)\n",
    "\n",
    "fembd = [F(d, many_a) for d in dens] # W\n",
    "edens = np.array([phi(x, rho_a, rho_r) for x in r])\n",
    "\n",
    "# 1. Cubic spline for r > r_o\n",
    "f_outer = [V(x, pair_a, pair_r) for i, x in enumerate(r)]\n",
    "# 2. Repulsive core for r < r_i (precalculate up to r_o)\n",
    "f_inner = [0.0] + [u_core(x) for x in r[1:]]\n",
    "# 3. Transition region for r_i < r < r_o\n",
    "fpair = [x*u_trans(x, f_inner[i], f_outer[i]) for i, x in enumerate(r)]\n",
    "#fpair = f_outer"
   ]
  },
  {
   "cell_type": "code",
   "execution_count": 104,
   "metadata": {},
   "outputs": [
    {
     "data": {
      "text/plain": [
       "(4.7690459999999995, 4.77, 5000, 201)"
      ]
     },
     "execution_count": 104,
     "metadata": {},
     "output_type": "execute_result"
    }
   ],
   "source": [
    "r[-1], r2[-1], len(r), len(r2)"
   ]
  },
  {
   "cell_type": "code",
   "execution_count": 106,
   "metadata": {},
   "outputs": [
    {
     "data": {
      "text/plain": [
       "array([-5.51731425e-01,  5.74575478e-04,  2.63611611e+00,  6.17016909e+01,\n",
       "       -1.10762073e+00, -2.35291978e-01, -1.37604602e-01, -9.86919661e-02])"
      ]
     },
     "execution_count": 106,
     "metadata": {},
     "output_type": "execute_result"
    }
   ],
   "source": [
    "params_uopt"
   ]
  },
  {
   "cell_type": "code",
   "execution_count": null,
   "metadata": {
    "collapsed": true
   },
   "outputs": [],
   "source": [
    "-0.5517314254069565 0.0005745754784552442 2.636116105053761 61.70169091463822 -1.1076207342964204 -0.23529197754710557 -0.13760460227259147 -0.0986919660712822"
   ]
  },
  {
   "cell_type": "code",
   "execution_count": 103,
   "metadata": {
    "collapsed": true
   },
   "outputs": [],
   "source": [
    "#%%writefile ../../statmechlib/statmechlib/read_write/write_eam_yuri.py\n",
    "\n",
    "# LAMMPS format\n",
    "with open(os.path.join(pot_path, 'W_lv22.eam.fs'), 'w') as fo:\n",
    "    \n",
    "    # Comment section\n",
    "    fo.write('Comment 1\\n')\n",
    "    fo.write('Comment 2\\n')\n",
    "    fo.write('Comment 3\\n')\n",
    "    \n",
    "    # Number of elements\n",
    "    fo.write(f\"{n_el:5d} \")\n",
    "    for i in range(n_el):\n",
    "        fo.write(f\"{el_name[i]:2}\")\n",
    "    fo.write(\"\\n\")\n",
    "    \n",
    "    # number of grid points, step size, and cutoff\n",
    "    fo.write(f\"{nrho:5d}{drho:24.16e}{nr:5d}{dr:24.16e}{rcut:24.16e}\\n\")\n",
    "    \n",
    "    # atomic number, mass, lattice size, lattice type\n",
    "    fo.write(f\"{na:5d} {ma:14.4f} {lc:14.4f} {alat:10}\\n\")\n",
    "    \n",
    "    # Embeding function\n",
    "    for i in range(nrho//4):\n",
    "        fo.write(\"{0:20.12e}{1:20.12e}{2:20.12e}{3:20.12e}\\n\".format(*fembd[i*4:i*4+4]))\n",
    "    \n",
    "    # Electronic density\n",
    "    for i in range(nr//4):\n",
    "        fo.write(\"{0:20.12e}{1:20.12e}{2:20.12e}{3:20.12e}\\n\".format(*edens[i*4:i*4+4]))\n",
    "        \n",
    "    # Pair potential\n",
    "    for i in range(nr//4):\n",
    "        fo.write(\"{0:20.12e}{1:20.12e}{2:20.12e}{3:20.12e}\\n\".format(*fpair[i*4:i*4+4]))"
   ]
  },
  {
   "cell_type": "code",
   "execution_count": 43,
   "metadata": {},
   "outputs": [
    {
     "name": "stdout",
     "output_type": "stream",
     "text": [
      "../sim/potentials/W_lv.eam.fs\n"
     ]
    }
   ],
   "source": [
    "print(os.path.join(pot_path, 'W_lv.eam.fs'))"
   ]
  },
  {
   "cell_type": "code",
   "execution_count": 44,
   "metadata": {},
   "outputs": [
    {
     "data": {
      "text/plain": [
       "(8.682506640003315e-10, 108.53133299999998)"
      ]
     },
     "execution_count": 44,
     "metadata": {},
     "output_type": "execute_result"
    }
   ],
   "source": [
    "min(edens), max(edens)"
   ]
  },
  {
   "cell_type": "code",
   "execution_count": 45,
   "metadata": {},
   "outputs": [
    {
     "data": {
      "text/plain": [
       "(-2.571752080159569, 556.9001364523145)"
      ]
     },
     "execution_count": 45,
     "metadata": {},
     "output_type": "execute_result"
    }
   ],
   "source": [
    "min(fembd), max(fembd)"
   ]
  },
  {
   "cell_type": "code",
   "execution_count": 46,
   "metadata": {
    "collapsed": true
   },
   "outputs": [],
   "source": [
    "def utot_opt2(x, pn, mn):\n",
    "    u = 4*V(x, pn, pair_r)\n",
    "    d = 8*phi(x, rho_a, rho_r)\n",
    "    u += F(d, mn)\n",
    "    #print(F(d, mn), phi(x, rho_a, rho_r), V(x, pn, pair_r))\n",
    "    return u/8"
   ]
  },
  {
   "cell_type": "code",
   "execution_count": 47,
   "metadata": {
    "collapsed": true
   },
   "outputs": [],
   "source": [
    "utot_x = [utot_opt2(x, pair_a, many_a) for x in r]"
   ]
  },
  {
   "cell_type": "code",
   "execution_count": 48,
   "metadata": {},
   "outputs": [
    {
     "ename": "TypeError",
     "evalue": "<lambda>() missing 2 required positional arguments: 'aa' and 'kk'",
     "output_type": "error",
     "traceback": [
      "\u001b[0;31m---------------------------------------------------------------------------\u001b[0m",
      "\u001b[0;31mTypeError\u001b[0m                                 Traceback (most recent call last)",
      "\u001b[0;32m<ipython-input-48-dc1c7ff6678d>\u001b[0m in \u001b[0;36m<module>\u001b[0;34m()\u001b[0m\n\u001b[1;32m      9\u001b[0m \u001b[0;34m\u001b[0m\u001b[0m\n\u001b[1;32m     10\u001b[0m \u001b[0mplt\u001b[0m\u001b[0;34m.\u001b[0m\u001b[0mtitle\u001b[0m\u001b[0;34m(\u001b[0m\u001b[0;34m'Total potential per atom in BCC'\u001b[0m\u001b[0;34m)\u001b[0m\u001b[0;34m\u001b[0m\u001b[0m\n\u001b[0;32m---> 11\u001b[0;31m \u001b[0mpot_tot\u001b[0m \u001b[0;34m=\u001b[0m \u001b[0;34m[\u001b[0m\u001b[0mV_pair\u001b[0m\u001b[0;34m(\u001b[0m\u001b[0mx\u001b[0m\u001b[0;34m)\u001b[0m \u001b[0;34m+\u001b[0m \u001b[0mV_man\u001b[0m\u001b[0;34m(\u001b[0m\u001b[0mx\u001b[0m\u001b[0;34m)\u001b[0m \u001b[0;32mfor\u001b[0m \u001b[0mx\u001b[0m \u001b[0;32min\u001b[0m \u001b[0mr\u001b[0m\u001b[0;34m]\u001b[0m\u001b[0;34m\u001b[0m\u001b[0m\n\u001b[0m\u001b[1;32m     12\u001b[0m \u001b[0mplt\u001b[0m\u001b[0;34m.\u001b[0m\u001b[0mplot\u001b[0m\u001b[0;34m(\u001b[0m\u001b[0mr\u001b[0m\u001b[0;34m,\u001b[0m \u001b[0mpot_tot\u001b[0m\u001b[0;34m,\u001b[0m \u001b[0mlabel\u001b[0m\u001b[0;34m=\u001b[0m\u001b[0;34m'Marinica/Bonny'\u001b[0m\u001b[0;34m)\u001b[0m\u001b[0;34m\u001b[0m\u001b[0m\n\u001b[1;32m     13\u001b[0m \u001b[0;31m#plt.plot(r, pot, label='original')\u001b[0m\u001b[0;34m\u001b[0m\u001b[0;34m\u001b[0m\u001b[0m\n",
      "\u001b[0;32m<ipython-input-48-dc1c7ff6678d>\u001b[0m in \u001b[0;36m<listcomp>\u001b[0;34m(.0)\u001b[0m\n\u001b[1;32m      9\u001b[0m \u001b[0;34m\u001b[0m\u001b[0m\n\u001b[1;32m     10\u001b[0m \u001b[0mplt\u001b[0m\u001b[0;34m.\u001b[0m\u001b[0mtitle\u001b[0m\u001b[0;34m(\u001b[0m\u001b[0;34m'Total potential per atom in BCC'\u001b[0m\u001b[0;34m)\u001b[0m\u001b[0;34m\u001b[0m\u001b[0m\n\u001b[0;32m---> 11\u001b[0;31m \u001b[0mpot_tot\u001b[0m \u001b[0;34m=\u001b[0m \u001b[0;34m[\u001b[0m\u001b[0mV_pair\u001b[0m\u001b[0;34m(\u001b[0m\u001b[0mx\u001b[0m\u001b[0;34m)\u001b[0m \u001b[0;34m+\u001b[0m \u001b[0mV_man\u001b[0m\u001b[0;34m(\u001b[0m\u001b[0mx\u001b[0m\u001b[0;34m)\u001b[0m \u001b[0;32mfor\u001b[0m \u001b[0mx\u001b[0m \u001b[0;32min\u001b[0m \u001b[0mr\u001b[0m\u001b[0;34m]\u001b[0m\u001b[0;34m\u001b[0m\u001b[0m\n\u001b[0m\u001b[1;32m     12\u001b[0m \u001b[0mplt\u001b[0m\u001b[0;34m.\u001b[0m\u001b[0mplot\u001b[0m\u001b[0;34m(\u001b[0m\u001b[0mr\u001b[0m\u001b[0;34m,\u001b[0m \u001b[0mpot_tot\u001b[0m\u001b[0;34m,\u001b[0m \u001b[0mlabel\u001b[0m\u001b[0;34m=\u001b[0m\u001b[0;34m'Marinica/Bonny'\u001b[0m\u001b[0;34m)\u001b[0m\u001b[0;34m\u001b[0m\u001b[0m\n\u001b[1;32m     13\u001b[0m \u001b[0;31m#plt.plot(r, pot, label='original')\u001b[0m\u001b[0;34m\u001b[0m\u001b[0;34m\u001b[0m\u001b[0m\n",
      "\u001b[0;32m<ipython-input-33-517c65855860>\u001b[0m in \u001b[0;36m<lambda>\u001b[0;34m(r)\u001b[0m\n\u001b[1;32m     12\u001b[0m \u001b[0;34m\u001b[0m\u001b[0m\n\u001b[1;32m     13\u001b[0m \u001b[0;31m# Rescaled pair potential function\u001b[0m\u001b[0;34m\u001b[0m\u001b[0;34m\u001b[0m\u001b[0m\n\u001b[0;32m---> 14\u001b[0;31m \u001b[0mV_pair\u001b[0m \u001b[0;34m=\u001b[0m \u001b[0;32mlambda\u001b[0m \u001b[0mr\u001b[0m\u001b[0;34m:\u001b[0m \u001b[0;36m0.5\u001b[0m\u001b[0;34m*\u001b[0m\u001b[0;34m(\u001b[0m\u001b[0mV\u001b[0m\u001b[0;34m(\u001b[0m\u001b[0mr\u001b[0m\u001b[0;34m,\u001b[0m \u001b[0mV_w_a\u001b[0m\u001b[0;34m,\u001b[0m \u001b[0mV_w_r\u001b[0m\u001b[0;34m)\u001b[0m \u001b[0;34m-\u001b[0m \u001b[0;36m2\u001b[0m\u001b[0;34m*\u001b[0m\u001b[0mC\u001b[0m\u001b[0;34m*\u001b[0m\u001b[0mrho\u001b[0m\u001b[0;34m(\u001b[0m\u001b[0mr\u001b[0m\u001b[0;34m)\u001b[0m\u001b[0;34m/\u001b[0m\u001b[0mS\u001b[0m\u001b[0;34m)\u001b[0m\u001b[0;34m\u001b[0m\u001b[0m\n\u001b[0m\u001b[1;32m     15\u001b[0m \u001b[0;34m\u001b[0m\u001b[0m\n\u001b[1;32m     16\u001b[0m \u001b[0;31m# Manybody potential for 8 NN\u001b[0m\u001b[0;34m\u001b[0m\u001b[0;34m\u001b[0m\u001b[0m\n",
      "\u001b[0;31mTypeError\u001b[0m: <lambda>() missing 2 required positional arguments: 'aa' and 'kk'"
     ]
    },
    {
     "data": {
      "image/png": "[encoded data removed]",
      "text/plain": [
       "<Figure size 432x288 with 1 Axes>"
      ]
     },
     "metadata": {},
     "output_type": "display_data"
    }
   ],
   "source": [
    "#rcut = 5.46\n",
    "#r = np.linspace(0., rcut, 201)\n",
    "r = np.linspace(0., rcut-dr, nr, endpoint=True)\n",
    "\n",
    "pot = [utot_re(x) for x in r]\n",
    "pot_start = [utot_opt(x, pair_x, many_x) for x in r]\n",
    "pot_uopt = [utot_opt2(x, pair_a, many_a) for x in r]\n",
    "#pot_fopt = [utot_opt(x, pair_z, many_z) for x in r]\n",
    "\n",
    "plt.title('Total potential per atom in BCC')\n",
    "pot_tot = [V_pair(x) + V_man(x) for x in r]\n",
    "plt.plot(r, pot_tot, label='Marinica/Bonny')\n",
    "#plt.plot(r, pot, label='original')\n",
    "plt.plot(r, pot_start, label='starting')\n",
    "plt.plot(r, pot_uopt, label='u-optimized')\n",
    "#plt.plot(r, pot_fopt, label='f-optimized')\n",
    "\n",
    "plt.legend()\n",
    "plt.hlines(0.0, 1.5, rcut)\n",
    "#plt.hlines(-0.89, 1.5, rcut)\n",
    "\n",
    "plt.axis([1.5, rcut, -1.1, 1.0])\n",
    "plt.xlabel('r[A]')\n",
    "plt.ylabel(r'U(r)')"
   ]
  },
  {
   "cell_type": "code",
   "execution_count": null,
   "metadata": {
    "collapsed": true
   },
   "outputs": [],
   "source": []
  }
 ],
 "metadata": {
  "kernelspec": {
   "display_name": "Python 3",
   "language": "python",
   "name": "python3"
  },
  "language_info": {
   "codemirror_mode": {
    "name": "ipython",
    "version": 3
   },
   "file_extension": ".py",
   "mimetype": "text/x-python",
   "name": "python",
   "nbconvert_exporter": "python",
   "pygments_lexer": "ipython3",
   "version": "3.6.8"
  }
 },
 "nbformat": 4,
 "nbformat_minor": 2
}
