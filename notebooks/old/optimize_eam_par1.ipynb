{
 "cells": [
  {
   "cell_type": "code",
   "execution_count": 1,
   "metadata": {
    "collapsed": true
   },
   "outputs": [],
   "source": [
    "import os\n",
    "import sys\n",
    "import re\n",
    "import numpy as np\n",
    "%matplotlib inline\n",
    "import matplotlib.pyplot as plt\n",
    "import copy\n",
    "import pickle\n",
    "from scipy.optimize import fmin"
   ]
  },
  {
   "cell_type": "code",
   "execution_count": 2,
   "metadata": {
    "collapsed": true
   },
   "outputs": [],
   "source": [
    "%load_ext autoreload\n",
    "%autoreload 2"
   ]
  },
  {
   "cell_type": "code",
   "execution_count": 3,
   "metadata": {
    "collapsed": true
   },
   "outputs": [],
   "source": [
    "sys.path.append('../../statmechlib')\n",
    "from statmechlib.read_write import read_vasp\n",
    "from statmechlib.preprocessing import Trajectory, select_nodes, scale_configuration, pair_dist_cutoff\n",
    "from statmechlib.preprocessing import pair_dist, force_targ, get_stats_EAM, get_stats_EAM_pairdist\n",
    "from statmechlib.forcefields import sd2_loss, utot_EAM, ftot_EAM, udif_print, u_core\n",
    "from statmechlib.preprocessing import universal_eos"
   ]
  },
  {
   "cell_type": "code",
   "execution_count": 4,
   "metadata": {
    "collapsed": true
   },
   "outputs": [],
   "source": [
    "target_raw = '../data/target_raw'\n",
    "target_proc = '../data/target_processed'\n",
    "working = '../data/working'"
   ]
  },
  {
   "cell_type": "code",
   "execution_count": 5,
   "metadata": {
    "collapsed": true
   },
   "outputs": [],
   "source": [
    "it = 1 # read in it (independent process)"
   ]
  },
  {
   "cell_type": "code",
   "execution_count": 6,
   "metadata": {
    "collapsed": true
   },
   "outputs": [],
   "source": [
    "n = int((1.45-0.85)/0.05 + 0.01)\n",
    "reos = np.linspace(0.85, 1.45, n+1)*2.74"
   ]
  },
  {
   "cell_type": "code",
   "execution_count": 7,
   "metadata": {
    "collapsed": true
   },
   "outputs": [],
   "source": [
    "with open(os.path.join(working, 'stats_clean'+'.pickle'), 'rb') as fi:\n",
    "    stats_ready = pickle.load(fi)\n",
    "\n",
    "with open(os.path.join(working, 'target_clean'+'.pickle'), 'rb') as fi:\n",
    "    targ_ready = pickle.load(fi)   "
   ]
  },
  {
   "cell_type": "code",
   "execution_count": 8,
   "metadata": {
    "collapsed": true
   },
   "outputs": [],
   "source": [
    "multi_index = []\n",
    "multi_index.append([0, 3, 5, 8, 13, 17, 20, 24, 27, 31])\n",
    "multi_index.append([2, 4, 8, 11, 13, 17, 20, 24, 27, 32])\n",
    "multi_index.append([1, 4, 6, 9, 13, 17, 20, 24, 27, 31])\n",
    "multi_index.append([1, 4, 7, 9, 13, 17, 20, 24, 27, 31])\n",
    "multi_index.append([1, 3, 5, 8, 12, 16, 19, 23, 28, 31])\n",
    "multi_index.append([0, 4, 6, 8, 12, 17, 20, 25, 28, 32])"
   ]
  },
  {
   "cell_type": "code",
   "execution_count": 9,
   "metadata": {},
   "outputs": [
    {
     "name": "stdout",
     "output_type": "stream",
     "text": [
      "[2.4  2.65 2.72 2.75 3.   3.45 4.   4.5  5.   5.6 ]\n",
      "[2.5  2.7  2.75 2.85 3.   3.45 4.   4.5  5.   5.75]\n",
      "[2.45 2.7  2.73 2.77 3.   3.45 4.   4.5  5.   5.6 ]\n",
      "[2.45 2.7  2.74 2.77 3.   3.45 4.   4.5  5.   5.6 ]\n",
      "[2.45  2.65  2.72  2.75  2.9   3.3   3.75  4.356 5.15  5.6  ]\n",
      "[2.4  2.7  2.73 2.75 2.9  3.45 4.   4.65 5.15 5.75]\n"
     ]
    }
   ],
   "source": [
    "stats_opts = []\n",
    "for index in multi_index:\n",
    "    index = np.array([True if i in index else False for i in range(len(stats_ready['hyperparams']))])\n",
    "    print(np.array(stats_ready['hyperparams'])[index])\n",
    "    stats_opts.append(select_nodes(stats_ready, index))"
   ]
  },
  {
   "cell_type": "code",
   "execution_count": 10,
   "metadata": {},
   "outputs": [
    {
     "name": "stdout",
     "output_type": "stream",
     "text": [
      "10 10\n",
      "10 10\n",
      "10 10\n",
      "10 10\n",
      "10 10\n",
      "10 10\n"
     ]
    }
   ],
   "source": [
    "#pars_dict['pair'] = [-28.301652628205268, -0.0022071786576090694, 0.027656591839734557, -6.543090393280296, 10.102407371395133, -2.478121982724172, 3.7048200337887582, -3.6346043391919514, 1.7181534576100437, -0.2520201994640249]\n",
    "#pars_dict['embed'] = [-1.1825596913794016, 2.8944059727957714e-05]\n",
    "pars_list = []\n",
    "for index in multi_index:\n",
    "    pars_dict = {}\n",
    "    if len(np.array(stats_ready['hyperparams'])[index]) == 10:\n",
    "        pars_dict['embed'] = [-6.84229349e-01,  1.52487644e-04]\n",
    "        pars_dict['pair'] = [-6.56958142e+01, 0.0, 2.30194161e+01, 0.0, -3.48639263e+00,  3.45615281e+00, -8.88083580e-01, -1.34315802e+00, 1.24532843e+00, -3.51200974e-01]\n",
    "    elif len(np.array(stats_ready['hyperparams'])[index]) == 9:\n",
    "        pars_dict['embed'] = [-6.84229349e-01,  1.52487644e-04]\n",
    "        pars_dict['pair'] = [-6.56958142e+01, 0.0, 2.30194161e+01, -3.48639263e+00,  3.45615281e+00, -8.88083580e-01, -1.34315802e+00, 1.24532843e+00, -3.51200974e-01]        \n",
    "    elif len(np.array(stats_ready['hyperparams'])[index]) == 8:\n",
    "        pars_dict['embed'] = [-6.84229349e-01,  1.52487644e-04]\n",
    "        pars_dict['pair'] = [-6.56958142e+01, 2.30194161e+01, -3.48639263e+00,  3.45615281e+00, -8.88083580e-01, -1.34315802e+00, 1.24532843e+00, -3.51200974e-01]        \n",
    "    else:\n",
    "        raise ValueError('Unsupported number of parameters')\n",
    "    print(len(np.array(stats_ready['hyperparams'])[index]), len(pars_dict['pair']))\n",
    "    pars_list.append(pars_dict)\n",
    "\n",
    "with open(os.path.join(working, \"pars_in.pickle\"), 'wb') as fo:\n",
    "    pickle.dump(pars_list, fo)\n"
   ]
  },
  {
   "cell_type": "code",
   "execution_count": 11,
   "metadata": {},
   "outputs": [
    {
     "name": "stdout",
     "output_type": "stream",
     "text": [
      "[{'embed': [-0.684229349, 0.000152487644], 'pair': [-65.6958142, 0.0, 23.0194161, 0.0, -3.48639263, 3.45615281, -0.88808358, -1.34315802, 1.24532843, -0.351200974]}, {'embed': [-0.684229349, 0.000152487644], 'pair': [-65.6958142, 0.0, 23.0194161, 0.0, -3.48639263, 3.45615281, -0.88808358, -1.34315802, 1.24532843, -0.351200974]}, {'embed': [-0.684229349, 0.000152487644], 'pair': [-65.6958142, 0.0, 23.0194161, 0.0, -3.48639263, 3.45615281, -0.88808358, -1.34315802, 1.24532843, -0.351200974]}, {'embed': [-0.684229349, 0.000152487644], 'pair': [-65.6958142, 0.0, 23.0194161, 0.0, -3.48639263, 3.45615281, -0.88808358, -1.34315802, 1.24532843, -0.351200974]}, {'embed': [-0.684229349, 0.000152487644], 'pair': [-65.6958142, 0.0, 23.0194161, 0.0, -3.48639263, 3.45615281, -0.88808358, -1.34315802, 1.24532843, -0.351200974]}, {'embed': [-0.684229349, 0.000152487644], 'pair': [-65.6958142, 0.0, 23.0194161, 0.0, -3.48639263, 3.45615281, -0.88808358, -1.34315802, 1.24532843, -0.351200974]}]\n"
     ]
    }
   ],
   "source": [
    "# read corresponding parameters\n",
    "with open(os.path.join(working, 'pars_in'+'.pickle'), 'rb') as fi:\n",
    "    pars_list = pickle.load(fi)\n",
    "print(pars_list)"
   ]
  },
  {
   "cell_type": "code",
   "execution_count": 12,
   "metadata": {
    "collapsed": true
   },
   "outputs": [],
   "source": [
    "stats = []\n",
    "target = []\n",
    "for key in list(targ_ready.keys()):\n",
    "    stats.append(stats_opts[it][key])\n",
    "    target.append(targ_ready[key])"
   ]
  },
  {
   "cell_type": "code",
   "execution_count": 13,
   "metadata": {},
   "outputs": [
    {
     "name": "stdout",
     "output_type": "stream",
     "text": [
      "[-0.684229349, 0.000152487644, -65.6958142, 0.0, 23.0194161, 0.0, -3.48639263, 3.45615281, -0.88808358, -1.34315802, 1.24532843, -0.351200974] 12\n"
     ]
    }
   ],
   "source": [
    "pars_dict = pars_list[it]\n",
    "pars_in = pars_dict['embed'] + pars_dict['pair']\n",
    "print(pars_in, len(pars_in))"
   ]
  },
  {
   "cell_type": "code",
   "execution_count": 22,
   "metadata": {
    "collapsed": true
   },
   "outputs": [],
   "source": [
    "target[0]['weight'] = 1.0\n",
    "target[1]['weight'] = 20.0\n",
    "target[2]['weight'] = 0.5\n",
    "target[3]['weight'] = 1.0\n",
    "target[4]['weight'] = 0.8"
   ]
  },
  {
   "cell_type": "code",
   "execution_count": 23,
   "metadata": {},
   "outputs": [
    {
     "data": {
      "text/plain": [
       "(1284,\n",
       " [1.0, 20.0, 0.5, 1.0, 0.8],\n",
       " [-1139.2,\n",
       "  -906.9778906249999,\n",
       "  -1127.13044453125,\n",
       "  -1136.3561554687499,\n",
       "  -1136.7059554687498,\n",
       "  0.0,\n",
       "  0.0])"
      ]
     },
     "execution_count": 23,
     "metadata": {},
     "output_type": "execute_result"
    }
   ],
   "source": [
    "len(target[0]['energy']), [t['weight'] for t in target], target[1]['energy']"
   ]
  },
  {
   "cell_type": "code",
   "execution_count": 24,
   "metadata": {
    "collapsed": true
   },
   "outputs": [],
   "source": [
    "def optimize_EAM(target, stats, ieam, multi_pars, n_b=3):\n",
    "    \n",
    "    optimal_parameters = []\n",
    "    \n",
    "    for i, pars in enumerate(multi_pars):\n",
    "        sd_ini = sd2_loss(list(pars), stats, target, utot_EAM, None, [ieam])\n",
    "        print(i,' sd2: ini', sd_ini, end='')\n",
    "        output = fmin(sd2_loss, pars, args=(stats, target, utot_EAM, None, [ieam]), maxiter=100000, maxfun=100000, disp=0, full_output=1,ftol=1e-6)\n",
    "        optimal_parameters.append(tuple([output[1], output[0]]))\n",
    "        print('sd2: final', output[1])\n",
    "\n",
    "    n_best = min(n_b, len(optimal_parameters))\n",
    "    #print(optimal_parameters)\n",
    "                 \n",
    "    best_params = sorted(optimal_parameters, key=lambda param: param[0])[:n_best]\n",
    "    \n",
    "    print('Best params:', best_params)\n",
    "\n",
    "    return best_params"
   ]
  },
  {
   "cell_type": "code",
   "execution_count": 25,
   "metadata": {
    "collapsed": true
   },
   "outputs": [],
   "source": [
    "multi_pars = []\n",
    "\n",
    "multi_pars.append(pars_in)\n",
    "\n",
    "multi_pars.append([-1.48107607e+00, -2.11281591e-06, -7.75748552e+01,  1.23284902e+02,\n",
    "       -1.05876828e+02,  2.56371829e+01,  7.21885424e-01, -2.01549825e+00,\n",
    "        9.46930507e-01,  2.72867578e-01, -1.23624777e+00,  4.90853203e-01])\n",
    "\n",
    "multi_pars.append([ 4.21813176e+00,  1.28438711e-02,  7.18447209e+02,  2.79873504e+01,\n",
    "       -3.64063120e+01,  1.55668343e+01, -3.59671207e+00,  7.18079901e-02,\n",
    "       -7.56657066e-02,  2.53180527e-01, -4.96952030e-01, -4.27379804e-02])\n",
    "\n",
    "multi_pars.append([-1.70284536e+00,  1.77584742e-03, -2.03091714e+02,  6.67172987e+02,\n",
    "       -1.39072153e+03,  7.95275451e+02, -2.44611978e+01,  5.09001525e+00,\n",
    "       -3.57713253e-01, -1.04584266e+00,  1.30255105e+00, -4.09472026e-01])\n",
    "\n",
    "multi_pars.append([ 1.49705729e+00,  8.14531512e-03, -8.15988329e+02,  5.87519886e+02,\n",
    "       -1.01285873e+03,  5.10026120e+02, -1.11686150e+01,  1.51343754e+00,\n",
    "        1.15612472e-01, -4.84858749e-01,  3.56870076e-01, -2.09915075e-01])\n",
    "\n",
    "multi_pars.append([ 1.54864560e+00,  1.06062750e-02, -3.00996729e+02,  3.32437763e+02,\n",
    "       -3.39714171e+02,  9.93126859e+01, -2.04873166e+01,  1.12932344e+00,\n",
    "       -7.73962738e-02, -1.97622239e-01,  1.14699068e-01, -1.23093792e-01])\n",
    "\n",
    "multi_pars.append([ 1.08153442e+00,  2.12340093e-03, -2.83828424e+02,  3.30196594e+02,\n",
    "       -3.61260411e+02,  1.30278313e+02, -3.12845720e+01,  2.97822976e+00,\n",
    "       -5.85372576e-02, -8.72679252e-01,  5.95310242e-01, -2.30722232e-01])\n",
    "\n",
    "multi_pars.append([-1.84530425e+00, -2.18389467e-05, -1.46520729e+03,  1.16790147e+02,\n",
    "       -1.41528209e+02,  7.82448301e+01,  4.04340173e+00, -2.96638562e+00,\n",
    "        2.19448488e+00, -5.43928853e-01, -1.31154657e+00,  7.46848321e-01])\n"
   ]
  },
  {
   "cell_type": "code",
   "execution_count": 27,
   "metadata": {},
   "outputs": [
    {
     "name": "stdout",
     "output_type": "stream",
     "text": [
      "ieam: 9\n",
      "0  sd2: ini 7.178091647785684sd2: final 0.024970833106363742\n",
      "1  sd2: ini 0.019936340706248515sd2: final 0.011166762673644966\n",
      "2  sd2: ini 56.68190592362866"
     ]
    },
    {
     "name": "stderr",
     "output_type": "stream",
     "text": [
      "../../statmechlib/statmechlib/forcefields/eam.py:226: RuntimeWarning: overflow encountered in exp\n",
      "  eee = np.exp(-uuu)\n"
     ]
    },
    {
     "name": "stdout",
     "output_type": "stream",
     "text": [
      "sd2: final 56.68190592362866\n",
      "3  sd2: ini 25.317716035969784sd2: final 0.10514445661257499\n",
      "4  sd2: ini 56.68190592362866sd2: final 56.68190592362866\n",
      "5  sd2: ini 56.68190592362866sd2: final 56.68190592362866\n",
      "6  sd2: ini 25.47720566468029sd2: final 0.02329019638467778\n",
      "7  sd2: ini 24.391784950721178sd2: final 0.017532656831637204\n",
      "Best params: [(0.011166762673644966, array([-1.43897524e+00,  3.68357996e-06, -4.10835857e+01,  1.01633094e+02,\n",
      "       -9.73045925e+01,  3.38437384e+01, -3.58251075e+00, -1.67919252e+00,\n",
      "        8.65702805e-01,  2.65888291e-01, -1.20777286e+00,  4.75855652e-01])), (0.017532656831637204, array([-2.08558432e+00, -2.39618296e-05, -2.77957260e+02,  2.42267240e+02,\n",
      "       -1.82180410e+02,  2.42519627e+01,  7.87648722e+00, -4.89090375e+00,\n",
      "        1.98721662e+00,  3.56188187e-01, -1.89257892e+00,  7.66994201e-01])), (0.02329019638467778, array([ 1.54887007e-01,  8.87810700e-05, -4.81610543e+02,  3.88592593e+02,\n",
      "       -3.86272852e+02,  1.23582314e+02, -2.96626574e+01,  3.34097229e+00,\n",
      "       -5.19808360e-02, -1.17761365e+00,  8.68600002e-01, -2.77537023e-01])), (0.024970833106363742, array([-3.51978417e-01,  6.12286933e-05, -6.40152263e+01,  8.57974295e-04,\n",
      "        1.79957469e+01, -3.80893140e-02, -5.45333629e+00, -1.30526484e-01,\n",
      "        2.28650789e+00, -2.51768106e+00,  9.80023741e-01, -1.30711527e-01])), (0.10514445661257499, array([ 1.48157196e+00,  8.00041392e-05, -3.48699110e+02,  6.71633989e+02,\n",
      "       -7.90871255e+02,  2.89808059e+02, -6.03303676e+01,  6.96957447e+00,\n",
      "       -7.58042645e-01, -9.20125973e-01,  1.73761485e+00, -7.66343704e-01])), (56.68190592362866, array([ 4.21813176e+00,  1.28438711e-02,  7.18447209e+02,  2.79873504e+01,\n",
      "       -3.64063120e+01,  1.55668343e+01, -3.59671207e+00,  7.18079901e-02,\n",
      "       -7.56657066e-02,  2.53180527e-01, -4.96952030e-01, -4.27379804e-02])), (56.68190592362866, array([ 1.49705729e+00,  8.14531512e-03, -8.15988329e+02,  5.87519886e+02,\n",
      "       -1.01285873e+03,  5.10026120e+02, -1.11686150e+01,  1.51343754e+00,\n",
      "        1.15612472e-01, -4.84858749e-01,  3.56870076e-01, -2.09915075e-01])), (56.68190592362866, array([ 1.54864560e+00,  1.06062750e-02, -3.00996729e+02,  3.32437763e+02,\n",
      "       -3.39714171e+02,  9.93126859e+01, -2.04873166e+01,  1.12932344e+00,\n",
      "       -7.73962738e-02, -1.97622239e-01,  1.14699068e-01, -1.23093792e-01]))]\n",
      "0  sd2: ini 0.011166762673644966sd2: final 0.011165929757592091\n",
      "1  sd2: ini 0.017532656831637204sd2: final 0.01218450895383211\n",
      "2  sd2: ini 0.02329019638467778sd2: final 0.017695907555816823\n",
      "3  sd2: ini 0.024970833106363742sd2: final 0.011860130023318038\n",
      "4  sd2: ini 0.10514445661257499sd2: final 0.03269238697277528\n",
      "5  sd2: ini 56.68190592362866sd2: final 56.68190592362866\n",
      "6  sd2: ini 56.68190592362866sd2: final 56.68190592362866\n",
      "7  sd2: ini 56.68190592362866sd2: final 56.68190592362866\n",
      "Best params: [(0.011165929757592091, array([-1.43823492e+00,  3.88793815e-06, -4.51345584e+01,  1.04700059e+02,\n",
      "       -9.99674266e+01,  3.43045998e+01, -3.58957225e+00, -1.69651718e+00,\n",
      "        8.71324265e-01,  2.64099677e-01, -1.20763187e+00,  4.75704064e-01])), (0.011860130023318038, array([-1.47433918e+00, -1.45777588e-06,  8.66039302e+01,  3.39630613e+00,\n",
      "       -8.73433617e+00,  1.46961297e+01, -1.28694026e+00, -1.72254428e+00,\n",
      "        9.78819277e-01,  1.82445483e-01, -1.18921877e+00,  4.83742714e-01])), (0.01218450895383211, array([-1.73101871e+00, -1.30753936e-05, -1.86798051e+01,  9.65344168e+01,\n",
      "       -9.20998313e+01,  3.23383835e+01, -1.75682873e+00, -2.10363840e+00,\n",
      "        6.18187438e-01,  8.67579642e-01, -1.72612400e+00,  6.30253611e-01])), (0.017695907555816823, array([-2.42441007e-01,  6.98439197e-05, -1.96398797e+02,  1.95067211e+02,\n",
      "       -1.95742139e+02,  6.44035226e+01, -1.53017334e+01,  6.28883280e-01,\n",
      "        1.35439608e+00, -1.73810682e+00,  7.23127190e-01, -1.33650816e-01])), (0.03269238697277528, array([ 9.03558010e-01,  1.24580206e-04, -2.52547205e+02,  2.53775079e+02,\n",
      "       -2.88753704e+02,  1.12533693e+02, -3.30231225e+01,  4.38688076e+00,\n",
      "        5.39542831e-01, -2.57765223e+00,  2.13144931e+00, -6.64620989e-01])), (56.68190592362866, array([ 4.21813176e+00,  1.28438711e-02,  7.18447209e+02,  2.79873504e+01,\n",
      "       -3.64063120e+01,  1.55668343e+01, -3.59671207e+00,  7.18079901e-02,\n",
      "       -7.56657066e-02,  2.53180527e-01, -4.96952030e-01, -4.27379804e-02])), (56.68190592362866, array([ 1.49705729e+00,  8.14531512e-03, -8.15988329e+02,  5.87519886e+02,\n",
      "       -1.01285873e+03,  5.10026120e+02, -1.11686150e+01,  1.51343754e+00,\n",
      "        1.15612472e-01, -4.84858749e-01,  3.56870076e-01, -2.09915075e-01])), (56.68190592362866, array([ 1.54864560e+00,  1.06062750e-02, -3.00996729e+02,  3.32437763e+02,\n",
      "       -3.39714171e+02,  9.93126859e+01, -2.04873166e+01,  1.12932344e+00,\n",
      "       -7.73962738e-02, -1.97622239e-01,  1.14699068e-01, -1.23093792e-01]))]\n",
      "0  sd2: ini 0.011165929757592091sd2: final 0.011162845054885039\n",
      "1  sd2: ini 0.011860130023318038sd2: final 0.011245684217476662\n",
      "2  sd2: ini 0.01218450895383211sd2: final 0.011802226095997084\n",
      "3  sd2: ini 0.017695907555816823sd2: final 0.011114767608187455\n",
      "4  sd2: ini 0.03269238697277528sd2: final 0.023197931690882613\n",
      "5  sd2: ini 56.68190592362866sd2: final 56.68190592362866\n",
      "6  sd2: ini 56.68190592362866sd2: final 56.68190592362866\n",
      "7  sd2: ini 56.68190592362866sd2: final 56.68190592362866\n",
      "Best params: [(0.011114767608187455, array([-1.30503835e+00,  1.01347929e-05, -5.43517101e+01,  1.13036298e+02,\n",
      "       -1.11748483e+02,  3.98562974e+01, -5.62030581e+00, -1.25678922e+00,\n",
      "        8.02121623e-01,  1.33196138e-01, -1.02626367e+00,  4.11501164e-01])), (0.011162845054885039, array([-1.44427047e+00,  3.33158279e-06, -4.39360447e+01,  1.02671775e+02,\n",
      "       -9.73896576e+01,  3.33482727e+01, -3.40749718e+00, -1.71046311e+00,\n",
      "        8.97424416e-01,  2.41427109e-01, -1.20075979e+00,  4.76533752e-01])), (0.011245684217476662, array([-1.46619972e+00,  2.32521761e-06, -4.30048898e+01,  9.32872595e+01,\n",
      "       -8.32826810e+01,  2.66762655e+01, -1.74677465e+00, -2.01084559e+00,\n",
      "        1.13436359e+00,  7.82008469e-02, -1.15538667e+00,  4.78501100e-01])), (0.011802226095997084, array([-1.68387772e+00, -5.84615412e-06, -7.18812037e+01,  1.23127609e+02,\n",
      "       -1.07639586e+02,  2.92816520e+01, -1.20192742e-01, -2.61529471e+00,\n",
      "        1.04371972e+00,  4.73947043e-01, -1.53320359e+00,  5.93156093e-01])), (0.023197931690882613, array([-2.24158919e-02,  6.98400571e-05, -9.73861935e+01,  1.20313726e+02,\n",
      "       -1.34545916e+02,  5.55600278e+01, -1.37978875e+01,  2.10556953e-01,\n",
      "        1.52520690e+00, -1.60352231e+00,  7.16775302e-01, -1.83388825e-01])), (56.68190592362866, array([ 4.21813176e+00,  1.28438711e-02,  7.18447209e+02,  2.79873504e+01,\n",
      "       -3.64063120e+01,  1.55668343e+01, -3.59671207e+00,  7.18079901e-02,\n",
      "       -7.56657066e-02,  2.53180527e-01, -4.96952030e-01, -4.27379804e-02])), (56.68190592362866, array([ 1.49705729e+00,  8.14531512e-03, -8.15988329e+02,  5.87519886e+02,\n",
      "       -1.01285873e+03,  5.10026120e+02, -1.11686150e+01,  1.51343754e+00,\n",
      "        1.15612472e-01, -4.84858749e-01,  3.56870076e-01, -2.09915075e-01])), (56.68190592362866, array([ 1.54864560e+00,  1.06062750e-02, -3.00996729e+02,  3.32437763e+02,\n",
      "       -3.39714171e+02,  9.93126859e+01, -2.04873166e+01,  1.12932344e+00,\n",
      "       -7.73962738e-02, -1.97622239e-01,  1.14699068e-01, -1.23093792e-01]))]\n",
      "0  sd2: ini 0.011114767608187455sd2: final 0.011108005720799213\n",
      "1  sd2: ini 0.011162845054885039sd2: final 0.011158006125114354\n",
      "2  sd2: ini 0.011245684217476662sd2: final 0.011198223932008203\n",
      "3  sd2: ini 0.011802226095997084sd2: final 0.011552674970585163\n",
      "4  sd2: ini 0.023197931690882613sd2: final 0.013479809605899146\n",
      "5  sd2: ini 56.68190592362866sd2: final 56.68190592362866\n",
      "6  sd2: ini 56.68190592362866sd2: final 56.68190592362866\n",
      "7  sd2: ini 56.68190592362866sd2: final 56.68190592362866\n",
      "Best params: [(0.011108005720799213, array([-1.30473884e+00,  1.12469891e-05, -6.15077681e+01,  1.17351416e+02,\n",
      "       -1.14693805e+02,  3.96141682e+01, -5.35563289e+00, -1.35547309e+00,\n",
      "        8.49205968e-01,  1.01467311e-01, -1.01680480e+00,  4.10530961e-01])), (0.011158006125114354, array([-1.43294059e+00,  3.66982259e-06, -3.63621837e+01,  9.63111503e+01,\n",
      "       -9.19491949e+01,  3.24910188e+01, -3.48415296e+00, -1.65543145e+00,\n",
      "        8.86925560e-01,  2.31101752e-01, -1.18484859e+00,  4.70994647e-01])), (0.011198223932008203, array([-1.44413035e+00,  2.69971874e-06, -6.26877772e+01,  1.12680230e+02,\n",
      "       -1.03512903e+02,  3.29753216e+01, -3.04462259e+00, -1.78568165e+00,\n",
      "        1.03285401e+00,  1.12493978e-01, -1.14140131e+00,  4.69017986e-01])), (0.011552674970585163, array([-1.60697155e+00, -5.57921346e-06, -2.34561513e+01,  9.38242378e+01,\n",
      "       -8.94105852e+01,  3.15828755e+01, -2.38706941e+00, -1.92043971e+00,\n",
      "        7.42011316e-01,  5.79346142e-01, -1.48808377e+00,  5.62032019e-01])), (0.013479809605899146, array([-1.15211281e+00,  2.36790069e-05, -1.03128248e+02,  1.06173574e+02,\n",
      "       -8.31531440e+01,  1.87634252e+01, -1.03425776e+00, -2.10385664e+00,\n",
      "        1.91478650e+00, -1.02808406e+00, -4.04445873e-01,  2.88906401e-01])), (56.68190592362866, array([ 4.21813176e+00,  1.28438711e-02,  7.18447209e+02,  2.79873504e+01,\n",
      "       -3.64063120e+01,  1.55668343e+01, -3.59671207e+00,  7.18079901e-02,\n",
      "       -7.56657066e-02,  2.53180527e-01, -4.96952030e-01, -4.27379804e-02])), (56.68190592362866, array([ 1.49705729e+00,  8.14531512e-03, -8.15988329e+02,  5.87519886e+02,\n",
      "       -1.01285873e+03,  5.10026120e+02, -1.11686150e+01,  1.51343754e+00,\n",
      "        1.15612472e-01, -4.84858749e-01,  3.56870076e-01, -2.09915075e-01])), (56.68190592362866, array([ 1.54864560e+00,  1.06062750e-02, -3.00996729e+02,  3.32437763e+02,\n",
      "       -3.39714171e+02,  9.93126859e+01, -2.04873166e+01,  1.12932344e+00,\n",
      "       -7.73962738e-02, -1.97622239e-01,  1.14699068e-01, -1.23093792e-01]))]\n"
     ]
    },
    {
     "name": "stdout",
     "output_type": "stream",
     "text": [
      "0  sd2: ini 0.011108005720799213sd2: final 0.011106624065765763\n",
      "1  sd2: ini 0.011158006125114354sd2: final 0.011143812962394424\n",
      "2  sd2: ini 0.011198223932008203sd2: final 0.011174194739372017\n",
      "3  sd2: ini 0.011552674970585163sd2: final 0.011511957186274928\n",
      "4  sd2: ini 0.013479809605899146sd2: final 0.011103948826256914\n",
      "5  sd2: ini 56.68190592362866sd2: final 56.68190592362866\n",
      "6  sd2: ini 56.68190592362866sd2: final 56.68190592362866\n",
      "7  sd2: ini 56.68190592362866sd2: final 56.68190592362866\n",
      "Best params: [(0.011103948826256914, array([-1.33413043e+00,  9.37970755e-06, -5.75377065e+01,  1.12906622e+02,\n",
      "       -1.09198551e+02,  3.75569540e+01, -4.80721182e+00, -1.44348772e+00,\n",
      "        8.86043571e-01,  1.05498743e-01, -1.04367588e+00,  4.22926086e-01])), (0.011106624065765763, array([-1.30754680e+00,  1.05556182e-05, -5.82019358e+01,  1.14377420e+02,\n",
      "       -1.11827997e+02,  3.90201628e+01, -5.30094798e+00, -1.34087574e+00,\n",
      "        8.52273668e-01,  9.92542860e-02, -1.01652165e+00,  4.11270090e-01])), (0.011143812962394424, array([-1.41402195e+00,  5.35320985e-06, -5.16261684e+01,  1.10371941e+02,\n",
      "       -1.05959743e+02,  3.61392342e+01, -4.07116801e+00, -1.60983705e+00,\n",
      "        8.54025601e-01,  2.38645310e-01, -1.17292419e+00,  4.63654073e-01])), (0.011174194739372017, array([-1.43779074e+00,  4.70653549e-06, -5.16966890e+01,  1.03423222e+02,\n",
      "       -9.49704791e+01,  3.06586316e+01, -2.68759167e+00, -1.86424092e+00,\n",
      "        1.04297304e+00,  1.07957320e-01, -1.14017026e+00,  4.67268219e-01])), (0.011511957186274928, array([-1.60952033e+00, -4.21492212e-06, -4.44596692e+01,  1.04535947e+02,\n",
      "       -9.55921920e+01,  3.04656703e+01, -1.63873842e+00, -2.15053286e+00,\n",
      "        8.74606063e-01,  4.96619746e-01, -1.46641017e+00,  5.61256191e-01])), (56.68190592362866, array([ 4.21813176e+00,  1.28438711e-02,  7.18447209e+02,  2.79873504e+01,\n",
      "       -3.64063120e+01,  1.55668343e+01, -3.59671207e+00,  7.18079901e-02,\n",
      "       -7.56657066e-02,  2.53180527e-01, -4.96952030e-01, -4.27379804e-02])), (56.68190592362866, array([ 1.49705729e+00,  8.14531512e-03, -8.15988329e+02,  5.87519886e+02,\n",
      "       -1.01285873e+03,  5.10026120e+02, -1.11686150e+01,  1.51343754e+00,\n",
      "        1.15612472e-01, -4.84858749e-01,  3.56870076e-01, -2.09915075e-01])), (56.68190592362866, array([ 1.54864560e+00,  1.06062750e-02, -3.00996729e+02,  3.32437763e+02,\n",
      "       -3.39714171e+02,  9.93126859e+01, -2.04873166e+01,  1.12932344e+00,\n",
      "       -7.73962738e-02, -1.97622239e-01,  1.14699068e-01, -1.23093792e-01]))]\n",
      "0  sd2: ini 0.011103948826256914sd2: final 0.011103943848730787\n",
      "1  sd2: ini 0.011106624065765763sd2: final 0.011105974521898796\n",
      "2  sd2: ini 0.011143812962394424sd2: final 0.011139600284649135\n",
      "3  sd2: ini 0.011174194739372017sd2: final 0.011129713052974144\n",
      "4  sd2: ini 0.011511957186274928sd2: final 0.011504636993528907\n",
      "5  sd2: ini 56.68190592362866sd2: final 56.68190592362866\n",
      "6  sd2: ini 56.68190592362866sd2: final 56.68190592362866\n",
      "7  sd2: ini 56.68190592362866sd2: final 56.68190592362866\n",
      "Best params: [(0.011103943848730787, array([-1.33412031e+00,  9.38232931e-06, -5.78262939e+01,  1.13148569e+02,\n",
      "       -1.09422940e+02,  3.76092902e+01, -4.81443205e+00, -1.44280219e+00,\n",
      "        8.85666588e-01,  1.05657686e-01, -1.04369402e+00,  4.22920224e-01])), (0.011105974521898796, array([-1.30971088e+00,  1.07958330e-05, -5.96525965e+01,  1.15531211e+02,\n",
      "       -1.12718163e+02,  3.90271872e+01, -5.26018215e+00, -1.35783364e+00,\n",
      "        8.59048108e-01,  9.34124800e-02, -1.01576536e+00,  4.11770667e-01])), (0.011129713052974144, array([-1.40229829e+00,  5.52546522e-06, -4.77741439e+01,  1.05959576e+02,\n",
      "       -1.01647855e+02,  3.51316351e+01, -4.01254766e+00, -1.59074270e+00,\n",
      "        8.76973630e-01,  2.04033594e-01, -1.14709272e+00,  4.56885959e-01])), (0.011139600284649135, array([-1.41871147e+00,  4.99298803e-06, -5.17746171e+01,  1.08706166e+02,\n",
      "       -1.03287445e+02,  3.48268045e+01, -3.72373643e+00, -1.67342068e+00,\n",
      "        9.05049887e-01,  2.04315867e-01, -1.16313293e+00,  4.64021476e-01])), (0.011504636993528907, array([-1.61530303e+00, -5.24634572e-06, -3.43915841e+01,  9.88565883e+01,\n",
      "       -9.12991985e+01,  3.00614976e+01, -1.68303884e+00, -2.10648618e+00,\n",
      "        8.60798398e-01,  5.02054463e-01, -1.46752082e+00,  5.62525613e-01])), (56.68190592362866, array([ 4.21813176e+00,  1.28438711e-02,  7.18447209e+02,  2.79873504e+01,\n",
      "       -3.64063120e+01,  1.55668343e+01, -3.59671207e+00,  7.18079901e-02,\n",
      "       -7.56657066e-02,  2.53180527e-01, -4.96952030e-01, -4.27379804e-02])), (56.68190592362866, array([ 1.49705729e+00,  8.14531512e-03, -8.15988329e+02,  5.87519886e+02,\n",
      "       -1.01285873e+03,  5.10026120e+02, -1.11686150e+01,  1.51343754e+00,\n",
      "        1.15612472e-01, -4.84858749e-01,  3.56870076e-01, -2.09915075e-01])), (56.68190592362866, array([ 1.54864560e+00,  1.06062750e-02, -3.00996729e+02,  3.32437763e+02,\n",
      "       -3.39714171e+02,  9.93126859e+01, -2.04873166e+01,  1.12932344e+00,\n",
      "       -7.73962738e-02, -1.97622239e-01,  1.14699068e-01, -1.23093792e-01]))]\n"
     ]
    }
   ],
   "source": [
    "for ieam in range(9, len(stats_opts[it]['hyperparams'])):\n",
    "    print('ieam:', ieam)\n",
    "    m_pars = multi_pars\n",
    "    for i in range(6):\n",
    "        best_pars = optimize_EAM(target, stats, ieam, m_pars, n_b=len(m_pars))\n",
    "        m_pars = [p[1] for p in best_pars]"
   ]
  },
  {
   "cell_type": "code",
   "execution_count": 19,
   "metadata": {
    "collapsed": true
   },
   "outputs": [],
   "source": [
    "optimal_parameters = [(4.407570269501649e-05, [-1.21658318e+00,  3.24863580e-05, -4.73661687e+01,  2.29965951e+01,\n",
    "       -3.42248343e+00,  3.73956980e+00, -1.39292737e+00, -8.33458565e-01,\n",
    "        9.29769431e-01, -1.83568989e-01]), (6.17447812420396e-05, [-1.30551487e+00,  1.41920657e-05, -4.61160967e+01,  2.29352328e+01,\n",
    "       -3.42360958e+00,  3.82313395e+00, -1.54715703e+00, -6.97925842e-01,\n",
    "        8.68730239e-01, -1.54592379e-01]), (9.723561709685708e-05, [-1.34624502e+00,  7.49457487e-06, -4.58871674e+01,  2.24064873e+01,\n",
    "       -3.46516902e+00,  4.02263760e+00, -1.89661680e+00, -4.31617423e-01,\n",
    "        8.06406324e-01, -1.37562101e-01]), (0.00014123622250142564, [-1.34136558e+00,  1.01769934e-05, -4.93998032e+01,  2.21279115e+01,\n",
    "       -3.50791272e+00,  4.16822104e+00, -2.13414308e+00, -2.66237999e-01,\n",
    "        7.83819577e-01, -1.36703203e-01])]"
   ]
  },
  {
   "cell_type": "code",
   "execution_count": 20,
   "metadata": {},
   "outputs": [
    {
     "ename": "NameError",
     "evalue": "name 'ieam9' is not defined",
     "output_type": "error",
     "traceback": [
      "\u001b[0;31m---------------------------------------------------------------------------\u001b[0m",
      "\u001b[0;31mNameError\u001b[0m                                 Traceback (most recent call last)",
      "\u001b[0;32m<ipython-input-20-11f9454474f9>\u001b[0m in \u001b[0;36m<module>\u001b[0;34m()\u001b[0m\n\u001b[0;32m----> 1\u001b[0;31m \u001b[0moptimal_parameters\u001b[0m \u001b[0;34m=\u001b[0m \u001b[0;34m[\u001b[0m\u001b[0mieam9\u001b[0m\u001b[0;34m]\u001b[0m\u001b[0;34m\u001b[0m\u001b[0m\n\u001b[0m",
      "\u001b[0;31mNameError\u001b[0m: name 'ieam9' is not defined"
     ]
    }
   ],
   "source": [
    "optimal_parameters = [ieam9]"
   ]
  },
  {
   "cell_type": "code",
   "execution_count": null,
   "metadata": {},
   "outputs": [],
   "source": [
    "plt.figure(figsize=(20,10))\n",
    "\n",
    "nat = np.array([len(x) for x in targ_ready['relax']['xyz']])[:-2]\n",
    "print(len(nat))\n",
    "\n",
    "for i, params_uopt in enumerate(optimal_parameters):\n",
    "\n",
    "    #print(params_uopt[1])\n",
    "\n",
    "    opti_out, targ_out = udif_print(params_uopt[1], stats, target, utot_EAM, [9])\n",
    "    plt.title('Selected configurations at 0K')\n",
    "    if i == 0:\n",
    "        print('Targ:', targ_out[-4][:-2])\n",
    "        print('Model:', opti_out[-4][:-2])\n",
    "\n",
    "        #nat = np.array([len(x) for x in targ_dict['relax']['xyz']])\n",
    "        print(len(np.array(targ_out[-4][:-2]))/nat)\n",
    "        plt.plot(np.array(targ_out[-4][:-2])/nat, 'o', label='target'+str(i), markersize=10)\n",
    "        \n",
    "    #if params_uopt[0] > 0.6e-3:\n",
    "    #    continue\n",
    "    print('Model:', opti_out[-4][:-2])\n",
    "\n",
    "    #if i != 10 and i != 12:\n",
    "    #    continue\n",
    "    print(i, params_uopt[0])\n",
    "\n",
    "        \n",
    "    #print('Opti:', [o for o in opti_out[-1][:-1]])\n",
    "    plt.plot(np.array([o for o in opti_out[-4][:-2]])/nat, 'x--', label='optimized '+str(i))\n",
    "#    else:\n",
    "#        plt.plot([o for o in opti_out[-1][:-1]], 'x--', label='optimized '+str(i))\n",
    "#        plt.plot(targ_out[-1][:-1], 'o', markersize=10)\n",
    "\n",
    "plt.xticks([0, 1, 2, 3, 4, 5, 6], ['BCC','FCC', 'vacancy','110','111','liq','inf'])\n",
    "plt.ylabel('Energy [eV]')\n",
    "#plt.ylim(-1145, -1136)\n",
    "#plt.ylim(-8.905, -8.7533)\n",
    "#plt.ylim(-8.9, -8.35)\n",
    "#plt.xlim(0, 4)\n",
    "\n",
    "plt.legend()"
   ]
  },
  {
   "cell_type": "code",
   "execution_count": null,
   "metadata": {},
   "outputs": [],
   "source": [
    "plt.figure(figsize=(20,10))\n",
    "\n",
    "nat = np.array([len(x) for x in targ_ready['eos_bcc']['xyz']])[:-1]\n",
    "print(len(nat))\n",
    "\n",
    "for i, params_uopt in enumerate(optimal_parameters):\n",
    "\n",
    "    #print(params_uopt[1])\n",
    "\n",
    "    opti_out, targ_out = udif_print(params_uopt[1], stats, target, utot_EAM, [9])\n",
    "    plt.title('Selected configurations at 0K')\n",
    "    if i == 0:\n",
    "        print('Targ:', targ_out[-2][:])\n",
    "        print('Model:', opti_out[-2][:])\n",
    "\n",
    "        #nat = np.array([len(x) for x in targ_dict['relax']['xyz']])\n",
    "        print(len(np.array(targ_out[-2][:-1]))/nat)\n",
    "        plt.plot(np.array(targ_out[-2][:-1])/nat, 'o', label='target'+str(i), markersize=10)\n",
    "        \n",
    "    #if params_uopt[0] > 0.6e-3:\n",
    "    #    continue\n",
    "    #if i != 10 and i != 12:\n",
    "    #    continue\n",
    "    print(i, params_uopt[0])\n",
    "\n",
    "        \n",
    "    #print('Opti:', [o for o in opti_out[-1][:-1]])\n",
    "    plt.plot( np.array([o for o in opti_out[-2][:-1]])/nat, 'x--', label='optimized '+str(i))\n",
    "#    else:\n",
    "#        plt.plot([o for o in opti_out[-1][:-1]], 'x--', label='optimized '+str(i))\n",
    "#        plt.plot(targ_out[-1][:-1], 'o', markersize=10)\n",
    "\n",
    "#plt.xticks([0, 1, 2, 3, 4, 5, 6], ['BCC','FCC', 'vacancy','110','111','liq','inf'])\n",
    "plt.ylabel('Energy [eV]')\n",
    "#plt.ylim(-1145, -1136)\n",
    "#plt.ylim(-8.905, -8.7533)\n",
    "#plt.ylim(-8.9, -8.35)\n",
    "#plt.xlim(0, 4)\n",
    "\n",
    "plt.legend()"
   ]
  },
  {
   "cell_type": "code",
   "execution_count": null,
   "metadata": {},
   "outputs": [],
   "source": [
    "len(targ_ready['md']['xyz'])"
   ]
  },
  {
   "cell_type": "code",
   "execution_count": null,
   "metadata": {},
   "outputs": [],
   "source": [
    "plt.figure(figsize=(20,10))\n",
    "\n",
    "nat = np.array([len(x) for x in targ_ready['md']['xyz']])[:]\n",
    "print(len(nat))\n",
    "\n",
    "for i, params_uopt in enumerate(optimal_parameters):\n",
    "\n",
    "    #print(params_uopt[1])\n",
    "\n",
    "    opti_out, targ_out = udif_print(params_uopt[1], stats, target, utot_EAM,[9])\n",
    "    #plt.title('Selected configurations at 0K')\n",
    "    if i == 0:\n",
    "        #print('Targ:', targ_out[0][:])\n",
    "        #print('Model:', opti_out[0][:])\n",
    "\n",
    "        #nat = np.array([len(x) for x in targ_dict['relax']['xyz']])\n",
    "        print(len(np.array(targ_out[0][:]))/nat)\n",
    "        #plt.plot(np.array(targ_out[0][:])/nat, 'o', label='target'+str(i), markersize=10)\n",
    "        plt.plot(np.array(targ_out[0][:]), 'o', label='target'+str(i), markersize=5)\n",
    "\n",
    "        \n",
    "    #if params_uopt[0] > 0.6e-3:\n",
    "    #    continue\n",
    "    #if i != 1:# and i != 12:\n",
    "    #    continue\n",
    "    print(i, params_uopt[0])\n",
    "\n",
    "    #print('Opti:', [o for o in opti_out[-1][:-1]])\n",
    "    #plt.plot(np.array([o for o in opti_out[0][:]])/nat, 'x--', label='optimized '+str(i))\n",
    "    plt.plot(np.array([o for o in opti_out[0][:]]), '--', label='optimized '+str(i), lw=1.0)\n",
    "\n",
    "#    else:\n",
    "#        plt.plot([o for o in opti_out[-1][:-1]], 'x--', label='optimized '+str(i))\n",
    "#        plt.plot(targ_out[-1][:-1], 'o', markersize=10)\n",
    "\n",
    "#plt.xticks([0, 1, 2, 3, 4, 5, 6], ['BCC','FCC', 'vacancy','110','111','liq','inf'])\n",
    "plt.ylabel('Energy [eV]', fontsize=30)\n",
    "plt.xlabel('configuation #', fontsize=30)\n",
    "plt.xticks(fontsize=20)\n",
    "plt.yticks(fontsize=20)\n",
    "\n",
    "#plt.ylim(-1145, -1136)\n",
    "#plt.ylim(-8.905, -8.533)\n",
    "#plt.ylim(-8.9, -8.35)\n",
    "\n",
    "#plt.ylim(-1075,-1035)\n",
    "#plt.ylim(-1000,-900)\n",
    "#plt.ylim(-950,-900)\n",
    "#plt.ylim(-1136,-1133)\n",
    "plt.ylim(-1180,-800)\n",
    "plt.xlim(0,820)\n",
    "#plt.xlim(847,990)\n",
    "\n",
    "#plt.ylim(-1180,-800)\n",
    "\n",
    "plt.legend(fontsize=30)\n",
    "plt.savefig(plt.savefig(os.path.join(working, 'bcc_300.png')))"
   ]
  },
  {
   "cell_type": "code",
   "execution_count": null,
   "metadata": {},
   "outputs": [],
   "source": [
    "for i, params_uopt in enumerate(optimal_parameters):\n",
    "    if params_uopt[0] > 1.1e-3:\n",
    "        continue\n",
    "    print(i, params_uopt[0], '\\n', params_uopt[1])"
   ]
  },
  {
   "cell_type": "code",
   "execution_count": null,
   "metadata": {},
   "outputs": [],
   "source": [
    "stats_opts[it]['hyperparams']"
   ]
  },
  {
   "cell_type": "code",
   "execution_count": null,
   "metadata": {
    "collapsed": true
   },
   "outputs": [],
   "source": [
    "pars_out = {}\n",
    "pars_out['pair_nodes'] = stats_opts[it]['hyperparams']\n",
    "pars_out['mb_node'] = 6\n",
    "pars_out['params'] = [optimal_parameters[1]]"
   ]
  },
  {
   "cell_type": "code",
   "execution_count": null,
   "metadata": {
    "collapsed": true
   },
   "outputs": [],
   "source": [
    "optimal_list = []\n",
    "\n",
    "#with open(os.path.join(working, 'pars_out.pickle'), 'rb') as fi:\n",
    "#    optimal_list = pickle.load(fi)\n",
    "\n",
    "#if type(optimal_list) != list:\n",
    "#    optimal_list = [optimal_list]\n",
    "\n",
    "optimal_list.append(pars_out)\n",
    "\n",
    "with open(os.path.join(working, 'pars_out.pickle'), 'wb') as fo:\n",
    "    pickle.dump(optimal_list, fo)"
   ]
  },
  {
   "cell_type": "code",
   "execution_count": null,
   "metadata": {
    "collapsed": true
   },
   "outputs": [],
   "source": [
    "with open(os.path.join(working, 'pars_out.pickle'), 'rb') as fi:\n",
    "    optimal_list = pickle.load(fi)"
   ]
  },
  {
   "cell_type": "code",
   "execution_count": null,
   "metadata": {},
   "outputs": [],
   "source": [
    "optimal_list"
   ]
  },
  {
   "cell_type": "code",
   "execution_count": null,
   "metadata": {
    "collapsed": true
   },
   "outputs": [],
   "source": [
    "# Total pair potential\n",
    "pos = targ_ready['relax']['xyz'][0]\n",
    "bx = targ_ready['relax']['box'][0]\n",
    "rr, rx = pair_dist_cutoff(pos, bx, 5.5)"
   ]
  },
  {
   "cell_type": "code",
   "execution_count": null,
   "metadata": {
    "collapsed": true
   },
   "outputs": [],
   "source": [
    "# embedding function\n",
    "F = lambda d, a: a[0]*d**0.5 + a[1]*d + a[2]*d**2\n",
    "\n",
    "V = lambda r, aa, cc: sum([a*(rc - r)**3 for a, rc in zip(aa, cc) if r < rc])\n",
    "\n",
    "# Cohesive potential (cubic splines - same form as V)\n",
    "phi = lambda r, aa, cc: sum([a*(rc - r)**3 for a, rc in zip(aa, cc) if r < rc])\n",
    "\n",
    "rho = lambda r, aa, kk: sum([a*(rk - r)**3 for a, rk in zip(aa, kk) if r < rk and r > 0.01])"
   ]
  },
  {
   "cell_type": "code",
   "execution_count": null,
   "metadata": {},
   "outputs": [],
   "source": [
    "optimal_list[-1]['params'][0][1]"
   ]
  },
  {
   "cell_type": "code",
   "execution_count": null,
   "metadata": {
    "collapsed": true
   },
   "outputs": [],
   "source": [
    "#optimal_parameters.append(tuple([output[1:], params_uopt]))\n",
    "pair_y = optimal_list[-1]['params'][0][1][2:]\n",
    "par = optimal_list[-1]['params'][0][1][:2]\n",
    "many_y = [par[0], 0.0, par[1]]\n",
    "V_x_r = optimal_list[-1]['pair_nodes'] #stats_opt['hyperparams']\n",
    "rho_x_r = [V_x_r[optimal_list[-1]['mb_node']]] #stats_opt['hyperparams'][4:5]\n",
    "rho_x_a = [1.0]"
   ]
  },
  {
   "cell_type": "code",
   "execution_count": null,
   "metadata": {},
   "outputs": [],
   "source": [
    "pair_y, many_y, V_x_r, rho_x_r"
   ]
  },
  {
   "cell_type": "code",
   "execution_count": null,
   "metadata": {
    "collapsed": true
   },
   "outputs": [],
   "source": [
    "ene = []\n",
    "for a in np.linspace(0.5, 2.0, 101):\n",
    "    z = a*rr\n",
    "    u_pair = 0.5*np.sum([V(x, pair_y, V_x_r) for x in z.flatten() if x > 0.1])\n",
    "\n",
    "    u_many = 0.0\n",
    "    for i in range(z.shape[0]):\n",
    "        d = np.sum([phi(x, rho_x_a, rho_x_r) for x in z[i] if x > 0.1])\n",
    "        u_many += F(d, many_y)\n",
    "\n",
    "    ene.append([a, u_pair, u_many, u_pair+u_many])\n",
    "\n",
    "ene = np.array(ene)"
   ]
  },
  {
   "cell_type": "code",
   "execution_count": null,
   "metadata": {},
   "outputs": [],
   "source": [
    "#plt.plot(ene[:,0], ene[:,1]/54, label='pair')\n",
    "#plt.plot(ene[:,0], ene[:,2]/54, label='manybody')\n",
    "plt.title('Equation of state (T=0K)')\n",
    "plt.plot(ene[:,0]*2.74, [universal_eos(x, 'W') for x in ene[:,0]], label='universal EOS')\n",
    "plt.plot(ene[:,0]*2.74, ene[:,3]/128, label='u-total')\n",
    "plt.hlines(0.0,0.5,6.0,lw=1)\n",
    "plt.legend()\n",
    "plt.xlim(2.0, 5.75)\n",
    "plt.xlim(2.6, 2.85)\n",
    "plt.ylim(-10,10)\n",
    "plt.ylim(-9.,-8.5)\n",
    "\n",
    "plt.xlabel('x')\n",
    "plt.ylabel(r'U')"
   ]
  },
  {
   "cell_type": "code",
   "execution_count": null,
   "metadata": {
    "collapsed": true
   },
   "outputs": [],
   "source": [
    "#optimal_parameters.append(tuple([output[1:], params_uopt]))\n",
    "pair_y = optimal_list[-1]['params'][0][1][2:]\n",
    "par = optimal_list[-1]['params'][0][1][:2]\n",
    "many_y = [par[0], 0.0, par[1]]\n",
    "V_x_r = optimal_list[-1]['pair_nodes'] #stats_opt['hyperparams']\n",
    "rho_x_r = [V_x_r[optimal_list[-1]['mb_node']]] #stats_opt['hyperparams'][4:5]\n",
    "rho_x_a = [1.0]"
   ]
  },
  {
   "cell_type": "code",
   "execution_count": null,
   "metadata": {},
   "outputs": [],
   "source": [
    "V_x_r"
   ]
  },
  {
   "cell_type": "code",
   "execution_count": null,
   "metadata": {
    "collapsed": true
   },
   "outputs": [],
   "source": [
    "pair_a = optimal_list[-1]['params'][0][1][2:]#pars_in1[2:]\n",
    "pair_r = optimal_list[-1]['pair_nodes']\n",
    "\n",
    "rho_a = [1.0]\n",
    "rho_r = [pair_r[optimal_list[-1]['mb_node']]]\n",
    "\n",
    "par = optimal_list[-1]['params'][0][1][:2]\n",
    "many_a = [par[0], 0.0, par[1]]"
   ]
  },
  {
   "cell_type": "code",
   "execution_count": null,
   "metadata": {},
   "outputs": [],
   "source": [
    "# Ranges of densities and separations\n",
    "\n",
    "nr = 5000\n",
    "rcut = pair_r[-1]#stats_opt['hyperparams'][-1]\n",
    "dr = rcut/nr\n",
    "\n",
    "rhomax = 12.0*phi(1.5, rho_a, rho_r)\n",
    "print('rhomax:', rhomax)\n",
    "rhomax = 1000.0\n",
    "nrho = 5000\n",
    "drho = rhomax/nrho\n",
    "\n",
    "ri = 1.0\n",
    "ro = 2.0\n",
    "\n",
    "# W properties\n",
    "na = 74\n",
    "ma = 183.84\n",
    "lc = 3.1653\n",
    "alat = 'bcc'\n",
    "\n",
    "# System composition\n",
    "n_el = 1\n",
    "el_name = ['W']"
   ]
  },
  {
   "cell_type": "code",
   "execution_count": null,
   "metadata": {
    "collapsed": true
   },
   "outputs": [],
   "source": [
    "def u_trans(r, unucl, ueq, ri=1.0, ro=2.0):\n",
    "    \"\"\"Transition between the core and equillibrium potentials\"\"\"\n",
    "    if r < ri:\n",
    "        return unucl\n",
    "    elif r < ro:\n",
    "        x = (ro + ri - 2*r)/(ro - ri)\n",
    "        eta = 3/16*x**5 - 5/8*x**3 + 15/16*x + 1/2\n",
    "        return ueq + eta*(unucl - ueq)\n",
    "    else:\n",
    "        return ueq"
   ]
  },
  {
   "cell_type": "code",
   "execution_count": null,
   "metadata": {
    "collapsed": true
   },
   "outputs": [],
   "source": [
    "# prepare lists of values\n",
    "dens = np.linspace(0., rhomax-drho, nrho, endpoint=True)\n",
    "r = np.linspace(0., rcut-dr, nr, endpoint=True)\n",
    "r2 = np.linspace(0., rcut, 201)\n",
    "\n",
    "fembd = [F(d, many_a) for d in dens] # W\n",
    "edens = np.array([phi(x, rho_a, rho_r) for x in r])\n",
    "\n",
    "# 1. Cubic spline for r > r_o\n",
    "f_outer = [V(x, pair_a, pair_r) for i, x in enumerate(r)]\n",
    "# 2. Repulsive core for r < r_i (precalculate up to r_o)\n",
    "f_inner = [0.0] + [u_core(x) for x in r[1:]]\n",
    "# 3. Transition region for r_i < r < r_o\n",
    "fpair = [x*u_trans(x, f_inner[i], f_outer[i]) for i, x in enumerate(r)]\n",
    "#fpair = f_outer"
   ]
  },
  {
   "cell_type": "code",
   "execution_count": null,
   "metadata": {
    "collapsed": true
   },
   "outputs": [],
   "source": [
    "# LAMMPS format\n",
    "pot_path = '../sim/potentials'\n",
    "\n",
    "with open(os.path.join(pot_path, 'W_lv_3.eam.fs'), 'w') as fo:\n",
    "    \n",
    "    # Comment section\n",
    "    fo.write('Comment 1\\n')\n",
    "    fo.write('Comment 2\\n')\n",
    "    fo.write('Comment 3\\n')\n",
    "    \n",
    "    # Number of elements\n",
    "    fo.write(f\"{n_el:5d} \")\n",
    "    for i in range(n_el):\n",
    "        fo.write(f\"{el_name[i]:2}\")\n",
    "    fo.write(\"\\n\")\n",
    "    \n",
    "    # number of grid points, step size, and cutoff\n",
    "    fo.write(f\"{nrho:5d}{drho:24.16e}{nr:5d}{dr:24.16e}{rcut:24.16e}\\n\")\n",
    "    \n",
    "    # atomic number, mass, lattice size, lattice type\n",
    "    fo.write(f\"{na:5d} {ma:14.4f} {lc:14.4f} {alat:10}\\n\")\n",
    "    \n",
    "    # Embeding function\n",
    "    for i in range(nrho//4):\n",
    "        fo.write(\"{0:20.12e}{1:20.12e}{2:20.12e}{3:20.12e}\\n\".format(*fembd[i*4:i*4+4]))\n",
    "    \n",
    "    # Electronic density\n",
    "    for i in range(nr//4):\n",
    "        fo.write(\"{0:20.12e}{1:20.12e}{2:20.12e}{3:20.12e}\\n\".format(*edens[i*4:i*4+4]))\n",
    "        \n",
    "    # Pair potential\n",
    "    for i in range(nr//4):\n",
    "        fo.write(\"{0:20.12e}{1:20.12e}{2:20.12e}{3:20.12e}\\n\".format(*fpair[i*4:i*4+4]))"
   ]
  },
  {
   "cell_type": "code",
   "execution_count": null,
   "metadata": {
    "collapsed": true
   },
   "outputs": [],
   "source": []
  }
 ],
 "metadata": {
  "kernelspec": {
   "display_name": "Python 3",
   "language": "python",
   "name": "python3"
  },
  "language_info": {
   "codemirror_mode": {
    "name": "ipython",
    "version": 3
   },
   "file_extension": ".py",
   "mimetype": "text/x-python",
   "name": "python",
   "nbconvert_exporter": "python",
   "pygments_lexer": "ipython3",
   "version": "3.6.1"
  }
 },
 "nbformat": 4,
 "nbformat_minor": 2
}
