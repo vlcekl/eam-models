{
 "cells": [
  {
   "cell_type": "code",
   "execution_count": 1,
   "metadata": {
    "collapsed": true
   },
   "outputs": [],
   "source": [
    "import os\n",
    "import sys\n",
    "import re\n",
    "import numpy as np\n",
    "%matplotlib inline\n",
    "import matplotlib.pyplot as plt\n",
    "import copy\n",
    "import pickle\n",
    "from scipy.optimize import fmin"
   ]
  },
  {
   "cell_type": "code",
   "execution_count": 2,
   "metadata": {
    "collapsed": true
   },
   "outputs": [],
   "source": [
    "%load_ext autoreload\n",
    "%autoreload 2"
   ]
  },
  {
   "cell_type": "code",
   "execution_count": 3,
   "metadata": {
    "collapsed": true
   },
   "outputs": [],
   "source": [
    "sys.path.append('../../statmechlib')\n",
    "from statmechlib.read_write import read_vasp\n",
    "from statmechlib.preprocessing import Trajectory, select_nodes, scale_configuration, pair_dist_cutoff\n",
    "from statmechlib.preprocessing import pair_dist, force_targ, get_stats_EAM, get_stats_EAM_pairdist\n",
    "from statmechlib.forcefields import sd2_loss, utot_EAM, ftot_EAM, udif_print, u_core\n",
    "from statmechlib.preprocessing import universal_eos"
   ]
  },
  {
   "cell_type": "code",
   "execution_count": 4,
   "metadata": {
    "collapsed": true
   },
   "outputs": [],
   "source": [
    "target_raw = '../data/target_raw'\n",
    "target_proc = '../data/target_processed'\n",
    "working = '../data/working'"
   ]
  },
  {
   "cell_type": "code",
   "execution_count": 5,
   "metadata": {
    "collapsed": true
   },
   "outputs": [],
   "source": [
    "n = int((1.45-0.85)/0.05 + 0.01)\n",
    "reos = np.linspace(0.85, 1.45, n+1)*2.74\n",
    "#for i, scale in enumerate(np.linspace(0.85, 1.45, 13)):\n",
    "#    print(round(reos[i], 3), universal_eos(scale, 'W'))"
   ]
  },
  {
   "cell_type": "code",
   "execution_count": 6,
   "metadata": {
    "collapsed": true
   },
   "outputs": [],
   "source": [
    "with open(os.path.join(working, 'stats_ready'+'.pickle'), 'rb') as fi:\n",
    "    stats_ready = pickle.load(fi)\n",
    "\n",
    "with open(os.path.join(working, 'target_ready'+'.pickle'), 'rb') as fi:\n",
    "    targ_ready = pickle.load(fi)   "
   ]
  },
  {
   "cell_type": "code",
   "execution_count": 7,
   "metadata": {},
   "outputs": [
    {
     "name": "stdout",
     "output_type": "stream",
     "text": [
      "[2.5, 2.65, 2.75, 3.0, 3.25, 3.5, 3.75, 4.0, 4.25, 4.356, 4.5, 4.75, 5.0, 5.25, 5.5, 5.75]\n"
     ]
    }
   ],
   "source": [
    "print(stats_ready['hyperparams'])"
   ]
  },
  {
   "cell_type": "code",
   "execution_count": 8,
   "metadata": {
    "collapsed": true
   },
   "outputs": [],
   "source": [
    "multi_index = []\n",
    "multi_index.append([0, 2, 3, 5, 7, 10, 12, 15])\n",
    "multi_index.append([0, 2, 4, 6, 8, 10, 12, 14])\n",
    "multi_index.append([0, 2, 4, 6, 8, 11, 13, 15])\n",
    "multi_index.append([1, 2, 3, 5, 7, 10, 12, 14])\n",
    "multi_index.append([1, 2, 4, 6, 8, 11, 13, 15])\n",
    "multi_index.append([1, 2, 4, 6, 9, 11, 13, 15])\n",
    "multi_index.append([1, 3, 5, 7, 9, 11, 13, 15])"
   ]
  },
  {
   "cell_type": "code",
   "execution_count": 9,
   "metadata": {},
   "outputs": [
    {
     "name": "stdout",
     "output_type": "stream",
     "text": [
      "[2.5  2.75 3.   3.5  4.   4.5  5.   5.75]\n",
      "[2.5  2.75 3.25 3.75 4.25 4.5  5.   5.5 ]\n",
      "[2.5  2.75 3.25 3.75 4.25 4.75 5.25 5.75]\n",
      "[2.65 2.75 3.   3.5  4.   4.5  5.   5.5 ]\n",
      "[2.65 2.75 3.25 3.75 4.25 4.75 5.25 5.75]\n",
      "[2.65  2.75  3.25  3.75  4.356 4.75  5.25  5.75 ]\n",
      "[2.65  3.    3.5   4.    4.356 4.75  5.25  5.75 ]\n"
     ]
    }
   ],
   "source": [
    "stats_opts = []\n",
    "for index in multi_index:\n",
    "    index = np.array([True if i in index else False for i in range(len(stats_ready['hyperparams']))])\n",
    "    print(np.array(stats_ready['hyperparams'])[index])\n",
    "    stats_opts.append(select_nodes(stats_ready, index))"
   ]
  },
  {
   "cell_type": "code",
   "execution_count": 10,
   "metadata": {
    "collapsed": true
   },
   "outputs": [],
   "source": [
    "#with open(os.path.join(working, \"stats_multi.pickle\"), 'wb') as fo:\n",
    "#    pickle.dump(stats_opts, fo)"
   ]
  },
  {
   "cell_type": "code",
   "execution_count": 11,
   "metadata": {
    "collapsed": true
   },
   "outputs": [],
   "source": [
    "#with open(os.path.join(working, \"target_multi.pickle\"), 'wb') as fo:\n",
    "#    pickle.dump(targ_ready, fo)"
   ]
  },
  {
   "cell_type": "code",
   "execution_count": 12,
   "metadata": {},
   "outputs": [
    {
     "name": "stdout",
     "output_type": "stream",
     "text": [
      "[-0.344540412587315, 1.6869558429105695e-05, 0.4527535290774057, 7.091857873610367, 1.6314949612839302, 0.7906877956550405, -0.8249673243680319, 0.14501087706040938, -0.002061634677032549, 0.0021894588902290147]\n"
     ]
    }
   ],
   "source": [
    "# read corresponding parameters\n",
    "with open(os.path.join(working, 'pars_in'+'.pickle'), 'rb') as fi:\n",
    "    pars_dict = pickle.load(fi)\n",
    "\n",
    "pars_in = pars_dict['embed'] + pars_dict['pair']\n",
    "print(pars_in)"
   ]
  },
  {
   "cell_type": "code",
   "execution_count": 13,
   "metadata": {
    "collapsed": true
   },
   "outputs": [],
   "source": [
    "with open(os.path.join(working, 'stats_multi.pickle'), 'rb') as fi:\n",
    "    stats_opts = pickle.load(fi)\n",
    "\n",
    "with open(os.path.join(working, 'target_multi.pickle'), 'rb') as fi:\n",
    "    targ_ready = pickle.load(fi)   "
   ]
  },
  {
   "cell_type": "code",
   "execution_count": 14,
   "metadata": {
    "collapsed": true
   },
   "outputs": [],
   "source": [
    "it = 6 # read in it (independent process)\n",
    "stats = []\n",
    "target = []\n",
    "for key in list(targ_ready.keys()):\n",
    "    stats.append(stats_opts[it][key])\n",
    "    target.append(targ_ready[key])"
   ]
  },
  {
   "cell_type": "code",
   "execution_count": 15,
   "metadata": {
    "collapsed": true
   },
   "outputs": [],
   "source": [
    "def optimize_EAM(target, stats, ieam, multi_pars, n_b=3):\n",
    "    \n",
    "    optimal_parameters = []\n",
    "    \n",
    "    for i, pars in enumerate(multi_pars):\n",
    "        sd_ini = sd2_loss(list(pars), stats, target, utot_EAM, None, [ieam])\n",
    "        print(i,' sd2: ini', sd_ini, end='')\n",
    "        output = fmin(sd2_loss, pars, args=(stats, target, utot_EAM, None, [ieam]), maxiter=100000, maxfun=100000, disp=0, full_output=1,ftol=1e-6)\n",
    "        optimal_parameters.append(tuple([output[1], output[0]]))\n",
    "        print('sd2: final', output[1])\n",
    "\n",
    "    n_best = min(n_b, len(optimal_parameters))\n",
    "                 \n",
    "    best_params = sorted(optimal_parameters)[:n_best]\n",
    "    \n",
    "    print('Best params:', best_params)\n",
    "\n",
    "    return best_params"
   ]
  },
  {
   "cell_type": "code",
   "execution_count": 16,
   "metadata": {},
   "outputs": [
    {
     "name": "stdout",
     "output_type": "stream",
     "text": [
      "[-7.05349043e-01  5.40587224e-02 -6.56052902e+01  2.29851665e+01\n",
      " -3.49068042e+00  3.53236343e+00 -8.97436227e-01 -1.14498216e+00\n",
      "  1.11942993e+00 -4.89204325e-01]\n",
      "[-7.66562455e-01  7.39231823e-03 -6.57385319e+01  2.30366036e+01\n",
      " -3.38634725e+00  3.59867444e+00 -8.93625045e-01 -1.38673014e+00\n",
      "  1.31232437e+00 -3.69216521e-01]\n",
      "[-7.82109380e-01 -1.13824910e-02 -6.57395758e+01  2.29657834e+01\n",
      " -3.42228090e+00  3.33719284e+00 -8.58798949e-01 -1.32576506e+00\n",
      "  1.21921881e+00 -4.52094124e-01]\n",
      "[-6.81581180e-01  1.86143393e-03 -6.57601033e+01  2.28267598e+01\n",
      " -3.47954270e+00  3.34414368e+00 -7.69853191e-01 -1.31433786e+00\n",
      "  1.30046419e+00 -3.20224026e-01]\n"
     ]
    }
   ],
   "source": [
    "multi_pars = []\n",
    "multi_pars.append(pars_in)\n",
    "multi_pars.append([-0.684229349, 0.000152487644, -65.6958142, 23.0194161, -3.48639263, 3.45615281, -0.88808358, -1.34315802, 1.24532843, -0.351200974])\n",
    "for _ in range(4):\n",
    "    pars = np.array(multi_pars[1])\n",
    "    pars += np.random.standard_normal(pars.shape)*0.07\n",
    "    print(pars)\n",
    "    multi_pars.append(pars)"
   ]
  },
  {
   "cell_type": "code",
   "execution_count": 17,
   "metadata": {},
   "outputs": [
    {
     "name": "stdout",
     "output_type": "stream",
     "text": [
      "ieam: 4\n",
      "0  sd2: ini 18.425863578695715sd2: final 0.0032147816492686244\n",
      "1  sd2: ini 19.784570593582824sd2: final 0.0010068425902770937\n",
      "2  sd2: ini 22.15250510033241sd2: final 0.008500402379824088\n",
      "3  sd2: ini 21.265351795065488sd2: final 0.0030627373836336386\n",
      "4  sd2: ini 16.04292139629084sd2: final 0.00732042125063797\n",
      "5  sd2: ini 21.480683175744957sd2: final 0.011582384208828216\n",
      "Best params: [(0.0010068425902770937, array([-2.37088501e+00,  5.37896949e-04,  4.35928594e+01, -1.02487281e+01,\n",
      "        4.06865141e+00,  1.58300653e+00, -4.47543458e+00,  2.73799266e+00,\n",
      "       -1.46805478e-01, -1.52009162e-01])), (0.0030627373836336386, array([ 6.48018027e-01,  1.70134960e-03,  4.61174473e+01, -1.40427002e+01,\n",
      "        3.11377523e+00,  3.63580863e+00, -4.22323288e+00,  9.63673006e-01,\n",
      "        6.42756875e-01, -3.82296409e-01])), (0.0032147816492686244, array([-2.26299733e+00,  4.37117634e-04,  1.72715190e-01,  1.67010857e+01,\n",
      "       -8.52143109e+00,  7.63617828e+00, -5.29840272e+00,  1.71476551e+00,\n",
      "        7.09599872e-03, -8.68840093e-02]))]\n",
      "0  sd2: ini 0.0010068425902770937sd2: final 9.341265918543679e-05\n",
      "1  sd2: ini 0.0030627373836336386sd2: final 0.00041044752351241396\n",
      "2  sd2: ini 0.0032147816492686244sd2: final 0.0008317713837135043\n",
      "Best params: [(9.341265918543679e-05, array([-1.23290009e+00,  7.90588078e-04,  3.02782269e+01, -2.66588626e+00,\n",
      "       -7.29927735e-02,  4.50013678e+00, -5.24917195e+00,  2.10659285e+00,\n",
      "        2.12331335e-01, -2.52824663e-01])), (0.00041044752351241396, array([-1.24548584e+00,  8.73554347e-04,  2.96657195e+01, -2.67387457e+00,\n",
      "       -2.61311089e+00,  8.03119539e+00, -6.99044113e+00,  1.26917527e+00,\n",
      "        1.22884357e+00, -5.32849919e-01])), (0.0008317713837135043, array([-1.38543039e+00,  7.08485701e-04,  5.86091608e+00,  1.10899131e+01,\n",
      "       -8.59576570e+00,  1.11121360e+01, -7.94154942e+00,  1.15411494e+00,\n",
      "        1.28225122e+00, -5.18941963e-01]))]\n",
      "0  sd2: ini 9.341265918543679e-05sd2: final 9.194340981129765e-05\n",
      "1  sd2: ini 0.00041044752351241396sd2: final 0.00026522878420880076\n",
      "2  sd2: ini 0.0008317713837135043sd2: final 0.00033290690556692776\n",
      "Best params: [(9.194340981129765e-05, array([-1.23556191e+00,  7.90242549e-04,  2.93297351e+01, -2.28205740e+00,\n",
      "       -1.62338679e-01,  4.50745492e+00, -5.26077264e+00,  2.13772028e+00,\n",
      "        1.90064483e-01, -2.46936523e-01])), (0.00026522878420880076, array([-1.42223036e+00,  7.32178950e-04,  2.35672148e+01,  6.92614163e-01,\n",
      "       -3.05432451e+00,  7.60139141e+00, -6.83428813e+00,  1.66171823e+00,\n",
      "        8.96273445e-01, -4.39658248e-01])), (0.00033290690556692776, array([-1.35744459e+00,  7.96317782e-04,  2.48203697e+01, -4.45326745e-01,\n",
      "       -3.01162512e+00,  7.98982420e+00, -7.07747468e+00,  1.51838218e+00,\n",
      "        1.07493299e+00, -4.92646448e-01]))]\n",
      "0  sd2: ini 9.194340981129765e-05sd2: final 9.192621629653839e-05\n",
      "1  sd2: ini 0.00026522878420880076sd2: final 9.250024071572524e-05\n",
      "2  sd2: ini 0.00033290690556692776sd2: final 0.0002973173710221046\n",
      "Best params: [(9.192621629653839e-05, array([-1.22999145e+00,  7.94216605e-04,  2.92929136e+01, -2.30098671e+00,\n",
      "       -1.52121716e-01,  4.50263158e+00, -5.26014980e+00,  2.13823568e+00,\n",
      "        1.89621568e-01, -2.46997160e-01])), (9.250024071572524e-05, array([-1.23412719e+00,  7.88021860e-04,  2.89594696e+01, -2.06238345e+00,\n",
      "       -2.17131245e-01,  4.49630817e+00, -5.24275158e+00,  2.14755656e+00,\n",
      "        1.73628612e-01, -2.41856634e-01])), (0.0002973173710221046, array([-1.30909816e+00,  7.99602372e-04,  2.06179613e+01,  2.08574079e+00,\n",
      "       -3.95769540e+00,  8.24232736e+00, -7.01680963e+00,  1.51180783e+00,\n",
      "        9.96858239e-01, -4.63834309e-01]))]\n",
      "0  sd2: ini 9.192621629653839e-05sd2: final 9.182111013718255e-05\n",
      "1  sd2: ini 9.250024071572524e-05sd2: final 9.17549757987672e-05\n",
      "2  sd2: ini 0.0002973173710221046sd2: final 0.00015612802008089618\n",
      "Best params: [(9.17549757987672e-05, array([-1.23505336e+00,  7.91385030e-04,  2.96377258e+01, -2.47158616e+00,\n",
      "       -5.10038538e-02,  4.42861782e+00, -5.23281279e+00,  2.15001890e+00,\n",
      "        1.78758166e-01, -2.44302455e-01])), (9.182111013718255e-05, array([-1.23393946e+00,  7.92979919e-04,  2.95998424e+01, -2.45985685e+00,\n",
      "       -7.98586253e-02,  4.46402597e+00, -5.24968785e+00,  2.14202524e+00,\n",
      "        1.88204287e-01, -2.46912591e-01])), (0.00015612802008089618, array([-1.39800664e+00,  7.35171130e-04,  2.73135683e+01, -1.97083055e+00,\n",
      "       -3.42924079e-01,  4.97775203e+00, -5.76186357e+00,  2.23968831e+00,\n",
      "        2.97741123e-01, -2.85080014e-01]))]\n",
      "0  sd2: ini 9.17549757987672e-05sd2: final 9.174695152372308e-05\n",
      "1  sd2: ini 9.182111013718255e-05sd2: final 9.180638033264454e-05\n",
      "2  sd2: ini 0.00015612802008089618sd2: final 0.00013515565640356462\n",
      "Best params: [(9.174695152372308e-05, array([-1.23251219e+00,  7.93181419e-04,  2.96045852e+01, -2.48098239e+00,\n",
      "       -4.39044368e-02,  4.42542443e+00, -5.23310307e+00,  2.15105532e+00,\n",
      "        1.78229420e-01, -2.44258312e-01])), (9.180638033264454e-05, array([-1.23641657e+00,  7.91192698e-04,  2.95164014e+01, -2.40931142e+00,\n",
      "       -1.00807881e-01,  4.47582406e+00, -5.25485535e+00,  2.14254078e+00,\n",
      "        1.88524458e-01, -2.46907068e-01])), (0.00013515565640356462, array([-1.30729061e+00,  8.02318150e-04,  3.02509901e+01, -3.81451859e+00,\n",
      "        4.05181956e-01,  4.56588862e+00, -5.56953251e+00,  2.20407047e+00,\n",
      "        2.91999456e-01, -2.85538407e-01]))]\n",
      "ieam: 5\n",
      "0  sd2: ini 2.0819911598520484sd2: final 0.0003067009498796823\n",
      "1  sd2: ini 2.007703411510781sd2: final 0.00011650672807164476\n",
      "2  sd2: ini 1.5976181875636097sd2: final 0.0002691417432419687\n",
      "Best params: [(0.00011650672807164476, array([-7.47747509e-01,  3.32896282e-04,  3.18950401e+01, -3.75633734e+00,\n",
      "       -1.37631059e-01,  4.77545717e+00, -5.17983121e+00,  1.63398771e+00,\n",
      "        3.93805760e-01, -2.64816528e-01])), (0.0002691417432419687, array([-5.29671537e-01,  4.10445782e-04,  1.25477971e+01,  3.66520990e+00,\n",
      "       -2.72079928e+00,  5.85198265e+00, -5.66602167e+00,  1.89097688e+00,\n",
      "        2.29665684e-01, -2.32488929e-01])), (0.0003067009498796823, array([-4.11822565e-01,  4.86339093e-04,  1.30899985e+01,  7.79551760e-01,\n",
      "       -3.36540830e-01,  3.60928406e+00, -4.70981485e+00,  2.30457269e+00,\n",
      "       -2.48180465e-01, -1.12239216e-01]))]\n",
      "0  sd2: ini 0.00011650672807164476sd2: final 6.633899923662225e-05\n",
      "1  sd2: ini 0.0002691417432419687sd2: final 0.00023243222818205794\n",
      "2  sd2: ini 0.0003067009498796823sd2: final 7.419081149533335e-05\n",
      "Best params: [(6.633899923662225e-05, array([-7.62775833e-01,  3.22537909e-04,  2.62476888e+01, -6.06518101e-01,\n",
      "       -1.27829756e+00,  5.11362774e+00, -5.17813684e+00,  1.66114898e+00,\n",
      "        3.05462569e-01, -2.31525067e-01])), (7.419081149533335e-05, array([-7.72951495e-01,  3.12614574e-04,  2.95616713e+01, -2.50204939e+00,\n",
      "        7.50317447e-01,  3.06324533e+00, -4.28854848e+00,  2.09213098e+00,\n",
      "       -1.70337215e-01, -1.04989244e-01])), (0.00023243222818205794, array([-6.06642354e-01,  3.84787882e-04,  1.62146200e+01,  1.84401116e+00,\n",
      "       -2.13195453e+00,  5.87028220e+00, -5.83234941e+00,  1.85760051e+00,\n",
      "        3.45276779e-01, -2.65994718e-01]))]\n",
      "0  sd2: ini 6.633899923662225e-05sd2: final 6.614135948522038e-05\n",
      "1  sd2: ini 7.419081149533335e-05sd2: final 7.36754698654905e-05\n",
      "2  sd2: ini 0.00023243222818205794sd2: final 8.311223271930754e-05\n",
      "Best params: [(6.614135948522038e-05, array([-7.45326206e-01,  3.27581466e-04,  2.62228135e+01, -6.94555780e-01,\n",
      "       -1.23391811e+00,  5.08851437e+00, -5.16950521e+00,  1.66463470e+00,\n",
      "        3.02244729e-01, -2.31989363e-01])), (7.36754698654905e-05, array([-7.94006830e-01,  3.07895586e-04,  2.92701501e+01, -2.32047138e+00,\n",
      "        6.70060188e-01,  3.11471844e+00, -4.31602948e+00,  2.09196421e+00,\n",
      "       -1.65487094e-01, -1.04819127e-01])), (8.311223271930754e-05, array([-6.93568333e-01,  3.46181974e-04,  2.61135327e+01, -1.09757985e+00,\n",
      "       -1.31335670e+00,  5.40790515e+00, -5.37671009e+00,  1.59706147e+00,\n",
      "        4.13332856e-01, -2.68404015e-01]))]\n",
      "0  sd2: ini 6.614135948522038e-05sd2: final 6.353304015797355e-05\n",
      "1  sd2: ini 7.36754698654905e-05sd2: final 6.885359515219823e-05\n",
      "2  sd2: ini 8.311223271930754e-05sd2: final 7.83847761311926e-05\n",
      "Best params: [(6.353304015797355e-05, array([-7.54301896e-01,  3.26469429e-04,  2.76768263e+01, -1.53113463e+00,\n",
      "       -7.72982377e-01,  4.78676293e+00, -5.07250683e+00,  1.70981993e+00,\n",
      "        2.66210196e-01, -2.23698815e-01])), (6.885359515219823e-05, array([-7.44097032e-01,  3.22956120e-04,  2.96421484e+01, -2.88084176e+00,\n",
      "        7.69923149e-01,  3.24138119e+00, -4.43143678e+00,  2.06232174e+00,\n",
      "       -1.00130201e-01, -1.28893047e-01])), (7.83847761311926e-05, array([-7.12461233e-01,  3.38577834e-04,  2.82878008e+01, -2.16218574e+00,\n",
      "       -6.56615568e-01,  4.92025819e+00, -5.19511922e+00,  1.67571436e+00,\n",
      "        3.38247509e-01, -2.49251885e-01]))]\n"
     ]
    },
    {
     "name": "stdout",
     "output_type": "stream",
     "text": [
      "0  sd2: ini 6.353304015797355e-05sd2: final 6.146391398082047e-05\n",
      "1  sd2: ini 6.885359515219823e-05sd2: final 6.664369178670245e-05\n",
      "2  sd2: ini 7.83847761311926e-05sd2: final 5.6705598887741184e-05\n",
      "Best params: [(5.6705598887741184e-05, array([-7.57469912e-01,  3.22999133e-04,  2.78487751e+01, -1.74556286e+00,\n",
      "       -2.07103397e-01,  4.11858057e+00, -4.78361539e+00,  1.87997479e+00,\n",
      "        8.58688603e-02, -1.75571553e-01])), (6.146391398082047e-05, array([-7.79723699e-01,  3.18208163e-04,  2.69240565e+01, -9.28153811e-01,\n",
      "       -9.99300893e-01,  4.84556480e+00, -5.06058541e+00,  1.70932653e+00,\n",
      "        2.49072544e-01, -2.15293998e-01])), (6.664369178670245e-05, array([-7.94375156e-01,  3.08034399e-04,  2.93570214e+01, -2.36413250e+00,\n",
      "        5.28838430e-01,  3.34373117e+00, -4.44055518e+00,  2.04329348e+00,\n",
      "       -9.74274759e-02, -1.24292440e-01]))]\n",
      "0  sd2: ini 5.6705598887741184e-05sd2: final 5.633494042584013e-05\n",
      "1  sd2: ini 6.146391398082047e-05sd2: final 6.06477576218865e-05\n",
      "2  sd2: ini 6.664369178670245e-05sd2: final 6.352088926103337e-05\n",
      "Best params: [(5.633494042584013e-05, array([-7.67576508e-01,  3.18826338e-04,  2.79595305e+01, -1.63999475e+00,\n",
      "       -2.52913163e-01,  4.11460736e+00, -4.75690332e+00,  1.87118495e+00,\n",
      "        7.99491628e-02, -1.72126800e-01])), (6.06477576218865e-05, array([-7.53166412e-01,  3.25241418e-04,  2.65843330e+01, -9.78143700e-01,\n",
      "       -9.17235949e-01,  4.78927304e+00, -5.06109422e+00,  1.74089127e+00,\n",
      "        2.32769066e-01, -2.14053148e-01])), (6.352088926103337e-05, array([-7.25507427e-01,  3.29802806e-04,  2.86005773e+01, -2.38932370e+00,\n",
      "        4.22426789e-01,  3.51659046e+00, -4.53154961e+00,  2.00934964e+00,\n",
      "       -5.14268185e-02, -1.41930929e-01]))]\n",
      "ieam: 6\n",
      "0  sd2: ini 16.64101131599471sd2: final 0.00010879762651873303\n",
      "1  sd2: ini 17.060314849114178sd2: final 0.00010337763810673165\n",
      "2  sd2: ini 17.449016676077004sd2: final 5.537582035545182e-05\n",
      "Best params: [(5.537582035545182e-05, array([-4.21495518e-01,  1.03743710e-04,  2.68809517e+01, -2.31395677e+00,\n",
      "        3.86034153e-01,  3.26572411e+00, -4.01317905e+00,  1.70763311e+00,\n",
      "       -1.27742007e-01, -8.70020075e-02])), (0.00010337763810673165, array([-3.40594409e-01,  1.13958291e-04,  2.06094041e+01,  4.94270344e-01,\n",
      "       -2.26279135e+00,  5.97127046e+00, -5.29661527e+00,  1.27363270e+00,\n",
      "        4.56849778e-01, -2.58932879e-01])), (0.00010879762651873303, array([-5.20895968e-01,  9.57058397e-05,  2.99407933e+01, -2.86465825e+00,\n",
      "       -4.52880637e-01,  4.44363469e+00, -4.45035248e+00,  1.24468758e+00,\n",
      "        2.74470413e-01, -1.75685526e-01]))]\n",
      "0  sd2: ini 5.537582035545182e-05sd2: final 4.947790758166309e-05\n",
      "1  sd2: ini 0.00010337763810673165sd2: final 0.00010085485460714393\n",
      "2  sd2: ini 0.00010879762651873303sd2: final 6.786860564199133e-05\n",
      "Best params: [(4.947790758166309e-05, array([-4.69729945e-01,  9.76030478e-05,  2.58611318e+01, -1.08539311e+00,\n",
      "       -2.37554874e-01,  3.55278937e+00, -4.01354298e+00,  1.60907003e+00,\n",
      "       -1.02427647e-01, -8.01939651e-02])), (6.786860564199133e-05, array([-5.27776514e-01,  9.20117619e-05,  2.50503399e+01,  2.34989872e-01,\n",
      "       -1.74616385e+00,  4.98283381e+00, -4.52344294e+00,  1.20490202e+00,\n",
      "        2.49726944e-01, -1.59417026e-01])), (0.00010085485460714393, array([-3.20580405e-01,  1.16979903e-04,  2.12424109e+01,  1.11798911e-01,\n",
      "       -2.11775425e+00,  5.87496458e+00, -5.25035836e+00,  1.28164602e+00,\n",
      "        4.46256032e-01, -2.59317456e-01]))]\n",
      "0  sd2: ini 4.947790758166309e-05sd2: final 4.935636769039681e-05\n",
      "1  sd2: ini 6.786860564199133e-05sd2: final 5.198400291102691e-05\n",
      "2  sd2: ini 0.00010085485460714393sd2: final 9.428538532110164e-05\n",
      "Best params: [(4.935636769039681e-05, array([-4.61329246e-01,  9.87841270e-05,  2.58756358e+01, -1.22286495e+00,\n",
      "       -1.72429626e-01,  3.53498200e+00, -4.02779017e+00,  1.62297760e+00,\n",
      "       -1.02264273e-01, -8.25733877e-02])), (5.198400291102691e-05, array([-4.36526987e-01,  1.02824168e-04,  2.59640084e+01, -1.44799890e+00,\n",
      "       -6.02888321e-01,  4.23145299e+00, -4.38936424e+00,  1.46620608e+00,\n",
      "        1.04235477e-01, -1.44184535e-01])), (9.428538532110164e-05, array([-3.66977638e-01,  1.11178593e-04,  1.99280513e+01,  1.17689393e+00,\n",
      "       -2.46652941e+00,  5.91930071e+00, -5.19452878e+00,  1.27238867e+00,\n",
      "        4.08097872e-01, -2.38035909e-01]))]\n",
      "0  sd2: ini 4.935636769039681e-05sd2: final 4.80876414191835e-05\n",
      "1  sd2: ini 5.198400291102691e-05sd2: final 4.837419002781813e-05\n",
      "2  sd2: ini 9.428538532110164e-05sd2: final 9.37179799240543e-05\n",
      "Best params: [(4.80876414191835e-05, array([-4.47190567e-01,  1.00920714e-04,  2.59731813e+01, -1.45751172e+00,\n",
      "       -1.99015012e-01,  3.68839867e+00, -4.13466366e+00,  1.59769999e+00,\n",
      "       -4.88589085e-02, -1.00884436e-01])), (4.837419002781813e-05, array([-4.25539388e-01,  1.03730665e-04,  2.43164638e+01, -7.26392609e-01,\n",
      "       -8.26811893e-01,  4.30205024e+00, -4.42406727e+00,  1.50703889e+00,\n",
      "        7.66606518e-02, -1.38409190e-01])), (9.37179799240543e-05, array([-3.67229982e-01,  1.11587025e-04,  2.04477993e+01,  8.96752646e-01,\n",
      "       -2.38903422e+00,  5.90641092e+00, -5.19137411e+00,  1.25689402e+00,\n",
      "        4.21636402e-01, -2.41756340e-01]))]\n",
      "0  sd2: ini 4.80876414191835e-05sd2: final 4.766080559394873e-05\n",
      "1  sd2: ini 4.837419002781813e-05sd2: final 4.822114690284154e-05\n",
      "2  sd2: ini 9.37179799240543e-05sd2: final 9.245251608861388e-05\n",
      "Best params: [(4.766080559394873e-05, array([-4.43505749e-01,  1.00969830e-04,  2.55372622e+01, -1.19188355e+00,\n",
      "       -2.99215561e-01,  3.72050550e+00, -4.13585920e+00,  1.60139999e+00,\n",
      "       -5.63206359e-02, -9.88243594e-02])), (4.822114690284154e-05, array([-4.24158220e-01,  1.03571035e-04,  2.43141010e+01, -6.53398757e-01,\n",
      "       -8.61678095e-01,  4.30771454e+00, -4.41248469e+00,  1.50226524e+00,\n",
      "        7.41288285e-02, -1.37345904e-01])), (9.245251608861388e-05, array([-3.78310793e-01,  1.11327760e-04,  2.07721261e+01,  5.71415791e-01,\n",
      "       -2.22035841e+00,  5.82247527e+00, -5.18024552e+00,  1.26646581e+00,\n",
      "        4.18845775e-01, -2.40179784e-01]))]\n",
      "0  sd2: ini 4.766080559394873e-05sd2: final 4.7622072261569855e-05\n",
      "1  sd2: ini 4.822114690284154e-05sd2: final 4.818080797917434e-05\n",
      "2  sd2: ini 9.245251608861388e-05sd2: final 8.676781961297558e-05\n",
      "Best params: [(4.7622072261569855e-05, array([-4.46496215e-01,  1.00744259e-04,  2.54890388e+01, -1.17587922e+00,\n",
      "       -3.03607107e-01,  3.72436559e+00, -4.13968662e+00,  1.60138877e+00,\n",
      "       -5.55973054e-02, -9.86234967e-02])), (4.818080797917434e-05, array([-4.27928333e-01,  1.03182116e-04,  2.44536111e+01, -7.03696506e-01,\n",
      "       -8.46386359e-01,  4.30408721e+00, -4.41052380e+00,  1.49747155e+00,\n",
      "        7.72095972e-02, -1.37582263e-01])), (8.676781961297558e-05, array([-3.67489528e-01,  1.10551071e-04,  1.99830892e+01,  1.25666992e+00,\n",
      "       -2.38371423e+00,  5.75144420e+00, -5.09388990e+00,  1.30607025e+00,\n",
      "        3.56134537e-01, -2.22947168e-01]))]\n",
      "ieam: 7\n",
      "0  sd2: ini 18.532577198415527sd2: final 0.00045472885942649097\n",
      "1  sd2: ini 18.822828390204556sd2: final 0.0008667520026459695\n",
      "2  sd2: ini 19.488157500286345sd2: final 0.00033441260228648953\n",
      "Best params: [(0.00033441260228648953, array([-5.94326354e-01,  1.86055489e-05,  2.59708805e+01,  2.87248976e+00,\n",
      "       -4.15082555e+00,  6.45946397e+00, -4.20515772e+00,  6.84085199e-02,\n",
      "        6.32500171e-01, -1.43934525e-01])), (0.00045472885942649097, array([ 8.92472849e-02,  4.75389230e-05,  9.67466668e+00,  1.01279221e+00,\n",
      "       -1.00355597e+00,  5.07110630e+00, -5.49713701e+00,  2.07605082e+00,\n",
      "        1.67930083e-01, -2.94445541e-01])), (0.0008667520026459695, array([-6.30794173e-01,  1.75094793e-06,  4.39040046e+01,  3.44574132e+00,\n",
      "       -3.53824384e+00,  5.16174124e+00, -3.32790942e+00,  3.40255282e-01,\n",
      "        2.14342689e-01, -1.92624462e-02]))]\n",
      "0  sd2: ini 0.00033441260228648953sd2: final 0.00023096222387204853\n",
      "1  sd2: ini 0.00045472885942649097sd2: final 0.00022247731580462085\n",
      "2  sd2: ini 0.0008667520026459695sd2: final 0.00010965439572822257\n",
      "Best params: [(0.00010965439572822257, array([-4.12324537e-01,  2.62929159e-05,  1.95060189e+01,  4.10774172e+00,\n",
      "       -3.65372864e+00,  5.60772808e+00, -4.04566913e+00,  6.60375751e-01,\n",
      "        2.73253818e-01, -1.06445305e-01])), (0.00022247731580462085, array([ 1.34882915e-02,  4.67899488e-05,  2.23319823e+01, -4.33583020e+00,\n",
      "        7.22085566e-01,  4.11928515e+00, -4.83883942e+00,  1.73466717e+00,\n",
      "        2.46589958e-01, -2.86579038e-01])), (0.00023096222387204853, array([-5.11341205e-01,  2.29402109e-05,  2.14690876e+01,  4.81761289e+00,\n",
      "       -4.95057535e+00,  6.65919714e+00, -4.15300249e+00,  1.10517668e-01,\n",
      "        5.65821851e-01, -1.40930995e-01]))]\n"
     ]
    },
    {
     "name": "stdout",
     "output_type": "stream",
     "text": [
      "0  sd2: ini 0.00010965439572822257sd2: final 5.3763718345140966e-05\n",
      "1  sd2: ini 0.00022247731580462085sd2: final 0.00013051197511643756\n",
      "2  sd2: ini 0.00023096222387204853sd2: final 0.00016785433626457342\n",
      "Best params: [(5.3763718345140966e-05, array([-2.83080473e-01,  3.26452088e-05,  2.31034355e+01,  9.86602299e-02,\n",
      "       -1.42064364e+00,  4.41581326e+00, -3.96431658e+00,  1.08635035e+00,\n",
      "        1.41192771e-01, -1.28835729e-01])), (0.00013051197511643756, array([-1.48959310e-01,  3.82959058e-05,  2.53944670e+01, -3.54043190e+00,\n",
      "        1.61420382e+00,  2.10660607e+00, -3.42242214e+00,  1.87139316e+00,\n",
      "       -3.41729589e-01, -5.99718092e-02])), (0.00016785433626457342, array([-3.13821308e-01,  3.09807027e-05,  1.71642824e+01,  4.30394217e+00,\n",
      "       -4.43602936e+00,  6.82067619e+00, -4.81701835e+00,  5.75554274e-01,\n",
      "        5.88518849e-01, -2.29199388e-01]))]\n",
      "0  sd2: ini 5.3763718345140966e-05sd2: final 5.3287693288696884e-05\n",
      "1  sd2: ini 0.00013051197511643756sd2: final 0.00012503605451196886\n",
      "2  sd2: ini 0.00016785433626457342sd2: final 0.0001351009505906686\n",
      "Best params: [(5.3287693288696884e-05, array([-2.85193525e-01,  3.23831881e-05,  2.26306766e+01,  4.28077550e-01,\n",
      "       -1.54639961e+00,  4.46270693e+00, -3.97017304e+00,  1.08657772e+00,\n",
      "        1.34917282e-01, -1.25809794e-01])), (0.00012503605451196886, array([-1.55570166e-01,  3.76595886e-05,  2.34314259e+01, -2.40618615e+00,\n",
      "        1.12693404e+00,  2.36863715e+00, -3.51025197e+00,  1.85973890e+00,\n",
      "       -3.35301539e-01, -5.81178404e-02])), (0.0001351009505906686, array([-2.20171879e-01,  3.60767433e-05,  1.98138269e+01,  1.17101534e+00,\n",
      "       -2.90417646e+00,  6.17932437e+00, -4.88687737e+00,  8.24730057e-01,\n",
      "        5.70886734e-01, -2.67429592e-01]))]\n",
      "0  sd2: ini 5.3287693288696884e-05sd2: final 4.885044406500491e-05\n",
      "1  sd2: ini 0.00012503605451196886sd2: final 0.00010678614729926181\n",
      "2  sd2: ini 0.0001351009505906686sd2: final 0.00013501426937844677\n",
      "Best params: [(4.885044406500491e-05, array([-2.77213330e-01,  3.24855431e-05,  2.28217363e+01,  9.88360456e-02,\n",
      "       -1.06007885e+00,  3.98238387e+00, -3.80222083e+00,  1.22983985e+00,\n",
      "        1.26712193e-02, -9.74453741e-02])), (0.00010678614729926181, array([-2.45551178e-01,  3.36132483e-05,  2.17704197e+01, -5.90371210e-01,\n",
      "        3.14911025e-01,  2.64904199e+00, -3.42042505e+00,  1.70369639e+00,\n",
      "       -3.45119872e-01, -1.96534953e-02])), (0.00013501426937844677, array([-2.18224762e-01,  3.60554133e-05,  2.00665389e+01,  1.07916117e+00,\n",
      "       -2.86693329e+00,  6.16080854e+00, -4.87989893e+00,  8.26149512e-01,\n",
      "        5.70748036e-01, -2.68114889e-01]))]\n",
      "0  sd2: ini 4.885044406500491e-05sd2: final 4.713164119688597e-05\n",
      "1  sd2: ini 0.00010678614729926181sd2: final 8.98811566498816e-05\n",
      "2  sd2: ini 0.00013501426937844677sd2: final 0.00011201770008978947\n",
      "Best params: [(4.713164119688597e-05, array([-2.79806563e-01,  3.25954186e-05,  2.38098641e+01, -3.49604675e-01,\n",
      "       -9.13218975e-01,  3.90332338e+00, -3.75037798e+00,  1.20480869e+00,\n",
      "        1.93771655e-02, -9.79262038e-02])), (8.98811566498816e-05, array([-2.15570894e-01,  3.48909400e-05,  2.48230888e+01, -2.14901457e+00,\n",
      "        8.62651752e-01,  2.43726100e+00, -3.36167192e+00,  1.69652507e+00,\n",
      "       -3.14875140e-01, -3.88272401e-02])), (0.00011201770008978947, array([-2.51507226e-01,  3.39158149e-05,  1.76804954e+01,  2.88224318e+00,\n",
      "       -3.26122279e+00,  5.94067365e+00, -4.62826683e+00,  8.90162253e-01,\n",
      "        4.04654009e-01, -2.06675366e-01]))]\n"
     ]
    }
   ],
   "source": [
    "for ieam in range(4, len(stats_opts[it]['hyperparams'])):\n",
    "    print('ieam:', ieam)\n",
    "    for i in range(6):\n",
    "        best_pars = optimize_EAM(target, stats, ieam, multi_pars)\n",
    "        multi_pars = [p[1] for p in best_pars]"
   ]
  },
  {
   "cell_type": "code",
   "execution_count": 88,
   "metadata": {},
   "outputs": [
    {
     "data": {
      "text/plain": [
       "[array([-2.46692536e+00, -7.07645876e-04, -1.92990197e+02,  5.43710332e+01,\n",
       "        -1.17019464e+01,  1.26314518e+00,  3.72747439e+00, -4.17045991e+00,\n",
       "         2.46942853e+00, -4.39168938e-01]),\n",
       " array([-1.39247738e+00,  1.45832318e-03, -1.22829256e+02,  3.89427039e+01,\n",
       "        -7.01985954e+00, -4.45624270e-01,  3.84825703e+00, -3.54791628e+00,\n",
       "         1.89469535e+00, -3.48857885e-01])]"
      ]
     },
     "execution_count": 88,
     "metadata": {},
     "output_type": "execute_result"
    }
   ],
   "source": [
    "multi_pars"
   ]
  },
  {
   "cell_type": "code",
   "execution_count": 18,
   "metadata": {
    "collapsed": true
   },
   "outputs": [],
   "source": [
    "optimal_parameters = [(4.713164119688597e-05, [-2.79806563e-01,  3.25954186e-05,  2.38098641e+01, -3.49604675e-01,\n",
    "       -9.13218975e-01,  3.90332338e+00, -3.75037798e+00,  1.20480869e+00,\n",
    "        1.93771655e-02, -9.79262038e-02])]"
   ]
  },
  {
   "cell_type": "code",
   "execution_count": 20,
   "metadata": {},
   "outputs": [
    {
     "name": "stdout",
     "output_type": "stream",
     "text": [
      "5\n",
      "Targ: [-1139.2, -906.9778906249999, -1127.13044453125, -1136.3561554687499, -1136.7059554687498]\n",
      "Model: [-1138.921776243323, -906.9768361235253, -1127.2574605132938, -1136.5040366024, -1136.7037550774967]\n",
      "[0.0390625  0.0462963  0.03937008 0.03875969 0.03875969]\n",
      "0 4.713164119688597e-05\n"
     ]
    },
    {
     "data": {
      "text/plain": [
       "<matplotlib.legend.Legend at 0x1796ded68>"
      ]
     },
     "execution_count": 20,
     "metadata": {},
     "output_type": "execute_result"
    },
    {
     "data": {
      "image/png": "[encoded data removed]",
      "text/plain": [
       "<Figure size 1440x720 with 1 Axes>"
      ]
     },
     "metadata": {},
     "output_type": "display_data"
    }
   ],
   "source": [
    "plt.figure(figsize=(20,10))\n",
    "\n",
    "nat = np.array([len(x) for x in targ_ready['relax']['xyz']])[:-2]\n",
    "print(len(nat))\n",
    "\n",
    "for i, params_uopt in enumerate(optimal_parameters):\n",
    "\n",
    "    #print(params_uopt[1])\n",
    "\n",
    "    opti_out, targ_out = udif_print(params_uopt[1], stats, target, utot_EAM, [7])\n",
    "    plt.title('Selected configurations at 0K')\n",
    "    if i == 0:\n",
    "        print('Targ:', targ_out[-2][:-2])\n",
    "        print('Model:', opti_out[-2][:-2])\n",
    "\n",
    "        #nat = np.array([len(x) for x in targ_dict['relax']['xyz']])\n",
    "        print(len(np.array(targ_out[-2][:-2]))/nat)\n",
    "        plt.plot(np.array(targ_out[-2][:-2])/nat, 'o', label='target'+str(i), markersize=10)\n",
    "        \n",
    "    if params_uopt[0] > 0.6e-3:\n",
    "        continue\n",
    "    #if i != 10 and i != 12:\n",
    "    #    continue\n",
    "    print(i, params_uopt[0])\n",
    "\n",
    "        \n",
    "    #print('Opti:', [o for o in opti_out[-1][:-1]])\n",
    "    plt.plot(np.array([o for o in opti_out[-2][:-2]])/nat, 'x--', label='optimized '+str(i))\n",
    "#    else:\n",
    "#        plt.plot([o for o in opti_out[-1][:-1]], 'x--', label='optimized '+str(i))\n",
    "#        plt.plot(targ_out[-1][:-1], 'o', markersize=10)\n",
    "\n",
    "plt.xticks([0, 1, 2, 3, 4, 5, 6], ['BCC','FCC', 'vacancy','110','111','liq','inf'])\n",
    "plt.ylabel('Energy [eV]')\n",
    "#plt.ylim(-1145, -1136)\n",
    "#plt.ylim(-8.905, -8.7533)\n",
    "#plt.ylim(-8.9, -8.35)\n",
    "#plt.xlim(0, 4)\n",
    "\n",
    "plt.legend()"
   ]
  },
  {
   "cell_type": "code",
   "execution_count": 21,
   "metadata": {},
   "outputs": [
    {
     "name": "stdout",
     "output_type": "stream",
     "text": [
      "13\n",
      "Targ: [-271.8047221070888, -837.1711089986524, -1079.5267350307165, -1139.2, -1100.8887858645915, -1014.6561261471663, -909.2807161131147, -800.6633444635341, -697.0611202328876, -602.3043063713144, -517.7429994565125, -443.4032853774631, -378.657941519064]\n",
      "Model: [-270.4151000027956, -832.9056555818881, -1073.2638119856952, -1138.921776243323, -1099.6752704900018, -1017.0498488538274, -909.9928847273699, -795.407068360248, -689.4559578475628, -601.8905160076289, -523.7244212071614, -444.3614140803395, -372.8613301861641]\n",
      "[0.1015625 0.1015625 0.1015625 0.1015625 0.1015625 0.1015625 0.1015625\n",
      " 0.1015625 0.1015625 0.1015625 0.1015625 0.1015625 0.1015625]\n",
      "0 4.713164119688597e-05\n"
     ]
    },
    {
     "data": {
      "text/plain": [
       "<matplotlib.legend.Legend at 0x16a7e4be0>"
      ]
     },
     "execution_count": 21,
     "metadata": {},
     "output_type": "execute_result"
    },
    {
     "data": {
      "image/png": "[encoded data removed]",
      "text/plain": [
       "<Figure size 1440x720 with 1 Axes>"
      ]
     },
     "metadata": {},
     "output_type": "display_data"
    }
   ],
   "source": [
    "plt.figure(figsize=(20,10))\n",
    "\n",
    "nat = np.array([len(x) for x in targ_ready['eos']['xyz']])[1:]\n",
    "print(len(nat))\n",
    "\n",
    "for i, params_uopt in enumerate(optimal_parameters):\n",
    "\n",
    "    #print(params_uopt[1])\n",
    "\n",
    "    opti_out, targ_out = udif_print(params_uopt[1], stats, target, utot_EAM, [7])\n",
    "    plt.title('Selected configurations at 0K')\n",
    "    if i == 0:\n",
    "        print('Targ:', targ_out[-1][1:])\n",
    "        print('Model:', opti_out[-1][1:])\n",
    "\n",
    "        #nat = np.array([len(x) for x in targ_dict['relax']['xyz']])\n",
    "        print(len(np.array(targ_out[-1][1:]))/nat)\n",
    "        plt.plot(reos, np.array(targ_out[-1][1:])/nat, 'o', label='target'+str(i), markersize=10)\n",
    "        \n",
    "    if params_uopt[0] > 0.6e-3:\n",
    "        continue\n",
    "    #if i != 10 and i != 12:\n",
    "    #    continue\n",
    "    print(i, params_uopt[0])\n",
    "\n",
    "        \n",
    "    #print('Opti:', [o for o in opti_out[-1][:-1]])\n",
    "    plt.plot(reos, np.array([o for o in opti_out[-1][1:]])/nat, 'x--', label='optimized '+str(i))\n",
    "#    else:\n",
    "#        plt.plot([o for o in opti_out[-1][:-1]], 'x--', label='optimized '+str(i))\n",
    "#        plt.plot(targ_out[-1][:-1], 'o', markersize=10)\n",
    "\n",
    "#plt.xticks([0, 1, 2, 3, 4, 5, 6], ['BCC','FCC', 'vacancy','110','111','liq','inf'])\n",
    "plt.ylabel('Energy [eV]')\n",
    "#plt.ylim(-1145, -1136)\n",
    "#plt.ylim(-8.905, -8.7533)\n",
    "#plt.ylim(-8.9, -8.35)\n",
    "#plt.xlim(0, 4)\n",
    "\n",
    "plt.legend()"
   ]
  },
  {
   "cell_type": "code",
   "execution_count": 24,
   "metadata": {},
   "outputs": [
    {
     "name": "stdout",
     "output_type": "stream",
     "text": [
      "1138\n",
      "[8.890625 8.890625 8.890625 ... 8.890625 8.890625 8.890625]\n",
      "0 4.713164119688597e-05\n"
     ]
    },
    {
     "data": {
      "text/plain": [
       "<matplotlib.legend.Legend at 0x11a374b70>"
      ]
     },
     "execution_count": 24,
     "metadata": {},
     "output_type": "execute_result"
    },
    {
     "data": {
      "image/png": "[encoded data removed]",
      "text/plain": [
       "<Figure size 1440x720 with 1 Axes>"
      ]
     },
     "metadata": {},
     "output_type": "display_data"
    }
   ],
   "source": [
    "plt.figure(figsize=(20,10))\n",
    "\n",
    "nat = np.array([len(x) for x in targ_ready['md']['xyz']])[:]\n",
    "print(len(nat))\n",
    "\n",
    "for i, params_uopt in enumerate(optimal_parameters):\n",
    "\n",
    "    #print(params_uopt[1])\n",
    "\n",
    "    opti_out, targ_out = udif_print(params_uopt[1], stats, target, utot_EAM,[7])\n",
    "    plt.title('Selected configurations at 0K')\n",
    "    if i == 0:\n",
    "        #print('Targ:', targ_out[0][:])\n",
    "        #print('Model:', opti_out[0][:])\n",
    "\n",
    "        #nat = np.array([len(x) for x in targ_dict['relax']['xyz']])\n",
    "        print(len(np.array(targ_out[0][:]))/nat)\n",
    "        #plt.plot(np.array(targ_out[0][:])/nat, 'o', label='target'+str(i), markersize=10)\n",
    "        plt.plot(np.array(targ_out[0][:]), 'o', label='target'+str(i), markersize=2)\n",
    "\n",
    "        \n",
    "    if params_uopt[0] > 0.6e-3:\n",
    "        continue\n",
    "    #if i != 10 and i != 12:\n",
    "    #    continue\n",
    "    print(i, params_uopt[0])\n",
    "\n",
    "    #print('Opti:', [o for o in opti_out[-1][:-1]])\n",
    "    #plt.plot(np.array([o for o in opti_out[0][:]])/nat, 'x--', label='optimized '+str(i))\n",
    "    plt.plot(np.array([o for o in opti_out[0][:]]), '--', label='optimized '+str(i), lw=1.0)\n",
    "\n",
    "#    else:\n",
    "#        plt.plot([o for o in opti_out[-1][:-1]], 'x--', label='optimized '+str(i))\n",
    "#        plt.plot(targ_out[-1][:-1], 'o', markersize=10)\n",
    "\n",
    "#plt.xticks([0, 1, 2, 3, 4, 5, 6], ['BCC','FCC', 'vacancy','110','111','liq','inf'])\n",
    "plt.ylabel('Energy [eV]')\n",
    "#plt.ylim(-1145, -1136)\n",
    "#plt.ylim(-8.905, -8.533)\n",
    "#plt.ylim(-8.9, -8.35)\n",
    "\n",
    "plt.ylim(-1180,-700)\n",
    "plt.ylim(-1136,-1132)\n",
    "#plt.ylim(-1000,-900)\n",
    "\n",
    "plt.legend()"
   ]
  },
  {
   "cell_type": "code",
   "execution_count": 121,
   "metadata": {},
   "outputs": [
    {
     "name": "stdout",
     "output_type": "stream",
     "text": [
      "0 0.00012508417047382345 \n",
      " [-0.942576521, 7.61707891e-05, -105.811358, 36.1001559, -6.39102078, -0.0242484404, 2.91284708, -2.96955528, 1.3606181, -0.17478259]\n"
     ]
    }
   ],
   "source": [
    "for i, params_uopt in enumerate(optimal_parameters):\n",
    "    if params_uopt[0] > 1.1e-3:\n",
    "        continue\n",
    "    print(i, params_uopt[0], '\\n', params_uopt[1])"
   ]
  },
  {
   "cell_type": "code",
   "execution_count": 126,
   "metadata": {},
   "outputs": [
    {
     "data": {
      "text/plain": [
       "[2.65, 3.0, 3.5, 4.0, 4.356, 4.75, 5.25, 5.75]"
      ]
     },
     "execution_count": 126,
     "metadata": {},
     "output_type": "execute_result"
    }
   ],
   "source": [
    "stats_opt['hyperparams']"
   ]
  },
  {
   "cell_type": "code",
   "execution_count": 127,
   "metadata": {},
   "outputs": [
    {
     "data": {
      "text/plain": [
       "[2.5, 2.75, 3.0, 3.5, 4.0, 4.5, 5.0, 5.75]"
      ]
     },
     "execution_count": 127,
     "metadata": {},
     "output_type": "execute_result"
    }
   ],
   "source": [
    "stats_opts[it]['hyperparams']"
   ]
  },
  {
   "cell_type": "code",
   "execution_count": 128,
   "metadata": {
    "collapsed": true
   },
   "outputs": [],
   "source": [
    "pars_out = {}\n",
    "pars_out['pair_nodes'] = stats_opts[it]['hyperparams']\n",
    "pars_out['mb_node'] = 6\n",
    "pars_out['params'] = [optimal_parameters[0]]"
   ]
  },
  {
   "cell_type": "code",
   "execution_count": 129,
   "metadata": {
    "collapsed": true
   },
   "outputs": [],
   "source": [
    "optimal_list = []\n",
    "\n",
    "#with open(os.path.join(working, 'pars_out.pickle'), 'rb') as fi:\n",
    "#    optimal_list = pickle.load(fi)\n",
    "\n",
    "#if type(optimal_list) != list:\n",
    "#    optimal_list = [optimal_list]\n",
    "\n",
    "optimal_list.append(pars_out)\n",
    "\n",
    "with open(os.path.join(working, 'pars_out.pickle'), 'wb') as fo:\n",
    "    pickle.dump(optimal_list, fo)"
   ]
  },
  {
   "cell_type": "code",
   "execution_count": 130,
   "metadata": {
    "collapsed": true
   },
   "outputs": [],
   "source": [
    "with open(os.path.join(working, 'pars_out.pickle'), 'rb') as fi:\n",
    "    optimal_list = pickle.load(fi)"
   ]
  },
  {
   "cell_type": "code",
   "execution_count": 131,
   "metadata": {},
   "outputs": [
    {
     "data": {
      "text/plain": [
       "[{'pair_nodes': [2.5, 2.75, 3.0, 3.5, 4.0, 4.5, 5.0, 5.75],\n",
       "  'mb_node': 6,\n",
       "  'params': [(0.00012508417047382345,\n",
       "    [-0.942576521,\n",
       "     7.61707891e-05,\n",
       "     -105.811358,\n",
       "     36.1001559,\n",
       "     -6.39102078,\n",
       "     -0.0242484404,\n",
       "     2.91284708,\n",
       "     -2.96955528,\n",
       "     1.3606181,\n",
       "     -0.17478259])]}]"
      ]
     },
     "execution_count": 131,
     "metadata": {},
     "output_type": "execute_result"
    }
   ],
   "source": [
    "optimal_list"
   ]
  },
  {
   "cell_type": "code",
   "execution_count": 151,
   "metadata": {
    "collapsed": true
   },
   "outputs": [],
   "source": [
    "# Total pair potential\n",
    "pos = targ_ready['relax']['xyz'][0]\n",
    "bx = targ_ready['relax']['box'][0]\n",
    "rr, rx = pair_dist_cutoff(pos, bx, 5.5)"
   ]
  },
  {
   "cell_type": "code",
   "execution_count": 152,
   "metadata": {
    "collapsed": true
   },
   "outputs": [],
   "source": [
    "# embedding function\n",
    "F = lambda d, a: a[0]*d**0.5 + a[1]*d + a[2]*d**2\n",
    "\n",
    "V = lambda r, aa, cc: sum([a*(rc - r)**3 for a, rc in zip(aa, cc) if r < rc])\n",
    "\n",
    "# Cohesive potential (cubic splines - same form as V)\n",
    "phi = lambda r, aa, cc: sum([a*(rc - r)**3 for a, rc in zip(aa, cc) if r < rc])\n",
    "\n",
    "rho = lambda r, aa, kk: sum([a*(rk - r)**3 for a, rk in zip(aa, kk) if r < rk and r > 0.01])"
   ]
  },
  {
   "cell_type": "code",
   "execution_count": 153,
   "metadata": {},
   "outputs": [
    {
     "data": {
      "text/plain": [
       "[-0.942576521,\n",
       " 7.61707891e-05,\n",
       " -105.811358,\n",
       " 36.1001559,\n",
       " -6.39102078,\n",
       " -0.0242484404,\n",
       " 2.91284708,\n",
       " -2.96955528,\n",
       " 1.3606181,\n",
       " -0.17478259]"
      ]
     },
     "execution_count": 153,
     "metadata": {},
     "output_type": "execute_result"
    }
   ],
   "source": [
    "optimal_list[-1]['params'][0][1]"
   ]
  },
  {
   "cell_type": "code",
   "execution_count": 154,
   "metadata": {
    "collapsed": true
   },
   "outputs": [],
   "source": [
    "#optimal_parameters.append(tuple([output[1:], params_uopt]))\n",
    "pair_y = optimal_list[-1]['params'][0][1][2:]\n",
    "par = optimal_list[-1]['params'][0][1][:2]\n",
    "many_y = [par[0], 0.0, par[1]]\n",
    "V_x_r = optimal_list[-1]['pair_nodes'] #stats_opt['hyperparams']\n",
    "rho_x_r = [V_x_r[optimal_list[-1]['mb_node']]] #stats_opt['hyperparams'][4:5]\n",
    "rho_x_a = [1.0]"
   ]
  },
  {
   "cell_type": "code",
   "execution_count": 155,
   "metadata": {},
   "outputs": [
    {
     "data": {
      "text/plain": [
       "([-105.811358,\n",
       "  36.1001559,\n",
       "  -6.39102078,\n",
       "  -0.0242484404,\n",
       "  2.91284708,\n",
       "  -2.96955528,\n",
       "  1.3606181,\n",
       "  -0.17478259],\n",
       " [-0.942576521, 0.0, 7.61707891e-05],\n",
       " [2.5, 2.75, 3.0, 3.5, 4.0, 4.5, 5.0, 5.75],\n",
       " [5.0])"
      ]
     },
     "execution_count": 155,
     "metadata": {},
     "output_type": "execute_result"
    }
   ],
   "source": [
    "pair_y, many_y, V_x_r, rho_x_r"
   ]
  },
  {
   "cell_type": "code",
   "execution_count": 156,
   "metadata": {
    "collapsed": true
   },
   "outputs": [],
   "source": [
    "ene = []\n",
    "for a in np.linspace(0.5, 2.0, 101):\n",
    "    z = a*rr\n",
    "    u_pair = 0.5*np.sum([V(x, pair_y, V_x_r) for x in z.flatten() if x > 0.1])\n",
    "\n",
    "    u_many = 0.0\n",
    "    for i in range(z.shape[0]):\n",
    "        d = np.sum([phi(x, rho_x_a, rho_x_r) for x in z[i] if x > 0.1])\n",
    "        u_many += F(d, many_y)\n",
    "\n",
    "    ene.append([a, u_pair, u_many, u_pair+u_many])\n",
    "\n",
    "ene = np.array(ene)"
   ]
  },
  {
   "cell_type": "code",
   "execution_count": 157,
   "metadata": {},
   "outputs": [
    {
     "data": {
      "text/plain": [
       "Text(0,0.5,'U')"
      ]
     },
     "execution_count": 157,
     "metadata": {},
     "output_type": "execute_result"
    },
    {
     "data": {
      "image/png": "[encoded data removed]",
      "text/plain": [
       "<Figure size 432x288 with 1 Axes>"
      ]
     },
     "metadata": {},
     "output_type": "display_data"
    }
   ],
   "source": [
    "#plt.plot(ene[:,0], ene[:,1]/54, label='pair')\n",
    "#plt.plot(ene[:,0], ene[:,2]/54, label='manybody')\n",
    "plt.title('Equation of state (T=0K)')\n",
    "plt.plot(ene[:,0]*2.74, [universal_eos(x, 'W') for x in ene[:,0]], label='universal EOS')\n",
    "plt.plot(ene[:,0]*2.74, ene[:,3]/128, label='u-total')\n",
    "plt.hlines(0.0,0.5,6.0,lw=1)\n",
    "plt.legend()\n",
    "plt.xlim(2.0, 5.75)\n",
    "plt.ylim(-10,10)\n",
    "\n",
    "plt.xlabel('x')\n",
    "plt.ylabel(r'U')"
   ]
  },
  {
   "cell_type": "code",
   "execution_count": 39,
   "metadata": {
    "collapsed": true
   },
   "outputs": [],
   "source": [
    "rho_a = [1.0]\n",
    "rho_r = [stats_opt['hyperparams'][-1]]\n",
    "\n",
    "pair_a = pars_in1[2:]\n",
    "pair_r = stats_opt['hyperparams']\n",
    "\n",
    "many_a = [pars_in[0], 0.0, pars_in[1]]"
   ]
  },
  {
   "cell_type": "code",
   "execution_count": 40,
   "metadata": {},
   "outputs": [
    {
     "name": "stdout",
     "output_type": "stream",
     "text": [
      "rhomax: 768.0\n"
     ]
    }
   ],
   "source": [
    "# Ranges of densities and separations\n",
    "\n",
    "nr = 5000\n",
    "rcut = stats_opt['hyperparams'][-1]\n",
    "dr = rcut/nr\n",
    "\n",
    "rhomax = 12.0*phi(1.5, rho_a, rho_r)\n",
    "print('rhomax:', rhomax)\n",
    "#rhomax = 1000.0\n",
    "nrho = 5000\n",
    "drho = rhomax/nrho\n",
    "\n",
    "ri = 1.0\n",
    "ro = 2.0\n",
    "\n",
    "# W properties\n",
    "na = 74\n",
    "ma = 183.84\n",
    "lc = 3.1653\n",
    "alat = 'bcc'\n",
    "\n",
    "# System composition\n",
    "n_el = 1\n",
    "el_name = ['W']"
   ]
  },
  {
   "cell_type": "code",
   "execution_count": 41,
   "metadata": {
    "collapsed": true
   },
   "outputs": [],
   "source": [
    "def u_trans(r, unucl, ueq, ri=1.0, ro=2.0):\n",
    "    \"\"\"Transition between the core and equillibrium potentials\"\"\"\n",
    "    if r < ri:\n",
    "        return unucl\n",
    "    elif r < ro:\n",
    "        x = (ro + ri - 2*r)/(ro - ri)\n",
    "        eta = 3/16*x**5 - 5/8*x**3 + 15/16*x + 1/2\n",
    "        return ueq + eta*(unucl - ueq)\n",
    "    else:\n",
    "        return ueq"
   ]
  },
  {
   "cell_type": "code",
   "execution_count": 42,
   "metadata": {
    "collapsed": true
   },
   "outputs": [],
   "source": [
    "\n",
    "# prepare lists of values\n",
    "dens = np.linspace(0., rhomax-drho, nrho, endpoint=True)\n",
    "r = np.linspace(0., rcut-dr, nr, endpoint=True)\n",
    "r2 = np.linspace(0., rcut, 201)\n",
    "\n",
    "fembd = [F(d, many_a) for d in dens] # W\n",
    "edens = np.array([phi(x, rho_a, rho_r) for x in r])\n",
    "\n",
    "# 1. Cubic spline for r > r_o\n",
    "f_outer = [V(x, pair_a, pair_r) for i, x in enumerate(r)]\n",
    "# 2. Repulsive core for r < r_i (precalculate up to r_o)\n",
    "f_inner = [0.0] + [u_core(x) for x in r[1:]]\n",
    "# 3. Transition region for r_i < r < r_o\n",
    "fpair = [x*u_trans(x, f_inner[i], f_outer[i]) for i, x in enumerate(r)]\n",
    "#fpair = f_outer"
   ]
  },
  {
   "cell_type": "code",
   "execution_count": 708,
   "metadata": {
    "collapsed": true
   },
   "outputs": [],
   "source": [
    "# LAMMPS format\n",
    "pot_path = '../sim/potentials'\n",
    "\n",
    "with open(os.path.join(pot_path, 'W_lvnew.eam.fs'), 'w') as fo:\n",
    "    \n",
    "    # Comment section\n",
    "    fo.write('Comment 1\\n')\n",
    "    fo.write('Comment 2\\n')\n",
    "    fo.write('Comment 3\\n')\n",
    "    \n",
    "    # Number of elements\n",
    "    fo.write(f\"{n_el:5d} \")\n",
    "    for i in range(n_el):\n",
    "        fo.write(f\"{el_name[i]:2}\")\n",
    "    fo.write(\"\\n\")\n",
    "    \n",
    "    # number of grid points, step size, and cutoff\n",
    "    fo.write(f\"{nrho:5d}{drho:24.16e}{nr:5d}{dr:24.16e}{rcut:24.16e}\\n\")\n",
    "    \n",
    "    # atomic number, mass, lattice size, lattice type\n",
    "    fo.write(f\"{na:5d} {ma:14.4f} {lc:14.4f} {alat:10}\\n\")\n",
    "    \n",
    "    # Embeding function\n",
    "    for i in range(nrho//4):\n",
    "        fo.write(\"{0:20.12e}{1:20.12e}{2:20.12e}{3:20.12e}\\n\".format(*fembd[i*4:i*4+4]))\n",
    "    \n",
    "    # Electronic density\n",
    "    for i in range(nr//4):\n",
    "        fo.write(\"{0:20.12e}{1:20.12e}{2:20.12e}{3:20.12e}\\n\".format(*edens[i*4:i*4+4]))\n",
    "        \n",
    "    # Pair potential\n",
    "    for i in range(nr//4):\n",
    "        fo.write(\"{0:20.12e}{1:20.12e}{2:20.12e}{3:20.12e}\\n\".format(*fpair[i*4:i*4+4]))"
   ]
  },
  {
   "cell_type": "code",
   "execution_count": null,
   "metadata": {
    "collapsed": true
   },
   "outputs": [],
   "source": []
  }
 ],
 "metadata": {
  "kernelspec": {
   "display_name": "Python 3",
   "language": "python",
   "name": "python3"
  },
  "language_info": {
   "codemirror_mode": {
    "name": "ipython",
    "version": 3
   },
   "file_extension": ".py",
   "mimetype": "text/x-python",
   "name": "python",
   "nbconvert_exporter": "python",
   "pygments_lexer": "ipython3",
   "version": "3.6.1"
  }
 },
 "nbformat": 4,
 "nbformat_minor": 2
}
