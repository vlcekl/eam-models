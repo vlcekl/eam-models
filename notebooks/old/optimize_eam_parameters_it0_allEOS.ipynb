{
 "cells": [
  {
   "cell_type": "code",
   "execution_count": 40,
   "metadata": {
    "collapsed": true
   },
   "outputs": [],
   "source": [
    "import os\n",
    "import sys\n",
    "import re\n",
    "import numpy as np\n",
    "%matplotlib inline\n",
    "import matplotlib.pyplot as plt\n",
    "import copy\n",
    "import pickle\n",
    "from scipy.optimize import fmin"
   ]
  },
  {
   "cell_type": "code",
   "execution_count": 41,
   "metadata": {},
   "outputs": [
    {
     "name": "stdout",
     "output_type": "stream",
     "text": [
      "The autoreload extension is already loaded. To reload it, use:\n",
      "  %reload_ext autoreload\n"
     ]
    }
   ],
   "source": [
    "%load_ext autoreload\n",
    "%autoreload 2"
   ]
  },
  {
   "cell_type": "code",
   "execution_count": 42,
   "metadata": {
    "collapsed": true
   },
   "outputs": [],
   "source": [
    "sys.path.append('../../statmechlib')\n",
    "from statmechlib.read_write import read_vasp\n",
    "from statmechlib.preprocessing import Trajectory, select_nodes, scale_configuration, pair_dist_cutoff\n",
    "from statmechlib.preprocessing import pair_dist, force_targ, get_stats_EAM, get_stats_EAM_pairdist\n",
    "from statmechlib.forcefields import sd2_loss, utot_EAM, ftot_EAM, udif_print, u_core\n",
    "from statmechlib.preprocessing import universal_eos"
   ]
  },
  {
   "cell_type": "code",
   "execution_count": 43,
   "metadata": {
    "collapsed": true
   },
   "outputs": [],
   "source": [
    "target_raw = '../data/target_raw'\n",
    "target_proc = '../data/target_processed'\n",
    "working = '../data/working'"
   ]
  },
  {
   "cell_type": "code",
   "execution_count": 44,
   "metadata": {
    "collapsed": true
   },
   "outputs": [],
   "source": [
    "n = int((1.45-0.85)/0.05 + 0.01)\n",
    "reos = np.linspace(0.85, 1.45, n+1)*2.74\n",
    "#for i, scale in enumerate(np.linspace(0.85, 1.45, 13)):\n",
    "#    print(round(reos[i], 3), universal_eos(scale, 'W'))"
   ]
  },
  {
   "cell_type": "code",
   "execution_count": 45,
   "metadata": {
    "collapsed": true
   },
   "outputs": [],
   "source": [
    "with open(os.path.join(working, 'stats_clean'+'.pickle'), 'rb') as fi:\n",
    "    stats_ready = pickle.load(fi)\n",
    "\n",
    "with open(os.path.join(working, 'target_clean'+'.pickle'), 'rb') as fi:\n",
    "    targ_ready = pickle.load(fi)   "
   ]
  },
  {
   "cell_type": "code",
   "execution_count": 46,
   "metadata": {},
   "outputs": [
    {
     "data": {
      "text/plain": [
       "[(0, 2.4),\n",
       " (1, 2.45),\n",
       " (2, 2.5),\n",
       " (3, 2.65),\n",
       " (4, 2.7),\n",
       " (5, 2.72),\n",
       " (6, 2.73),\n",
       " (7, 2.74),\n",
       " (8, 2.75),\n",
       " (9, 2.77),\n",
       " (10, 2.8),\n",
       " (11, 2.85),\n",
       " (12, 2.9),\n",
       " (13, 3.0),\n",
       " (14, 3.1),\n",
       " (15, 3.2),\n",
       " (16, 3.3),\n",
       " (17, 3.45),\n",
       " (18, 3.6),\n",
       " (19, 3.75),\n",
       " (20, 4.0),\n",
       " (21, 4.1),\n",
       " (22, 4.25),\n",
       " (23, 4.356),\n",
       " (24, 4.5),\n",
       " (25, 4.65),\n",
       " (26, 4.8),\n",
       " (27, 5.0),\n",
       " (28, 5.15),\n",
       " (29, 5.3),\n",
       " (30, 5.45),\n",
       " (31, 5.6),\n",
       " (32, 5.75)]"
      ]
     },
     "execution_count": 46,
     "metadata": {},
     "output_type": "execute_result"
    }
   ],
   "source": [
    "#print(len(targ_ready['md']['energy']))\n",
    "[(i, r) for i, r in enumerate(stats_ready['hyperparams'])]"
   ]
  },
  {
   "cell_type": "code",
   "execution_count": 47,
   "metadata": {
    "collapsed": true
   },
   "outputs": [],
   "source": [
    "#2.5  2.75 3.   3.5  4.   4.5  5.   5.75\n",
    "#2.65 2.75 3.25 3.75 4.25 4.75 5.25 5.75\n",
    "#2.65 2.7 2.75 2.8 3.25 3.75 4.25 4.75 5.25 5.75\n",
    "\n",
    "#2.5  2.7 2.75 2.85 3. 3.5  4.   4.5  5.   5.75\n",
    "\n",
    "multi_index = []\n",
    "#multi_index.append([1, 3, 6, 8, 10, 12, 14, 16])\n",
    "#multi_index.append([0, 3, 5, 8, 13, 17, 20, 24, 27, 31])\n",
    "multi_index.append([2, 4, 8, 11, 13, 17, 20, 24, 27, 32])\n",
    "multi_index.append([1, 4, 6, 9, 13, 17, 20, 24, 27, 31])\n",
    "multi_index.append([1, 4, 7, 9, 13, 17, 20, 24, 27, 31])\n",
    "multi_index.append([1, 5, 8, 12, 14, 18, 22, 26, 31])\n",
    "multi_index.append([1, 6, 9, 13, 17, 20, 24, 27, 31])\n",
    "multi_index.append([2, 8, 13, 17, 20, 24, 27, 32])"
   ]
  },
  {
   "cell_type": "code",
   "execution_count": 48,
   "metadata": {},
   "outputs": [
    {
     "name": "stdout",
     "output_type": "stream",
     "text": [
      "[2.5  2.7  2.75 2.85 3.   3.45 4.   4.5  5.   5.75]\n",
      "[2.45 2.7  2.73 2.77 3.   3.45 4.   4.5  5.   5.6 ]\n",
      "[2.45 2.7  2.74 2.77 3.   3.45 4.   4.5  5.   5.6 ]\n",
      "[2.45 2.72 2.75 2.9  3.1  3.6  4.25 4.8  5.6 ]\n",
      "[2.45 2.73 2.77 3.   3.45 4.   4.5  5.   5.6 ]\n",
      "[2.5  2.75 3.   3.45 4.   4.5  5.   5.75]\n"
     ]
    }
   ],
   "source": [
    "stats_opts = []\n",
    "for index in multi_index:\n",
    "    index = np.array([True if i in index else False for i in range(len(stats_ready['hyperparams']))])\n",
    "    print(np.array(stats_ready['hyperparams'])[index])\n",
    "    stats_opts.append(select_nodes(stats_ready, index))"
   ]
  },
  {
   "cell_type": "code",
   "execution_count": 49,
   "metadata": {},
   "outputs": [
    {
     "data": {
      "text/plain": [
       "array([[0., 0., 0., 0., 0., 0., 0., 0., 0., 0.],\n",
       "       [0., 0., 0., 0., 0., 0., 0., 0., 0., 0.],\n",
       "       [0., 0., 0., 0., 0., 0., 0., 0., 0., 0.]])"
      ]
     },
     "execution_count": 49,
     "metadata": {},
     "output_type": "execute_result"
    }
   ],
   "source": [
    "stats_opts[0]['md']['energy'][-1]\n"
   ]
  },
  {
   "cell_type": "code",
   "execution_count": 50,
   "metadata": {
    "collapsed": true
   },
   "outputs": [],
   "source": [
    "#uend = stats_opts[0]['md']['energy'][-1]\n",
    "#fend = stats_opts[0]['md']['forces'][-1]\n",
    "#utar = targ_ready['md']['energy'][-1]\n",
    "#ftar = targ_ready['md']['forces'][-1]"
   ]
  },
  {
   "cell_type": "code",
   "execution_count": 51,
   "metadata": {
    "collapsed": true
   },
   "outputs": [],
   "source": [
    "#for i in range(2000):\n",
    "#    stats_opts[0]['md']['energy'].append(uend)\n",
    "#    stats_opts[0]['md']['forces'].append(fend)\n",
    "#    targ_ready['md']['energy'].append(utar)\n",
    "#    targ_ready['md']['forces'].append(ftar)"
   ]
  },
  {
   "cell_type": "code",
   "execution_count": 52,
   "metadata": {},
   "outputs": [
    {
     "name": "stdout",
     "output_type": "stream",
     "text": [
      "10 10\n",
      "10 10\n",
      "10 10\n",
      "9 9\n",
      "9 9\n",
      "8 8\n"
     ]
    }
   ],
   "source": [
    "#pars_dict['pair'] = [-28.301652628205268, -0.0022071786576090694, 0.027656591839734557, -6.543090393280296, 10.102407371395133, -2.478121982724172, 3.7048200337887582, -3.6346043391919514, 1.7181534576100437, -0.2520201994640249]\n",
    "#pars_dict['embed'] = [-1.1825596913794016, 2.8944059727957714e-05]\n",
    "pars_list = []\n",
    "for index in multi_index:\n",
    "    pars_dict = {}\n",
    "    if len(np.array(stats_ready['hyperparams'])[index]) == 10:\n",
    "        pars_dict['embed'] = [-6.84229349e-01,  1.52487644e-04]\n",
    "        pars_dict['pair'] = [-6.56958142e+01, 0.0, 2.30194161e+01, 0.0, -3.48639263e+00,  3.45615281e+00, -8.88083580e-01, -1.34315802e+00, 1.24532843e+00, -3.51200974e-01]\n",
    "    elif len(np.array(stats_ready['hyperparams'])[index]) == 9:\n",
    "        pars_dict['embed'] = [-6.84229349e-01,  1.52487644e-04]\n",
    "        pars_dict['pair'] = [-6.56958142e+01, 0.0, 2.30194161e+01, -3.48639263e+00,  3.45615281e+00, -8.88083580e-01, -1.34315802e+00, 1.24532843e+00, -3.51200974e-01]        \n",
    "    elif len(np.array(stats_ready['hyperparams'])[index]) == 8:\n",
    "        pars_dict['embed'] = [-6.84229349e-01,  1.52487644e-04]\n",
    "        pars_dict['pair'] = [-6.56958142e+01, 2.30194161e+01, -3.48639263e+00,  3.45615281e+00, -8.88083580e-01, -1.34315802e+00, 1.24532843e+00, -3.51200974e-01]        \n",
    "    else:\n",
    "        raise ValueError('Unsupported number of parameters')\n",
    "    print(len(np.array(stats_ready['hyperparams'])[index]), len(pars_dict['pair']))\n",
    "    pars_list.append(pars_dict)\n",
    "\n",
    "with open(os.path.join(working, \"pars_in.pickle\"), 'wb') as fo:\n",
    "    pickle.dump(pars_list, fo)\n"
   ]
  },
  {
   "cell_type": "code",
   "execution_count": 53,
   "metadata": {},
   "outputs": [
    {
     "name": "stdout",
     "output_type": "stream",
     "text": [
      "[{'embed': [-0.684229349, 0.000152487644], 'pair': [-65.6958142, 0.0, 23.0194161, 0.0, -3.48639263, 3.45615281, -0.88808358, -1.34315802, 1.24532843, -0.351200974]}, {'embed': [-0.684229349, 0.000152487644], 'pair': [-65.6958142, 0.0, 23.0194161, 0.0, -3.48639263, 3.45615281, -0.88808358, -1.34315802, 1.24532843, -0.351200974]}, {'embed': [-0.684229349, 0.000152487644], 'pair': [-65.6958142, 0.0, 23.0194161, 0.0, -3.48639263, 3.45615281, -0.88808358, -1.34315802, 1.24532843, -0.351200974]}, {'embed': [-0.684229349, 0.000152487644], 'pair': [-65.6958142, 0.0, 23.0194161, -3.48639263, 3.45615281, -0.88808358, -1.34315802, 1.24532843, -0.351200974]}, {'embed': [-0.684229349, 0.000152487644], 'pair': [-65.6958142, 0.0, 23.0194161, -3.48639263, 3.45615281, -0.88808358, -1.34315802, 1.24532843, -0.351200974]}, {'embed': [-0.684229349, 0.000152487644], 'pair': [-65.6958142, 23.0194161, -3.48639263, 3.45615281, -0.88808358, -1.34315802, 1.24532843, -0.351200974]}]\n"
     ]
    }
   ],
   "source": [
    "# read corresponding parameters\n",
    "with open(os.path.join(working, 'pars_in'+'.pickle'), 'rb') as fi:\n",
    "    pars_list = pickle.load(fi)\n",
    "print(pars_list)"
   ]
  },
  {
   "cell_type": "code",
   "execution_count": 54,
   "metadata": {
    "collapsed": true
   },
   "outputs": [],
   "source": [
    "it = 0 # read in it (independent process)\n",
    "stats = []\n",
    "target = []\n",
    "for key in list(targ_ready.keys()):\n",
    "    stats.append(stats_opts[it][key])\n",
    "    target.append(targ_ready[key])"
   ]
  },
  {
   "cell_type": "code",
   "execution_count": 55,
   "metadata": {},
   "outputs": [
    {
     "name": "stdout",
     "output_type": "stream",
     "text": [
      "[-0.684229349, 0.000152487644, -65.6958142, 0.0, 23.0194161, 0.0, -3.48639263, 3.45615281, -0.88808358, -1.34315802, 1.24532843, -0.351200974] 12\n"
     ]
    }
   ],
   "source": [
    "pars_dict = pars_list[it]\n",
    "pars_in = pars_dict['embed'] + pars_dict['pair']\n",
    "print(pars_in, len(pars_in))"
   ]
  },
  {
   "cell_type": "code",
   "execution_count": 69,
   "metadata": {
    "collapsed": true
   },
   "outputs": [],
   "source": [
    "target[0]['weight'] = 1.0\n",
    "target[1]['weight'] = 2.0\n",
    "target[2]['weight'] = 0.5\n",
    "target[3]['weight'] = 1.0\n",
    "target[4]['weight'] = 0.8"
   ]
  },
  {
   "cell_type": "code",
   "execution_count": 70,
   "metadata": {},
   "outputs": [
    {
     "data": {
      "text/plain": [
       "(1284,\n",
       " [1.0, 2.0, 0.5, 1.0, 0.8],\n",
       " [-1139.2,\n",
       "  -906.9778906249999,\n",
       "  -1127.13044453125,\n",
       "  -1136.3561554687499,\n",
       "  -1136.7059554687498,\n",
       "  0.0,\n",
       "  0.0])"
      ]
     },
     "execution_count": 70,
     "metadata": {},
     "output_type": "execute_result"
    }
   ],
   "source": [
    "len(target[0]['energy']), [t['weight'] for t in target], target[1]['energy']"
   ]
  },
  {
   "cell_type": "code",
   "execution_count": 71,
   "metadata": {
    "collapsed": true
   },
   "outputs": [],
   "source": [
    "def optimize_EAM(target, stats, ieam, multi_pars, n_b=3):\n",
    "    \n",
    "    optimal_parameters = []\n",
    "    \n",
    "    for i, pars in enumerate(multi_pars):\n",
    "        sd_ini = sd2_loss(list(pars), stats, target, utot_EAM, None, [ieam])\n",
    "        print(i,' sd2: ini', sd_ini, end='')\n",
    "        output = fmin(sd2_loss, pars, args=(stats, target, utot_EAM, None, [ieam]), maxiter=100000, maxfun=100000, disp=0, full_output=1,ftol=1e-6)\n",
    "        optimal_parameters.append(tuple([output[1], output[0]]))\n",
    "        print('sd2: final', output[1])\n",
    "\n",
    "    n_best = min(n_b, len(optimal_parameters))\n",
    "    #print(optimal_parameters)\n",
    "                 \n",
    "    best_params = sorted(optimal_parameters, key=lambda param: param[0])[:n_best]\n",
    "    \n",
    "    print('Best params:', best_params)\n",
    "\n",
    "    return best_params"
   ]
  },
  {
   "cell_type": "code",
   "execution_count": 74,
   "metadata": {},
   "outputs": [],
   "source": [
    "multi_pars = []\n",
    "\n",
    "multi_pars.append([ 4.21813176e+00,  1.28438711e-02,  7.18447209e+02,  2.79873504e+01,\n",
    "       -3.64063120e+01,  1.55668343e+01, -3.59671207e+00,  7.18079901e-02,\n",
    "       -7.56657066e-02,  2.53180527e-01, -4.96952030e-01, -4.27379804e-02])\n",
    "\n",
    "multi_pars.append([-1.70284536e+00,  1.77584742e-03, -2.03091714e+02,  6.67172987e+02,\n",
    "       -1.39072153e+03,  7.95275451e+02, -2.44611978e+01,  5.09001525e+00,\n",
    "       -3.57713253e-01, -1.04584266e+00,  1.30255105e+00, -4.09472026e-01])\n",
    "\n",
    "multi_pars.append([ 1.49705729e+00,  8.14531512e-03, -8.15988329e+02,  5.87519886e+02,\n",
    "       -1.01285873e+03,  5.10026120e+02, -1.11686150e+01,  1.51343754e+00,\n",
    "        1.15612472e-01, -4.84858749e-01,  3.56870076e-01, -2.09915075e-01])\n",
    "\n",
    "multi_pars.append([ 1.54864560e+00,  1.06062750e-02, -3.00996729e+02,  3.32437763e+02,\n",
    "       -3.39714171e+02,  9.93126859e+01, -2.04873166e+01,  1.12932344e+00,\n",
    "       -7.73962738e-02, -1.97622239e-01,  1.14699068e-01, -1.23093792e-01])\n",
    "\n",
    "multi_pars.append([ 1.08153442e+00,  2.12340093e-03, -2.83828424e+02,  3.30196594e+02,\n",
    "       -3.61260411e+02,  1.30278313e+02, -3.12845720e+01,  2.97822976e+00,\n",
    "       -5.85372576e-02, -8.72679252e-01,  5.95310242e-01, -2.30722232e-01])\n",
    "\n",
    "multi_pars.append([-1.84530425e+00, -2.18389467e-05, -1.46520729e+03,  1.16790147e+02,\n",
    "       -1.41528209e+02,  7.82448301e+01,  4.04340173e+00, -2.96638562e+00,\n",
    "        2.19448488e+00, -5.43928853e-01, -1.31154657e+00,  7.46848321e-01])\n",
    "\n",
    "#multi_pars.append([-2.58497269e+00, -7.98482857e-05, -4.80522777e+00,  7.27769167e+01,\n",
    "#       -9.08527121e+01,  5.22384962e+01, -1.30656472e+01,  1.20158643e+00,\n",
    "#        2.92892542e-01, -7.51221013e-01,  1.29332724e-01,  1.79078212e-01])\n",
    "\n",
    "#multi_pars.append([ 1.54864560e+00,  1.06062750e-02, -3.00996729e+02,  3.32437763e+02,\n",
    "#       -3.39714171e+02,  9.93126859e+01, -2.04873166e+01,  1.12932344e+00,\n",
    "#       -7.73962738e-02, -1.97622239e-01,  1.14699068e-01, -1.23093792e-01])\n",
    "\n",
    "#multi_pars.append([ 8.13208315e-01,  7.37117140e-03, -8.19982975e+02,  6.16948045e+02,\n",
    "#       -1.08159723e+03,  5.52647596e+02, -1.30505218e+01,  1.99300289e+00,\n",
    "#        1.20773890e-01, -7.28007140e-01,  6.23374409e-01, -2.63144681e-01])\n",
    "\n",
    "#multi_pars.append([-3.31561243e-01,  6.11880566e-03, -9.71792068e+02,  5.84785795e+02,\n",
    "#       -9.70393918e+02,  4.80539429e+02, -1.19631593e+01,  1.74524655e+00,\n",
    "#        1.30016634e+00, -2.17244459e+00,  1.54141798e+00, -4.27749577e-01])\n",
    "\n",
    "#multi_pars.append([-1.94676818e+00, -1.00213528e-04, -7.50184465e+02,  4.02484931e+02,\n",
    "#       -7.69176541e+02,  4.49109198e+02, -1.74942886e+01,  3.38385035e+00,\n",
    "#        1.32669118e+00, -2.33887861e+00,  1.88569396e+00, -5.00674372e-01])\n",
    "\n",
    "#multi_pars.append([ 1.28170537e+00,  5.73600852e-03, -1.22676678e+03,  1.37266450e+03,\n",
    "#       -2.55956924e+03,  1.34512686e+03, -2.61927223e+01,  5.41221234e+00,\n",
    "#       -3.14995466e+00,  2.23970362e+00, -8.25772384e-01, -2.23081195e-02])\n",
    "\n",
    "#multi_pars.append([-2.88264157e+00, -1.29379757e-04, -7.63896489e+01,  0.0, 3.11940843e+01, 0.0,\n",
    "#       -4.08372519e+00,  2.23147357e-01,  1.37384374e+00, -1.66367728e+00,\n",
    "#        4.56398664e-01,  1.77978098e-01])\n",
    "\n",
    "#multi_pars.append([-1.62881495e+00, -1.34430121e-05,  4.44435468e+01,  0.0, 1.44694307e+01, 0.0,\n",
    "#        2.61563868e+00, -2.27083334e+00,  1.32643446e+00,  1.00353133e-01,\n",
    "#       -1.29821366e+00,  5.47283066e-01])\n",
    "\n",
    "#multi_pars.append(np.array(pars_in))\n",
    "\n",
    "for _ in range(0):\n",
    "    pars = np.array(multi_pars[0])\n",
    "    pars += np.random.standard_normal(pars.shape)*0.4\n",
    "    print(pars)\n",
    "    multi_pars.append(pars)\n",
    "    \n",
    "for _ in range(0):\n",
    "    pars = np.array(multi_pars[1])\n",
    "    pars += np.random.standard_normal(pars.shape)*0.4\n",
    "    print(pars)\n",
    "    multi_pars.append(pars)\n",
    "    \n",
    "for _ in range(0):\n",
    "    pars = np.array(multi_pars[2])\n",
    "    pars += np.random.standard_normal(pars.shape)*0.4\n",
    "    print(pars)\n",
    "    multi_pars.append(pars)\n",
    "\n",
    "for _ in range(0):\n",
    "    pars = np.array(multi_pars[2])\n",
    "    pars += np.random.standard_normal(pars.shape)*0.4\n",
    "    print(pars)\n",
    "    multi_pars.append(pars)"
   ]
  },
  {
   "cell_type": "code",
   "execution_count": 76,
   "metadata": {},
   "outputs": [],
   "source": [
    "#multi_pars"
   ]
  },
  {
   "cell_type": "code",
   "execution_count": 77,
   "metadata": {
    "collapsed": true
   },
   "outputs": [],
   "source": [
    "#multi_pars = []\n",
    "\n",
    "#multi_pars.append([ 4.21813176e+00,  1.28438711e-02,  7.18447209e+02,  2.79873504e+01,\n",
    "#       -3.64063120e+01,  1.55668343e+01, -3.59671207e+00,  7.18079901e-02,\n",
    "#       -7.56657066e-02,  2.53180527e-01, -4.96952030e-01, -4.27379804e-02])"
   ]
  },
  {
   "cell_type": "code",
   "execution_count": 87,
   "metadata": {},
   "outputs": [
    {
     "name": "stdout",
     "output_type": "stream",
     "text": [
      "ieam: 9\n",
      "0  sd2: ini 12.268686118726542"
     ]
    },
    {
     "name": "stderr",
     "output_type": "stream",
     "text": [
      "../../statmechlib/statmechlib/forcefields/eam.py:226: RuntimeWarning: overflow encountered in exp\n",
      "  eee = np.exp(-uuu)\n"
     ]
    },
    {
     "name": "stdout",
     "output_type": "stream",
     "text": [
      "sd2: final 12.268686118726542\n",
      "1  sd2: ini 7.070137846263654sd2: final 0.19890564222409463\n",
      "2  sd2: ini 12.268686118726542sd2: final 12.268686118726542\n",
      "3  sd2: ini 12.268686118726542sd2: final 12.268686118726542\n",
      "4  sd2: ini 7.229627474974159sd2: final 0.025698328725541595\n",
      "5  sd2: ini 6.145767783254056sd2: final 0.008456119415979294\n",
      "Best params: [(0.008456119415979294, array([-1.79249003e+00, -2.00331122e-05, -3.35312820e+01,  6.03345792e+01,\n",
      "       -2.43444547e+01, -7.74532973e+00,  9.50962099e+00, -3.47822265e+00,\n",
      "        1.68154006e+00,  7.65107568e-02, -1.43879186e+00,  6.14226236e-01])), (0.025698328725541595, array([ 1.24967079e-01,  8.39073429e-05, -1.58698729e+02,  3.52708043e+02,\n",
      "       -4.19184447e+02,  1.51612646e+02, -3.25937129e+01,  3.26022576e+00,\n",
      "       -7.53521755e-02, -1.18459793e+00,  9.11217336e-01, -2.83673203e-01])), (0.19890564222409463, array([ 2.52788705e-01, -8.22908094e-05,  1.27882600e+02,  5.38765234e+02,\n",
      "       -6.70288054e+02,  2.42911562e+02, -5.16716247e+01,  1.42689644e+01,\n",
      "       -1.53723675e+00, -2.15064871e+00,  2.30140463e+00, -5.50644881e-01])), (12.268686118726542, array([ 4.21813176e+00,  1.28438711e-02,  7.18447209e+02,  2.79873504e+01,\n",
      "       -3.64063120e+01,  1.55668343e+01, -3.59671207e+00,  7.18079901e-02,\n",
      "       -7.56657066e-02,  2.53180527e-01, -4.96952030e-01, -4.27379804e-02])), (12.268686118726542, array([ 1.49705729e+00,  8.14531512e-03, -8.15988329e+02,  5.87519886e+02,\n",
      "       -1.01285873e+03,  5.10026120e+02, -1.11686150e+01,  1.51343754e+00,\n",
      "        1.15612472e-01, -4.84858749e-01,  3.56870076e-01, -2.09915075e-01])), (12.268686118726542, array([ 1.54864560e+00,  1.06062750e-02, -3.00996729e+02,  3.32437763e+02,\n",
      "       -3.39714171e+02,  9.93126859e+01, -2.04873166e+01,  1.12932344e+00,\n",
      "       -7.73962738e-02, -1.97622239e-01,  1.14699068e-01, -1.23093792e-01]))]\n",
      "0  sd2: ini 0.008456119415979294sd2: final 0.007439732799554043\n",
      "1  sd2: ini 0.025698328725541595sd2: final 0.013239717086419104\n",
      "2  sd2: ini 0.19890564222409463sd2: final 0.00741748097449575\n",
      "3  sd2: ini 12.268686118726542sd2: final 12.268686118726542\n",
      "4  sd2: ini 12.268686118726542sd2: final 12.268686118726542\n",
      "5  sd2: ini 12.268686118726542sd2: final 12.268686118726542\n",
      "Best params: [(0.00741748097449575, array([-1.57001104e+00, -7.77814360e-06, -9.39209481e+01,  1.41370887e+02,\n",
      "       -1.21148772e+02,  2.79249385e+01,  1.27851794e+00, -2.24742804e+00,\n",
      "        1.02368644e+00,  3.22415540e-01, -1.33565124e+00,  5.30803463e-01])), (0.007439732799554043, array([-1.49964737e+00, -2.03485733e-06, -4.11901380e+01,  9.15086031e+01,\n",
      "       -7.65580514e+01,  1.91489658e+01,  1.41836016e+00, -2.03351903e+00,\n",
      "        8.78820893e-01,  3.51731577e-01, -1.28727436e+00,  5.02717793e-01])), (0.013239717086419104, array([-2.07490047e-01,  7.58135757e-05, -1.72529622e+02,  1.33893171e+02,\n",
      "       -1.20877473e+02,  3.40432925e+01, -8.91437995e+00,  4.43987305e-01,\n",
      "        1.14304704e+00, -1.59554099e+00,  6.96204168e-01, -1.43279244e-01])), (12.268686118726542, array([ 4.21813176e+00,  1.28438711e-02,  7.18447209e+02,  2.79873504e+01,\n",
      "       -3.64063120e+01,  1.55668343e+01, -3.59671207e+00,  7.18079901e-02,\n",
      "       -7.56657066e-02,  2.53180527e-01, -4.96952030e-01, -4.27379804e-02])), (12.268686118726542, array([ 1.49705729e+00,  8.14531512e-03, -8.15988329e+02,  5.87519886e+02,\n",
      "       -1.01285873e+03,  5.10026120e+02, -1.11686150e+01,  1.51343754e+00,\n",
      "        1.15612472e-01, -4.84858749e-01,  3.56870076e-01, -2.09915075e-01])), (12.268686118726542, array([ 1.54864560e+00,  1.06062750e-02, -3.00996729e+02,  3.32437763e+02,\n",
      "       -3.39714171e+02,  9.93126859e+01, -2.04873166e+01,  1.12932344e+00,\n",
      "       -7.73962738e-02, -1.97622239e-01,  1.14699068e-01, -1.23093792e-01]))]\n",
      "0  sd2: ini 0.00741748097449575sd2: final 0.007411526312123436\n",
      "1  sd2: ini 0.007439732799554043sd2: final 0.007373041906769806\n",
      "2  sd2: ini 0.013239717086419104sd2: final 0.008910100824518048\n",
      "3  sd2: ini 12.268686118726542sd2: final 12.268686118726542\n",
      "4  sd2: ini 12.268686118726542sd2: final 12.268686118726542\n",
      "5  sd2: ini 12.268686118726542sd2: final 12.268686118726542\n",
      "Best params: [(0.007373041906769806, array([-1.48233800e+00, -2.15530994e-06, -7.88124312e+01,  1.24118265e+02,\n",
      "       -1.06490199e+02,  2.56765407e+01,  7.42646449e-01, -2.02334110e+00,\n",
      "        9.52754566e-01,  2.69182930e-01, -1.23579891e+00,  4.91193180e-01])), (0.007411526312123436, array([-1.57883821e+00, -8.31333396e-06, -8.50020921e+01,  1.31740136e+02,\n",
      "       -1.11153659e+02,  2.50836600e+01,  1.74540579e+00, -2.29221003e+00,\n",
      "        1.04723270e+00,  3.14545070e-01, -1.34064528e+00,  5.34265833e-01])), (0.008910100824518048, array([-1.16361555e+00,  1.82921451e-05, -2.49964202e+02,  2.72288417e+02,\n",
      "       -2.50789129e+02,  6.15419054e+01, -5.45718360e+00, -1.43691497e+00,\n",
      "        1.04878106e+00, -2.25603022e-01, -7.45829932e-01,  3.32124504e-01])), (12.268686118726542, array([ 4.21813176e+00,  1.28438711e-02,  7.18447209e+02,  2.79873504e+01,\n",
      "       -3.64063120e+01,  1.55668343e+01, -3.59671207e+00,  7.18079901e-02,\n",
      "       -7.56657066e-02,  2.53180527e-01, -4.96952030e-01, -4.27379804e-02])), (12.268686118726542, array([ 1.49705729e+00,  8.14531512e-03, -8.15988329e+02,  5.87519886e+02,\n",
      "       -1.01285873e+03,  5.10026120e+02, -1.11686150e+01,  1.51343754e+00,\n",
      "        1.15612472e-01, -4.84858749e-01,  3.56870076e-01, -2.09915075e-01])), (12.268686118726542, array([ 1.54864560e+00,  1.06062750e-02, -3.00996729e+02,  3.32437763e+02,\n",
      "       -3.39714171e+02,  9.93126859e+01, -2.04873166e+01,  1.12932344e+00,\n",
      "       -7.73962738e-02, -1.97622239e-01,  1.14699068e-01, -1.23093792e-01]))]\n",
      "0  sd2: ini 0.007373041906769806sd2: final 0.0073729689608763235\n",
      "1  sd2: ini 0.007411526312123436sd2: final 0.007394918517351247\n",
      "2  sd2: ini 0.008910100824518048sd2: final 0.007566847935837282\n",
      "3  sd2: ini 12.268686118726542sd2: final 12.268686118726542\n",
      "4  sd2: ini 12.268686118726542sd2: final 12.268686118726542\n",
      "5  sd2: ini 12.268686118726542sd2: final 12.268686118726542\n",
      "Best params: [(0.0073729689608763235, array([-1.48170710e+00, -2.26116340e-06, -7.79084567e+01,  1.23524738e+02,\n",
      "       -1.06043504e+02,  2.56572721e+01,  7.27945859e-01, -2.01502206e+00,\n",
      "        9.49188498e-01,  2.71660447e-01, -1.23609656e+00,  4.91034403e-01])), (0.007394918517351247, array([-1.55478402e+00, -6.45219726e-06, -7.15933677e+01,  1.20904018e+02,\n",
      "       -1.02706692e+02,  2.42297256e+01,  1.44360745e+00, -2.18141939e+00,\n",
      "        9.61042215e-01,  3.56784478e-01, -1.33762797e+00,  5.26267102e-01])), (0.007566847935837282, array([-1.19940240e+00,  1.53161495e-05, -8.39590787e+01,  1.20253858e+02,\n",
      "       -1.08472060e+02,  3.00438976e+01, -2.31550193e+00, -1.27463548e+00,\n",
      "        7.75857224e-01,  4.06401536e-02, -8.84923982e-01,  3.59564585e-01])), (12.268686118726542, array([ 4.21813176e+00,  1.28438711e-02,  7.18447209e+02,  2.79873504e+01,\n",
      "       -3.64063120e+01,  1.55668343e+01, -3.59671207e+00,  7.18079901e-02,\n",
      "       -7.56657066e-02,  2.53180527e-01, -4.96952030e-01, -4.27379804e-02])), (12.268686118726542, array([ 1.49705729e+00,  8.14531512e-03, -8.15988329e+02,  5.87519886e+02,\n",
      "       -1.01285873e+03,  5.10026120e+02, -1.11686150e+01,  1.51343754e+00,\n",
      "        1.15612472e-01, -4.84858749e-01,  3.56870076e-01, -2.09915075e-01])), (12.268686118726542, array([ 1.54864560e+00,  1.06062750e-02, -3.00996729e+02,  3.32437763e+02,\n",
      "       -3.39714171e+02,  9.93126859e+01, -2.04873166e+01,  1.12932344e+00,\n",
      "       -7.73962738e-02, -1.97622239e-01,  1.14699068e-01, -1.23093792e-01]))]\n",
      "0  sd2: ini 0.0073729689608763235sd2: final 0.007372937029177636\n",
      "1  sd2: ini 0.007394918517351247sd2: final 0.007377250043624508\n",
      "2  sd2: ini 0.007566847935837282sd2: final 0.007408073278262907\n",
      "3  sd2: ini 12.268686118726542sd2: final 12.268686118726542\n",
      "4  sd2: ini 12.268686118726542sd2: final 12.268686118726542\n",
      "5  sd2: ini 12.268686118726542sd2: final 12.268686118726542\n",
      "Best params: [(0.007372937029177636, array([-1.48107607e+00, -2.11281591e-06, -7.75748552e+01,  1.23284902e+02,\n",
      "       -1.05876828e+02,  2.56371829e+01,  7.21885424e-01, -2.01549825e+00,\n",
      "        9.46930507e-01,  2.72867578e-01, -1.23624777e+00,  4.90853203e-01])), (0.007377250043624508, array([-1.49564406e+00, -2.85807462e-06, -7.77226308e+01,  1.22325523e+02,\n",
      "       -1.03855153e+02,  2.44196123e+01,  1.11355549e+00, -2.09925504e+00,\n",
      "        9.96826282e-01,  2.50797486e-01, -1.24061630e+00,  4.96041129e-01])), (0.007408073278262907, array([-1.41508120e+00,  1.72750903e-06, -6.85187036e+01,  1.17145557e+02,\n",
      "       -1.03650455e+02,  2.74453113e+01, -3.51598974e-01, -1.74419398e+00,\n",
      "        7.88686155e-01,  3.25721331e-01, -1.20015135e+00,  4.65698840e-01])), (12.268686118726542, array([ 4.21813176e+00,  1.28438711e-02,  7.18447209e+02,  2.79873504e+01,\n",
      "       -3.64063120e+01,  1.55668343e+01, -3.59671207e+00,  7.18079901e-02,\n",
      "       -7.56657066e-02,  2.53180527e-01, -4.96952030e-01, -4.27379804e-02])), (12.268686118726542, array([ 1.49705729e+00,  8.14531512e-03, -8.15988329e+02,  5.87519886e+02,\n",
      "       -1.01285873e+03,  5.10026120e+02, -1.11686150e+01,  1.51343754e+00,\n",
      "        1.15612472e-01, -4.84858749e-01,  3.56870076e-01, -2.09915075e-01])), (12.268686118726542, array([ 1.54864560e+00,  1.06062750e-02, -3.00996729e+02,  3.32437763e+02,\n",
      "       -3.39714171e+02,  9.93126859e+01, -2.04873166e+01,  1.12932344e+00,\n",
      "       -7.73962738e-02, -1.97622239e-01,  1.14699068e-01, -1.23093792e-01]))]\n"
     ]
    },
    {
     "name": "stdout",
     "output_type": "stream",
     "text": [
      "0  sd2: ini 0.007372937029177636sd2: final 0.007372839633041122\n",
      "1  sd2: ini 0.007377250043624508"
     ]
    },
    {
     "ename": "KeyboardInterrupt",
     "evalue": "",
     "output_type": "error",
     "traceback": [
      "\u001b[0;31m---------------------------------------------------------------------------\u001b[0m",
      "\u001b[0;31mKeyboardInterrupt\u001b[0m                         Traceback (most recent call last)",
      "\u001b[0;32m<ipython-input-87-77fce94cd35a>\u001b[0m in \u001b[0;36m<module>\u001b[0;34m()\u001b[0m\n\u001b[1;32m      3\u001b[0m     \u001b[0mm_pars\u001b[0m \u001b[0;34m=\u001b[0m \u001b[0mmulti_pars\u001b[0m\u001b[0;34m\u001b[0m\u001b[0m\n\u001b[1;32m      4\u001b[0m     \u001b[0;32mfor\u001b[0m \u001b[0mi\u001b[0m \u001b[0;32min\u001b[0m \u001b[0mrange\u001b[0m\u001b[0;34m(\u001b[0m\u001b[0;36m6\u001b[0m\u001b[0;34m)\u001b[0m\u001b[0;34m:\u001b[0m\u001b[0;34m\u001b[0m\u001b[0m\n\u001b[0;32m----> 5\u001b[0;31m         \u001b[0mbest_pars\u001b[0m \u001b[0;34m=\u001b[0m \u001b[0moptimize_EAM\u001b[0m\u001b[0;34m(\u001b[0m\u001b[0mtarget\u001b[0m\u001b[0;34m,\u001b[0m \u001b[0mstats\u001b[0m\u001b[0;34m,\u001b[0m \u001b[0mieam\u001b[0m\u001b[0;34m,\u001b[0m \u001b[0mm_pars\u001b[0m\u001b[0;34m,\u001b[0m \u001b[0mn_b\u001b[0m\u001b[0;34m=\u001b[0m\u001b[0mlen\u001b[0m\u001b[0;34m(\u001b[0m\u001b[0mm_pars\u001b[0m\u001b[0;34m)\u001b[0m\u001b[0;34m)\u001b[0m\u001b[0;34m\u001b[0m\u001b[0m\n\u001b[0m\u001b[1;32m      6\u001b[0m         \u001b[0mm_pars\u001b[0m \u001b[0;34m=\u001b[0m \u001b[0;34m[\u001b[0m\u001b[0mp\u001b[0m\u001b[0;34m[\u001b[0m\u001b[0;36m1\u001b[0m\u001b[0;34m]\u001b[0m \u001b[0;32mfor\u001b[0m \u001b[0mp\u001b[0m \u001b[0;32min\u001b[0m \u001b[0mbest_pars\u001b[0m\u001b[0;34m]\u001b[0m\u001b[0;34m\u001b[0m\u001b[0m\n",
      "\u001b[0;32m<ipython-input-71-cd921b131f45>\u001b[0m in \u001b[0;36moptimize_EAM\u001b[0;34m(target, stats, ieam, multi_pars, n_b)\u001b[0m\n\u001b[1;32m      6\u001b[0m         \u001b[0msd_ini\u001b[0m \u001b[0;34m=\u001b[0m \u001b[0msd2_loss\u001b[0m\u001b[0;34m(\u001b[0m\u001b[0mlist\u001b[0m\u001b[0;34m(\u001b[0m\u001b[0mpars\u001b[0m\u001b[0;34m)\u001b[0m\u001b[0;34m,\u001b[0m \u001b[0mstats\u001b[0m\u001b[0;34m,\u001b[0m \u001b[0mtarget\u001b[0m\u001b[0;34m,\u001b[0m \u001b[0mutot_EAM\u001b[0m\u001b[0;34m,\u001b[0m \u001b[0;32mNone\u001b[0m\u001b[0;34m,\u001b[0m \u001b[0;34m[\u001b[0m\u001b[0mieam\u001b[0m\u001b[0;34m]\u001b[0m\u001b[0;34m)\u001b[0m\u001b[0;34m\u001b[0m\u001b[0m\n\u001b[1;32m      7\u001b[0m         \u001b[0mprint\u001b[0m\u001b[0;34m(\u001b[0m\u001b[0mi\u001b[0m\u001b[0;34m,\u001b[0m\u001b[0;34m' sd2: ini'\u001b[0m\u001b[0;34m,\u001b[0m \u001b[0msd_ini\u001b[0m\u001b[0;34m,\u001b[0m \u001b[0mend\u001b[0m\u001b[0;34m=\u001b[0m\u001b[0;34m''\u001b[0m\u001b[0;34m)\u001b[0m\u001b[0;34m\u001b[0m\u001b[0m\n\u001b[0;32m----> 8\u001b[0;31m         \u001b[0moutput\u001b[0m \u001b[0;34m=\u001b[0m \u001b[0mfmin\u001b[0m\u001b[0;34m(\u001b[0m\u001b[0msd2_loss\u001b[0m\u001b[0;34m,\u001b[0m \u001b[0mpars\u001b[0m\u001b[0;34m,\u001b[0m \u001b[0margs\u001b[0m\u001b[0;34m=\u001b[0m\u001b[0;34m(\u001b[0m\u001b[0mstats\u001b[0m\u001b[0;34m,\u001b[0m \u001b[0mtarget\u001b[0m\u001b[0;34m,\u001b[0m \u001b[0mutot_EAM\u001b[0m\u001b[0;34m,\u001b[0m \u001b[0;32mNone\u001b[0m\u001b[0;34m,\u001b[0m \u001b[0;34m[\u001b[0m\u001b[0mieam\u001b[0m\u001b[0;34m]\u001b[0m\u001b[0;34m)\u001b[0m\u001b[0;34m,\u001b[0m \u001b[0mmaxiter\u001b[0m\u001b[0;34m=\u001b[0m\u001b[0;36m100000\u001b[0m\u001b[0;34m,\u001b[0m \u001b[0mmaxfun\u001b[0m\u001b[0;34m=\u001b[0m\u001b[0;36m100000\u001b[0m\u001b[0;34m,\u001b[0m \u001b[0mdisp\u001b[0m\u001b[0;34m=\u001b[0m\u001b[0;36m0\u001b[0m\u001b[0;34m,\u001b[0m \u001b[0mfull_output\u001b[0m\u001b[0;34m=\u001b[0m\u001b[0;36m1\u001b[0m\u001b[0;34m,\u001b[0m\u001b[0mftol\u001b[0m\u001b[0;34m=\u001b[0m\u001b[0;36m1e-6\u001b[0m\u001b[0;34m)\u001b[0m\u001b[0;34m\u001b[0m\u001b[0m\n\u001b[0m\u001b[1;32m      9\u001b[0m         \u001b[0moptimal_parameters\u001b[0m\u001b[0;34m.\u001b[0m\u001b[0mappend\u001b[0m\u001b[0;34m(\u001b[0m\u001b[0mtuple\u001b[0m\u001b[0;34m(\u001b[0m\u001b[0;34m[\u001b[0m\u001b[0moutput\u001b[0m\u001b[0;34m[\u001b[0m\u001b[0;36m1\u001b[0m\u001b[0;34m]\u001b[0m\u001b[0;34m,\u001b[0m \u001b[0moutput\u001b[0m\u001b[0;34m[\u001b[0m\u001b[0;36m0\u001b[0m\u001b[0;34m]\u001b[0m\u001b[0;34m]\u001b[0m\u001b[0;34m)\u001b[0m\u001b[0;34m)\u001b[0m\u001b[0;34m\u001b[0m\u001b[0m\n\u001b[1;32m     10\u001b[0m         \u001b[0mprint\u001b[0m\u001b[0;34m(\u001b[0m\u001b[0;34m'sd2: final'\u001b[0m\u001b[0;34m,\u001b[0m \u001b[0moutput\u001b[0m\u001b[0;34m[\u001b[0m\u001b[0;36m1\u001b[0m\u001b[0;34m]\u001b[0m\u001b[0;34m)\u001b[0m\u001b[0;34m\u001b[0m\u001b[0m\n",
      "\u001b[0;32m//anaconda/envs/py36/lib/python3.6/site-packages/scipy/optimize/optimize.py\u001b[0m in \u001b[0;36mfmin\u001b[0;34m(func, x0, args, xtol, ftol, maxiter, maxfun, full_output, disp, retall, callback, initial_simplex)\u001b[0m\n\u001b[1;32m    407\u001b[0m             'initial_simplex': initial_simplex}\n\u001b[1;32m    408\u001b[0m \u001b[0;34m\u001b[0m\u001b[0m\n\u001b[0;32m--> 409\u001b[0;31m     \u001b[0mres\u001b[0m \u001b[0;34m=\u001b[0m \u001b[0m_minimize_neldermead\u001b[0m\u001b[0;34m(\u001b[0m\u001b[0mfunc\u001b[0m\u001b[0;34m,\u001b[0m \u001b[0mx0\u001b[0m\u001b[0;34m,\u001b[0m \u001b[0margs\u001b[0m\u001b[0;34m,\u001b[0m \u001b[0mcallback\u001b[0m\u001b[0;34m=\u001b[0m\u001b[0mcallback\u001b[0m\u001b[0;34m,\u001b[0m \u001b[0;34m**\u001b[0m\u001b[0mopts\u001b[0m\u001b[0;34m)\u001b[0m\u001b[0;34m\u001b[0m\u001b[0m\n\u001b[0m\u001b[1;32m    410\u001b[0m     \u001b[0;32mif\u001b[0m \u001b[0mfull_output\u001b[0m\u001b[0;34m:\u001b[0m\u001b[0;34m\u001b[0m\u001b[0m\n\u001b[1;32m    411\u001b[0m         \u001b[0mretlist\u001b[0m \u001b[0;34m=\u001b[0m \u001b[0mres\u001b[0m\u001b[0;34m[\u001b[0m\u001b[0;34m'x'\u001b[0m\u001b[0;34m]\u001b[0m\u001b[0;34m,\u001b[0m \u001b[0mres\u001b[0m\u001b[0;34m[\u001b[0m\u001b[0;34m'fun'\u001b[0m\u001b[0;34m]\u001b[0m\u001b[0;34m,\u001b[0m \u001b[0mres\u001b[0m\u001b[0;34m[\u001b[0m\u001b[0;34m'nit'\u001b[0m\u001b[0;34m]\u001b[0m\u001b[0;34m,\u001b[0m \u001b[0mres\u001b[0m\u001b[0;34m[\u001b[0m\u001b[0;34m'nfev'\u001b[0m\u001b[0;34m]\u001b[0m\u001b[0;34m,\u001b[0m \u001b[0mres\u001b[0m\u001b[0;34m[\u001b[0m\u001b[0;34m'status'\u001b[0m\u001b[0;34m]\u001b[0m\u001b[0;34m\u001b[0m\u001b[0m\n",
      "\u001b[0;32m//anaconda/envs/py36/lib/python3.6/site-packages/scipy/optimize/optimize.py\u001b[0m in \u001b[0;36m_minimize_neldermead\u001b[0;34m(func, x0, args, callback, maxiter, maxfev, disp, return_all, initial_simplex, xatol, fatol, adaptive, **unknown_options)\u001b[0m\n\u001b[1;32m    571\u001b[0m         \u001b[0;32mif\u001b[0m \u001b[0mfxr\u001b[0m \u001b[0;34m<\u001b[0m \u001b[0mfsim\u001b[0m\u001b[0;34m[\u001b[0m\u001b[0;36m0\u001b[0m\u001b[0;34m]\u001b[0m\u001b[0;34m:\u001b[0m\u001b[0;34m\u001b[0m\u001b[0m\n\u001b[1;32m    572\u001b[0m             \u001b[0mxe\u001b[0m \u001b[0;34m=\u001b[0m \u001b[0;34m(\u001b[0m\u001b[0;36m1\u001b[0m \u001b[0;34m+\u001b[0m \u001b[0mrho\u001b[0m \u001b[0;34m*\u001b[0m \u001b[0mchi\u001b[0m\u001b[0;34m)\u001b[0m \u001b[0;34m*\u001b[0m \u001b[0mxbar\u001b[0m \u001b[0;34m-\u001b[0m \u001b[0mrho\u001b[0m \u001b[0;34m*\u001b[0m \u001b[0mchi\u001b[0m \u001b[0;34m*\u001b[0m \u001b[0msim\u001b[0m\u001b[0;34m[\u001b[0m\u001b[0;34m-\u001b[0m\u001b[0;36m1\u001b[0m\u001b[0;34m]\u001b[0m\u001b[0;34m\u001b[0m\u001b[0m\n\u001b[0;32m--> 573\u001b[0;31m             \u001b[0mfxe\u001b[0m \u001b[0;34m=\u001b[0m \u001b[0mfunc\u001b[0m\u001b[0;34m(\u001b[0m\u001b[0mxe\u001b[0m\u001b[0;34m)\u001b[0m\u001b[0;34m\u001b[0m\u001b[0m\n\u001b[0m\u001b[1;32m    574\u001b[0m \u001b[0;34m\u001b[0m\u001b[0m\n\u001b[1;32m    575\u001b[0m             \u001b[0;32mif\u001b[0m \u001b[0mfxe\u001b[0m \u001b[0;34m<\u001b[0m \u001b[0mfxr\u001b[0m\u001b[0;34m:\u001b[0m\u001b[0;34m\u001b[0m\u001b[0m\n",
      "\u001b[0;32m//anaconda/envs/py36/lib/python3.6/site-packages/scipy/optimize/optimize.py\u001b[0m in \u001b[0;36mfunction_wrapper\u001b[0;34m(*wrapper_args)\u001b[0m\n\u001b[1;32m    291\u001b[0m     \u001b[0;32mdef\u001b[0m \u001b[0mfunction_wrapper\u001b[0m\u001b[0;34m(\u001b[0m\u001b[0;34m*\u001b[0m\u001b[0mwrapper_args\u001b[0m\u001b[0;34m)\u001b[0m\u001b[0;34m:\u001b[0m\u001b[0;34m\u001b[0m\u001b[0m\n\u001b[1;32m    292\u001b[0m         \u001b[0mncalls\u001b[0m\u001b[0;34m[\u001b[0m\u001b[0;36m0\u001b[0m\u001b[0;34m]\u001b[0m \u001b[0;34m+=\u001b[0m \u001b[0;36m1\u001b[0m\u001b[0;34m\u001b[0m\u001b[0m\n\u001b[0;32m--> 293\u001b[0;31m         \u001b[0;32mreturn\u001b[0m \u001b[0mfunction\u001b[0m\u001b[0;34m(\u001b[0m\u001b[0;34m*\u001b[0m\u001b[0;34m(\u001b[0m\u001b[0mwrapper_args\u001b[0m \u001b[0;34m+\u001b[0m \u001b[0margs\u001b[0m\u001b[0;34m)\u001b[0m\u001b[0;34m)\u001b[0m\u001b[0;34m\u001b[0m\u001b[0m\n\u001b[0m\u001b[1;32m    294\u001b[0m \u001b[0;34m\u001b[0m\u001b[0m\n\u001b[1;32m    295\u001b[0m     \u001b[0;32mreturn\u001b[0m \u001b[0mncalls\u001b[0m\u001b[0;34m,\u001b[0m \u001b[0mfunction_wrapper\u001b[0m\u001b[0;34m\u001b[0m\u001b[0m\n",
      "\u001b[0;32m~/work/force_fields/statmechlib/statmechlib/forcefields/eam.py\u001b[0m in \u001b[0;36msd2_loss\u001b[0;34m(params, stats, targets, utot_func, ftot_func, hparams, dl, verbose)\u001b[0m\n\u001b[1;32m    222\u001b[0m \u001b[0;34m\u001b[0m\u001b[0m\n\u001b[1;32m    223\u001b[0m         \u001b[0;31m# energy diference array for a given target trajectory\u001b[0m\u001b[0;34m\u001b[0m\u001b[0;34m\u001b[0m\u001b[0m\n\u001b[0;32m--> 224\u001b[0;31m         \u001b[0muuu\u001b[0m \u001b[0;34m=\u001b[0m \u001b[0mbeta\u001b[0m\u001b[0;34m*\u001b[0m\u001b[0;34m(\u001b[0m\u001b[0mutot_func\u001b[0m\u001b[0;34m(\u001b[0m\u001b[0mparams\u001b[0m\u001b[0;34m,\u001b[0m \u001b[0mu_stat\u001b[0m\u001b[0;34m,\u001b[0m \u001b[0mhparams\u001b[0m\u001b[0;34m)\u001b[0m \u001b[0;34m-\u001b[0m \u001b[0mu_targ\u001b[0m\u001b[0;34m)\u001b[0m \u001b[0;31m# array(n_sample)\u001b[0m\u001b[0;34m\u001b[0m\u001b[0m\n\u001b[0m\u001b[1;32m    225\u001b[0m         \u001b[0muuu\u001b[0m \u001b[0;34m-=\u001b[0m \u001b[0mnp\u001b[0m\u001b[0;34m.\u001b[0m\u001b[0mmean\u001b[0m\u001b[0;34m(\u001b[0m\u001b[0muuu\u001b[0m\u001b[0;34m)\u001b[0m\u001b[0;34m\u001b[0m\u001b[0m\n\u001b[1;32m    226\u001b[0m         \u001b[0meee\u001b[0m \u001b[0;34m=\u001b[0m \u001b[0mnp\u001b[0m\u001b[0;34m.\u001b[0m\u001b[0mexp\u001b[0m\u001b[0;34m(\u001b[0m\u001b[0;34m-\u001b[0m\u001b[0muuu\u001b[0m\u001b[0;34m)\u001b[0m\u001b[0;34m\u001b[0m\u001b[0m\n",
      "\u001b[0;32m~/work/force_fields/statmechlib/statmechlib/forcefields/eam.py\u001b[0m in \u001b[0;36mutot_EAM\u001b[0;34m(params, ustats, hparams)\u001b[0m\n\u001b[1;32m    128\u001b[0m \u001b[0;34m\u001b[0m\u001b[0m\n\u001b[1;32m    129\u001b[0m     \u001b[0;31m# pair interactions from array of spline coefficeints and corresponding statistic\u001b[0m\u001b[0;34m\u001b[0m\u001b[0;34m\u001b[0m\u001b[0m\n\u001b[0;32m--> 130\u001b[0;31m     \u001b[0mu_pair\u001b[0m \u001b[0;34m=\u001b[0m \u001b[0mnp\u001b[0m\u001b[0;34m.\u001b[0m\u001b[0marray\u001b[0m\u001b[0;34m(\u001b[0m\u001b[0;34m[\u001b[0m\u001b[0msum\u001b[0m\u001b[0;34m(\u001b[0m\u001b[0;34m[\u001b[0m\u001b[0ma\u001b[0m\u001b[0;34m*\u001b[0m\u001b[0ms\u001b[0m \u001b[0;32mfor\u001b[0m \u001b[0ma\u001b[0m\u001b[0;34m,\u001b[0m \u001b[0ms\u001b[0m \u001b[0;32min\u001b[0m \u001b[0mzip\u001b[0m\u001b[0;34m(\u001b[0m\u001b[0mparams\u001b[0m\u001b[0;34m[\u001b[0m\u001b[0;36m2\u001b[0m\u001b[0;34m:\u001b[0m\u001b[0;34m]\u001b[0m\u001b[0;34m,\u001b[0m \u001b[0mustats\u001b[0m\u001b[0;34m[\u001b[0m\u001b[0mi\u001b[0m\u001b[0;34m]\u001b[0m\u001b[0;34m[\u001b[0m\u001b[0;36m2\u001b[0m\u001b[0;34m,\u001b[0m\u001b[0;34m:\u001b[0m\u001b[0;34m]\u001b[0m\u001b[0;34m)\u001b[0m\u001b[0;34m]\u001b[0m\u001b[0;34m)\u001b[0m \u001b[0;32mfor\u001b[0m \u001b[0mi\u001b[0m \u001b[0;32min\u001b[0m \u001b[0mrange\u001b[0m\u001b[0;34m(\u001b[0m\u001b[0mn_sample\u001b[0m\u001b[0;34m)\u001b[0m\u001b[0;34m]\u001b[0m\u001b[0;34m)\u001b[0m\u001b[0;34m\u001b[0m\u001b[0m\n\u001b[0m\u001b[1;32m    131\u001b[0m \u001b[0;34m\u001b[0m\u001b[0m\n\u001b[1;32m    132\u001b[0m     \u001b[0;31m# manybody interactions from embedding function parameters and corresponding statistics\u001b[0m\u001b[0;34m\u001b[0m\u001b[0;34m\u001b[0m\u001b[0m\n",
      "\u001b[0;32m~/work/force_fields/statmechlib/statmechlib/forcefields/eam.py\u001b[0m in \u001b[0;36m<listcomp>\u001b[0;34m(.0)\u001b[0m\n\u001b[1;32m    128\u001b[0m \u001b[0;34m\u001b[0m\u001b[0m\n\u001b[1;32m    129\u001b[0m     \u001b[0;31m# pair interactions from array of spline coefficeints and corresponding statistic\u001b[0m\u001b[0;34m\u001b[0m\u001b[0;34m\u001b[0m\u001b[0m\n\u001b[0;32m--> 130\u001b[0;31m     \u001b[0mu_pair\u001b[0m \u001b[0;34m=\u001b[0m \u001b[0mnp\u001b[0m\u001b[0;34m.\u001b[0m\u001b[0marray\u001b[0m\u001b[0;34m(\u001b[0m\u001b[0;34m[\u001b[0m\u001b[0msum\u001b[0m\u001b[0;34m(\u001b[0m\u001b[0;34m[\u001b[0m\u001b[0ma\u001b[0m\u001b[0;34m*\u001b[0m\u001b[0ms\u001b[0m \u001b[0;32mfor\u001b[0m \u001b[0ma\u001b[0m\u001b[0;34m,\u001b[0m \u001b[0ms\u001b[0m \u001b[0;32min\u001b[0m \u001b[0mzip\u001b[0m\u001b[0;34m(\u001b[0m\u001b[0mparams\u001b[0m\u001b[0;34m[\u001b[0m\u001b[0;36m2\u001b[0m\u001b[0;34m:\u001b[0m\u001b[0;34m]\u001b[0m\u001b[0;34m,\u001b[0m \u001b[0mustats\u001b[0m\u001b[0;34m[\u001b[0m\u001b[0mi\u001b[0m\u001b[0;34m]\u001b[0m\u001b[0;34m[\u001b[0m\u001b[0;36m2\u001b[0m\u001b[0;34m,\u001b[0m\u001b[0;34m:\u001b[0m\u001b[0;34m]\u001b[0m\u001b[0;34m)\u001b[0m\u001b[0;34m]\u001b[0m\u001b[0;34m)\u001b[0m \u001b[0;32mfor\u001b[0m \u001b[0mi\u001b[0m \u001b[0;32min\u001b[0m \u001b[0mrange\u001b[0m\u001b[0;34m(\u001b[0m\u001b[0mn_sample\u001b[0m\u001b[0;34m)\u001b[0m\u001b[0;34m]\u001b[0m\u001b[0;34m)\u001b[0m\u001b[0;34m\u001b[0m\u001b[0m\n\u001b[0m\u001b[1;32m    131\u001b[0m \u001b[0;34m\u001b[0m\u001b[0m\n\u001b[1;32m    132\u001b[0m     \u001b[0;31m# manybody interactions from embedding function parameters and corresponding statistics\u001b[0m\u001b[0;34m\u001b[0m\u001b[0;34m\u001b[0m\u001b[0m\n",
      "\u001b[0;32m~/work/force_fields/statmechlib/statmechlib/forcefields/eam.py\u001b[0m in \u001b[0;36m<listcomp>\u001b[0;34m(.0)\u001b[0m\n\u001b[1;32m    128\u001b[0m \u001b[0;34m\u001b[0m\u001b[0m\n\u001b[1;32m    129\u001b[0m     \u001b[0;31m# pair interactions from array of spline coefficeints and corresponding statistic\u001b[0m\u001b[0;34m\u001b[0m\u001b[0;34m\u001b[0m\u001b[0m\n\u001b[0;32m--> 130\u001b[0;31m     \u001b[0mu_pair\u001b[0m \u001b[0;34m=\u001b[0m \u001b[0mnp\u001b[0m\u001b[0;34m.\u001b[0m\u001b[0marray\u001b[0m\u001b[0;34m(\u001b[0m\u001b[0;34m[\u001b[0m\u001b[0msum\u001b[0m\u001b[0;34m(\u001b[0m\u001b[0;34m[\u001b[0m\u001b[0ma\u001b[0m\u001b[0;34m*\u001b[0m\u001b[0ms\u001b[0m \u001b[0;32mfor\u001b[0m \u001b[0ma\u001b[0m\u001b[0;34m,\u001b[0m \u001b[0ms\u001b[0m \u001b[0;32min\u001b[0m \u001b[0mzip\u001b[0m\u001b[0;34m(\u001b[0m\u001b[0mparams\u001b[0m\u001b[0;34m[\u001b[0m\u001b[0;36m2\u001b[0m\u001b[0;34m:\u001b[0m\u001b[0;34m]\u001b[0m\u001b[0;34m,\u001b[0m \u001b[0mustats\u001b[0m\u001b[0;34m[\u001b[0m\u001b[0mi\u001b[0m\u001b[0;34m]\u001b[0m\u001b[0;34m[\u001b[0m\u001b[0;36m2\u001b[0m\u001b[0;34m,\u001b[0m\u001b[0;34m:\u001b[0m\u001b[0;34m]\u001b[0m\u001b[0;34m)\u001b[0m\u001b[0;34m]\u001b[0m\u001b[0;34m)\u001b[0m \u001b[0;32mfor\u001b[0m \u001b[0mi\u001b[0m \u001b[0;32min\u001b[0m \u001b[0mrange\u001b[0m\u001b[0;34m(\u001b[0m\u001b[0mn_sample\u001b[0m\u001b[0;34m)\u001b[0m\u001b[0;34m]\u001b[0m\u001b[0;34m)\u001b[0m\u001b[0;34m\u001b[0m\u001b[0m\n\u001b[0m\u001b[1;32m    131\u001b[0m \u001b[0;34m\u001b[0m\u001b[0m\n\u001b[1;32m    132\u001b[0m     \u001b[0;31m# manybody interactions from embedding function parameters and corresponding statistics\u001b[0m\u001b[0;34m\u001b[0m\u001b[0;34m\u001b[0m\u001b[0m\n",
      "\u001b[0;31mKeyboardInterrupt\u001b[0m: "
     ]
    }
   ],
   "source": [
    "for ieam in range(9, len(stats_opts[it]['hyperparams'])):\n",
    "    print('ieam:', ieam)\n",
    "    m_pars = multi_pars\n",
    "    for i in range(6):\n",
    "        best_pars = optimize_EAM(target, stats, ieam, m_pars, n_b=len(m_pars))\n",
    "        m_pars = [p[1] for p in best_pars]"
   ]
  },
  {
   "cell_type": "code",
   "execution_count": 31,
   "metadata": {},
   "outputs": [],
   "source": [
    "ieam6 = (0.013029382935406411, np.array([ 1.54864560e+00,  1.06062750e-02, -3.00996729e+02,  3.32437763e+02,\n",
    "       -3.39714171e+02,  9.93126859e+01, -2.04873166e+01,  1.12932344e+00,\n",
    "       -7.73962738e-02, -1.97622239e-01,  1.14699068e-01, -1.23093792e-01]))"
   ]
  },
  {
   "cell_type": "code",
   "execution_count": 39,
   "metadata": {
    "collapsed": true
   },
   "outputs": [],
   "source": [
    "ieam7 = (0.020767854281604603, array([ 1.08153442e+00,  2.12340093e-03, -2.83828424e+02,  3.30196594e+02,\n",
    "       -3.61260411e+02,  1.30278313e+02, -3.12845720e+01,  2.97822976e+00,\n",
    "       -5.85372576e-02, -8.72679252e-01,  5.95310242e-01, -2.30722232e-01]))"
   ]
  },
  {
   "cell_type": "code",
   "execution_count": 80,
   "metadata": {
    "collapsed": true
   },
   "outputs": [],
   "source": [
    "ieam9 = (0.028572627723456062, np.array([-1.84530425e+00, -2.18389467e-05, -1.46520729e+03,  1.16790147e+02,\n",
    "       -1.41528209e+02,  7.82448301e+01,  4.04340173e+00, -2.96638562e+00,\n",
    "        2.19448488e+00, -5.43928853e-01, -1.31154657e+00,  7.46848321e-01]))"
   ]
  },
  {
   "cell_type": "code",
   "execution_count": 61,
   "metadata": {
    "collapsed": true
   },
   "outputs": [],
   "source": [
    "ieam8 = (0.02036416015408666, np.array([-2.58497269e+00, -7.98482857e-05, -4.80522777e+00,  7.27769167e+01,\n",
    "       -9.08527121e+01,  5.22384962e+01, -1.30656472e+01,  1.20158643e+00,\n",
    "        2.92892542e-01, -7.51221013e-01,  1.29332724e-01,  1.79078212e-01]))"
   ]
  },
  {
   "cell_type": "code",
   "execution_count": 80,
   "metadata": {},
   "outputs": [],
   "source": [
    "ieam7 = (0.012953767988962356, np.array([ 2.30502222e+00,  3.07508489e-03, -2.41877118e+02,  2.21829913e+02,\n",
    "       -2.34314206e+02,  8.22607076e+01, -2.27797233e+01,  2.08081663e+00,\n",
    "       -2.29840971e-01, -5.74039990e-01,  3.65024960e-01, -2.49802378e-01]))"
   ]
  },
  {
   "cell_type": "code",
   "execution_count": 89,
   "metadata": {},
   "outputs": [],
   "source": [
    "ieam9 = (0.007372937029177636, np.array([-1.48107607e+00, -2.11281591e-06, -7.75748552e+01,  1.23284902e+02,\n",
    "       -1.05876828e+02,  2.56371829e+01,  7.21885424e-01, -2.01549825e+00,\n",
    "        9.46930507e-01,  2.72867578e-01, -1.23624777e+00,  4.90853203e-01]))"
   ]
  },
  {
   "cell_type": "code",
   "execution_count": 54,
   "metadata": {
    "collapsed": true
   },
   "outputs": [],
   "source": [
    "optimal_parameters = [(4.407570269501649e-05, [-1.21658318e+00,  3.24863580e-05, -4.73661687e+01,  2.29965951e+01,\n",
    "       -3.42248343e+00,  3.73956980e+00, -1.39292737e+00, -8.33458565e-01,\n",
    "        9.29769431e-01, -1.83568989e-01]), (6.17447812420396e-05, [-1.30551487e+00,  1.41920657e-05, -4.61160967e+01,  2.29352328e+01,\n",
    "       -3.42360958e+00,  3.82313395e+00, -1.54715703e+00, -6.97925842e-01,\n",
    "        8.68730239e-01, -1.54592379e-01]), (9.723561709685708e-05, [-1.34624502e+00,  7.49457487e-06, -4.58871674e+01,  2.24064873e+01,\n",
    "       -3.46516902e+00,  4.02263760e+00, -1.89661680e+00, -4.31617423e-01,\n",
    "        8.06406324e-01, -1.37562101e-01]), (0.00014123622250142564, [-1.34136558e+00,  1.01769934e-05, -4.93998032e+01,  2.21279115e+01,\n",
    "       -3.50791272e+00,  4.16822104e+00, -2.13414308e+00, -2.66237999e-01,\n",
    "        7.83819577e-01, -1.36703203e-01])]"
   ]
  },
  {
   "cell_type": "code",
   "execution_count": 91,
   "metadata": {
    "collapsed": true
   },
   "outputs": [],
   "source": [
    "optimal_parameters = [ieam9]"
   ]
  },
  {
   "cell_type": "code",
   "execution_count": 92,
   "metadata": {},
   "outputs": [
    {
     "name": "stdout",
     "output_type": "stream",
     "text": [
      "5\n",
      "Targ: [-1139.2, -906.9778906249999, -1127.13044453125, -1136.3561554687499, -1136.7059554687498]\n",
      "Model: [-1137.2972984084095, -920.2320122715646, -1131.886988787262, -1134.6331287872722, -1134.5133784481368]\n",
      "[0.0390625  0.0462963  0.03937008 0.03875969 0.03875969]\n",
      "Model: [-1137.2972984084095, -920.2320122715646, -1131.886988787262, -1134.6331287872722, -1134.5133784481368]\n",
      "0 0.007372937029177636\n"
     ]
    },
    {
     "data": {
      "text/plain": [
       "<matplotlib.legend.Legend at 0x1a82cb8d0>"
      ]
     },
     "execution_count": 92,
     "metadata": {},
     "output_type": "execute_result"
    },
    {
     "data": {
      "image/png": "[encoded data removed]",
      "text/plain": [
       "<Figure size 1440x720 with 1 Axes>"
      ]
     },
     "metadata": {},
     "output_type": "display_data"
    }
   ],
   "source": [
    "plt.figure(figsize=(20,10))\n",
    "\n",
    "nat = np.array([len(x) for x in targ_ready['relax']['xyz']])[:-2]\n",
    "print(len(nat))\n",
    "\n",
    "for i, params_uopt in enumerate(optimal_parameters):\n",
    "\n",
    "    #print(params_uopt[1])\n",
    "\n",
    "    opti_out, targ_out = udif_print(params_uopt[1], stats, target, utot_EAM, [9])\n",
    "    plt.title('Selected configurations at 0K')\n",
    "    if i == 0:\n",
    "        print('Targ:', targ_out[-4][:-2])\n",
    "        print('Model:', opti_out[-4][:-2])\n",
    "\n",
    "        #nat = np.array([len(x) for x in targ_dict['relax']['xyz']])\n",
    "        print(len(np.array(targ_out[-4][:-2]))/nat)\n",
    "        plt.plot(np.array(targ_out[-4][:-2])/nat, 'o', label='target'+str(i), markersize=10)\n",
    "        \n",
    "    #if params_uopt[0] > 0.6e-3:\n",
    "    #    continue\n",
    "    print('Model:', opti_out[-4][:-2])\n",
    "\n",
    "    #if i != 10 and i != 12:\n",
    "    #    continue\n",
    "    print(i, params_uopt[0])\n",
    "\n",
    "        \n",
    "    #print('Opti:', [o for o in opti_out[-1][:-1]])\n",
    "    plt.plot(np.array([o for o in opti_out[-4][:-2]])/nat, 'x--', label='optimized '+str(i))\n",
    "#    else:\n",
    "#        plt.plot([o for o in opti_out[-1][:-1]], 'x--', label='optimized '+str(i))\n",
    "#        plt.plot(targ_out[-1][:-1], 'o', markersize=10)\n",
    "\n",
    "plt.xticks([0, 1, 2, 3, 4, 5, 6], ['BCC','FCC', 'vacancy','110','111','liq','inf'])\n",
    "plt.ylabel('Energy [eV]')\n",
    "#plt.ylim(-1145, -1136)\n",
    "#plt.ylim(-8.905, -8.7533)\n",
    "#plt.ylim(-8.9, -8.35)\n",
    "#plt.xlim(0, 4)\n",
    "\n",
    "plt.legend()"
   ]
  },
  {
   "cell_type": "code",
   "execution_count": 94,
   "metadata": {},
   "outputs": [
    {
     "name": "stdout",
     "output_type": "stream",
     "text": [
      "8\n",
      "Targ: [-1139.1553999999999, -1022.8066999999999, -1114.8183999999999, -1123.9361, -1084.6381, -1031.6408, -971.3192999999999, -907.6867, 0.0]\n",
      "Model: [-1137.2972984084095, -1013.2667799608193, -1109.6975042896638, -1110.1637089502783, -1065.6107360982137, -1018.814625345392, -969.8076777143501, -916.2952939432921, 0.0]\n",
      "[0.0625 0.0625 0.0625 0.0625 0.0625 0.0625 0.0625 0.0625]\n",
      "0 0.007372937029177636\n"
     ]
    },
    {
     "data": {
      "text/plain": [
       "<matplotlib.legend.Legend at 0x1aad18438>"
      ]
     },
     "execution_count": 94,
     "metadata": {},
     "output_type": "execute_result"
    },
    {
     "data": {
      "image/png": "[encoded data removed]",
      "text/plain": [
       "<Figure size 1440x720 with 1 Axes>"
      ]
     },
     "metadata": {},
     "output_type": "display_data"
    }
   ],
   "source": [
    "plt.figure(figsize=(20,10))\n",
    "\n",
    "nat = np.array([len(x) for x in targ_ready['eos_bcc']['xyz']])[:-1]\n",
    "print(len(nat))\n",
    "\n",
    "for i, params_uopt in enumerate(optimal_parameters):\n",
    "\n",
    "    #print(params_uopt[1])\n",
    "\n",
    "    opti_out, targ_out = udif_print(params_uopt[1], stats, target, utot_EAM, [9])\n",
    "    plt.title('Selected configurations at 0K')\n",
    "    if i == 0:\n",
    "        print('Targ:', targ_out[-2][:])\n",
    "        print('Model:', opti_out[-2][:])\n",
    "\n",
    "        #nat = np.array([len(x) for x in targ_dict['relax']['xyz']])\n",
    "        print(len(np.array(targ_out[-2][:-1]))/nat)\n",
    "        plt.plot(np.array(targ_out[-2][:-1])/nat, 'o', label='target'+str(i), markersize=10)\n",
    "        \n",
    "    #if params_uopt[0] > 0.6e-3:\n",
    "    #    continue\n",
    "    #if i != 10 and i != 12:\n",
    "    #    continue\n",
    "    print(i, params_uopt[0])\n",
    "\n",
    "        \n",
    "    #print('Opti:', [o for o in opti_out[-1][:-1]])\n",
    "    plt.plot( np.array([o for o in opti_out[-2][:-1]])/nat, 'x--', label='optimized '+str(i))\n",
    "#    else:\n",
    "#        plt.plot([o for o in opti_out[-1][:-1]], 'x--', label='optimized '+str(i))\n",
    "#        plt.plot(targ_out[-1][:-1], 'o', markersize=10)\n",
    "\n",
    "#plt.xticks([0, 1, 2, 3, 4, 5, 6], ['BCC','FCC', 'vacancy','110','111','liq','inf'])\n",
    "plt.ylabel('Energy [eV]')\n",
    "#plt.ylim(-1145, -1136)\n",
    "#plt.ylim(-8.905, -8.7533)\n",
    "#plt.ylim(-8.9, -8.35)\n",
    "#plt.xlim(0, 4)\n",
    "\n",
    "plt.legend()"
   ]
  },
  {
   "cell_type": "code",
   "execution_count": 76,
   "metadata": {},
   "outputs": [
    {
     "data": {
      "text/plain": [
       "1284"
      ]
     },
     "execution_count": 76,
     "metadata": {},
     "output_type": "execute_result"
    }
   ],
   "source": [
    "len(targ_ready['md']['xyz'])"
   ]
  },
  {
   "cell_type": "code",
   "execution_count": 95,
   "metadata": {},
   "outputs": [
    {
     "name": "stdout",
     "output_type": "stream",
     "text": [
      "1284\n",
      "[10.03125 10.03125 10.03125 ... 10.03125 10.03125 10.03125]\n",
      "0 0.007372937029177636\n"
     ]
    },
    {
     "ename": "ValueError",
     "evalue": "fname must be a PathLike or file handle",
     "output_type": "error",
     "traceback": [
      "\u001b[0;31m---------------------------------------------------------------------------\u001b[0m",
      "\u001b[0;31mValueError\u001b[0m                                Traceback (most recent call last)",
      "\u001b[0;32m<ipython-input-95-cfccc22f101a>\u001b[0m in \u001b[0;36m<module>\u001b[0;34m()\u001b[0m\n\u001b[1;32m     55\u001b[0m \u001b[0;34m\u001b[0m\u001b[0m\n\u001b[1;32m     56\u001b[0m \u001b[0mplt\u001b[0m\u001b[0;34m.\u001b[0m\u001b[0mlegend\u001b[0m\u001b[0;34m(\u001b[0m\u001b[0mfontsize\u001b[0m\u001b[0;34m=\u001b[0m\u001b[0;36m30\u001b[0m\u001b[0;34m)\u001b[0m\u001b[0;34m\u001b[0m\u001b[0m\n\u001b[0;32m---> 57\u001b[0;31m \u001b[0mplt\u001b[0m\u001b[0;34m.\u001b[0m\u001b[0msavefig\u001b[0m\u001b[0;34m(\u001b[0m\u001b[0mplt\u001b[0m\u001b[0;34m.\u001b[0m\u001b[0msavefig\u001b[0m\u001b[0;34m(\u001b[0m\u001b[0mos\u001b[0m\u001b[0;34m.\u001b[0m\u001b[0mpath\u001b[0m\u001b[0;34m.\u001b[0m\u001b[0mjoin\u001b[0m\u001b[0;34m(\u001b[0m\u001b[0mworking\u001b[0m\u001b[0;34m,\u001b[0m \u001b[0;34m'bcc_300.png'\u001b[0m\u001b[0;34m)\u001b[0m\u001b[0;34m)\u001b[0m\u001b[0;34m)\u001b[0m\u001b[0;34m\u001b[0m\u001b[0m\n\u001b[0m",
      "\u001b[0;32m//anaconda/envs/py36/lib/python3.6/site-packages/matplotlib/pyplot.py\u001b[0m in \u001b[0;36msavefig\u001b[0;34m(*args, **kwargs)\u001b[0m\n\u001b[1;32m    708\u001b[0m \u001b[0;32mdef\u001b[0m \u001b[0msavefig\u001b[0m\u001b[0;34m(\u001b[0m\u001b[0;34m*\u001b[0m\u001b[0margs\u001b[0m\u001b[0;34m,\u001b[0m \u001b[0;34m**\u001b[0m\u001b[0mkwargs\u001b[0m\u001b[0;34m)\u001b[0m\u001b[0;34m:\u001b[0m\u001b[0;34m\u001b[0m\u001b[0m\n\u001b[1;32m    709\u001b[0m     \u001b[0mfig\u001b[0m \u001b[0;34m=\u001b[0m \u001b[0mgcf\u001b[0m\u001b[0;34m(\u001b[0m\u001b[0;34m)\u001b[0m\u001b[0;34m\u001b[0m\u001b[0m\n\u001b[0;32m--> 710\u001b[0;31m     \u001b[0mres\u001b[0m \u001b[0;34m=\u001b[0m \u001b[0mfig\u001b[0m\u001b[0;34m.\u001b[0m\u001b[0msavefig\u001b[0m\u001b[0;34m(\u001b[0m\u001b[0;34m*\u001b[0m\u001b[0margs\u001b[0m\u001b[0;34m,\u001b[0m \u001b[0;34m**\u001b[0m\u001b[0mkwargs\u001b[0m\u001b[0;34m)\u001b[0m\u001b[0;34m\u001b[0m\u001b[0m\n\u001b[0m\u001b[1;32m    711\u001b[0m     \u001b[0mfig\u001b[0m\u001b[0;34m.\u001b[0m\u001b[0mcanvas\u001b[0m\u001b[0;34m.\u001b[0m\u001b[0mdraw_idle\u001b[0m\u001b[0;34m(\u001b[0m\u001b[0;34m)\u001b[0m   \u001b[0;31m# need this if 'transparent=True' to reset colors\u001b[0m\u001b[0;34m\u001b[0m\u001b[0m\n\u001b[1;32m    712\u001b[0m     \u001b[0;32mreturn\u001b[0m \u001b[0mres\u001b[0m\u001b[0;34m\u001b[0m\u001b[0m\n",
      "\u001b[0;32m//anaconda/envs/py36/lib/python3.6/site-packages/matplotlib/figure.py\u001b[0m in \u001b[0;36msavefig\u001b[0;34m(self, fname, **kwargs)\u001b[0m\n\u001b[1;32m   2033\u001b[0m             \u001b[0mself\u001b[0m\u001b[0;34m.\u001b[0m\u001b[0mset_frameon\u001b[0m\u001b[0;34m(\u001b[0m\u001b[0mframeon\u001b[0m\u001b[0;34m)\u001b[0m\u001b[0;34m\u001b[0m\u001b[0m\n\u001b[1;32m   2034\u001b[0m \u001b[0;34m\u001b[0m\u001b[0m\n\u001b[0;32m-> 2035\u001b[0;31m         \u001b[0mself\u001b[0m\u001b[0;34m.\u001b[0m\u001b[0mcanvas\u001b[0m\u001b[0;34m.\u001b[0m\u001b[0mprint_figure\u001b[0m\u001b[0;34m(\u001b[0m\u001b[0mfname\u001b[0m\u001b[0;34m,\u001b[0m \u001b[0;34m**\u001b[0m\u001b[0mkwargs\u001b[0m\u001b[0;34m)\u001b[0m\u001b[0;34m\u001b[0m\u001b[0m\n\u001b[0m\u001b[1;32m   2036\u001b[0m \u001b[0;34m\u001b[0m\u001b[0m\n\u001b[1;32m   2037\u001b[0m         \u001b[0;32mif\u001b[0m \u001b[0mframeon\u001b[0m\u001b[0;34m:\u001b[0m\u001b[0;34m\u001b[0m\u001b[0m\n",
      "\u001b[0;32m//anaconda/envs/py36/lib/python3.6/site-packages/matplotlib/backend_bases.py\u001b[0m in \u001b[0;36mprint_figure\u001b[0;34m(self, filename, dpi, facecolor, edgecolor, orientation, format, **kwargs)\u001b[0m\n\u001b[1;32m   2261\u001b[0m                 \u001b[0morientation\u001b[0m\u001b[0;34m=\u001b[0m\u001b[0morientation\u001b[0m\u001b[0;34m,\u001b[0m\u001b[0;34m\u001b[0m\u001b[0m\n\u001b[1;32m   2262\u001b[0m                 \u001b[0mbbox_inches_restore\u001b[0m\u001b[0;34m=\u001b[0m\u001b[0m_bbox_inches_restore\u001b[0m\u001b[0;34m,\u001b[0m\u001b[0;34m\u001b[0m\u001b[0m\n\u001b[0;32m-> 2263\u001b[0;31m                 **kwargs)\n\u001b[0m\u001b[1;32m   2264\u001b[0m         \u001b[0;32mfinally\u001b[0m\u001b[0;34m:\u001b[0m\u001b[0;34m\u001b[0m\u001b[0m\n\u001b[1;32m   2265\u001b[0m             \u001b[0;32mif\u001b[0m \u001b[0mbbox_inches\u001b[0m \u001b[0;32mand\u001b[0m \u001b[0mrestore_bbox\u001b[0m\u001b[0;34m:\u001b[0m\u001b[0;34m\u001b[0m\u001b[0m\n",
      "\u001b[0;32m//anaconda/envs/py36/lib/python3.6/site-packages/matplotlib/backends/backend_agg.py\u001b[0m in \u001b[0;36mprint_png\u001b[0;34m(self, filename_or_obj, *args, **kwargs)\u001b[0m\n\u001b[1;32m    524\u001b[0m \u001b[0;34m\u001b[0m\u001b[0m\n\u001b[1;32m    525\u001b[0m         \u001b[0;32mtry\u001b[0m\u001b[0;34m:\u001b[0m\u001b[0;34m\u001b[0m\u001b[0m\n\u001b[0;32m--> 526\u001b[0;31m             \u001b[0;32mwith\u001b[0m \u001b[0mcbook\u001b[0m\u001b[0;34m.\u001b[0m\u001b[0mopen_file_cm\u001b[0m\u001b[0;34m(\u001b[0m\u001b[0mfilename_or_obj\u001b[0m\u001b[0;34m,\u001b[0m \u001b[0;34m\"wb\"\u001b[0m\u001b[0;34m)\u001b[0m \u001b[0;32mas\u001b[0m \u001b[0mfh\u001b[0m\u001b[0;34m:\u001b[0m\u001b[0;34m\u001b[0m\u001b[0m\n\u001b[0m\u001b[1;32m    527\u001b[0m                 _png.write_png(renderer._renderer, fh,\n\u001b[1;32m    528\u001b[0m                                self.figure.dpi, metadata=metadata)\n",
      "\u001b[0;32m//anaconda/envs/py36/lib/python3.6/contextlib.py\u001b[0m in \u001b[0;36m__enter__\u001b[0;34m(self)\u001b[0m\n\u001b[1;32m     80\u001b[0m     \u001b[0;32mdef\u001b[0m \u001b[0m__enter__\u001b[0m\u001b[0;34m(\u001b[0m\u001b[0mself\u001b[0m\u001b[0;34m)\u001b[0m\u001b[0;34m:\u001b[0m\u001b[0;34m\u001b[0m\u001b[0m\n\u001b[1;32m     81\u001b[0m         \u001b[0;32mtry\u001b[0m\u001b[0;34m:\u001b[0m\u001b[0;34m\u001b[0m\u001b[0m\n\u001b[0;32m---> 82\u001b[0;31m             \u001b[0;32mreturn\u001b[0m \u001b[0mnext\u001b[0m\u001b[0;34m(\u001b[0m\u001b[0mself\u001b[0m\u001b[0;34m.\u001b[0m\u001b[0mgen\u001b[0m\u001b[0;34m)\u001b[0m\u001b[0;34m\u001b[0m\u001b[0m\n\u001b[0m\u001b[1;32m     83\u001b[0m         \u001b[0;32mexcept\u001b[0m \u001b[0mStopIteration\u001b[0m\u001b[0;34m:\u001b[0m\u001b[0;34m\u001b[0m\u001b[0m\n\u001b[1;32m     84\u001b[0m             \u001b[0;32mraise\u001b[0m \u001b[0mRuntimeError\u001b[0m\u001b[0;34m(\u001b[0m\u001b[0;34m\"generator didn't yield\"\u001b[0m\u001b[0;34m)\u001b[0m \u001b[0;32mfrom\u001b[0m \u001b[0;32mNone\u001b[0m\u001b[0;34m\u001b[0m\u001b[0m\n",
      "\u001b[0;32m//anaconda/envs/py36/lib/python3.6/site-packages/matplotlib/cbook/__init__.py\u001b[0m in \u001b[0;36mopen_file_cm\u001b[0;34m(path_or_file, mode, encoding)\u001b[0m\n\u001b[1;32m    622\u001b[0m \u001b[0;32mdef\u001b[0m \u001b[0mopen_file_cm\u001b[0m\u001b[0;34m(\u001b[0m\u001b[0mpath_or_file\u001b[0m\u001b[0;34m,\u001b[0m \u001b[0mmode\u001b[0m\u001b[0;34m=\u001b[0m\u001b[0;34m\"r\"\u001b[0m\u001b[0;34m,\u001b[0m \u001b[0mencoding\u001b[0m\u001b[0;34m=\u001b[0m\u001b[0;32mNone\u001b[0m\u001b[0;34m)\u001b[0m\u001b[0;34m:\u001b[0m\u001b[0;34m\u001b[0m\u001b[0m\n\u001b[1;32m    623\u001b[0m     \u001b[0;34mr\"\"\"Pass through file objects and context-manage `.PathLike`\\s.\"\"\"\u001b[0m\u001b[0;34m\u001b[0m\u001b[0m\n\u001b[0;32m--> 624\u001b[0;31m     \u001b[0mfh\u001b[0m\u001b[0;34m,\u001b[0m \u001b[0mopened\u001b[0m \u001b[0;34m=\u001b[0m \u001b[0mto_filehandle\u001b[0m\u001b[0;34m(\u001b[0m\u001b[0mpath_or_file\u001b[0m\u001b[0;34m,\u001b[0m \u001b[0mmode\u001b[0m\u001b[0;34m,\u001b[0m \u001b[0;32mTrue\u001b[0m\u001b[0;34m,\u001b[0m \u001b[0mencoding\u001b[0m\u001b[0;34m)\u001b[0m\u001b[0;34m\u001b[0m\u001b[0m\n\u001b[0m\u001b[1;32m    625\u001b[0m     \u001b[0;32mif\u001b[0m \u001b[0mopened\u001b[0m\u001b[0;34m:\u001b[0m\u001b[0;34m\u001b[0m\u001b[0m\n\u001b[1;32m    626\u001b[0m         \u001b[0;32mwith\u001b[0m \u001b[0mfh\u001b[0m\u001b[0;34m:\u001b[0m\u001b[0;34m\u001b[0m\u001b[0m\n",
      "\u001b[0;32m//anaconda/envs/py36/lib/python3.6/site-packages/matplotlib/cbook/__init__.py\u001b[0m in \u001b[0;36mto_filehandle\u001b[0;34m(fname, flag, return_opened, encoding)\u001b[0m\n\u001b[1;32m    613\u001b[0m         \u001b[0mopened\u001b[0m \u001b[0;34m=\u001b[0m \u001b[0;32mFalse\u001b[0m\u001b[0;34m\u001b[0m\u001b[0m\n\u001b[1;32m    614\u001b[0m     \u001b[0;32melse\u001b[0m\u001b[0;34m:\u001b[0m\u001b[0;34m\u001b[0m\u001b[0m\n\u001b[0;32m--> 615\u001b[0;31m         \u001b[0;32mraise\u001b[0m \u001b[0mValueError\u001b[0m\u001b[0;34m(\u001b[0m\u001b[0;34m'fname must be a PathLike or file handle'\u001b[0m\u001b[0;34m)\u001b[0m\u001b[0;34m\u001b[0m\u001b[0m\n\u001b[0m\u001b[1;32m    616\u001b[0m     \u001b[0;32mif\u001b[0m \u001b[0mreturn_opened\u001b[0m\u001b[0;34m:\u001b[0m\u001b[0;34m\u001b[0m\u001b[0m\n\u001b[1;32m    617\u001b[0m         \u001b[0;32mreturn\u001b[0m \u001b[0mfh\u001b[0m\u001b[0;34m,\u001b[0m \u001b[0mopened\u001b[0m\u001b[0;34m\u001b[0m\u001b[0m\n",
      "\u001b[0;31mValueError\u001b[0m: fname must be a PathLike or file handle"
     ]
    },
    {
     "data": {
      "image/png": "[encoded data removed]",
      "text/plain": [
       "<Figure size 1440x720 with 1 Axes>"
      ]
     },
     "metadata": {},
     "output_type": "display_data"
    }
   ],
   "source": [
    "plt.figure(figsize=(20,10))\n",
    "\n",
    "nat = np.array([len(x) for x in targ_ready['md']['xyz']])[:]\n",
    "print(len(nat))\n",
    "\n",
    "for i, params_uopt in enumerate(optimal_parameters):\n",
    "\n",
    "    #print(params_uopt[1])\n",
    "\n",
    "    opti_out, targ_out = udif_print(params_uopt[1], stats, target, utot_EAM,[9])\n",
    "    #plt.title('Selected configurations at 0K')\n",
    "    if i == 0:\n",
    "        #print('Targ:', targ_out[0][:])\n",
    "        #print('Model:', opti_out[0][:])\n",
    "\n",
    "        #nat = np.array([len(x) for x in targ_dict['relax']['xyz']])\n",
    "        print(len(np.array(targ_out[0][:]))/nat)\n",
    "        #plt.plot(np.array(targ_out[0][:])/nat, 'o', label='target'+str(i), markersize=10)\n",
    "        plt.plot(np.array(targ_out[0][:]), 'o', label='target'+str(i), markersize=5)\n",
    "\n",
    "        \n",
    "    #if params_uopt[0] > 0.6e-3:\n",
    "    #    continue\n",
    "    #if i != 1:# and i != 12:\n",
    "    #    continue\n",
    "    print(i, params_uopt[0])\n",
    "\n",
    "    #print('Opti:', [o for o in opti_out[-1][:-1]])\n",
    "    #plt.plot(np.array([o for o in opti_out[0][:]])/nat, 'x--', label='optimized '+str(i))\n",
    "    plt.plot(np.array([o for o in opti_out[0][:]]), '--', label='optimized '+str(i), lw=1.0)\n",
    "\n",
    "#    else:\n",
    "#        plt.plot([o for o in opti_out[-1][:-1]], 'x--', label='optimized '+str(i))\n",
    "#        plt.plot(targ_out[-1][:-1], 'o', markersize=10)\n",
    "\n",
    "#plt.xticks([0, 1, 2, 3, 4, 5, 6], ['BCC','FCC', 'vacancy','110','111','liq','inf'])\n",
    "plt.ylabel('Energy [eV]', fontsize=30)\n",
    "plt.xlabel('configuation #', fontsize=30)\n",
    "plt.xticks(fontsize=20)\n",
    "plt.yticks(fontsize=20)\n",
    "\n",
    "#plt.ylim(-1145, -1136)\n",
    "#plt.ylim(-8.905, -8.533)\n",
    "#plt.ylim(-8.9, -8.35)\n",
    "\n",
    "#plt.ylim(-1075,-1035)\n",
    "#plt.ylim(-1000,-900)\n",
    "#plt.ylim(-950,-900)\n",
    "#plt.ylim(-1136,-1133)\n",
    "plt.ylim(-1180,-800)\n",
    "plt.xlim(0,820)\n",
    "#plt.xlim(847,990)\n",
    "\n",
    "#plt.ylim(-1180,-800)\n",
    "\n",
    "plt.legend(fontsize=30)\n",
    "plt.savefig(plt.savefig(os.path.join(working, 'bcc_300.png')))"
   ]
  },
  {
   "cell_type": "code",
   "execution_count": 120,
   "metadata": {},
   "outputs": [
    {
     "name": "stdout",
     "output_type": "stream",
     "text": [
      "0 4.407570269501649e-05 \n",
      " [-1.21658318, 3.2486358e-05, -47.3661687, 22.9965951, -3.42248343, 3.7395698, -1.39292737, -0.833458565, 0.929769431, -0.183568989]\n",
      "1 6.17447812420396e-05 \n",
      " [-1.30551487, 1.41920657e-05, -46.1160967, 22.9352328, -3.42360958, 3.82313395, -1.54715703, -0.697925842, 0.868730239, -0.154592379]\n",
      "2 9.723561709685708e-05 \n",
      " [-1.34624502, 7.49457487e-06, -45.8871674, 22.4064873, -3.46516902, 4.0226376, -1.8966168, -0.431617423, 0.806406324, -0.137562101]\n",
      "3 0.00014123622250142564 \n",
      " [-1.34136558, 1.01769934e-05, -49.3998032, 22.1279115, -3.50791272, 4.16822104, -2.13414308, -0.266237999, 0.783819577, -0.136703203]\n"
     ]
    }
   ],
   "source": [
    "for i, params_uopt in enumerate(optimal_parameters):\n",
    "    if params_uopt[0] > 1.1e-3:\n",
    "        continue\n",
    "    print(i, params_uopt[0], '\\n', params_uopt[1])"
   ]
  },
  {
   "cell_type": "code",
   "execution_count": 122,
   "metadata": {},
   "outputs": [
    {
     "data": {
      "text/plain": [
       "[2.5, 2.75, 3.25, 3.75, 4.25, 4.5, 5.0, 5.5]"
      ]
     },
     "execution_count": 122,
     "metadata": {},
     "output_type": "execute_result"
    }
   ],
   "source": [
    "stats_opts[it]['hyperparams']"
   ]
  },
  {
   "cell_type": "code",
   "execution_count": 123,
   "metadata": {
    "collapsed": true
   },
   "outputs": [],
   "source": [
    "pars_out = {}\n",
    "pars_out['pair_nodes'] = stats_opts[it]['hyperparams']\n",
    "pars_out['mb_node'] = 6\n",
    "pars_out['params'] = [optimal_parameters[1]]"
   ]
  },
  {
   "cell_type": "code",
   "execution_count": 124,
   "metadata": {
    "collapsed": true
   },
   "outputs": [],
   "source": [
    "optimal_list = []\n",
    "\n",
    "#with open(os.path.join(working, 'pars_out.pickle'), 'rb') as fi:\n",
    "#    optimal_list = pickle.load(fi)\n",
    "\n",
    "#if type(optimal_list) != list:\n",
    "#    optimal_list = [optimal_list]\n",
    "\n",
    "optimal_list.append(pars_out)\n",
    "\n",
    "with open(os.path.join(working, 'pars_out.pickle'), 'wb') as fo:\n",
    "    pickle.dump(optimal_list, fo)"
   ]
  },
  {
   "cell_type": "code",
   "execution_count": 125,
   "metadata": {
    "collapsed": true
   },
   "outputs": [],
   "source": [
    "with open(os.path.join(working, 'pars_out.pickle'), 'rb') as fi:\n",
    "    optimal_list = pickle.load(fi)"
   ]
  },
  {
   "cell_type": "code",
   "execution_count": 126,
   "metadata": {},
   "outputs": [
    {
     "data": {
      "text/plain": [
       "[{'pair_nodes': [2.5, 2.75, 3.25, 3.75, 4.25, 4.5, 5.0, 5.5],\n",
       "  'mb_node': 6,\n",
       "  'params': [(6.17447812420396e-05,\n",
       "    [-1.30551487,\n",
       "     1.41920657e-05,\n",
       "     -46.1160967,\n",
       "     22.9352328,\n",
       "     -3.42360958,\n",
       "     3.82313395,\n",
       "     -1.54715703,\n",
       "     -0.697925842,\n",
       "     0.868730239,\n",
       "     -0.154592379])]}]"
      ]
     },
     "execution_count": 126,
     "metadata": {},
     "output_type": "execute_result"
    }
   ],
   "source": [
    "optimal_list"
   ]
  },
  {
   "cell_type": "code",
   "execution_count": 127,
   "metadata": {
    "collapsed": true
   },
   "outputs": [],
   "source": [
    "# Total pair potential\n",
    "pos = targ_ready['relax']['xyz'][0]\n",
    "bx = targ_ready['relax']['box'][0]\n",
    "rr, rx = pair_dist_cutoff(pos, bx, 5.5)"
   ]
  },
  {
   "cell_type": "code",
   "execution_count": 128,
   "metadata": {
    "collapsed": true
   },
   "outputs": [],
   "source": [
    "# embedding function\n",
    "F = lambda d, a: a[0]*d**0.5 + a[1]*d + a[2]*d**2\n",
    "\n",
    "V = lambda r, aa, cc: sum([a*(rc - r)**3 for a, rc in zip(aa, cc) if r < rc])\n",
    "\n",
    "# Cohesive potential (cubic splines - same form as V)\n",
    "phi = lambda r, aa, cc: sum([a*(rc - r)**3 for a, rc in zip(aa, cc) if r < rc])\n",
    "\n",
    "rho = lambda r, aa, kk: sum([a*(rk - r)**3 for a, rk in zip(aa, kk) if r < rk and r > 0.01])"
   ]
  },
  {
   "cell_type": "code",
   "execution_count": 129,
   "metadata": {},
   "outputs": [
    {
     "data": {
      "text/plain": [
       "[-1.30551487,\n",
       " 1.41920657e-05,\n",
       " -46.1160967,\n",
       " 22.9352328,\n",
       " -3.42360958,\n",
       " 3.82313395,\n",
       " -1.54715703,\n",
       " -0.697925842,\n",
       " 0.868730239,\n",
       " -0.154592379]"
      ]
     },
     "execution_count": 129,
     "metadata": {},
     "output_type": "execute_result"
    }
   ],
   "source": [
    "optimal_list[-1]['params'][0][1]"
   ]
  },
  {
   "cell_type": "code",
   "execution_count": 130,
   "metadata": {
    "collapsed": true
   },
   "outputs": [],
   "source": [
    "#optimal_parameters.append(tuple([output[1:], params_uopt]))\n",
    "pair_y = optimal_list[-1]['params'][0][1][2:]\n",
    "par = optimal_list[-1]['params'][0][1][:2]\n",
    "many_y = [par[0], 0.0, par[1]]\n",
    "V_x_r = optimal_list[-1]['pair_nodes'] #stats_opt['hyperparams']\n",
    "rho_x_r = [V_x_r[optimal_list[-1]['mb_node']]] #stats_opt['hyperparams'][4:5]\n",
    "rho_x_a = [1.0]"
   ]
  },
  {
   "cell_type": "code",
   "execution_count": 131,
   "metadata": {},
   "outputs": [
    {
     "data": {
      "text/plain": [
       "([-46.1160967,\n",
       "  22.9352328,\n",
       "  -3.42360958,\n",
       "  3.82313395,\n",
       "  -1.54715703,\n",
       "  -0.697925842,\n",
       "  0.868730239,\n",
       "  -0.154592379],\n",
       " [-1.30551487, 0.0, 1.41920657e-05],\n",
       " [2.5, 2.75, 3.25, 3.75, 4.25, 4.5, 5.0, 5.5],\n",
       " [5.0])"
      ]
     },
     "execution_count": 131,
     "metadata": {},
     "output_type": "execute_result"
    }
   ],
   "source": [
    "pair_y, many_y, V_x_r, rho_x_r"
   ]
  },
  {
   "cell_type": "code",
   "execution_count": 132,
   "metadata": {
    "collapsed": true
   },
   "outputs": [],
   "source": [
    "ene = []\n",
    "for a in np.linspace(0.5, 2.0, 101):\n",
    "    z = a*rr\n",
    "    u_pair = 0.5*np.sum([V(x, pair_y, V_x_r) for x in z.flatten() if x > 0.1])\n",
    "\n",
    "    u_many = 0.0\n",
    "    for i in range(z.shape[0]):\n",
    "        d = np.sum([phi(x, rho_x_a, rho_x_r) for x in z[i] if x > 0.1])\n",
    "        u_many += F(d, many_y)\n",
    "\n",
    "    ene.append([a, u_pair, u_many, u_pair+u_many])\n",
    "\n",
    "ene = np.array(ene)"
   ]
  },
  {
   "cell_type": "code",
   "execution_count": 149,
   "metadata": {},
   "outputs": [
    {
     "data": {
      "text/plain": [
       "Text(0,0.5,'U')"
      ]
     },
     "execution_count": 149,
     "metadata": {},
     "output_type": "execute_result"
    },
    {
     "data": {
      "image/png": "[encoded data removed]",
      "text/plain": [
       "<Figure size 432x288 with 1 Axes>"
      ]
     },
     "metadata": {},
     "output_type": "display_data"
    }
   ],
   "source": [
    "#plt.plot(ene[:,0], ene[:,1]/54, label='pair')\n",
    "#plt.plot(ene[:,0], ene[:,2]/54, label='manybody')\n",
    "plt.title('Equation of state (T=0K)')\n",
    "plt.plot(ene[:,0]*2.74, [universal_eos(x, 'W') for x in ene[:,0]], label='universal EOS')\n",
    "plt.plot(ene[:,0]*2.74, ene[:,3]/128, label='u-total')\n",
    "plt.hlines(0.0,0.5,6.0,lw=1)\n",
    "plt.legend()\n",
    "plt.xlim(2.0, 5.75)\n",
    "plt.xlim(2.6, 2.85)\n",
    "plt.ylim(-10,10)\n",
    "plt.ylim(-9.,-8.5)\n",
    "\n",
    "plt.xlabel('x')\n",
    "plt.ylabel(r'U')"
   ]
  },
  {
   "cell_type": "code",
   "execution_count": 134,
   "metadata": {
    "collapsed": true
   },
   "outputs": [],
   "source": [
    "#optimal_parameters.append(tuple([output[1:], params_uopt]))\n",
    "pair_y = optimal_list[-1]['params'][0][1][2:]\n",
    "par = optimal_list[-1]['params'][0][1][:2]\n",
    "many_y = [par[0], 0.0, par[1]]\n",
    "V_x_r = optimal_list[-1]['pair_nodes'] #stats_opt['hyperparams']\n",
    "rho_x_r = [V_x_r[optimal_list[-1]['mb_node']]] #stats_opt['hyperparams'][4:5]\n",
    "rho_x_a = [1.0]"
   ]
  },
  {
   "cell_type": "code",
   "execution_count": 135,
   "metadata": {},
   "outputs": [
    {
     "data": {
      "text/plain": [
       "[2.5, 2.75, 3.25, 3.75, 4.25, 4.5, 5.0, 5.5]"
      ]
     },
     "execution_count": 135,
     "metadata": {},
     "output_type": "execute_result"
    }
   ],
   "source": [
    "V_x_r"
   ]
  },
  {
   "cell_type": "code",
   "execution_count": 136,
   "metadata": {
    "collapsed": true
   },
   "outputs": [],
   "source": [
    "pair_a = optimal_list[-1]['params'][0][1][2:]#pars_in1[2:]\n",
    "pair_r = optimal_list[-1]['pair_nodes']\n",
    "\n",
    "rho_a = [1.0]\n",
    "rho_r = [pair_r[optimal_list[-1]['mb_node']]]\n",
    "\n",
    "par = optimal_list[-1]['params'][0][1][:2]\n",
    "many_a = [par[0], 0.0, par[1]]"
   ]
  },
  {
   "cell_type": "code",
   "execution_count": 137,
   "metadata": {},
   "outputs": [
    {
     "name": "stdout",
     "output_type": "stream",
     "text": [
      "rhomax: 514.5\n"
     ]
    }
   ],
   "source": [
    "# Ranges of densities and separations\n",
    "\n",
    "nr = 5000\n",
    "rcut = pair_r[-1]#stats_opt['hyperparams'][-1]\n",
    "dr = rcut/nr\n",
    "\n",
    "rhomax = 12.0*phi(1.5, rho_a, rho_r)\n",
    "print('rhomax:', rhomax)\n",
    "rhomax = 1000.0\n",
    "nrho = 5000\n",
    "drho = rhomax/nrho\n",
    "\n",
    "ri = 1.0\n",
    "ro = 2.0\n",
    "\n",
    "# W properties\n",
    "na = 74\n",
    "ma = 183.84\n",
    "lc = 3.1653\n",
    "alat = 'bcc'\n",
    "\n",
    "# System composition\n",
    "n_el = 1\n",
    "el_name = ['W']"
   ]
  },
  {
   "cell_type": "code",
   "execution_count": 138,
   "metadata": {
    "collapsed": true
   },
   "outputs": [],
   "source": [
    "def u_trans(r, unucl, ueq, ri=1.0, ro=2.0):\n",
    "    \"\"\"Transition between the core and equillibrium potentials\"\"\"\n",
    "    if r < ri:\n",
    "        return unucl\n",
    "    elif r < ro:\n",
    "        x = (ro + ri - 2*r)/(ro - ri)\n",
    "        eta = 3/16*x**5 - 5/8*x**3 + 15/16*x + 1/2\n",
    "        return ueq + eta*(unucl - ueq)\n",
    "    else:\n",
    "        return ueq"
   ]
  },
  {
   "cell_type": "code",
   "execution_count": 139,
   "metadata": {
    "collapsed": true
   },
   "outputs": [],
   "source": [
    "# prepare lists of values\n",
    "dens = np.linspace(0., rhomax-drho, nrho, endpoint=True)\n",
    "r = np.linspace(0., rcut-dr, nr, endpoint=True)\n",
    "r2 = np.linspace(0., rcut, 201)\n",
    "\n",
    "fembd = [F(d, many_a) for d in dens] # W\n",
    "edens = np.array([phi(x, rho_a, rho_r) for x in r])\n",
    "\n",
    "# 1. Cubic spline for r > r_o\n",
    "f_outer = [V(x, pair_a, pair_r) for i, x in enumerate(r)]\n",
    "# 2. Repulsive core for r < r_i (precalculate up to r_o)\n",
    "f_inner = [0.0] + [u_core(x) for x in r[1:]]\n",
    "# 3. Transition region for r_i < r < r_o\n",
    "fpair = [x*u_trans(x, f_inner[i], f_outer[i]) for i, x in enumerate(r)]\n",
    "#fpair = f_outer"
   ]
  },
  {
   "cell_type": "code",
   "execution_count": 140,
   "metadata": {
    "collapsed": true
   },
   "outputs": [],
   "source": [
    "# LAMMPS format\n",
    "pot_path = '../sim/potentials'\n",
    "\n",
    "with open(os.path.join(pot_path, 'W_lv_3.eam.fs'), 'w') as fo:\n",
    "    \n",
    "    # Comment section\n",
    "    fo.write('Comment 1\\n')\n",
    "    fo.write('Comment 2\\n')\n",
    "    fo.write('Comment 3\\n')\n",
    "    \n",
    "    # Number of elements\n",
    "    fo.write(f\"{n_el:5d} \")\n",
    "    for i in range(n_el):\n",
    "        fo.write(f\"{el_name[i]:2}\")\n",
    "    fo.write(\"\\n\")\n",
    "    \n",
    "    # number of grid points, step size, and cutoff\n",
    "    fo.write(f\"{nrho:5d}{drho:24.16e}{nr:5d}{dr:24.16e}{rcut:24.16e}\\n\")\n",
    "    \n",
    "    # atomic number, mass, lattice size, lattice type\n",
    "    fo.write(f\"{na:5d} {ma:14.4f} {lc:14.4f} {alat:10}\\n\")\n",
    "    \n",
    "    # Embeding function\n",
    "    for i in range(nrho//4):\n",
    "        fo.write(\"{0:20.12e}{1:20.12e}{2:20.12e}{3:20.12e}\\n\".format(*fembd[i*4:i*4+4]))\n",
    "    \n",
    "    # Electronic density\n",
    "    for i in range(nr//4):\n",
    "        fo.write(\"{0:20.12e}{1:20.12e}{2:20.12e}{3:20.12e}\\n\".format(*edens[i*4:i*4+4]))\n",
    "        \n",
    "    # Pair potential\n",
    "    for i in range(nr//4):\n",
    "        fo.write(\"{0:20.12e}{1:20.12e}{2:20.12e}{3:20.12e}\\n\".format(*fpair[i*4:i*4+4]))"
   ]
  },
  {
   "cell_type": "code",
   "execution_count": null,
   "metadata": {
    "collapsed": true
   },
   "outputs": [],
   "source": []
  }
 ],
 "metadata": {
  "kernelspec": {
   "display_name": "Python 3",
   "language": "python",
   "name": "python3"
  },
  "language_info": {
   "codemirror_mode": {
    "name": "ipython",
    "version": 3
   },
   "file_extension": ".py",
   "mimetype": "text/x-python",
   "name": "python",
   "nbconvert_exporter": "python",
   "pygments_lexer": "ipython3",
   "version": "3.6.1"
  }
 },
 "nbformat": 4,
 "nbformat_minor": 2
}
