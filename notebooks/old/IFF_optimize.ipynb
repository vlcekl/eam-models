{
 "cells": [
  {
   "cell_type": "markdown",
   "metadata": {},
   "source": [
    "# Interatomic force field (IFF) optimization for W-based metal alloys\n",
    "\n",
    "Author: Lukas Vlcek\n",
    "\n",
    "Start Date: 2018-04-22"
   ]
  },
  {
   "cell_type": "code",
   "execution_count": 1,
   "metadata": {},
   "outputs": [
    {
     "name": "stdout",
     "output_type": "stream",
     "text": [
      "Last update: 2018-09-14 00:48:36.118860\n"
     ]
    }
   ],
   "source": [
    "from datetime import datetime ; print('Last update:', datetime.now())"
   ]
  },
  {
   "cell_type": "markdown",
   "metadata": {},
   "source": [
    "# Table of Contents\n",
    "\n",
    "* [1. Introduction](#1.-Introduction)\n",
    "* [2. Theoretical background](#2.-Theoretical-background)\n",
    "    * [2.1 Model definition](#2.1-Model-definition)\n",
    "    * [2.2 Optimization approach](#2.2-Optimization-approach)\n",
    "        * [2.2.1 Perturbation technique](#2.2.1-Perturbation-technique)\n",
    "        * [2.2.2 Statistical distance loss function](#2.2.2-Statistical-distance-loss-function)\n",
    "    * [2.3 Target data](#2.3-Target-data)\n",
    "    * [2.4 Simulation details](#2.4-Simulation-details)\n",
    "* [3. Optimization](#3.-Optimization)"
   ]
  },
  {
   "cell_type": "markdown",
   "metadata": {},
   "source": [
    "**Notebook setup**"
   ]
  },
  {
   "cell_type": "code",
   "execution_count": 2,
   "metadata": {
    "collapsed": true
   },
   "outputs": [],
   "source": [
    "# Import libraries\n",
    "%matplotlib inline\n",
    "import os\n",
    "import glob\n",
    "import sys\n",
    "import re\n",
    "import numpy as np\n",
    "import matplotlib.pyplot as plt\n",
    "import h5py\n",
    "from itertools import product\n",
    "from scipy.optimize import fmin\n",
    "\n",
    "# Paths to important directories\n",
    "pot_path = '../sim/potentials'\n",
    "target_raw = '../data/target_raw'\n",
    "target_proc = '../data/target_processed'\n",
    "working = '../data/working'"
   ]
  },
  {
   "cell_type": "markdown",
   "metadata": {},
   "source": [
    "## 1. Introduction\n",
    "\n",
    "**Goal:** Optimize EAM potential for W using the functional form of Bonny et al. (2017), and target data from Marinica et al. (2013) and German. Show that using this simplified EAM form we can develop a more predictive model of W compared to EAM2 model of Marinica."
   ]
  },
  {
   "cell_type": "markdown",
   "metadata": {},
   "source": [
    "## 2. Theoretical background\n",
    "\n",
    "### 2.1 Model definition\n",
    "\n",
    "**Equilibrium potential**\n",
    "\n",
    "Energy of an N-particle configuration\n",
    "\n",
    "$$ E = \\sum_{i=1}^N \\left[ \\sum_{j>i}^N V_{t_it_j}\\left(r_{ij}\\right) + F_{t_i}\\left(\\rho_i\\right) \\right] $$\n",
    "\n",
    "Here $V_{t_it_j}$ is pair interaction between atom types $t_i$ and $t_j$ at distance $r_{ij}$ defined as\n",
    "\n",
    "$$ V_{t_it_j}\\left(r_{ij}\\right) = \\sum_{k=1}^{K}\\left[a_k\\left(r_k - r_{ij}\\right)^3\\Theta\\left(r_k - r_{ij}\\right)\\right]\\ $$\n",
    "\n",
    "where $\\Theta$ is Heaviside step function.\n",
    "$F_{t_i}$ is the manybody embedding function\n",
    "\n",
    "$$ F_{t_i}(\\rho_i) = A_{t_i}\\sqrt{\\rho_i} + B_{t_i}\\rho + C_{t_i}\\rho^2 $$\n",
    "\n",
    "where $\\rho_i$ effective electron density \n",
    "\n",
    "$$ \\rho_i = \\sum_{j\\ne i}^N \\phi_{t_j}\\left(r_{ij}\\right) $$\n",
    "\n",
    "and $\\phi$ is cohesive potential\n",
    "\n",
    "$$ \\phi\\left(r_{ij}\\right) = D_{t_j}\\left(r_c - r_{ij}\\right)^3\\Theta\\left(r_c - r_{ij}\\right) $$"
   ]
  },
  {
   "cell_type": "code",
   "execution_count": 3,
   "metadata": {
    "collapsed": true
   },
   "outputs": [],
   "source": [
    "# Define the equilibrium EAM functions (to be optimized)\n",
    "\n",
    "# Pair potential (cubic splines). Parameters: distance (r), spline parameters (aa), spline nodes (cc)\n",
    "V = lambda r, aa, cc: sum([a*(rc - r)**3 for a, rc in zip(aa, cc) if r < rc])\n",
    "\n",
    "# Embedding function. Parameters: electronic density (d), coefficients for 1/2, 1, and 2 powers of density\n",
    "F = lambda d, a: a[0]*d**0.5 + a[1]*d + a[2]*d**2\n",
    "\n",
    "# Cohesive potential (cubic splines - same form as V)\n",
    "phi = V"
   ]
  },
  {
   "cell_type": "markdown",
   "metadata": {},
   "source": [
    "**Core and transition potential for short and intermediate distances**"
   ]
  },
  {
   "cell_type": "code",
   "execution_count": 4,
   "metadata": {
    "collapsed": true
   },
   "outputs": [],
   "source": [
    "# Define the core and transition parts of the potential (kept constant)\n",
    "def u_core(r, za=74, zb=74):\n",
    "    \"\"\"Repulsive potential of the atomic cores. Default atomic numbers for W\"\"\"\n",
    "    qe_sq = 14.3992 # squared electron charge  \n",
    "    rs = 0.4683766/(za**(2/3) + zb**(2/3))**0.5\n",
    "    x = r/rs\n",
    "    u  = 0.1818*np.exp(-3.2*x)\n",
    "    u += 0.5099*np.exp(-0.9423*x)\n",
    "    u += 0.2802*np.exp(-0.4029*x)\n",
    "    u += 0.02817*np.exp(-0.2016*x)\n",
    "    u *= za*zb*qe_sq/r\n",
    "    return u\n",
    "\n",
    "def u_trans(r, unucl, ueq, ri=1.0, ro=2.0):\n",
    "    \"\"\"Transition between the core and equillibrium potentials\"\"\"\n",
    "    if r < ri:\n",
    "        return unucl\n",
    "    elif r < ro:\n",
    "        x = (ro + ri - 2*r)/(ro - ri)\n",
    "        eta = 3/16*x**5 - 5/8*x**3 + 15/16*x + 1/2\n",
    "        return ueq + eta*(unucl - ueq)\n",
    "    else:\n",
    "        return ueq    "
   ]
  },
  {
   "cell_type": "markdown",
   "metadata": {},
   "source": [
    "### 2.2 Optimization approach"
   ]
  },
  {
   "cell_type": "markdown",
   "metadata": {},
   "source": [
    "#### 2.2.1 Perturbation technique"
   ]
  },
  {
   "cell_type": "markdown",
   "metadata": {},
   "source": [
    "**EAM sufficient statistics**"
   ]
  },
  {
   "cell_type": "markdown",
   "metadata": {},
   "source": [
    "**Energy of a configuration**\n",
    "\n",
    "Energy of an N-particle configuration\n",
    "\n",
    "$$ E_{pair} = \\sum_{k=1}^{K}a_k\\sum_{i=1}^N \\sum_{j>i}^N \\left[\\left(r_k - r_{ij}\\right)^3\\Theta\\left(r_k - r_{ij}\\right)\\right]\\ = \\sum_{k=1}^{K}a_kv_k $$\n",
    "\n",
    "$$ E_{manybody} = b_1\\sum_{i=1}^N\\sqrt{\\sum_{j\\ne i}^N \\left[\\left(r_c - r_{ij}\\right)^3\\Theta\\left(r_c - r_{ij}\\right)\\right]} + b_2 \\sum_{i=1}^N \\left( \\sum_{j\\ne i}^N \\left[\\left(r_c - r_{ij}\\right)^3\\Theta\\left(r_c - r_{ij}\\right)\\right] \\right)^2 = b_1m_1 + b_2m_2$$\n",
    "\n",
    "**Similar for evaluating forces on each atom... **\n",
    "\n",
    "During optimization, collect statistics $v_k$ and $b_k$ for each configuration and calculate its energy by multiplying them by model parameters $a_k$ and $b_k$."
   ]
  },
  {
   "cell_type": "code",
   "execution_count": 5,
   "metadata": {
    "collapsed": true
   },
   "outputs": [],
   "source": [
    "# pair distances between system atoms\n",
    "def pair_dist(xyz, box):\n",
    "    \"\"\"\n",
    "    Calculates nearest image pair distances between all atoms in xyz array.\n",
    "    Parameters\n",
    "    -----------\n",
    "    xyz : numpy array\n",
    "          particle x, y, z coordinates\n",
    "    box : scalar or numpy array\n",
    "          simulation box dimensions/shape\n",
    "    Returns\n",
    "    -------\n",
    "    rr  : (natom, natom) numpy array of pair distances\n",
    "    rx  : (natom, natom, 3) numpy array of pair distance coordinates\n",
    "    \"\"\"\n",
    "\n",
    "    n_atom = xyz.shape[0] # number of atoms in a configuration\n",
    "    rr = np.empty((n_atom, n_atom), dtype=float)\n",
    "    rx = np.empty((n_atom, n_atom, 3), dtype=float)\n",
    "\n",
    "    for i, pa in enumerate(xyz):\n",
    "        for j, pb in enumerate(xyz):\n",
    "            dp = pa - pb\n",
    "            dp = np.where(dp < -0.5*box, dp + box, dp)\n",
    "            dp = np.where(dp >  0.5*box, dp - box, dp)\n",
    "            rr[i,j] = np.sum(dp*dp)**0.5\n",
    "            rx[i,j] = dp\n",
    "\n",
    "    return rr, rx"
   ]
  },
  {
   "cell_type": "code",
   "execution_count": 6,
   "metadata": {
    "collapsed": true
   },
   "outputs": [],
   "source": [
    "def get_stats_EAM(rr, rx, sc):\n",
    "    \"\"\"\n",
    "    Takes atom pair distances and calculates sufficeint statistics needed\n",
    "    for the parameterization of a cubic spline-based EAM model by Bonny et al. (2017).\n",
    "    \n",
    "    Parameters\n",
    "    ----------\n",
    "    rr : numpy array\n",
    "         set of pair distances\n",
    "    rx : numpy array\n",
    "         set of pair distance coordinates\n",
    "    sc : python list\n",
    "         spline nodes\n",
    "         \n",
    "    Returns\n",
    "    -------\n",
    "    ar, a1, a2 : numpy arrays (len(sc))\n",
    "                 atom energy-related statistics\n",
    "                 el_density**0.5, el_density, el_density**2\n",
    "    br, b1, b2 : numpy arrays (len(sc), natoms, 3 coordinates)\n",
    "                 atom force-related statistics (gradients of energy)\n",
    "                 grad(el_density**0.5), grad(el_density), grad(el_density**2)\n",
    "    \"\"\"\n",
    "    \n",
    "    # number of atoms in configuration\n",
    "    n_atom = rr.shape[0]\n",
    "    \n",
    "    # energy-related statistics\n",
    "    aa = np.empty((n_atom), dtype=float)\n",
    "    ar = np.zeros((len(sc)), dtype=float)\n",
    "    a1 = np.zeros_like(ar)\n",
    "    a2 = np.zeros_like(ar)\n",
    "    \n",
    "    # force-related statistics\n",
    "    br = np.zeros((len(sc), n_atom, 3), dtype=float)\n",
    "    b1 = np.zeros_like(br)\n",
    "    b2 = np.zeros_like(br)\n",
    "    zero3 = np.zeros((3), dtype=float)\n",
    "\n",
    "    # cycle over spline nodes\n",
    "    for ks, rc in enumerate(sc):\n",
    "        \n",
    "        # cycle over atoms\n",
    "        for i in range(n_atom):\n",
    "            \n",
    "            # sum electronic density over all neighbors of i within rc\n",
    "            aa[i] = sum([(rc - r)**3 for r in rr[i] if (r < rc and r > 0.01)])\n",
    "\n",
    "            # if el. density larger than zero, calculate force statistics\n",
    "            if aa[i] > 0.0:\n",
    "                \n",
    "                # precompute a list of recurring values for force statistics\n",
    "                ff = [1.5*(rc - r)**2*x/r if (r > 0.01 and r < rc) else zero3 for r, x in zip(rr[i], rx[i])]\n",
    "                \n",
    "                # sum contributions to force statistics from all neighbors of i\n",
    "                b1[ks, i] = sum([2*f       for f in ff])\n",
    "                br[ks, i] = sum([ -f/np.sqrt(aa[i]) for f in ff])\n",
    "                b2[ks, i] = sum([4*f*aa[i] for f in ff])\n",
    "\n",
    "        # sum contributions to energy statistics for a given spline node\n",
    "        ar[ks] = np.sum(np.sqrt(aa))\n",
    "        a1[ks] = np.sum(aa)\n",
    "        a2[ks] = np.sum(aa**2)\n",
    "        \n",
    "    return a1, ar, a2, b1, br, b2"
   ]
  },
  {
   "cell_type": "markdown",
   "metadata": {},
   "source": [
    "**EAM configurational energy based on sufficient statistics and model parameters**"
   ]
  },
  {
   "cell_type": "code",
   "execution_count": 7,
   "metadata": {
    "collapsed": true
   },
   "outputs": [],
   "source": [
    "def utot_EAM(params, ustats):\n",
    "    \"\"\"\n",
    "    Calculates configurational energy from EAM sufficient statistics and model parameters\n",
    "\n",
    "    Parameters\n",
    "    ----------\n",
    "    params : list of lists and floats\n",
    "             EAM interaction parameters (spline coefficients array and embedding function parameters)\n",
    "    ustats : list of lists and floats\n",
    "             Sufficient statistics for a trajectory of configurations\n",
    "\n",
    "    Returns\n",
    "    -------\n",
    "    u_total: float\n",
    "             total configurational energy (sum of pair and manybody interactions) for trajectory of configurations\n",
    "    \"\"\"\n",
    "\n",
    "    n_sample = len(ustats)\n",
    "\n",
    "    # pair interactions from array of spline coefficeints and corresponding statistic\n",
    "    u_pair = np.array([sum([a*s for a, s in zip(params[2:], ustats[i][2,:])]) for i in range(n_sample)])\n",
    "\n",
    "    # manybody interactions from embedding function parameters and corresponding statistics\n",
    "    u_many = np.array([params[0]*ustats[i][0, -1] + params[1]*ustats[i][1, -1] for i in range(n_sample)])\n",
    "\n",
    "    u_total = 0.5*u_pair + u_many\n",
    "\n",
    "    return u_total"
   ]
  },
  {
   "cell_type": "code",
   "execution_count": 8,
   "metadata": {
    "collapsed": true
   },
   "outputs": [],
   "source": [
    "def ftot_EAM(params, fstats):\n",
    "    \"\"\"\n",
    "    Calculates configurational energy from EAM sufficient statistics and model parameters\n",
    "\n",
    "    Parameters\n",
    "    ----------\n",
    "    params : list of lists and floats\n",
    "             EAM interaction parameters (spline coefficients array and embedding function parameters)\n",
    "    fstats : list of lists and floats\n",
    "             Sufficient statistics\n",
    "\n",
    "    Returns\n",
    "    -------\n",
    "    f_total: float\n",
    "             total configurational energy (sum of pair and manybody interactions)\n",
    "    \"\"\"\n",
    "\n",
    "    # number of samples and atoms\n",
    "    n_sample = len(fstats)\n",
    "    \n",
    "    \n",
    "    # cycle over samples\n",
    "    f_total = []\n",
    "    for i in range(n_sample):\n",
    "\n",
    "        # pair interactions from array of spline coefficeints and corresponding statistic\n",
    "        f_pair = sum([p*s for p, s in zip(params[2:], fstats[i][2,:])]) \n",
    "\n",
    "        # manybody interactions from embedding function parameters and corresponding statistics\n",
    "        f_many = params[0]*fstats[i][0,-1] + params[1]*fstats[i][1, -1]\n",
    "        \n",
    "        n_atom = fstats[i][0,0].shape[0]\n",
    "        # Create a 6N + 1 array of 0, f, and -f\n",
    "        fx = np.zeros((6*n_atom + 1), dtype=float)\n",
    "        fx[1:3*n_atom+1] = 0.5*f_pair.flatten() + f_many.flatten()\n",
    "        fx[3*n_atom+1:] = -fx[1:3*n_atom+1]\n",
    "        #print('natom', n_atom, type(f_pair), type(f_many), f_pair.shape, f_many.shape)\n",
    " \n",
    "        f_total.append(fx)\n",
    "        \n",
    "    return np.array(f_total)"
   ]
  },
  {
   "cell_type": "markdown",
   "metadata": {},
   "source": [
    "#### 2.2.2 Statistical distance loss function\n",
    "\n",
    "**Loss function based on configurational energies and forces**"
   ]
  },
  {
   "cell_type": "code",
   "execution_count": 9,
   "metadata": {
    "collapsed": true
   },
   "outputs": [],
   "source": [
    "def sd2_loss(params, stats, targets, fopt=False):\n",
    "    \"\"\"\n",
    "    Calculates squared statistical distance loss function for configurational energies and forces.\n",
    "\n",
    "    Parameters\n",
    "    ----------\n",
    "    params : list of lists and floats\n",
    "             EAM interaction parameters (spline coefficients array and embedding function parameters)\n",
    "    stats  : list of lists and floats\n",
    "             Sufficient statistics\n",
    "    targets: list of lists and floats\n",
    "             target energies and forces\n",
    "\n",
    "    Returns\n",
    "    -------\n",
    "    sd2, sd2f: float\n",
    "               squared statistical distances between model and target (energy and force-based)\n",
    "    \"\"\"\n",
    "\n",
    "    # apply bounds on parametes\n",
    "    #p = np.where(p < -1.0, -1.0, p)\n",
    "    #p = np.where(p >  1.0,  1.0, p)\n",
    "\n",
    "    # cycle over target system trajectories and statistics to determine SD\n",
    "    sd2 = sd2f = 0.0\n",
    "    for targ, stat in zip(targets, stats):\n",
    "\n",
    "        beta = np.mean(targ['beta']) # system inverse temperature\n",
    "        u_targ = np.array(targ['energy']) # target energies\n",
    "        u_stat = stat['energy'] # energy statistics\n",
    "        n_sample = len(u_targ)\n",
    "        w = targ.get('weight', 1.0)\n",
    "        #w = 1.0\n",
    "        #print('inside', beta, u_targ)\n",
    "\n",
    "        # energy diference array for a given target trajectory\n",
    "        uuu = beta*(utot_EAM(params, u_stat) - u_targ) # array(n_sample)\n",
    "        uuu -= np.mean(uuu)\n",
    "        eee = np.exp(-uuu)\n",
    "        \n",
    "        #print('opti', list(np.array(utot_EAM(params, u_stat))))\n",
    "        #print('targ', list(u_targ))\n",
    "\n",
    "        # are forces available?\n",
    "        if (not fopt) and ('forcesx' not in targ):\n",
    "\n",
    "            # energy-based free energy difference and statistical distance\n",
    "            ge = -np.log(np.mean(eee))   # free energy difference (shifted)\n",
    "            cb = np.mean(np.exp(-0.5*(uuu - ge))) # Bhattacharyya coefficient\n",
    "            sd2 += w*np.arccos(cb)**2              # statistical distance\n",
    "\n",
    "        else:\n",
    "\n",
    "            betad = beta*0.05  # beta * dl\n",
    "            f_targ = targ['forces'] # target forces (n_sample, 1+6N) (0, 3Nf, -3Nf)\n",
    "            f_stat = stat['forces'] # force statistics (n_sample, npars, 3N)\n",
    "\n",
    "            eeh = np.exp(-0.5*uuu)\n",
    "            fff = ftot_EAM(params, f_stat) # n_sample *(6N + 1) force contributions\n",
    "\n",
    "            # target and model force terms\n",
    "            fpave = np.mean([np.mean(np.exp(betad*f_targ[i])) for i in range(n_sample)])\n",
    "            fqave = np.mean([eee[i]*np.mean(np.exp(betad*fff[i])) for i in range(n_sample)])\n",
    "            fhave = np.mean([eeh[i]*np.mean(np.exp(0.5*betad*(fff[i]+f_targ[i]))) for i in range(n_sample)])\n",
    "            \n",
    "            # force-based free energy difference and statistical distance\n",
    "            gef = -np.log(fqave/fpave)\n",
    "            cb = fhave/(fqave*fpave)**0.5\n",
    "            if cb > 1: cb = 1\n",
    "            sd2f += w*np.arccos(cb)**2\n",
    "            \n",
    "    #print('loss', sd2+sd2f)\n",
    "    \n",
    "    return sd2 + sd2f"
   ]
  },
  {
   "cell_type": "markdown",
   "metadata": {},
   "source": [
    "### 2.3 Target data"
   ]
  },
  {
   "cell_type": "markdown",
   "metadata": {},
   "source": [
    "**Bulk properties of tungsten** (from _Marinica et.al_ except for B (bulk modulus) and Pc (Cauchy pressure)) T=0K?\n",
    "\n",
    "| Property | BCC | FCC |\n",
    "| :---     | :---: | :---: |\n",
    "| a_0 (A) | 3.1648 | 4.054 |\n",
    "| E_coh (eV/atom) | -8.9 | -8.43 |\n",
    "| C11 (GPa) | 523 | - |\n",
    "| C12 (GPa) | 203 | - |\n",
    "| C44 (GPa) | 160 | - |\n",
    "| B (GPa) | 310.4 | - |\n",
    "| Pc (GPa) | 21.9 | - |"
   ]
  },
  {
   "cell_type": "markdown",
   "metadata": {},
   "source": [
    "**Defect properties** (from _Marinica et.al_), based on 128+-1 atoms\n",
    "\n",
    "Defect | Energy (eV)\n",
    ":--- | :---:\n",
    "(111) | 10.53\n",
    "(110) | 10.82\n",
    "(100) | 12.87\n",
    "OCT | 13.11\n",
    "TET | 12.27\n",
    "Vacancy | 3.49"
   ]
  },
  {
   "cell_type": "markdown",
   "metadata": {},
   "source": [
    "**List of available atomic configurations and DFT data**\n",
    "\n",
    "1. Data from Marinica\n",
    "  * 20 configurations generated from liquid Fe trajectory, N=113\n",
    "  * DFT Forces\n",
    "  * DFT Energy\n",
    "2. Data from German (local minimum energy configs.)\n",
    "  * Energy, Hessians?\n",
    "  * Pure phases\n",
    "    * BCC (54 atoms)\n",
    "    * FCC (32 atoms)\n",
    "  * Vacancy\n",
    "    * vacancy (53 atoms)\n",
    "  * Interstitial defects \n",
    "    * 110, 111 (55 atoms)\n",
    "  * Screw dislocation\n",
    "    * 111_easy_core (135 atoms)?"
   ]
  },
  {
   "cell_type": "markdown",
   "metadata": {},
   "source": [
    "**Universal equation of state for metals at 0K**"
   ]
  },
  {
   "cell_type": "code",
   "execution_count": 10,
   "metadata": {
    "collapsed": true
   },
   "outputs": [],
   "source": [
    "# W parameters\n",
    "l = 0.274\n",
    "r_wse = 3.168\n",
    "r_wse = 1.584\n",
    "eta = 5.69\n",
    "dE = 8.9\n",
    "\n",
    "# equation of state. x is lattice expansion/compression parameter\n",
    "def eos(x):\n",
    "    a = (x - 1.0)*r_wse/l\n",
    "    ene = np.exp(-a)\n",
    "    ene *= -1.0 - a - 0.05*a**3\n",
    "    return dE*ene"
   ]
  },
  {
   "cell_type": "markdown",
   "metadata": {},
   "source": [
    "**Load target data files**"
   ]
  },
  {
   "cell_type": "markdown",
   "metadata": {},
   "source": [
    "Structure of h5 files with configuration data.\n",
    "\n",
    "1. Single target_conf file contains all the information from different simulations\n",
    "2. Each simulation is treated as a trajectory (sometimes with only 1 configuration)\n",
    "3. Trajectory data structure\n",
    "    * overall description\n",
    "        * General description\n",
    "        * Particle id, element\n",
    "    * per-configuration description\n",
    "        * box description\n",
    "        * particle coordinates ordered by particle number\n",
    "        * configurational, kinetic, and total energies\n",
    "        * forces per particle\n",
    "        * "
   ]
  },
  {
   "cell_type": "markdown",
   "metadata": {},
   "source": [
    "### 2.4 Simulation details"
   ]
  },
  {
   "cell_type": "markdown",
   "metadata": {},
   "source": [
    "## 3. Optimization\n",
    "\n",
    "** Read pickled data**"
   ]
  },
  {
   "cell_type": "code",
   "execution_count": 11,
   "metadata": {
    "collapsed": true
   },
   "outputs": [],
   "source": [
    "import pickle\n",
    "\n",
    "# load target data\n",
    "with open(os.path.join(working, 'target_filtered'+'.pickle'), 'rb') as fi:\n",
    "    targ_dict = pickle.load(fi)\n",
    "\n",
    "# load stats data\n",
    "with open(os.path.join(working, 'stats_filtered'+'.pickle'), 'rb') as fi:\n",
    "    stats_dict = pickle.load(fi)\n",
    "\n",
    "# load target data\n",
    "with open(os.path.join(working, 'target'+'.pickle'), 'rb') as fi:\n",
    "    targ0_dict = pickle.load(fi)\n",
    "\n",
    "# load stats data\n",
    "with open(os.path.join(working, 'stats'+'.pickle'), 'rb') as fi:\n",
    "    stats0_dict = pickle.load(fi)\n",
    "\n",
    "# load stats data\n",
    "with open(os.path.join(working, 'pars_in'+'.pickle'), 'rb') as fi:\n",
    "    pars_dict = pickle.load(fi)"
   ]
  },
  {
   "cell_type": "code",
   "execution_count": 12,
   "metadata": {
    "collapsed": true
   },
   "outputs": [],
   "source": [
    "pars_in = [pars_dict['embed'][0], pars_dict['embed'][2], *pars_dict['pair']]\n",
    "#pars_in"
   ]
  },
  {
   "cell_type": "code",
   "execution_count": 13,
   "metadata": {
    "collapsed": true
   },
   "outputs": [],
   "source": [
    "stats = []\n",
    "target = []\n",
    "for dset in list(stats_dict.keys())[0::2]:\n",
    "    stats.append(stats_dict[dset])\n",
    "    target.append(targ_dict[dset])"
   ]
  },
  {
   "cell_type": "markdown",
   "metadata": {},
   "source": [
    "**Optimization based on energy information**"
   ]
  },
  {
   "cell_type": "code",
   "execution_count": 14,
   "metadata": {},
   "outputs": [
    {
     "name": "stdout",
     "output_type": "stream",
     "text": [
      "-1.35713629816 2.99035506733e-05 0.97519696453 4.32289573846 -1.00985635352 2.96352259858 -1.77920011809 0.341260259343\n"
     ]
    }
   ],
   "source": [
    "output = fmin(sd2_loss, pars_in, args=(stats, target), maxiter=100000, maxfun=100000, disp=0, full_output=1,ftol=1e-6)\n",
    "params_uopt = output[0]\n",
    "print(*params_uopt)"
   ]
  },
  {
   "cell_type": "markdown",
   "metadata": {},
   "source": [
    "**Optimization based on energies and forces**"
   ]
  },
  {
   "cell_type": "code",
   "execution_count": 841,
   "metadata": {},
   "outputs": [
    {
     "name": "stdout",
     "output_type": "stream",
     "text": [
      "-1.22336073981 1.84236137688e-05 -0.386921781128 -1.41363967547 1.50778406591 1.19200723959 -0.588134892278 0.0981019469094\n"
     ]
    }
   ],
   "source": [
    "output = fmin(sd2_loss, pars_in, args=(stats, target, True), maxiter=100000, maxfun=100000, disp=0, full_output=1,ftol=1e-6)\n",
    "params_fopt = output[0]\n",
    "print(*params_fopt)"
   ]
  },
  {
   "cell_type": "code",
   "execution_count": 15,
   "metadata": {},
   "outputs": [
    {
     "data": {
      "text/plain": [
       "<matplotlib.legend.Legend at 0x11349ca20>"
      ]
     },
     "execution_count": 15,
     "metadata": {},
     "output_type": "execute_result"
    },
    {
     "data": {
      "image/png": "[encoded data removed]",
      "text/plain": [
       "<Figure size 432x288 with 1 Axes>"
      ]
     },
     "metadata": {},
     "output_type": "display_data"
    }
   ],
   "source": [
    "sopi=[-480.59780426946804, -468.61009716387832, -478.66198218651613, -478.62490818163315]\n",
    "star=[-480.60000000002037, -468.60958975147514, -478.6412966408825, -478.64398486557184]\n",
    "plt.title('Selected configurations at 0K\\n(BCC,vacancy,110,111)')\n",
    "plt.plot(star, 'o', label='target')\n",
    "plt.plot([o for o in sopi], 'x--', label='optimized')\n",
    "plt.legend()"
   ]
  },
  {
   "cell_type": "code",
   "execution_count": 16,
   "metadata": {},
   "outputs": [
    {
     "data": {
      "text/plain": [
       "<matplotlib.legend.Legend at 0x1155cde10>"
      ]
     },
     "execution_count": 16,
     "metadata": {},
     "output_type": "execute_result"
    },
    {
     "data": {
      "image/png": "[encoded data removed]",
      "text/plain": [
       "<Figure size 432x288 with 1 Axes>"
      ]
     },
     "metadata": {},
     "output_type": "display_data"
    }
   ],
   "source": [
    "opi = [-479.19152696475197, -479.22232955733739, -479.27759711915547, -479.36827814396628, -479.45953647684894, -479.49198266162182, -479.41332115674476, -479.19830356622964, -478.85247928179092, -478.40970092484122, -477.92774273687451, -477.48096093816645, -477.1460768614354, -476.98096344780197, -477.01021879011506, -477.22600598913482, -477.59205190455066, -478.05163209608122, -478.54207169068002, -479.00138317248525, -479.37125860575668, -479.59956392150156, -479.6537557300627, -479.53353183913521, -479.27277874613935, -478.92904543415852, -478.57267664230346, -478.27782844697361, -478.10280536780351, -478.06106580274343, -478.10922715699832, -478.17567663332528, -478.20808829701411, -478.19958725944593, -478.18083421298678, -478.19840258108036, -478.29063178357751, -478.46899275063925, -478.70499910768871, -478.9341102532851, -479.08155908169903, -479.0977017482852, -478.98281426305891, -478.78704388605149, -478.59779923375822, -478.50547341024031, -478.55556577011117, -478.72072112567946, -478.92001546218319, -479.06508803163035, -479.09030721402945, -478.96285017251728, -478.6854504128446, -478.29704741399286, -477.87806851974477, -477.55371848816611, -477.46083591157981, -477.66313522631481, -478.08854807288895, -478.57697914926808, -478.9829768683353, -479.22971842734802, -479.30348762322296, -479.22502705143165, -479.03346429005626, -478.77901293797498, -478.51974215920455, -478.31376481686596, -478.20478511741652, -478.20619847557072, -478.29449511682969, -478.41592690837609, -478.51188341231983, -478.5442751885758, -478.50793372528096, -478.43066686200876, -478.36112163330176, -478.34333387824734, -478.39514566416256, -478.50366214179871, -478.633461392649, -478.74282047021762, -478.79785370392693, -478.78571139114695, -478.7201814633774, -478.63825303311052, -478.58587137027826, -478.5970283258543, -478.67488568443025, -478.78471795270815, -478.86465520244661, -478.8516556062944, -478.71286391470926, -478.46653909994859, -478.18262405098835, -477.96603676901685, -477.9197194994195, -478.08858704693699, -478.42411182991685, -478.80806101606385, -479.11270208182441]\n",
    "tar = [-475.71991971456737, -475.79645176616032, -475.90415351967386, -476.04189787899668, -476.16565993455879, -476.21095316734863, -476.1241782020079, -475.88293801860709, -475.50065150904993, -475.02128303752397, -474.51205305203621, -474.05533657119668, -473.7332001724717, -473.60287323154625, -473.67854785207601, -473.93209792685229, -474.30776553644682, -474.74331495248771, -475.1868275115703, -475.59783877905284, -475.937498500527, -476.16527638990374, -476.24903143451957, -476.17795948559069, -475.96841418402619, -475.66178202249284, -475.3178276624094, -475.00446176879632, -474.77986720459012, -474.66920076948009, -474.65354428454884, -474.68764696676226, -474.7338515092124, -474.78134628004045, -474.84004126148648, -474.92421767457563, -475.04250928710098, -475.19365321815712, -475.36093391531904, -475.50878880494565, -475.59332767380693, -475.58577569504268, -475.4914399072004, -475.35318560632004, -475.2390255000646, -475.21441578552185, -475.30556743183115, -475.47809026838513, -475.6552089737088, -475.76006931322627, -475.74310913027148, -475.58544956645346, -475.29544152710878, -474.91028666426428, -474.50435113848653, -474.19391196656215, -474.10986984171905, -474.31711591636122, -474.74762306074263, -475.24315755059069, -475.65694247568899, -475.91105977201369, -475.99390867713373, -475.93177349491452, -475.76441959911608, -475.53484140377259, -475.28853473052732, -475.07266808558779, -474.92889653806924, -474.87964227839257, -474.916534400807, -475.0020037633949, -475.0873114902497, -475.13587403623387, -475.1372608650272, -475.10741540575691, -475.07840588058752, -475.08268106302421, -475.13820891008072, -475.24000987231557, -475.36146086400549, -475.46551043994259, -475.52061787094863, -475.51235036853177, -475.44792684394633, -475.35502128710505, -475.27331471641082, -475.23830167694541, -475.26309316362313, -475.32851983628643, -475.38865375638125, -475.39062494989776, -475.30017875906196, -475.12213949221768, -474.90689762090915, -474.73945243089111, -474.70790027282783, -474.85520331535372, -475.1452367973543, -475.47855531114328, -475.7447880734253]\n",
    "plt.title('BCC trajectory at 300K')\n",
    "plt.plot(tar, label='target')\n",
    "plt.plot([o for o in opi], label='optimized')\n",
    "plt.plot([o+3.35 for o in opi], label='optimized+shift')\n",
    "plt.xlabel('configuration number')\n",
    "plt.ylabel('Configurational energy (eV)')\n",
    "plt.legend()"
   ]
  },
  {
   "cell_type": "code",
   "execution_count": 794,
   "metadata": {},
   "outputs": [
    {
     "data": {
      "text/plain": [
       "<matplotlib.legend.Legend at 0x11456eb70>"
      ]
     },
     "execution_count": 794,
     "metadata": {},
     "output_type": "execute_result"
    },
    {
     "data": {
      "image/png": "[encoded data removed]",
      "text/plain": [
       "<matplotlib.figure.Figure at 0x114343940>"
      ]
     },
     "metadata": {},
     "output_type": "display_data"
    }
   ],
   "source": [
    "opi = [-687.43679309758932, -681.02065659051198, -723.06869068839956, -702.07512393100683, -677.14901901072199, -721.2954164009717, -679.9446033722586, -703.36129057270716, -711.99875954826791, -682.43179098463463, -695.00250693975659, -720.59455339651186, -707.89173038466686, -661.71919579536791, -678.46032593121754, -718.49788355494047, -700.64889272141852]\n",
    "tar = [-748.92596900000001, -792.87149650000003, -880.63634160000004, -815.61296990000005, -749.77039820000005, -757.39729380000006, -759.24655580000001, -827.23146020000001, -753.07149030000005, -755.16599650000001, -770.33142569999995, -892.83260970000003, -754.76169289999996, -759.30482040000004, -758.04525130000002, -767.8930345, -759.45380439999997]\n",
    "plt.title('Marinica liquid trajectory at 4000K')\n",
    "plt.plot(tar, label='target')\n",
    "plt.plot([o for o in opi], label='optimized')\n",
    "plt.legend()"
   ]
  },
  {
   "cell_type": "code",
   "execution_count": 757,
   "metadata": {
    "collapsed": true
   },
   "outputs": [],
   "source": [
    "# Gauge conversion perameters\n",
    "C = 1.848055990\n",
    "S = 2.232322602e-1\n",
    "\n",
    "# electronic density function (cubic splines)\n",
    "rho = lambda r, a, k: sum([c*(p - r)**3 for c, p in zip(a, k) if r < p])\n",
    "\n",
    "# embedding function\n",
    "F = lambda d, a: a[0]*d**0.5 + a[1]*d + a[2]*d**2\n",
    "\n",
    "#Fc = lambda d, a: a[0] + a[1]*d + a[2]*d**2 + a[3]*d**3\n",
    "#Fe = lambda d, a: F(d/S, a) + C/S*d\n",
    "#Fa = lambda d, a1, a2: Fe(d, a1) if d < 1.359141225 else Fc(d, a2)\n",
    "\n",
    "# pair potential function (same spline form as electronic density)\n",
    "V = rho\n",
    "\n",
    "V = lambda r, aa, cc: sum([a*(rc - r)**3 for a, rc in zip(aa, cc) if r < rc])\n",
    "\n",
    "# Embedding function. Parameters: electronic density (d), coefficients for 1/2, 1, and 2 powers of density\n",
    "F = lambda d, a: a[0]*d**0.5 + a[1]*d + a[2]*d**2\n",
    "\n",
    "# Cohesive potential (cubic splines - same form as V)\n",
    "phi = V"
   ]
  },
  {
   "cell_type": "code",
   "execution_count": 758,
   "metadata": {
    "collapsed": true
   },
   "outputs": [],
   "source": [
    "# electronic density parameters\n",
    "rho_re_a = [3.704045964e-3]\n",
    "rho_re_r = [5.46]\n",
    "\n",
    "# embeding function parameters\n",
    "F_re_a = [-7.046791948, 1.23658472, 1.143405627]\n",
    "#F_re_a = [-7.046791948, 0, 1.143405627]\n",
    "\n",
    "# pair potential\n",
    "V_re_a = [6.726805309, 3.217593889, -6.545857587e-1, 1.453229484e-1, -2.063629464e-1, 6.114909116e-2]\n",
    "V_re_r = [2.7, 3.252, 3.804, 4.356, 4.908, 5.46]"
   ]
  },
  {
   "cell_type": "code",
   "execution_count": 759,
   "metadata": {
    "collapsed": true
   },
   "outputs": [],
   "source": [
    "# electronic density parameters\n",
    "#rho_x_a = [3.704045964e-3]\n",
    "rho_x_a = [1.0]\n",
    "rho_x_r = [4.77]\n",
    "\n",
    "# embeding function parameters\n",
    "F_x_a = [-7.046791948, 1.23658472, 1.143405627]\n",
    "#F_re_a = [-7.046791948, 0, 1.143405627]\n",
    "\n",
    "#3.704045964e-3\n",
    "\n",
    "# pair potential\n",
    "V_x_a = [6.726805309, 3.217593889, -6.545857587e-1, 1.453229484e-1, -2.063629464e-1, 6.114909116e-2]\n",
    "V_x_a = [x*2 for x in V_re_a]\n",
    "#V_re_r = [2.7, 3.252, 3.804, 4.356, 4.908, 5.46]\n",
    "V_x_r = [2.56, 2.73, 3.252, 3.804, 4.20, 4.77]\n",
    "#[2.56, 2.73, 3.252, 3.804, 4.20, 4.77]"
   ]
  },
  {
   "cell_type": "code",
   "execution_count": 831,
   "metadata": {
    "collapsed": true
   },
   "outputs": [],
   "source": [
    "def utot_opt(x, pn, mn):\n",
    "    u = 4*V(x, pn, V_x_r)\n",
    "    d = 8*phi(x, rho_x_a, rho_x_r)\n",
    "    u += F(d, mn)\n",
    "    return u/8\n",
    "\n",
    "def utot_re(x):\n",
    "    u = 4*V(x, V_re_a, V_re_r)\n",
    "    d = 8*phi(x, rho_re_a, rho_re_r)\n",
    "    u += F(d, F_re_a)\n",
    "    return u/8"
   ]
  },
  {
   "cell_type": "code",
   "execution_count": 832,
   "metadata": {
    "collapsed": true
   },
   "outputs": [],
   "source": [
    "pair_x = pars_in[2:]\n",
    "many_x = [pars_in[0], 0.0, pars_in[1]]"
   ]
  },
  {
   "cell_type": "code",
   "execution_count": 833,
   "metadata": {},
   "outputs": [
    {
     "data": {
      "text/plain": [
       "[-1.1649496773796486, 0.0, 6.2074554886143939e-05]"
      ]
     },
     "execution_count": 833,
     "metadata": {},
     "output_type": "execute_result"
    }
   ],
   "source": [
    "pair_y = params_uopt[2:]\n",
    "many_y = [params_uopt[0], 0.0, params_uopt[1]]\n",
    "\n",
    "pair_z = params_fopt[2:]\n",
    "many_z = [params_fopt[0], 0.0, params_fopt[1]]\n",
    "many_y"
   ]
  },
  {
   "cell_type": "code",
   "execution_count": 834,
   "metadata": {
    "collapsed": true
   },
   "outputs": [],
   "source": [
    "# Cohesive potential parameters\n",
    "rho_w_a = [-0.420429e1, 0.518217702, 0.5627208e-1, 0.344164179e-1]\n",
    "rho_w_r = [2.5, 3.1, 3.5, 4.9]\n",
    "\n",
    "# Embedding function parameters\n",
    "F_w_a = [-5.946454, 0.0, -0.049477] # Original Marinica\n",
    "Fc_w_a = [-5.524855802, 2.317313103e-1, -3.665345949e-2, 8.989367404e-3] # Bonny's correction\n",
    "\n",
    "# Pair potential parameters\n",
    "arr = np.array([\n",
    "(1,  0.960851701343041e2, 2.5648975),\n",
    "(2, -0.184410923895214e3, 2.6297950),\n",
    "(3,  0.935784079613550e2, 2.6946925),\n",
    "(4, -0.798358265041677e1, 2.8663175),\n",
    "(5,  0.747034092936229e1, 2.9730450),\n",
    "(6, -0.152756043708453e1, 3.0797725),\n",
    "(7,  0.125205932634393e1, 3.5164725),\n",
    "(8,  0.163082162159425e1, 3.8464450),\n",
    "(9, -0.141854775352260e1, 4.1764175),\n",
    "(10,-0.819936046256149e0, 4.7008450),\n",
    "(11, 0.198013514305908e1, 4.8953000),\n",
    "(12,-0.696430179520267e0, 5.0897550),\n",
    "(13, 0.304546909722160e-1,5.3429525),\n",
    "(14,-0.163131143161660e1, 5.4016950),\n",
    "(15, 0.138409896486177e1, 5.4604375)])\n",
    "\n",
    "V_w_a = arr[:,1]\n",
    "V_w_r = arr[:,2]"
   ]
  },
  {
   "cell_type": "code",
   "execution_count": 835,
   "metadata": {
    "collapsed": true
   },
   "outputs": [],
   "source": [
    "# Gauge conversion perameters\n",
    "C = 1.848055990\n",
    "S = 2.232322602e-1\n",
    "\n",
    "# Rescaled cohesive potential function\n",
    "rho = lambda r: phi(r, rho_w_a, rho_w_r)*S\n",
    "\n",
    "# Rescaled embedding function with Bonny's correction\n",
    "Fe = lambda d, a: F(d/S, a) + C/S*d # rescaled potential\n",
    "Fc = lambda d, a: a[0] + a[1]*d + a[2]*d**2 + a[3]*d**3 # correction\n",
    "Fa = lambda d, a1, a2: Fe(d, a1) if d < 1.359141225 else Fc(d, a2) # rescaled + correction\n",
    "\n",
    "# Rescaled pair potential function\n",
    "V_pair = lambda r: 0.5*(V(r, V_w_a, V_w_r) - 2*C*rho(r)/S)\n",
    "\n",
    "# Manybody potential for 8 NN\n",
    "V_man = lambda x: Fa(rho(x)*8, F_w_a, Fc_w_a)/8\n",
    "V_many = lambda d: Fa(d, F_w_a, Fc_w_a)"
   ]
  },
  {
   "cell_type": "code",
   "execution_count": 836,
   "metadata": {},
   "outputs": [
    {
     "name": "stderr",
     "output_type": "stream",
     "text": [
      "//anaconda/envs/py36/lib/python3.6/site-packages/ipykernel_launcher.py:21: RuntimeWarning: invalid value encountered in double_scalars\n"
     ]
    },
    {
     "data": {
      "text/plain": [
       "<matplotlib.text.Text at 0x114fecba8>"
      ]
     },
     "execution_count": 836,
     "metadata": {},
     "output_type": "execute_result"
    },
    {
     "data": {
      "image/png": "[encoded data removed]",
      "text/plain": [
       "<matplotlib.figure.Figure at 0x114fcd390>"
      ]
     },
     "metadata": {},
     "output_type": "display_data"
    }
   ],
   "source": [
    "rcut = 5.46\n",
    "r = np.linspace(0., rcut, 201)\n",
    "\n",
    "pot = [utot_re(x) for x in r]\n",
    "pot_start = [utot_opt(x, pair_x, many_x) for x in r]\n",
    "pot_uopt = [utot_opt(x, pair_y, many_y) for x in r]\n",
    "pot_fopt = [utot_opt(x, pair_z, many_z) for x in r]\n",
    "\n",
    "plt.title('Total potential per atom in BCC')\n",
    "pot_tot = [V_pair(x) + V_man(x) for x in r]\n",
    "plt.plot(r, pot_tot, label='Marinica/Bonny')\n",
    "#plt.plot(r, pot, label='original')\n",
    "plt.plot(r, pot_start, label='starting')\n",
    "plt.plot(r, pot_uopt, label='u-optimized')\n",
    "plt.plot(r, pot_fopt, label='f-optimized')\n",
    "\n",
    "plt.legend()\n",
    "plt.hlines(0.0, 1.5, rcut)\n",
    "#plt.hlines(-0.89, 1.5, rcut)\n",
    "\n",
    "plt.axis([1.5, rcut, -1.1, 1.0])\n",
    "plt.xlabel('r[A]')\n",
    "plt.ylabel(r'U(r)')"
   ]
  },
  {
   "cell_type": "code",
   "execution_count": 845,
   "metadata": {},
   "outputs": [
    {
     "data": {
      "text/plain": [
       "<matplotlib.text.Text at 0x1154a2b38>"
      ]
     },
     "execution_count": 845,
     "metadata": {},
     "output_type": "execute_result"
    },
    {
     "data": {
      "image/png": "[encoded data removed]",
      "text/plain": [
       "<matplotlib.figure.Figure at 0x1152854e0>"
      ]
     },
     "metadata": {},
     "output_type": "display_data"
    }
   ],
   "source": [
    "# Total pair potential\n",
    "pos = targ_dict['dset0']['xyz'][0]\n",
    "bx = targ_dict['dset0']['box'][0]\n",
    "rr, rx = pair_dist(pos, bx)\n",
    "\n",
    "plt.hist(rr[0], 50)\n",
    "#r = np.linspace(0., rcut, 201)\n",
    "ene = []\n",
    "for a in np.linspace(0.5, 2.0, 101):\n",
    "    z = a*rr\n",
    "    u_pair = 0.5*np.sum([V(x, pair_y, V_x_r) for x in z.flatten() if x > 0.1])\n",
    "\n",
    "    u_many = 0.0\n",
    "    for i in range(z.shape[0]):\n",
    "        #print(z[i])\n",
    "        d = np.sum([phi(x, rho_x_a, rho_x_r) for x in z[i] if x > 0.1])\n",
    "        #print('d',a, d)\n",
    "        u_many += F(d, many_y)\n",
    "\n",
    "    ene.append([a, u_pair, u_many, u_pair+u_many])\n",
    "\n",
    "ene2 = []\n",
    "for a in np.linspace(0.5, 2.0, 101):\n",
    "    z = a*rr\n",
    "    u_pair = 0.5*np.sum([V(x, pair_z, V_x_r) for x in z.flatten() if x > 0.1])\n",
    "\n",
    "    u_many = 0.0\n",
    "    for i in range(z.shape[0]):\n",
    "        #print(z[i])\n",
    "        d = np.sum([phi(x, rho_x_a, rho_x_r) for x in z[i] if x > 0.1])\n",
    "        u_many += F(d, many_z)\n",
    "\n",
    "    ene2.append([a, u_pair, u_many, u_pair+u_many])\n",
    "    \n",
    "#print(ene)\n",
    "ene = np.array(ene)\n",
    "ene2 = np.array(ene2)\n",
    "\n",
    "#plt.plot(ene[:,0], ene[:,1]/54, label='pair')\n",
    "#plt.plot(ene[:,0], ene[:,2]/54, label='manybody')\n",
    "plt.title('Equation of state (T=0K)')\n",
    "plt.plot(ene[:,0], [eos(x) for x in ene[:,0]], label='universal EOS')\n",
    "plt.plot(ene[:,0], ene[:,3]/54, label='u-total')\n",
    "plt.plot(ene2[:,0], ene2[:,3]/54, label='f-total')\n",
    "plt.hlines(0.0,0.5,2.0,lw=1)\n",
    "plt.legend()\n",
    "plt.xlim(0.5, 2.0)\n",
    "plt.ylim(-10,10)\n",
    "plt.xlabel('x')\n",
    "plt.ylabel(r'U')"
   ]
  },
  {
   "cell_type": "code",
   "execution_count": 804,
   "metadata": {
    "collapsed": true
   },
   "outputs": [],
   "source": [
    "# Ranges of densities and separations\n",
    "rhomax = 10.0\n",
    "nrho = 5000\n",
    "drho = rhomax/nrho\n",
    "\n",
    "nr = 5000\n",
    "#rcut = 5.46\n",
    "rcut = 4.77\n",
    "dr = rcut/nr\n",
    "\n",
    "ri = 1.0\n",
    "ro = 2.0\n",
    "\n",
    "# W properties\n",
    "na = 74\n",
    "ma = 183.84\n",
    "lc = 3.1653\n",
    "alat = 'bcc'\n",
    "\n",
    "# System composition\n",
    "n_el = 1\n",
    "el_name = ['W']"
   ]
  },
  {
   "cell_type": "code",
   "execution_count": 825,
   "metadata": {
    "collapsed": true
   },
   "outputs": [],
   "source": [
    "# Cubic spline function for pair potentials and electronic density\n",
    "f_spline = lambda r, aa, kk: sum([a*(rk - r)**3 for a, rk in zip(aa, kk) if r < rk and r > 0.01])\n",
    "\n",
    "# Functional form for the embedding potential\n",
    "f_embed = lambda d, a: a[0]*d**0.5 + a[1]*d + a[2]*d**2\n",
    "\n",
    "# prepare lists of values\n",
    "dens = np.linspace(0., rhomax-drho, nrho, endpoint=True)\n",
    "r = np.linspace(0., rcut-dr, nr, endpoint=True)\n",
    "\n",
    "#fembd = [f_embed(d, many_y) for d in dens] # Re\n",
    "Fe = lambda d, a: f_embed(d/S, a) - C/S*d # rescaled potential\n",
    "#fembd = [F(d, many_y) for d in dens] # W\n",
    "fembd = [Fe(d, many_z) for d in dens] # W\n",
    "\n",
    "\n",
    "#edens = [f_spline(x, rho_x_a, rho_x_r) for x in r] # Re\n",
    "#edens = np.array([f_spline(x, rho_x_a, rho_x_r) for x in r]) # W\n",
    "edens = np.array([f_spline(x, rho_x_a, rho_x_r)*S for x in r]) # W\n",
    "\n",
    "# Pair potential\n",
    "\n",
    "# 1. Cubic spline for r > r_o\n",
    "#f_outer = [f_spline(x, pair_y, V_x_r) for i, x in enumerate(r)]\n",
    "f_outer = [f_spline(x, pair_z, V_x_r) + 2*C*edens[i]/S for i, x in enumerate(r)]\n",
    "\n",
    "# 2. Repulsive core for r < r_i (precalculate up to r_o)\n",
    "f_inner = [0.0] + [u_core(x) for x in r[1:]]\n",
    "\n",
    "# 3. Transition region for r_i < r < r_o\n",
    "fpair = [x*u_trans(x, f_inner[i], f_outer[i]) for i, x in enumerate(r)]\n",
    "#fpair = [x*f_outer[i] for i, x in enumerate(r)]"
   ]
  },
  {
   "cell_type": "code",
   "execution_count": 826,
   "metadata": {
    "collapsed": true
   },
   "outputs": [],
   "source": [
    "# LAMMPS format\n",
    "with open(os.path.join(pot_path, 'W_lv.eam.fs'), 'w') as fo:\n",
    "    \n",
    "    # Comment section\n",
    "    fo.write('Comment 1\\n')\n",
    "    fo.write('Comment 2\\n')\n",
    "    fo.write('Comment 3\\n')\n",
    "    \n",
    "    # Number of elements\n",
    "    fo.write(f\"{n_el:5d} \")\n",
    "    for i in range(n_el):\n",
    "        fo.write(f\"{el_name[i]:2}\")\n",
    "    fo.write(\"\\n\")\n",
    "    \n",
    "    # number of grid points, step size, and cutoff\n",
    "    fo.write(f\"{nrho:5d}{drho:24.16e}{nr:5d}{dr:24.16e}{rcut:24.16e}\\n\")\n",
    "    \n",
    "    # atomic number, mass, lattice size, lattice type\n",
    "    fo.write(f\"{na:5d} {ma:14.4f} {lc:14.4f} {alat:10}\\n\")\n",
    "    \n",
    "    # Embeding function\n",
    "    for i in range(nrho//4):\n",
    "        fo.write(\"{0:20.12e}{1:20.12e}{2:20.12e}{3:20.12e}\\n\".format(*fembd[i*4:i*4+4]))\n",
    "    \n",
    "    # Electronic density\n",
    "    for i in range(nr//4):\n",
    "        fo.write(\"{0:20.12e}{1:20.12e}{2:20.12e}{3:20.12e}\\n\".format(*edens[i*4:i*4+4]))\n",
    "        \n",
    "    # Pair potential\n",
    "    for i in range(nr//4):\n",
    "        fo.write(\"{0:20.12e}{1:20.12e}{2:20.12e}{3:20.12e}\\n\".format(*fpair[i*4:i*4+4]))"
   ]
  },
  {
   "cell_type": "code",
   "execution_count": null,
   "metadata": {
    "collapsed": true
   },
   "outputs": [],
   "source": []
  }
 ],
 "metadata": {
  "kernelspec": {
   "display_name": "Python 3",
   "language": "python",
   "name": "python3"
  },
  "language_info": {
   "codemirror_mode": {
    "name": "ipython",
    "version": 3
   },
   "file_extension": ".py",
   "mimetype": "text/x-python",
   "name": "python",
   "nbconvert_exporter": "python",
   "pygments_lexer": "ipython3",
   "version": "3.6.1"
  }
 },
 "nbformat": 4,
 "nbformat_minor": 2
}
