{
 "cells": [
  {
   "cell_type": "code",
   "execution_count": 6,
   "metadata": {
    "collapsed": true
   },
   "outputs": [],
   "source": [
    "import os\n",
    "import sys\n",
    "import re\n",
    "import numpy as np\n",
    "%matplotlib inline\n",
    "import matplotlib.pyplot as plt\n",
    "import copy\n",
    "import pickle\n",
    "from scipy.optimize import fmin"
   ]
  },
  {
   "cell_type": "code",
   "execution_count": 7,
   "metadata": {},
   "outputs": [
    {
     "name": "stdout",
     "output_type": "stream",
     "text": [
      "The autoreload extension is already loaded. To reload it, use:\n",
      "  %reload_ext autoreload\n"
     ]
    }
   ],
   "source": [
    "%load_ext autoreload\n",
    "%autoreload 2"
   ]
  },
  {
   "cell_type": "code",
   "execution_count": 8,
   "metadata": {
    "collapsed": true
   },
   "outputs": [],
   "source": [
    "sys.path.append('../../statmechlib')\n",
    "from statmechlib.read_write import read_vasp\n",
    "from statmechlib.preprocessing import Trajectory, select_nodes, scale_configuration, pair_dist_cutoff\n",
    "from statmechlib.preprocessing import pair_dist, force_targ, get_stats_EAM, get_stats_EAM_pairdist\n",
    "from statmechlib.forcefields import sd2_loss, utot_EAM, ftot_EAM, udif_print, u_core\n",
    "from statmechlib.preprocessing import universal_eos"
   ]
  },
  {
   "cell_type": "code",
   "execution_count": 9,
   "metadata": {
    "collapsed": true
   },
   "outputs": [],
   "source": [
    "target_raw = '../data/target_raw'\n",
    "target_proc = '../data/target_processed'\n",
    "working = '../data/working'"
   ]
  },
  {
   "cell_type": "code",
   "execution_count": 10,
   "metadata": {
    "collapsed": true
   },
   "outputs": [],
   "source": [
    "n = int((1.45-0.85)/0.05 + 0.01)\n",
    "reos = np.linspace(0.85, 1.45, n+1)*2.74\n",
    "#for i, scale in enumerate(np.linspace(0.85, 1.45, 13)):\n",
    "#    print(round(reos[i], 3), universal_eos(scale, 'W'))"
   ]
  },
  {
   "cell_type": "code",
   "execution_count": 11,
   "metadata": {
    "collapsed": true
   },
   "outputs": [],
   "source": [
    "with open(os.path.join(working, 'stats_ready_x'+'.pickle'), 'rb') as fi:\n",
    "    stats_ready = pickle.load(fi)\n",
    "\n",
    "with open(os.path.join(working, 'target_ready_x'+'.pickle'), 'rb') as fi:\n",
    "    targ_ready = pickle.load(fi)   "
   ]
  },
  {
   "cell_type": "code",
   "execution_count": 12,
   "metadata": {},
   "outputs": [
    {
     "name": "stdout",
     "output_type": "stream",
     "text": [
      "[2.375, 2.5, 2.75, 3.25, 3.75, 4.25, 4.5, 5.0, 5.5, 6.0]\n"
     ]
    }
   ],
   "source": [
    "print(stats_ready['hyperparams'])"
   ]
  },
  {
   "cell_type": "code",
   "execution_count": 9,
   "metadata": {
    "collapsed": true
   },
   "outputs": [],
   "source": [
    "#multi_index = []\n",
    "#multi_index.append([0, 2, 3, 5, 7, 10, 12, 15])\n",
    "#multi_index.append([0, 2, 4, 6, 8, 10, 12, 14])\n",
    "#multi_index.append([0, 2, 4, 6, 8, 11, 13, 15])\n",
    "#multi_index.append([1, 2, 3, 5, 7, 10, 12, 14])\n",
    "#multi_index.append([1, 2, 4, 6, 8, 11, 13, 15])\n",
    "#multi_index.append([1, 2, 4, 6, 9, 11, 13, 15])\n",
    "#multi_index.append([1, 3, 5, 7, 9, 11, 13, 15])"
   ]
  },
  {
   "cell_type": "code",
   "execution_count": 13,
   "metadata": {},
   "outputs": [],
   "source": [
    "#stats_opts = []\n",
    "#for index in multi_index:\n",
    "#    index = np.array([True if i in index else False for i in range(len(stats_ready['hyperparams']))])\n",
    "#    print(np.array(stats_ready['hyperparams'])[index])\n",
    "#    stats_opts.append(select_nodes(stats_ready, index))"
   ]
  },
  {
   "cell_type": "code",
   "execution_count": 14,
   "metadata": {
    "collapsed": true
   },
   "outputs": [],
   "source": [
    "stats_opts = [stats_ready]"
   ]
  },
  {
   "cell_type": "code",
   "execution_count": 15,
   "metadata": {
    "collapsed": true
   },
   "outputs": [],
   "source": [
    "#with open(os.path.join(working, \"stats_multi.pickle\"), 'wb') as fo:\n",
    "#    pickle.dump(stats_opts, fo)"
   ]
  },
  {
   "cell_type": "code",
   "execution_count": 16,
   "metadata": {
    "collapsed": true
   },
   "outputs": [],
   "source": [
    "#with open(os.path.join(working, \"target_multi.pickle\"), 'wb') as fo:\n",
    "#    pickle.dump(targ_ready, fo)"
   ]
  },
  {
   "cell_type": "code",
   "execution_count": 17,
   "metadata": {},
   "outputs": [
    {
     "name": "stdout",
     "output_type": "stream",
     "text": [
      "[-0.344540412587315, 1.6869558429105695e-05, 0.4527535290774057, 7.091857873610367, 1.6314949612839302, 0.7906877956550405, -0.8249673243680319, 0.14501087706040938, -0.002061634677032549, 0.0021894588902290147]\n"
     ]
    }
   ],
   "source": [
    "# read corresponding parameters\n",
    "with open(os.path.join(working, 'pars_in'+'.pickle'), 'rb') as fi:\n",
    "    pars_dict = pickle.load(fi)\n",
    "\n",
    "pars_in = pars_dict['embed'] + pars_dict['pair']\n",
    "print(pars_in)"
   ]
  },
  {
   "cell_type": "code",
   "execution_count": 18,
   "metadata": {
    "collapsed": true
   },
   "outputs": [],
   "source": [
    "#with open(os.path.join(working, 'stats_multi.pickle'), 'rb') as fi:\n",
    "#    stats_opts = pickle.load(fi)\n",
    "#\n",
    "#with open(os.path.join(working, 'target_multi.pickle'), 'rb') as fi:\n",
    "#    targ_ready = pickle.load(fi)   "
   ]
  },
  {
   "cell_type": "code",
   "execution_count": 19,
   "metadata": {
    "collapsed": true
   },
   "outputs": [],
   "source": [
    "it = 0 # read in it (independent process)\n",
    "stats = []\n",
    "target = []\n",
    "for key in list(targ_ready.keys()):\n",
    "    stats.append(stats_opts[it][key])\n",
    "    target.append(targ_ready[key])"
   ]
  },
  {
   "cell_type": "code",
   "execution_count": 20,
   "metadata": {
    "collapsed": true
   },
   "outputs": [],
   "source": [
    "def optimize_EAM(target, stats, ieam, multi_pars, n_b=2):\n",
    "    \n",
    "    optimal_parameters = []\n",
    "    \n",
    "    for i, pars in enumerate(multi_pars):\n",
    "        sd_ini = sd2_loss(list(pars), stats, target, utot_EAM, None, [ieam])\n",
    "        print(i,' sd2: ini', sd_ini, end='')\n",
    "        output = fmin(sd2_loss, pars, args=(stats, target, utot_EAM, None, [ieam]), maxiter=100000, maxfun=100000, disp=0, full_output=1,ftol=1e-6)\n",
    "        optimal_parameters.append(tuple([output[1], output[0]]))\n",
    "        print('sd2: final', output[1])\n",
    "\n",
    "    n_best = min(n_b, len(optimal_parameters))\n",
    "                 \n",
    "    best_params = sorted(optimal_parameters)[:n_best]\n",
    "    \n",
    "    print('Best params:', best_params)\n",
    "\n",
    "    return best_params"
   ]
  },
  {
   "cell_type": "code",
   "execution_count": 22,
   "metadata": {},
   "outputs": [
    {
     "name": "stdout",
     "output_type": "stream",
     "text": [
      "[-6.37957119e-01  5.12653658e-02 -2.97730917e-02 -6.56865213e+01\n",
      "  2.28793828e+01 -3.44929675e+00  3.37209320e+00 -8.46482332e-01\n",
      " -1.19789083e+00  1.16654851e+00 -3.25522122e-01 -4.34821322e-02]\n",
      "[-7.37480258e-01 -3.14897552e-03  1.04032278e-01 -6.57870810e+01\n",
      "  2.30525796e+01 -3.47831901e+00  3.34136401e+00 -9.20155289e-01\n",
      " -1.37830362e+00  1.28784081e+00 -3.38990490e-01 -3.42336820e-02]\n",
      "[-7.52856848e-01 -6.90499786e-02  1.15180275e-01 -6.57214915e+01\n",
      "  2.30118962e+01 -3.49689000e+00  3.51089918e+00 -9.66350789e-01\n",
      " -1.35655224e+00  1.17907404e+00 -3.92005305e-01  2.95565839e-02]\n",
      "[-6.87795020e-01 -1.01050029e-01  1.04174121e-01 -6.57854383e+01\n",
      "  2.29864546e+01 -3.52363733e+00  3.54921366e+00 -7.28223853e-01\n",
      " -1.41403545e+00  1.26023886e+00 -2.20001363e-01  6.21123018e-02]\n"
     ]
    }
   ],
   "source": [
    "multi_pars = [[-0.684229349, 0.000152487644, 0.0, -65.6958142, 23.0194161, -3.48639263, 3.45615281, -0.88808358, -1.34315802, 1.24532843, -0.351200974, 0.0]]\n",
    "#multi_pars.append(pars_in)\n",
    "for _ in range(4):\n",
    "    pars = np.array(multi_pars[0])\n",
    "    pars += np.random.standard_normal(pars.shape)*0.07\n",
    "    print(pars)\n",
    "    multi_pars.append(pars)"
   ]
  },
  {
   "cell_type": "code",
   "execution_count": 23,
   "metadata": {},
   "outputs": [
    {
     "name": "stdout",
     "output_type": "stream",
     "text": [
      "ieam: 7\n",
      "0  sd2: ini 6.179839470143365e-05sd2: final 5.878638484138787e-05\n",
      "1  sd2: ini 28.978243373337797sd2: final 0.0006495510356270202\n",
      "2  sd2: ini 21.0496557022991sd2: final 0.00030553947586211714\n",
      "3  sd2: ini 31.44634074852179"
     ]
    },
    {
     "name": "stderr",
     "output_type": "stream",
     "text": [
      "../../statmechlib/statmechlib/forcefields/eam.py:226: RuntimeWarning: overflow encountered in exp\n",
      "  eee = np.exp(-uuu)\n"
     ]
    },
    {
     "name": "stdout",
     "output_type": "stream",
     "text": [
      "sd2: final 7.324859149808127e-05\n",
      "4  sd2: ini 32.28480600376304sd2: final 7.283481656057265e-05\n",
      "Best params: [(5.878638484138787e-05, array([-7.08184677e-01,  1.51852407e-04, -1.31320616e-01, -6.96351431e+01,\n",
      "        2.31559691e+01, -3.47540518e+00,  3.45591332e+00, -8.98685105e-01,\n",
      "       -1.34956764e+00,  1.25149700e+00, -3.51508937e-01,  1.23177213e-03])), (7.283481656057265e-05, array([-8.65377631e-01,  1.13168130e-04,  8.96703738e-02, -8.52365713e+01,\n",
      "        2.58115680e+01, -3.30087886e+00,  3.38784892e+00, -1.07199896e+00,\n",
      "       -1.13889505e+00,  1.21145992e+00, -3.76446633e-01,  2.46748571e-02]))]\n",
      "0  sd2: ini 5.878638484138787e-05sd2: final 5.520005704303636e-05\n",
      "1  sd2: ini 7.283481656057265e-05sd2: final 6.233046667451805e-05\n",
      "Best params: [(5.520005704303636e-05, array([-7.12429640e-01,  1.44386706e-04, -1.54012957e+02, -6.68117685e+01,\n",
      "        2.33057262e+01, -3.44645015e+00,  3.45434931e+00, -8.80457971e-01,\n",
      "       -1.35973136e+00,  1.25322674e+00, -3.52025752e-01,  1.63855774e-03])), (6.233046667451805e-05, array([-7.10180057e-01,  1.53466251e-04,  4.20136564e+01, -6.75903039e+01,\n",
      "        2.28253671e+01, -3.45019164e+00,  3.54206109e+00, -1.12627316e+00,\n",
      "       -1.17780956e+00,  1.24815945e+00, -3.75423970e-01,  9.40799735e-03]))]\n",
      "0  sd2: ini 5.520005704303636e-05sd2: final 5.486499432296537e-05\n",
      "1  sd2: ini 6.233046667451805e-05sd2: final 5.7195355681769516e-05\n",
      "Best params: [(5.486499432296537e-05, array([-7.42886266e-01,  1.36369510e-04, -1.67948508e+02, -6.89123701e+01,\n",
      "        2.38459005e+01, -3.42491200e+00,  3.40321716e+00, -8.24314308e-01,\n",
      "       -1.38007672e+00,  1.24159328e+00, -3.46328498e-01,  3.11194290e-03])), (5.7195355681769516e-05, array([-7.24357271e-01,  1.42642188e-04, -1.43404086e+02, -6.51213821e+01,\n",
      "        2.31246390e+01, -3.41529240e+00,  3.52557727e+00, -1.06078104e+00,\n",
      "       -1.23070527e+00,  1.25552790e+00, -3.71244441e-01,  8.39521708e-03]))]\n",
      "0  sd2: ini 5.486499432296537e-05sd2: final 5.486412894209206e-05\n",
      "1  sd2: ini 5.7195355681769516e-05sd2: final 5.6744682400029276e-05\n",
      "Best params: [(5.486412894209206e-05, array([-7.42914729e-01,  1.36503724e-04, -1.66475706e+02, -6.89262825e+01,\n",
      "        2.38401063e+01, -3.42521370e+00,  3.40319701e+00, -8.24477872e-01,\n",
      "       -1.38009654e+00,  1.24157925e+00, -3.46310752e-01,  3.11353616e-03])), (5.6744682400029276e-05, array([-6.92967607e-01,  1.50873215e-04, -1.33488839e+02, -6.37612409e+01,\n",
      "        2.26412007e+01, -3.45777715e+00,  3.54561647e+00, -1.02572911e+00,\n",
      "       -1.27691620e+00,  1.26223398e+00, -3.63109046e-01,  2.66436673e-03]))]\n",
      "0  sd2: ini 5.486412894209206e-05sd2: final 5.4824399071698216e-05\n",
      "1  sd2: ini 5.6744682400029276e-05sd2: final 5.647736800500632e-05\n",
      "Best params: [(5.4824399071698216e-05, array([-7.43394973e-01,  1.36604397e-04, -1.66636987e+02, -6.87549764e+01,\n",
      "        2.37894581e+01, -3.42650000e+00,  3.41147414e+00, -8.31355373e-01,\n",
      "       -1.38015078e+00,  1.24348552e+00, -3.46001810e-01,  2.78496971e-03])), (5.647736800500632e-05, array([-6.73520446e-01,  1.55329104e-04, -1.34960553e+02, -6.33679830e+01,\n",
      "        2.24160475e+01, -3.49330147e+00,  3.54299097e+00, -9.57463054e-01,\n",
      "       -1.34076304e+00,  1.26563688e+00, -3.51361661e-01, -3.14679350e-03]))]\n",
      "0  sd2: ini 5.4824399071698216e-05sd2: final 5.4780577635088105e-05\n",
      "1  sd2: ini 5.647736800500632e-05sd2: final 5.349796369598188e-05\n",
      "Best params: [(5.349796369598188e-05, array([-7.30457241e-01,  1.37768909e-04, -1.93189371e+02, -7.26701281e+01,\n",
      "        2.42802710e+01, -3.46529902e+00,  3.27059189e+00, -4.85489870e-01,\n",
      "       -1.63989584e+00,  1.25380560e+00, -3.15637416e-01, -8.52044655e-03])), (5.4780577635088105e-05, array([-7.38180452e-01,  1.37714172e-04, -1.64481925e+02, -6.85468172e+01,\n",
      "        2.37463589e+01, -3.43169033e+00,  3.41214610e+00, -8.31575223e-01,\n",
      "       -1.37767634e+00,  1.24176551e+00, -3.45678532e-01,  2.46117714e-03]))]\n",
      "ieam: 8\n",
      "0  sd2: ini 11.349376392132761sd2: final 0.00030833455800111407\n",
      "1  sd2: ini 11.19315154091823sd2: final 0.00010804682652057379\n",
      "Best params: [(0.00010804682652057379, array([-3.11165329e-01,  6.11707328e-05, -1.13483594e+02, -8.65867486e+01,\n",
      "        2.15475139e+01, -3.28524853e+00,  3.24639352e+00, -5.71301101e-01,\n",
      "       -1.49052790e+00,  1.19659020e+00, -3.81276028e-01,  1.01221280e-02])), (0.00030833455800111407, array([-3.21807055e-01,  4.90879377e-05, -1.18214285e+03, -5.08264352e+01,\n",
      "        2.03691757e+01, -3.12571325e+00,  3.38777588e+00, -3.93487788e-01,\n",
      "       -1.80126217e+00,  1.31950727e+00, -3.73191893e-01, -2.77967380e-03]))]\n",
      "0  sd2: ini 0.00010804682652057379sd2: final 7.16607349528417e-05\n",
      "1  sd2: ini 0.00030833455800111407sd2: final 7.267904945066667e-05\n",
      "Best params: [(7.16607349528417e-05, array([-4.21308465e-01,  5.08477015e-05, -2.30537645e+02, -6.00495644e+01,\n",
      "        2.18899739e+01, -3.19886451e+00,  2.80187050e+00,  1.38148171e-01,\n",
      "       -1.89071890e+00,  1.10658638e+00, -3.05696145e-01,  9.08969824e-03])), (7.267904945066667e-05, array([-4.49432194e-01,  4.86021839e-05, -1.97529347e+02, -5.18871345e+01,\n",
      "        2.08739855e+01, -3.29691400e+00,  3.02553779e+00, -2.52211376e-01,\n",
      "       -1.54683733e+00,  9.80589203e-01, -2.60525998e-01,  4.60540603e-03]))]\n",
      "0  sd2: ini 7.16607349528417e-05sd2: final 7.160430976346674e-05\n",
      "1  sd2: ini 7.267904945066667e-05sd2: final 6.97273294315023e-05\n",
      "Best params: [(6.97273294315023e-05, array([-5.27668652e-01,  4.08914407e-05, -2.49114648e+02, -5.83472467e+01,\n",
      "        2.29780809e+01, -3.09335146e+00,  2.78373867e+00, -1.27178188e-01,\n",
      "       -1.53685637e+00,  9.47703837e-01, -2.85487852e-01,  2.89157280e-02])), (7.160430976346674e-05, array([-4.24903602e-01,  5.05592215e-05, -2.33880040e+02, -6.01770530e+01,\n",
      "        2.19204537e+01, -3.19161000e+00,  2.80087908e+00,  1.37250697e-01,\n",
      "       -1.89179795e+00,  1.10721407e+00, -3.06070319e-01,  9.65302234e-03]))]\n",
      "0  sd2: ini 6.97273294315023e-05sd2: final 6.972261727548407e-05\n",
      "1  sd2: ini 7.160430976346674e-05sd2: final 7.15705926792137e-05\n",
      "Best params: [(6.972261727548407e-05, array([-5.27026394e-01,  4.09191326e-05, -2.49013119e+02, -5.83822974e+01,\n",
      "        2.29876770e+01, -3.09404025e+00,  2.78237450e+00, -1.25653049e-01,\n",
      "       -1.53700509e+00,  9.47572945e-01, -2.85591909e-01,  2.88905919e-02])), (7.15705926792137e-05, array([-4.22971576e-01,  5.06820831e-05, -2.33641198e+02, -6.00918717e+01,\n",
      "        2.19144901e+01, -3.19402054e+00,  2.79922741e+00,  1.39280053e-01,\n",
      "       -1.89099764e+00,  1.10653312e+00, -3.06235072e-01,  9.55451844e-03]))]\n",
      "0  sd2: ini 6.972261727548407e-05sd2: final 6.970409585203793e-05\n",
      "1  sd2: ini 7.15705926792137e-05sd2: final 7.152846274154447e-05\n",
      "Best params: [(6.970409585203793e-05, array([-5.25850652e-01,  4.10293922e-05, -2.46842162e+02, -5.85274564e+01,\n",
      "        2.30061492e+01, -3.09377708e+00,  2.77819469e+00, -1.22424477e-01,\n",
      "       -1.53752551e+00,  9.47905902e-01, -2.86479930e-01,  2.90801503e-02])), (7.152846274154447e-05, array([-4.25923659e-01,  5.04605524e-05, -2.34422631e+02, -6.02783810e+01,\n",
      "        2.19565585e+01, -3.18736999e+00,  2.79628775e+00,  1.39972889e-01,\n",
      "       -1.89301641e+00,  1.10813007e+00, -3.07208314e-01,  1.01505644e-02]))]\n",
      "0  sd2: ini 6.970409585203793e-05sd2: final 6.968580390771575e-05\n",
      "1  sd2: ini 7.152846274154447e-05sd2: final 7.102299829111886e-05\n",
      "Best params: [(6.968580390771575e-05, array([-5.28144720e-01,  4.08355844e-05, -2.48913271e+02, -5.85057801e+01,\n",
      "        2.30185822e+01, -3.08977498e+00,  2.77843649e+00, -1.24808599e-01,\n",
      "       -1.53635670e+00,  9.47763843e-01, -2.86640866e-01,  2.94418574e-02])), (7.102299829111886e-05, array([-4.55333443e-01,  4.73445030e-05, -2.67732434e+02, -6.14142417e+01,\n",
      "        2.25216586e+01, -3.14032477e+00,  2.74181890e+00,  1.78961550e-01,\n",
      "       -1.89452753e+00,  1.08776735e+00, -3.02825349e-01,  1.45895532e-02]))]\n",
      "ieam: 9\n",
      "0  sd2: ini 10.861280513591318sd2: final 0.00029037980930256453\n",
      "1  sd2: ini 15.485191175025896sd2: final 0.00012623075659499983\n",
      "Best params: [(0.00012623075659499983, array([-1.80644614e-01,  2.28222886e-05,  3.63741611e+01, -5.82859081e+01,\n",
      "        2.06493281e+01, -2.80232703e+00,  2.37817081e+00,  4.61466924e-01,\n",
      "       -2.10465659e+00,  1.27856262e+00, -4.38112623e-01,  2.45879251e-02])), (0.00029037980930256453, array([-3.60857623e-01,  1.21658228e-05, -9.57865028e+02, -8.19397017e+01,\n",
      "        2.41828577e+01, -3.03294726e+00,  2.70698502e+00,  5.75313184e-02,\n",
      "       -1.45032094e+00,  6.75261302e-01, -1.67329364e-01,  1.43374463e-02]))]\n"
     ]
    },
    {
     "name": "stdout",
     "output_type": "stream",
     "text": [
      "0  sd2: ini 0.00012623075659499983sd2: final 0.00011152918642253047\n",
      "1  sd2: ini 0.00029037980930256453sd2: final 0.0001103320914631527\n",
      "Best params: [(0.0001103320914631527, array([-4.53883021e-01,  1.10037320e-05, -3.10296867e+02, -3.96311802e+01,\n",
      "        2.34487341e+01, -2.53968794e+00,  2.35671979e+00, -3.74544072e-01,\n",
      "       -8.85845690e-01,  6.50370383e-01, -3.71463893e-01,  1.12165461e-01])), (0.00011152918642253047, array([-1.78793868e-01,  2.18053721e-05, -2.54231499e+02, -4.98445734e+01,\n",
      "        2.06106985e+01, -2.79218097e+00,  2.40755860e+00,  4.63730579e-01,\n",
      "       -2.10151851e+00,  1.27749130e+00, -4.38173206e-01,  2.45265817e-02]))]\n",
      "0  sd2: ini 0.0001103320914631527sd2: final 0.00011014587380836677\n",
      "1  sd2: ini 0.00011152918642253047sd2: final 0.0001107494600514898\n",
      "Best params: [(0.00011014587380836677, array([-4.55154269e-01,  1.11021182e-05, -2.96276986e+02, -4.01664005e+01,\n",
      "        2.34458412e+01, -2.53641063e+00,  2.34405287e+00, -3.52924749e-01,\n",
      "       -9.06338705e-01,  6.54199835e-01, -3.71009702e-01,  1.12024560e-01])), (0.0001107494600514898, array([-1.87153625e-01,  2.14198835e-05, -2.77861213e+02, -4.93635954e+01,\n",
      "        2.06245063e+01, -2.78102146e+00,  2.41895302e+00,  4.55510662e-01,\n",
      "       -2.10133051e+00,  1.27458531e+00, -4.36267565e-01,  2.57626232e-02]))]\n",
      "0  sd2: ini 0.00011014587380836677sd2: final 0.00010998971855996249\n",
      "1  sd2: ini 0.0001107494600514898sd2: final 9.914117514681908e-05\n",
      "Best params: [(9.914117514681908e-05, array([-3.33722705e-01,  1.53908281e-05, -3.87709976e+02, -6.09739852e+01,\n",
      "        2.48380953e+01, -2.46388858e+00,  1.88642693e+00,  8.37896584e-01,\n",
      "       -2.09375545e+00,  1.08993841e+00, -4.41848363e-01,  8.00931493e-02])), (0.00010998971855996249, array([-4.54171099e-01,  1.09813712e-05, -3.14057873e+02, -3.99533953e+01,\n",
      "        2.34986540e+01, -2.53778473e+00,  2.34619637e+00, -3.50672322e-01,\n",
      "       -9.05906579e-01,  6.53757640e-01, -3.70897967e-01,  1.11845414e-01]))]\n",
      "0  sd2: ini 9.914117514681908e-05sd2: final 9.735888610795537e-05\n",
      "1  sd2: ini 0.00010998971855996249sd2: final 9.453285732865015e-05\n",
      "Best params: [(9.453285732865015e-05, array([-3.39379146e-01,  1.54042310e-05, -3.19212363e+02, -4.82606884e+01,\n",
      "        2.28831026e+01, -2.62455994e+00,  2.24687789e+00,  2.49846789e-01,\n",
      "       -1.61453627e+00,  9.48104385e-01, -3.94457800e-01,  7.22791795e-02])), (9.735888610795537e-05, array([-3.64350694e-01,  1.42004347e-05, -3.80610240e+02, -5.85416717e+01,\n",
      "        2.49247687e+01, -2.49163306e+00,  1.91013094e+00,  7.31326607e-01,\n",
      "       -1.93325657e+00,  9.85481524e-01, -4.10515318e-01,  8.37875547e-02]))]\n",
      "0  sd2: ini 9.453285732865015e-05sd2: final 9.449264243367542e-05\n",
      "1  sd2: ini 9.735888610795537e-05sd2: final 9.674670192226934e-05\n",
      "Best params: [(9.449264243367542e-05, array([-3.37288276e-01,  1.54811839e-05, -3.15301455e+02, -4.83619956e+01,\n",
      "        2.28827742e+01, -2.62765609e+00,  2.24690981e+00,  2.47783794e-01,\n",
      "       -1.61185917e+00,  9.48746109e-01, -3.95009943e-01,  7.19689719e-02])), (9.674670192226934e-05, array([-3.34134772e-01,  1.54739563e-05, -3.50048088e+02, -5.44007391e+01,\n",
      "        2.37332382e+01, -2.59937446e+00,  2.06807086e+00,  6.06192972e-01,\n",
      "       -1.89718251e+00,  9.99219133e-01, -3.92562112e-01,  6.80664918e-02]))]\n"
     ]
    }
   ],
   "source": [
    "for ieam in range(7, len(stats_opts[it]['hyperparams'])):\n",
    "    print('ieam:', ieam)\n",
    "    for i in range(6):\n",
    "        best_pars = optimize_EAM(target, stats, ieam, multi_pars)\n",
    "        multi_pars = [p[1] for p in best_pars]"
   ]
  },
  {
   "cell_type": "code",
   "execution_count": 21,
   "metadata": {},
   "outputs": [
    {
     "data": {
      "text/plain": [
       "[array([-3.99852964e-01,  5.19903525e-05, -4.35853845e+01,  1.94974779e+01,\n",
       "        -3.41125084e+00,  3.29583141e+00, -6.74970661e-01, -1.24161605e+00,\n",
       "         9.55571732e-01, -2.67603787e-01]),\n",
       " array([-3.08115841e-01,  6.08583920e-05, -3.55322048e+01,  1.74741498e+01,\n",
       "        -3.45456667e+00,  3.55864207e+00, -1.02844413e+00, -1.10262198e+00,\n",
       "         1.06957764e+00, -3.33945049e-01])]"
      ]
     },
     "execution_count": 21,
     "metadata": {},
     "output_type": "execute_result"
    }
   ],
   "source": [
    "multi_pars"
   ]
  },
  {
   "cell_type": "code",
   "execution_count": 24,
   "metadata": {
    "collapsed": true
   },
   "outputs": [],
   "source": [
    "optimal_parameters = [(5.349796369598188e-05, [-7.30457241e-01,  1.37768909e-04, -1.93189371e+02, -7.26701281e+01,\n",
    "        2.42802710e+01, -3.46529902e+00,  3.27059189e+00, -4.85489870e-01,\n",
    "       -1.63989584e+00,  1.25380560e+00, -3.15637416e-01, -8.52044655e-03]), (5.4780577635088105e-05, [-7.38180452e-01,  1.37714172e-04, -1.64481925e+02, -6.85468172e+01,\n",
    "        2.37463589e+01, -3.43169033e+00,  3.41214610e+00, -8.31575223e-01,\n",
    "       -1.37767634e+00,  1.24176551e+00, -3.45678532e-01,  2.46117714e-03])]"
   ]
  },
  {
   "cell_type": "code",
   "execution_count": 25,
   "metadata": {},
   "outputs": [
    {
     "name": "stdout",
     "output_type": "stream",
     "text": [
      "5\n",
      "Targ: [-1139.2, -906.9778906249999, -1127.13044453125, -1136.3561554687499, -1136.7059554687498]\n",
      "Model: [-1139.0570269879665, -906.9688057613918, -1127.26307239685, -1136.3587484963377, -1136.6533416843513]\n",
      "[0.0390625  0.0462963  0.03937008 0.03875969 0.03875969]\n",
      "0 5.349796369598188e-05\n",
      "1 5.4780577635088105e-05\n"
     ]
    },
    {
     "data": {
      "text/plain": [
       "<matplotlib.legend.Legend at 0x1100ef198>"
      ]
     },
     "execution_count": 25,
     "metadata": {},
     "output_type": "execute_result"
    },
    {
     "data": {
      "image/png": "[encoded data removed]",
      "text/plain": [
       "<Figure size 1440x720 with 1 Axes>"
      ]
     },
     "metadata": {},
     "output_type": "display_data"
    }
   ],
   "source": [
    "plt.figure(figsize=(20,10))\n",
    "\n",
    "nat = np.array([len(x) for x in targ_ready['relax']['xyz']])[:-2]\n",
    "print(len(nat))\n",
    "\n",
    "for i, params_uopt in enumerate(optimal_parameters):\n",
    "\n",
    "    #print(params_uopt[1])\n",
    "\n",
    "    opti_out, targ_out = udif_print(params_uopt[1], stats, target, utot_EAM, [7])\n",
    "    plt.title('Selected configurations at 0K')\n",
    "    if i == 0:\n",
    "        print('Targ:', targ_out[-2][:-2])\n",
    "        print('Model:', opti_out[-2][:-2])\n",
    "\n",
    "        #nat = np.array([len(x) for x in targ_dict['relax']['xyz']])\n",
    "        print(len(np.array(targ_out[-2][:-2]))/nat)\n",
    "        plt.plot(np.array(targ_out[-2][:-2])/nat, 'o', label='target'+str(i), markersize=10)\n",
    "        \n",
    "    if params_uopt[0] > 0.6e-3:\n",
    "        continue\n",
    "    #if i != 10 and i != 12:\n",
    "    #    continue\n",
    "    print(i, params_uopt[0])\n",
    "\n",
    "        \n",
    "    #print('Opti:', [o for o in opti_out[-1][:-1]])\n",
    "    plt.plot(np.array([o for o in opti_out[-2][:-2]])/nat, 'x--', label='optimized '+str(i))\n",
    "#    else:\n",
    "#        plt.plot([o for o in opti_out[-1][:-1]], 'x--', label='optimized '+str(i))\n",
    "#        plt.plot(targ_out[-1][:-1], 'o', markersize=10)\n",
    "\n",
    "plt.xticks([0, 1, 2, 3, 4, 5, 6], ['BCC','FCC', 'vacancy','110','111','liq','inf'])\n",
    "plt.ylabel('Energy [eV]')\n",
    "#plt.ylim(-1145, -1136)\n",
    "#plt.ylim(-8.905, -8.7533)\n",
    "#plt.ylim(-8.9, -8.35)\n",
    "#plt.xlim(0, 4)\n",
    "\n",
    "plt.legend()"
   ]
  },
  {
   "cell_type": "code",
   "execution_count": 26,
   "metadata": {},
   "outputs": [
    {
     "name": "stdout",
     "output_type": "stream",
     "text": [
      "13\n",
      "Targ: [-271.8047221070888, -837.1711089986524, -1079.5267350307165, -1139.2, -1100.8887858645915, -1014.6561261471663, -909.2807161131147, -800.6633444635341, -697.0611202328876, -602.3043063713144, -517.7429994565125, -443.4032853774631, -378.657941519064]\n",
      "Model: [-272.34462971952576, -836.4444989893747, -1079.3553972428986, -1139.0570269879665, -1106.2471229213083, -1009.9074695747115, -903.8242042212149, -802.7605879635, -701.8854402049313, -603.0525351617994, -514.2205107742186, -442.1885208917365, -380.3105089134008]\n",
      "[0.1015625 0.1015625 0.1015625 0.1015625 0.1015625 0.1015625 0.1015625\n",
      " 0.1015625 0.1015625 0.1015625 0.1015625 0.1015625 0.1015625]\n",
      "0 5.349796369598188e-05\n",
      "1 5.4780577635088105e-05\n"
     ]
    },
    {
     "data": {
      "text/plain": [
       "<matplotlib.legend.Legend at 0x110df2080>"
      ]
     },
     "execution_count": 26,
     "metadata": {},
     "output_type": "execute_result"
    },
    {
     "data": {
      "image/png": "[encoded data removed]",
      "text/plain": [
       "<Figure size 1440x720 with 1 Axes>"
      ]
     },
     "metadata": {},
     "output_type": "display_data"
    }
   ],
   "source": [
    "plt.figure(figsize=(20,10))\n",
    "\n",
    "nat = np.array([len(x) for x in targ_ready['eos']['xyz']])[1:]\n",
    "print(len(nat))\n",
    "\n",
    "for i, params_uopt in enumerate(optimal_parameters):\n",
    "\n",
    "    #print(params_uopt[1])\n",
    "\n",
    "    opti_out, targ_out = udif_print(params_uopt[1], stats, target, utot_EAM, [7])\n",
    "    plt.title('Selected configurations at 0K')\n",
    "    if i == 0:\n",
    "        print('Targ:', targ_out[-1][1:])\n",
    "        print('Model:', opti_out[-1][1:])\n",
    "\n",
    "        #nat = np.array([len(x) for x in targ_dict['relax']['xyz']])\n",
    "        print(len(np.array(targ_out[-1][1:]))/nat)\n",
    "        plt.plot(reos, np.array(targ_out[-1][1:])/nat, 'o', label='target'+str(i), markersize=10)\n",
    "        \n",
    "    if params_uopt[0] > 0.6e-3:\n",
    "        continue\n",
    "    #if i != 10 and i != 12:\n",
    "    #    continue\n",
    "    print(i, params_uopt[0])\n",
    "\n",
    "        \n",
    "    #print('Opti:', [o for o in opti_out[-1][:-1]])\n",
    "    plt.plot(reos, np.array([o for o in opti_out[-1][1:]])/nat, 'x--', label='optimized '+str(i))\n",
    "#    else:\n",
    "#        plt.plot([o for o in opti_out[-1][:-1]], 'x--', label='optimized '+str(i))\n",
    "#        plt.plot(targ_out[-1][:-1], 'o', markersize=10)\n",
    "\n",
    "#plt.xticks([0, 1, 2, 3, 4, 5, 6], ['BCC','FCC', 'vacancy','110','111','liq','inf'])\n",
    "plt.ylabel('Energy [eV]')\n",
    "#plt.ylim(-1145, -1136)\n",
    "#plt.ylim(-8.905, -8.7533)\n",
    "#plt.ylim(-8.9, -8.35)\n",
    "#plt.xlim(0, 4)\n",
    "\n",
    "plt.legend()"
   ]
  },
  {
   "cell_type": "code",
   "execution_count": 28,
   "metadata": {},
   "outputs": [
    {
     "name": "stdout",
     "output_type": "stream",
     "text": [
      "1138\n",
      "[8.890625 8.890625 8.890625 ... 8.890625 8.890625 8.890625]\n",
      "0 5.349796369598188e-05\n",
      "1 5.4780577635088105e-05\n"
     ]
    },
    {
     "data": {
      "text/plain": [
       "<matplotlib.legend.Legend at 0x113218eb8>"
      ]
     },
     "execution_count": 28,
     "metadata": {},
     "output_type": "execute_result"
    },
    {
     "data": {
      "image/png": "[encoded data removed]",
      "text/plain": [
       "<Figure size 1440x720 with 1 Axes>"
      ]
     },
     "metadata": {},
     "output_type": "display_data"
    }
   ],
   "source": [
    "plt.figure(figsize=(20,10))\n",
    "\n",
    "nat = np.array([len(x) for x in targ_ready['md']['xyz']])[:]\n",
    "print(len(nat))\n",
    "\n",
    "for i, params_uopt in enumerate(optimal_parameters):\n",
    "\n",
    "    #print(params_uopt[1])\n",
    "\n",
    "    opti_out, targ_out = udif_print(params_uopt[1], stats, target, utot_EAM,[7])\n",
    "    plt.title('Selected configurations at 0K')\n",
    "    if i == 0:\n",
    "        #print('Targ:', targ_out[0][:])\n",
    "        #print('Model:', opti_out[0][:])\n",
    "\n",
    "        #nat = np.array([len(x) for x in targ_dict['relax']['xyz']])\n",
    "        print(len(np.array(targ_out[0][:]))/nat)\n",
    "        #plt.plot(np.array(targ_out[0][:])/nat, 'o', label='target'+str(i), markersize=10)\n",
    "        plt.plot(np.array(targ_out[0][:]), 'o', label='target'+str(i), markersize=2)\n",
    "\n",
    "        \n",
    "    if params_uopt[0] > 0.6e-3:\n",
    "        continue\n",
    "    #if i != 10 and i != 12:\n",
    "    #    continue\n",
    "    print(i, params_uopt[0])\n",
    "\n",
    "    #print('Opti:', [o for o in opti_out[-1][:-1]])\n",
    "    #plt.plot(np.array([o for o in opti_out[0][:]])/nat, 'x--', label='optimized '+str(i))\n",
    "    plt.plot(np.array([o for o in opti_out[0][:]]), '--', label='optimized '+str(i), lw=1.0)\n",
    "\n",
    "#    else:\n",
    "#        plt.plot([o for o in opti_out[-1][:-1]], 'x--', label='optimized '+str(i))\n",
    "#        plt.plot(targ_out[-1][:-1], 'o', markersize=10)\n",
    "\n",
    "#plt.xticks([0, 1, 2, 3, 4, 5, 6], ['BCC','FCC', 'vacancy','110','111','liq','inf'])\n",
    "plt.ylabel('Energy [eV]')\n",
    "#plt.ylim(-1145, -1136)\n",
    "#plt.ylim(-8.905, -8.533)\n",
    "#plt.ylim(-8.9, -8.35)\n",
    "\n",
    "plt.ylim(-1180,-700)\n",
    "#plt.ylim(-1138,-1132)\n",
    "#plt.ylim(-1000,-900)\n",
    "\n",
    "plt.legend()"
   ]
  },
  {
   "cell_type": "code",
   "execution_count": 32,
   "metadata": {},
   "outputs": [
    {
     "name": "stdout",
     "output_type": "stream",
     "text": [
      "0 2.59409147888659e-05 \n",
      " [-0.684229349, 0.000152487644, -65.6958142, 23.0194161, -3.48639263, 3.45615281, -0.88808358, -1.34315802, 1.24532843, -0.351200974]\n",
      "1 2.7011955577216733e-05 \n",
      " [-0.699918428, 0.000147393678, -60.3178636, 22.4303464, -3.52696503, 3.61710456, -1.18289073, -1.09946985, 1.18593759, -0.339115303]\n"
     ]
    }
   ],
   "source": [
    "for i, params_uopt in enumerate(optimal_parameters):\n",
    "    if params_uopt[0] > 1.1e-3:\n",
    "        continue\n",
    "    print(i, params_uopt[0], '\\n', params_uopt[1])"
   ]
  },
  {
   "cell_type": "code",
   "execution_count": 126,
   "metadata": {},
   "outputs": [
    {
     "data": {
      "text/plain": [
       "[2.65, 3.0, 3.5, 4.0, 4.356, 4.75, 5.25, 5.75]"
      ]
     },
     "execution_count": 126,
     "metadata": {},
     "output_type": "execute_result"
    }
   ],
   "source": [
    "stats_opt['hyperparams']"
   ]
  },
  {
   "cell_type": "code",
   "execution_count": 33,
   "metadata": {},
   "outputs": [
    {
     "data": {
      "text/plain": [
       "[2.5, 2.75, 3.25, 3.75, 4.25, 4.5, 5.0, 5.5]"
      ]
     },
     "execution_count": 33,
     "metadata": {},
     "output_type": "execute_result"
    }
   ],
   "source": [
    "stats_opts[it]['hyperparams']"
   ]
  },
  {
   "cell_type": "code",
   "execution_count": 34,
   "metadata": {
    "collapsed": true
   },
   "outputs": [],
   "source": [
    "pars_out = {}\n",
    "pars_out['pair_nodes'] = stats_opts[it]['hyperparams']\n",
    "pars_out['mb_node'] = 6\n",
    "pars_out['params'] = [optimal_parameters[0]]"
   ]
  },
  {
   "cell_type": "code",
   "execution_count": 35,
   "metadata": {
    "collapsed": true
   },
   "outputs": [],
   "source": [
    "optimal_list = []\n",
    "\n",
    "#with open(os.path.join(working, 'pars_out.pickle'), 'rb') as fi:\n",
    "#    optimal_list = pickle.load(fi)\n",
    "\n",
    "#if type(optimal_list) != list:\n",
    "#    optimal_list = [optimal_list]\n",
    "\n",
    "optimal_list.append(pars_out)\n",
    "\n",
    "with open(os.path.join(working, 'pars_out.pickle'), 'wb') as fo:\n",
    "    pickle.dump(optimal_list, fo)"
   ]
  },
  {
   "cell_type": "code",
   "execution_count": 36,
   "metadata": {
    "collapsed": true
   },
   "outputs": [],
   "source": [
    "with open(os.path.join(working, 'pars_out.pickle'), 'rb') as fi:\n",
    "    optimal_list = pickle.load(fi)"
   ]
  },
  {
   "cell_type": "code",
   "execution_count": 37,
   "metadata": {},
   "outputs": [
    {
     "data": {
      "text/plain": [
       "[{'pair_nodes': [2.5, 2.75, 3.25, 3.75, 4.25, 4.5, 5.0, 5.5],\n",
       "  'mb_node': 6,\n",
       "  'params': [(2.59409147888659e-05,\n",
       "    [-0.684229349,\n",
       "     0.000152487644,\n",
       "     -65.6958142,\n",
       "     23.0194161,\n",
       "     -3.48639263,\n",
       "     3.45615281,\n",
       "     -0.88808358,\n",
       "     -1.34315802,\n",
       "     1.24532843,\n",
       "     -0.351200974])]}]"
      ]
     },
     "execution_count": 37,
     "metadata": {},
     "output_type": "execute_result"
    }
   ],
   "source": [
    "optimal_list"
   ]
  },
  {
   "cell_type": "code",
   "execution_count": 38,
   "metadata": {
    "collapsed": true
   },
   "outputs": [],
   "source": [
    "# Total pair potential\n",
    "pos = targ_ready['relax']['xyz'][0]\n",
    "bx = targ_ready['relax']['box'][0]\n",
    "rr, rx = pair_dist_cutoff(pos, bx, 5.5)"
   ]
  },
  {
   "cell_type": "code",
   "execution_count": 39,
   "metadata": {
    "collapsed": true
   },
   "outputs": [],
   "source": [
    "# embedding function\n",
    "F = lambda d, a: a[0]*d**0.5 + a[1]*d + a[2]*d**2\n",
    "\n",
    "V = lambda r, aa, cc: sum([a*(rc - r)**3 for a, rc in zip(aa, cc) if r < rc])\n",
    "\n",
    "# Cohesive potential (cubic splines - same form as V)\n",
    "phi = lambda r, aa, cc: sum([a*(rc - r)**3 for a, rc in zip(aa, cc) if r < rc])\n",
    "\n",
    "rho = lambda r, aa, kk: sum([a*(rk - r)**3 for a, rk in zip(aa, kk) if r < rk and r > 0.01])"
   ]
  },
  {
   "cell_type": "code",
   "execution_count": 40,
   "metadata": {},
   "outputs": [
    {
     "data": {
      "text/plain": [
       "[-0.684229349,\n",
       " 0.000152487644,\n",
       " -65.6958142,\n",
       " 23.0194161,\n",
       " -3.48639263,\n",
       " 3.45615281,\n",
       " -0.88808358,\n",
       " -1.34315802,\n",
       " 1.24532843,\n",
       " -0.351200974]"
      ]
     },
     "execution_count": 40,
     "metadata": {},
     "output_type": "execute_result"
    }
   ],
   "source": [
    "optimal_list[-1]['params'][0][1]"
   ]
  },
  {
   "cell_type": "code",
   "execution_count": 41,
   "metadata": {
    "collapsed": true
   },
   "outputs": [],
   "source": [
    "#optimal_parameters.append(tuple([output[1:], params_uopt]))\n",
    "pair_y = optimal_list[-1]['params'][0][1][2:]\n",
    "par = optimal_list[-1]['params'][0][1][:2]\n",
    "many_y = [par[0], 0.0, par[1]]\n",
    "V_x_r = optimal_list[-1]['pair_nodes'] #stats_opt['hyperparams']\n",
    "rho_x_r = [V_x_r[optimal_list[-1]['mb_node']]] #stats_opt['hyperparams'][4:5]\n",
    "rho_x_a = [1.0]"
   ]
  },
  {
   "cell_type": "code",
   "execution_count": 42,
   "metadata": {},
   "outputs": [
    {
     "data": {
      "text/plain": [
       "([-65.6958142,\n",
       "  23.0194161,\n",
       "  -3.48639263,\n",
       "  3.45615281,\n",
       "  -0.88808358,\n",
       "  -1.34315802,\n",
       "  1.24532843,\n",
       "  -0.351200974],\n",
       " [-0.684229349, 0.0, 0.000152487644],\n",
       " [2.5, 2.75, 3.25, 3.75, 4.25, 4.5, 5.0, 5.5],\n",
       " [5.0])"
      ]
     },
     "execution_count": 42,
     "metadata": {},
     "output_type": "execute_result"
    }
   ],
   "source": [
    "pair_y, many_y, V_x_r, rho_x_r"
   ]
  },
  {
   "cell_type": "code",
   "execution_count": 43,
   "metadata": {
    "collapsed": true
   },
   "outputs": [],
   "source": [
    "ene = []\n",
    "for a in np.linspace(0.5, 2.0, 101):\n",
    "    z = a*rr\n",
    "    u_pair = 0.5*np.sum([V(x, pair_y, V_x_r) for x in z.flatten() if x > 0.1])\n",
    "\n",
    "    u_many = 0.0\n",
    "    for i in range(z.shape[0]):\n",
    "        d = np.sum([phi(x, rho_x_a, rho_x_r) for x in z[i] if x > 0.1])\n",
    "        u_many += F(d, many_y)\n",
    "\n",
    "    ene.append([a, u_pair, u_many, u_pair+u_many])\n",
    "\n",
    "ene = np.array(ene)"
   ]
  },
  {
   "cell_type": "code",
   "execution_count": 44,
   "metadata": {},
   "outputs": [
    {
     "data": {
      "text/plain": [
       "Text(0,0.5,'U')"
      ]
     },
     "execution_count": 44,
     "metadata": {},
     "output_type": "execute_result"
    },
    {
     "data": {
      "image/png": "[encoded data removed]",
      "text/plain": [
       "<Figure size 432x288 with 1 Axes>"
      ]
     },
     "metadata": {},
     "output_type": "display_data"
    }
   ],
   "source": [
    "#plt.plot(ene[:,0], ene[:,1]/54, label='pair')\n",
    "#plt.plot(ene[:,0], ene[:,2]/54, label='manybody')\n",
    "plt.title('Equation of state (T=0K)')\n",
    "plt.plot(ene[:,0]*2.74, [universal_eos(x, 'W') for x in ene[:,0]], label='universal EOS')\n",
    "plt.plot(ene[:,0]*2.74, ene[:,3]/128, label='u-total')\n",
    "plt.hlines(0.0,0.5,6.0,lw=1)\n",
    "plt.legend()\n",
    "plt.xlim(2.0, 5.75)\n",
    "plt.ylim(-10,10)\n",
    "\n",
    "plt.xlabel('x')\n",
    "plt.ylabel(r'U')"
   ]
  },
  {
   "cell_type": "code",
   "execution_count": 39,
   "metadata": {
    "collapsed": true
   },
   "outputs": [],
   "source": [
    "rho_a = [1.0]\n",
    "rho_r = [stats_opt['hyperparams'][-1]]\n",
    "\n",
    "pair_a = pars_in1[2:]\n",
    "pair_r = stats_opt['hyperparams']\n",
    "\n",
    "many_a = [pars_in[0], 0.0, pars_in[1]]"
   ]
  },
  {
   "cell_type": "code",
   "execution_count": 40,
   "metadata": {},
   "outputs": [
    {
     "name": "stdout",
     "output_type": "stream",
     "text": [
      "rhomax: 768.0\n"
     ]
    }
   ],
   "source": [
    "# Ranges of densities and separations\n",
    "\n",
    "nr = 5000\n",
    "rcut = stats_opt['hyperparams'][-1]\n",
    "dr = rcut/nr\n",
    "\n",
    "rhomax = 12.0*phi(1.5, rho_a, rho_r)\n",
    "print('rhomax:', rhomax)\n",
    "#rhomax = 1000.0\n",
    "nrho = 5000\n",
    "drho = rhomax/nrho\n",
    "\n",
    "ri = 1.0\n",
    "ro = 2.0\n",
    "\n",
    "# W properties\n",
    "na = 74\n",
    "ma = 183.84\n",
    "lc = 3.1653\n",
    "alat = 'bcc'\n",
    "\n",
    "# System composition\n",
    "n_el = 1\n",
    "el_name = ['W']"
   ]
  },
  {
   "cell_type": "code",
   "execution_count": 41,
   "metadata": {
    "collapsed": true
   },
   "outputs": [],
   "source": [
    "def u_trans(r, unucl, ueq, ri=1.0, ro=2.0):\n",
    "    \"\"\"Transition between the core and equillibrium potentials\"\"\"\n",
    "    if r < ri:\n",
    "        return unucl\n",
    "    elif r < ro:\n",
    "        x = (ro + ri - 2*r)/(ro - ri)\n",
    "        eta = 3/16*x**5 - 5/8*x**3 + 15/16*x + 1/2\n",
    "        return ueq + eta*(unucl - ueq)\n",
    "    else:\n",
    "        return ueq"
   ]
  },
  {
   "cell_type": "code",
   "execution_count": 42,
   "metadata": {
    "collapsed": true
   },
   "outputs": [],
   "source": [
    "\n",
    "# prepare lists of values\n",
    "dens = np.linspace(0., rhomax-drho, nrho, endpoint=True)\n",
    "r = np.linspace(0., rcut-dr, nr, endpoint=True)\n",
    "r2 = np.linspace(0., rcut, 201)\n",
    "\n",
    "fembd = [F(d, many_a) for d in dens] # W\n",
    "edens = np.array([phi(x, rho_a, rho_r) for x in r])\n",
    "\n",
    "# 1. Cubic spline for r > r_o\n",
    "f_outer = [V(x, pair_a, pair_r) for i, x in enumerate(r)]\n",
    "# 2. Repulsive core for r < r_i (precalculate up to r_o)\n",
    "f_inner = [0.0] + [u_core(x) for x in r[1:]]\n",
    "# 3. Transition region for r_i < r < r_o\n",
    "fpair = [x*u_trans(x, f_inner[i], f_outer[i]) for i, x in enumerate(r)]\n",
    "#fpair = f_outer"
   ]
  },
  {
   "cell_type": "code",
   "execution_count": 708,
   "metadata": {
    "collapsed": true
   },
   "outputs": [],
   "source": [
    "# LAMMPS format\n",
    "pot_path = '../sim/potentials'\n",
    "\n",
    "with open(os.path.join(pot_path, 'W_lvnew.eam.fs'), 'w') as fo:\n",
    "    \n",
    "    # Comment section\n",
    "    fo.write('Comment 1\\n')\n",
    "    fo.write('Comment 2\\n')\n",
    "    fo.write('Comment 3\\n')\n",
    "    \n",
    "    # Number of elements\n",
    "    fo.write(f\"{n_el:5d} \")\n",
    "    for i in range(n_el):\n",
    "        fo.write(f\"{el_name[i]:2}\")\n",
    "    fo.write(\"\\n\")\n",
    "    \n",
    "    # number of grid points, step size, and cutoff\n",
    "    fo.write(f\"{nrho:5d}{drho:24.16e}{nr:5d}{dr:24.16e}{rcut:24.16e}\\n\")\n",
    "    \n",
    "    # atomic number, mass, lattice size, lattice type\n",
    "    fo.write(f\"{na:5d} {ma:14.4f} {lc:14.4f} {alat:10}\\n\")\n",
    "    \n",
    "    # Embeding function\n",
    "    for i in range(nrho//4):\n",
    "        fo.write(\"{0:20.12e}{1:20.12e}{2:20.12e}{3:20.12e}\\n\".format(*fembd[i*4:i*4+4]))\n",
    "    \n",
    "    # Electronic density\n",
    "    for i in range(nr//4):\n",
    "        fo.write(\"{0:20.12e}{1:20.12e}{2:20.12e}{3:20.12e}\\n\".format(*edens[i*4:i*4+4]))\n",
    "        \n",
    "    # Pair potential\n",
    "    for i in range(nr//4):\n",
    "        fo.write(\"{0:20.12e}{1:20.12e}{2:20.12e}{3:20.12e}\\n\".format(*fpair[i*4:i*4+4]))"
   ]
  },
  {
   "cell_type": "code",
   "execution_count": null,
   "metadata": {
    "collapsed": true
   },
   "outputs": [],
   "source": []
  }
 ],
 "metadata": {
  "kernelspec": {
   "display_name": "Python 3",
   "language": "python",
   "name": "python3"
  },
  "language_info": {
   "codemirror_mode": {
    "name": "ipython",
    "version": 3
   },
   "file_extension": ".py",
   "mimetype": "text/x-python",
   "name": "python",
   "nbconvert_exporter": "python",
   "pygments_lexer": "ipython3",
   "version": "3.6.1"
  }
 },
 "nbformat": 4,
 "nbformat_minor": 2
}
