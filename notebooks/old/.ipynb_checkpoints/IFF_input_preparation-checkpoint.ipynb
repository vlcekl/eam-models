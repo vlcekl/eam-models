{
 "cells": [
  {
   "cell_type": "markdown",
   "metadata": {},
   "source": [
    "# Interatomic force field (IFF) optimization for W-based metal alloys\n",
    "\n",
    "## Input data preparation\n",
    "\n",
    "Author: Lukas Vlcek\n",
    "\n",
    "Start Date: 2018-04-22"
   ]
  },
  {
   "cell_type": "code",
   "execution_count": 3,
   "metadata": {},
   "outputs": [
    {
     "name": "stdout",
     "output_type": "stream",
     "text": [
      "Last update: 2018-07-26 14:34:30.794918\n"
     ]
    }
   ],
   "source": [
    "from datetime import datetime ; print('Last update:', datetime.now())"
   ]
  },
  {
   "cell_type": "markdown",
   "metadata": {},
   "source": [
    "## 1. Target data overview"
   ]
  },
  {
   "cell_type": "markdown",
   "metadata": {},
   "source": [
    "### Bulk properties of tungsten\n",
    "from _Marinica et.al_ except for B (bulk modulus) and Pc (Cauchy pressure)\n",
    "\n",
    "T=0K?\n",
    "\n",
    "| Property | BCC | FCC |\n",
    "| :---     | :---: | :---: |\n",
    "| a_0 (A) | 3.1648 | 4.054 |\n",
    "| E_coh (eV/atom) | -8.9 | -8.43 |\n",
    "| C11 (GPa) | 523 | - |\n",
    "| C12 (GPa) | 203 | - |\n",
    "| C44 (GPa) | 160 | - |\n",
    "| B (GPa) | 310.4 | - |\n",
    "| Pc (GPa) | 21.9 | - |"
   ]
  },
  {
   "cell_type": "markdown",
   "metadata": {},
   "source": [
    "### Defect properties\n",
    "(from _Marinica et.al_)\n",
    "\n",
    "Based on 128+-1 atoms\n",
    "\n",
    "Defect | Energy (eV)\n",
    ":--- | :---:\n",
    "(111) | 10.53\n",
    "(110) | 10.82\n",
    "(100) | 12.87\n",
    "OCT | 13.11\n",
    "TET | 12.27\n",
    "Vacancy | 3.49"
   ]
  },
  {
   "cell_type": "markdown",
   "metadata": {},
   "source": [
    "### Atomic configurations and DFT data\n",
    "\n",
    "1. Data from Marinica\n",
    "  * 20 configurations generated from liquid Fe trajectory, N=113\n",
    "  * DFT Forces\n",
    "  * DFT Energy\n",
    "2. Data from German (local minimum energy configs.)\n",
    "  * Energy, Hessians?\n",
    "  * Pure phases\n",
    "    * BCC (54 atoms)\n",
    "    * FCC (32 atoms)\n",
    "  * Vacancy\n",
    "    * vacancy (53 atoms)\n",
    "  * Interstitial defects \n",
    "    * 110, 111 (55 atoms)\n",
    "  * Screw dislocation\n",
    "    * 111_easy_core (135 atoms)?"
   ]
  },
  {
   "cell_type": "markdown",
   "metadata": {},
   "source": [
    "## 2. Processing of raw data into HDF5 storage"
   ]
  },
  {
   "cell_type": "code",
   "execution_count": 1,
   "metadata": {
    "collapsed": true
   },
   "outputs": [],
   "source": [
    "%matplotlib inline\n",
    "import os\n",
    "import glob\n",
    "import re\n",
    "import numpy as np\n",
    "import h5py\n",
    "import matplotlib.pyplot as plt\n",
    "\n",
    "# source of raw data and destination for processed data\n",
    "target_proc = '../data/target_processed'"
   ]
  },
  {
   "cell_type": "markdown",
   "metadata": {},
   "source": [
    "### Data from Marinica"
   ]
  },
  {
   "cell_type": "code",
   "execution_count": 3,
   "metadata": {},
   "outputs": [
    {
     "name": "stdout",
     "output_type": "stream",
     "text": [
      "box\n",
      "coordinates\n",
      "energies\n",
      "forces\n",
      "k,v: temperature (K)  :  4000.0\n",
      "coordinates (17, 113, 3) 1.70206\n",
      "forces (17, 113, 3) -8.55918\n"
     ]
    },
    {
     "data": {
      "image/png": "[encoded data removed]",
      "text/plain": [
       "<matplotlib.figure.Figure at 0x10aef2400>"
      ]
     },
     "metadata": {},
     "output_type": "display_data"
    }
   ],
   "source": [
    "with h5py.File(os.path.join(target_proc, \"marini_dft.h5\"), \"r\") as fi:\n",
    "    fi.visit(lambda x: print(x))\n",
    "    [print('k,v:', k, ' : ', v) for k, v in fi.attrs.items()]\n",
    "    for name in fi:\n",
    "        if name != 'energies' and name != 'box':\n",
    "            print(name, fi[name].shape, fi[name][0,0,0])\n",
    "    plt.plot(fi['energies'])\n",
    "    plt.title('Energies of individual configurations')"
   ]
  },
  {
   "cell_type": "markdown",
   "metadata": {},
   "source": [
    "### Data from German - zero T"
   ]
  },
  {
   "cell_type": "code",
   "execution_count": 4,
   "metadata": {},
   "outputs": [
    {
     "name": "stdout",
     "output_type": "stream",
     "text": [
      "110\n",
      "110/E_conf\n",
      "110/box\n",
      "110/coordinates\n",
      "111\n",
      "111/E_conf\n",
      "111/box\n",
      "111/coordinates\n",
      "111_easy_core\n",
      "111_easy_core/E_conf\n",
      "111_easy_core/box\n",
      "111_easy_core/coordinates\n",
      "bcc\n",
      "bcc/E_conf\n",
      "bcc/box\n",
      "bcc/coordinates\n",
      "fcc\n",
      "fcc/E_conf\n",
      "fcc/box\n",
      "fcc/coordinates\n",
      "vacancy\n",
      "vacancy/E_conf\n",
      "vacancy/box\n",
      "vacancy/coordinates\n"
     ]
    }
   ],
   "source": [
    "# Check if the new file is OK\n",
    "with h5py.File(os.path.join(target_proc, \"german_dft.h5\"), \"r\") as fi:\n",
    "    fi.visit(lambda x: print(x))"
   ]
  },
  {
   "cell_type": "markdown",
   "metadata": {},
   "source": [
    "### Data from German - MD\n",
    "\n",
    "Berendsent thermostat\n",
    "\n",
    "* 300 K"
   ]
  },
  {
   "cell_type": "code",
   "execution_count": 5,
   "metadata": {},
   "outputs": [
    {
     "name": "stdout",
     "output_type": "stream",
     "text": [
      "E_kin\n",
      "E_tot\n",
      "box\n",
      "coordinates\n",
      "forces\n"
     ]
    },
    {
     "data": {
      "image/png": "[encoded data removed]",
      "text/plain": [
       "<matplotlib.figure.Figure at 0x108cf6c18>"
      ]
     },
     "metadata": {},
     "output_type": "display_data"
    }
   ],
   "source": [
    "# directories with specific temperature data\n",
    "temperatures = [300.0] # K\n",
    "cdirs = [ 't'+str(int(t))+'K' for t in temperatures]\n",
    "\n",
    "for cdir in cdirs:\n",
    "# Check if the new file is OK\n",
    "    with h5py.File(os.path.join(target_proc, \"md_\" + cdir + \".h5\"), \"r\") as fi:\n",
    "        fi.visit(lambda x: print(x))\n",
    "    #[print('k,v:', k, ' : ', v) for k, v in fi.attrs.items()]\n",
    "        #fi['E_tot'].read_direct(et)\n",
    "        #fi['E_kin'].read_direct(ek)\n",
    "        et = fi['E_tot'][...]\n",
    "        ek = fi['E_kin'][...]\n",
    "        plt.plot((et - ek) - np.mean(et - ek))\n",
    "        plt.xlabel('timesteps')\n",
    "        plt.ylabel('configurational energy [kJ/mol]')\n",
    "    #plt.title('Energies of individual configurations')"
   ]
  },
  {
   "cell_type": "code",
   "execution_count": 8,
   "metadata": {},
   "outputs": [
    {
     "name": "stdout",
     "output_type": "stream",
     "text": [
      "(1201, 54, 3)\n",
      "Average displacement: 0.0813051914325\n",
      "Force constant: 377.328297825 kJ/mol/A^2\n",
      "Stress tensor C_11: 314.70013393 GPa\n",
      "Average atomic displacement relative to the lattice constant: 2.56904674648 %\n",
      "Maximum displacement: 0.173918\n",
      "Maximum atomic displacement relative to the lattice constant: 5.49537949904 %\n"
     ]
    },
    {
     "data": {
      "image/png": "[encoded data removed]",
      "text/plain": [
       "<matplotlib.figure.Figure at 0x10b6c9e80>"
      ]
     },
     "metadata": {},
     "output_type": "display_data"
    }
   ],
   "source": [
    "# Estimate the force constant and stress tensor component C_11 from the atomic distributions around COMs\n",
    "\n",
    "cdir = 't300K'\n",
    "with h5py.File(os.path.join(target_proc, \"md_\" + cdir + \".h5\"), \"r\") as fi:\n",
    "    rr = fi['coordinates'][...]\n",
    "    print(rr.shape)\n",
    "    r_var = (np.sum(np.var(rr[200:,:,:], axis=0), axis=1))\n",
    "    r_var_mean = np.mean(r_var)\n",
    "    print('Average displacement:', r_var_mean**0.5)#, r_var)\n",
    "    plt.plot(np.arange(r_var.shape[0]), r_var)\n",
    "    plt.hlines(r_var_mean, 0, r_var.shape[0])\n",
    "    #plt.hist(r_var, bins=20)\n",
    "\n",
    "    plt.xlabel('atoms')\n",
    "    plt.ylabel('$r^2$')\n",
    "\n",
    "    # Estimated harmonic force constant\n",
    "    k = (8.314472*300/1000)/(r_var_mean)\n",
    "    print(\"Force constant:\", k, 'kJ/mol/A^2')\n",
    "\n",
    "    # W atoms per 1m^2\n",
    "    density = 19300 # kg/m^3\n",
    "    M_W = 183.84 #g/mol atomic weight  \n",
    "    N_A = (19300*1000/183.84*6.022e23)**(2/3) # number of atoms per 1m^2\n",
    "    \n",
    "    # Stress tensor component C_11\n",
    "    a_w = 3.1648 # lattice constant\n",
    "    k_atom = k*1000/6.022e23/1e-10*3.1648/1e9\n",
    "    C = k_atom * N_A\n",
    "    \n",
    "    print(\"Stress tensor C_11:\", C, 'GPa')\n",
    "    \n",
    "    print(\"Average atomic displacement relative to the lattice constant:\", r_var_mean**0.5/a_w*100, \"%\")\n",
    "    \n",
    "    # Maximum displacement\n",
    "    r_max = np.max(rr[200:,:,:] - np.mean(rr[200:,:,:], axis=0))\n",
    "    print('Maximum displacement:', r_max)\n",
    "    print(\"Maximum atomic displacement relative to the lattice constant:\", r_max/a_w*100, \"%\")\n"
   ]
  },
  {
   "cell_type": "markdown",
   "metadata": {},
   "source": [
    "## 3. IFF functional form\n",
    "\n",
    "### 3.1 Finnis-Sinclair potential\n",
    "\n",
    "Energy of an N-particle configuration\n",
    "\n",
    "$$ E = \\sum_{i=1}^N \\left[ \\sum_{j>i}^N V\\left(r_{ij}\\right) + F\\left(\\rho_i\\right) \\right] $$\n",
    "\n",
    "Pair interaction\n",
    "\n",
    "$$ V\\left(r_{ij}\\right) = \\left(r_{ij}-c\\right)^2\\left(c_0 + c_1r_{ij} + c_2r_{ij}^2\\right),\\,\\, r_{ij}\\le c $$\n",
    "\n",
    "\n",
    "Embedded function\n",
    "\n",
    "$$ F = -A\\sqrt{\\rho_i} $$\n",
    "\n",
    "Effective electron density\n",
    "\n",
    "$$ \\rho_i = \\sum_{j\\ne i}^N \\phi\\left(r_{ij}\\right) $$\n",
    "\n",
    "Cohesive potential\n",
    "\n",
    "$$ \\phi\\left(r_{ij}\\right) = \\left(r_{ij}-d\\right)^2,\\,\\, r_{ij}\\le d $$\n",
    "\n",
    "** Starting W parameters: ** (Finnis and Sinclair, _Phil. Mag. A_, **50(1)**, 45-66, 1984)\n",
    "* Fixed\n",
    "  * c = 3.25\n",
    "  * d = 4.400224\n",
    "* To be optimized\n",
    "  * A = 1.896373\n",
    "  * c0 = 47.1346499\n",
    "  * c1 = -33.7665655\n",
    "  * c2 = 6.2541999"
   ]
  },
  {
   "cell_type": "markdown",
   "metadata": {},
   "source": [
    "## 4. Loss function\n",
    "\n",
    "**Squared statistical distance**\n",
    "\n",
    "  $$ s^2 = \\arccos^2\\left(C_B\\right) $$\n",
    "\n",
    "\n",
    "1. Ab initio data\n",
    "  * Energies\n",
    "    $$ C_B = \\sum_{k=1}^{kmax} \\exp\\left[ -\\beta\\left(\\Delta u_k - \\Delta F\\right)/2\\right] $$\n",
    "  * Forces\n",
    "  * Hessians\n",
    "\n",
    "2. Structural fluctuations\n",
    "  * Fit Gaussian distributions described by bulk parameters\n",
    "    * Mean values (A): lattice parameters (at a particular T\n",
    "    * Variance (V): depends on elastic constants\n",
    "    \n",
    "  $$ \\ln\\left(C_B\\right) = \\frac{1}{4k_BT^2}\\frac{\\left(A_M - A_T\\right)^2}{4\\left(V_M - V_T\\right)} - \\frac{1}{4}\\ln\\frac{4 V_MV_T}{\\left(V_M+V_T\\right)^2} $$ \n",
    "  \n",
    "  * How exactly are the different elastic constants defined?\n",
    "  * Translate C11, C12, C44 to variances"
   ]
  },
  {
   "cell_type": "markdown",
   "metadata": {},
   "source": [
    "## 5. Optimization\n",
    "\n",
    "* A set of Fortran codes for parameter search on grid at:'https://github.com/vlcekl/sopt/tree/master/src/optimize/search_grid'\n",
    "* A Python script for simplex search at https://github.com/vlcekl/sopt/tree/master/src/optimize/search_simplex"
   ]
  },
  {
   "cell_type": "markdown",
   "metadata": {},
   "source": [
    "### Optimize F-S potential from simulations with Ackland potential (constant N, T, and stress)"
   ]
  },
  {
   "cell_type": "markdown",
   "metadata": {},
   "source": [
    "** Original W parameters: ** (Finnis and Sinclair, _Phil. Mag. A_, **50(1)**, 45-66, 1984)\n",
    "* Fixed\n",
    "  * c = 3.25\n",
    "  * d = 4.400224\n",
    "* Reference values\n",
    "  * A = 1.896373\n",
    "  * c0 = 47.1346499\n",
    "  * c1 = -33.7665655\n",
    "  * c2 = 6.2541999\n",
    "\n",
    "---\n",
    "* Optimized from trajectories with Ackland potential (Ackland and Thetford, 1987) \n",
    "\n",
    "**300K BCC**\n",
    "\n",
    "  * A = 2.32  \n",
    "  * c0 = 58.5  ( 58.0 to 60.0)\n",
    "  * c1 = -28.0 (-28 to -30.5)\n",
    "  * c2 = 6.075   (5.95  to 6.8)\n",
    "  \n",
    "**2000K BCC**\n",
    "\n",
    "  * A = 2.32  \n",
    "  * c0 = 59.5  ( 47.0 to 60.0)\n",
    "  * c1 = -28.0 \n",
    "  * c2 = 6.75  (  6.4 to 6.775)\n",
    "  \n",
    "**300K FCC**\n",
    "\n",
    "  * A = 2.325  \n",
    "  * c0 = 69.5  ( 66.5 to 69.5)\n",
    "  * c1 = -30.0 (-29.0 to -31.0)\n",
    "  * c2 = 5.725  (  5.65 to 6.35)"
   ]
  },
  {
   "cell_type": "markdown",
   "metadata": {},
   "source": [
    "**Notes**\n",
    "\n",
    "Need to constrain average potential energy to the target value; sampling around the equilibrium position does not provide sufficient constraints for the potential outside that region.\n",
    "\n",
    "\n",
    "Elastic constants from fluctuations of the strain tensor in NPT (1 ns) - too much noise.\n",
    "\n",
    "* $C_{11}$ = 2260 GPa  (523)\n",
    "* $C_{12}$ =  681 GPa  (203)\n",
    "\n",
    "Longer simulations and finite stress may be needed for accurate calculations (Shinoda et al, 2004).\n"
   ]
  },
  {
   "cell_type": "markdown",
   "metadata": {
    "collapsed": true
   },
   "source": [
    "### Explore spline potentials"
   ]
  },
  {
   "cell_type": "markdown",
   "metadata": {},
   "source": [
    "### Tungsten parameters from Marinica et al. (corrected)"
   ]
  },
  {
   "cell_type": "code",
   "execution_count": 9,
   "metadata": {
    "collapsed": true
   },
   "outputs": [],
   "source": [
    "\n",
    "aw_phi = [-0.420429e-1, 0.518217702, 0.5627208e-1, 0.344164179e-1]\n",
    "rw_phi = [2.5, 3.1, 3.5, 4.9]\n",
    "\n",
    "aw_old = [-0.420429e1, 0.518217702, 0.5627208e-1, 0.344164179e-1]\n",
    "\n",
    "\n",
    "ar_phi = [3.704045964e-3]\n",
    "rr_phi = [5.46]\n",
    "\n",
    "at_phi = [0.704045964e-3]\n"
   ]
  },
  {
   "cell_type": "code",
   "execution_count": 10,
   "metadata": {
    "collapsed": true
   },
   "outputs": [],
   "source": [
    "rho = lambda r, a, k: sum([a[i]*(k[i] - r)**3 for i in range(len(a)) if r < k[i]]) \n",
    "rho4 = lambda r, a, k: sum([a[i]*(k[i] - r)**5 for i in range(len(a)) if r < k[i]]) "
   ]
  },
  {
   "cell_type": "code",
   "execution_count": 11,
   "metadata": {},
   "outputs": [
    {
     "data": {
      "text/plain": [
       "(0, 0.3)"
      ]
     },
     "execution_count": 11,
     "metadata": {},
     "output_type": "execute_result"
    },
    {
     "data": {
      "image/png": "[encoded data removed]",
      "text/plain": [
       "<Figure size 432x288 with 1 Axes>"
      ]
     },
     "metadata": {},
     "output_type": "display_data"
    }
   ],
   "source": [
    "r = np.linspace(0., 4.9, 101)\n",
    "plt.plot(r, [rho(x, aw_phi, rw_phi)*0.22323 for x in r], label='new')\n",
    "plt.plot(r, [rho(x, aw_old, rw_phi)*0.22323 for x in r], label='old')\n",
    "plt.plot(r, [rho(x, ar_phi, rr_phi) for x in r], label='Re')\n",
    "plt.plot(r, [rho4(x, at_phi, rr_phi) for x in r], label='test pow-4')\n",
    "plt.legend()\n",
    "plt.xlim(2)\n",
    "plt.ylim(0,0.3)"
   ]
  },
  {
   "cell_type": "code",
   "execution_count": 4,
   "metadata": {
    "collapsed": true
   },
   "outputs": [],
   "source": [
    "ar_v = [6.726805309, 3.217593889, -6.545857587e-1, 1.453229484e-1, -2.063629464e-1, 6.114909116e-2]\n",
    "rr_v = [2.7, 3.252, 3.804, 4.356, 4.908, 5.46]"
   ]
  },
  {
   "cell_type": "code",
   "execution_count": 5,
   "metadata": {},
   "outputs": [
    {
     "ename": "NameError",
     "evalue": "name 'rho' is not defined",
     "output_type": "error",
     "traceback": [
      "\u001b[0;31m---------------------------------------------------------------------------\u001b[0m",
      "\u001b[0;31mNameError\u001b[0m                                 Traceback (most recent call last)",
      "\u001b[0;32m<ipython-input-5-ac69cdb13bd5>\u001b[0m in \u001b[0;36m<module>\u001b[0;34m()\u001b[0m\n\u001b[1;32m      1\u001b[0m \u001b[0mr\u001b[0m \u001b[0;34m=\u001b[0m \u001b[0mnp\u001b[0m\u001b[0;34m.\u001b[0m\u001b[0mlinspace\u001b[0m\u001b[0;34m(\u001b[0m\u001b[0;36m0.\u001b[0m\u001b[0;34m,\u001b[0m \u001b[0;36m5.46\u001b[0m\u001b[0;34m,\u001b[0m \u001b[0;36m101\u001b[0m\u001b[0;34m)\u001b[0m\u001b[0;34m\u001b[0m\u001b[0m\n\u001b[0;32m----> 2\u001b[0;31m \u001b[0mplt\u001b[0m\u001b[0;34m.\u001b[0m\u001b[0mplot\u001b[0m\u001b[0;34m(\u001b[0m\u001b[0mr\u001b[0m\u001b[0;34m,\u001b[0m \u001b[0;34m[\u001b[0m\u001b[0mrho\u001b[0m\u001b[0;34m(\u001b[0m\u001b[0mx\u001b[0m\u001b[0;34m,\u001b[0m \u001b[0mar_v\u001b[0m\u001b[0;34m,\u001b[0m \u001b[0mrr_v\u001b[0m\u001b[0;34m)\u001b[0m \u001b[0;32mfor\u001b[0m \u001b[0mx\u001b[0m \u001b[0;32min\u001b[0m \u001b[0mr\u001b[0m\u001b[0;34m]\u001b[0m\u001b[0;34m)\u001b[0m\u001b[0;34m\u001b[0m\u001b[0m\n\u001b[0m\u001b[1;32m      3\u001b[0m \u001b[0mplt\u001b[0m\u001b[0;34m.\u001b[0m\u001b[0mhlines\u001b[0m\u001b[0;34m(\u001b[0m\u001b[0;36m0.\u001b[0m\u001b[0;34m,\u001b[0m \u001b[0;36m2\u001b[0m\u001b[0;34m,\u001b[0m \u001b[0;36m5.46\u001b[0m\u001b[0;34m)\u001b[0m\u001b[0;34m\u001b[0m\u001b[0m\n\u001b[1;32m      4\u001b[0m \u001b[0mplt\u001b[0m\u001b[0;34m.\u001b[0m\u001b[0mxlim\u001b[0m\u001b[0;34m(\u001b[0m\u001b[0;36m2\u001b[0m\u001b[0;34m,\u001b[0m\u001b[0;36m5.46\u001b[0m\u001b[0;34m)\u001b[0m\u001b[0;34m\u001b[0m\u001b[0m\n\u001b[1;32m      5\u001b[0m \u001b[0mplt\u001b[0m\u001b[0;34m.\u001b[0m\u001b[0mylim\u001b[0m\u001b[0;34m(\u001b[0m\u001b[0;34m(\u001b[0m\u001b[0;34m-\u001b[0m\u001b[0;36m0.7\u001b[0m\u001b[0;34m,\u001b[0m\u001b[0;36m0.7\u001b[0m\u001b[0;34m)\u001b[0m\u001b[0;34m)\u001b[0m\u001b[0;34m\u001b[0m\u001b[0m\n",
      "\u001b[0;32m<ipython-input-5-ac69cdb13bd5>\u001b[0m in \u001b[0;36m<listcomp>\u001b[0;34m(.0)\u001b[0m\n\u001b[1;32m      1\u001b[0m \u001b[0mr\u001b[0m \u001b[0;34m=\u001b[0m \u001b[0mnp\u001b[0m\u001b[0;34m.\u001b[0m\u001b[0mlinspace\u001b[0m\u001b[0;34m(\u001b[0m\u001b[0;36m0.\u001b[0m\u001b[0;34m,\u001b[0m \u001b[0;36m5.46\u001b[0m\u001b[0;34m,\u001b[0m \u001b[0;36m101\u001b[0m\u001b[0;34m)\u001b[0m\u001b[0;34m\u001b[0m\u001b[0m\n\u001b[0;32m----> 2\u001b[0;31m \u001b[0mplt\u001b[0m\u001b[0;34m.\u001b[0m\u001b[0mplot\u001b[0m\u001b[0;34m(\u001b[0m\u001b[0mr\u001b[0m\u001b[0;34m,\u001b[0m \u001b[0;34m[\u001b[0m\u001b[0mrho\u001b[0m\u001b[0;34m(\u001b[0m\u001b[0mx\u001b[0m\u001b[0;34m,\u001b[0m \u001b[0mar_v\u001b[0m\u001b[0;34m,\u001b[0m \u001b[0mrr_v\u001b[0m\u001b[0;34m)\u001b[0m \u001b[0;32mfor\u001b[0m \u001b[0mx\u001b[0m \u001b[0;32min\u001b[0m \u001b[0mr\u001b[0m\u001b[0;34m]\u001b[0m\u001b[0;34m)\u001b[0m\u001b[0;34m\u001b[0m\u001b[0m\n\u001b[0m\u001b[1;32m      3\u001b[0m \u001b[0mplt\u001b[0m\u001b[0;34m.\u001b[0m\u001b[0mhlines\u001b[0m\u001b[0;34m(\u001b[0m\u001b[0;36m0.\u001b[0m\u001b[0;34m,\u001b[0m \u001b[0;36m2\u001b[0m\u001b[0;34m,\u001b[0m \u001b[0;36m5.46\u001b[0m\u001b[0;34m)\u001b[0m\u001b[0;34m\u001b[0m\u001b[0m\n\u001b[1;32m      4\u001b[0m \u001b[0mplt\u001b[0m\u001b[0;34m.\u001b[0m\u001b[0mxlim\u001b[0m\u001b[0;34m(\u001b[0m\u001b[0;36m2\u001b[0m\u001b[0;34m,\u001b[0m\u001b[0;36m5.46\u001b[0m\u001b[0;34m)\u001b[0m\u001b[0;34m\u001b[0m\u001b[0m\n\u001b[1;32m      5\u001b[0m \u001b[0mplt\u001b[0m\u001b[0;34m.\u001b[0m\u001b[0mylim\u001b[0m\u001b[0;34m(\u001b[0m\u001b[0;34m(\u001b[0m\u001b[0;34m-\u001b[0m\u001b[0;36m0.7\u001b[0m\u001b[0;34m,\u001b[0m\u001b[0;36m0.7\u001b[0m\u001b[0;34m)\u001b[0m\u001b[0;34m)\u001b[0m\u001b[0;34m\u001b[0m\u001b[0m\n",
      "\u001b[0;31mNameError\u001b[0m: name 'rho' is not defined"
     ]
    }
   ],
   "source": [
    "r = np.linspace(0., 5.46, 101)\n",
    "plt.plot(r, [rho(x, ar_v, rr_v) for x in r])\n",
    "plt.hlines(0., 2, 5.46)\n",
    "plt.xlim(2,5.46)\n",
    "plt.ylim((-0.7,0.7))"
   ]
  },
  {
   "cell_type": "code",
   "execution_count": 2,
   "metadata": {
    "collapsed": true
   },
   "outputs": [],
   "source": [
    "A = [-5.946454, -0.049477]\n",
    "F = lambda d, a: a[0]*d**0.5 + a[1]*d**2 #+ 1.848055990*d"
   ]
  },
  {
   "cell_type": "code",
   "execution_count": 3,
   "metadata": {},
   "outputs": [
    {
     "data": {
      "text/plain": [
       "[<matplotlib.lines.Line2D at 0x11b4f62b0>]"
      ]
     },
     "execution_count": 3,
     "metadata": {},
     "output_type": "execute_result"
    },
    {
     "data": {
      "image/png": "[encoded data removed]",
      "text/plain": [
       "<Figure size 432x288 with 1 Axes>"
      ]
     },
     "metadata": {},
     "output_type": "display_data"
    }
   ],
   "source": [
    "d = np.linspace(0., 8., 101)\n",
    "plt.plot(d, [F(x/0.223232, A) for x in d])\n",
    "#plt.xlim(0,2.6)\n",
    "#plt.ylim(-6,-4)"
   ]
  },
  {
   "cell_type": "code",
   "execution_count": 10,
   "metadata": {
    "collapsed": true
   },
   "outputs": [],
   "source": [
    "from scipy.optimize import fmin"
   ]
  },
  {
   "cell_type": "code",
   "execution_count": null,
   "metadata": {
    "collapsed": true
   },
   "outputs": [],
   "source": []
  }
 ],
 "metadata": {
  "kernelspec": {
   "display_name": "Python 3",
   "language": "python",
   "name": "python3"
  },
  "language_info": {
   "codemirror_mode": {
    "name": "ipython",
    "version": 3
   },
   "file_extension": ".py",
   "mimetype": "text/x-python",
   "name": "python",
   "nbconvert_exporter": "python",
   "pygments_lexer": "ipython3",
   "version": "3.6.1"
  }
 },
 "nbformat": 4,
 "nbformat_minor": 2
}
