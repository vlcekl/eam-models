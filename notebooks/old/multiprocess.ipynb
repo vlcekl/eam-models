{
 "cells": [
  {
   "cell_type": "code",
   "execution_count": 2,
   "metadata": {
    "collapsed": true
   },
   "outputs": [],
   "source": [
    "%load_ext autoreload\n",
    "%autoreload 2"
   ]
  },
  {
   "cell_type": "code",
   "execution_count": 3,
   "metadata": {
    "collapsed": true
   },
   "outputs": [],
   "source": [
    "import sys\n",
    "import collections\n",
    "import multiprocessing"
   ]
  },
  {
   "cell_type": "code",
   "execution_count": 4,
   "metadata": {
    "collapsed": true
   },
   "outputs": [],
   "source": [
    "Scientist = collections.namedtuple('Scientist', [\n",
    "    'name',\n",
    "    'born',\n",
    "])"
   ]
  },
  {
   "cell_type": "code",
   "execution_count": 5,
   "metadata": {
    "collapsed": true
   },
   "outputs": [],
   "source": [
    "scientists = (\n",
    "    Scientist(name='Ada Lovelace', born=1815),\n",
    "    Scientist(name='Emmy Noether', born=1882),\n",
    "    Scientist(name='Marie Curie', born=1867),\n",
    "    Scientist(name='Tu Youyou', born=1930),\n",
    "    Scientist(name='Ada Yonath', born=1939),\n",
    "    Scientist(name='Vera Rubin', born=1928),\n",
    "    Scientist(name='Sally Ride', born=1951),\n",
    ")"
   ]
  },
  {
   "cell_type": "code",
   "execution_count": 6,
   "metadata": {
    "collapsed": true
   },
   "outputs": [],
   "source": [
    "def process_item(item):\n",
    "    return {\n",
    "        'name': item.name,\n",
    "        'age': 2017 - item.born\n",
    "    }"
   ]
  },
  {
   "cell_type": "code",
   "execution_count": 20,
   "metadata": {
    "collapsed": true
   },
   "outputs": [],
   "source": [
    "pool = multiprocessing.Pool()\n",
    "result = pool.map_async(process_item, scientists)"
   ]
  },
  {
   "cell_type": "code",
   "execution_count": 21,
   "metadata": {},
   "outputs": [
    {
     "data": {
      "text/plain": [
       "[{'name': 'Ada Lovelace', 'age': 202},\n",
       " {'name': 'Emmy Noether', 'age': 135},\n",
       " {'name': 'Marie Curie', 'age': 150},\n",
       " {'name': 'Tu Youyou', 'age': 87},\n",
       " {'name': 'Ada Yonath', 'age': 78},\n",
       " {'name': 'Vera Rubin', 'age': 89},\n",
       " {'name': 'Sally Ride', 'age': 66}]"
      ]
     },
     "execution_count": 21,
     "metadata": {},
     "output_type": "execute_result"
    }
   ],
   "source": [
    "result.get()"
   ]
  },
  {
   "cell_type": "code",
   "execution_count": 22,
   "metadata": {
    "collapsed": true
   },
   "outputs": [],
   "source": [
    "# USE partial derived from fmin -> fopt(pars_in)\n",
    "\n",
    "# alternatively define a new wrapper to accomplish this\n",
    "def partial(func, *part_args):\n",
    "    def wrapper(*extra_args):\n",
    "        args = list(part_args)\n",
    "        args.extend(extra_args)\n",
    "        return func(*args)\n",
    "\n",
    "    return wrapper"
   ]
  },
  {
   "cell_type": "code",
   "execution_count": 28,
   "metadata": {},
   "outputs": [],
   "source": [
    "import functools \n",
    "\n",
    "def subt(x, y): \n",
    "    return x - y \n",
    "\n",
    "# it adds! \n",
    "assert subt(1, 1) == 0\n",
    "assert subt(5, 5) == 0\n",
    "assert subt(6, 2) == 4\n",
    "\n",
    "# pre fill y with the value 5  \n",
    "subt_five = functools.partial(subt, y=5)\n",
    "\n",
    "#now it adds 5!\n",
    "# x=1, y=5 \n",
    "assert subt_five(1) == -4\n",
    "# x=5, y=5\n",
    "assert subt_five(5) == 0\n",
    "# x=2, y=5\n",
    "assert subt_five(2) == -3"
   ]
  },
  {
   "cell_type": "code",
   "execution_count": null,
   "metadata": {
    "collapsed": true
   },
   "outputs": [],
   "source": []
  }
 ],
 "metadata": {
  "kernelspec": {
   "display_name": "Python 3",
   "language": "python",
   "name": "python3"
  },
  "language_info": {
   "codemirror_mode": {
    "name": "ipython",
    "version": 3
   },
   "file_extension": ".py",
   "mimetype": "text/x-python",
   "name": "python",
   "nbconvert_exporter": "python",
   "pygments_lexer": "ipython3",
   "version": "3.6.1"
  }
 },
 "nbformat": 4,
 "nbformat_minor": 2
}
