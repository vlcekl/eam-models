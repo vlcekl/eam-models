{
 "cells": [
  {
   "cell_type": "code",
   "execution_count": 1,
   "metadata": {
    "collapsed": true
   },
   "outputs": [],
   "source": [
    "import os\n",
    "import sys\n",
    "import re\n",
    "import numpy as np\n",
    "%matplotlib inline\n",
    "import matplotlib.pyplot as plt\n",
    "import copy\n",
    "import pickle"
   ]
  },
  {
   "cell_type": "code",
   "execution_count": 2,
   "metadata": {
    "collapsed": true
   },
   "outputs": [],
   "source": [
    "%load_ext autoreload\n",
    "%autoreload 2"
   ]
  },
  {
   "cell_type": "code",
   "execution_count": 3,
   "metadata": {
    "collapsed": true
   },
   "outputs": [],
   "source": [
    "sys.path.append('../../statmechlib')\n",
    "from statmechlib.read_write import read_vasp\n",
    "from statmechlib.preprocessing import Trajectory, select_nodes, scale_configuration\n",
    "from statmechlib.preprocessing import pair_dist, force_targ, get_stats_EAM, get_stats_EAM_pairdist"
   ]
  },
  {
   "cell_type": "code",
   "execution_count": 4,
   "metadata": {
    "collapsed": true
   },
   "outputs": [],
   "source": [
    "target_raw = '../data/target_raw'\n",
    "target_proc = '../data/target_processed'\n",
    "working = '../data/working'\n",
    "\n",
    "datasets = ['bcc_npt_langevin_300K',\n",
    "            'fcc_npt_langevin_300K',\n",
    "            'vac_npt_langevin_2000K',\n",
    "            'i110_npt_langevin_2000K',\n",
    "            'i111_npt_langevin_2000K',\n",
    "            'screw_111_npt_langevin_2000K',\n",
    "            'bcc_npt_langevin_3700K',\n",
    "            'liq_3700K',\n",
    "            'liq_5000K']\n",
    "\n",
    "datasets_0k = ['bcc_0k',\n",
    "               'fcc_0k',\n",
    "               'vac_0k',\n",
    "               'i110_0k',\n",
    "               'i111_0k',\n",
    "               'screw_111_0k']\n",
    "\n",
    "scales = ['v0','v0.8','v0.9','v1.1','v1.2','v1.3','v1.4','v1.5']\n",
    "\n",
    "datasets_eos_bcc = ['eq_st_bcc/'+s for s in scales]\n",
    "\n",
    "datasets_eos_fcc = ['eq_st_fcc/'+s for s in scales]"
   ]
  },
  {
   "cell_type": "code",
   "execution_count": 19,
   "metadata": {},
   "outputs": [
    {
     "data": {
      "text/plain": [
       "['eq_st_bcc/v0',\n",
       " 'eq_st_bcc/v0.8',\n",
       " 'eq_st_bcc/v0.9',\n",
       " 'eq_st_bcc/v1.1',\n",
       " 'eq_st_bcc/v1.2',\n",
       " 'eq_st_bcc/v1.3',\n",
       " 'eq_st_bcc/v1.4',\n",
       " 'eq_st_bcc/v1.5']"
      ]
     },
     "execution_count": 19,
     "metadata": {},
     "output_type": "execute_result"
    }
   ],
   "source": [
    "datasets_eos_bcc"
   ]
  },
  {
   "cell_type": "code",
   "execution_count": 6,
   "metadata": {
    "collapsed": true
   },
   "outputs": [],
   "source": [
    "trajdirs = [target_raw + '/' + dataset for dataset in datasets]\n",
    "trajdirs_0k = [target_raw + '/' + dataset for dataset in datasets_0k]\n",
    "trajdirs_eos_bcc = [target_raw + '/' + dataset for dataset in datasets_eos_bcc]\n",
    "trajdirs_eos_fcc = [target_raw + '/' + dataset for dataset in datasets_eos_fcc]"
   ]
  },
  {
   "cell_type": "code",
   "execution_count": 12,
   "metadata": {},
   "outputs": [
    {
     "name": "stdout",
     "output_type": "stream",
     "text": [
      "Reading ../data/target_raw/bcc_npt_langevin_300K/OUTCAR\n",
      "Reading ../data/target_raw/bcc_npt_langevin_300K/POSCAR\n",
      "Reading ../data/target_raw/bcc_npt_langevin_300K/CONTCAR\n",
      "Reading ../data/target_raw/bcc_npt_langevin_300K/XDATCAR\n",
      "Reading ../data/target_raw/bcc_npt_langevin_300K/OSZICAR\n",
      "Reading ../data/target_raw/bcc_npt_langevin_300K/INCAR\n",
      "Reading ../data/target_raw/fcc_npt_langevin_300K/OUTCAR\n",
      "Reading ../data/target_raw/fcc_npt_langevin_300K/POSCAR\n",
      "Reading ../data/target_raw/fcc_npt_langevin_300K/CONTCAR\n",
      "Reading ../data/target_raw/fcc_npt_langevin_300K/XDATCAR\n",
      "Reading ../data/target_raw/fcc_npt_langevin_300K/OSZICAR\n",
      "Reading ../data/target_raw/fcc_npt_langevin_300K/INCAR\n",
      "Reading ../data/target_raw/vac_npt_langevin_2000K/OUTCAR\n",
      "Reading ../data/target_raw/vac_npt_langevin_2000K/POSCAR\n",
      "Reading ../data/target_raw/vac_npt_langevin_2000K/CONTCAR\n",
      "Reading ../data/target_raw/vac_npt_langevin_2000K/XDATCAR\n",
      "Reading ../data/target_raw/vac_npt_langevin_2000K/OSZICAR\n",
      "Reading ../data/target_raw/vac_npt_langevin_2000K/INCAR\n",
      "Reading ../data/target_raw/i110_npt_langevin_2000K/OUTCAR\n",
      "Reading ../data/target_raw/i110_npt_langevin_2000K/POSCAR\n",
      "Reading ../data/target_raw/i110_npt_langevin_2000K/CONTCAR\n",
      "Reading ../data/target_raw/i110_npt_langevin_2000K/XDATCAR\n",
      "Reading ../data/target_raw/i110_npt_langevin_2000K/OSZICAR\n",
      "Reading ../data/target_raw/i110_npt_langevin_2000K/INCAR\n",
      "Reading ../data/target_raw/i111_npt_langevin_2000K/OUTCAR\n",
      "Reading ../data/target_raw/i111_npt_langevin_2000K/POSCAR\n",
      "Reading ../data/target_raw/i111_npt_langevin_2000K/CONTCAR\n",
      "Reading ../data/target_raw/i111_npt_langevin_2000K/XDATCAR\n",
      "Reading ../data/target_raw/i111_npt_langevin_2000K/OSZICAR\n",
      "Reading ../data/target_raw/i111_npt_langevin_2000K/INCAR\n",
      "Reading ../data/target_raw/screw_111_npt_langevin_2000K/OUTCAR\n",
      "Reading ../data/target_raw/screw_111_npt_langevin_2000K/POSCAR\n",
      "Reading ../data/target_raw/screw_111_npt_langevin_2000K/CONTCAR\n",
      "Reading ../data/target_raw/screw_111_npt_langevin_2000K/XDATCAR\n",
      "Reading ../data/target_raw/screw_111_npt_langevin_2000K/OSZICAR\n",
      "Reading ../data/target_raw/screw_111_npt_langevin_2000K/INCAR\n",
      "Reading ../data/target_raw/bcc_npt_langevin_3700K/OUTCAR\n",
      "Reading ../data/target_raw/bcc_npt_langevin_3700K/POSCAR\n",
      "Reading ../data/target_raw/bcc_npt_langevin_3700K/CONTCAR\n",
      "Reading ../data/target_raw/bcc_npt_langevin_3700K/XDATCAR\n",
      "Reading ../data/target_raw/bcc_npt_langevin_3700K/OSZICAR\n",
      "Reading ../data/target_raw/bcc_npt_langevin_3700K/INCAR\n",
      "Reading ../data/target_raw/liq_3700K/OUTCAR\n",
      "Reading ../data/target_raw/liq_3700K/POSCAR\n",
      "Reading ../data/target_raw/liq_3700K/CONTCAR\n",
      "Reading ../data/target_raw/liq_3700K/XDATCAR\n",
      "Reading ../data/target_raw/liq_3700K/OSZICAR\n",
      "Reading ../data/target_raw/liq_3700K/INCAR\n",
      "Reading ../data/target_raw/liq_5000K/OUTCAR\n",
      "Reading ../data/target_raw/liq_5000K/POSCAR\n",
      "Reading ../data/target_raw/liq_5000K/CONTCAR\n",
      "Reading ../data/target_raw/liq_5000K/XDATCAR\n",
      "Reading ../data/target_raw/liq_5000K/OSZICAR\n",
      "Reading ../data/target_raw/liq_5000K/INCAR\n"
     ]
    }
   ],
   "source": [
    "trajectories = {}\n",
    "for name, traj_path in zip(datasets, trajdirs):\n",
    "    trajectories[name] = read_vasp(traj_path)"
   ]
  },
  {
   "cell_type": "code",
   "execution_count": 9,
   "metadata": {},
   "outputs": [
    {
     "name": "stdout",
     "output_type": "stream",
     "text": [
      "Reading ../data/target_raw/bcc_0k/OUTCAR\n",
      "Reading ../data/target_raw/bcc_0k/POSCAR\n",
      "Reading ../data/target_raw/bcc_0k/CONTCAR\n",
      "Reading ../data/target_raw/bcc_0k/XDATCAR\n",
      "Reading ../data/target_raw/bcc_0k/OSZICAR\n",
      "Reading ../data/target_raw/bcc_0k/INCAR\n",
      "Reading ../data/target_raw/fcc_0k/OUTCAR\n",
      "Reading ../data/target_raw/fcc_0k/POSCAR\n",
      "Reading ../data/target_raw/fcc_0k/CONTCAR\n",
      "Reading ../data/target_raw/fcc_0k/OSZICAR\n",
      "Reading ../data/target_raw/fcc_0k/INCAR\n",
      "Reading ../data/target_raw/vac_0k/OUTCAR\n",
      "Reading ../data/target_raw/vac_0k/POSCAR\n",
      "Reading ../data/target_raw/vac_0k/CONTCAR\n",
      "Reading ../data/target_raw/vac_0k/XDATCAR\n",
      "Reading ../data/target_raw/vac_0k/OSZICAR\n",
      "Reading ../data/target_raw/vac_0k/INCAR\n",
      "Reading ../data/target_raw/i110_0k/OUTCAR\n",
      "Reading ../data/target_raw/i110_0k/POSCAR\n",
      "Reading ../data/target_raw/i110_0k/CONTCAR\n",
      "Reading ../data/target_raw/i110_0k/XDATCAR\n",
      "Reading ../data/target_raw/i110_0k/OSZICAR\n",
      "Reading ../data/target_raw/i110_0k/INCAR\n",
      "Reading ../data/target_raw/i111_0k/OUTCAR\n",
      "Reading ../data/target_raw/i111_0k/POSCAR\n",
      "Reading ../data/target_raw/i111_0k/CONTCAR\n",
      "Reading ../data/target_raw/i111_0k/XDATCAR\n",
      "Reading ../data/target_raw/i111_0k/OSZICAR\n",
      "Reading ../data/target_raw/i111_0k/INCAR\n",
      "Reading ../data/target_raw/screw_111_0k/OUTCAR\n",
      "Reading ../data/target_raw/screw_111_0k/POSCAR\n",
      "Reading ../data/target_raw/screw_111_0k/CONTCAR\n",
      "Reading ../data/target_raw/screw_111_0k/XDATCAR\n",
      "Reading ../data/target_raw/screw_111_0k/OSZICAR\n",
      "Reading ../data/target_raw/screw_111_0k/INCAR\n"
     ]
    }
   ],
   "source": [
    "trajectories_0k = {}\n",
    "for name, traj_path in zip(datasets_0k, trajdirs_0k):\n",
    "    trajectories_0k[name] = read_vasp(traj_path)"
   ]
  },
  {
   "cell_type": "code",
   "execution_count": 10,
   "metadata": {},
   "outputs": [
    {
     "name": "stdout",
     "output_type": "stream",
     "text": [
      "Reading ../data/target_raw/eq_st_bcc/v0/OUTCAR\n",
      "Reading ../data/target_raw/eq_st_bcc/v0/POSCAR\n",
      "Reading ../data/target_raw/eq_st_bcc/v0/CONTCAR\n",
      "Reading ../data/target_raw/eq_st_bcc/v0/XDATCAR\n",
      "Reading ../data/target_raw/eq_st_bcc/v0/OSZICAR\n",
      "Reading ../data/target_raw/eq_st_bcc/v0/INCAR\n",
      "Reading ../data/target_raw/eq_st_bcc/v0.8/OUTCAR\n",
      "Reading ../data/target_raw/eq_st_bcc/v0.8/POSCAR\n",
      "Reading ../data/target_raw/eq_st_bcc/v0.8/CONTCAR\n",
      "Reading ../data/target_raw/eq_st_bcc/v0.8/XDATCAR\n",
      "Reading ../data/target_raw/eq_st_bcc/v0.8/OSZICAR\n",
      "Reading ../data/target_raw/eq_st_bcc/v0.8/INCAR\n",
      "Reading ../data/target_raw/eq_st_bcc/v0.9/OUTCAR\n",
      "Reading ../data/target_raw/eq_st_bcc/v0.9/POSCAR\n",
      "Reading ../data/target_raw/eq_st_bcc/v0.9/CONTCAR\n",
      "Reading ../data/target_raw/eq_st_bcc/v0.9/XDATCAR\n",
      "Reading ../data/target_raw/eq_st_bcc/v0.9/OSZICAR\n",
      "Reading ../data/target_raw/eq_st_bcc/v0.9/INCAR\n",
      "Reading ../data/target_raw/eq_st_bcc/v1.1/OUTCAR\n",
      "Reading ../data/target_raw/eq_st_bcc/v1.1/POSCAR\n",
      "Reading ../data/target_raw/eq_st_bcc/v1.1/CONTCAR\n",
      "Reading ../data/target_raw/eq_st_bcc/v1.1/XDATCAR\n",
      "Reading ../data/target_raw/eq_st_bcc/v1.1/OSZICAR\n",
      "Reading ../data/target_raw/eq_st_bcc/v1.1/INCAR\n",
      "Reading ../data/target_raw/eq_st_bcc/v1.2/OUTCAR\n",
      "Reading ../data/target_raw/eq_st_bcc/v1.2/POSCAR\n",
      "Reading ../data/target_raw/eq_st_bcc/v1.2/CONTCAR\n",
      "Reading ../data/target_raw/eq_st_bcc/v1.2/XDATCAR\n",
      "Reading ../data/target_raw/eq_st_bcc/v1.2/OSZICAR\n",
      "Reading ../data/target_raw/eq_st_bcc/v1.2/INCAR\n",
      "Reading ../data/target_raw/eq_st_bcc/v1.3/OUTCAR\n",
      "Reading ../data/target_raw/eq_st_bcc/v1.3/POSCAR\n",
      "Reading ../data/target_raw/eq_st_bcc/v1.3/CONTCAR\n",
      "Reading ../data/target_raw/eq_st_bcc/v1.3/XDATCAR\n",
      "Reading ../data/target_raw/eq_st_bcc/v1.3/OSZICAR\n",
      "Reading ../data/target_raw/eq_st_bcc/v1.3/INCAR\n",
      "Reading ../data/target_raw/eq_st_bcc/v1.4/OUTCAR\n",
      "Reading ../data/target_raw/eq_st_bcc/v1.4/POSCAR\n",
      "Reading ../data/target_raw/eq_st_bcc/v1.4/CONTCAR\n",
      "Reading ../data/target_raw/eq_st_bcc/v1.4/XDATCAR\n",
      "Reading ../data/target_raw/eq_st_bcc/v1.4/OSZICAR\n",
      "Reading ../data/target_raw/eq_st_bcc/v1.4/INCAR\n",
      "Reading ../data/target_raw/eq_st_bcc/v1.5/OUTCAR\n",
      "Reading ../data/target_raw/eq_st_bcc/v1.5/POSCAR\n",
      "Reading ../data/target_raw/eq_st_bcc/v1.5/CONTCAR\n",
      "Reading ../data/target_raw/eq_st_bcc/v1.5/XDATCAR\n",
      "Reading ../data/target_raw/eq_st_bcc/v1.5/OSZICAR\n",
      "Reading ../data/target_raw/eq_st_bcc/v1.5/INCAR\n"
     ]
    }
   ],
   "source": [
    "trajectories_eos_bcc = {}\n",
    "for name, traj_path in zip(datasets_eos_bcc, trajdirs_eos_bcc):\n",
    "    trajectories_eos_bcc[name] = read_vasp(traj_path)"
   ]
  },
  {
   "cell_type": "code",
   "execution_count": 11,
   "metadata": {},
   "outputs": [
    {
     "name": "stdout",
     "output_type": "stream",
     "text": [
      "Reading ../data/target_raw/eq_st_fcc/v0/OUTCAR\n",
      "Reading ../data/target_raw/eq_st_fcc/v0/POSCAR\n",
      "Reading ../data/target_raw/eq_st_fcc/v0/CONTCAR\n",
      "Reading ../data/target_raw/eq_st_fcc/v0/XDATCAR\n",
      "Reading ../data/target_raw/eq_st_fcc/v0/OSZICAR\n",
      "Reading ../data/target_raw/eq_st_fcc/v0/INCAR\n",
      "Reading ../data/target_raw/eq_st_fcc/v0.8/OUTCAR\n",
      "Reading ../data/target_raw/eq_st_fcc/v0.8/POSCAR\n",
      "Reading ../data/target_raw/eq_st_fcc/v0.8/CONTCAR\n",
      "Reading ../data/target_raw/eq_st_fcc/v0.8/XDATCAR\n",
      "Reading ../data/target_raw/eq_st_fcc/v0.8/OSZICAR\n",
      "Reading ../data/target_raw/eq_st_fcc/v0.8/INCAR\n",
      "Reading ../data/target_raw/eq_st_fcc/v0.9/OUTCAR\n",
      "Reading ../data/target_raw/eq_st_fcc/v0.9/POSCAR\n",
      "Reading ../data/target_raw/eq_st_fcc/v0.9/CONTCAR\n",
      "Reading ../data/target_raw/eq_st_fcc/v0.9/XDATCAR\n",
      "Reading ../data/target_raw/eq_st_fcc/v0.9/OSZICAR\n",
      "Reading ../data/target_raw/eq_st_fcc/v0.9/INCAR\n",
      "Reading ../data/target_raw/eq_st_fcc/v1.1/OUTCAR\n",
      "Reading ../data/target_raw/eq_st_fcc/v1.1/POSCAR\n",
      "Reading ../data/target_raw/eq_st_fcc/v1.1/CONTCAR\n",
      "Reading ../data/target_raw/eq_st_fcc/v1.1/XDATCAR\n",
      "Reading ../data/target_raw/eq_st_fcc/v1.1/OSZICAR\n",
      "Reading ../data/target_raw/eq_st_fcc/v1.1/INCAR\n",
      "Reading ../data/target_raw/eq_st_fcc/v1.2/OUTCAR\n",
      "Reading ../data/target_raw/eq_st_fcc/v1.2/POSCAR\n",
      "Reading ../data/target_raw/eq_st_fcc/v1.2/CONTCAR\n",
      "Reading ../data/target_raw/eq_st_fcc/v1.2/XDATCAR\n",
      "Reading ../data/target_raw/eq_st_fcc/v1.2/OSZICAR\n",
      "Reading ../data/target_raw/eq_st_fcc/v1.2/INCAR\n",
      "Reading ../data/target_raw/eq_st_fcc/v1.3/OUTCAR\n",
      "Reading ../data/target_raw/eq_st_fcc/v1.3/POSCAR\n",
      "Reading ../data/target_raw/eq_st_fcc/v1.3/CONTCAR\n",
      "Reading ../data/target_raw/eq_st_fcc/v1.3/XDATCAR\n",
      "Reading ../data/target_raw/eq_st_fcc/v1.3/OSZICAR\n",
      "Reading ../data/target_raw/eq_st_fcc/v1.3/INCAR\n",
      "Reading ../data/target_raw/eq_st_fcc/v1.4/OUTCAR\n",
      "Reading ../data/target_raw/eq_st_fcc/v1.4/POSCAR\n",
      "Reading ../data/target_raw/eq_st_fcc/v1.4/CONTCAR\n",
      "Reading ../data/target_raw/eq_st_fcc/v1.4/XDATCAR\n",
      "Reading ../data/target_raw/eq_st_fcc/v1.4/OSZICAR\n",
      "Reading ../data/target_raw/eq_st_fcc/v1.4/INCAR\n",
      "Reading ../data/target_raw/eq_st_fcc/v1.5/OUTCAR\n",
      "Reading ../data/target_raw/eq_st_fcc/v1.5/POSCAR\n",
      "Reading ../data/target_raw/eq_st_fcc/v1.5/CONTCAR\n",
      "Reading ../data/target_raw/eq_st_fcc/v1.5/XDATCAR\n",
      "Reading ../data/target_raw/eq_st_fcc/v1.5/OSZICAR\n",
      "Reading ../data/target_raw/eq_st_fcc/v1.5/INCAR\n"
     ]
    }
   ],
   "source": [
    "trajectories_eos_fcc = {}\n",
    "for name, traj_path in zip(datasets_eos_fcc, trajdirs_eos_fcc):\n",
    "    trajectories_eos_fcc[name] = read_vasp(traj_path)"
   ]
  },
  {
   "cell_type": "code",
   "execution_count": 125,
   "metadata": {
    "collapsed": true
   },
   "outputs": [],
   "source": [
    "# Convert MD trajectory dicts to objects\n",
    "trjs = {}\n",
    "for k, trj in trajectories.items():\n",
    "    trjs[k] = Trajectory(trj, inplace=False)"
   ]
  },
  {
   "cell_type": "code",
   "execution_count": 126,
   "metadata": {
    "collapsed": true
   },
   "outputs": [],
   "source": [
    "# Convert MD trajectory 0K configs to objects\n",
    "trjs_0k = {}\n",
    "for k, trj in trajectories_0k.items():\n",
    "    trjs_0k[k] = Trajectory(trj, inplace=False)[-1]"
   ]
  },
  {
   "cell_type": "code",
   "execution_count": 127,
   "metadata": {
    "collapsed": true
   },
   "outputs": [],
   "source": [
    "# Convert MD trajectory bcc eos configs to objects\n",
    "trjs_eos_bcc = {}\n",
    "for k, trj in trajectories_eos_bcc.items():\n",
    "    trjs_eos_bcc[k] = Trajectory(trj, inplace=False)[-1]"
   ]
  },
  {
   "cell_type": "code",
   "execution_count": 128,
   "metadata": {
    "collapsed": true
   },
   "outputs": [],
   "source": [
    "# Convert MD trajectory bcc eos configs to objects\n",
    "trjs_eos_fcc = {}\n",
    "for k, trj in trajectories_eos_fcc.items():\n",
    "    trjs_eos_fcc[k] = Trajectory(trj, inplace=False)[-1]"
   ]
  },
  {
   "cell_type": "code",
   "execution_count": 129,
   "metadata": {},
   "outputs": [
    {
     "name": "stdout",
     "output_type": "stream",
     "text": [
      "bcc_0k\n",
      "1\n",
      "fcc_0k\n",
      "2\n",
      "vac_0k\n",
      "3\n",
      "i110_0k\n",
      "4\n",
      "i111_0k\n",
      "5\n",
      "screw_111_0k\n",
      "6\n"
     ]
    }
   ],
   "source": [
    "# join 0 K configurations into a pseudo-trajectory\n",
    "traj0k = copy.deepcopy(trjs_0k['bcc_0k'])\n",
    "\n",
    "for k, trj in trjs_0k.items():\n",
    "    print(k)\n",
    "    if 'bcc' not in k:\n",
    "        traj0k.append(trj)\n",
    "    print(len(traj0k['box']))"
   ]
  },
  {
   "cell_type": "code",
   "execution_count": 130,
   "metadata": {},
   "outputs": [
    {
     "data": {
      "text/plain": [
       "[array([[12.744894,  0.      ,  0.      ],\n",
       "        [ 0.      , 12.744894,  0.      ],\n",
       "        [ 0.      ,  0.      , 12.744894]]),\n",
       " array([[12.10561061,  0.        ,  0.        ],\n",
       "        [ 0.        , 12.10561061,  0.        ],\n",
       "        [ 0.        ,  0.        , 12.10561061]]),\n",
       " array([[12.729505,  0.      ,  0.      ],\n",
       "        [ 0.      , 12.729505,  0.      ],\n",
       "        [ 0.      ,  0.      , 12.729505]]),\n",
       " array([[12.6836,  0.    ,  0.    ],\n",
       "        [ 0.    , 12.6836,  0.    ],\n",
       "        [ 0.    ,  0.    , 12.6836]]),\n",
       " array([[12.6836,  0.    ,  0.    ],\n",
       "        [ 0.    , 12.6836,  0.    ],\n",
       "        [ 0.    ,  0.    , 12.6836]]),\n",
       " array([[39.073002,  0.      ,  0.      ],\n",
       "        [ 0.      ,  2.762878,  0.      ],\n",
       "        [19.536501,  1.381439, 20.302927]])]"
      ]
     },
     "execution_count": 130,
     "metadata": {},
     "output_type": "execute_result"
    }
   ],
   "source": [
    "traj0k['box']"
   ]
  },
  {
   "cell_type": "code",
   "execution_count": 131,
   "metadata": {},
   "outputs": [
    {
     "name": "stdout",
     "output_type": "stream",
     "text": [
      "eq_st_bcc/v0\n",
      "1\n",
      "eq_st_bcc/v0.8\n",
      "2\n",
      "eq_st_bcc/v0.9\n",
      "3\n",
      "eq_st_bcc/v1.1\n",
      "4\n",
      "eq_st_bcc/v1.2\n",
      "5\n",
      "eq_st_bcc/v1.3\n",
      "6\n",
      "eq_st_bcc/v1.4\n",
      "7\n",
      "eq_st_bcc/v1.5\n",
      "8\n"
     ]
    }
   ],
   "source": [
    "# join eos bcc configurations into a pseudo-trajectory\n",
    "traj_eos_bcc = copy.deepcopy(trjs_eos_bcc['eq_st_bcc/v0'])\n",
    "\n",
    "for k, trj in trjs_eos_bcc.items():\n",
    "    print(k)\n",
    "    if k != 'eq_st_bcc/v0':\n",
    "        traj_eos_bcc.append(trj)\n",
    "    print(len(traj_eos_bcc['box']))"
   ]
  },
  {
   "cell_type": "code",
   "execution_count": 132,
   "metadata": {},
   "outputs": [
    {
     "name": "stdout",
     "output_type": "stream",
     "text": [
      "eq_st_fcc/v0\n",
      "2\n",
      "eq_st_fcc/v0.8\n",
      "3\n",
      "eq_st_fcc/v0.9\n",
      "4\n",
      "eq_st_fcc/v1.1\n",
      "5\n",
      "eq_st_fcc/v1.2\n",
      "6\n",
      "eq_st_fcc/v1.3\n",
      "7\n",
      "eq_st_fcc/v1.4\n",
      "8\n",
      "eq_st_fcc/v1.5\n",
      "9\n"
     ]
    }
   ],
   "source": [
    "# join eos bcc configurations into a pseudo-trajectory\n",
    "traj_eos_fcc = copy.deepcopy(trjs_eos_fcc['eq_st_fcc/v0'])\n",
    "\n",
    "for k, trj in trjs_eos_fcc.items():\n",
    "    print(k)\n",
    "    if k != 'eq_st_bcc/v0':\n",
    "        traj_eos_fcc.append(trj)\n",
    "    print(len(traj_eos_fcc['box']))"
   ]
  },
  {
   "cell_type": "code",
   "execution_count": 133,
   "metadata": {
    "collapsed": true
   },
   "outputs": [],
   "source": [
    "# Create an artificial configuration with large box and 0 energy\n",
    "traj_inf = copy.deepcopy(trjs_0k['bcc_0k'])"
   ]
  },
  {
   "cell_type": "code",
   "execution_count": 134,
   "metadata": {
    "collapsed": true
   },
   "outputs": [],
   "source": [
    "# W parameters\n",
    "l = 0.274\n",
    "r_wse = 3.168\n",
    "r_wse = 1.584\n",
    "eta = 5.69\n",
    "dE = 8.9\n",
    "\n",
    "# equation of state. x is lattice expansion/compression parameter\n",
    "def eos(x):\n",
    "    a = (x - 1.0)*r_wse/l\n",
    "    ene = np.exp(-a)\n",
    "    ene *= -1.0 - a - 0.05*a**3\n",
    "    return dE*ene"
   ]
  },
  {
   "cell_type": "code",
   "execution_count": 135,
   "metadata": {
    "collapsed": true
   },
   "outputs": [],
   "source": [
    "#%%writefile -a ../../statmechlib/statmechlib/preprocessing/stats.py\n",
    "\n",
    "def scale_configuration(trj, scale):\n",
    "    \"\"\"\n",
    "    Scales box size by 10 to separate all atoms beyond cutoff, and sets energies and forces to 0.\n",
    "    \n",
    "    Parameters\n",
    "    ----------\n",
    "    trj: Trajectory object (or dict)\n",
    "         Trajectory to be rescaled\n",
    "    \n",
    "    Returns\n",
    "    -------\n",
    "    trj: Trajectory object (or dict)\n",
    "         Rescaled trajectory\n",
    "    \"\"\"\n",
    "    edif = -1656.3257 + 1139.2\n",
    "    trj['box'][0] = trj['box'][0]*scale\n",
    "    trj['box0'] = trj['box0']*scale\n",
    "    trj['energy'][0] = eos(scale)*len(trj['xyz'][0]) + edif\n",
    "    trj['free_energy'][0] = eos(scale)*len(trj['xyz'][0]) + edif\n",
    "    trj['total_energy'][0] = eos(scale)*len(trj['xyz'][0]) + edif\n",
    "    trj['forces'][0] = np.zeros_like(trj['forces'][0])\n",
    "    return trj"
   ]
  },
  {
   "cell_type": "code",
   "execution_count": 136,
   "metadata": {},
   "outputs": [
    {
     "name": "stdout",
     "output_type": "stream",
     "text": [
      "11.999999999999998\n",
      "[2.329 2.466 2.603 2.74  2.877 3.014 3.151 3.288 3.425 3.562 3.699 3.836\n",
      " 3.973]\n"
     ]
    }
   ],
   "source": [
    "n = (1.45-0.85)/0.05\n",
    "print(n)\n",
    "reos = np.linspace(0.85, 1.45, 13)*2.74\n",
    "print(reos)"
   ]
  },
  {
   "cell_type": "code",
   "execution_count": 137,
   "metadata": {
    "collapsed": true
   },
   "outputs": [],
   "source": [
    "traj_eos = scale_configuration(copy.deepcopy(trjs_0k['bcc_0k']), 1.0)"
   ]
  },
  {
   "cell_type": "code",
   "execution_count": 138,
   "metadata": {
    "collapsed": true
   },
   "outputs": [],
   "source": [
    "scale_eos = [0.85, 0.9, 1.2, 1.25, 1.3, 1.35, 1.4, 1.45]"
   ]
  },
  {
   "cell_type": "code",
   "execution_count": 139,
   "metadata": {
    "collapsed": true
   },
   "outputs": [],
   "source": [
    "for scale in scale_eos:#np.linspace(0.85, 1.45, 13):\n",
    "    traj_scale = copy.deepcopy(trjs_0k['bcc_0k'])\n",
    "    traj_eos.append(scale_configuration(traj_scale, scale))"
   ]
  },
  {
   "cell_type": "code",
   "execution_count": 140,
   "metadata": {},
   "outputs": [
    {
     "data": {
      "text/plain": [
       "[-1656.3257]"
      ]
     },
     "execution_count": 140,
     "metadata": {},
     "output_type": "execute_result"
    }
   ],
   "source": [
    "trjs_0k['bcc_0k']['energy']"
   ]
  },
  {
   "cell_type": "code",
   "execution_count": 141,
   "metadata": {},
   "outputs": [
    {
     "data": {
      "text/plain": [
       "[-1656.3257,\n",
       " -788.9304221070888,\n",
       " -1354.2968089986525,\n",
       " -1317.789044463534,\n",
       " -1214.1868202328876,\n",
       " -1119.430006371314,\n",
       " -1034.868699456512,\n",
       " -960.5289853774632,\n",
       " -895.7836415190641]"
      ]
     },
     "execution_count": 141,
     "metadata": {},
     "output_type": "execute_result"
    }
   ],
   "source": [
    "traj_eos['energy']"
   ]
  },
  {
   "cell_type": "code",
   "execution_count": 142,
   "metadata": {
    "collapsed": true
   },
   "outputs": [],
   "source": [
    "traj_inf = scale_configuration(traj_inf, 100.0)"
   ]
  },
  {
   "cell_type": "code",
   "execution_count": 143,
   "metadata": {},
   "outputs": [
    {
     "data": {
      "text/plain": [
       "[-517.1257]"
      ]
     },
     "execution_count": 143,
     "metadata": {},
     "output_type": "execute_result"
    }
   ],
   "source": [
    "traj_inf['energy']"
   ]
  },
  {
   "cell_type": "code",
   "execution_count": 144,
   "metadata": {
    "collapsed": true
   },
   "outputs": [],
   "source": [
    "traj0k.append(traj_inf)\n",
    "traj0k['temp'] = [100.0 for _ in range(len(traj0k['temp']))]\n",
    "trjs['relax'] = traj0k"
   ]
  },
  {
   "cell_type": "code",
   "execution_count": 145,
   "metadata": {
    "collapsed": true
   },
   "outputs": [],
   "source": [
    "traj_eos_bcc.append(traj_inf)\n",
    "traj_eos_bcc['temp'] = [100.0 for _ in range(len(traj_eos_bcc['temp']))]\n",
    "trjs['eos_bcc'] = traj_eos_bcc"
   ]
  },
  {
   "cell_type": "code",
   "execution_count": 146,
   "metadata": {
    "collapsed": true
   },
   "outputs": [],
   "source": [
    "traj_eos_fcc.append(traj_inf)\n",
    "traj_eos_fcc['temp'] = [100.0 for _ in range(len(traj_eos_fcc['temp']))]\n",
    "trjs['eos_fcc'] = traj_eos_fcc"
   ]
  },
  {
   "cell_type": "code",
   "execution_count": 147,
   "metadata": {
    "collapsed": true
   },
   "outputs": [],
   "source": [
    "traj_eos.append(traj_inf)\n",
    "traj_eos['temp'] = [100.0 for _ in range(len(traj_eos['temp']))]\n",
    "trjs['eos'] = traj_eos"
   ]
  },
  {
   "cell_type": "code",
   "execution_count": 182,
   "metadata": {},
   "outputs": [
    {
     "name": "stdout",
     "output_type": "stream",
     "text": [
      "[-1656.2811, -1539.9324, -1631.9441, -1641.0618, -1601.7638, -1548.7665, -1488.445, -1424.8124, -517.1257]\n",
      "[-1346.6233, -1346.6233, -1253.0127, -1326.6786, -1334.2055, -1302.2188, -1258.966, -1209.7326, -1157.7657, -517.1257]\n",
      "[-1656.3257, -788.9304221070888, -1354.2968089986525, -1317.789044463534, -1214.1868202328876, -1119.430006371314, -1034.868699456512, -960.5289853774632, -895.7836415190641, -517.1257]\n"
     ]
    },
    {
     "data": {
      "image/png": "[encoded data removed]",
      "text/plain": [
       "<Figure size 432x288 with 1 Axes>"
      ]
     },
     "metadata": {},
     "output_type": "display_data"
    }
   ],
   "source": [
    "for key, trj in trjs.items():\n",
    "    #print(i, list(zip(trj['atom_name'], trj['atom_num'])), len(trj['temp']))\n",
    "    if 'eos' in key:\n",
    "        plt.scatter([np.linalg.det(b)**(1./3.)/12.744894 for b in trj['box']][:-1], trj['energy'][:-1], label=key)\n",
    "        print(trj['energy'][:])\n",
    "plt.legend()\n",
    "#plt.xlim(-1780,-1100)\n",
    "plt.show()"
   ]
  },
  {
   "cell_type": "code",
   "execution_count": 152,
   "metadata": {
    "collapsed": true
   },
   "outputs": [],
   "source": [
    "def get_msd(xyzs):\n",
    "    \"\"\"Return mean squared displacement (msd) for a given trajectory (traj).\"\"\"\n",
    "    msd = []\n",
    "    for rs in xyzs:\n",
    "        msd.append(np.mean((rs - xyzs[0])**2))\n",
    "    #msd = [0.0 for _ in range(len(xyzs))]\n",
    "    return np.array(msd)"
   ]
  },
  {
   "cell_type": "code",
   "execution_count": 155,
   "metadata": {},
   "outputs": [
    {
     "data": {
      "image/png": "[encoded data removed]",
      "text/plain": [
       "<Figure size 1080x720 with 4 Axes>"
      ]
     },
     "metadata": {},
     "output_type": "display_data"
    }
   ],
   "source": [
    "fig, axes = plt.subplots(2, 2, sharex='col', figsize=(15,10))\n",
    "\n",
    "for key, traj in trjs.items():\n",
    "    if 'relax' in key or 'eos' in key:\n",
    "        continue\n",
    "\n",
    "        \n",
    "    #axes[0,0].plot([e/x.shape[0] for e, x in zip(traj['energy'], traj['xyz'])], label=dset)\n",
    "    if 'screw' in key:\n",
    "        axes[0,0].plot([e for e, x in zip(traj['energy'], traj['xyz'])], label=key)\n",
    "        axes[0,1].plot([np.linalg.det(b) for b in traj['box']], label=key)\n",
    "    else:\n",
    "        axes[0,0].plot([e for e, x in zip(traj['energy'], traj['xyz'])], label=key)\n",
    "        axes[0,1].plot([np.linalg.det(b) for b in traj['box']], label=key)\n",
    "\n",
    "\n",
    "    axes[1,0].plot([t for t in traj['temp']], label=key)\n",
    "\n",
    "    msd = get_msd(traj['xyz'])\n",
    "    axes[1,1].plot(msd, label=key)\n",
    "\n",
    "axes[0,0].legend()\n",
    "axes[0,0].set_title('Energies of individual configurations', fontsize=20)\n",
    "axes[0,1].set_title('Volumes of individual configurations', fontsize=20)       \n",
    "axes[1,0].set_title('Temperature', fontsize=20)\n",
    "axes[1,1].set_title('MSD - rough/approximate', fontsize=20)\n",
    "fig.tight_layout()"
   ]
  },
  {
   "cell_type": "code",
   "execution_count": 156,
   "metadata": {},
   "outputs": [
    {
     "data": {
      "text/plain": [
       "[('bcc_npt_langevin_300K', 1496),\n",
       " ('fcc_npt_langevin_300K', 552),\n",
       " ('vac_npt_langevin_2000K', 1480),\n",
       " ('i110_npt_langevin_2000K', 1461),\n",
       " ('i111_npt_langevin_2000K', 1477),\n",
       " ('screw_111_npt_langevin_2000K', 1992),\n",
       " ('bcc_npt_langevin_3700K', 1329),\n",
       " ('liq_3700K', 1153),\n",
       " ('liq_5000K', 1406),\n",
       " ('relax', 7),\n",
       " ('eos_bcc', 9),\n",
       " ('eos_fcc', 10),\n",
       " ('eos', 10)]"
      ]
     },
     "execution_count": 156,
     "metadata": {},
     "output_type": "execute_result"
    }
   ],
   "source": [
    "[(k, len(v['energy'])) for k, v in trjs.items()]"
   ]
  },
  {
   "cell_type": "code",
   "execution_count": 157,
   "metadata": {
    "collapsed": true
   },
   "outputs": [],
   "source": [
    "cuts = {'bcc_npt_langevin_300K':500,\n",
    "        'fcc_npt_langevin_300K':50,\n",
    "        'vac_npt_langevin_2000K':300,\n",
    "        'i110_npt_langevin_2000K':1000,\n",
    "        'i111_npt_langevin_2000K':1000,\n",
    "        'screw_111_npt_langevin_2000K':1400,\n",
    "        'bcc_npt_langevin_3700K':600,\n",
    "        'liq_3700K':800,\n",
    "        'liq_5000K':800,\n",
    "        'relax':0,\n",
    "        'eos_bcc':0,\n",
    "        'eos_fcc':0,\n",
    "        'eos':0,\n",
    "       }"
   ]
  },
  {
   "cell_type": "code",
   "execution_count": 158,
   "metadata": {
    "collapsed": true
   },
   "outputs": [],
   "source": [
    "trj_samples = {}\n",
    "for key, traj in trjs.items():\n",
    "    if 'relax' not in key and 'eos' not in key:\n",
    "        trj_samples[key] = traj[cuts[key]::5]\n",
    "    else:\n",
    "        trj_samples[key] = traj[cuts[key]:]"
   ]
  },
  {
   "cell_type": "code",
   "execution_count": 159,
   "metadata": {
    "collapsed": true
   },
   "outputs": [],
   "source": [
    "#trj_samples['eos_bcc'] = traj_eos_bcc\n",
    "#trj_samples['eos_fcc'] = traj_eos_fcc"
   ]
  },
  {
   "cell_type": "code",
   "execution_count": 160,
   "metadata": {},
   "outputs": [
    {
     "data": {
      "text/plain": [
       "[('bcc_npt_langevin_300K', 200),\n",
       " ('fcc_npt_langevin_300K', 101),\n",
       " ('vac_npt_langevin_2000K', 236),\n",
       " ('i110_npt_langevin_2000K', 93),\n",
       " ('i111_npt_langevin_2000K', 96),\n",
       " ('screw_111_npt_langevin_2000K', 119),\n",
       " ('bcc_npt_langevin_3700K', 146),\n",
       " ('liq_3700K', 71),\n",
       " ('liq_5000K', 122),\n",
       " ('relax', 7),\n",
       " ('eos_bcc', 9),\n",
       " ('eos_fcc', 10),\n",
       " ('eos', 10)]"
      ]
     },
     "execution_count": 160,
     "metadata": {},
     "output_type": "execute_result"
    }
   ],
   "source": [
    "[(k, len(v['energy'])) for k, v in trj_samples.items()]"
   ]
  },
  {
   "cell_type": "code",
   "execution_count": 161,
   "metadata": {},
   "outputs": [
    {
     "name": "stdout",
     "output_type": "stream",
     "text": [
      "bcc_npt_langevin_300K\n",
      "fcc_npt_langevin_300K\n",
      "301\n",
      "vac_npt_langevin_2000K\n",
      "537\n",
      "i110_npt_langevin_2000K\n",
      "630\n",
      "i111_npt_langevin_2000K\n",
      "726\n",
      "screw_111_npt_langevin_2000K\n",
      "845\n",
      "bcc_npt_langevin_3700K\n",
      "991\n",
      "liq_3700K\n",
      "1062\n",
      "liq_5000K\n",
      "1184\n",
      "relax\n",
      "eos_bcc\n",
      "eos_fcc\n",
      "eos\n"
     ]
    }
   ],
   "source": [
    "# join 0 K configurations into a pseudo-trajectory\n",
    "traj_md = copy.deepcopy(trj_samples['bcc_npt_langevin_300K'])\n",
    "\n",
    "for k, trj in trj_samples.items():\n",
    "    print(k)\n",
    "    if 'eos' in k or 'relax' in k or 'bcc_npt_langevin_300K' in k: \n",
    "        continue\n",
    "        \n",
    "    traj_md.append(trj)\n",
    "\n",
    "    print(len(traj_md['box']))"
   ]
  },
  {
   "cell_type": "code",
   "execution_count": 162,
   "metadata": {
    "collapsed": true
   },
   "outputs": [],
   "source": [
    "trj_fit = {'md':traj_md, 'relax':trj_samples['relax']}"
   ]
  },
  {
   "cell_type": "code",
   "execution_count": 163,
   "metadata": {},
   "outputs": [
    {
     "data": {
      "text/plain": [
       "(113, 3)"
      ]
     },
     "execution_count": 163,
     "metadata": {},
     "output_type": "execute_result"
    }
   ],
   "source": [
    "trj_fit['md']['xyz'][-1].shape"
   ]
  },
  {
   "cell_type": "code",
   "execution_count": 164,
   "metadata": {
    "collapsed": true
   },
   "outputs": [],
   "source": [
    "trj_fit['eos'] = traj_eos"
   ]
  },
  {
   "cell_type": "code",
   "execution_count": 165,
   "metadata": {
    "collapsed": true
   },
   "outputs": [],
   "source": [
    "trj_fit['eos_bcc'] = traj_eos_bcc"
   ]
  },
  {
   "cell_type": "code",
   "execution_count": 166,
   "metadata": {
    "collapsed": true
   },
   "outputs": [],
   "source": [
    "trj_fit['eos_fcc'] = traj_eos_fcc"
   ]
  },
  {
   "cell_type": "code",
   "execution_count": 167,
   "metadata": {},
   "outputs": [
    {
     "data": {
      "text/plain": [
       "dict_keys(['md', 'relax', 'eos', 'eos_bcc', 'eos_fcc'])"
      ]
     },
     "execution_count": 167,
     "metadata": {},
     "output_type": "execute_result"
    }
   ],
   "source": [
    "trj_fit.keys()"
   ]
  },
  {
   "cell_type": "code",
   "execution_count": 168,
   "metadata": {
    "collapsed": true
   },
   "outputs": [],
   "source": [
    "with open(os.path.join(working, \"trj_fit.pickle\"), 'wb') as fo:\n",
    "    pickle.dump(trj_fit, fo)"
   ]
  },
  {
   "cell_type": "code",
   "execution_count": 169,
   "metadata": {},
   "outputs": [
    {
     "name": "stdout",
     "output_type": "stream",
     "text": [
      "dataset # md\n",
      "dataset # relax\n",
      "dataset # eos\n",
      "dataset # eos_bcc\n",
      "dataset # eos_fcc\n"
     ]
    }
   ],
   "source": [
    "weights = {k:1.0 for k in trj_fit}\n",
    "weights['relax'] = 20.0\n",
    "weights['eos'] = 0.5\n",
    "weights['eos_bcc'] = 5\n",
    "weights['eos_fcc'] = 5\n",
    "\n",
    "\n",
    "target_data = {}\n",
    "\n",
    "for key, trj in trj_fit.items():\n",
    "    \n",
    "    print('dataset #', key)\n",
    "\n",
    "    # target data\n",
    "    target_dict = {'type':'trajectory', 'weight':weights[key]}\n",
    "    target_dict['box'] = trj['box']\n",
    "    target_dict['xyz'] = trj['xyz']\n",
    "    target_dict['energy'] = trj['energy']\n",
    "    target_dict['forces'] = force_targ(trj['forces'])\n",
    "    target_dict['temp'] = trj['temp']\n",
    "\n",
    "    # save inverse temperature data (if T=0, set beta=1/300)\n",
    "    target_dict['beta'] = np.empty_like(target_dict['temp'])\n",
    "    for i, temp in enumerate(target_dict['temp']):\n",
    "        if temp == 0.0:\n",
    "            target_dict['beta'][i] = 1.0/300.0\n",
    "        else:\n",
    "            target_dict['beta'][i] = 1.0/temp\n",
    "\n",
    "    target_dict['beta'] = list(target_dict['beta'])\n",
    "            \n",
    "    target_data[key] = target_dict"
   ]
  },
  {
   "cell_type": "code",
   "execution_count": 170,
   "metadata": {
    "collapsed": true
   },
   "outputs": [],
   "source": [
    "with open(os.path.join(working, \"target_complete.pickle\"), 'wb') as fo:\n",
    "    pickle.dump(target_data, fo)"
   ]
  },
  {
   "cell_type": "code",
   "execution_count": 171,
   "metadata": {
    "collapsed": true
   },
   "outputs": [],
   "source": [
    "# load target data\n",
    "with open(os.path.join(working, 'target_complete'+'.pickle'), 'rb') as fi:\n",
    "    targ_dict = pickle.load(fi)"
   ]
  },
  {
   "cell_type": "code",
   "execution_count": 173,
   "metadata": {
    "collapsed": true
   },
   "outputs": [],
   "source": [
    "#sc = [2.74, 3.252, 3.804, 4.356, 4.908, 5.46]\n",
    "#sc = [2.74, 3.25, 3.75, 4.5, 5.48]\n",
    "#sc = [2.375, 2.5, 2.75, 3.25, 3.75, 4.25, 4.5,  5., 5.5, 6.0 ]\n",
    "sc = [2.4, 2.45, 2.5, 2.65, 2.70, 2.72, 2.73, 2.74, 2.75, 2.77, 2.80, 2.85, 2.90,\n",
    "      3.0, 3.1, 3.2, 3.3, 3.45, 3.6, 3.75,\n",
    "      4.0, 4.1, 4.25, 4.356, 4.5, 4.65, 4.8,\n",
    "      5.0, 5.15, 5.3, 5.45, 5.6, 5.75]\n",
    "\n",
    "\n",
    "#index = [0, 1, 3, 5, 8, 10]\n"
   ]
  },
  {
   "cell_type": "code",
   "execution_count": 174,
   "metadata": {},
   "outputs": [
    {
     "name": "stdout",
     "output_type": "stream",
     "text": [
      "dataset # md\n",
      "conf 0\n",
      "conf 1\n",
      "conf 2\n",
      "conf 3\n",
      "conf 4\n",
      "conf 5\n",
      "conf 6\n",
      "conf 7\n",
      "conf 8\n",
      "conf 9\n",
      "conf 10\n",
      "conf 11\n",
      "conf 12\n",
      "conf 13\n",
      "conf 14\n",
      "conf 15\n",
      "conf 16\n",
      "conf 17\n",
      "conf 18\n",
      "conf 19\n",
      "conf 20\n",
      "conf 21\n",
      "conf 22\n",
      "conf 23\n",
      "conf 24\n",
      "conf 25\n",
      "conf 26\n",
      "conf 27\n",
      "conf 28\n",
      "conf 29\n",
      "conf 30\n",
      "conf 31\n",
      "conf 32\n",
      "conf 33\n",
      "conf 34\n",
      "conf 35\n",
      "conf 36\n",
      "conf 37\n",
      "conf 38\n",
      "conf 39\n",
      "conf 40\n",
      "conf 41\n",
      "conf 42\n",
      "conf 43\n",
      "conf 44\n",
      "conf 45\n",
      "conf 46\n",
      "conf 47\n",
      "conf 48\n",
      "conf 49\n",
      "conf 50\n",
      "conf 51\n",
      "conf 52\n",
      "conf 53\n",
      "conf 54\n",
      "conf 55\n",
      "conf 56\n",
      "conf 57\n",
      "conf 58\n",
      "conf 59\n",
      "conf 60\n",
      "conf 61\n",
      "conf 62\n",
      "conf 63\n",
      "conf 64\n",
      "conf 65\n",
      "conf 66\n",
      "conf 67\n",
      "conf 68\n",
      "conf 69\n",
      "conf 70\n",
      "conf 71\n",
      "conf 72\n",
      "conf 73\n",
      "conf 74\n",
      "conf 75\n",
      "conf 76\n",
      "conf 77\n",
      "conf 78\n",
      "conf 79\n",
      "conf 80\n",
      "conf 81\n",
      "conf 82\n",
      "conf 83\n",
      "conf 84\n",
      "conf 85\n",
      "conf 86\n",
      "conf 87\n",
      "conf 88\n",
      "conf 89\n",
      "conf 90\n",
      "conf 91\n",
      "conf 92\n",
      "conf 93\n",
      "conf 94\n",
      "conf 95\n",
      "conf 96\n",
      "conf 97\n",
      "conf 98\n",
      "conf 99\n",
      "conf 100\n",
      "conf 101\n",
      "conf 102\n",
      "conf 103\n",
      "conf 104\n",
      "conf 105\n",
      "conf 106\n",
      "conf 107\n",
      "conf 108\n",
      "conf 109\n",
      "conf 110\n",
      "conf 111\n",
      "conf 112\n",
      "conf 113\n",
      "conf 114\n",
      "conf 115\n",
      "conf 116\n",
      "conf 117\n",
      "conf 118\n",
      "conf 119\n",
      "conf 120\n",
      "conf 121\n",
      "conf 122\n",
      "conf 123\n",
      "conf 124\n",
      "conf 125\n",
      "conf 126\n",
      "conf 127\n",
      "conf 128\n",
      "conf 129\n",
      "conf 130\n",
      "conf 131\n",
      "conf 132\n",
      "conf 133\n",
      "conf 134\n",
      "conf 135\n",
      "conf 136\n",
      "conf 137\n",
      "conf 138\n",
      "conf 139\n",
      "conf 140\n",
      "conf 141\n",
      "conf 142\n",
      "conf 143\n",
      "conf 144\n",
      "conf 145\n",
      "conf 146\n",
      "conf 147\n",
      "conf 148\n",
      "conf 149\n",
      "conf 150\n",
      "conf 151\n",
      "conf 152\n",
      "conf 153\n",
      "conf 154\n",
      "conf 155\n",
      "conf 156\n",
      "conf 157\n",
      "conf 158\n",
      "conf 159\n",
      "conf 160\n",
      "conf 161\n",
      "conf 162\n",
      "conf 163\n",
      "conf 164\n",
      "conf 165\n",
      "conf 166\n",
      "conf 167\n",
      "conf 168\n",
      "conf 169\n",
      "conf 170\n",
      "conf 171\n",
      "conf 172\n",
      "conf 173\n",
      "conf 174\n",
      "conf 175\n",
      "conf 176\n",
      "conf 177\n",
      "conf 178\n",
      "conf 179\n",
      "conf 180\n",
      "conf 181\n",
      "conf 182\n",
      "conf 183\n",
      "conf 184\n",
      "conf 185\n",
      "conf 186\n",
      "conf 187\n",
      "conf 188\n",
      "conf 189\n",
      "conf 190\n",
      "conf 191\n",
      "conf 192\n",
      "conf 193\n",
      "conf 194\n",
      "conf 195\n",
      "conf 196\n",
      "conf 197\n",
      "conf 198\n",
      "conf 199\n",
      "conf 200\n",
      "conf 201\n",
      "conf 202\n",
      "conf 203\n",
      "conf 204\n",
      "conf 205\n",
      "conf 206\n",
      "conf 207\n",
      "conf 208\n",
      "conf 209\n",
      "conf 210\n",
      "conf 211\n",
      "conf 212\n",
      "conf 213\n",
      "conf 214\n",
      "conf 215\n",
      "conf 216\n",
      "conf 217\n",
      "conf 218\n",
      "conf 219\n",
      "conf 220\n",
      "conf 221\n",
      "conf 222\n",
      "conf 223\n",
      "conf 224\n",
      "conf 225\n",
      "conf 226\n",
      "conf 227\n",
      "conf 228\n",
      "conf 229\n",
      "conf 230\n",
      "conf 231\n",
      "conf 232\n",
      "conf 233\n",
      "conf 234\n",
      "conf 235\n",
      "conf 236\n",
      "conf 237\n",
      "conf 238\n",
      "conf 239\n",
      "conf 240\n",
      "conf 241\n",
      "conf 242\n",
      "conf 243\n",
      "conf 244\n",
      "conf 245\n",
      "conf 246\n",
      "conf 247\n",
      "conf 248\n",
      "conf 249\n",
      "conf 250\n",
      "conf 251\n",
      "conf 252\n",
      "conf 253\n",
      "conf 254\n",
      "conf 255\n",
      "conf 256\n",
      "conf 257\n",
      "conf 258\n",
      "conf 259\n",
      "conf 260\n",
      "conf 261\n",
      "conf 262\n",
      "conf 263\n",
      "conf 264\n",
      "conf 265\n",
      "conf 266\n",
      "conf 267\n",
      "conf 268\n",
      "conf 269\n",
      "conf 270\n",
      "conf 271\n",
      "conf 272\n",
      "conf 273\n",
      "conf 274\n",
      "conf 275\n",
      "conf 276\n",
      "conf 277\n",
      "conf 278\n",
      "conf 279\n",
      "conf 280\n",
      "conf 281\n",
      "conf 282\n",
      "conf 283\n",
      "conf 284\n",
      "conf 285\n",
      "conf 286\n",
      "conf 287\n",
      "conf 288\n",
      "conf 289\n",
      "conf 290\n",
      "conf 291\n",
      "conf 292\n",
      "conf 293\n",
      "conf 294\n",
      "conf 295\n",
      "conf 296\n",
      "conf 297\n",
      "conf 298\n",
      "conf 299\n",
      "conf 300\n",
      "conf 301\n",
      "conf 302\n",
      "conf 303\n",
      "conf 304\n",
      "conf 305\n",
      "conf 306\n",
      "conf 307\n",
      "conf 308\n",
      "conf 309\n",
      "conf 310\n",
      "conf 311\n",
      "conf 312\n",
      "conf 313\n",
      "conf 314\n",
      "conf 315\n",
      "conf 316\n",
      "conf 317\n",
      "conf 318\n",
      "conf 319\n",
      "conf 320\n",
      "conf 321\n",
      "conf 322\n",
      "conf 323\n",
      "conf 324\n",
      "conf 325\n",
      "conf 326\n",
      "conf 327\n",
      "conf 328\n",
      "conf 329\n",
      "conf 330\n",
      "conf 331\n",
      "conf 332\n",
      "conf 333\n",
      "conf 334\n",
      "conf 335\n",
      "conf 336\n",
      "conf 337\n",
      "conf 338\n",
      "conf 339\n",
      "conf 340\n",
      "conf 341\n",
      "conf 342\n",
      "conf 343\n",
      "conf 344\n",
      "conf 345\n",
      "conf 346\n",
      "conf 347\n",
      "conf 348\n",
      "conf 349\n",
      "conf 350\n",
      "conf 351\n",
      "conf 352\n",
      "conf 353\n",
      "conf 354\n",
      "conf 355\n",
      "conf 356\n",
      "conf 357\n",
      "conf 358\n",
      "conf 359\n",
      "conf 360\n",
      "conf 361\n",
      "conf 362\n",
      "conf 363\n",
      "conf 364\n",
      "conf 365\n",
      "conf 366\n",
      "conf 367\n",
      "conf 368\n",
      "conf 369\n",
      "conf 370\n",
      "conf 371\n",
      "conf 372\n",
      "conf 373\n",
      "conf 374\n",
      "conf 375\n",
      "conf 376\n",
      "conf 377\n",
      "conf 378\n",
      "conf 379\n",
      "conf 380\n",
      "conf 381\n",
      "conf 382\n",
      "conf 383\n",
      "conf 384\n",
      "conf 385\n",
      "conf 386\n",
      "conf 387\n",
      "conf 388\n",
      "conf 389\n",
      "conf 390\n",
      "conf 391\n",
      "conf 392\n",
      "conf 393\n",
      "conf 394\n",
      "conf 395\n",
      "conf 396\n",
      "conf 397\n",
      "conf 398\n",
      "conf 399\n",
      "conf 400\n",
      "conf 401\n",
      "conf 402\n",
      "conf 403\n",
      "conf 404\n",
      "conf 405\n",
      "conf 406\n",
      "conf 407\n",
      "conf 408\n",
      "conf 409\n",
      "conf 410\n",
      "conf 411\n",
      "conf 412\n",
      "conf 413\n",
      "conf 414\n",
      "conf 415\n",
      "conf 416\n",
      "conf 417\n",
      "conf 418\n",
      "conf 419\n",
      "conf 420\n",
      "conf 421\n",
      "conf 422\n",
      "conf 423\n",
      "conf 424\n",
      "conf 425\n",
      "conf 426\n",
      "conf 427\n",
      "conf 428\n",
      "conf 429\n",
      "conf 430\n",
      "conf 431\n",
      "conf 432\n",
      "conf 433\n",
      "conf 434\n",
      "conf 435\n",
      "conf 436\n",
      "conf 437\n",
      "conf 438\n",
      "conf 439\n",
      "conf 440\n",
      "conf 441\n",
      "conf 442\n",
      "conf 443\n",
      "conf 444\n",
      "conf 445\n",
      "conf 446\n",
      "conf 447\n",
      "conf 448\n",
      "conf 449\n",
      "conf 450\n",
      "conf 451\n",
      "conf 452\n",
      "conf 453\n",
      "conf 454\n",
      "conf 455\n",
      "conf 456\n",
      "conf 457\n",
      "conf 458\n",
      "conf 459\n",
      "conf 460\n",
      "conf 461\n",
      "conf 462\n",
      "conf 463\n",
      "conf 464\n",
      "conf 465\n",
      "conf 466\n",
      "conf 467\n",
      "conf 468\n",
      "conf 469\n",
      "conf 470\n",
      "conf 471\n",
      "conf 472\n",
      "conf 473\n",
      "conf 474\n",
      "conf 475\n",
      "conf 476\n",
      "conf 477\n",
      "conf 478\n",
      "conf 479\n",
      "conf 480\n",
      "conf 481\n",
      "conf 482\n",
      "conf 483\n",
      "conf 484\n",
      "conf 485\n",
      "conf 486\n",
      "conf 487\n",
      "conf 488\n",
      "conf 489\n",
      "conf 490\n",
      "conf 491\n",
      "conf 492\n",
      "conf 493\n",
      "conf 494\n",
      "conf 495\n",
      "conf 496\n",
      "conf 497\n",
      "conf 498\n",
      "conf 499\n",
      "conf 500\n",
      "conf 501\n",
      "conf 502\n",
      "conf 503\n",
      "conf 504\n",
      "conf 505\n",
      "conf 506\n",
      "conf 507\n",
      "conf 508\n",
      "conf 509\n",
      "conf 510\n",
      "conf 511\n",
      "conf 512\n",
      "conf 513\n",
      "conf 514\n",
      "conf 515\n",
      "conf 516\n",
      "conf 517\n",
      "conf 518\n",
      "conf 519\n",
      "conf 520\n",
      "conf 521\n",
      "conf 522\n",
      "conf 523\n",
      "conf 524\n",
      "conf 525\n",
      "conf 526\n",
      "conf 527\n",
      "conf 528\n",
      "conf 529\n",
      "conf 530\n",
      "conf 531\n",
      "conf 532\n",
      "conf 533\n",
      "conf 534\n",
      "conf 535\n",
      "conf 536\n",
      "conf 537\n",
      "conf 538\n",
      "conf 539\n",
      "conf 540\n",
      "conf 541\n",
      "conf 542\n",
      "conf 543\n",
      "conf 544\n",
      "conf 545\n",
      "conf 546\n",
      "conf 547\n",
      "conf 548\n",
      "conf 549\n",
      "conf 550\n",
      "conf 551\n",
      "conf 552\n",
      "conf 553\n",
      "conf 554\n",
      "conf 555\n",
      "conf 556\n",
      "conf 557\n",
      "conf 558\n",
      "conf 559\n",
      "conf 560\n",
      "conf 561\n",
      "conf 562\n",
      "conf 563\n",
      "conf 564\n",
      "conf 565\n",
      "conf 566\n",
      "conf 567\n",
      "conf 568\n",
      "conf 569\n",
      "conf 570\n",
      "conf 571\n",
      "conf 572\n",
      "conf 573\n",
      "conf 574\n",
      "conf 575\n",
      "conf 576\n",
      "conf 577\n",
      "conf 578\n",
      "conf 579\n",
      "conf 580\n",
      "conf 581\n",
      "conf 582\n",
      "conf 583\n",
      "conf 584\n",
      "conf 585\n",
      "conf 586\n",
      "conf 587\n",
      "conf 588\n",
      "conf 589\n",
      "conf 590\n",
      "conf 591\n",
      "conf 592\n",
      "conf 593\n",
      "conf 594\n",
      "conf 595\n",
      "conf 596\n",
      "conf 597\n",
      "conf 598\n",
      "conf 599\n",
      "conf 600\n",
      "conf 601\n",
      "conf 602\n",
      "conf 603\n",
      "conf 604\n",
      "conf 605\n",
      "conf 606\n",
      "conf 607\n",
      "conf 608\n",
      "conf 609\n",
      "conf 610\n",
      "conf 611\n",
      "conf 612\n",
      "conf 613\n",
      "conf 614\n",
      "conf 615\n",
      "conf 616\n",
      "conf 617\n",
      "conf 618\n",
      "conf 619\n",
      "conf 620\n",
      "conf 621\n",
      "conf 622\n",
      "conf 623\n",
      "conf 624\n",
      "conf 625\n",
      "conf 626\n",
      "conf 627\n",
      "conf 628\n",
      "conf 629\n",
      "conf 630\n",
      "conf 631\n",
      "conf 632\n",
      "conf 633\n",
      "conf 634\n",
      "conf 635\n",
      "conf 636\n",
      "conf 637\n",
      "conf 638\n",
      "conf 639\n",
      "conf 640\n",
      "conf 641\n",
      "conf 642\n",
      "conf 643\n",
      "conf 644\n",
      "conf 645\n",
      "conf 646\n",
      "conf 647\n",
      "conf 648\n",
      "conf 649\n",
      "conf 650\n",
      "conf 651\n",
      "conf 652\n",
      "conf 653\n",
      "conf 654\n",
      "conf 655\n",
      "conf 656\n",
      "conf 657\n",
      "conf 658\n",
      "conf 659\n",
      "conf 660\n",
      "conf 661\n",
      "conf 662\n",
      "conf 663\n",
      "conf 664\n",
      "conf 665\n",
      "conf 666\n",
      "conf 667\n",
      "conf 668\n",
      "conf 669\n",
      "conf 670\n",
      "conf 671\n",
      "conf 672\n",
      "conf 673\n",
      "conf 674\n",
      "conf 675\n",
      "conf 676\n",
      "conf 677\n",
      "conf 678\n",
      "conf 679\n",
      "conf 680\n",
      "conf 681\n",
      "conf 682\n",
      "conf 683\n",
      "conf 684\n",
      "conf 685\n",
      "conf 686\n",
      "conf 687\n",
      "conf 688\n",
      "conf 689\n",
      "conf 690\n",
      "conf 691\n",
      "conf 692\n",
      "conf 693\n",
      "conf 694\n",
      "conf 695\n",
      "conf 696\n",
      "conf 697\n",
      "conf 698\n",
      "conf 699\n",
      "conf 700\n",
      "conf 701\n",
      "conf 702\n",
      "conf 703\n",
      "conf 704\n",
      "conf 705\n",
      "conf 706\n",
      "conf 707\n",
      "conf 708\n",
      "conf 709\n",
      "conf 710\n",
      "conf 711\n",
      "conf 712\n",
      "conf 713\n",
      "conf 714\n",
      "conf 715\n",
      "conf 716\n",
      "conf 717\n",
      "conf 718\n",
      "conf 719\n",
      "conf 720\n",
      "conf 721\n",
      "conf 722\n",
      "conf 723\n",
      "conf 724\n",
      "conf 725\n",
      "conf 726\n",
      "Replicating: 1 5 1\n",
      "conf 727\n",
      "Replicating: 1 5 1\n",
      "conf 728\n",
      "Replicating: 1 5 1\n",
      "conf 729\n",
      "Replicating: 1 5 1\n",
      "conf 730\n",
      "Replicating: 1 5 1\n",
      "conf 731\n",
      "Replicating: 1 5 1\n",
      "conf 732\n",
      "Replicating: 1 5 1\n",
      "conf 733\n",
      "Replicating: 1 5 1\n",
      "conf 734\n",
      "Replicating: 1 5 1\n",
      "conf 735\n",
      "Replicating: 1 5 1\n",
      "conf 736\n",
      "Replicating: 1 5 1\n",
      "conf 737\n",
      "Replicating: 1 5 1\n",
      "conf 738\n",
      "Replicating: 1 5 1\n",
      "conf 739\n",
      "Replicating: 1 5 1\n",
      "conf 740\n",
      "Replicating: 1 5 1\n",
      "conf 741\n",
      "Replicating: 1 5 1\n",
      "conf 742\n",
      "Replicating: 1 5 1\n",
      "conf 743\n",
      "Replicating: 1 5 1\n",
      "conf 744\n",
      "Replicating: 1 5 1\n",
      "conf 745\n",
      "Replicating: 1 5 1\n",
      "conf 746\n",
      "Replicating: 1 5 1\n",
      "conf 747\n",
      "Replicating: 1 5 1\n",
      "conf 748\n",
      "Replicating: 1 5 1\n",
      "conf 749\n",
      "Replicating: 1 5 1\n",
      "conf 750\n",
      "Replicating: 1 5 1\n",
      "conf 751\n",
      "Replicating: 1 5 1\n",
      "conf 752\n",
      "Replicating: 1 5 1\n",
      "conf 753\n",
      "Replicating: 1 5 1\n",
      "conf 754\n",
      "Replicating: 1 5 1\n",
      "conf 755\n",
      "Replicating: 1 5 1\n",
      "conf 756\n",
      "Replicating: 1 5 1\n",
      "conf 757\n",
      "Replicating: 1 5 1\n",
      "conf 758\n",
      "Replicating: 1 5 1\n",
      "conf 759\n",
      "Replicating: 1 5 1\n",
      "conf 760\n",
      "Replicating: 1 5 1\n",
      "conf 761\n",
      "Replicating: 1 5 1\n",
      "conf 762\n",
      "Replicating: 1 5 1\n",
      "conf 763\n",
      "Replicating: 1 5 1\n",
      "conf 764\n",
      "Replicating: 1 5 1\n",
      "conf 765\n",
      "Replicating: 1 5 1\n",
      "conf 766\n",
      "Replicating: 1 5 1\n",
      "conf 767\n",
      "Replicating: 1 5 1\n",
      "conf 768\n",
      "Replicating: 1 5 1\n",
      "conf 769\n",
      "Replicating: 1 5 1\n",
      "conf 770\n",
      "Replicating: 1 5 1\n",
      "conf 771\n",
      "Replicating: 1 5 1\n",
      "conf 772\n",
      "Replicating: 1 5 1\n",
      "conf 773\n",
      "Replicating: 1 5 1\n",
      "conf 774\n",
      "Replicating: 1 5 1\n",
      "conf 775\n",
      "Replicating: 1 5 1\n",
      "conf 776\n",
      "Replicating: 1 5 1\n",
      "conf 777\n",
      "Replicating: 1 5 1\n",
      "conf 778\n",
      "Replicating: 1 5 1\n",
      "conf 779\n",
      "Replicating: 1 5 1\n",
      "conf 780\n",
      "Replicating: 1 5 1\n",
      "conf 781\n",
      "Replicating: 1 5 1\n",
      "conf 782\n",
      "Replicating: 1 5 1\n",
      "conf 783\n",
      "Replicating: 1 5 1\n",
      "conf 784\n",
      "Replicating: 1 5 1\n",
      "conf 785\n",
      "Replicating: 1 5 1\n",
      "conf 786\n",
      "Replicating: 1 5 1\n",
      "conf 787\n",
      "Replicating: 1 5 1\n",
      "conf 788\n",
      "Replicating: 1 5 1\n"
     ]
    },
    {
     "name": "stdout",
     "output_type": "stream",
     "text": [
      "conf 789\n",
      "Replicating: 1 5 1\n",
      "conf 790\n",
      "Replicating: 1 5 1\n",
      "conf 791\n",
      "Replicating: 1 5 1\n",
      "conf 792\n",
      "Replicating: 1 5 1\n",
      "conf 793\n",
      "Replicating: 1 5 1\n",
      "conf 794\n",
      "Replicating: 1 5 1\n",
      "conf 795\n",
      "Replicating: 1 5 1\n",
      "conf 796\n",
      "Replicating: 1 5 1\n",
      "conf 797\n",
      "Replicating: 1 5 1\n",
      "conf 798\n",
      "Replicating: 1 5 1\n",
      "conf 799\n",
      "Replicating: 1 5 1\n",
      "conf 800\n",
      "Replicating: 1 5 1\n",
      "conf 801\n",
      "Replicating: 1 5 1\n",
      "conf 802\n",
      "Replicating: 1 5 1\n",
      "conf 803\n",
      "Replicating: 1 5 1\n",
      "conf 804\n",
      "Replicating: 1 5 1\n",
      "conf 805\n",
      "Replicating: 1 5 1\n",
      "conf 806\n",
      "Replicating: 1 5 1\n",
      "conf 807\n",
      "Replicating: 1 5 1\n",
      "conf 808\n",
      "Replicating: 1 5 1\n",
      "conf 809\n",
      "Replicating: 1 5 1\n",
      "conf 810\n",
      "Replicating: 1 5 1\n",
      "conf 811\n",
      "Replicating: 1 5 1\n",
      "conf 812\n",
      "Replicating: 1 5 1\n",
      "conf 813\n",
      "Replicating: 1 5 1\n",
      "conf 814\n",
      "Replicating: 1 5 1\n",
      "conf 815\n",
      "Replicating: 1 5 1\n",
      "conf 816\n",
      "Replicating: 1 5 1\n",
      "conf 817\n",
      "Replicating: 1 5 1\n",
      "conf 818\n",
      "Replicating: 1 5 1\n",
      "conf 819\n",
      "Replicating: 1 5 1\n",
      "conf 820\n",
      "Replicating: 1 5 1\n",
      "conf 821\n",
      "Replicating: 1 5 1\n",
      "conf 822\n",
      "Replicating: 1 5 1\n",
      "conf 823\n",
      "Replicating: 1 5 1\n",
      "conf 824\n",
      "Replicating: 1 5 1\n",
      "conf 825\n",
      "Replicating: 1 5 1\n",
      "conf 826\n",
      "Replicating: 1 5 1\n",
      "conf 827\n",
      "Replicating: 1 5 1\n",
      "conf 828\n",
      "Replicating: 1 5 1\n",
      "conf 829\n",
      "Replicating: 1 5 1\n",
      "conf 830\n",
      "Replicating: 1 5 1\n",
      "conf 831\n",
      "Replicating: 1 5 1\n",
      "conf 832\n",
      "Replicating: 1 5 1\n",
      "conf 833\n",
      "Replicating: 1 5 1\n",
      "conf 834\n",
      "Replicating: 1 5 1\n",
      "conf 835\n",
      "Replicating: 1 5 1\n",
      "conf 836\n",
      "Replicating: 1 5 1\n",
      "conf 837\n",
      "Replicating: 1 5 1\n",
      "conf 838\n",
      "Replicating: 1 5 1\n",
      "conf 839\n",
      "Replicating: 1 5 1\n",
      "conf 840\n",
      "Replicating: 1 5 1\n",
      "conf 841\n",
      "Replicating: 1 5 1\n",
      "conf 842\n",
      "Replicating: 1 5 1\n",
      "conf 843\n",
      "Replicating: 1 5 1\n",
      "conf 844\n",
      "Replicating: 1 5 1\n",
      "conf 845\n",
      "conf 846\n",
      "conf 847\n",
      "conf 848\n",
      "conf 849\n",
      "conf 850\n",
      "conf 851\n",
      "conf 852\n",
      "conf 853\n",
      "conf 854\n",
      "conf 855\n",
      "conf 856\n",
      "conf 857\n",
      "conf 858\n",
      "conf 859\n",
      "conf 860\n",
      "conf 861\n",
      "conf 862\n",
      "conf 863\n",
      "conf 864\n",
      "conf 865\n",
      "conf 866\n",
      "conf 867\n",
      "conf 868\n",
      "conf 869\n",
      "conf 870\n",
      "conf 871\n",
      "conf 872\n",
      "conf 873\n",
      "conf 874\n",
      "conf 875\n",
      "conf 876\n",
      "conf 877\n",
      "conf 878\n",
      "conf 879\n",
      "conf 880\n",
      "conf 881\n",
      "conf 882\n",
      "conf 883\n",
      "conf 884\n",
      "conf 885\n",
      "conf 886\n",
      "conf 887\n",
      "conf 888\n",
      "conf 889\n",
      "conf 890\n",
      "conf 891\n",
      "conf 892\n",
      "conf 893\n",
      "conf 894\n",
      "conf 895\n",
      "conf 896\n",
      "conf 897\n",
      "conf 898\n",
      "conf 899\n",
      "conf 900\n",
      "conf 901\n",
      "conf 902\n",
      "conf 903\n",
      "conf 904\n",
      "conf 905\n",
      "conf 906\n",
      "conf 907\n",
      "conf 908\n",
      "conf 909\n",
      "conf 910\n",
      "conf 911\n",
      "conf 912\n",
      "conf 913\n",
      "conf 914\n",
      "conf 915\n",
      "conf 916\n",
      "conf 917\n",
      "conf 918\n",
      "conf 919\n",
      "conf 920\n",
      "conf 921\n",
      "conf 922\n",
      "conf 923\n",
      "conf 924\n",
      "conf 925\n",
      "conf 926\n",
      "conf 927\n",
      "conf 928\n",
      "conf 929\n",
      "conf 930\n",
      "conf 931\n",
      "conf 932\n",
      "conf 933\n",
      "conf 934\n",
      "conf 935\n",
      "conf 936\n",
      "conf 937\n",
      "conf 938\n",
      "conf 939\n",
      "conf 940\n",
      "conf 941\n",
      "conf 942\n",
      "conf 943\n",
      "conf 944\n",
      "conf 945\n",
      "conf 946\n",
      "conf 947\n",
      "conf 948\n",
      "conf 949\n",
      "conf 950\n",
      "conf 951\n",
      "conf 952\n",
      "conf 953\n",
      "conf 954\n",
      "conf 955\n",
      "conf 956\n",
      "conf 957\n",
      "conf 958\n",
      "conf 959\n",
      "conf 960\n",
      "conf 961\n",
      "conf 962\n",
      "conf 963\n",
      "conf 964\n",
      "conf 965\n",
      "conf 966\n",
      "conf 967\n",
      "conf 968\n",
      "conf 969\n",
      "conf 970\n",
      "conf 971\n",
      "conf 972\n",
      "conf 973\n",
      "conf 974\n",
      "conf 975\n",
      "conf 976\n",
      "conf 977\n",
      "conf 978\n",
      "conf 979\n",
      "conf 980\n",
      "conf 981\n",
      "conf 982\n",
      "conf 983\n",
      "conf 984\n",
      "conf 985\n",
      "conf 986\n",
      "conf 987\n",
      "conf 988\n",
      "conf 989\n",
      "conf 990\n",
      "conf 991\n",
      "conf 992\n",
      "conf 993\n",
      "conf 994\n",
      "conf 995\n",
      "conf 996\n",
      "conf 997\n",
      "conf 998\n",
      "conf 999\n",
      "conf 1000\n",
      "conf 1001\n",
      "conf 1002\n",
      "conf 1003\n",
      "conf 1004\n",
      "conf 1005\n",
      "conf 1006\n",
      "conf 1007\n",
      "conf 1008\n",
      "conf 1009\n",
      "conf 1010\n",
      "conf 1011\n",
      "conf 1012\n",
      "conf 1013\n",
      "conf 1014\n",
      "conf 1015\n",
      "conf 1016\n",
      "conf 1017\n",
      "conf 1018\n",
      "conf 1019\n",
      "conf 1020\n",
      "conf 1021\n",
      "conf 1022\n",
      "conf 1023\n",
      "conf 1024\n",
      "conf 1025\n",
      "conf 1026\n",
      "conf 1027\n",
      "conf 1028\n",
      "conf 1029\n",
      "conf 1030\n",
      "conf 1031\n",
      "conf 1032\n",
      "conf 1033\n",
      "conf 1034\n",
      "conf 1035\n",
      "conf 1036\n",
      "conf 1037\n",
      "conf 1038\n",
      "conf 1039\n",
      "conf 1040\n",
      "conf 1041\n",
      "conf 1042\n",
      "conf 1043\n",
      "conf 1044\n",
      "conf 1045\n",
      "conf 1046\n",
      "conf 1047\n",
      "conf 1048\n",
      "conf 1049\n",
      "conf 1050\n",
      "conf 1051\n",
      "conf 1052\n",
      "conf 1053\n",
      "conf 1054\n",
      "conf 1055\n",
      "conf 1056\n",
      "conf 1057\n",
      "conf 1058\n",
      "conf 1059\n",
      "conf 1060\n",
      "conf 1061\n",
      "conf 1062\n",
      "conf 1063\n",
      "conf 1064\n",
      "conf 1065\n",
      "conf 1066\n",
      "conf 1067\n",
      "conf 1068\n",
      "conf 1069\n",
      "conf 1070\n",
      "conf 1071\n",
      "conf 1072\n",
      "conf 1073\n",
      "conf 1074\n",
      "conf 1075\n",
      "conf 1076\n",
      "conf 1077\n",
      "conf 1078\n",
      "conf 1079\n",
      "conf 1080\n",
      "conf 1081\n",
      "conf 1082\n",
      "conf 1083\n",
      "conf 1084\n",
      "conf 1085\n",
      "conf 1086\n",
      "conf 1087\n",
      "conf 1088\n",
      "conf 1089\n",
      "conf 1090\n",
      "conf 1091\n",
      "conf 1092\n",
      "conf 1093\n",
      "conf 1094\n",
      "conf 1095\n",
      "conf 1096\n",
      "conf 1097\n",
      "conf 1098\n",
      "conf 1099\n",
      "conf 1100\n",
      "conf 1101\n",
      "conf 1102\n",
      "conf 1103\n",
      "conf 1104\n",
      "conf 1105\n",
      "conf 1106\n",
      "conf 1107\n",
      "conf 1108\n",
      "conf 1109\n",
      "conf 1110\n",
      "conf 1111\n",
      "conf 1112\n",
      "conf 1113\n",
      "conf 1114\n",
      "conf 1115\n",
      "conf 1116\n",
      "conf 1117\n",
      "conf 1118\n",
      "conf 1119\n",
      "conf 1120\n",
      "conf 1121\n",
      "conf 1122\n",
      "conf 1123\n",
      "conf 1124\n",
      "conf 1125\n",
      "conf 1126\n",
      "conf 1127\n",
      "conf 1128\n",
      "conf 1129\n",
      "conf 1130\n",
      "conf 1131\n",
      "conf 1132\n",
      "conf 1133\n",
      "conf 1134\n",
      "conf 1135\n",
      "conf 1136\n",
      "conf 1137\n",
      "conf 1138\n",
      "conf 1139\n",
      "conf 1140\n",
      "conf 1141\n",
      "conf 1142\n",
      "conf 1143\n",
      "conf 1144\n",
      "conf 1145\n",
      "conf 1146\n",
      "conf 1147\n",
      "conf 1148\n",
      "conf 1149\n",
      "conf 1150\n",
      "conf 1151\n",
      "conf 1152\n",
      "conf 1153\n",
      "conf 1154\n",
      "conf 1155\n",
      "conf 1156\n",
      "conf 1157\n",
      "conf 1158\n",
      "conf 1159\n",
      "conf 1160\n",
      "conf 1161\n",
      "conf 1162\n",
      "conf 1163\n",
      "conf 1164\n",
      "conf 1165\n",
      "conf 1166\n",
      "conf 1167\n",
      "conf 1168\n",
      "conf 1169\n",
      "conf 1170\n",
      "conf 1171\n",
      "conf 1172\n",
      "conf 1173\n",
      "conf 1174\n",
      "conf 1175\n",
      "conf 1176\n",
      "conf 1177\n",
      "conf 1178\n",
      "conf 1179\n",
      "conf 1180\n",
      "conf 1181\n",
      "conf 1182\n",
      "conf 1183\n",
      "dataset # relax\n",
      "conf 0\n",
      "conf 1\n",
      "conf 2\n",
      "conf 3\n",
      "conf 4\n",
      "conf 5\n",
      "Replicating: 1 5 1\n",
      "conf 6\n",
      "dataset # eos\n",
      "conf 0\n",
      "conf 1\n",
      "Replicating: 2 2 2\n",
      "conf 2\n",
      "Replicating: 2 2 2\n",
      "conf 3\n",
      "conf 4\n",
      "conf 5\n",
      "conf 6\n",
      "conf 7\n",
      "conf 8\n",
      "conf 9\n",
      "dataset # eos_bcc\n",
      "conf 0\n",
      "conf 1\n",
      "conf 2\n",
      "conf 3\n",
      "conf 4\n",
      "conf 5\n",
      "conf 6\n",
      "conf 7\n",
      "conf 8\n",
      "dataset # eos_fcc\n",
      "conf 0\n",
      "conf 1\n",
      "conf 2\n",
      "Replicating: 2 2 2\n",
      "conf 3\n",
      "conf 4\n",
      "conf 5\n",
      "conf 6\n",
      "conf 7\n",
      "conf 8\n",
      "conf 9\n"
     ]
    }
   ],
   "source": [
    "stats_data = {}\n",
    "\n",
    "stats_data['function'] = 'EAM-cubic-spline'\n",
    "stats_data['hyperparams'] = sc\n",
    "\n",
    "for key, trj in trj_fit.items():\n",
    "    \n",
    "    print('dataset #', key)\n",
    "#    if 'relax' not in key:\n",
    "#        continue\n",
    "\n",
    "    # statistics data\n",
    "    stats_dict = {'energy':[], 'forces':[]}\n",
    "    for ii, (xyz, box) in enumerate(zip(trj['xyz'], trj['box'])):\n",
    "        print('conf', ii)\n",
    "        \n",
    "        a1, ar, a2, f1, fr, f2 = get_stats_EAM_pairdist(xyz, box, sc=sc)\n",
    "\n",
    "        #print(xyz.shape, box)\n",
    "        #print('x', a1.shape, rr.shape, np.sum(np.abs(a1)))\n",
    "        #print('x', a1.shape, ar, a1, a2)\n",
    "        \n",
    "        stats_dict['energy'].append(np.array([ar, a2, a1]))\n",
    "        stats_dict['forces'].append(np.array([fr, f2, f1]))\n",
    "\n",
    "        #stats_dict['forces'].append(np.array([fr, f2, f1]))\n",
    "               # add dataset\n",
    "            \n",
    "        #print('conf:', len(traj['xyz']), box.max())\n",
    "        # plot pair distances - \n",
    "        #if ii == 10:\n",
    "        #    plt.hist(rr.flatten(),100, alpha=1.0,label=key, histtype='step')\n",
    "        #    plt.xlim(2,6)\n",
    "        #    plt.ylim(0,1500)\n",
    "            \n",
    "    #plt.legend()\n",
    "    stats_data[key] = stats_dict\n",
    "    \n",
    "with open(os.path.join(working, \"stats_backup.pickle\"), 'wb') as fo:\n",
    "    pickle.dump(stats_data, fo)"
   ]
  },
  {
   "cell_type": "code",
   "execution_count": 178,
   "metadata": {},
   "outputs": [
    {
     "data": {
      "text/plain": [
       "[(0, array([[0.00000000e+00, 0.00000000e+00, 0.00000000e+00, 0.00000000e+00,\n",
       "          0.00000000e+00, 0.00000000e+00, 0.00000000e+00, 0.00000000e+00,\n",
       "          0.00000000e+00, 3.97877344e-01, 2.96713895e+00, 9.88105080e+00,\n",
       "          1.90968741e+01, 4.27397943e+01, 7.19807902e+01, 1.05900954e+02,\n",
       "          1.44424622e+02, 2.12094835e+02, 2.91258312e+02, 3.80847597e+02,\n",
       "          5.50703944e+02, 6.25169446e+02, 7.43292834e+02, 8.31179888e+02,\n",
       "          9.56126091e+02, 1.09303139e+03, 1.23772394e+03, 1.44385975e+03,\n",
       "          1.60867205e+03, 1.78223976e+03, 1.96489622e+03, 2.15797587e+03,\n",
       "          2.36273278e+03],\n",
       "         [0.00000000e+00, 0.00000000e+00, 0.00000000e+00, 0.00000000e+00,\n",
       "          0.00000000e+00, 0.00000000e+00, 0.00000000e+00, 0.00000000e+00,\n",
       "          0.00000000e+00, 1.19499732e-08, 3.69591208e-05, 4.54551001e-03,\n",
       "          6.34189762e-02, 1.59110852e+00, 1.28007829e+01, 5.99749067e+01,\n",
       "          2.07460322e+02, 9.64918112e+02, 3.43149528e+03, 1.00317100e+04,\n",
       "          4.38573957e+04, 7.28385127e+04, 1.45549218e+05, 2.27588438e+05,\n",
       "          3.98502243e+05, 6.80613597e+05, 1.11909063e+06, 2.07238354e+06,\n",
       "          3.19330320e+06, 4.81099160e+06, 7.10769130e+06, 1.03408546e+07,\n",
       "          1.48603321e+07],\n",
       "         [0.00000000e+00, 0.00000000e+00, 0.00000000e+00, 0.00000000e+00,\n",
       "          0.00000000e+00, 0.00000000e+00, 0.00000000e+00, 0.00000000e+00,\n",
       "          0.00000000e+00, 1.23676860e-03, 6.87805748e-02, 7.62774725e-01,\n",
       "          2.84914530e+00, 1.42710157e+01, 4.04783919e+01, 8.76172818e+01,\n",
       "          1.62956808e+02, 3.51439210e+02, 6.62745347e+02, 1.13316322e+03,\n",
       "          2.36933464e+03, 3.05341278e+03, 4.31628311e+03, 5.39734380e+03,\n",
       "          7.14200861e+03, 9.33373132e+03, 1.19684418e+04, 1.62869608e+04,\n",
       "          2.02173888e+04, 2.48154574e+04, 3.01626339e+04, 3.63817178e+04,\n",
       "          4.36133295e+04]])),\n",
       " (1, array([[4.61287774e+00, 1.22392268e+01, 2.19971921e+01, 6.08481418e+01,\n",
       "          7.64319643e+01, 8.29904771e+01, 8.63409880e+01, 8.97420528e+01,\n",
       "          9.31955206e+01, 1.00265376e+02, 1.11291988e+02, 1.30825555e+02,\n",
       "          1.51808086e+02, 1.97983358e+02, 2.49433975e+02, 3.05747681e+02,\n",
       "          3.66560603e+02, 4.65557284e+02, 5.73156609e+02, 6.88698975e+02,\n",
       "          8.98059617e+02, 9.88336064e+02, 1.13149698e+03, 1.23839202e+03,\n",
       "          1.39120973e+03, 1.56007500e+03, 1.74043464e+03, 2.00136114e+03,\n",
       "          2.21350488e+03, 2.44006559e+03, 2.68097774e+03, 2.93608707e+03,\n",
       "          3.20529169e+03],\n",
       "         [2.15902599e-04, 1.07000554e-02, 1.11644950e-01, 6.53671230e+00,\n",
       "          1.62730956e+01, 2.26195070e+01, 2.64995285e+01, 3.09281605e+01,\n",
       "          3.59708124e+01, 4.81918988e+01, 7.31519144e+01, 1.39681998e+02,\n",
       "          2.53250148e+02, 7.32630226e+02, 1.84583348e+03, 4.16699305e+03,\n",
       "          8.60901045e+03, 2.24007519e+04, 5.14592329e+04, 1.07272360e+05,\n",
       "          3.10163553e+05, 4.54976184e+05, 7.81598447e+05, 1.12150875e+06,\n",
       "          1.78624293e+06, 2.82456779e+06, 4.37523077e+06, 7.65018508e+06,\n",
       "          1.14470091e+07, 1.69034787e+07, 2.46344531e+07, 3.54360913e+07,\n",
       "          5.03315517e+07],\n",
       "         [1.66239383e-01, 1.17030214e+00, 3.78028486e+00, 2.89257528e+01,\n",
       "          4.56394153e+01, 5.38079632e+01, 5.82403610e+01, 6.29190316e+01,\n",
       "          6.78547270e+01, 7.85402002e+01, 9.67648957e+01, 1.33713484e+02,\n",
       "          1.80044491e+02, 3.06229765e+02, 4.86072716e+02, 7.30325345e+02,\n",
       "          1.04973965e+03, 1.69330926e+03, 2.56647264e+03, 3.70551780e+03,\n",
       "          6.30086778e+03, 7.63131388e+03, 1.00022298e+04, 1.19813655e+04,\n",
       "          1.51208166e+04, 1.90143282e+04, 2.36649432e+04, 3.12925501e+04,\n",
       "          3.82781553e+04, 4.65150005e+04, 5.61534504e+04, 6.73484943e+04,\n",
       "          8.02648031e+04]])),\n",
       " (2, array([[0.00000000e+00, 0.00000000e+00, 7.73233647e-01, 2.46154096e+01,\n",
       "          3.64918761e+01, 4.16614662e+01, 4.43306166e+01, 4.70544533e+01,\n",
       "          4.98318995e+01, 5.55436144e+01, 6.44895803e+01, 8.03556114e+01,\n",
       "          9.73612878e+01, 1.35266975e+02, 1.78769670e+02, 2.27683548e+02,\n",
       "          2.81632774e+02, 3.71195294e+02, 4.70199271e+02, 5.77811481e+02,\n",
       "          7.74565420e+02, 8.58929343e+02, 9.91853743e+02, 1.09093671e+03,\n",
       "          1.23278907e+03, 1.38960648e+03, 1.55565154e+03, 1.79267446e+03,\n",
       "          1.98416699e+03, 2.18880608e+03, 2.40723596e+03, 2.63967809e+03,\n",
       "          2.88608068e+03],\n",
       "         [0.00000000e+00, 0.00000000e+00, 1.70456304e-07, 1.75064610e-01,\n",
       "          8.45580301e-01, 1.43650880e+00, 1.84155706e+00, 2.33761518e+00,\n",
       "          2.94035563e+00, 4.53844045e+00, 8.24761337e+00, 1.98808492e+01,\n",
       "          4.28464978e+01, 1.59638338e+02, 4.87018484e+02, 1.28143532e+03,\n",
       "          2.99987294e+03, 9.05273766e+03, 2.33076182e+04, 5.31514063e+04,\n",
       "          1.71633677e+05, 2.59537340e+05, 4.61488239e+05, 6.75411299e+05,\n",
       "          1.10134958e+06, 1.77802317e+06, 2.79266846e+06, 4.92465508e+06,\n",
       "          7.39065572e+06, 1.09445835e+07, 1.60119691e+07, 2.31512243e+07,\n",
       "          3.30829297e+07],\n",
       "         [0.00000000e+00, 0.00000000e+00, 4.67101775e-03, 4.73373743e+00,\n",
       "          1.04035705e+01, 1.35599825e+01, 1.53531529e+01, 1.72978248e+01,\n",
       "          1.94001423e+01, 2.41022899e+01, 3.24914529e+01, 5.04455023e+01,\n",
       "          7.40564090e+01, 1.42946519e+02, 2.49676523e+02, 4.04998421e+02,\n",
       "          6.19664213e+02, 1.07645270e+03, 1.72724495e+03, 2.60832897e+03,\n",
       "          4.68712179e+03, 5.76374700e+03, 7.68573319e+03, 9.29799152e+03,\n",
       "          1.18731944e+04, 1.50859858e+04, 1.89066539e+04, 2.51068885e+04,\n",
       "          3.07571769e+04, 3.74286880e+04, 4.52717577e+04, 5.44367220e+04,\n",
       "          6.50739195e+04]])),\n",
       " (3, array([[0.00000000e+00, 0.00000000e+00, 0.00000000e+00, 0.00000000e+00,\n",
       "          0.00000000e+00, 0.00000000e+00, 0.00000000e+00, 0.00000000e+00,\n",
       "          0.00000000e+00, 0.00000000e+00, 0.00000000e+00, 0.00000000e+00,\n",
       "          0.00000000e+00, 0.00000000e+00, 0.00000000e+00, 0.00000000e+00,\n",
       "          0.00000000e+00, 1.87172702e+01, 5.61829186e+01, 1.05226305e+02,\n",
       "          2.08257131e+02, 2.57688377e+02, 3.40691982e+02, 4.05371642e+02,\n",
       "          5.00637168e+02, 6.08291963e+02, 7.23919135e+02, 8.89598971e+02,\n",
       "          1.02193873e+03, 1.16080677e+03, 1.30590481e+03, 1.45743317e+03,\n",
       "          1.61617714e+03],\n",
       "         [0.00000000e+00, 0.00000000e+00, 0.00000000e+00, 0.00000000e+00,\n",
       "          0.00000000e+00, 0.00000000e+00, 0.00000000e+00, 0.00000000e+00,\n",
       "          0.00000000e+00, 0.00000000e+00, 0.00000000e+00, 0.00000000e+00,\n",
       "          0.00000000e+00, 0.00000000e+00, 0.00000000e+00, 0.00000000e+00,\n",
       "          0.00000000e+00, 5.85248260e-02, 4.75102457e+00, 5.84611524e+01,\n",
       "          8.96952855e+02, 2.10256491e+03, 6.42418058e+03, 1.28760765e+04,\n",
       "          2.99545256e+04, 6.52857509e+04, 1.30957482e+05, 2.98639451e+05,\n",
       "          5.20079253e+05, 8.65784529e+05, 1.38680747e+06, 2.15141745e+06,\n",
       "          3.25331361e+06],\n",
       "         [0.00000000e+00, 0.00000000e+00, 0.00000000e+00, 0.00000000e+00,\n",
       "          0.00000000e+00, 0.00000000e+00, 0.00000000e+00, 0.00000000e+00,\n",
       "          0.00000000e+00, 0.00000000e+00, 0.00000000e+00, 0.00000000e+00,\n",
       "          0.00000000e+00, 0.00000000e+00, 0.00000000e+00, 0.00000000e+00,\n",
       "          0.00000000e+00, 2.73700160e+00, 2.46603152e+01, 8.65044942e+01,\n",
       "          3.38836193e+02, 5.18775779e+02, 9.06804893e+02, 1.28379819e+03,\n",
       "          1.95810604e+03, 2.89077431e+03, 4.09421026e+03, 6.18270570e+03,\n",
       "          8.15905291e+03, 1.05271278e+04, 1.33233388e+04, 1.65946206e+04,\n",
       "          2.04064730e+04]])),\n",
       " (4, array([[0.00000000e+00, 0.00000000e+00, 0.00000000e+00, 0.00000000e+00,\n",
       "          0.00000000e+00, 0.00000000e+00, 0.00000000e+00, 0.00000000e+00,\n",
       "          0.00000000e+00, 0.00000000e+00, 0.00000000e+00, 0.00000000e+00,\n",
       "          0.00000000e+00, 0.00000000e+00, 0.00000000e+00, 0.00000000e+00,\n",
       "          0.00000000e+00, 8.37520799e-03, 2.12035369e+01, 5.97306783e+01,\n",
       "          1.48001083e+02, 1.90496811e+02, 2.63038334e+02, 3.20699431e+02,\n",
       "          4.07045866e+02, 5.06114830e+02, 6.13775892e+02, 7.69632159e+02,\n",
       "          8.95100763e+02, 1.02745448e+03, 1.16634066e+03, 1.31145481e+03,\n",
       "          1.46264009e+03],\n",
       "         [0.00000000e+00, 0.00000000e+00, 0.00000000e+00, 0.00000000e+00,\n",
       "          0.00000000e+00, 0.00000000e+00, 0.00000000e+00, 0.00000000e+00,\n",
       "          0.00000000e+00, 0.00000000e+00, 0.00000000e+00, 0.00000000e+00,\n",
       "          0.00000000e+00, 0.00000000e+00, 0.00000000e+00, 0.00000000e+00,\n",
       "          0.00000000e+00, 2.34613229e-15, 9.63836411e-02, 6.06959730e+00,\n",
       "          2.28786113e+02, 6.27944026e+02, 2.28268651e+03, 5.04385795e+03,\n",
       "          1.30901156e+04, 3.12871743e+04, 6.76720600e+04, 1.67302687e+05,\n",
       "          3.06096103e+05, 5.31398662e+05, 8.82412713e+05, 1.41053351e+06,\n",
       "          2.18232780e+06],\n",
       "         [0.00000000e+00, 0.00000000e+00, 0.00000000e+00, 0.00000000e+00,\n",
       "          0.00000000e+00, 0.00000000e+00, 0.00000000e+00, 0.00000000e+00,\n",
       "          0.00000000e+00, 0.00000000e+00, 0.00000000e+00, 0.00000000e+00,\n",
       "          0.00000000e+00, 0.00000000e+00, 0.00000000e+00, 0.00000000e+00,\n",
       "          0.00000000e+00, 5.48000851e-07, 3.51242168e+00, 2.78730776e+01,\n",
       "          1.71127503e+02, 2.83508087e+02, 5.40540353e+02, 8.03500975e+02,\n",
       "          1.29442451e+03, 2.00118922e+03, 2.94313161e+03, 4.62760672e+03,\n",
       "          6.25941700e+03, 8.24736495e+03, 1.06277386e+04, 1.34368259e+04,\n",
       "          1.67134065e+04]])),\n",
       " (5, array([[0.00000000e+00, 0.00000000e+00, 0.00000000e+00, 0.00000000e+00,\n",
       "          0.00000000e+00, 0.00000000e+00, 0.00000000e+00, 0.00000000e+00,\n",
       "          0.00000000e+00, 0.00000000e+00, 0.00000000e+00, 0.00000000e+00,\n",
       "          0.00000000e+00, 0.00000000e+00, 0.00000000e+00, 0.00000000e+00,\n",
       "          0.00000000e+00, 0.00000000e+00, 5.27015772e-01, 2.37910736e+01,\n",
       "          9.60360956e+01, 1.32963775e+02, 1.95692354e+02, 2.46032243e+02,\n",
       "          3.22812910e+02, 4.12612813e+02, 5.11700803e+02, 6.57056945e+02,\n",
       "          7.75232705e+02, 9.00709590e+02, 1.03307538e+03, 1.17197763e+03,\n",
       "          1.31711164e+03],\n",
       "         [0.00000000e+00, 0.00000000e+00, 0.00000000e+00, 0.00000000e+00,\n",
       "          0.00000000e+00, 0.00000000e+00, 0.00000000e+00, 0.00000000e+00,\n",
       "          0.00000000e+00, 0.00000000e+00, 0.00000000e+00, 0.00000000e+00,\n",
       "          0.00000000e+00, 0.00000000e+00, 0.00000000e+00, 0.00000000e+00,\n",
       "          0.00000000e+00, 0.00000000e+00, 3.67844733e-08, 1.52765841e-01,\n",
       "          4.05609457e+01, 1.49040205e+02, 6.99303214e+02, 1.74718219e+03,\n",
       "          5.17813859e+03, 1.38210466e+04, 3.26914726e+04, 8.88755153e+04,\n",
       "          1.72225889e+05, 3.13840681e+05, 5.43122936e+05, 8.99595709e+05,\n",
       "          1.43502820e+06],\n",
       "         [0.00000000e+00, 0.00000000e+00, 0.00000000e+00, 0.00000000e+00,\n",
       "          0.00000000e+00, 0.00000000e+00, 0.00000000e+00, 0.00000000e+00,\n",
       "          0.00000000e+00, 0.00000000e+00, 0.00000000e+00, 0.00000000e+00,\n",
       "          0.00000000e+00, 0.00000000e+00, 0.00000000e+00, 0.00000000e+00,\n",
       "          0.00000000e+00, 0.00000000e+00, 2.16988769e-03, 4.42199363e+00,\n",
       "          7.20541536e+01, 1.38120043e+02, 2.99183575e+02, 4.72905192e+02,\n",
       "          8.14126366e+02, 1.33007292e+03, 2.04560712e+03, 3.37284241e+03,\n",
       "          4.69520115e+03, 6.33810754e+03, 8.33784959e+03, 1.07307153e+04,\n",
       "          1.35529927e+04]])),\n",
       " (6, array([[0.00000000e+00, 0.00000000e+00, 0.00000000e+00, 0.00000000e+00,\n",
       "          0.00000000e+00, 0.00000000e+00, 0.00000000e+00, 0.00000000e+00,\n",
       "          0.00000000e+00, 0.00000000e+00, 0.00000000e+00, 0.00000000e+00,\n",
       "          0.00000000e+00, 0.00000000e+00, 0.00000000e+00, 0.00000000e+00,\n",
       "          0.00000000e+00, 0.00000000e+00, 0.00000000e+00, 1.42052091e+00,\n",
       "          5.21749659e+01, 8.30974829e+01, 1.37670558e+02, 1.81458524e+02,\n",
       "          2.48501300e+02, 3.28420855e+02, 4.18281386e+02, 5.52364593e+02,\n",
       "          6.62759152e+02, 7.80940024e+02, 9.06423957e+02, 1.03880016e+03,\n",
       "          1.17771657e+03],\n",
       "         [0.00000000e+00, 0.00000000e+00, 0.00000000e+00, 0.00000000e+00,\n",
       "          0.00000000e+00, 0.00000000e+00, 0.00000000e+00, 0.00000000e+00,\n",
       "          0.00000000e+00, 0.00000000e+00, 0.00000000e+00, 0.00000000e+00,\n",
       "          0.00000000e+00, 0.00000000e+00, 0.00000000e+00, 0.00000000e+00,\n",
       "          0.00000000e+00, 0.00000000e+00, 0.00000000e+00, 1.94160383e-06,\n",
       "          3.53361139e+00, 2.27363929e+01, 1.71290933e+02, 5.16986952e+02,\n",
       "          1.81838044e+03, 5.54744492e+03, 1.45963492e+04, 4.43888016e+04,\n",
       "          9.20011009e+04, 1.77353930e+05, 3.21881187e+05, 5.55262210e+05,\n",
       "          9.17346121e+05],\n",
       "         [0.00000000e+00, 0.00000000e+00, 0.00000000e+00, 0.00000000e+00,\n",
       "          0.00000000e+00, 0.00000000e+00, 0.00000000e+00, 0.00000000e+00,\n",
       "          0.00000000e+00, 0.00000000e+00, 0.00000000e+00, 0.00000000e+00,\n",
       "          0.00000000e+00, 0.00000000e+00, 0.00000000e+00, 0.00000000e+00,\n",
       "          0.00000000e+00, 0.00000000e+00, 0.00000000e+00, 1.57646849e-02,\n",
       "          2.12673990e+01, 5.39468099e+01, 1.48071738e+02, 2.57243717e+02,\n",
       "          4.82444501e+02, 8.42658264e+02, 1.36686967e+03, 2.38364565e+03,\n",
       "          3.43163823e+03, 4.76458844e+03, 6.41878430e+03, 8.43051380e+03,\n",
       "          1.08360649e+04]])),\n",
       " (7, array([[0.00000000e+00, 0.00000000e+00, 0.00000000e+00, 0.00000000e+00,\n",
       "          0.00000000e+00, 0.00000000e+00, 0.00000000e+00, 0.00000000e+00,\n",
       "          0.00000000e+00, 0.00000000e+00, 0.00000000e+00, 0.00000000e+00,\n",
       "          0.00000000e+00, 0.00000000e+00, 0.00000000e+00, 0.00000000e+00,\n",
       "          0.00000000e+00, 0.00000000e+00, 0.00000000e+00, 0.00000000e+00,\n",
       "          1.83402155e+01, 4.17472770e+01, 8.71302043e+01, 1.25286851e+02,\n",
       "          1.84038879e+02, 2.54037011e+02, 3.34118951e+02, 4.56105156e+02,\n",
       "          5.58163974e+02, 6.68566517e+02, 7.86752359e+02, 9.12242372e+02,\n",
       "          1.04462752e+03],\n",
       "         [0.00000000e+00, 0.00000000e+00, 0.00000000e+00, 0.00000000e+00,\n",
       "          0.00000000e+00, 0.00000000e+00, 0.00000000e+00, 0.00000000e+00,\n",
       "          0.00000000e+00, 0.00000000e+00, 0.00000000e+00, 0.00000000e+00,\n",
       "          0.00000000e+00, 0.00000000e+00, 0.00000000e+00, 0.00000000e+00,\n",
       "          0.00000000e+00, 0.00000000e+00, 0.00000000e+00, 0.00000000e+00,\n",
       "          5.39495500e-02, 1.44838062e+00, 2.74817903e+01, 1.17487610e+02,\n",
       "          5.47026552e+02, 1.98590316e+03, 5.94257302e+03, 2.06362137e+04,\n",
       "          4.62825522e+04, 9.52683364e+04, 1.82693168e+05, 3.30225840e+05,\n",
       "          5.67826883e+05],\n",
       "         [0.00000000e+00, 0.00000000e+00, 0.00000000e+00, 0.00000000e+00,\n",
       "          0.00000000e+00, 0.00000000e+00, 0.00000000e+00, 0.00000000e+00,\n",
       "          0.00000000e+00, 0.00000000e+00, 0.00000000e+00, 0.00000000e+00,\n",
       "          0.00000000e+00, 0.00000000e+00, 0.00000000e+00, 0.00000000e+00,\n",
       "          0.00000000e+00, 0.00000000e+00, 0.00000000e+00, 0.00000000e+00,\n",
       "          2.62783987e+00, 1.36158995e+01, 5.93099415e+01, 1.22631212e+02,\n",
       "          2.64611788e+02, 5.04178147e+02, 8.72152135e+02, 1.62524932e+03,\n",
       "          2.43396111e+03, 3.49204053e+03, 4.83577558e+03, 6.50145426e+03,\n",
       "          8.52536457e+03]])),\n",
       " (8, array([[0.00000000e+00, 0.00000000e+00, 0.00000000e+00, 0.00000000e+00,\n",
       "          0.00000000e+00, 0.00000000e+00, 0.00000000e+00, 0.00000000e+00,\n",
       "          0.00000000e+00, 0.00000000e+00, 0.00000000e+00, 0.00000000e+00,\n",
       "          0.00000000e+00, 0.00000000e+00, 0.00000000e+00, 0.00000000e+00,\n",
       "          0.00000000e+00, 0.00000000e+00, 0.00000000e+00, 0.00000000e+00,\n",
       "          0.00000000e+00, 1.12674224e+01, 4.49678022e+01, 7.65580136e+01,\n",
       "          1.27593861e+02, 1.89269059e+02, 2.59645887e+02, 3.68848810e+02,\n",
       "          4.61982189e+02, 5.64064868e+02, 6.74476988e+02, 7.92667964e+02,\n",
       "          9.18163342e+02],\n",
       "         [0.00000000e+00, 0.00000000e+00, 0.00000000e+00, 0.00000000e+00,\n",
       "          0.00000000e+00, 0.00000000e+00, 0.00000000e+00, 0.00000000e+00,\n",
       "          0.00000000e+00, 0.00000000e+00, 0.00000000e+00, 0.00000000e+00,\n",
       "          0.00000000e+00, 0.00000000e+00, 0.00000000e+00, 0.00000000e+00,\n",
       "          0.00000000e+00, 0.00000000e+00, 0.00000000e+00, 0.00000000e+00,\n",
       "          0.00000000e+00, 7.68543386e-03, 1.94974017e+00, 1.63807098e+01,\n",
       "          1.26383158e+02, 6.11911452e+02, 2.16718446e+03, 8.82599425e+03,\n",
       "          2.17205601e+04, 4.82710001e+04, 9.86821581e+04, 1.88250144e+05,\n",
       "          3.38883083e+05],\n",
       "         [0.00000000e+00, 0.00000000e+00, 0.00000000e+00, 0.00000000e+00,\n",
       "          0.00000000e+00, 0.00000000e+00, 0.00000000e+00, 0.00000000e+00,\n",
       "          0.00000000e+00, 0.00000000e+00, 0.00000000e+00, 0.00000000e+00,\n",
       "          0.00000000e+00, 0.00000000e+00, 0.00000000e+00, 0.00000000e+00,\n",
       "          0.00000000e+00, 0.00000000e+00, 0.00000000e+00, 0.00000000e+00,\n",
       "          0.00000000e+00, 9.91834429e-01, 1.57976815e+01, 4.57900738e+01,\n",
       "          1.27189010e+02, 2.79865442e+02, 5.26687394e+02, 1.06288629e+03,\n",
       "          1.66740268e+03, 2.48569669e+03, 3.55405631e+03, 4.90876955e+03,\n",
       "          6.58612440e+03]])),\n",
       " (9, array([[0., 0., 0., 0., 0., 0., 0., 0., 0., 0., 0., 0., 0., 0., 0., 0.,\n",
       "          0., 0., 0., 0., 0., 0., 0., 0., 0., 0., 0., 0., 0., 0., 0., 0.,\n",
       "          0.],\n",
       "         [0., 0., 0., 0., 0., 0., 0., 0., 0., 0., 0., 0., 0., 0., 0., 0.,\n",
       "          0., 0., 0., 0., 0., 0., 0., 0., 0., 0., 0., 0., 0., 0., 0., 0.,\n",
       "          0.],\n",
       "         [0., 0., 0., 0., 0., 0., 0., 0., 0., 0., 0., 0., 0., 0., 0., 0.,\n",
       "          0., 0., 0., 0., 0., 0., 0., 0., 0., 0., 0., 0., 0., 0., 0., 0.,\n",
       "          0.]]))]"
      ]
     },
     "execution_count": 178,
     "metadata": {},
     "output_type": "execute_result"
    }
   ],
   "source": [
    "[(i, x) for i, x in enumerate(stats_data['eos']['energy'])]"
   ]
  },
  {
   "cell_type": "code",
   "execution_count": 179,
   "metadata": {
    "collapsed": true
   },
   "outputs": [],
   "source": [
    "with open(os.path.join(working, \"stats_complete.pickle\"), 'wb') as fo:\n",
    "    pickle.dump(stats_data, fo)"
   ]
  },
  {
   "cell_type": "code",
   "execution_count": 180,
   "metadata": {
    "collapsed": true
   },
   "outputs": [],
   "source": [
    "#%%writefile -a ../src/optimize/optscript.py\n",
    "\n",
    "from statmechlib.forcefields import sd2_loss, utot_EAM, ftot_EAM, udif_print\n",
    "from scipy.optimize import fmin"
   ]
  },
  {
   "cell_type": "code",
   "execution_count": 221,
   "metadata": {
    "collapsed": true
   },
   "outputs": [],
   "source": [
    "#%%writefile -a ../src/optimize/optscript.py\n",
    "\n",
    "# load stats data\n",
    "with open(os.path.join(working, 'stats_complete'+'.pickle'), 'rb') as fi:\n",
    "    stats_dict = pickle.load(fi)"
   ]
  },
  {
   "cell_type": "code",
   "execution_count": 222,
   "metadata": {
    "collapsed": true
   },
   "outputs": [],
   "source": [
    "# load target data\n",
    "with open(os.path.join(working, 'target_complete'+'.pickle'), 'rb') as fi:\n",
    "    targ_dict = pickle.load(fi)"
   ]
  },
  {
   "cell_type": "code",
   "execution_count": 202,
   "metadata": {
    "collapsed": true
   },
   "outputs": [],
   "source": [
    "#%%writefile -a ../src/optimize/optscript.py\n",
    "\n",
    "# load stats data\n",
    "with open(os.path.join(working, 'pars_in'+'.pickle'), 'rb') as fi:\n",
    "    pars_dict = pickle.load(fi)"
   ]
  },
  {
   "cell_type": "code",
   "execution_count": 203,
   "metadata": {},
   "outputs": [
    {
     "ename": "TypeError",
     "evalue": "list indices must be integers or slices, not str",
     "output_type": "error",
     "traceback": [
      "\u001b[0;31m---------------------------------------------------------------------------\u001b[0m",
      "\u001b[0;31mTypeError\u001b[0m                                 Traceback (most recent call last)",
      "\u001b[0;32m<ipython-input-203-e6c1c57d0ee7>\u001b[0m in \u001b[0;36m<module>\u001b[0;34m()\u001b[0m\n\u001b[1;32m      1\u001b[0m \u001b[0;31m#%%writefile -a ../src/optimize/optscript.py\u001b[0m\u001b[0;34m\u001b[0m\u001b[0;34m\u001b[0m\u001b[0m\n\u001b[1;32m      2\u001b[0m \u001b[0;31m#pars_in = [pars_dict['embed'][0], pars_dict['embed'][2], *pars_dict['pair']]\u001b[0m\u001b[0;34m\u001b[0m\u001b[0;34m\u001b[0m\u001b[0m\n\u001b[0;32m----> 3\u001b[0;31m \u001b[0mpars_in\u001b[0m \u001b[0;34m=\u001b[0m \u001b[0mpars_dict\u001b[0m\u001b[0;34m[\u001b[0m\u001b[0;34m'embed'\u001b[0m\u001b[0;34m]\u001b[0m \u001b[0;34m+\u001b[0m \u001b[0mpars_dict\u001b[0m\u001b[0;34m[\u001b[0m\u001b[0;34m'pair'\u001b[0m\u001b[0;34m]\u001b[0m\u001b[0;34m\u001b[0m\u001b[0m\n\u001b[0m\u001b[1;32m      4\u001b[0m \u001b[0mprint\u001b[0m\u001b[0;34m(\u001b[0m\u001b[0mpars_in\u001b[0m\u001b[0;34m)\u001b[0m\u001b[0;34m\u001b[0m\u001b[0m\n",
      "\u001b[0;31mTypeError\u001b[0m: list indices must be integers or slices, not str"
     ]
    }
   ],
   "source": [
    "#%%writefile -a ../src/optimize/optscript.py\n",
    "#pars_in = [pars_dict['embed'][0], pars_dict['embed'][2], *pars_dict['pair']]\n",
    "#pars_in = pars_dict['embed'] + pars_dict['pair']\n",
    "#print(pars_in)"
   ]
  },
  {
   "cell_type": "code",
   "execution_count": 224,
   "metadata": {},
   "outputs": [
    {
     "data": {
      "text/plain": [
       "(1184, 1184)"
      ]
     },
     "execution_count": 224,
     "metadata": {},
     "output_type": "execute_result"
    }
   ],
   "source": [
    "len(targ_dict['md']['energy']), len(stats_dict['md']['energy'])"
   ]
  },
  {
   "cell_type": "code",
   "execution_count": 225,
   "metadata": {},
   "outputs": [
    {
     "name": "stdout",
     "output_type": "stream",
     "text": [
      "-1656.3257 128\n",
      "-12.94004453125 -8.9 -4.04004453125\n",
      "OK energies: [-1139.2, -906.9778906249999, -1127.13044453125, -1136.3561554687499, -1136.7059554687498, 0.0, 0.0]\n"
     ]
    }
   ],
   "source": [
    "# Final scaling and normalization of data\n",
    "# %load ../src/optimize/optscript.py\n",
    "\n",
    "# scale energies (subtract energy of an isolated atom)\n",
    "# determine interaction energy\n",
    "print(targ_dict['relax']['energy'][0], len(targ_dict['relax']['xyz'][0]))\n",
    "u_t = targ_dict['relax']['energy'][0]/len(targ_dict['relax']['xyz'][0])\n",
    "u_e = -8.9 # external energy from atom (experimental)\n",
    "u_i = u_t - u_e # internal energy per atom (to be subtracted from all atoms)\n",
    "print(u_t, u_e, u_i)\n",
    "\n",
    "emin = 0.0\n",
    "esum = 0.0\n",
    "isum = 0.0\n",
    "lemin = 0.0\n",
    "lesum = 0.0\n",
    "lisum = 0.0\n",
    "for key, trj in targ_dict.items():\n",
    "    #if 'eos' in key:\n",
    "    #    continue\n",
    "    for i in range(len(targ_dict[key]['energy'])):\n",
    "        targ_dict[key]['energy'][i] -= u_i*targ_dict[key]['xyz'][i].shape[0]\n",
    "        enex = targ_dict[key]['energy'][i]/targ_dict[key]['xyz'][i].shape[0]\n",
    "\n",
    "#        if 'fcc' in key:\n",
    "#            esum += enex\n",
    "#            isum += 1.0\n",
    "#            if enex < emin:\n",
    "#                imin = i\n",
    "#                #print(enex)\n",
    "#                emin = enex\n",
    "#                xmin = targ_dict[key]['xyz'][i]\n",
    "#                bmin = targ_dict[key]['box'][i]\n",
    "#                smin = stats_dict[key]['energy'][i]\n",
    "\n",
    "#        if 'liq_5000K' in key:\n",
    "#            lesum += enex\n",
    "#            lisum += 1.0\n",
    "#            if enex < lemin:\n",
    "#                limin = i\n",
    "#                #print(enex)\n",
    "#                lemin = enex\n",
    "#                lxmin = targ_dict[key]['xyz'][i]\n",
    "#                lbmin = targ_dict[key]['box'][i]\n",
    "#                lsmin = stats_dict[key]['energy'][i]\n",
    "#                lnat = targ_dict[key]['xyz'][i].shape[0]\n",
    "\n",
    "#print('Emin', emin, esum/isum)\n",
    "\n",
    "# temporary fix - set fcc energy at 0K to minimum energy of 300K trajectory\n",
    "#targ_dict['relax']['energy'][1] = emin*targ_dict['relax']['xyz'][1].shape[0]\n",
    "#targ_dict['relax']['xyz'][1] = xmin\n",
    "#targ_dict['relax']['box'][1] = bmin\n",
    "#stats_dict['relax']['energy'][1] = smin\n",
    "\n",
    "#targ_dict['relax']['energy'][5] = lemin*lnat\n",
    "#targ_dict['relax']['xyz'][5] = lxmin\n",
    "#targ_dict['relax']['box'][5] = lbmin\n",
    "#stats_dict['relax']['energy'][5] = lsmin\n",
    "\n",
    "#targ_dict['relax']['energy'][-1] = 0.0\n",
    "\n",
    "targ_dict['relax']['energy'][5] = targ_dict['relax']['energy'][6]\n",
    "targ_dict['relax']['xyz'][5] = targ_dict['relax']['xyz'][6]\n",
    "targ_dict['relax']['box'][5] = targ_dict['relax']['box'][6]\n",
    "stats_dict['relax']['energy'][5] = stats_dict['relax']['energy'][6]\n",
    "\n",
    "print('OK energies:', targ_dict['relax']['energy'])"
   ]
  },
  {
   "cell_type": "code",
   "execution_count": 226,
   "metadata": {},
   "outputs": [
    {
     "name": "stdout",
     "output_type": "stream",
     "text": [
      "OK energies: [-1139.2, -271.80472210708876, -837.1711089986525, -800.663344463534, -697.0611202328876, -602.3043063713139, -517.742999456512, -443.40328537746313, -378.657941519064, 0.0]\n"
     ]
    }
   ],
   "source": [
    "print('OK energies:', targ_dict['eos']['energy'])"
   ]
  },
  {
   "cell_type": "code",
   "execution_count": 227,
   "metadata": {},
   "outputs": [
    {
     "name": "stdout",
     "output_type": "stream",
     "text": [
      "OK energies: [-1139.1553999999999, -1022.8066999999999, -1114.8183999999999, -1123.9361, -1084.6381, -1031.6408, -971.3192999999999, -907.6867, 0.0]\n"
     ]
    }
   ],
   "source": [
    "print('OK energies:', targ_dict['eos_bcc']['energy'])"
   ]
  },
  {
   "cell_type": "code",
   "execution_count": 228,
   "metadata": {},
   "outputs": [
    {
     "name": "stdout",
     "output_type": "stream",
     "text": [
      "OK energies: [-910.2984906249999, -910.2984906249999, -816.6878906249999, -890.3537906249999, -897.8806906249999, -865.893990625, -822.6411906249998, -773.407790625, -721.4408906249998, 0.0]\n"
     ]
    }
   ],
   "source": [
    "print('OK energies:', targ_dict['eos_fcc']['energy'])"
   ]
  },
  {
   "cell_type": "code",
   "execution_count": 229,
   "metadata": {},
   "outputs": [
    {
     "data": {
      "text/plain": [
       "[array([[12.117443,  0.      ,  0.      ],\n",
       "        [ 0.      , 12.117443,  0.      ],\n",
       "        [ 0.      ,  0.      , 12.117443]]),\n",
       " array([[12.117443,  0.      ,  0.      ],\n",
       "        [ 0.      , 12.117443,  0.      ],\n",
       "        [ 0.      ,  0.      , 12.117443]]),\n",
       " array([[11.248838,  0.      ,  0.      ],\n",
       "        [ 0.      , 11.248838,  0.      ],\n",
       "        [ 0.      ,  0.      , 11.248838]]),\n",
       " array([[11.699263,  0.      ,  0.      ],\n",
       "        [ 0.      , 11.699263,  0.      ],\n",
       "        [ 0.      ,  0.      , 11.699263]]),\n",
       " array([[12.508595,  0.      ,  0.      ],\n",
       "        [ 0.      , 12.508595,  0.      ],\n",
       "        [ 0.      ,  0.      , 12.508595]]),\n",
       " array([[12.876705,  0.      ,  0.      ],\n",
       "        [ 0.      , 12.876705,  0.      ],\n",
       "        [ 0.      ,  0.      , 12.876705]]),\n",
       " array([[13.224891,  0.      ,  0.      ],\n",
       "        [ 0.      , 13.224891,  0.      ],\n",
       "        [ 0.      ,  0.      , 13.224891]]),\n",
       " array([[13.555649,  0.      ,  0.      ],\n",
       "        [ 0.      , 13.555649,  0.      ],\n",
       "        [ 0.      ,  0.      , 13.555649]]),\n",
       " array([[13.871009,  0.      ,  0.      ],\n",
       "        [ 0.      , 13.871009,  0.      ],\n",
       "        [ 0.      ,  0.      , 13.871009]]),\n",
       " array([[1274.4894,    0.    ,    0.    ],\n",
       "        [   0.    , 1274.4894,    0.    ],\n",
       "        [   0.    ,    0.    , 1274.4894]])]"
      ]
     },
     "execution_count": 229,
     "metadata": {},
     "output_type": "execute_result"
    }
   ],
   "source": [
    "targ_dict['eos_fcc']['box']"
   ]
  },
  {
   "cell_type": "code",
   "execution_count": 230,
   "metadata": {},
   "outputs": [
    {
     "data": {
      "text/plain": [
       "[array([[12.744894,  0.      ,  0.      ],\n",
       "        [ 0.      , 12.744894,  0.      ],\n",
       "        [ 0.      ,  0.      , 12.744894]]),\n",
       " array([[12.10561061,  0.        ,  0.        ],\n",
       "        [ 0.        , 12.10561061,  0.        ],\n",
       "        [ 0.        ,  0.        , 12.10561061]]),\n",
       " array([[12.729505,  0.      ,  0.      ],\n",
       "        [ 0.      , 12.729505,  0.      ],\n",
       "        [ 0.      ,  0.      , 12.729505]]),\n",
       " array([[12.6836,  0.    ,  0.    ],\n",
       "        [ 0.    , 12.6836,  0.    ],\n",
       "        [ 0.    ,  0.    , 12.6836]]),\n",
       " array([[12.6836,  0.    ,  0.    ],\n",
       "        [ 0.    , 12.6836,  0.    ],\n",
       "        [ 0.    ,  0.    , 12.6836]]),\n",
       " array([[1274.4894,    0.    ,    0.    ],\n",
       "        [   0.    , 1274.4894,    0.    ],\n",
       "        [   0.    ,    0.    , 1274.4894]]),\n",
       " array([[1274.4894,    0.    ,    0.    ],\n",
       "        [   0.    , 1274.4894,    0.    ],\n",
       "        [   0.    ,    0.    , 1274.4894]])]"
      ]
     },
     "execution_count": 230,
     "metadata": {},
     "output_type": "execute_result"
    }
   ],
   "source": [
    "targ_dict['relax']['box']"
   ]
  },
  {
   "cell_type": "code",
   "execution_count": 231,
   "metadata": {
    "collapsed": true
   },
   "outputs": [],
   "source": [
    "#Add Inf configurations at the end of the MD trajectory\n",
    "for key in targ_dict['md']:\n",
    "    if 'type' in key or 'weight' in key:\n",
    "        continue\n",
    "    #print(key, type(targ_dict['md'][key][-1]))\n",
    "    for i in range(100):\n",
    "        targ_dict['md'][key].append(targ_dict['relax'][key][-1])"
   ]
  },
  {
   "cell_type": "code",
   "execution_count": 232,
   "metadata": {
    "collapsed": true
   },
   "outputs": [],
   "source": [
    "stats_dict['md'].keys()\n",
    "for key in stats_dict['md']:\n",
    "    #print(key, type(stats_dict['md'][key]))\n",
    "    for i in range(100):\n",
    "        stats_dict['md'][key].append(stats_dict['relax'][key][-1])"
   ]
  },
  {
   "cell_type": "code",
   "execution_count": 233,
   "metadata": {},
   "outputs": [
    {
     "name": "stdout",
     "output_type": "stream",
     "text": [
      "box 1284 <class 'list'>\n",
      "xyz 1284 <class 'list'>\n",
      "energy 1284 <class 'list'>\n",
      "energy 1284 <class 'list'>\n",
      "forces 1284 <class 'list'>\n",
      "temp 1284 <class 'list'>\n",
      "beta 1284 <class 'list'>\n"
     ]
    }
   ],
   "source": [
    "for key in targ_dict['md']:\n",
    "    if 'type' in key or 'weight' in key:\n",
    "        continue\n",
    "    #print(key, len(stats_dict['md'][key]), type(stats_dict['md'][key]))\n",
    "    print(key, len(targ_dict['md'][key]), type(targ_dict['md'][key]))\n",
    "    if key == 'energy':\n",
    "        print(key, len(stats_dict['md'][key]), type(stats_dict['md'][key]))"
   ]
  },
  {
   "cell_type": "code",
   "execution_count": 234,
   "metadata": {
    "collapsed": true
   },
   "outputs": [],
   "source": [
    "#targ_dict['eos']['weight'] = 1.0"
   ]
  },
  {
   "cell_type": "code",
   "execution_count": 235,
   "metadata": {},
   "outputs": [
    {
     "name": "stdout",
     "output_type": "stream",
     "text": [
      "[1.0, 20.0, 0.5, 0.5, 0.5]\n"
     ]
    }
   ],
   "source": [
    "#targ_dict['relax']['weight'] = 20.0\n",
    "targ_dict['eos_bcc']['weight'] = 0.5\n",
    "targ_dict['eos_fcc']['weight'] = 0.5\n",
    "#targ_dict['md']['weight'] = 5.0\n",
    "print([targ_dict[k]['weight'] for k in targ_dict])"
   ]
  },
  {
   "cell_type": "code",
   "execution_count": 236,
   "metadata": {},
   "outputs": [
    {
     "name": "stdout",
     "output_type": "stream",
     "text": [
      "[2.74, 3.252, 3.804, 4.356, 4.908, 5.46]\n",
      "[2.4, 2.45, 2.5, 2.65, 2.7, 2.72, 2.73, 2.74, 2.75, 2.77, 2.8, 2.85, 2.9, 3.0, 3.1, 3.2, 3.3, 3.45, 3.6, 3.75, 4.0, 4.1, 4.25, 4.356, 4.5, 4.65, 4.8, 5.0, 5.15, 5.3, 5.45, 5.6, 5.75]\n"
     ]
    }
   ],
   "source": [
    "print([2.74, 3.252, 3.804, 4.356, 4.908, 5.46])\n",
    "print(stats_dict['hyperparams'])"
   ]
  },
  {
   "cell_type": "code",
   "execution_count": 237,
   "metadata": {
    "collapsed": true
   },
   "outputs": [],
   "source": [
    "with open(os.path.join(working, \"stats_clean.pickle\"), 'wb') as fo:\n",
    "    pickle.dump(stats_dict, fo)\n",
    "with open(os.path.join(working, \"target_clean.pickle\"), 'wb') as fo:\n",
    "    pickle.dump(targ_dict, fo)"
   ]
  },
  {
   "cell_type": "code",
   "execution_count": 218,
   "metadata": {
    "collapsed": true
   },
   "outputs": [],
   "source": [
    "with open(os.path.join(working, 'stats_clean'+'.pickle'), 'rb') as fi:\n",
    "    stats_ready = pickle.load(fi)\n",
    "with open(os.path.join(working, 'target_clean'+'.pickle'), 'rb') as fi:\n",
    "    targ_ready = pickle.load(fi)   "
   ]
  },
  {
   "cell_type": "code",
   "execution_count": 1328,
   "metadata": {},
   "outputs": [
    {
     "name": "stdout",
     "output_type": "stream",
     "text": [
      "Appending to ../../statmechlib/statmechlib/preprocessing/stats.py\n"
     ]
    },
    {
     "name": "stderr",
     "output_type": "stream",
     "text": [
      "[autoreload of statmechlib.preprocessing failed: Traceback (most recent call last):\n",
      "  File \"//anaconda/envs/py36/lib/python3.6/site-packages/IPython/extensions/autoreload.py\", line 245, in check\n",
      "    superreload(m, reload, self.old_objects)\n",
      "  File \"//anaconda/envs/py36/lib/python3.6/site-packages/IPython/extensions/autoreload.py\", line 368, in superreload\n",
      "    module = reload(module)\n",
      "  File \"//anaconda/envs/py36/lib/python3.6/imp.py\", line 314, in reload\n",
      "    return importlib.reload(module)\n",
      "  File \"//anaconda/envs/py36/lib/python3.6/importlib/__init__.py\", line 166, in reload\n",
      "    _bootstrap._exec(spec, module)\n",
      "  File \"<frozen importlib._bootstrap>\", line 608, in _exec\n",
      "  File \"<frozen importlib._bootstrap_external>\", line 678, in exec_module\n",
      "  File \"<frozen importlib._bootstrap>\", line 205, in _call_with_frames_removed\n",
      "  File \"../../statmechlib/statmechlib/preprocessing/__init__.py\", line 5, in <module>\n",
      "    from .stats import force_targ, select_nodes\n",
      "ImportError: cannot import name 'select_nodes'\n",
      "]\n"
     ]
    }
   ],
   "source": [
    "#%%writefile -a ../../statmechlib/statmechlib/preprocessing/stats.py\n",
    "\n",
    "def select_nodes(stats_input, index):\n",
    "    \"\"\"\n",
    "    Select only configuration statistics from stats (spline nodes) that are given in index.\n",
    "    \"\"\"\n",
    "    \n",
    "    stats_select = copy.deepcopy(stats_input)\n",
    "    \n",
    "    for key, stats in stats_select.items():\n",
    "        if type(stats) == dict and 'energy' in stats.keys():\n",
    "            for i, conf in enumerate(stats['energy']):\n",
    "                new_conf = np.empty((3, sum(index)), dtype=float)\n",
    "                new_conf[0] = conf[0][index]\n",
    "                new_conf[1] = conf[1][index]\n",
    "                new_conf[2] = conf[2][index]\n",
    "                stats['energy'][i] = new_conf\n",
    "                \n",
    "    stats_select['hyperparams'] = list(np.array(stats_select['hyperparams'])[index])\n",
    "\n",
    "    return stats_select"
   ]
  },
  {
   "cell_type": "code",
   "execution_count": 1362,
   "metadata": {
    "collapsed": true
   },
   "outputs": [],
   "source": [
    "stats_opt = copy.deepcopy(stats_ready)"
   ]
  },
  {
   "cell_type": "code",
   "execution_count": 1131,
   "metadata": {
    "collapsed": true
   },
   "outputs": [],
   "source": [
    "#index = [2, 4, 6, 9, 12, 14]\n",
    "index = [0, 2, 4, 6, 8, 11, 13, 15]\n",
    "index = np.array([True if i in index else False for i in range(len(stats_ready['hyperparams']))])\n",
    "print(np.array(stats_ready['hyperparams'])[index])\n",
    "stats_opt = select_nodes(stats_ready, index)"
   ]
  },
  {
   "cell_type": "code",
   "execution_count": 1327,
   "metadata": {
    "collapsed": true
   },
   "outputs": [],
   "source": [
    "# prepare data for fitting\n",
    "stats = []\n",
    "target = []\n",
    "for key in list(targ_ready.keys()):\n",
    "    stats.append(stats_opt[key])\n",
    "    target.append(targ_ready[key])"
   ]
  },
  {
   "cell_type": "code",
   "execution_count": 1138,
   "metadata": {
    "collapsed": true
   },
   "outputs": [],
   "source": [
    "multi_pars = [pars_in]"
   ]
  },
  {
   "cell_type": "code",
   "execution_count": 1139,
   "metadata": {},
   "outputs": [
    {
     "data": {
      "text/plain": [
       "[[-0.344540412587315,\n",
       "  1.6869558429105695e-05,\n",
       "  0.4527535290774057,\n",
       "  7.091857873610367,\n",
       "  1.6314949612839302,\n",
       "  0.7906877956550405,\n",
       "  -0.8249673243680319,\n",
       "  0.14501087706040938,\n",
       "  -0.002061634677032549,\n",
       "  0.0021894588902290147]]"
      ]
     },
     "execution_count": 1139,
     "metadata": {},
     "output_type": "execute_result"
    }
   ],
   "source": [
    "multi_pars"
   ]
  },
  {
   "cell_type": "code",
   "execution_count": 1141,
   "metadata": {},
   "outputs": [
    {
     "name": "stdout",
     "output_type": "stream",
     "text": [
      "[-0.344540412587315, 1.6869558429105695e-05, 0.4527535290774057, 7.091857873610367, 1.6314949612839302, 0.7906877956550405, -0.8249673243680319, 0.14501087706040938, -0.002061634677032549, 0.0021894588902290147]\n",
      "Initial sd2: 9.63204000350986\n",
      "Opt # 0 (0.03746468788767358, 2086, 3023, 0)\n",
      "Optimized parameters:\n",
      "4.262274411841073 7.663340075341373e-05 2.939854626564106 25.89146156136932 -0.9880332808876793 3.768038010607329 -0.6536280853810048 -0.13579513361882128 -0.12201413072423531 -0.12951203275555268\n"
     ]
    }
   ],
   "source": [
    "pars = multi_pars[0]\n",
    "#optimal_parameters = []\n",
    "print(pars)\n",
    "sd_ini = sd2_loss(pars, stats, target, utot_EAM, None, [4])\n",
    "print('Initial sd2:', sd_ini)\n",
    "output = fmin(sd2_loss, pars, args=(stats, target, utot_EAM, None, [4]), maxiter=100000, maxfun=100000, disp=0, full_output=1,ftol=1e-6)\n",
    "params_uopt = output[0]\n",
    "print('Opt #', 0, output[1:])\n",
    "print(\"Optimized parameters:\")\n",
    "print(*params_uopt)"
   ]
  },
  {
   "cell_type": "code",
   "execution_count": 1147,
   "metadata": {
    "collapsed": true
   },
   "outputs": [],
   "source": [
    "optimal_parameters.append(tuple([output[1:], params_uopt]))"
   ]
  },
  {
   "cell_type": "code",
   "execution_count": 1161,
   "metadata": {
    "collapsed": true
   },
   "outputs": [],
   "source": [
    "multi_pars =[pars_in]"
   ]
  },
  {
   "cell_type": "code",
   "execution_count": 1162,
   "metadata": {
    "collapsed": true
   },
   "outputs": [],
   "source": [
    "multi_pars.append(list(params_uopt))"
   ]
  },
  {
   "cell_type": "code",
   "execution_count": 1163,
   "metadata": {},
   "outputs": [
    {
     "data": {
      "text/plain": [
       "[[-0.344540412587315,\n",
       "  1.6869558429105695e-05,\n",
       "  0.4527535290774057,\n",
       "  7.091857873610367,\n",
       "  1.6314949612839302,\n",
       "  0.7906877956550405,\n",
       "  -0.8249673243680319,\n",
       "  0.14501087706040938,\n",
       "  -0.002061634677032549,\n",
       "  0.0021894588902290147],\n",
       " [4.262274411841073,\n",
       "  7.663340075341373e-05,\n",
       "  2.939854626564106,\n",
       "  25.89146156136932,\n",
       "  -0.9880332808876793,\n",
       "  3.768038010607329,\n",
       "  -0.6536280853810048,\n",
       "  -0.13579513361882128,\n",
       "  -0.12201413072423531,\n",
       "  -0.12951203275555268]]"
      ]
     },
     "execution_count": 1163,
     "metadata": {},
     "output_type": "execute_result"
    }
   ],
   "source": [
    "multi_pars"
   ]
  },
  {
   "cell_type": "code",
   "execution_count": 1285,
   "metadata": {},
   "outputs": [
    {
     "name": "stdout",
     "output_type": "stream",
     "text": [
      "[-1.55157224e+00  6.19313883e-04 -2.40345053e-01  1.47964187e+01\n",
      " -5.21331770e+00  6.55630207e+00 -4.21290956e+00  1.38589665e+00\n",
      "  4.05508870e-01 -3.08873244e-01]\n",
      "[-1.01109934e+00  9.12551310e-04  7.38144313e-01  1.35396139e+01\n",
      " -3.93098577e+00  5.62823368e+00 -3.90553121e+00  1.60239127e+00\n",
      "  8.01345922e-02 -2.20808888e-01]\n",
      "[-8.75130097e-01  1.01495436e-03 -1.05803486e+00  1.44309978e+01\n",
      " -5.11082666e+00  6.19359023e+00 -3.79499306e+00  1.16196819e+00\n",
      "  3.84480602e-01 -2.98950645e-01]\n",
      "[-1.46109153 -0.06345735 -0.44672081 14.85315402 -5.31142649  6.59316527\n",
      " -4.29503461  1.29558581  0.45184516 -0.29768911]\n",
      "[-1.60645515e+00 -3.96316263e-03 -2.04051635e-01  1.47660960e+01\n",
      " -5.21819489e+00  6.60089664e+00 -4.27756494e+00  1.48607488e+00\n",
      "  4.98705061e-01 -2.49869465e-01]\n",
      "[-1.65573826  0.06494044 -0.20881026 14.82784664 -5.18095915  6.4757687\n",
      " -4.19745527  1.4475494   0.47102954 -0.30289132]\n",
      "[-1.54327893  0.03108082 -0.19416963 14.81956073 -5.17076549  6.58617515\n",
      " -4.27796891  1.2900605   0.34951486 -0.36196516]\n",
      "[-1.6356366   0.02845628 -0.26876664 14.83930288 -5.16375247  6.58029732\n",
      " -4.27106417  1.37741425  0.43493722 -0.25052284]\n"
     ]
    }
   ],
   "source": [
    "# Formatting for optimization\n",
    "multi_pars = []\n",
    "\n",
    "#pars_in1 = multi_pars[0]\n",
    "#pars_in2 = multi_pars[1]\n",
    "#pars_in3 = multi_pars[1]\n",
    "\n",
    "\n",
    "pars_in1 = optimal_parameters[0][1]\n",
    "pars_in2 = optimal_parameters[2][1]\n",
    "pars_in3 = optimal_parameters[26][1]\n",
    "\n",
    "\n",
    "#pars_in1 = [-2.21684325e+00, -1.77860942e-04, -3.66546338e+00, -1.71191389e+00, 4.38944526e+00, -2.66122494e+00,  7.24452435e-01,  2.29732818e-01]\n",
    "#pars_in2 = [-1.27104003e+00, -4.74103470e-05, -1.81120680e+01, -1.95915397e+00, 4.09985823e+00, -1.83714241e+00, -1.61099628e-02,  2.92927073e-01]\n",
    "\n",
    "print(pars_in1)\n",
    "print(pars_in2)\n",
    "print(pars_in3)\n",
    "\n",
    "multi_pars.append(pars_in1)\n",
    "multi_pars.append(pars_in2)\n",
    "multi_pars.append(pars_in3)\n",
    "\n",
    "for _ in range(5):\n",
    "    pars = np.array(pars_in1)\n",
    "    pars += np.random.standard_normal(pars.shape)*0.07\n",
    "    print(pars)\n",
    "    multi_pars.append(pars)\n",
    "\n",
    "for _ in range(5):\n",
    "    pars = np.array(pars_in2)\n",
    "    pars += np.random.standard_normal(pars.shape)*0.07\n",
    "    multi_pars.append(pars)\n",
    "\n",
    "for _ in range(5):\n",
    "    pars = np.array(pars_in3)\n",
    "    pars += np.random.standard_normal(pars.shape)*0.07\n",
    "    multi_pars.append(pars)\n",
    "    \n",
    "for _ in range(5):\n",
    "    pars = 0.5*(np.array(pars_in1) + np.array(pars_in2))\n",
    "    pars += np.random.standard_normal(pars.shape)*0.07\n",
    "    multi_pars.append(pars)\n",
    "\n",
    "for _ in range(5):\n",
    "    pars = 0.5*(np.array(pars_in1) + np.array(pars_in3))\n",
    "    pars += np.random.standard_normal(pars.shape)*0.07\n",
    "    multi_pars.append(pars)\n",
    "\n",
    "for _ in range(5):\n",
    "    pars = 0.5*(np.array(pars_in2) + np.array(pars_in3))\n",
    "    pars += np.random.standard_normal(pars.shape)*0.07\n",
    "    multi_pars.append(pars)"
   ]
  },
  {
   "cell_type": "code",
   "execution_count": null,
   "metadata": {
    "collapsed": true
   },
   "outputs": [],
   "source": []
  },
  {
   "cell_type": "code",
   "execution_count": null,
   "metadata": {
    "collapsed": true
   },
   "outputs": [],
   "source": [
    "optimal_parameters = []\n",
    "for iemb in range(2, len(stats_opt['hyperparams']))\n",
    "    for i, pars in enumerate(multi_pars):\n",
    "        sd_ini = sd2_loss(list(pars), stats, target, utot_EAM, None, [4])\n",
    "        print('Initial sd2:', sd_ini)\n",
    "        output = fmin(sd2_loss, list(pars), args=(stats, target, utot_EAM, None, [4]), maxiter=100000, maxfun=100000, disp=0, full_output=1,ftol=1e-6)\n",
    "        params_uopt = output[0]\n",
    "        print('Opt #', i, output[1:])\n",
    "        print(\"Optimized parameters:\")\n",
    "        print(*params_uopt)\n",
    "        optimal_parameters.append(tuple([output[1:], params_uopt]))"
   ]
  },
  {
   "cell_type": "code",
   "execution_count": 1286,
   "metadata": {},
   "outputs": [
    {
     "name": "stdout",
     "output_type": "stream",
     "text": [
      "Initial sd2: 0.0004354418880580194\n",
      "Opt # 0 (0.0004354388576933695, 962, 1434, 0)\n",
      "Optimized parameters:\n",
      "-1.5500437168374792 0.0006208601497296422 -0.23868836055398499 14.79076033984127 -5.213509100904539 6.555820341637123 -4.212408896028465 1.3855276769586866 0.4055166025390601 -0.30888291960346514\n",
      "Initial sd2: 0.000711401907683944\n",
      "Opt # 1 (0.0006959441592098408, 2379, 3432, 0)\n",
      "Optimized parameters:\n",
      "-0.9704693218042414 0.0009873475928607717 -0.4621621587760023 13.758768145442179 -4.074108190219097 5.603464185079707 -3.8257600732108252 1.5271207173092223 0.11230856301487346 -0.22760832812879309\n",
      "Initial sd2: 0.0007057348089235475\n",
      "Opt # 2 (0.0005058052222426564, 2272, 3216, 0)\n",
      "Optimized parameters:\n",
      "-1.2187822829261485 0.0008080883569445773 -0.5736797036418428 14.426999658335577 -4.680946991192258 6.087626915359692 -3.9891957527886355 1.4247380480466432 0.2697688489961608 -0.27053339859443515\n",
      "Initial sd2: 21.548463188404487\n"
     ]
    },
    {
     "name": "stderr",
     "output_type": "stream",
     "text": [
      "../../statmechlib/statmechlib/forcefields/eam.py:226: RuntimeWarning: overflow encountered in exp\n",
      "  #print('ustat', utot_func(params, u_stat))\n"
     ]
    },
    {
     "name": "stdout",
     "output_type": "stream",
     "text": [
      "Opt # 3 (0.0005006654936858322, 1662, 2458, 0)\n",
      "Optimized parameters:\n",
      "-1.7217469482695151 0.0005175312648515516 -0.06599181153583186 15.340240063752208 -5.888411745358239 7.002406691173711 -4.307766842309783 1.2339624329162717 0.5737127870389307 -0.3537622334972519\n",
      "Initial sd2: 20.933645793521013\n",
      "Opt # 4 (0.0006262983650442252, 2012, 2901, 0)\n",
      "Optimized parameters:\n",
      "-1.7307860588839954 0.0003513040891229383 -0.15195956295865504 16.607601620005653 -5.962813597616453 6.9996203251686815 -4.184882909812048 1.1406312034966217 0.6081735921980559 -0.35894531464095325\n",
      "Initial sd2: 21.6726590460639\n",
      "Opt # 5 (0.0016643507194659514, 1987, 2892, 0)\n",
      "Optimized parameters:\n",
      "-1.8750665974472795 0.0011544459703385134 -0.21816839343731975 10.611024100033756 -6.233143504891394 7.166119966465428 -4.549388802055104 1.21968214457686 0.6857596780403046 -0.3881189185832513\n",
      "Initial sd2: 20.84600897386559\n",
      "Opt # 6 (0.0005436355809552974, 1324, 1946, 0)\n",
      "Optimized parameters:\n",
      "-1.8542336821909888 0.0004333995124211909 -0.2333465092748495 14.937069284913925 -5.044302343488155 6.618265088423742 -4.427124962394572 1.5724577803817825 0.3556212128681224 -0.29885915985786626\n",
      "Initial sd2: 21.197350970658572\n",
      "Opt # 7 (0.0016386125065533436, 1489, 2155, 0)\n",
      "Optimized parameters:\n",
      "-2.6649560556760705 -0.000536960800426782 -0.2036930122643224 19.57813239406841 -5.710640602815222 7.244701943094276 -4.590114158400516 1.483817762165279 0.5543129959102595 -0.3463190038651489\n",
      "Initial sd2: 20.294943896117775\n",
      "Opt # 8 (0.003951121737208869, 768, 1173, 0)\n",
      "Optimized parameters:\n",
      "-1.474735366662396 0.0003864828842698487 0.8391206982827941 14.83931426252119 -4.021115315161748 5.895851125247288 -3.925306696234654 1.41448073780185 0.3023605607856978 -0.27687862213541703\n",
      "Initial sd2: 21.625947605549538\n",
      "Opt # 9 (0.007521106688048905, 1311, 1920, 0)\n",
      "Optimized parameters:\n",
      "-1.628000600511378 -0.0019063421979950103 0.19015323863951514 26.28795301943552 -3.1680098167281407 7.056002740331824 -4.9079431962313596 2.1877995781115462 0.024379724282135754 -0.23964371302306692\n",
      "Initial sd2: 21.741017497838158\n",
      "Opt # 10 (0.0012277559335785765, 2047, 2949, 0)\n",
      "Optimized parameters:\n",
      "-1.0844049918825565 8.871423026183316e-05 0.457699201252593 17.583729756441322 -3.6886207538017004 5.9792058186409935 -4.080851392889619 1.70723716685343 0.061772634589541006 -0.22207853121639842\n",
      "Initial sd2: 19.8732124488099\n",
      "Opt # 11 (0.0011593628817543025, 1664, 2429, 0)\n",
      "Optimized parameters:\n",
      "-1.5631132678472417 0.000260304459735762 0.40721268962351975 15.51127301907398 -3.559861263326337 5.849659067021345 -4.296956878529381 1.9287023023242282 0.0005104385451690811 -0.20591109723762813\n",
      "Initial sd2: 21.2246802609109\n",
      "Opt # 12 (0.0010977913639203748, 1306, 1948, 0)\n",
      "Optimized parameters:\n",
      "-1.5182381454763498 0.0005925605019877914 0.8165734521255237 13.722677280733118 -3.5810378497422866 5.707066236856409 -4.270210590329118 1.9361855211863674 -0.019148326630545442 -0.19995691910125907\n",
      "Initial sd2: 1.5509343698785543\n",
      "Opt # 13 (0.00044108895740836566, 1842, 2667, 0)\n",
      "Optimized parameters:\n",
      "-1.6196685598348588 0.0005707362804362616 -1.6966539311978424 15.372147278189836 -5.375582452985551 6.651995330485719 -4.235193611608851 1.3553875708836531 0.44466152564153233 -0.3191650646910329\n",
      "Initial sd2: 12.11164619424425\n",
      "Opt # 14 (0.005697522084021512, 1818, 2654, 0)\n",
      "Optimized parameters:\n",
      "-2.791119417701536 0.000991153968383473 -0.8333001717593815 13.969524162209009 -6.667235024761119 6.451852929510455 -4.068779072051674 1.2468005720664492 0.5578135602783951 -0.32229917737607217\n",
      "Initial sd2: 22.002820587018267\n",
      "Opt # 15 (0.0007483261646134682, 2142, 3085, 0)\n",
      "Optimized parameters:\n",
      "-1.272960617825382 0.0005325515710267201 -1.5632810555399614 16.77140657532304 -5.909808760886956 6.894817642741899 -4.006413031565493 1.0263804561315073 0.5983468034668207 -0.35673044919106045\n",
      "Initial sd2: 21.70878949841295\n",
      "Opt # 16 (0.0017036239247221092, 1567, 2305, 0)\n",
      "Optimized parameters:\n",
      "-1.256013403512536 -2.8487234242189678e-05 -1.061988902049433 17.417601123974073 -4.700522819757689 6.997875261705341 -4.52477626835325 1.5586320797005426 0.3408619286272517 -0.30607690941640425\n",
      "Initial sd2: 17.350246880849788\n",
      "Opt # 17 (0.0005975793688722613, 1774, 2589, 0)\n",
      "Optimized parameters:\n",
      "-1.0901528193559178 0.0009608245902948487 -1.2997451524475943 14.19451898205198 -4.5888495897048465 5.869282459242344 -3.8339256133901296 1.378985342038583 0.24302850310498036 -0.2600726619888156\n",
      "Initial sd2: 13.105172148379348\n",
      "Opt # 18 (0.008317431332795031, 2229, 3217, 0)\n",
      "Optimized parameters:\n",
      "-2.2029587751186313 -0.0023636756921597245 0.035093102682725 25.712436325940175 -1.6024170848980002 6.372629194051314 -4.94944407187869 2.610394178390816 -0.27100121025591817 -0.14924236263493668\n",
      "Initial sd2: 21.85132736172862\n",
      "Opt # 19 (0.0005723898954054334, 2429, 3466, 0)\n",
      "Optimized parameters:\n",
      "-1.6092879790780867 0.0005411656500527023 0.23876752914384922 14.661217888586913 -4.564683777150336 6.225194772310616 -4.2417441127600455 1.6129294509993701 0.23870798494419668 -0.26543751361556045\n",
      "Initial sd2: 21.877279540764963\n",
      "Opt # 20 (0.0005042031397132865, 2104, 3032, 0)\n",
      "Optimized parameters:\n",
      "-1.6869989968471386 0.0005348155759418128 0.08844202721467609 14.567485093854177 -4.883054359513261 6.466489200051676 -4.33134909242577 1.5579535972389595 0.31952543007165246 -0.288348613373696\n",
      "Initial sd2: 21.131843373956492\n",
      "Opt # 21 (0.0005323464775563254, 1419, 2071, 0)\n",
      "Optimized parameters:\n",
      "-1.241887964014819 0.0005320074592788354 0.3353853102041687 15.431297752915498 -4.759788144494015 6.353130901906656 -4.082952993323013 1.4050978650654957 0.31823890467386207 -0.28614620283306136\n",
      "Initial sd2: 21.70820124526332\n",
      "Opt # 22 (0.0005332112942286811, 1113, 1663, 0)\n",
      "Optimized parameters:\n",
      "-1.1889566673619034 0.0010105842455427612 0.6292348800948193 13.062389835821275 -4.755948070253627 6.081338113907255 -4.012055868301311 1.4217360067717077 0.2764987595138429 -0.2730798980138892\n",
      "Initial sd2: 15.725621783778903\n",
      "Opt # 23 (0.032151851617026425, 1693, 2476, 0)\n",
      "Optimized parameters:\n",
      "-0.7384499582492329 -0.003922181966454477 -0.9583043555246298 42.7573479227451 -4.5582534425751025 6.963417133706832 -2.326651488252291 0.1279873392185656 0.6553283908397192 -0.32026231331014665\n",
      "Initial sd2: 19.353733290876004\n",
      "Opt # 24 (0.0036157829748899722, 1416, 2058, 0)\n",
      "Optimized parameters:\n",
      "-1.8375478004436463 0.0023142208442693433 -0.6794347462046417 7.451010512866072 -7.170464067278024 6.476822489218239 -3.929744483694818 0.8833942129363861 0.7425604711498859 -0.38295647498606256\n",
      "Initial sd2: 21.479364537512225\n",
      "Opt # 25 (0.0006005202245916623, 1327, 1942, 0)\n",
      "Optimized parameters:\n",
      "-1.769640125084074 0.0005974355404577675 -1.1169990949745978 14.339647679672275 -4.789619794252361 6.360545963011665 -4.354052176445836 1.623815688725185 0.2836191806019709 -0.2787595113548066\n",
      "Initial sd2: 20.952076730652916\n",
      "Opt # 26 (0.0005390274456422927, 1634, 2391, 0)\n",
      "Optimized parameters:\n",
      "-1.4591664117977092 0.0009438921964445236 -0.588683576824863 13.589071872319282 -5.575239475195316 6.561521801368855 -4.112423720604045 1.2339747041501188 0.4870635815756745 -0.32818890245391796\n",
      "Initial sd2: 21.93541089457183\n",
      "Opt # 27 (0.0009835970012422666, 994, 1517, 0)\n",
      "Optimized parameters:\n",
      "-1.4617760285036348 0.0008336805278962968 -0.567580668152882 12.763806364810026 -5.194079575904658 6.783303129844381 -4.493717182765941 1.50225795372184 0.3917229330660509 -0.31365644365929757\n",
      "Initial sd2: 18.033207939330936\n",
      "Opt # 28 (0.042993534800833094, 2784, 4004, 0)\n",
      "Optimized parameters:\n",
      "-3.2079469756407812 0.002737055518526053 -0.28053159352246426 5.98894235859538 -5.329967020556541 3.1053605322055464 -2.018794274967659 0.7542235879058812 0.25696002739605395 -0.1543800184270733\n",
      "Initial sd2: 22.13015789744313\n",
      "Opt # 29 (0.00211329731115785, 1199, 1783, 0)\n",
      "Optimized parameters:\n",
      "-0.9455273368067525 -0.0002489364815903923 -0.1615980898849191 19.26699986717719 -4.157705402339641 6.656336715153756 -4.278398728464438 1.5705976898627463 0.22611864016218353 -0.2742130310745909\n",
      "Initial sd2: 21.833457037520574\n",
      "Opt # 30 (0.0012905094700928828, 1329, 1944, 0)\n",
      "Optimized parameters:\n",
      "-1.2702372769288646 0.0009139410665352996 -0.07225650353214756 12.321552246891756 -5.120302073184993 6.7506363990562415 -4.434288197498674 1.4383086723385183 0.4148500298135075 -0.3220836862538774\n",
      "Initial sd2: 21.71225488855651\n"
     ]
    },
    {
     "name": "stdout",
     "output_type": "stream",
     "text": [
      "Opt # 31 (0.0006159019142651392, 1734, 2520, 0)\n",
      "Optimized parameters:\n",
      "-1.1189392057162197 0.0005137846731296616 -0.16176433164422896 16.123927007780427 -4.823684149629987 6.33473367718456 -3.972343984997062 1.3162786015759065 0.34244737485150906 -0.2909146347404694\n",
      "Initial sd2: 21.809865924709275\n",
      "Opt # 32 (0.0008924805842866051, 2012, 2916, 0)\n",
      "Optimized parameters:\n",
      "-1.2772090718051015 0.00027903001026481243 -0.1999390610997685 16.87426813722279 -3.99588530866668 5.947331243101901 -4.052143626404343 1.6477605774200912 0.1222794423813943 -0.23503629645274315\n"
     ]
    }
   ],
   "source": [
    "optimal_parameters = []\n",
    "for i, pars in enumerate(multi_pars):\n",
    "    sd_ini = sd2_loss(list(pars), stats, target, utot_EAM, None, [4])\n",
    "    print('Initial sd2:', sd_ini)\n",
    "    output = fmin(sd2_loss, list(pars), args=(stats, target, utot_EAM, None, [4]), maxiter=100000, maxfun=100000, disp=0, full_output=1,ftol=1e-6)\n",
    "    params_uopt = output[0]\n",
    "    print('Opt #', i, output[1:])\n",
    "    print(\"Optimized parameters:\")\n",
    "    print(*params_uopt)\n",
    "    optimal_parameters.append(tuple([output[1:], params_uopt]))"
   ]
  },
  {
   "cell_type": "code",
   "execution_count": 1287,
   "metadata": {},
   "outputs": [
    {
     "name": "stdout",
     "output_type": "stream",
     "text": [
      "5\n",
      "Targ: [-1139.2, -906.9778906249999, -1127.13044453125, -1136.3561554687499, -1136.7059554687498]\n",
      "Model: [-1139.055520393923, -907.0405173710939, -1126.8875750628988, -1137.5465575306353, -1135.7205910721989]\n",
      "[0.0390625  0.0462963  0.03937008 0.03875969 0.03875969]\n",
      "0 0.0004354388576933695\n",
      "2 0.0005058052222426564\n",
      "3 0.0005006654936858322\n",
      "6 0.0005436355809552974\n",
      "13 0.00044108895740836566\n",
      "17 0.0005975793688722613\n",
      "19 0.0005723898954054334\n",
      "20 0.0005042031397132865\n",
      "21 0.0005323464775563254\n",
      "22 0.0005332112942286811\n",
      "26 0.0005390274456422927\n"
     ]
    },
    {
     "data": {
      "text/plain": [
       "<matplotlib.legend.Legend at 0x13a92c710>"
      ]
     },
     "execution_count": 1287,
     "metadata": {},
     "output_type": "execute_result"
    },
    {
     "data": {
      "image/png": "[encoded data removed]",
      "text/plain": [
       "<Figure size 1440x720 with 1 Axes>"
      ]
     },
     "metadata": {},
     "output_type": "display_data"
    }
   ],
   "source": [
    "plt.figure(figsize=(20,10))\n",
    "\n",
    "nat = np.array([len(x) for x in targ_dict['relax']['xyz']])[:-2]\n",
    "print(len(nat))\n",
    "\n",
    "for i, params_uopt in enumerate(optimal_parameters):\n",
    "\n",
    "    #print(params_uopt[1])\n",
    "\n",
    "    opti_out, targ_out = udif_print(params_uopt[1], stats, target, utot_EAM, [4])\n",
    "    plt.title('Selected configurations at 0K')\n",
    "    if i == 0:\n",
    "        print('Targ:', targ_out[-2][:-2])\n",
    "        print('Model:', opti_out[-2][:-2])\n",
    "\n",
    "        #nat = np.array([len(x) for x in targ_dict['relax']['xyz']])\n",
    "        print(len(np.array(targ_out[-2][:-2]))/nat)\n",
    "        plt.plot(np.array(targ_out[-2][:-2])/nat, 'o', label='target'+str(i), markersize=10)\n",
    "        \n",
    "    if params_uopt[0][0] > 0.6e-3:\n",
    "        continue\n",
    "    #if i != 10 and i != 12:\n",
    "    #    continue\n",
    "    print(i, params_uopt[0][0])\n",
    "\n",
    "        \n",
    "    #print('Opti:', [o for o in opti_out[-1][:-1]])\n",
    "    plt.plot(np.array([o for o in opti_out[-2][:-2]])/nat, 'x--', label='optimized '+str(i))\n",
    "#    else:\n",
    "#        plt.plot([o for o in opti_out[-1][:-1]], 'x--', label='optimized '+str(i))\n",
    "#        plt.plot(targ_out[-1][:-1], 'o', markersize=10)\n",
    "\n",
    "plt.xticks([0, 1, 2, 3, 4, 5, 6], ['BCC','FCC', 'vacancy','110','111','liq','inf'])\n",
    "plt.ylabel('Energy [eV]')\n",
    "#plt.ylim(-1145, -1136)\n",
    "#plt.ylim(-8.905, -8.7533)\n",
    "#plt.ylim(-8.9, -8.35)\n",
    "#plt.xlim(0, 4)\n",
    "\n",
    "plt.legend()"
   ]
  },
  {
   "cell_type": "code",
   "execution_count": 1288,
   "metadata": {},
   "outputs": [
    {
     "name": "stdout",
     "output_type": "stream",
     "text": [
      "15\n",
      "Targ: [845.2656372627717, -271.80472210709036, -837.1711089986524, -1079.5267350307167, -1139.2, -1100.8887858645915, -1014.6561261471662, -909.2807161131147, -800.6633444635341, -697.0611202328876, -602.3043063713139, -517.742999456512, -443.4032853774631, -378.657941519064, -322.6037245559544]\n",
      "Model: [843.2584809287787, -277.0572583563726, -830.8455833447576, -1091.4490586448856, -1139.055520393923, -1101.6157461686537, -1020.29998281799, -909.986355599721, -800.9046115650999, -703.5567723144138, -610.3220380943214, -517.8563481991345, -438.3839104854373, -377.5474084988842, -330.63571466243786]\n",
      "[0.1171875 0.1171875 0.1171875 0.1171875 0.1171875 0.1171875 0.1171875\n",
      " 0.1171875 0.1171875 0.1171875 0.1171875 0.1171875 0.1171875 0.1171875\n",
      " 0.1171875]\n",
      "0 0.0004354388576933695\n",
      "2 0.0005058052222426564\n",
      "3 0.0005006654936858322\n",
      "6 0.0005436355809552974\n",
      "13 0.00044108895740836566\n",
      "17 0.0005975793688722613\n",
      "19 0.0005723898954054334\n",
      "20 0.0005042031397132865\n",
      "21 0.0005323464775563254\n",
      "22 0.0005332112942286811\n",
      "26 0.0005390274456422927\n"
     ]
    },
    {
     "data": {
      "text/plain": [
       "<matplotlib.legend.Legend at 0x13c622be0>"
      ]
     },
     "execution_count": 1288,
     "metadata": {},
     "output_type": "execute_result"
    },
    {
     "data": {
      "image/png": "[encoded data removed]",
      "text/plain": [
       "<Figure size 1440x720 with 1 Axes>"
      ]
     },
     "metadata": {},
     "output_type": "display_data"
    }
   ],
   "source": [
    "plt.figure(figsize=(20,10))\n",
    "\n",
    "nat = np.array([len(x) for x in targ_dict['eos']['xyz']])[1:]\n",
    "print(len(nat))\n",
    "\n",
    "for i, params_uopt in enumerate(optimal_parameters):\n",
    "\n",
    "    #print(params_uopt[1])\n",
    "\n",
    "    opti_out, targ_out = udif_print(params_uopt[1], stats, target, utot_EAM, [4])\n",
    "    plt.title('Selected configurations at 0K')\n",
    "    if i == 0:\n",
    "        print('Targ:', targ_out[-1][1:])\n",
    "        print('Model:', opti_out[-1][1:])\n",
    "\n",
    "        #nat = np.array([len(x) for x in targ_dict['relax']['xyz']])\n",
    "        print(len(np.array(targ_out[-1][1:]))/nat)\n",
    "        plt.plot(reos, np.array(targ_out[-1][1:])/nat, 'o', label='target'+str(i), markersize=10)\n",
    "        \n",
    "    if params_uopt[0][0] > 0.6e-3:\n",
    "        continue\n",
    "    #if i != 10 and i != 12:\n",
    "    #    continue\n",
    "    print(i, params_uopt[0][0])\n",
    "\n",
    "        \n",
    "    #print('Opti:', [o for o in opti_out[-1][:-1]])\n",
    "    plt.plot(reos, np.array([o for o in opti_out[-1][1:]])/nat, 'x--', label='optimized '+str(i))\n",
    "#    else:\n",
    "#        plt.plot([o for o in opti_out[-1][:-1]], 'x--', label='optimized '+str(i))\n",
    "#        plt.plot(targ_out[-1][:-1], 'o', markersize=10)\n",
    "\n",
    "#plt.xticks([0, 1, 2, 3, 4, 5, 6], ['BCC','FCC', 'vacancy','110','111','liq','inf'])\n",
    "plt.ylabel('Energy [eV]')\n",
    "#plt.ylim(-1145, -1136)\n",
    "#plt.ylim(-8.905, -8.7533)\n",
    "#plt.ylim(-8.9, -8.35)\n",
    "#plt.xlim(0, 4)\n",
    "\n",
    "plt.legend()"
   ]
  },
  {
   "cell_type": "code",
   "execution_count": 1290,
   "metadata": {},
   "outputs": [
    {
     "name": "stdout",
     "output_type": "stream",
     "text": [
      "1038\n",
      "[8.109375   8.109375   8.109375   ... 9.18584071 9.18584071 9.18584071]\n",
      "0 0.0004354388576933695\n",
      "2 0.0005058052222426564\n",
      "3 0.0005006654936858322\n",
      "6 0.0005436355809552974\n",
      "13 0.00044108895740836566\n",
      "17 0.0005975793688722613\n",
      "19 0.0005723898954054334\n",
      "20 0.0005042031397132865\n",
      "21 0.0005323464775563254\n",
      "22 0.0005332112942286811\n",
      "26 0.0005390274456422927\n"
     ]
    },
    {
     "data": {
      "text/plain": [
       "<matplotlib.legend.Legend at 0x160d38be0>"
      ]
     },
     "execution_count": 1290,
     "metadata": {},
     "output_type": "execute_result"
    },
    {
     "data": {
      "image/png": "[encoded data removed]",
      "text/plain": [
       "<Figure size 1440x720 with 1 Axes>"
      ]
     },
     "metadata": {},
     "output_type": "display_data"
    }
   ],
   "source": [
    "plt.figure(figsize=(20,10))\n",
    "\n",
    "nat = np.array([len(x) for x in targ_dict['md']['xyz']])[:]\n",
    "print(len(nat))\n",
    "\n",
    "for i, params_uopt in enumerate(optimal_parameters):\n",
    "\n",
    "    #print(params_uopt[1])\n",
    "\n",
    "    opti_out, targ_out = udif_print(params_uopt[1], stats, target, utot_EAM,[4])\n",
    "    plt.title('Selected configurations at 0K')\n",
    "    if i == 0:\n",
    "        #print('Targ:', targ_out[0][:])\n",
    "        #print('Model:', opti_out[0][:])\n",
    "\n",
    "        #nat = np.array([len(x) for x in targ_dict['relax']['xyz']])\n",
    "        print(len(np.array(targ_out[0][:]))/nat)\n",
    "        #plt.plot(np.array(targ_out[0][:])/nat, 'o', label='target'+str(i), markersize=10)\n",
    "        plt.plot(np.array(targ_out[0][:]), 'o', label='target'+str(i), markersize=2)\n",
    "\n",
    "        \n",
    "    if params_uopt[0][0] > 0.6e-3:\n",
    "        continue\n",
    "    #if i != 10 and i != 12:\n",
    "    #    continue\n",
    "    print(i, params_uopt[0][0])\n",
    "\n",
    "    #print('Opti:', [o for o in opti_out[-1][:-1]])\n",
    "    #plt.plot(np.array([o for o in opti_out[0][:]])/nat, 'x--', label='optimized '+str(i))\n",
    "    plt.plot(np.array([o for o in opti_out[0][:]]), '--', label='optimized '+str(i), lw=1.0)\n",
    "\n",
    "#    else:\n",
    "#        plt.plot([o for o in opti_out[-1][:-1]], 'x--', label='optimized '+str(i))\n",
    "#        plt.plot(targ_out[-1][:-1], 'o', markersize=10)\n",
    "\n",
    "#plt.xticks([0, 1, 2, 3, 4, 5, 6], ['BCC','FCC', 'vacancy','110','111','liq','inf'])\n",
    "plt.ylabel('Energy [eV]')\n",
    "#plt.ylim(-1145, -1136)\n",
    "#plt.ylim(-8.905, -8.533)\n",
    "#plt.ylim(-8.9, -8.35)\n",
    "\n",
    "plt.ylim(-1180,-700)\n",
    "#plt.ylim(-1136,-1132)\n",
    "#plt.ylim(-1000,-900)\n",
    "\n",
    "plt.legend()"
   ]
  },
  {
   "cell_type": "code",
   "execution_count": 1276,
   "metadata": {},
   "outputs": [
    {
     "name": "stdout",
     "output_type": "stream",
     "text": [
      "0 0.0004354418880580194 \n",
      " [-1.55157224e+00  6.19313883e-04 -2.40345053e-01  1.47964187e+01\n",
      " -5.21331770e+00  6.55630207e+00 -4.21290956e+00  1.38589665e+00\n",
      "  4.05508870e-01 -3.08873244e-01]\n",
      "1 0.0005107086380989782 \n",
      " [-1.42777825e+00  6.86369876e-04 -2.86779119e+00  1.58345726e+01\n",
      " -5.54279341e+00  6.55789464e+00 -4.01838505e+00  1.19067771e+00\n",
      "  4.86745272e-01 -3.25730900e-01]\n",
      "2 0.000711401907683944 \n",
      " [-1.01109934e+00  9.12551310e-04  7.38144313e-01  1.35396139e+01\n",
      " -3.93098577e+00  5.62823368e+00 -3.90553121e+00  1.60239127e+00\n",
      "  8.01345922e-02 -2.20808888e-01]\n",
      "3 0.0010293822802698838 \n",
      " [-1.57488462e+00  4.12117440e-04 -2.42795344e+00  1.69244672e+01\n",
      " -4.86163999e+00  6.11970592e+00 -3.87112392e+00  1.31716651e+00\n",
      "  3.50851701e-01 -2.83664639e-01]\n",
      "4 0.0004931888614860465 \n",
      " [-1.26213733e+00  8.29479470e-04 -2.17537005e+00  1.49186612e+01\n",
      " -5.16455530e+00  6.31718406e+00 -3.98178190e+00  1.27763287e+00\n",
      "  3.90703910e-01 -3.01661661e-01]\n",
      "6 0.0005095304399011984 \n",
      " [-1.21118220e+00  7.54284583e-04  7.75371156e-01  1.43839572e+01\n",
      " -5.05270340e+00  6.41918036e+00 -4.07175035e+00  1.32737277e+00\n",
      "  3.72855090e-01 -3.00065181e-01]\n",
      "8 0.0009134414342471351 \n",
      " [-8.47425412e-01  6.60690215e-04  2.17481244e+00  1.53433028e+01\n",
      " -5.11087192e+00  6.50340137e+00 -3.91430357e+00  1.16723608e+00\n",
      "  4.13274872e-01 -3.10466273e-01]\n",
      "18 0.0004704152320419534 \n",
      " [-1.29003217e+00  7.68362380e-04 -7.04209720e-03  1.44384072e+01\n",
      " -5.06773269e+00  6.38148753e+00 -4.07213725e+00  1.34038646e+00\n",
      "  3.71207394e-01 -2.98817890e-01]\n",
      "19 0.0006078340975267005 \n",
      " [-1.56821961e+00  5.17915414e-04 -1.56098634e-02  1.49030059e+01\n",
      " -4.45076137e+00  6.15969554e+00 -4.21658317e+00  1.63330600e+00\n",
      "  2.09796462e-01 -2.57565467e-01]\n",
      "21 0.000506234418856716 \n",
      " [-1.51399007e+00  4.00411536e-04 -8.59588811e-02  1.62629568e+01\n",
      " -5.39372046e+00  6.72072954e+00 -4.16150858e+00  1.28367716e+00\n",
      "  4.65135068e-01 -3.23424964e-01]\n",
      "22 0.0005251748473635425 \n",
      " [-1.32366469e+00  7.25944726e-04 -5.75760324e-02  1.42922811e+01\n",
      " -4.91009104e+00  6.41104900e+00 -4.20141829e+00  1.45804787e+00\n",
      "  3.23824957e-01 -2.90374161e-01]\n",
      "23 0.0007749816035403683 \n",
      " [-1.00660434e+00  5.94968703e-04 -1.29753389e+00  1.56786924e+01\n",
      " -3.90373448e+00  5.76384706e+00 -3.93131249e+00  1.60113904e+00\n",
      "  9.04466386e-02 -2.25083296e-01]\n",
      "26 0.0007057348089235475 \n",
      " [-8.75130097e-01  1.01495436e-03 -1.05803486e+00  1.44309978e+01\n",
      " -5.11082666e+00  6.19359023e+00 -3.79499306e+00  1.16196819e+00\n",
      "  3.84480602e-01 -2.98950645e-01]\n",
      "27 0.001073460057058641 \n",
      " [-4.44109776e-01  1.24851743e-03 -2.38266353e+00  1.40138029e+01\n",
      " -4.72323743e+00  5.86262283e+00 -3.60092870e+00  1.14460478e+00\n",
      "  2.94938920e-01 -2.74864697e-01]\n",
      "32 0.001093545890313489 \n",
      " [-3.65939958e-01  1.26722948e-03  2.62076797e-01  1.29453023e+01\n",
      " -3.57005726e+00  5.19873790e+00 -3.56218289e+00  1.49426841e+00\n",
      " -6.16991891e-03 -1.95730062e-01]\n"
     ]
    }
   ],
   "source": [
    "for i, params_uopt in enumerate(optimal_parameters):\n",
    "    if params_uopt[0][0] > 1.1e-3:\n",
    "        continue\n",
    "    print(i, params_uopt[0][0], '\\n', params_uopt[1])\n"
   ]
  },
  {
   "cell_type": "code",
   "execution_count": 1279,
   "metadata": {
    "collapsed": true
   },
   "outputs": [],
   "source": [
    "pars_out = {}\n",
    "pars_out['pair_nodes'] = stats_opt['hyperparams']\n",
    "pars_out['mb_node'] = stats_opt['hyperparams'][4]"
   ]
  },
  {
   "cell_type": "code",
   "execution_count": 1278,
   "metadata": {
    "collapsed": true
   },
   "outputs": [],
   "source": [
    "pars_list = [optimal_parameters[0], optimal_parameters[2], optimal_parameters[26]]"
   ]
  },
  {
   "cell_type": "code",
   "execution_count": 1280,
   "metadata": {
    "collapsed": true
   },
   "outputs": [],
   "source": [
    "pars_out['params'] = pars_list"
   ]
  },
  {
   "cell_type": "code",
   "execution_count": 1281,
   "metadata": {
    "collapsed": true
   },
   "outputs": [],
   "source": [
    "#pars_out\n",
    "#optimal_list = [pars_out]"
   ]
  },
  {
   "cell_type": "code",
   "execution_count": 1282,
   "metadata": {
    "collapsed": true
   },
   "outputs": [],
   "source": [
    "with open(os.path.join(working, 'pars_out.pickle'), 'rb') as fi:\n",
    "    optimal_list = pickle.load(fi)\n",
    "\n",
    "if type(optimal_list) != list:\n",
    "    optimal_list = [optimal_list]\n",
    "\n",
    "optimal_list.append(pars_out)\n",
    "\n",
    "with open(os.path.join(working, 'pars_out.pickle'), 'wb') as fo:\n",
    "    pickle.dump(optimal_list, fo)"
   ]
  },
  {
   "cell_type": "code",
   "execution_count": 1283,
   "metadata": {
    "collapsed": true
   },
   "outputs": [],
   "source": [
    "with open(os.path.join(working, 'pars_out.pickle'), 'rb') as fi:\n",
    "    optimal_list = pickle.load(fi)"
   ]
  },
  {
   "cell_type": "code",
   "execution_count": 1284,
   "metadata": {},
   "outputs": [
    {
     "data": {
      "text/plain": [
       "[{'pair_nodes': [2.75, 3.25, 3.75, 4.356, 5.0, 5.5],\n",
       "  'mb_node': [5.0],\n",
       "  'params': [array([-6.40384877e-01,  4.55425528e-05,  1.47595943e+01, -3.28931140e+00,\n",
       "           3.00810716e+00, -1.45207164e+00,  3.64513813e-01, -4.73088297e-02]),\n",
       "   array([-8.22483533e-01,  8.94376574e-06,  1.98340385e+01, -3.35142547e+00,\n",
       "           3.18038537e+00, -1.34334125e+00,  1.74653347e-01,  6.60838309e-02])]},\n",
       " {'pair_nodes': [2.5, 2.75, 3.25, 3.75, 4.25, 4.75, 5.25, 5.75],\n",
       "  'mb_node': [4.25],\n",
       "  'params': [((0.0016024158702214685, 2927, 4212, 0),\n",
       "    array([-6.06235166e-01,  1.27132925e-03, -2.09926568e+00,  1.35247449e+01,\n",
       "           -3.95514000e+00,  5.32105698e+00, -3.60023508e+00,  1.43574082e+00,\n",
       "            8.20651339e-02, -2.18013211e-01]))]},\n",
       " {'pair_nodes': [2.5, 2.75, 3.25, 3.75, 4.25, 4.75, 5.25, 5.75],\n",
       "  'mb_node': 4.25,\n",
       "  'params': [((0.0011513028162758142, 4385, 6122, 0),\n",
       "    array([-1.39430436e+00,  9.74288514e-04, -1.95722136e+00,  1.39902536e+01,\n",
       "           -5.21661190e+00,  6.26344846e+00, -4.03066743e+00,  1.31729084e+00,\n",
       "            3.92271090e-01, -3.02581218e-01])),\n",
       "   ((0.0017897343044891321, 1980, 2857, 0),\n",
       "    array([-5.82456703e-01,  9.67589735e-04,  1.72687287e+00,  1.41231676e+01,\n",
       "           -4.45737218e+00,  5.88704158e+00, -3.67574144e+00,  1.23911215e+00,\n",
       "            2.55776214e-01, -2.65329125e-01]))]},\n",
       " {'pair_nodes': [2.5, 2.75, 3.25, 3.75, 4.25, 4.75, 5.25, 5.75],\n",
       "  'mb_node': 4.25,\n",
       "  'params': [((0.0004354418880580194, 2092, 2943, 0),\n",
       "    array([-1.55157224e+00,  6.19313883e-04, -2.40345053e-01,  1.47964187e+01,\n",
       "           -5.21331770e+00,  6.55630207e+00, -4.21290956e+00,  1.38589665e+00,\n",
       "            4.05508870e-01, -3.08873244e-01])),\n",
       "   ((0.000711401907683944, 2802, 3979, 0),\n",
       "    array([-1.01109934e+00,  9.12551310e-04,  7.38144313e-01,  1.35396139e+01,\n",
       "           -3.93098577e+00,  5.62823368e+00, -3.90553121e+00,  1.60239127e+00,\n",
       "            8.01345922e-02, -2.20808888e-01])),\n",
       "   ((0.0007057348089235475, 2296, 3329, 0),\n",
       "    array([-8.75130097e-01,  1.01495436e-03, -1.05803486e+00,  1.44309978e+01,\n",
       "           -5.11082666e+00,  6.19359023e+00, -3.79499306e+00,  1.16196819e+00,\n",
       "            3.84480602e-01, -2.98950645e-01]))]}]"
      ]
     },
     "execution_count": 1284,
     "metadata": {},
     "output_type": "execute_result"
    }
   ],
   "source": [
    "optimal_list"
   ]
  },
  {
   "cell_type": "code",
   "execution_count": null,
   "metadata": {
    "collapsed": true
   },
   "outputs": [],
   "source": []
  },
  {
   "cell_type": "code",
   "execution_count": 1230,
   "metadata": {
    "collapsed": true
   },
   "outputs": [],
   "source": [
    "# W parameters\n",
    "l = 0.274\n",
    "r_wse = 3.168\n",
    "r_wse = 1.584\n",
    "eta = 5.69\n",
    "dE = 8.9\n",
    "\n",
    "# equation of state. x is lattice expansion/compression parameter\n",
    "def eos(x):\n",
    "    a = (x - 1.0)*r_wse/l\n",
    "    ene = np.exp(-a)\n",
    "    ene *= -1.0 - a - 0.05*a**3\n",
    "    return dE*ene"
   ]
  },
  {
   "cell_type": "code",
   "execution_count": 1231,
   "metadata": {
    "collapsed": true
   },
   "outputs": [],
   "source": [
    "f_spline = lambda r, aa, kk: sum([a*(rk - r)**3 for a, rk in zip(aa, kk) if r < rk and r > 0.01])\n",
    "\n",
    "# electronic density function (cubic splines)\n",
    "#rho = lambda r, a, k: sum([c*(p - r)**3 for c, p in zip(a, k) if r < p])\n",
    "\n",
    "rho = f_spline\n",
    "\n",
    "# embedding function\n",
    "F = lambda d, a: a[0]*d**0.5 + a[1]*d + a[2]*d**2\n",
    "\n",
    "# pair potential function (same spline form as electronic density)\n",
    "V = rho\n",
    "\n",
    "V = lambda r, aa, cc: sum([a*(rc - r)**3 for a, rc in zip(aa, cc) if r < rc])\n",
    "\n",
    "# Embedding function. Parameters: electronic density (d), coefficients for 1/2, 1, and 2 powers of density\n",
    "F = lambda d, a: a[0]*d**0.5 + a[1]*d + a[2]*d**2\n",
    "\n",
    "# Cohesive potential (cubic splines - same form as V)\n",
    "phi = V"
   ]
  },
  {
   "cell_type": "code",
   "execution_count": 1339,
   "metadata": {},
   "outputs": [
    {
     "data": {
      "text/plain": [
       "(array([ 1.,  0.,  0.,  0.,  0.,  0.,  0.,  0.,  0.,  0.,  0.,  0.,  8.,\n",
       "         0.,  6.,  0.,  0.,  0.,  0.,  0., 12.,  0.,  0., 24.,  0.,  8.,\n",
       "         0.,  0.,  3.,  0.,  0., 24., 12.,  0.,  0., 12.,  0.,  8.,  0.,\n",
       "         0.,  3.,  0.,  0.,  6.,  0.,  0.,  0.,  0.,  0.,  1.]),\n",
       " array([ 0.        ,  0.22074804,  0.44149608,  0.66224412,  0.88299216,\n",
       "         1.1037402 ,  1.32448824,  1.54523628,  1.76598432,  1.98673236,\n",
       "         2.20748039,  2.42822843,  2.64897647,  2.86972451,  3.09047255,\n",
       "         3.31122059,  3.53196863,  3.75271667,  3.97346471,  4.19421275,\n",
       "         4.41496079,  4.63570883,  4.85645687,  5.07720491,  5.29795295,\n",
       "         5.51870099,  5.73944903,  5.96019707,  6.1809451 ,  6.40169314,\n",
       "         6.62244118,  6.84318922,  7.06393726,  7.2846853 ,  7.50543334,\n",
       "         7.72618138,  7.94692942,  8.16767746,  8.3884255 ,  8.60917354,\n",
       "         8.82992158,  9.05066962,  9.27141766,  9.4921657 ,  9.71291374,\n",
       "         9.93366178, 10.15440981, 10.37515785, 10.59590589, 10.81665393,\n",
       "        11.03740197]),\n",
       " <a list of 50 Patch objects>)"
      ]
     },
     "execution_count": 1339,
     "metadata": {},
     "output_type": "execute_result"
    },
    {
     "data": {
      "image/png": "[encoded data removed]",
      "text/plain": [
       "<Figure size 432x288 with 1 Axes>"
      ]
     },
     "metadata": {},
     "output_type": "display_data"
    }
   ],
   "source": [
    "from statmechlib.preprocessing import pair_dist_cutoff, force_targ\n",
    "# Total pair potential\n",
    "pos = targ_dict['relax']['xyz'][0]\n",
    "bx = targ_dict['relax']['box'][0]\n",
    "rr, rx = pair_dist_cutoff(pos, bx, 5.5)\n",
    "\n",
    "plt.hist(rr[0], 50)\n",
    "#r = np.linspace(0., rcut, 201)"
   ]
  },
  {
   "cell_type": "code",
   "execution_count": 1233,
   "metadata": {
    "collapsed": true
   },
   "outputs": [],
   "source": [
    "# embedding function\n",
    "F = lambda d, a: a[0]*d**0.5 + a[1]*d + a[2]*d**2\n",
    "\n",
    "V = lambda r, aa, cc: sum([a*(rc - r)**3 for a, rc in zip(aa, cc) if r < rc])\n",
    "\n",
    "# Cohesive potential (cubic splines - same form as V)\n",
    "phi = lambda r, aa, cc: sum([a*(rc - r)**3 for a, rc in zip(aa, cc) if r < rc])"
   ]
  },
  {
   "cell_type": "code",
   "execution_count": 1234,
   "metadata": {
    "collapsed": true
   },
   "outputs": [],
   "source": [
    "#optimal_parameters.append(tuple([output[1:], params_uopt]))\n",
    "pair_y = optimal_parameters[1][1][2:]\n",
    "par = optimal_parameters[1][1][:2]\n",
    "many_y = [par[0], 0.0, par[1]]"
   ]
  },
  {
   "cell_type": "code",
   "execution_count": 1235,
   "metadata": {
    "collapsed": true
   },
   "outputs": [],
   "source": [
    "#many_y = [multi_pars[0][0], 0.0, multi_pars[0][1]]\n",
    "#pair_y = multi_pars[0][2:]"
   ]
  },
  {
   "cell_type": "code",
   "execution_count": 1246,
   "metadata": {
    "collapsed": true
   },
   "outputs": [],
   "source": [
    "#V_x_r = [2.5, 2.75, 3.25, 3.75, 4.5, 5.5]\n",
    "V_x_r = stats_opt['hyperparams']\n",
    "rho_x_r = stats_opt['hyperparams'][4:5]\n",
    "rho_x_a = [1.0]"
   ]
  },
  {
   "cell_type": "code",
   "execution_count": 1247,
   "metadata": {},
   "outputs": [
    {
     "data": {
      "text/plain": [
       "([2.5, 2.75, 3.25, 3.75, 4.25, 4.75, 5.25, 5.75],\n",
       " [-1.394304357925475, 0.0, 0.0009742885139922648],\n",
       " array([-1.95722136, 13.99025355, -5.2166119 ,  6.26344846, -4.03066743,\n",
       "         1.31729084,  0.39227109, -0.30258122]))"
      ]
     },
     "execution_count": 1247,
     "metadata": {},
     "output_type": "execute_result"
    }
   ],
   "source": [
    "stats_opt['hyperparams'], many_y, pair_y"
   ]
  },
  {
   "cell_type": "code",
   "execution_count": 1248,
   "metadata": {},
   "outputs": [
    {
     "data": {
      "text/plain": [
       "([1.0],\n",
       " [4.25],\n",
       " [-1.394304357925475, 0.0, 0.0009742885139922648],\n",
       " [2.5, 2.75, 3.25, 3.75, 4.25, 4.75, 5.25, 5.75],\n",
       " array([-1.95722136, 13.99025355, -5.2166119 ,  6.26344846, -4.03066743,\n",
       "         1.31729084,  0.39227109, -0.30258122]))"
      ]
     },
     "execution_count": 1248,
     "metadata": {},
     "output_type": "execute_result"
    }
   ],
   "source": [
    "rho_x_a, rho_x_r, many_y, V_x_r, pair_y"
   ]
  },
  {
   "cell_type": "code",
   "execution_count": 1249,
   "metadata": {
    "collapsed": true
   },
   "outputs": [],
   "source": [
    "ene = []\n",
    "for a in np.linspace(0.5, 2.0, 101):\n",
    "    z = a*rr\n",
    "    u_pair = 0.5*np.sum([V(x, pair_y, V_x_r) for x in z.flatten() if x > 0.1])\n",
    "\n",
    "    u_many = 0.0\n",
    "    for i in range(z.shape[0]):\n",
    "        #print(z[i])\n",
    "        d = np.sum([phi(x, rho_x_a, rho_x_r) for x in z[i] if x > 0.1])\n",
    "        #print('d',a, d)\n",
    "        u_many += F(d, many_y)\n",
    "\n",
    "    ene.append([a, u_pair, u_many, u_pair+u_many])\n",
    "    #print(a, u_pair, u_many, u_pair + u_many)\n",
    "\n",
    "#print(ene)\n",
    "ene = np.array(ene)\n",
    "#ene2 = np.array(ene2)\n",
    "#ene"
   ]
  },
  {
   "cell_type": "code",
   "execution_count": 1250,
   "metadata": {},
   "outputs": [
    {
     "data": {
      "text/plain": [
       "Text(0,0.5,'U')"
      ]
     },
     "execution_count": 1250,
     "metadata": {},
     "output_type": "execute_result"
    },
    {
     "data": {
      "image/png": "[encoded data removed]",
      "text/plain": [
       "<Figure size 432x288 with 1 Axes>"
      ]
     },
     "metadata": {},
     "output_type": "display_data"
    }
   ],
   "source": [
    "#plt.plot(ene[:,0], ene[:,1]/54, label='pair')\n",
    "#plt.plot(ene[:,0], ene[:,2]/54, label='manybody')\n",
    "plt.title('Equation of state (T=0K)')\n",
    "plt.plot(ene[:,0]*2.74, [eos(x) for x in ene[:,0]], label='universal EOS')\n",
    "plt.plot(ene[:,0]*2.74, ene[:,3]/128, label='u-total')\n",
    "#plt.plot(ene2[:,0], ene2[:,3]/54, label='f-total')\n",
    "plt.hlines(0.0,0.5,6.0,lw=1)\n",
    "plt.legend()\n",
    "plt.xlim(2.0, 5.75)\n",
    "plt.ylim(-10,10)\n",
    "#plt.xlim(2.5, 3.0)\n",
    "#plt.ylim(-9,-8.8)\n",
    "\n",
    "plt.xlabel('x')\n",
    "plt.ylabel(r'U')"
   ]
  },
  {
   "cell_type": "code",
   "execution_count": 39,
   "metadata": {
    "collapsed": true
   },
   "outputs": [],
   "source": [
    "rho_a = [1.0]\n",
    "rho_r = [stats_opt['hyperparams'][-1]]\n",
    "\n",
    "pair_a = pars_in1[2:]\n",
    "pair_r = stats_opt['hyperparams']\n",
    "\n",
    "many_a = [pars_in[0], 0.0, pars_in[1]]"
   ]
  },
  {
   "cell_type": "code",
   "execution_count": 40,
   "metadata": {},
   "outputs": [
    {
     "name": "stdout",
     "output_type": "stream",
     "text": [
      "rhomax: 768.0\n"
     ]
    }
   ],
   "source": [
    "# Ranges of densities and separations\n",
    "\n",
    "nr = 5000\n",
    "rcut = stats_opt['hyperparams'][-1]\n",
    "dr = rcut/nr\n",
    "\n",
    "rhomax = 12.0*phi(1.5, rho_a, rho_r)\n",
    "print('rhomax:', rhomax)\n",
    "#rhomax = 1000.0\n",
    "nrho = 5000\n",
    "drho = rhomax/nrho\n",
    "\n",
    "ri = 1.0\n",
    "ro = 2.0\n",
    "\n",
    "# W properties\n",
    "na = 74\n",
    "ma = 183.84\n",
    "lc = 3.1653\n",
    "alat = 'bcc'\n",
    "\n",
    "# System composition\n",
    "n_el = 1\n",
    "el_name = ['W']"
   ]
  },
  {
   "cell_type": "code",
   "execution_count": 41,
   "metadata": {
    "collapsed": true
   },
   "outputs": [],
   "source": [
    "def u_trans(r, unucl, ueq, ri=1.0, ro=2.0):\n",
    "    \"\"\"Transition between the core and equillibrium potentials\"\"\"\n",
    "    if r < ri:\n",
    "        return unucl\n",
    "    elif r < ro:\n",
    "        x = (ro + ri - 2*r)/(ro - ri)\n",
    "        eta = 3/16*x**5 - 5/8*x**3 + 15/16*x + 1/2\n",
    "        return ueq + eta*(unucl - ueq)\n",
    "    else:\n",
    "        return ueq"
   ]
  },
  {
   "cell_type": "code",
   "execution_count": 1340,
   "metadata": {},
   "outputs": [
    {
     "ename": "NameError",
     "evalue": "name 'rhomax' is not defined",
     "output_type": "error",
     "traceback": [
      "\u001b[0;31m---------------------------------------------------------------------------\u001b[0m",
      "\u001b[0;31mNameError\u001b[0m                                 Traceback (most recent call last)",
      "\u001b[0;32m<ipython-input-1340-e486d01c34ab>\u001b[0m in \u001b[0;36m<module>\u001b[0;34m()\u001b[0m\n\u001b[1;32m      2\u001b[0m \u001b[0;34m\u001b[0m\u001b[0m\n\u001b[1;32m      3\u001b[0m \u001b[0;31m# prepare lists of values\u001b[0m\u001b[0;34m\u001b[0m\u001b[0;34m\u001b[0m\u001b[0m\n\u001b[0;32m----> 4\u001b[0;31m \u001b[0mdens\u001b[0m \u001b[0;34m=\u001b[0m \u001b[0mnp\u001b[0m\u001b[0;34m.\u001b[0m\u001b[0mlinspace\u001b[0m\u001b[0;34m(\u001b[0m\u001b[0;36m0.\u001b[0m\u001b[0;34m,\u001b[0m \u001b[0mrhomax\u001b[0m\u001b[0;34m-\u001b[0m\u001b[0mdrho\u001b[0m\u001b[0;34m,\u001b[0m \u001b[0mnrho\u001b[0m\u001b[0;34m,\u001b[0m \u001b[0mendpoint\u001b[0m\u001b[0;34m=\u001b[0m\u001b[0;32mTrue\u001b[0m\u001b[0;34m)\u001b[0m\u001b[0;34m\u001b[0m\u001b[0m\n\u001b[0m\u001b[1;32m      5\u001b[0m \u001b[0mr\u001b[0m \u001b[0;34m=\u001b[0m \u001b[0mnp\u001b[0m\u001b[0;34m.\u001b[0m\u001b[0mlinspace\u001b[0m\u001b[0;34m(\u001b[0m\u001b[0;36m0.\u001b[0m\u001b[0;34m,\u001b[0m \u001b[0mrcut\u001b[0m\u001b[0;34m-\u001b[0m\u001b[0mdr\u001b[0m\u001b[0;34m,\u001b[0m \u001b[0mnr\u001b[0m\u001b[0;34m,\u001b[0m \u001b[0mendpoint\u001b[0m\u001b[0;34m=\u001b[0m\u001b[0;32mTrue\u001b[0m\u001b[0;34m)\u001b[0m\u001b[0;34m\u001b[0m\u001b[0m\n\u001b[1;32m      6\u001b[0m \u001b[0mr2\u001b[0m \u001b[0;34m=\u001b[0m \u001b[0mnp\u001b[0m\u001b[0;34m.\u001b[0m\u001b[0mlinspace\u001b[0m\u001b[0;34m(\u001b[0m\u001b[0;36m0.\u001b[0m\u001b[0;34m,\u001b[0m \u001b[0mrcut\u001b[0m\u001b[0;34m,\u001b[0m \u001b[0;36m201\u001b[0m\u001b[0;34m)\u001b[0m\u001b[0;34m\u001b[0m\u001b[0m\n",
      "\u001b[0;31mNameError\u001b[0m: name 'rhomax' is not defined"
     ]
    }
   ],
   "source": [
    "from statmechlib.forcefields import u_core\n",
    "\n",
    "# prepare lists of values\n",
    "dens = np.linspace(0., rhomax-drho, nrho, endpoint=True)\n",
    "r = np.linspace(0., rcut-dr, nr, endpoint=True)\n",
    "r2 = np.linspace(0., rcut, 201)\n",
    "\n",
    "fembd = [F(d, many_a) for d in dens] # W\n",
    "edens = np.array([phi(x, rho_a, rho_r) for x in r])\n",
    "\n",
    "# 1. Cubic spline for r > r_o\n",
    "f_outer = [V(x, pair_a, pair_r) for i, x in enumerate(r)]\n",
    "# 2. Repulsive core for r < r_i (precalculate up to r_o)\n",
    "f_inner = [0.0] + [u_core(x) for x in r[1:]]\n",
    "# 3. Transition region for r_i < r < r_o\n",
    "fpair = [x*u_trans(x, f_inner[i], f_outer[i]) for i, x in enumerate(r)]\n",
    "#fpair = f_outer"
   ]
  },
  {
   "cell_type": "code",
   "execution_count": 708,
   "metadata": {
    "collapsed": true
   },
   "outputs": [],
   "source": [
    "# LAMMPS format\n",
    "pot_path = '../sim/potentials'\n",
    "\n",
    "with open(os.path.join(pot_path, 'W_lvnew.eam.fs'), 'w') as fo:\n",
    "    \n",
    "    # Comment section\n",
    "    fo.write('Comment 1\\n')\n",
    "    fo.write('Comment 2\\n')\n",
    "    fo.write('Comment 3\\n')\n",
    "    \n",
    "    # Number of elements\n",
    "    fo.write(f\"{n_el:5d} \")\n",
    "    for i in range(n_el):\n",
    "        fo.write(f\"{el_name[i]:2}\")\n",
    "    fo.write(\"\\n\")\n",
    "    \n",
    "    # number of grid points, step size, and cutoff\n",
    "    fo.write(f\"{nrho:5d}{drho:24.16e}{nr:5d}{dr:24.16e}{rcut:24.16e}\\n\")\n",
    "    \n",
    "    # atomic number, mass, lattice size, lattice type\n",
    "    fo.write(f\"{na:5d} {ma:14.4f} {lc:14.4f} {alat:10}\\n\")\n",
    "    \n",
    "    # Embeding function\n",
    "    for i in range(nrho//4):\n",
    "        fo.write(\"{0:20.12e}{1:20.12e}{2:20.12e}{3:20.12e}\\n\".format(*fembd[i*4:i*4+4]))\n",
    "    \n",
    "    # Electronic density\n",
    "    for i in range(nr//4):\n",
    "        fo.write(\"{0:20.12e}{1:20.12e}{2:20.12e}{3:20.12e}\\n\".format(*edens[i*4:i*4+4]))\n",
    "        \n",
    "    # Pair potential\n",
    "    for i in range(nr//4):\n",
    "        fo.write(\"{0:20.12e}{1:20.12e}{2:20.12e}{3:20.12e}\\n\".format(*fpair[i*4:i*4+4]))"
   ]
  },
  {
   "cell_type": "code",
   "execution_count": null,
   "metadata": {
    "collapsed": true
   },
   "outputs": [],
   "source": []
  }
 ],
 "metadata": {
  "kernelspec": {
   "display_name": "Python 3",
   "language": "python",
   "name": "python3"
  },
  "language_info": {
   "codemirror_mode": {
    "name": "ipython",
    "version": 3
   },
   "file_extension": ".py",
   "mimetype": "text/x-python",
   "name": "python",
   "nbconvert_exporter": "python",
   "pygments_lexer": "ipython3",
   "version": "3.6.1"
  }
 },
 "nbformat": 4,
 "nbformat_minor": 2
}
