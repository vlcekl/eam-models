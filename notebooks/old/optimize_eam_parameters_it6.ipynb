{
 "cells": [
  {
   "cell_type": "code",
   "execution_count": 2,
   "metadata": {
    "collapsed": true
   },
   "outputs": [],
   "source": [
    "import os\n",
    "import sys\n",
    "import re\n",
    "import numpy as np\n",
    "%matplotlib inline\n",
    "import matplotlib.pyplot as plt\n",
    "import copy\n",
    "import pickle\n",
    "from scipy.optimize import fmin"
   ]
  },
  {
   "cell_type": "code",
   "execution_count": 3,
   "metadata": {
    "collapsed": true
   },
   "outputs": [],
   "source": [
    "%load_ext autoreload\n",
    "%autoreload 2"
   ]
  },
  {
   "cell_type": "code",
   "execution_count": 4,
   "metadata": {
    "collapsed": true
   },
   "outputs": [],
   "source": [
    "sys.path.append('../../statmechlib')\n",
    "from statmechlib.read_write import read_vasp\n",
    "from statmechlib.preprocessing import Trajectory, select_nodes, scale_configuration, pair_dist_cutoff\n",
    "from statmechlib.preprocessing import pair_dist, force_targ, get_stats_EAM, get_stats_EAM_pairdist\n",
    "from statmechlib.forcefields import sd2_loss, utot_EAM, ftot_EAM, udif_print, u_core\n",
    "from statmechlib.preprocessing import universal_eos"
   ]
  },
  {
   "cell_type": "code",
   "execution_count": 5,
   "metadata": {
    "collapsed": true
   },
   "outputs": [],
   "source": [
    "target_raw = '../data/target_raw'\n",
    "target_proc = '../data/target_processed'\n",
    "working = '../data/working'"
   ]
  },
  {
   "cell_type": "code",
   "execution_count": 6,
   "metadata": {
    "collapsed": true
   },
   "outputs": [],
   "source": [
    "n = int((1.45-0.85)/0.05 + 0.01)\n",
    "reos = np.linspace(0.85, 1.45, n+1)*2.74\n",
    "#for i, scale in enumerate(np.linspace(0.85, 1.45, 13)):\n",
    "#    print(round(reos[i], 3), universal_eos(scale, 'W'))"
   ]
  },
  {
   "cell_type": "code",
   "execution_count": 81,
   "metadata": {
    "collapsed": true
   },
   "outputs": [],
   "source": [
    "with open(os.path.join(working, 'stats_clean'+'.pickle'), 'rb') as fi:\n",
    "    stats_ready = pickle.load(fi)\n",
    "\n",
    "with open(os.path.join(working, 'target_clean'+'.pickle'), 'rb') as fi:\n",
    "    targ_ready = pickle.load(fi)   "
   ]
  },
  {
   "cell_type": "code",
   "execution_count": 82,
   "metadata": {},
   "outputs": [
    {
     "data": {
      "text/plain": [
       "[(0, 2.4),\n",
       " (1, 2.45),\n",
       " (2, 2.5),\n",
       " (3, 2.65),\n",
       " (4, 2.7),\n",
       " (5, 2.72),\n",
       " (6, 2.73),\n",
       " (7, 2.74),\n",
       " (8, 2.75),\n",
       " (9, 2.77),\n",
       " (10, 2.8),\n",
       " (11, 2.85),\n",
       " (12, 2.9),\n",
       " (13, 3.0),\n",
       " (14, 3.1),\n",
       " (15, 3.2),\n",
       " (16, 3.3),\n",
       " (17, 3.45),\n",
       " (18, 3.6),\n",
       " (19, 3.75),\n",
       " (20, 4.0),\n",
       " (21, 4.1),\n",
       " (22, 4.25),\n",
       " (23, 4.356),\n",
       " (24, 4.5),\n",
       " (25, 4.65),\n",
       " (26, 4.8),\n",
       " (27, 5.0),\n",
       " (28, 5.15),\n",
       " (29, 5.3),\n",
       " (30, 5.45),\n",
       " (31, 5.6),\n",
       " (32, 5.75)]"
      ]
     },
     "execution_count": 82,
     "metadata": {},
     "output_type": "execute_result"
    }
   ],
   "source": [
    "#print(len(targ_ready['md']['energy']))\n",
    "[(i, r) for i, r in enumerate(stats_ready['hyperparams'])]"
   ]
  },
  {
   "cell_type": "code",
   "execution_count": 83,
   "metadata": {
    "collapsed": true
   },
   "outputs": [],
   "source": [
    "#2.5  2.75 3.   3.5  4.   4.5  5.   5.75\n",
    "#2.65 2.75 3.25 3.75 4.25 4.75 5.25 5.75\n",
    "#2.65 2.7 2.75 2.8 3.25 3.75 4.25 4.75 5.25 5.75\n",
    "\n",
    "#2.5  2.7 2.75 2.85 3. 3.5  4.   4.5  5.   5.75\n",
    "\n",
    "multi_index = []\n",
    "#multi_index.append([1, 3, 6, 8, 10, 12, 14, 16])\n",
    "#multi_index.append([0, 3, 5, 8, 13, 17, 20, 24, 27, 31])\n",
    "multi_index.append([2, 4, 8, 11, 13, 17, 20, 24, 27, 32])\n",
    "multi_index.append([1, 4, 6, 9, 13, 17, 20, 24, 27, 31])\n",
    "multi_index.append([1, 4, 7, 9, 13, 17, 20, 24, 27, 31])\n",
    "multi_index.append([1, 5, 8, 12, 14, 18, 22, 26, 31])\n",
    "multi_index.append([1, 6, 9, 13, 17, 20, 24, 27, 31])\n",
    "multi_index.append([2, 8, 13, 17, 20, 24, 27, 32])\n",
    "multi_index.append([2, 8, 14, 19, 22, 24, 27, 30])\n",
    "multi_index.append([2, 8, 15, 19, 22, 24, 27, 31])"
   ]
  },
  {
   "cell_type": "code",
   "execution_count": 84,
   "metadata": {},
   "outputs": [
    {
     "name": "stdout",
     "output_type": "stream",
     "text": [
      "[2.5  2.7  2.75 2.85 3.   3.45 4.   4.5  5.   5.75]\n",
      "[2.45 2.7  2.73 2.77 3.   3.45 4.   4.5  5.   5.6 ]\n",
      "[2.45 2.7  2.74 2.77 3.   3.45 4.   4.5  5.   5.6 ]\n",
      "[2.45 2.72 2.75 2.9  3.1  3.6  4.25 4.8  5.6 ]\n",
      "[2.45 2.73 2.77 3.   3.45 4.   4.5  5.   5.6 ]\n",
      "[2.5  2.75 3.   3.45 4.   4.5  5.   5.75]\n",
      "[2.5  2.75 3.1  3.75 4.25 4.5  5.   5.45]\n",
      "[2.5  2.75 3.2  3.75 4.25 4.5  5.   5.6 ]\n"
     ]
    }
   ],
   "source": [
    "stats_opts = []\n",
    "for index in multi_index:\n",
    "    index = np.array([True if i in index else False for i in range(len(stats_ready['hyperparams']))])\n",
    "    print(np.array(stats_ready['hyperparams'])[index])\n",
    "    stats_opts.append(select_nodes(stats_ready, index))"
   ]
  },
  {
   "cell_type": "code",
   "execution_count": 85,
   "metadata": {},
   "outputs": [
    {
     "data": {
      "text/plain": [
       "array([[0., 0., 0., 0., 0., 0., 0., 0., 0., 0.],\n",
       "       [0., 0., 0., 0., 0., 0., 0., 0., 0., 0.],\n",
       "       [0., 0., 0., 0., 0., 0., 0., 0., 0., 0.]])"
      ]
     },
     "execution_count": 85,
     "metadata": {},
     "output_type": "execute_result"
    }
   ],
   "source": [
    "stats_opts[0]['md']['energy'][-1]\n"
   ]
  },
  {
   "cell_type": "code",
   "execution_count": 86,
   "metadata": {
    "collapsed": true
   },
   "outputs": [],
   "source": [
    "#uend = stats_opts[0]['md']['energy'][-1]\n",
    "#fend = stats_opts[0]['md']['forces'][-1]\n",
    "#utar = targ_ready['md']['energy'][-1]\n",
    "#ftar = targ_ready['md']['forces'][-1]"
   ]
  },
  {
   "cell_type": "code",
   "execution_count": 87,
   "metadata": {
    "collapsed": true
   },
   "outputs": [],
   "source": [
    "#for i in range(2000):\n",
    "#    stats_opts[0]['md']['energy'].append(uend)\n",
    "#    stats_opts[0]['md']['forces'].append(fend)\n",
    "#    targ_ready['md']['energy'].append(utar)\n",
    "#    targ_ready['md']['forces'].append(ftar)"
   ]
  },
  {
   "cell_type": "code",
   "execution_count": 88,
   "metadata": {},
   "outputs": [
    {
     "name": "stdout",
     "output_type": "stream",
     "text": [
      "10 10\n",
      "10 10\n",
      "10 10\n",
      "9 9\n",
      "9 9\n",
      "8 8\n",
      "8 8\n",
      "8 8\n"
     ]
    }
   ],
   "source": [
    "#pars_dict['pair'] = [-28.301652628205268, -0.0022071786576090694, 0.027656591839734557, -6.543090393280296, 10.102407371395133, -2.478121982724172, 3.7048200337887582, -3.6346043391919514, 1.7181534576100437, -0.2520201994640249]\n",
    "#pars_dict['embed'] = [-1.1825596913794016, 2.8944059727957714e-05]\n",
    "pars_list = []\n",
    "for index in multi_index:\n",
    "    pars_dict = {}\n",
    "    if len(np.array(stats_ready['hyperparams'])[index]) == 10:\n",
    "        pars_dict['embed'] = [-6.84229349e-01,  1.52487644e-04]\n",
    "        pars_dict['pair'] = [-6.56958142e+01, 0.0, 2.30194161e+01, 0.0, -3.48639263e+00,  3.45615281e+00, -8.88083580e-01, -1.34315802e+00, 1.24532843e+00, -3.51200974e-01]\n",
    "    elif len(np.array(stats_ready['hyperparams'])[index]) == 9:\n",
    "        pars_dict['embed'] = [-6.84229349e-01,  1.52487644e-04]\n",
    "        pars_dict['pair'] = [-6.56958142e+01, 0.0, 2.30194161e+01, -3.48639263e+00,  3.45615281e+00, -8.88083580e-01, -1.34315802e+00, 1.24532843e+00, -3.51200974e-01]        \n",
    "    elif len(np.array(stats_ready['hyperparams'])[index]) == 8:\n",
    "        pars_dict['embed'] = [-6.84229349e-01,  1.52487644e-04]\n",
    "        pars_dict['pair'] = [-6.56958142e+01, 2.30194161e+01, -3.48639263e+00,  3.45615281e+00, -8.88083580e-01, -1.34315802e+00, 1.24532843e+00, -3.51200974e-01]        \n",
    "    else:\n",
    "        raise ValueError('Unsupported number of parameters')\n",
    "    print(len(np.array(stats_ready['hyperparams'])[index]), len(pars_dict['pair']))\n",
    "    pars_list.append(pars_dict)\n",
    "\n",
    "with open(os.path.join(working, \"pars_in.pickle\"), 'wb') as fo:\n",
    "    pickle.dump(pars_list, fo)\n"
   ]
  },
  {
   "cell_type": "code",
   "execution_count": 89,
   "metadata": {},
   "outputs": [
    {
     "name": "stdout",
     "output_type": "stream",
     "text": [
      "[{'embed': [-0.684229349, 0.000152487644], 'pair': [-65.6958142, 0.0, 23.0194161, 0.0, -3.48639263, 3.45615281, -0.88808358, -1.34315802, 1.24532843, -0.351200974]}, {'embed': [-0.684229349, 0.000152487644], 'pair': [-65.6958142, 0.0, 23.0194161, 0.0, -3.48639263, 3.45615281, -0.88808358, -1.34315802, 1.24532843, -0.351200974]}, {'embed': [-0.684229349, 0.000152487644], 'pair': [-65.6958142, 0.0, 23.0194161, 0.0, -3.48639263, 3.45615281, -0.88808358, -1.34315802, 1.24532843, -0.351200974]}, {'embed': [-0.684229349, 0.000152487644], 'pair': [-65.6958142, 0.0, 23.0194161, -3.48639263, 3.45615281, -0.88808358, -1.34315802, 1.24532843, -0.351200974]}, {'embed': [-0.684229349, 0.000152487644], 'pair': [-65.6958142, 0.0, 23.0194161, -3.48639263, 3.45615281, -0.88808358, -1.34315802, 1.24532843, -0.351200974]}, {'embed': [-0.684229349, 0.000152487644], 'pair': [-65.6958142, 23.0194161, -3.48639263, 3.45615281, -0.88808358, -1.34315802, 1.24532843, -0.351200974]}, {'embed': [-0.684229349, 0.000152487644], 'pair': [-65.6958142, 23.0194161, -3.48639263, 3.45615281, -0.88808358, -1.34315802, 1.24532843, -0.351200974]}, {'embed': [-0.684229349, 0.000152487644], 'pair': [-65.6958142, 23.0194161, -3.48639263, 3.45615281, -0.88808358, -1.34315802, 1.24532843, -0.351200974]}]\n"
     ]
    }
   ],
   "source": [
    "# read corresponding parameters\n",
    "with open(os.path.join(working, 'pars_in'+'.pickle'), 'rb') as fi:\n",
    "    pars_list = pickle.load(fi)\n",
    "print(pars_list)"
   ]
  },
  {
   "cell_type": "code",
   "execution_count": 90,
   "metadata": {
    "collapsed": true
   },
   "outputs": [],
   "source": [
    "it = 6 # read in it (independent process)\n",
    "stats = []\n",
    "target = []\n",
    "for key in list(targ_ready.keys()):\n",
    "    stats.append(stats_opts[it][key])\n",
    "    target.append(targ_ready[key])"
   ]
  },
  {
   "cell_type": "code",
   "execution_count": 91,
   "metadata": {},
   "outputs": [
    {
     "name": "stdout",
     "output_type": "stream",
     "text": [
      "[-0.684229349, 0.000152487644, -65.6958142, 23.0194161, -3.48639263, 3.45615281, -0.88808358, -1.34315802, 1.24532843, -0.351200974] 10\n"
     ]
    }
   ],
   "source": [
    "pars_dict = pars_list[it]\n",
    "pars_in = pars_dict['embed'] + pars_dict['pair']\n",
    "print(pars_in, len(pars_in))"
   ]
  },
  {
   "cell_type": "code",
   "execution_count": 119,
   "metadata": {},
   "outputs": [],
   "source": [
    "target[0]['weight'] = 1.0\n",
    "target[1]['weight'] = 5.0\n",
    "target[2]['weight'] = 0.5\n",
    "target[3]['weight'] = 0.5\n",
    "target[4]['weight'] = 0.5"
   ]
  },
  {
   "cell_type": "code",
   "execution_count": 120,
   "metadata": {},
   "outputs": [
    {
     "data": {
      "text/plain": [
       "(1284, [1.0, 5.0, 0.5, 0.5, 0.5], 1284)"
      ]
     },
     "execution_count": 120,
     "metadata": {},
     "output_type": "execute_result"
    }
   ],
   "source": [
    "len(target[0]['energy']), [t['weight'] for t in target], len(stats[0]['energy'])"
   ]
  },
  {
   "cell_type": "code",
   "execution_count": 121,
   "metadata": {
    "collapsed": true
   },
   "outputs": [],
   "source": [
    "def optimize_EAM(target, stats, ieam, multi_pars, n_b=3):\n",
    "    \n",
    "    optimal_parameters = []\n",
    "    \n",
    "    for i, pars in enumerate(multi_pars):\n",
    "        sd_ini = sd2_loss(list(pars), stats, target, utot_EAM, None, [ieam])\n",
    "        print(i,' sd2: ini', sd_ini, end='')\n",
    "        output = fmin(sd2_loss, pars, args=(stats, target, utot_EAM, None, [ieam]), maxiter=100000, maxfun=100000, disp=0, full_output=1,ftol=1e-6)\n",
    "        optimal_parameters.append(tuple([output[1], output[0]]))\n",
    "        print('sd2: final', output[1])\n",
    "\n",
    "    n_best = min(n_b, len(optimal_parameters))\n",
    "    #print(optimal_parameters)\n",
    "                 \n",
    "    best_params = sorted(optimal_parameters, key=lambda param: param[0])[:n_best]\n",
    "    \n",
    "    print('Best params:', best_params)\n",
    "\n",
    "    return best_params"
   ]
  },
  {
   "cell_type": "code",
   "execution_count": 122,
   "metadata": {},
   "outputs": [
    {
     "name": "stdout",
     "output_type": "stream",
     "text": [
      "[[-1.30551487, 1.41920657e-05, -46.1160967, 22.9352328, -3.42360958, 3.82313395, -1.54715703, -0.697925842, 0.868730239, -0.154592379], [-0.795364132, 0.000105331772, -94.9204165, 30.2685917, -4.14159074, 2.49705768, -0.0431306062, -1.87340824, 1.36972168, -0.391946626], [-0.684229349, 0.000152487644, -65.6958142, 23.0194161, -3.48639263, 3.45615281, -0.88808358, -1.34315802, 1.24532843, -0.351200974]]\n"
     ]
    }
   ],
   "source": [
    "multi_pars = []\n",
    "\n",
    "multi_pars.append([-1.30551487e+00,  1.41920657e-05, -4.61160967e+01,  2.29352328e+01,\n",
    "       -3.42360958e+00,  3.82313395e+00, -1.54715703e+00, -6.97925842e-01,\n",
    "        8.68730239e-01, -1.54592379e-01])\n",
    "\n",
    "multi_pars.append([-7.95364132e-01,  1.05331772e-04, -9.49204165e+01,  3.02685917e+01,\n",
    "       -4.14159074e+00,  2.49705768e+00, -4.31306062e-02, -1.87340824e+00,\n",
    "        1.36972168e+00, -3.91946626e-01])\n",
    "\n",
    "multi_pars.append([-6.84229349e-01,  1.52487644e-04, -6.56958142e+01,  2.30194161e+01,\n",
    "       -3.48639263e+00,  3.45615281e+00, -8.88083580e-01, -1.34315802e+00,\n",
    "        1.24532843e+00, -3.51200974e-01])\n",
    "\n",
    "#multi_pars.append([-1.70284536e+00,  1.77584742e-03, -2.03091714e+02,  6.67172987e+02,\n",
    "#       -1.39072153e+03,  7.95275451e+02, -2.44611978e+01,  5.09001525e+00,\n",
    "#       -3.57713253e-01, -1.04584266e+00,  1.30255105e+00, -4.09472026e-01])\n",
    "\n",
    "#multi_pars.append([ 1.49705729e+00,  8.14531512e-03, -8.15988329e+02,  5.87519886e+02,\n",
    "#       -1.01285873e+03,  5.10026120e+02, -1.11686150e+01,  1.51343754e+00,\n",
    "#        1.15612472e-01, -4.84858749e-01,  3.56870076e-01, -2.09915075e-01])\n",
    "\n",
    "#multi_pars.append([ 1.54864560e+00,  1.06062750e-02, -3.00996729e+02,  3.32437763e+02,\n",
    "#       -3.39714171e+02,  9.93126859e+01, -2.04873166e+01,  1.12932344e+00,\n",
    "#       -7.73962738e-02, -1.97622239e-01,  1.14699068e-01, -1.23093792e-01])\n",
    "\n",
    "#multi_pars.append([ 8.13208315e-01,  7.37117140e-03, -8.19982975e+02,  6.16948045e+02,\n",
    "#       -1.08159723e+03,  5.52647596e+02, -1.30505218e+01,  1.99300289e+00,\n",
    "#        1.20773890e-01, -7.28007140e-01,  6.23374409e-01, -2.63144681e-01])\n",
    "\n",
    "#multi_pars.append([-3.31561243e-01,  6.11880566e-03, -9.71792068e+02,  5.84785795e+02,\n",
    "#       -9.70393918e+02,  4.80539429e+02, -1.19631593e+01,  1.74524655e+00,\n",
    "#        1.30016634e+00, -2.17244459e+00,  1.54141798e+00, -4.27749577e-01])\n",
    "\n",
    "#multi_pars.append([-1.94676818e+00, -1.00213528e-04, -7.50184465e+02,  4.02484931e+02,\n",
    "#       -7.69176541e+02,  4.49109198e+02, -1.74942886e+01,  3.38385035e+00,\n",
    "#        1.32669118e+00, -2.33887861e+00,  1.88569396e+00, -5.00674372e-01])\n",
    "\n",
    "#multi_pars.append([ 1.28170537e+00,  5.73600852e-03, -1.22676678e+03,  1.37266450e+03,\n",
    "#       -2.55956924e+03,  1.34512686e+03, -2.61927223e+01,  5.41221234e+00,\n",
    "#       -3.14995466e+00,  2.23970362e+00, -8.25772384e-01, -2.23081195e-02])\n",
    "\n",
    "#multi_pars.append([-2.88264157e+00, -1.29379757e-04, -7.63896489e+01,  0.0, 3.11940843e+01, 0.0,\n",
    "#       -4.08372519e+00,  2.23147357e-01,  1.37384374e+00, -1.66367728e+00,\n",
    "#        4.56398664e-01,  1.77978098e-01])\n",
    "\n",
    "#multi_pars.append([-1.62881495e+00, -1.34430121e-05,  4.44435468e+01,  0.0, 1.44694307e+01, 0.0,\n",
    "#        2.61563868e+00, -2.27083334e+00,  1.32643446e+00,  1.00353133e-01,\n",
    "#       -1.29821366e+00,  5.47283066e-01])\n",
    "\n",
    "#multi_pars.append(np.array(pars_in))\n",
    "\n",
    "for _ in range(0):\n",
    "    pars = np.array(multi_pars[0])\n",
    "    pars += np.random.standard_normal(pars.shape)*0.4\n",
    "    #print(pars)\n",
    "    multi_pars.append(pars)\n",
    "    \n",
    "for _ in range(0):\n",
    "    pars = np.array(multi_pars[1])\n",
    "    pars += np.random.standard_normal(pars.shape)*0.4\n",
    "    #print(pars)\n",
    "    multi_pars.append(pars)\n",
    "    \n",
    "for _ in range(0):\n",
    "    pars = np.array(multi_pars[2])\n",
    "    pars += np.random.standard_normal(pars.shape)*0.4\n",
    "    #print(pars)\n",
    "    multi_pars.append(pars)\n",
    "\n",
    "for _ in range(0):\n",
    "    pars = np.array(multi_pars[2])\n",
    "    pars += np.random.standard_normal(pars.shape)*0.4\n",
    "    multi_pars.append(pars)\n",
    "    \n",
    "print(multi_pars)"
   ]
  },
  {
   "cell_type": "code",
   "execution_count": null,
   "metadata": {
    "collapsed": true
   },
   "outputs": [],
   "source": []
  },
  {
   "cell_type": "code",
   "execution_count": 123,
   "metadata": {},
   "outputs": [
    {
     "name": "stdout",
     "output_type": "stream",
     "text": [
      "ieam: 6\n",
      "0  sd2: ini 2.5517355412290934sd2: final 0.015359610112623377\n",
      "1  sd2: ini 0.02717922654318438sd2: final 0.015534258061167594\n",
      "2  sd2: ini 4.47287165754309sd2: final 0.015427193811956046\n",
      "Best params: [(0.015359610112623377, array([-1.85260891e+00,  9.79120893e-06, -8.83393218e+01,  2.62024010e+01,\n",
      "       -3.41627871e+00,  2.26868700e+00, -8.46562472e-01, -7.15176018e-01,\n",
      "        4.20554583e-01,  8.35270591e-02])), (0.015427193811956046, array([-1.39063705e+00,  1.91944230e-04, -7.35733570e+01,  2.03934036e+01,\n",
      "       -3.67030741e+00,  2.09668753e+00, -8.30551835e-01, -9.02634374e-01,\n",
      "        7.06792116e-01, -9.13211791e-02])), (0.015534258061167594, array([-6.82754111e-01,  2.75431856e-04, -7.00031193e+01,  1.84510482e+01,\n",
      "       -3.70806933e+00,  2.95212264e+00, -2.39223978e+00,  2.39752836e-01,\n",
      "        8.01151717e-01, -3.00635657e-01]))]\n",
      "0  sd2: ini 0.015359610112623377sd2: final 0.015157325305520601\n",
      "1  sd2: ini 0.015427193811956046sd2: final 0.015162525217319166\n",
      "2  sd2: ini 0.015534258061167594sd2: final 0.015157325305521253\n",
      "Best params: [(0.015157325305520601, array([-1.42335328e+00,  1.35974920e-04, -8.09097517e+01,  2.26157695e+01,\n",
      "       -3.64120440e+00,  2.41528973e+00, -1.34371101e+00, -4.17122400e-01,\n",
      "        5.62564161e-01, -5.61761803e-02])), (0.015157325305521253, array([-1.42335265e+00,  1.35974953e-04, -8.09096639e+01,  2.26157596e+01,\n",
      "       -3.64120385e+00,  2.41529091e+00, -1.34371108e+00, -4.17123381e-01,\n",
      "        5.62565088e-01, -5.61765486e-02])), (0.015162525217319166, array([-1.50575295e+00,  1.20415820e-04, -8.20913344e+01,  2.30810424e+01,\n",
      "       -3.62530882e+00,  2.34245227e+00, -1.20194578e+00, -5.09506422e-01,\n",
      "        5.39476877e-01, -2.93807515e-02]))]\n",
      "0  sd2: ini 0.015157325305520601sd2: final 0.015157325305520601\n",
      "1  sd2: ini 0.015157325305521253sd2: final 0.015157325305515293\n",
      "2  sd2: ini 0.015162525217319166sd2: final 0.015157325305528043\n",
      "Best params: [(0.015157325305515293, array([-1.42335255e+00,  1.35974921e-04, -8.09096613e+01,  2.26157563e+01,\n",
      "       -3.64120266e+00,  2.41529078e+00, -1.34371102e+00, -4.17123353e-01,\n",
      "        5.62565107e-01, -5.61765754e-02])), (0.015157325305520601, array([-1.42335328e+00,  1.35974920e-04, -8.09097517e+01,  2.26157695e+01,\n",
      "       -3.64120440e+00,  2.41528973e+00, -1.34371101e+00, -4.17122400e-01,\n",
      "        5.62564161e-01, -5.61761803e-02])), (0.015157325305528043, array([-1.42335392e+00,  1.35974906e-04, -8.09096071e+01,  2.26157523e+01,\n",
      "       -3.64120394e+00,  2.41529107e+00, -1.34371210e+00, -4.17122923e-01,\n",
      "        5.62564876e-01, -5.61762740e-02]))]\n",
      "0  sd2: ini 0.015157325305515293sd2: final 0.015157325305515293\n",
      "1  sd2: ini 0.015157325305520601sd2: final 0.015157325305520601\n",
      "2  sd2: ini 0.015157325305528043sd2: final 0.015157325305520088\n",
      "Best params: [(0.015157325305515293, array([-1.42335255e+00,  1.35974921e-04, -8.09096613e+01,  2.26157563e+01,\n",
      "       -3.64120266e+00,  2.41529078e+00, -1.34371102e+00, -4.17123353e-01,\n",
      "        5.62565107e-01, -5.61765754e-02])), (0.015157325305520088, array([-1.42335340e+00,  1.35974843e-04, -8.09096394e+01,  2.26157547e+01,\n",
      "       -3.64120316e+00,  2.41529142e+00, -1.34371193e+00, -4.17122935e-01,\n",
      "        5.62564859e-01, -5.61763420e-02])), (0.015157325305520601, array([-1.42335328e+00,  1.35974920e-04, -8.09097517e+01,  2.26157695e+01,\n",
      "       -3.64120440e+00,  2.41528973e+00, -1.34371101e+00, -4.17122400e-01,\n",
      "        5.62564161e-01, -5.61761803e-02]))]\n",
      "0  sd2: ini 0.015157325305515293sd2: final 0.015157325305515293\n",
      "1  sd2: ini 0.015157325305520088sd2: final 0.015157325305517711\n",
      "2  sd2: ini 0.015157325305520601sd2: final 0.015157325305520601\n",
      "Best params: [(0.015157325305515293, array([-1.42335255e+00,  1.35974921e-04, -8.09096613e+01,  2.26157563e+01,\n",
      "       -3.64120266e+00,  2.41529078e+00, -1.34371102e+00, -4.17123353e-01,\n",
      "        5.62565107e-01, -5.61765754e-02])), (0.015157325305517711, array([-1.42335335e+00,  1.35974751e-04, -8.09096203e+01,  2.26157567e+01,\n",
      "       -3.64120280e+00,  2.41529130e+00, -1.34371178e+00, -4.17122849e-01,\n",
      "        5.62564859e-01, -5.61763718e-02])), (0.015157325305520601, array([-1.42335328e+00,  1.35974920e-04, -8.09097517e+01,  2.26157695e+01,\n",
      "       -3.64120440e+00,  2.41528973e+00, -1.34371101e+00, -4.17122400e-01,\n",
      "        5.62564161e-01, -5.61761803e-02]))]\n",
      "ieam: 7\n",
      "0  sd2: ini 1.3525492802367118sd2: final 0.013095784165348082\n",
      "1  sd2: ini 0.9931452217366297sd2: final 0.01277588111403397\n",
      "2  sd2: ini 5.931667300641101sd2: final 0.01621227315703302\n",
      "Best params: [(0.01277588111403397, array([-8.84239216e-01,  6.47811828e-05, -8.55853772e+01,  2.21531662e+01,\n",
      "       -3.77343804e+00,  1.59805440e+00, -7.79447732e-02, -8.69844080e-01,\n",
      "        7.26373444e-02,  1.32438074e-01])), (0.013095784165348082, array([-9.95596281e-01,  3.63051924e-05, -1.14313945e+02,  2.68649375e+01,\n",
      "       -3.66884482e+00,  1.63891673e+00,  3.77920009e-02, -8.51472055e-01,\n",
      "       -8.00893200e-02,  2.20182100e-01])), (0.01621227315703302, array([ 7.08918149e-02,  1.54695616e-04, -8.80738762e+01,  1.41915642e+01,\n",
      "       -3.85975675e+00,  2.81850143e+00, -1.88666357e+00, -4.75812493e-01,\n",
      "        1.39963721e+00, -6.31169227e-01]))]\n",
      "0  sd2: ini 0.01277588111403397sd2: final 0.012770611958557169\n",
      "1  sd2: ini 0.013095784165348082sd2: final 0.012775492563761284\n",
      "2  sd2: ini 0.01621227315703302sd2: final 0.012770611958588862\n",
      "Best params: [(0.012770611958557169, array([-8.53752301e-01,  6.67489552e-05, -8.52813095e+01,  2.19421442e+01,\n",
      "       -3.78007816e+00,  1.67871027e+00, -2.24309921e-01, -7.77989427e-01,\n",
      "        9.51367974e-02,  1.11564423e-01])), (0.012770611958588862, array([-8.53751753e-01,  6.67491410e-05, -8.52812928e+01,  2.19421340e+01,\n",
      "       -3.78008255e+00,  1.67870951e+00, -2.24309504e-01, -7.77989823e-01,\n",
      "        9.51371201e-02,  1.11564158e-01])), (0.012775492563761284, array([-8.57003545e-01,  6.56853349e-05, -8.62834253e+01,  2.21438479e+01,\n",
      "       -3.79547702e+00,  1.71057107e+00, -3.02689439e-01, -6.98972532e-01,\n",
      "        6.76475770e-02,  1.18666161e-01]))]\n",
      "0  sd2: ini 0.012770611958557169sd2: final 0.012770611958554681\n",
      "1  sd2: ini 0.012770611958588862sd2: final 0.012770611958585221\n",
      "2  sd2: ini 0.012775492563761284sd2: final 0.012770611958561833\n",
      "Best params: [(0.012770611958554681, array([-8.53752299e-01,  6.67489501e-05, -8.52812571e+01,  2.19421447e+01,\n",
      "       -3.78007870e+00,  1.67871023e+00, -2.24309828e-01, -7.77989428e-01,\n",
      "        9.51367829e-02,  1.11564423e-01])), (0.012770611958561833, array([-8.53752774e-01,  6.67488597e-05, -8.52812965e+01,  2.19421542e+01,\n",
      "       -3.78007797e+00,  1.67871046e+00, -2.24309723e-01, -7.77989295e-01,\n",
      "        9.51362769e-02,  1.11564745e-01])), (0.012770611958585221, array([-8.53751639e-01,  6.67491864e-05, -8.52812459e+01,  2.19421243e+01,\n",
      "       -3.78008133e+00,  1.67870873e+00, -2.24309331e-01, -7.77989778e-01,\n",
      "        9.51371038e-02,  1.11564124e-01]))]\n",
      "0  sd2: ini 0.012770611958554681sd2: final 0.012770611958554539\n",
      "1  sd2: ini 0.012770611958561833sd2: final 0.012770611958555151\n",
      "2  sd2: ini 0.012770611958585221sd2: final 0.012770611958585221\n",
      "Best params: [(0.012770611958554539, array([-8.53752304e-01,  6.67489437e-05, -8.52812861e+01,  2.19421487e+01,\n",
      "       -3.78007899e+00,  1.67871032e+00, -2.24309828e-01, -7.77989449e-01,\n",
      "        9.51367801e-02,  1.11564430e-01])), (0.012770611958555151, array([-8.53752766e-01,  6.67488637e-05, -8.52813170e+01,  2.19421551e+01,\n",
      "       -3.78007823e+00,  1.67871044e+00, -2.24309699e-01, -7.77989272e-01,\n",
      "        9.51362621e-02,  1.11564741e-01])), (0.012770611958585221, array([-8.53751639e-01,  6.67491864e-05, -8.52812459e+01,  2.19421243e+01,\n",
      "       -3.78008133e+00,  1.67870873e+00, -2.24309331e-01, -7.77989778e-01,\n",
      "        9.51371038e-02,  1.11564124e-01]))]\n",
      "0  sd2: ini 0.012770611958554539sd2: final 0.012770611958554539\n",
      "1  sd2: ini 0.012770611958555151sd2: final 0.01277061195855438\n",
      "2  sd2: ini 0.012770611958585221sd2: final 0.012770611958585221\n",
      "Best params: [(0.01277061195855438, array([-8.53752747e-01,  6.67488620e-05, -8.52813071e+01,  2.19421560e+01,\n",
      "       -3.78007832e+00,  1.67871035e+00, -2.24309632e-01, -7.77989260e-01,\n",
      "        9.51362502e-02,  1.11564737e-01])), (0.012770611958554539, array([-8.53752304e-01,  6.67489437e-05, -8.52812861e+01,  2.19421487e+01,\n",
      "       -3.78007899e+00,  1.67871032e+00, -2.24309828e-01, -7.77989449e-01,\n",
      "        9.51367801e-02,  1.11564430e-01])), (0.012770611958585221, array([-8.53751639e-01,  6.67491864e-05, -8.52812459e+01,  2.19421243e+01,\n",
      "       -3.78008133e+00,  1.67870873e+00, -2.24309331e-01, -7.77989778e-01,\n",
      "        9.51371038e-02,  1.11564124e-01]))]\n"
     ]
    }
   ],
   "source": [
    "for ieam in range(6, len(stats_opts[it]['hyperparams'])):\n",
    "    print('ieam:', ieam)\n",
    "    m_pars = multi_pars\n",
    "    for i in range(5):\n",
    "        best_pars = optimize_EAM(target, stats, ieam, m_pars, n_b=len(m_pars))\n",
    "        m_pars = [p[1] for p in best_pars]"
   ]
  },
  {
   "cell_type": "code",
   "execution_count": 24,
   "metadata": {},
   "outputs": [],
   "source": [
    "ieam6 = (0.00339377695439289, np.array([ 2.79779702e+00,  1.55403037e-02, -1.55412066e+02,  1.19801220e+02,\n",
    "       -1.08175153e+02,  2.10131323e+01, -7.33183025e+00, -5.90521222e-01,\n",
    "       -5.33494251e-01,  5.57548087e-01, -4.17118677e-01, -5.37413208e-02]))"
   ]
  },
  {
   "cell_type": "code",
   "execution_count": 37,
   "metadata": {},
   "outputs": [],
   "source": [
    "ieam6 = (0.0006926840679039582, np.array([-1.26544946e+00,  1.97230245e-03, -1.87112959e+02,  4.58145008e+01,\n",
    "       -1.55120570e+01,  1.82040808e+01, -7.12639241e+00, -1.05854335e+00,\n",
    "        3.63097707e+00, -3.35295319e+00,  1.82187264e+00, -3.42221668e-01]))"
   ]
  },
  {
   "cell_type": "code",
   "execution_count": 60,
   "metadata": {},
   "outputs": [],
   "source": [
    "ieam6 = (0.00047935058266480694, np.array([-7.25637120e-01,  7.82038798e-05, -1.06569636e+02,  3.23648845e+01,\n",
    "       -3.80200674e+00,  2.33869280e+00,  3.11319550e-01, -2.11767914e+00,\n",
    "        1.43624616e+00, -4.18202082e-01]))"
   ]
  },
  {
   "cell_type": "code",
   "execution_count": 99,
   "metadata": {},
   "outputs": [],
   "source": [
    "ieam6 = (0.00022608653220913193, np.array([-7.95364132e-01,  1.05331772e-04, -9.49204165e+01,  3.02685917e+01,\n",
    "       -4.14159074e+00,  2.49705768e+00, -4.31306062e-02, -1.87340824e+00,\n",
    "        1.36972168e+00, -3.91946626e-01]))"
   ]
  },
  {
   "cell_type": "code",
   "execution_count": 39,
   "metadata": {
    "collapsed": true
   },
   "outputs": [],
   "source": [
    "ieam7 = (0.030865059223473094, np.array([ 4.21813176e+00,  1.28438711e-02,  7.18447209e+02,  2.79873504e+01,\n",
    "       -3.64063120e+01,  1.55668343e+01, -3.59671207e+00,  7.18079901e-02,\n",
    "       -7.56657066e-02,  2.53180527e-01, -4.96952030e-01, -4.27379804e-02]))"
   ]
  },
  {
   "cell_type": "code",
   "execution_count": 125,
   "metadata": {},
   "outputs": [],
   "source": [
    "ieam7 = (0.01277061195855438, np.array([-8.53752747e-01,  6.67488620e-05, -8.52813071e+01,  2.19421560e+01,\n",
    "       -3.78007832e+00,  1.67871035e+00, -2.24309632e-01, -7.77989260e-01,\n",
    "        9.51362502e-02,  1.11564737e-01]))"
   ]
  },
  {
   "cell_type": "code",
   "execution_count": 80,
   "metadata": {
    "collapsed": true
   },
   "outputs": [],
   "source": [
    "ieam9 = (0.028572627723456062, np.array([-1.84530425e+00, -2.18389467e-05, -1.46520729e+03,  1.16790147e+02,\n",
    "       -1.41528209e+02,  7.82448301e+01,  4.04340173e+00, -2.96638562e+00,\n",
    "        2.19448488e+00, -5.43928853e-01, -1.31154657e+00,  7.46848321e-01]))"
   ]
  },
  {
   "cell_type": "code",
   "execution_count": 21,
   "metadata": {},
   "outputs": [
    {
     "data": {
      "text/plain": [
       "[array([-3.99852964e-01,  5.19903525e-05, -4.35853845e+01,  1.94974779e+01,\n",
       "        -3.41125084e+00,  3.29583141e+00, -6.74970661e-01, -1.24161605e+00,\n",
       "         9.55571732e-01, -2.67603787e-01]),\n",
       " array([-3.08115841e-01,  6.08583920e-05, -3.55322048e+01,  1.74741498e+01,\n",
       "        -3.45456667e+00,  3.55864207e+00, -1.02844413e+00, -1.10262198e+00,\n",
       "         1.06957764e+00, -3.33945049e-01])]"
      ]
     },
     "execution_count": 21,
     "metadata": {},
     "output_type": "execute_result"
    }
   ],
   "source": [
    "multi_pars"
   ]
  },
  {
   "cell_type": "code",
   "execution_count": 54,
   "metadata": {
    "collapsed": true
   },
   "outputs": [],
   "source": [
    "optimal_parameters = [(4.407570269501649e-05, [-1.21658318e+00,  3.24863580e-05, -4.73661687e+01,  2.29965951e+01,\n",
    "       -3.42248343e+00,  3.73956980e+00, -1.39292737e+00, -8.33458565e-01,\n",
    "        9.29769431e-01, -1.83568989e-01]), (6.17447812420396e-05, [-1.30551487e+00,  1.41920657e-05, -4.61160967e+01,  2.29352328e+01,\n",
    "       -3.42360958e+00,  3.82313395e+00, -1.54715703e+00, -6.97925842e-01,\n",
    "        8.68730239e-01, -1.54592379e-01]), (9.723561709685708e-05, [-1.34624502e+00,  7.49457487e-06, -4.58871674e+01,  2.24064873e+01,\n",
    "       -3.46516902e+00,  4.02263760e+00, -1.89661680e+00, -4.31617423e-01,\n",
    "        8.06406324e-01, -1.37562101e-01]), (0.00014123622250142564, [-1.34136558e+00,  1.01769934e-05, -4.93998032e+01,  2.21279115e+01,\n",
    "       -3.50791272e+00,  4.16822104e+00, -2.13414308e+00, -2.66237999e-01,\n",
    "        7.83819577e-01, -1.36703203e-01])]"
   ]
  },
  {
   "cell_type": "code",
   "execution_count": 126,
   "metadata": {
    "collapsed": true
   },
   "outputs": [],
   "source": [
    "optimal_parameters = [ieam7]"
   ]
  },
  {
   "cell_type": "code",
   "execution_count": 127,
   "metadata": {},
   "outputs": [
    {
     "name": "stdout",
     "output_type": "stream",
     "text": [
      "5\n",
      "Targ: [-1139.2, -906.9778906249999, -1127.13044453125, -1136.3561554687499, -1136.7059554687498, 0.0]\n",
      "Model: [-1133.4961550563346, -917.857634304075, -1126.0407773276509, -1137.25932716219, -1137.1160311450667, 0.0]\n",
      "[0.0390625  0.0462963  0.03937008 0.03875969 0.03875969]\n",
      "Model: [-1133.4961550563346, -917.857634304075, -1126.0407773276509, -1137.25932716219, -1137.1160311450667]\n",
      "0 0.01277061195855438\n"
     ]
    },
    {
     "data": {
      "text/plain": [
       "<matplotlib.legend.Legend at 0x1f7743080>"
      ]
     },
     "execution_count": 127,
     "metadata": {},
     "output_type": "execute_result"
    },
    {
     "data": {
      "image/png": "[encoded data removed]",
      "text/plain": [
       "<Figure size 1440x720 with 1 Axes>"
      ]
     },
     "metadata": {},
     "output_type": "display_data"
    }
   ],
   "source": [
    "plt.figure(figsize=(20,10))\n",
    "\n",
    "nat = np.array([len(x) for x in targ_ready['relax']['xyz']])[:-2]\n",
    "print(len(nat))\n",
    "\n",
    "for i, params_uopt in enumerate(optimal_parameters):\n",
    "\n",
    "    #print(params_uopt[1])\n",
    "\n",
    "    opti_out, targ_out = udif_print(params_uopt[1], stats, target, utot_EAM, [7])\n",
    "    plt.title('Selected configurations at 0K')\n",
    "    if i == 0:\n",
    "        print('Targ:', targ_out[-4][:-1])\n",
    "        print('Model:', opti_out[-4][:-1])\n",
    "\n",
    "        #nat = np.array([len(x) for x in targ_dict['relax']['xyz']])\n",
    "        print(len(np.array(targ_out[-4][:-2]))/nat)\n",
    "        plt.plot(np.array(targ_out[-4][:-2])/nat, 'o', label='target'+str(i), markersize=10)\n",
    "        \n",
    "    #if params_uopt[0] > 0.6e-3:\n",
    "    #    continue\n",
    "    print('Model:', opti_out[-4][:-2])\n",
    "\n",
    "    #if i != 10 and i != 12:\n",
    "    #    continue\n",
    "    print(i, params_uopt[0])\n",
    "\n",
    "        \n",
    "    #print('Opti:', [o for o in opti_out[-1][:-1]])\n",
    "    plt.plot(np.array([o for o in opti_out[-4][:-2]])/nat, 'x--', label='optimized '+str(i))\n",
    "#    else:\n",
    "#        plt.plot([o for o in opti_out[-1][:-1]], 'x--', label='optimized '+str(i))\n",
    "#        plt.plot(targ_out[-1][:-1], 'o', markersize=10)\n",
    "\n",
    "plt.xticks([0, 1, 2, 3, 4, 5, 6], ['BCC','FCC', 'vacancy','110','111','liq','inf'])\n",
    "plt.ylabel('Energy [eV]')\n",
    "#plt.ylim(-1145, -1136)\n",
    "#plt.ylim(-8.905, -8.7533)\n",
    "#plt.ylim(-8.9, -8.35)\n",
    "#plt.xlim(0, 4)\n",
    "\n",
    "plt.legend()"
   ]
  },
  {
   "cell_type": "code",
   "execution_count": 131,
   "metadata": {},
   "outputs": [
    {
     "name": "stdout",
     "output_type": "stream",
     "text": [
      "9\n",
      "Targ: [-910.2984906249999, -910.2984906249999, -816.6878906249999, -890.3537906249999, -897.8806906249999, -865.893990625, -822.6411906249998, -773.407790625, -721.4408906249998, 0.0]\n",
      "Model: [-917.883330710295, -917.883330710295, -873.1719935262882, -911.1425202075334, -913.7123230653312, -899.2570089437694, -872.9527109701286, -835.1120539204119, -789.2691491900639, 0.0]\n",
      "[0.08333333 0.08333333 0.08333333 0.08333333 0.08333333 0.08333333\n",
      " 0.08333333 0.08333333 0.08333333]\n",
      "0 0.01277061195855438\n"
     ]
    },
    {
     "data": {
      "text/plain": [
       "<matplotlib.legend.Legend at 0x1b261e710>"
      ]
     },
     "execution_count": 131,
     "metadata": {},
     "output_type": "execute_result"
    },
    {
     "data": {
      "image/png": "[encoded data removed]",
      "text/plain": [
       "<Figure size 1440x720 with 1 Axes>"
      ]
     },
     "metadata": {},
     "output_type": "display_data"
    }
   ],
   "source": [
    "plt.figure(figsize=(20,10))\n",
    "\n",
    "nat = np.array([len(x) for x in targ_ready['eos_fcc']['xyz']])[:-1]\n",
    "print(len(nat))\n",
    "\n",
    "for i, params_uopt in enumerate(optimal_parameters):\n",
    "\n",
    "    #print(params_uopt[1])\n",
    "\n",
    "    opti_out, targ_out = udif_print(params_uopt[1], stats, target, utot_EAM, [7])\n",
    "    plt.title('Selected configurations at 0K')\n",
    "    if i == 0:\n",
    "        print('Targ:', targ_out[-1][:])\n",
    "        print('Model:', opti_out[-1][:])\n",
    "\n",
    "        #nat = np.array([len(x) for x in targ_dict['relax']['xyz']])\n",
    "        print(len(np.array(targ_out[-1][:-1]))/nat)\n",
    "        plt.plot(np.array(targ_out[-1][:-1])/nat, 'o', label='target'+str(i), markersize=10)\n",
    "        \n",
    "    #if params_uopt[0] > 0.6e-3:\n",
    "    #    continue\n",
    "    #if i != 10 and i != 12:\n",
    "    #    continue\n",
    "    print(i, params_uopt[0])\n",
    "\n",
    "        \n",
    "    #print('Opti:', [o for o in opti_out[-1][:-1]])\n",
    "    plt.plot( np.array([o for o in opti_out[-1][:-1]])/nat, 'x--', label='optimized '+str(i))\n",
    "#    else:\n",
    "#        plt.plot([o for o in opti_out[-1][:-1]], 'x--', label='optimized '+str(i))\n",
    "#        plt.plot(targ_out[-1][:-1], 'o', markersize=10)\n",
    "\n",
    "#plt.xticks([0, 1, 2, 3, 4, 5, 6], ['BCC','FCC', 'vacancy','110','111','liq','inf'])\n",
    "plt.ylabel('Energy [eV]')\n",
    "#plt.ylim(-1145, -1136)\n",
    "#plt.ylim(-8.905, -8.7533)\n",
    "#plt.ylim(-8.9, -8.35)\n",
    "#plt.xlim(0, 4)\n",
    "\n",
    "plt.legend()"
   ]
  },
  {
   "cell_type": "code",
   "execution_count": 110,
   "metadata": {},
   "outputs": [
    {
     "data": {
      "text/plain": [
       "1284"
      ]
     },
     "execution_count": 110,
     "metadata": {},
     "output_type": "execute_result"
    }
   ],
   "source": [
    "len(targ_ready['md']['xyz'])"
   ]
  },
  {
   "cell_type": "code",
   "execution_count": 111,
   "metadata": {},
   "outputs": [
    {
     "name": "stdout",
     "output_type": "stream",
     "text": [
      "1284\n",
      "[10.03125 10.03125 10.03125 ... 10.03125 10.03125 10.03125]\n",
      "0 0.00022608653220913193\n"
     ]
    },
    {
     "ename": "ValueError",
     "evalue": "fname must be a PathLike or file handle",
     "output_type": "error",
     "traceback": [
      "\u001b[0;31m---------------------------------------------------------------------------\u001b[0m",
      "\u001b[0;31mValueError\u001b[0m                                Traceback (most recent call last)",
      "\u001b[0;32m<ipython-input-111-bb3e7ff0cc9a>\u001b[0m in \u001b[0;36m<module>\u001b[0;34m()\u001b[0m\n\u001b[1;32m     55\u001b[0m \u001b[0;34m\u001b[0m\u001b[0m\n\u001b[1;32m     56\u001b[0m \u001b[0mplt\u001b[0m\u001b[0;34m.\u001b[0m\u001b[0mlegend\u001b[0m\u001b[0;34m(\u001b[0m\u001b[0mfontsize\u001b[0m\u001b[0;34m=\u001b[0m\u001b[0;36m30\u001b[0m\u001b[0;34m)\u001b[0m\u001b[0;34m\u001b[0m\u001b[0m\n\u001b[0;32m---> 57\u001b[0;31m \u001b[0mplt\u001b[0m\u001b[0;34m.\u001b[0m\u001b[0msavefig\u001b[0m\u001b[0;34m(\u001b[0m\u001b[0mplt\u001b[0m\u001b[0;34m.\u001b[0m\u001b[0msavefig\u001b[0m\u001b[0;34m(\u001b[0m\u001b[0mos\u001b[0m\u001b[0;34m.\u001b[0m\u001b[0mpath\u001b[0m\u001b[0;34m.\u001b[0m\u001b[0mjoin\u001b[0m\u001b[0;34m(\u001b[0m\u001b[0mworking\u001b[0m\u001b[0;34m,\u001b[0m \u001b[0;34m'bcc_300.png'\u001b[0m\u001b[0;34m)\u001b[0m\u001b[0;34m)\u001b[0m\u001b[0;34m)\u001b[0m\u001b[0;34m\u001b[0m\u001b[0m\n\u001b[0m",
      "\u001b[0;32m//anaconda/envs/py36/lib/python3.6/site-packages/matplotlib/pyplot.py\u001b[0m in \u001b[0;36msavefig\u001b[0;34m(*args, **kwargs)\u001b[0m\n\u001b[1;32m    708\u001b[0m \u001b[0;32mdef\u001b[0m \u001b[0msavefig\u001b[0m\u001b[0;34m(\u001b[0m\u001b[0;34m*\u001b[0m\u001b[0margs\u001b[0m\u001b[0;34m,\u001b[0m \u001b[0;34m**\u001b[0m\u001b[0mkwargs\u001b[0m\u001b[0;34m)\u001b[0m\u001b[0;34m:\u001b[0m\u001b[0;34m\u001b[0m\u001b[0m\n\u001b[1;32m    709\u001b[0m     \u001b[0mfig\u001b[0m \u001b[0;34m=\u001b[0m \u001b[0mgcf\u001b[0m\u001b[0;34m(\u001b[0m\u001b[0;34m)\u001b[0m\u001b[0;34m\u001b[0m\u001b[0m\n\u001b[0;32m--> 710\u001b[0;31m     \u001b[0mres\u001b[0m \u001b[0;34m=\u001b[0m \u001b[0mfig\u001b[0m\u001b[0;34m.\u001b[0m\u001b[0msavefig\u001b[0m\u001b[0;34m(\u001b[0m\u001b[0;34m*\u001b[0m\u001b[0margs\u001b[0m\u001b[0;34m,\u001b[0m \u001b[0;34m**\u001b[0m\u001b[0mkwargs\u001b[0m\u001b[0;34m)\u001b[0m\u001b[0;34m\u001b[0m\u001b[0m\n\u001b[0m\u001b[1;32m    711\u001b[0m     \u001b[0mfig\u001b[0m\u001b[0;34m.\u001b[0m\u001b[0mcanvas\u001b[0m\u001b[0;34m.\u001b[0m\u001b[0mdraw_idle\u001b[0m\u001b[0;34m(\u001b[0m\u001b[0;34m)\u001b[0m   \u001b[0;31m# need this if 'transparent=True' to reset colors\u001b[0m\u001b[0;34m\u001b[0m\u001b[0m\n\u001b[1;32m    712\u001b[0m     \u001b[0;32mreturn\u001b[0m \u001b[0mres\u001b[0m\u001b[0;34m\u001b[0m\u001b[0m\n",
      "\u001b[0;32m//anaconda/envs/py36/lib/python3.6/site-packages/matplotlib/figure.py\u001b[0m in \u001b[0;36msavefig\u001b[0;34m(self, fname, **kwargs)\u001b[0m\n\u001b[1;32m   2033\u001b[0m             \u001b[0mself\u001b[0m\u001b[0;34m.\u001b[0m\u001b[0mset_frameon\u001b[0m\u001b[0;34m(\u001b[0m\u001b[0mframeon\u001b[0m\u001b[0;34m)\u001b[0m\u001b[0;34m\u001b[0m\u001b[0m\n\u001b[1;32m   2034\u001b[0m \u001b[0;34m\u001b[0m\u001b[0m\n\u001b[0;32m-> 2035\u001b[0;31m         \u001b[0mself\u001b[0m\u001b[0;34m.\u001b[0m\u001b[0mcanvas\u001b[0m\u001b[0;34m.\u001b[0m\u001b[0mprint_figure\u001b[0m\u001b[0;34m(\u001b[0m\u001b[0mfname\u001b[0m\u001b[0;34m,\u001b[0m \u001b[0;34m**\u001b[0m\u001b[0mkwargs\u001b[0m\u001b[0;34m)\u001b[0m\u001b[0;34m\u001b[0m\u001b[0m\n\u001b[0m\u001b[1;32m   2036\u001b[0m \u001b[0;34m\u001b[0m\u001b[0m\n\u001b[1;32m   2037\u001b[0m         \u001b[0;32mif\u001b[0m \u001b[0mframeon\u001b[0m\u001b[0;34m:\u001b[0m\u001b[0;34m\u001b[0m\u001b[0m\n",
      "\u001b[0;32m//anaconda/envs/py36/lib/python3.6/site-packages/matplotlib/backend_bases.py\u001b[0m in \u001b[0;36mprint_figure\u001b[0;34m(self, filename, dpi, facecolor, edgecolor, orientation, format, **kwargs)\u001b[0m\n\u001b[1;32m   2261\u001b[0m                 \u001b[0morientation\u001b[0m\u001b[0;34m=\u001b[0m\u001b[0morientation\u001b[0m\u001b[0;34m,\u001b[0m\u001b[0;34m\u001b[0m\u001b[0m\n\u001b[1;32m   2262\u001b[0m                 \u001b[0mbbox_inches_restore\u001b[0m\u001b[0;34m=\u001b[0m\u001b[0m_bbox_inches_restore\u001b[0m\u001b[0;34m,\u001b[0m\u001b[0;34m\u001b[0m\u001b[0m\n\u001b[0;32m-> 2263\u001b[0;31m                 **kwargs)\n\u001b[0m\u001b[1;32m   2264\u001b[0m         \u001b[0;32mfinally\u001b[0m\u001b[0;34m:\u001b[0m\u001b[0;34m\u001b[0m\u001b[0m\n\u001b[1;32m   2265\u001b[0m             \u001b[0;32mif\u001b[0m \u001b[0mbbox_inches\u001b[0m \u001b[0;32mand\u001b[0m \u001b[0mrestore_bbox\u001b[0m\u001b[0;34m:\u001b[0m\u001b[0;34m\u001b[0m\u001b[0m\n",
      "\u001b[0;32m//anaconda/envs/py36/lib/python3.6/site-packages/matplotlib/backends/backend_agg.py\u001b[0m in \u001b[0;36mprint_png\u001b[0;34m(self, filename_or_obj, *args, **kwargs)\u001b[0m\n\u001b[1;32m    524\u001b[0m \u001b[0;34m\u001b[0m\u001b[0m\n\u001b[1;32m    525\u001b[0m         \u001b[0;32mtry\u001b[0m\u001b[0;34m:\u001b[0m\u001b[0;34m\u001b[0m\u001b[0m\n\u001b[0;32m--> 526\u001b[0;31m             \u001b[0;32mwith\u001b[0m \u001b[0mcbook\u001b[0m\u001b[0;34m.\u001b[0m\u001b[0mopen_file_cm\u001b[0m\u001b[0;34m(\u001b[0m\u001b[0mfilename_or_obj\u001b[0m\u001b[0;34m,\u001b[0m \u001b[0;34m\"wb\"\u001b[0m\u001b[0;34m)\u001b[0m \u001b[0;32mas\u001b[0m \u001b[0mfh\u001b[0m\u001b[0;34m:\u001b[0m\u001b[0;34m\u001b[0m\u001b[0m\n\u001b[0m\u001b[1;32m    527\u001b[0m                 _png.write_png(renderer._renderer, fh,\n\u001b[1;32m    528\u001b[0m                                self.figure.dpi, metadata=metadata)\n",
      "\u001b[0;32m//anaconda/envs/py36/lib/python3.6/contextlib.py\u001b[0m in \u001b[0;36m__enter__\u001b[0;34m(self)\u001b[0m\n\u001b[1;32m     80\u001b[0m     \u001b[0;32mdef\u001b[0m \u001b[0m__enter__\u001b[0m\u001b[0;34m(\u001b[0m\u001b[0mself\u001b[0m\u001b[0;34m)\u001b[0m\u001b[0;34m:\u001b[0m\u001b[0;34m\u001b[0m\u001b[0m\n\u001b[1;32m     81\u001b[0m         \u001b[0;32mtry\u001b[0m\u001b[0;34m:\u001b[0m\u001b[0;34m\u001b[0m\u001b[0m\n\u001b[0;32m---> 82\u001b[0;31m             \u001b[0;32mreturn\u001b[0m \u001b[0mnext\u001b[0m\u001b[0;34m(\u001b[0m\u001b[0mself\u001b[0m\u001b[0;34m.\u001b[0m\u001b[0mgen\u001b[0m\u001b[0;34m)\u001b[0m\u001b[0;34m\u001b[0m\u001b[0m\n\u001b[0m\u001b[1;32m     83\u001b[0m         \u001b[0;32mexcept\u001b[0m \u001b[0mStopIteration\u001b[0m\u001b[0;34m:\u001b[0m\u001b[0;34m\u001b[0m\u001b[0m\n\u001b[1;32m     84\u001b[0m             \u001b[0;32mraise\u001b[0m \u001b[0mRuntimeError\u001b[0m\u001b[0;34m(\u001b[0m\u001b[0;34m\"generator didn't yield\"\u001b[0m\u001b[0;34m)\u001b[0m \u001b[0;32mfrom\u001b[0m \u001b[0;32mNone\u001b[0m\u001b[0;34m\u001b[0m\u001b[0m\n",
      "\u001b[0;32m//anaconda/envs/py36/lib/python3.6/site-packages/matplotlib/cbook/__init__.py\u001b[0m in \u001b[0;36mopen_file_cm\u001b[0;34m(path_or_file, mode, encoding)\u001b[0m\n\u001b[1;32m    622\u001b[0m \u001b[0;32mdef\u001b[0m \u001b[0mopen_file_cm\u001b[0m\u001b[0;34m(\u001b[0m\u001b[0mpath_or_file\u001b[0m\u001b[0;34m,\u001b[0m \u001b[0mmode\u001b[0m\u001b[0;34m=\u001b[0m\u001b[0;34m\"r\"\u001b[0m\u001b[0;34m,\u001b[0m \u001b[0mencoding\u001b[0m\u001b[0;34m=\u001b[0m\u001b[0;32mNone\u001b[0m\u001b[0;34m)\u001b[0m\u001b[0;34m:\u001b[0m\u001b[0;34m\u001b[0m\u001b[0m\n\u001b[1;32m    623\u001b[0m     \u001b[0;34mr\"\"\"Pass through file objects and context-manage `.PathLike`\\s.\"\"\"\u001b[0m\u001b[0;34m\u001b[0m\u001b[0m\n\u001b[0;32m--> 624\u001b[0;31m     \u001b[0mfh\u001b[0m\u001b[0;34m,\u001b[0m \u001b[0mopened\u001b[0m \u001b[0;34m=\u001b[0m \u001b[0mto_filehandle\u001b[0m\u001b[0;34m(\u001b[0m\u001b[0mpath_or_file\u001b[0m\u001b[0;34m,\u001b[0m \u001b[0mmode\u001b[0m\u001b[0;34m,\u001b[0m \u001b[0;32mTrue\u001b[0m\u001b[0;34m,\u001b[0m \u001b[0mencoding\u001b[0m\u001b[0;34m)\u001b[0m\u001b[0;34m\u001b[0m\u001b[0m\n\u001b[0m\u001b[1;32m    625\u001b[0m     \u001b[0;32mif\u001b[0m \u001b[0mopened\u001b[0m\u001b[0;34m:\u001b[0m\u001b[0;34m\u001b[0m\u001b[0m\n\u001b[1;32m    626\u001b[0m         \u001b[0;32mwith\u001b[0m \u001b[0mfh\u001b[0m\u001b[0;34m:\u001b[0m\u001b[0;34m\u001b[0m\u001b[0m\n",
      "\u001b[0;32m//anaconda/envs/py36/lib/python3.6/site-packages/matplotlib/cbook/__init__.py\u001b[0m in \u001b[0;36mto_filehandle\u001b[0;34m(fname, flag, return_opened, encoding)\u001b[0m\n\u001b[1;32m    613\u001b[0m         \u001b[0mopened\u001b[0m \u001b[0;34m=\u001b[0m \u001b[0;32mFalse\u001b[0m\u001b[0;34m\u001b[0m\u001b[0m\n\u001b[1;32m    614\u001b[0m     \u001b[0;32melse\u001b[0m\u001b[0;34m:\u001b[0m\u001b[0;34m\u001b[0m\u001b[0m\n\u001b[0;32m--> 615\u001b[0;31m         \u001b[0;32mraise\u001b[0m \u001b[0mValueError\u001b[0m\u001b[0;34m(\u001b[0m\u001b[0;34m'fname must be a PathLike or file handle'\u001b[0m\u001b[0;34m)\u001b[0m\u001b[0;34m\u001b[0m\u001b[0m\n\u001b[0m\u001b[1;32m    616\u001b[0m     \u001b[0;32mif\u001b[0m \u001b[0mreturn_opened\u001b[0m\u001b[0;34m:\u001b[0m\u001b[0;34m\u001b[0m\u001b[0m\n\u001b[1;32m    617\u001b[0m         \u001b[0;32mreturn\u001b[0m \u001b[0mfh\u001b[0m\u001b[0;34m,\u001b[0m \u001b[0mopened\u001b[0m\u001b[0;34m\u001b[0m\u001b[0m\n",
      "\u001b[0;31mValueError\u001b[0m: fname must be a PathLike or file handle"
     ]
    },
    {
     "data": {
      "image/png": "[encoded data removed]",
      "text/plain": [
       "<Figure size 1440x720 with 1 Axes>"
      ]
     },
     "metadata": {},
     "output_type": "display_data"
    }
   ],
   "source": [
    "plt.figure(figsize=(20,10))\n",
    "\n",
    "nat = np.array([len(x) for x in targ_ready['md']['xyz']])[:]\n",
    "print(len(nat))\n",
    "\n",
    "for i, params_uopt in enumerate(optimal_parameters):\n",
    "\n",
    "    #print(params_uopt[1])\n",
    "\n",
    "    opti_out, targ_out = udif_print(params_uopt[1], stats, target, utot_EAM,[6])\n",
    "    #plt.title('Selected configurations at 0K')\n",
    "    if i == 0:\n",
    "        #print('Targ:', targ_out[0][:])\n",
    "        #print('Model:', opti_out[0][:])\n",
    "\n",
    "        #nat = np.array([len(x) for x in targ_dict['relax']['xyz']])\n",
    "        print(len(np.array(targ_out[0][:]))/nat)\n",
    "        #plt.plot(np.array(targ_out[0][:])/nat, 'o', label='target'+str(i), markersize=10)\n",
    "        plt.plot(np.array(targ_out[0][:]), 'o', label='target'+str(i), markersize=5)\n",
    "\n",
    "        \n",
    "    #if params_uopt[0] > 0.6e-3:\n",
    "    #    continue\n",
    "    #if i != 1:# and i != 12:\n",
    "    #    continue\n",
    "    print(i, params_uopt[0])\n",
    "\n",
    "    #print('Opti:', [o for o in opti_out[-1][:-1]])\n",
    "    #plt.plot(np.array([o for o in opti_out[0][:]])/nat, 'x--', label='optimized '+str(i))\n",
    "    plt.plot(np.array([o for o in opti_out[0][:]]), '--', label='optimized '+str(i), lw=1.0)\n",
    "\n",
    "#    else:\n",
    "#        plt.plot([o for o in opti_out[-1][:-1]], 'x--', label='optimized '+str(i))\n",
    "#        plt.plot(targ_out[-1][:-1], 'o', markersize=10)\n",
    "\n",
    "#plt.xticks([0, 1, 2, 3, 4, 5, 6], ['BCC','FCC', 'vacancy','110','111','liq','inf'])\n",
    "plt.ylabel('Energy [eV]', fontsize=30)\n",
    "plt.xlabel('configuation #', fontsize=30)\n",
    "plt.xticks(fontsize=20)\n",
    "plt.yticks(fontsize=20)\n",
    "\n",
    "#plt.ylim(-1145, -1136)\n",
    "#plt.ylim(-8.905, -8.533)\n",
    "#plt.ylim(-8.9, -8.35)\n",
    "\n",
    "#plt.ylim(-1075,-1035)\n",
    "#plt.ylim(-1000,-900)\n",
    "#plt.ylim(-950,-900)\n",
    "#plt.ylim(-1136,-1133)\n",
    "plt.ylim(-1180,-800)\n",
    "plt.xlim(0,820)\n",
    "#plt.xlim(847,990)\n",
    "\n",
    "#plt.ylim(-1180,-800)\n",
    "\n",
    "plt.legend(fontsize=30)\n",
    "plt.savefig(plt.savefig(os.path.join(working, 'bcc_300.png')))"
   ]
  },
  {
   "cell_type": "code",
   "execution_count": 120,
   "metadata": {},
   "outputs": [
    {
     "name": "stdout",
     "output_type": "stream",
     "text": [
      "0 4.407570269501649e-05 \n",
      " [-1.21658318, 3.2486358e-05, -47.3661687, 22.9965951, -3.42248343, 3.7395698, -1.39292737, -0.833458565, 0.929769431, -0.183568989]\n",
      "1 6.17447812420396e-05 \n",
      " [-1.30551487, 1.41920657e-05, -46.1160967, 22.9352328, -3.42360958, 3.82313395, -1.54715703, -0.697925842, 0.868730239, -0.154592379]\n",
      "2 9.723561709685708e-05 \n",
      " [-1.34624502, 7.49457487e-06, -45.8871674, 22.4064873, -3.46516902, 4.0226376, -1.8966168, -0.431617423, 0.806406324, -0.137562101]\n",
      "3 0.00014123622250142564 \n",
      " [-1.34136558, 1.01769934e-05, -49.3998032, 22.1279115, -3.50791272, 4.16822104, -2.13414308, -0.266237999, 0.783819577, -0.136703203]\n"
     ]
    }
   ],
   "source": [
    "for i, params_uopt in enumerate(optimal_parameters):\n",
    "    if params_uopt[0] > 1.1e-3:\n",
    "        continue\n",
    "    print(i, params_uopt[0], '\\n', params_uopt[1])"
   ]
  },
  {
   "cell_type": "code",
   "execution_count": 122,
   "metadata": {},
   "outputs": [
    {
     "data": {
      "text/plain": [
       "[2.5, 2.75, 3.25, 3.75, 4.25, 4.5, 5.0, 5.5]"
      ]
     },
     "execution_count": 122,
     "metadata": {},
     "output_type": "execute_result"
    }
   ],
   "source": [
    "stats_opts[it]['hyperparams']"
   ]
  },
  {
   "cell_type": "code",
   "execution_count": 123,
   "metadata": {
    "collapsed": true
   },
   "outputs": [],
   "source": [
    "pars_out = {}\n",
    "pars_out['pair_nodes'] = stats_opts[it]['hyperparams']\n",
    "pars_out['mb_node'] = 6\n",
    "pars_out['params'] = [optimal_parameters[1]]"
   ]
  },
  {
   "cell_type": "code",
   "execution_count": 124,
   "metadata": {
    "collapsed": true
   },
   "outputs": [],
   "source": [
    "optimal_list = []\n",
    "\n",
    "#with open(os.path.join(working, 'pars_out.pickle'), 'rb') as fi:\n",
    "#    optimal_list = pickle.load(fi)\n",
    "\n",
    "#if type(optimal_list) != list:\n",
    "#    optimal_list = [optimal_list]\n",
    "\n",
    "optimal_list.append(pars_out)\n",
    "\n",
    "with open(os.path.join(working, 'pars_out.pickle'), 'wb') as fo:\n",
    "    pickle.dump(optimal_list, fo)"
   ]
  },
  {
   "cell_type": "code",
   "execution_count": 125,
   "metadata": {
    "collapsed": true
   },
   "outputs": [],
   "source": [
    "with open(os.path.join(working, 'pars_out.pickle'), 'rb') as fi:\n",
    "    optimal_list = pickle.load(fi)"
   ]
  },
  {
   "cell_type": "code",
   "execution_count": 126,
   "metadata": {},
   "outputs": [
    {
     "data": {
      "text/plain": [
       "[{'pair_nodes': [2.5, 2.75, 3.25, 3.75, 4.25, 4.5, 5.0, 5.5],\n",
       "  'mb_node': 6,\n",
       "  'params': [(6.17447812420396e-05,\n",
       "    [-1.30551487,\n",
       "     1.41920657e-05,\n",
       "     -46.1160967,\n",
       "     22.9352328,\n",
       "     -3.42360958,\n",
       "     3.82313395,\n",
       "     -1.54715703,\n",
       "     -0.697925842,\n",
       "     0.868730239,\n",
       "     -0.154592379])]}]"
      ]
     },
     "execution_count": 126,
     "metadata": {},
     "output_type": "execute_result"
    }
   ],
   "source": [
    "optimal_list"
   ]
  },
  {
   "cell_type": "code",
   "execution_count": 127,
   "metadata": {
    "collapsed": true
   },
   "outputs": [],
   "source": [
    "# Total pair potential\n",
    "pos = targ_ready['relax']['xyz'][0]\n",
    "bx = targ_ready['relax']['box'][0]\n",
    "rr, rx = pair_dist_cutoff(pos, bx, 5.5)"
   ]
  },
  {
   "cell_type": "code",
   "execution_count": 128,
   "metadata": {
    "collapsed": true
   },
   "outputs": [],
   "source": [
    "# embedding function\n",
    "F = lambda d, a: a[0]*d**0.5 + a[1]*d + a[2]*d**2\n",
    "\n",
    "V = lambda r, aa, cc: sum([a*(rc - r)**3 for a, rc in zip(aa, cc) if r < rc])\n",
    "\n",
    "# Cohesive potential (cubic splines - same form as V)\n",
    "phi = lambda r, aa, cc: sum([a*(rc - r)**3 for a, rc in zip(aa, cc) if r < rc])\n",
    "\n",
    "rho = lambda r, aa, kk: sum([a*(rk - r)**3 for a, rk in zip(aa, kk) if r < rk and r > 0.01])"
   ]
  },
  {
   "cell_type": "code",
   "execution_count": 129,
   "metadata": {},
   "outputs": [
    {
     "data": {
      "text/plain": [
       "[-1.30551487,\n",
       " 1.41920657e-05,\n",
       " -46.1160967,\n",
       " 22.9352328,\n",
       " -3.42360958,\n",
       " 3.82313395,\n",
       " -1.54715703,\n",
       " -0.697925842,\n",
       " 0.868730239,\n",
       " -0.154592379]"
      ]
     },
     "execution_count": 129,
     "metadata": {},
     "output_type": "execute_result"
    }
   ],
   "source": [
    "optimal_list[-1]['params'][0][1]"
   ]
  },
  {
   "cell_type": "code",
   "execution_count": 130,
   "metadata": {
    "collapsed": true
   },
   "outputs": [],
   "source": [
    "#optimal_parameters.append(tuple([output[1:], params_uopt]))\n",
    "pair_y = optimal_list[-1]['params'][0][1][2:]\n",
    "par = optimal_list[-1]['params'][0][1][:2]\n",
    "many_y = [par[0], 0.0, par[1]]\n",
    "V_x_r = optimal_list[-1]['pair_nodes'] #stats_opt['hyperparams']\n",
    "rho_x_r = [V_x_r[optimal_list[-1]['mb_node']]] #stats_opt['hyperparams'][4:5]\n",
    "rho_x_a = [1.0]"
   ]
  },
  {
   "cell_type": "code",
   "execution_count": 131,
   "metadata": {},
   "outputs": [
    {
     "data": {
      "text/plain": [
       "([-46.1160967,\n",
       "  22.9352328,\n",
       "  -3.42360958,\n",
       "  3.82313395,\n",
       "  -1.54715703,\n",
       "  -0.697925842,\n",
       "  0.868730239,\n",
       "  -0.154592379],\n",
       " [-1.30551487, 0.0, 1.41920657e-05],\n",
       " [2.5, 2.75, 3.25, 3.75, 4.25, 4.5, 5.0, 5.5],\n",
       " [5.0])"
      ]
     },
     "execution_count": 131,
     "metadata": {},
     "output_type": "execute_result"
    }
   ],
   "source": [
    "pair_y, many_y, V_x_r, rho_x_r"
   ]
  },
  {
   "cell_type": "code",
   "execution_count": 132,
   "metadata": {
    "collapsed": true
   },
   "outputs": [],
   "source": [
    "ene = []\n",
    "for a in np.linspace(0.5, 2.0, 101):\n",
    "    z = a*rr\n",
    "    u_pair = 0.5*np.sum([V(x, pair_y, V_x_r) for x in z.flatten() if x > 0.1])\n",
    "\n",
    "    u_many = 0.0\n",
    "    for i in range(z.shape[0]):\n",
    "        d = np.sum([phi(x, rho_x_a, rho_x_r) for x in z[i] if x > 0.1])\n",
    "        u_many += F(d, many_y)\n",
    "\n",
    "    ene.append([a, u_pair, u_many, u_pair+u_many])\n",
    "\n",
    "ene = np.array(ene)"
   ]
  },
  {
   "cell_type": "code",
   "execution_count": 149,
   "metadata": {},
   "outputs": [
    {
     "data": {
      "text/plain": [
       "Text(0,0.5,'U')"
      ]
     },
     "execution_count": 149,
     "metadata": {},
     "output_type": "execute_result"
    },
    {
     "data": {
      "image/png": "[encoded data removed]",
      "text/plain": [
       "<Figure size 432x288 with 1 Axes>"
      ]
     },
     "metadata": {},
     "output_type": "display_data"
    }
   ],
   "source": [
    "#plt.plot(ene[:,0], ene[:,1]/54, label='pair')\n",
    "#plt.plot(ene[:,0], ene[:,2]/54, label='manybody')\n",
    "plt.title('Equation of state (T=0K)')\n",
    "plt.plot(ene[:,0]*2.74, [universal_eos(x, 'W') for x in ene[:,0]], label='universal EOS')\n",
    "plt.plot(ene[:,0]*2.74, ene[:,3]/128, label='u-total')\n",
    "plt.hlines(0.0,0.5,6.0,lw=1)\n",
    "plt.legend()\n",
    "plt.xlim(2.0, 5.75)\n",
    "plt.xlim(2.6, 2.85)\n",
    "plt.ylim(-10,10)\n",
    "plt.ylim(-9.,-8.5)\n",
    "\n",
    "plt.xlabel('x')\n",
    "plt.ylabel(r'U')"
   ]
  },
  {
   "cell_type": "code",
   "execution_count": 134,
   "metadata": {
    "collapsed": true
   },
   "outputs": [],
   "source": [
    "#optimal_parameters.append(tuple([output[1:], params_uopt]))\n",
    "pair_y = optimal_list[-1]['params'][0][1][2:]\n",
    "par = optimal_list[-1]['params'][0][1][:2]\n",
    "many_y = [par[0], 0.0, par[1]]\n",
    "V_x_r = optimal_list[-1]['pair_nodes'] #stats_opt['hyperparams']\n",
    "rho_x_r = [V_x_r[optimal_list[-1]['mb_node']]] #stats_opt['hyperparams'][4:5]\n",
    "rho_x_a = [1.0]"
   ]
  },
  {
   "cell_type": "code",
   "execution_count": 135,
   "metadata": {},
   "outputs": [
    {
     "data": {
      "text/plain": [
       "[2.5, 2.75, 3.25, 3.75, 4.25, 4.5, 5.0, 5.5]"
      ]
     },
     "execution_count": 135,
     "metadata": {},
     "output_type": "execute_result"
    }
   ],
   "source": [
    "V_x_r"
   ]
  },
  {
   "cell_type": "code",
   "execution_count": 136,
   "metadata": {
    "collapsed": true
   },
   "outputs": [],
   "source": [
    "pair_a = optimal_list[-1]['params'][0][1][2:]#pars_in1[2:]\n",
    "pair_r = optimal_list[-1]['pair_nodes']\n",
    "\n",
    "rho_a = [1.0]\n",
    "rho_r = [pair_r[optimal_list[-1]['mb_node']]]\n",
    "\n",
    "par = optimal_list[-1]['params'][0][1][:2]\n",
    "many_a = [par[0], 0.0, par[1]]"
   ]
  },
  {
   "cell_type": "code",
   "execution_count": 137,
   "metadata": {},
   "outputs": [
    {
     "name": "stdout",
     "output_type": "stream",
     "text": [
      "rhomax: 514.5\n"
     ]
    }
   ],
   "source": [
    "# Ranges of densities and separations\n",
    "\n",
    "nr = 5000\n",
    "rcut = pair_r[-1]#stats_opt['hyperparams'][-1]\n",
    "dr = rcut/nr\n",
    "\n",
    "rhomax = 12.0*phi(1.5, rho_a, rho_r)\n",
    "print('rhomax:', rhomax)\n",
    "rhomax = 1000.0\n",
    "nrho = 5000\n",
    "drho = rhomax/nrho\n",
    "\n",
    "ri = 1.0\n",
    "ro = 2.0\n",
    "\n",
    "# W properties\n",
    "na = 74\n",
    "ma = 183.84\n",
    "lc = 3.1653\n",
    "alat = 'bcc'\n",
    "\n",
    "# System composition\n",
    "n_el = 1\n",
    "el_name = ['W']"
   ]
  },
  {
   "cell_type": "code",
   "execution_count": 138,
   "metadata": {
    "collapsed": true
   },
   "outputs": [],
   "source": [
    "def u_trans(r, unucl, ueq, ri=1.0, ro=2.0):\n",
    "    \"\"\"Transition between the core and equillibrium potentials\"\"\"\n",
    "    if r < ri:\n",
    "        return unucl\n",
    "    elif r < ro:\n",
    "        x = (ro + ri - 2*r)/(ro - ri)\n",
    "        eta = 3/16*x**5 - 5/8*x**3 + 15/16*x + 1/2\n",
    "        return ueq + eta*(unucl - ueq)\n",
    "    else:\n",
    "        return ueq"
   ]
  },
  {
   "cell_type": "code",
   "execution_count": 139,
   "metadata": {
    "collapsed": true
   },
   "outputs": [],
   "source": [
    "# prepare lists of values\n",
    "dens = np.linspace(0., rhomax-drho, nrho, endpoint=True)\n",
    "r = np.linspace(0., rcut-dr, nr, endpoint=True)\n",
    "r2 = np.linspace(0., rcut, 201)\n",
    "\n",
    "fembd = [F(d, many_a) for d in dens] # W\n",
    "edens = np.array([phi(x, rho_a, rho_r) for x in r])\n",
    "\n",
    "# 1. Cubic spline for r > r_o\n",
    "f_outer = [V(x, pair_a, pair_r) for i, x in enumerate(r)]\n",
    "# 2. Repulsive core for r < r_i (precalculate up to r_o)\n",
    "f_inner = [0.0] + [u_core(x) for x in r[1:]]\n",
    "# 3. Transition region for r_i < r < r_o\n",
    "fpair = [x*u_trans(x, f_inner[i], f_outer[i]) for i, x in enumerate(r)]\n",
    "#fpair = f_outer"
   ]
  },
  {
   "cell_type": "code",
   "execution_count": 140,
   "metadata": {
    "collapsed": true
   },
   "outputs": [],
   "source": [
    "# LAMMPS format\n",
    "pot_path = '../sim/potentials'\n",
    "\n",
    "with open(os.path.join(pot_path, 'W_lv_3.eam.fs'), 'w') as fo:\n",
    "    \n",
    "    # Comment section\n",
    "    fo.write('Comment 1\\n')\n",
    "    fo.write('Comment 2\\n')\n",
    "    fo.write('Comment 3\\n')\n",
    "    \n",
    "    # Number of elements\n",
    "    fo.write(f\"{n_el:5d} \")\n",
    "    for i in range(n_el):\n",
    "        fo.write(f\"{el_name[i]:2}\")\n",
    "    fo.write(\"\\n\")\n",
    "    \n",
    "    # number of grid points, step size, and cutoff\n",
    "    fo.write(f\"{nrho:5d}{drho:24.16e}{nr:5d}{dr:24.16e}{rcut:24.16e}\\n\")\n",
    "    \n",
    "    # atomic number, mass, lattice size, lattice type\n",
    "    fo.write(f\"{na:5d} {ma:14.4f} {lc:14.4f} {alat:10}\\n\")\n",
    "    \n",
    "    # Embeding function\n",
    "    for i in range(nrho//4):\n",
    "        fo.write(\"{0:20.12e}{1:20.12e}{2:20.12e}{3:20.12e}\\n\".format(*fembd[i*4:i*4+4]))\n",
    "    \n",
    "    # Electronic density\n",
    "    for i in range(nr//4):\n",
    "        fo.write(\"{0:20.12e}{1:20.12e}{2:20.12e}{3:20.12e}\\n\".format(*edens[i*4:i*4+4]))\n",
    "        \n",
    "    # Pair potential\n",
    "    for i in range(nr//4):\n",
    "        fo.write(\"{0:20.12e}{1:20.12e}{2:20.12e}{3:20.12e}\\n\".format(*fpair[i*4:i*4+4]))"
   ]
  },
  {
   "cell_type": "code",
   "execution_count": null,
   "metadata": {
    "collapsed": true
   },
   "outputs": [],
   "source": []
  }
 ],
 "metadata": {
  "kernelspec": {
   "display_name": "Python 3",
   "language": "python",
   "name": "python3"
  },
  "language_info": {
   "codemirror_mode": {
    "name": "ipython",
    "version": 3
   },
   "file_extension": ".py",
   "mimetype": "text/x-python",
   "name": "python",
   "nbconvert_exporter": "python",
   "pygments_lexer": "ipython3",
   "version": "3.6.1"
  }
 },
 "nbformat": 4,
 "nbformat_minor": 2
}
