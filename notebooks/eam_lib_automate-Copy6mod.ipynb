{
 "cells": [
  {
   "cell_type": "code",
   "execution_count": 1,
   "metadata": {
    "collapsed": true
   },
   "outputs": [],
   "source": [
    "import os\n",
    "import sys\n",
    "import re\n",
    "import numpy as np\n",
    "%matplotlib inline\n",
    "import matplotlib.pyplot as plt\n",
    "import copy\n",
    "import pickle\n",
    "from scipy.optimize import fmin"
   ]
  },
  {
   "cell_type": "code",
   "execution_count": 2,
   "metadata": {
    "collapsed": true
   },
   "outputs": [],
   "source": [
    "%load_ext autoreload\n",
    "%autoreload 2"
   ]
  },
  {
   "cell_type": "code",
   "execution_count": 3,
   "metadata": {
    "collapsed": true
   },
   "outputs": [],
   "source": [
    "sys.path.append('../../statmechlib')\n",
    "from statmechlib.read_write import read_vasp\n",
    "from statmechlib.preprocessing import Trajectory, select_nodes, scale_configuration, pair_dist_cutoff\n",
    "from statmechlib.preprocessing import pair_dist, force_targ, get_stats_EAM, get_stats_EAM_pairdist\n",
    "from statmechlib.forcefields import sd2_loss, utot_EAM, ftot_EAM, udif_print, u_core\n",
    "from statmechlib.preprocessing import universal_eos"
   ]
  },
  {
   "cell_type": "code",
   "execution_count": 4,
   "metadata": {
    "collapsed": true
   },
   "outputs": [],
   "source": [
    "target_raw = '../data/target_raw'\n",
    "target_proc = '../data/target_processed'\n",
    "working = '../data/working'"
   ]
  },
  {
   "cell_type": "code",
   "execution_count": 5,
   "metadata": {
    "collapsed": true
   },
   "outputs": [],
   "source": [
    "n = int((1.45-0.85)/0.05 + 0.01)\n",
    "reos = np.linspace(0.85, 1.45, n+1)*2.74\n",
    "#for i, scale in enumerate(np.linspace(0.85, 1.45, 13)):\n",
    "#    print(round(reos[i], 3), universal_eos(scale, 'W'))"
   ]
  },
  {
   "cell_type": "code",
   "execution_count": 6,
   "metadata": {
    "collapsed": true
   },
   "outputs": [],
   "source": [
    "with open(os.path.join(working, 'stats_ready'+'.pickle'), 'rb') as fi:\n",
    "    stats_ready = pickle.load(fi)\n",
    "\n",
    "with open(os.path.join(working, 'target_ready'+'.pickle'), 'rb') as fi:\n",
    "    targ_ready = pickle.load(fi)   "
   ]
  },
  {
   "cell_type": "code",
   "execution_count": 7,
   "metadata": {},
   "outputs": [
    {
     "name": "stdout",
     "output_type": "stream",
     "text": [
      "[2.5, 2.65, 2.75, 3.0, 3.25, 3.5, 3.75, 4.0, 4.25, 4.356, 4.5, 4.75, 5.0, 5.25, 5.5, 5.75]\n"
     ]
    }
   ],
   "source": [
    "print(stats_ready['hyperparams'])"
   ]
  },
  {
   "cell_type": "code",
   "execution_count": 8,
   "metadata": {
    "collapsed": true
   },
   "outputs": [],
   "source": [
    "multi_index = []\n",
    "multi_index.append([0, 2, 3, 5, 7, 10, 12, 15])\n",
    "multi_index.append([0, 2, 4, 6, 8, 10, 12, 14])\n",
    "multi_index.append([0, 2, 4, 6, 8, 11, 13, 15])\n",
    "multi_index.append([1, 2, 3, 5, 7, 10, 12, 14])\n",
    "multi_index.append([1, 2, 4, 6, 8, 11, 13, 15])\n",
    "multi_index.append([1, 2, 4, 6, 9, 11, 13, 15])\n",
    "multi_index.append([1, 3, 5, 7, 9, 11, 13, 15])"
   ]
  },
  {
   "cell_type": "code",
   "execution_count": 9,
   "metadata": {},
   "outputs": [
    {
     "name": "stdout",
     "output_type": "stream",
     "text": [
      "[2.5  2.75 3.   3.5  4.   4.5  5.   5.75]\n",
      "[2.5  2.75 3.25 3.75 4.25 4.5  5.   5.5 ]\n",
      "[2.5  2.75 3.25 3.75 4.25 4.75 5.25 5.75]\n",
      "[2.65 2.75 3.   3.5  4.   4.5  5.   5.5 ]\n",
      "[2.65 2.75 3.25 3.75 4.25 4.75 5.25 5.75]\n",
      "[2.65  2.75  3.25  3.75  4.356 4.75  5.25  5.75 ]\n",
      "[2.65  3.    3.5   4.    4.356 4.75  5.25  5.75 ]\n"
     ]
    }
   ],
   "source": [
    "stats_opts = []\n",
    "for index in multi_index:\n",
    "    index = np.array([True if i in index else False for i in range(len(stats_ready['hyperparams']))])\n",
    "    print(np.array(stats_ready['hyperparams'])[index])\n",
    "    stats_opts.append(select_nodes(stats_ready, index))"
   ]
  },
  {
   "cell_type": "code",
   "execution_count": 13,
   "metadata": {},
   "outputs": [
    {
     "data": {
      "text/plain": [
       "dict_keys(['md', 'relax', 'eos'])"
      ]
     },
     "execution_count": 13,
     "metadata": {},
     "output_type": "execute_result"
    }
   ],
   "source": [
    "targ_ready.keys()"
   ]
  },
  {
   "cell_type": "code",
   "execution_count": 14,
   "metadata": {
    "collapsed": true
   },
   "outputs": [],
   "source": [
    "#with open(os.path.join(working, \"stats_multi.pickle\"), 'wb') as fo:\n",
    "#    pickle.dump(stats_opts, fo)"
   ]
  },
  {
   "cell_type": "code",
   "execution_count": 15,
   "metadata": {
    "collapsed": true
   },
   "outputs": [],
   "source": [
    "#with open(os.path.join(working, \"target_multi.pickle\"), 'wb') as fo:\n",
    "#    pickle.dump(targ_ready, fo)"
   ]
  },
  {
   "cell_type": "code",
   "execution_count": 16,
   "metadata": {},
   "outputs": [
    {
     "name": "stdout",
     "output_type": "stream",
     "text": [
      "[-0.344540412587315, 1.6869558429105695e-05, 0.4527535290774057, 7.091857873610367, 1.6314949612839302, 0.7906877956550405, -0.8249673243680319, 0.14501087706040938, -0.002061634677032549, 0.0021894588902290147]\n"
     ]
    }
   ],
   "source": [
    "# read corresponding parameters\n",
    "with open(os.path.join(working, 'pars_in'+'.pickle'), 'rb') as fi:\n",
    "    pars_dict = pickle.load(fi)\n",
    "\n",
    "pars_in = pars_dict['embed'] + pars_dict['pair']\n",
    "print(pars_in)"
   ]
  },
  {
   "cell_type": "code",
   "execution_count": 18,
   "metadata": {
    "collapsed": true
   },
   "outputs": [],
   "source": [
    "with open(os.path.join(working, 'stats_multi.pickle'), 'rb') as fi:\n",
    "    stats_opts = pickle.load(fi)\n",
    "\n",
    "with open(os.path.join(working, 'target_multi.pickle'), 'rb') as fi:\n",
    "    targ_ready = pickle.load(fi)   "
   ]
  },
  {
   "cell_type": "code",
   "execution_count": 24,
   "metadata": {},
   "outputs": [],
   "source": [
    "targ_ready['md']['weight'] = 10.0"
   ]
  },
  {
   "cell_type": "code",
   "execution_count": 25,
   "metadata": {
    "collapsed": true
   },
   "outputs": [],
   "source": [
    "it = 6 # read in it (independent process)\n",
    "stats = []\n",
    "target = []\n",
    "for key in list(targ_ready.keys()):\n",
    "    stats.append(stats_opts[it][key])\n",
    "    target.append(targ_ready[key])"
   ]
  },
  {
   "cell_type": "code",
   "execution_count": 26,
   "metadata": {
    "collapsed": true
   },
   "outputs": [],
   "source": [
    "def optimize_EAM(target, stats, ieam, multi_pars, n_b=3):\n",
    "    \n",
    "    optimal_parameters = []\n",
    "    \n",
    "    for i, pars in enumerate(multi_pars):\n",
    "        sd_ini = sd2_loss(list(pars), stats, target, utot_EAM, None, [ieam])\n",
    "        print(i,' sd2: ini', sd_ini, end='')\n",
    "        output = fmin(sd2_loss, pars, args=(stats, target, utot_EAM, None, [ieam]), maxiter=100000, maxfun=100000, disp=0, full_output=1,ftol=1e-6)\n",
    "        optimal_parameters.append(tuple([output[1], output[0]]))\n",
    "        print('sd2: final', output[1])\n",
    "\n",
    "    n_best = min(n_b, len(optimal_parameters))\n",
    "                 \n",
    "    best_params = sorted(optimal_parameters)[:n_best]\n",
    "    \n",
    "    print('Best params:', best_params)\n",
    "\n",
    "    return best_params"
   ]
  },
  {
   "cell_type": "code",
   "execution_count": 31,
   "metadata": {},
   "outputs": [
    {
     "name": "stdout",
     "output_type": "stream",
     "text": [
      "[-1.23357293e+00 -5.22672189e-02  2.96777579e+01 -2.48173434e+00\n",
      " -3.53479044e-02  4.40731838e+00 -5.13260075e+00  2.15053852e+00\n",
      "  2.90643512e-02 -2.58091247e-01]\n",
      "[-1.15517961  0.07906503 29.67288687 -2.47962526 -0.06588275  4.47634085\n",
      " -5.03826404  2.15942991  0.22884491 -0.20799457]\n",
      "[-1.20610318  0.100655   29.58107113 -2.50296897  0.04066586  4.45563991\n",
      " -5.25644033  2.22295157  0.21874792 -0.17767851]\n",
      "[-1.28457463e+00 -2.74788224e-02  2.94948061e+01 -2.53987792e+00\n",
      " -7.41961930e-02  4.42625529e+00 -5.24982848e+00  2.21570016e+00\n",
      "  1.05671655e-01 -2.72643473e-01]\n",
      "[-1.23655530e+00  2.43025433e-02  2.94999206e+01 -2.48306747e+00\n",
      "  4.40920048e-02  4.39822880e+00 -5.32779377e+00  2.23182421e+00\n",
      "  2.04886294e-01 -1.39249282e-01]\n"
     ]
    }
   ],
   "source": [
    "multi_pars = [[-2.79806563e-01,  3.25954186e-05,  2.38098641e+01, -3.49604675e-01, -9.13218975e-01,  3.90332338e+00, -3.75037798e+00,  1.20480869e+00, 1.93771655e-02, -9.79262038e-02]]\n",
    "multi_pars.append([-1.23251219e+00,  7.93181419e-04,  2.96045852e+01, -2.48098239e+00,-4.39044368e-02,  4.42542443e+00, -5.23310307e+00,  2.15105532e+00, 1.78229420e-01, -2.44258312e-01])\n",
    "multi_pars.append(pars_in)\n",
    "multi_pars.append([-0.684229349, 0.000152487644, -65.6958142, 23.0194161, -3.48639263, 3.45615281, -0.88808358, -1.34315802, 1.24532843, -0.351200974])\n",
    "for _ in range(5):\n",
    "    pars = np.array(multi_pars[1])\n",
    "    pars += np.random.standard_normal(pars.shape)*0.07\n",
    "    print(pars)\n",
    "    multi_pars.append(pars)"
   ]
  },
  {
   "cell_type": "code",
   "execution_count": 32,
   "metadata": {},
   "outputs": [
    {
     "name": "stdout",
     "output_type": "stream",
     "text": [
      "ieam: 5\n",
      "0  sd2: ini 1.4712241180608843sd2: final 0.0006831784555523471\n",
      "1  sd2: ini 2.1003029240820053sd2: final 0.00022227049411611212\n",
      "2  sd2: ini 17.52036047394757sd2: final 0.0002948197258729742\n",
      "3  sd2: ini 19.751179881755846sd2: final 0.0020354264362684874\n",
      "4  sd2: ini 32.23225776151465sd2: final 0.00238335944616338\n",
      "5  sd2: ini 36.96142697440123sd2: final 0.0008009327827865837\n",
      "6  sd2: ini 36.99985972812178sd2: final 0.0003515539529814444\n",
      "7  sd2: ini 28.20500069580257sd2: final 0.0004446659250811884\n",
      "8  sd2: ini 36.90888748239983sd2: final 0.00036680725778791035\n",
      "Best params: [(0.00022227049411611212, array([-7.53430604e-01,  3.50322949e-04,  2.85529762e+01, -3.32197083e+00,\n",
      "       -4.88166031e-02,  4.64253768e+00, -5.22267944e+00,  1.75324110e+00,\n",
      "        3.29217827e-01, -2.49591428e-01])), (0.0002948197258729742, array([-1.13793428e+00,  1.90696698e-04,  3.74716325e+01, -3.87212051e+00,\n",
      "        5.06829972e-01,  3.93225203e+00, -4.73852979e+00,  1.76954378e+00,\n",
      "        1.92378322e-01, -1.79740954e-01])), (0.0003515539529814444, array([-1.05334026e+00,  2.10261441e-04,  3.41522811e+01, -2.60441589e+00,\n",
      "        3.94854065e-02,  4.43759483e+00, -5.21557036e+00,  1.91087404e+00,\n",
      "        2.48105335e-01, -2.14740999e-01]))]\n",
      "0  sd2: ini 0.00022227049411611212sd2: final 0.000123653825990782\n",
      "1  sd2: ini 0.0002948197258729742sd2: final 0.0001443568311120305\n",
      "2  sd2: ini 0.0003515539529814444sd2: final 0.00020518877250484061\n",
      "Best params: [(0.000123653825990782, array([-7.92372090e-01,  3.33381718e-04,  2.49390101e+01, -1.11891979e+00,\n",
      "       -1.62467324e-01,  3.89280805e+00, -4.74113194e+00,  2.01476409e+00,\n",
      "       -1.82256481e-02, -1.46490827e-01])), (0.0001443568311120305, array([-8.34577703e-01,  3.09884015e-04,  2.78865764e+01, -1.27525699e+00,\n",
      "       -4.90043416e-01,  4.14901619e+00, -4.66073847e+00,  1.79919550e+00,\n",
      "        7.89250813e-02, -1.60813125e-01])), (0.00020518877250484061, array([-7.37924138e-01,  3.59992760e-04,  2.45092459e+01, -2.08641642e+00,\n",
      "       -2.14403581e-01,  4.59346246e+00, -5.30957575e+00,  1.93300806e+00,\n",
      "        2.29969960e-01, -2.28862868e-01]))]\n",
      "0  sd2: ini 0.000123653825990782sd2: final 0.00011951513418594577\n",
      "1  sd2: ini 0.0001443568311120305sd2: final 0.00012416812198063712\n",
      "2  sd2: ini 0.00020518877250484061sd2: final 0.00018424616098633938\n",
      "Best params: [(0.00011951513418594577, array([-8.29274801e-01,  3.16386173e-04,  2.61264519e+01, -1.10759393e+00,\n",
      "       -2.15711858e-01,  3.87912674e+00, -4.66547546e+00,  1.97033162e+00,\n",
      "       -1.69075261e-02, -1.41280646e-01])), (0.00012416812198063712, array([-8.27350048e-01,  3.17431510e-04,  2.56199292e+01, -8.11312557e-01,\n",
      "       -5.55443209e-01,  4.23669620e+00, -4.82399310e+00,  1.89474332e+00,\n",
      "        6.81734907e-02, -1.64049692e-01])), (0.00018424616098633938, array([-6.97059251e-01,  3.75736583e-04,  2.08457173e+01, -2.85626136e-01,\n",
      "       -1.00614478e+00,  4.91574448e+00, -5.33997975e+00,  1.90204126e+00,\n",
      "        2.12315899e-01, -2.20897815e-01]))]\n",
      "0  sd2: ini 0.00011951513418594577sd2: final 0.00011947562211276673\n",
      "1  sd2: ini 0.00012416812198063712sd2: final 0.00012415875942246588\n",
      "2  sd2: ini 0.00018424616098633938sd2: final 0.00016004252958672132\n",
      "Best params: [(0.00011947562211276673, array([-8.23129265e-01,  3.18623379e-04,  2.60816066e+01, -1.12472910e+00,\n",
      "       -2.09238201e-01,  3.87370384e+00, -4.66165566e+00,  1.97001067e+00,\n",
      "       -1.78187690e-02, -1.41384955e-01])), (0.00012415875942246588, array([-8.24532924e-01,  3.18329783e-04,  2.56023493e+01, -8.12945661e-01,\n",
      "       -5.56108853e-01,  4.23636309e+00, -4.82287534e+00,  1.89440328e+00,\n",
      "        6.80127657e-02, -1.64183828e-01])), (0.00016004252958672132, array([-7.34708691e-01,  3.56557763e-04,  2.48802041e+01, -1.51380361e+00,\n",
      "       -6.06945771e-01,  4.69894163e+00, -5.17066933e+00,  1.81914970e+00,\n",
      "        2.33784018e-01, -2.21251067e-01]))]\n",
      "0  sd2: ini 0.00011947562211276673sd2: final 0.00011935538125120264\n",
      "1  sd2: ini 0.00012415875942246588sd2: final 0.00012392635001997387\n",
      "2  sd2: ini 0.00016004252958672132sd2: final 0.00013291410605737838\n",
      "Best params: [(0.00011935538125120264, array([-8.25147033e-01,  3.18000023e-04,  2.63116121e+01, -1.25234581e+00,\n",
      "       -1.54456236e-01,  3.85517109e+00, -4.66383356e+00,  1.97267400e+00,\n",
      "       -1.54359988e-02, -1.42423875e-01])), (0.00012392635001997387, array([-8.15930639e-01,  3.21845820e-04,  2.57870776e+01, -1.02164206e+00,\n",
      "       -4.56579217e-01,  4.18964048e+00, -4.81728431e+00,  1.90257948e+00,\n",
      "        6.62621912e-02, -1.65032919e-01])), (0.00013291410605737838, array([-8.32604177e-01,  3.14837259e-04,  2.47403005e+01, -1.44039787e-01,\n",
      "       -1.03366272e+00,  4.60893946e+00, -4.94917779e+00,  1.81496616e+00,\n",
      "        1.36499082e-01, -1.79940628e-01]))]\n",
      "0  sd2: ini 0.00011935538125120264sd2: final 0.00011934205731950011\n",
      "1  sd2: ini 0.00012392635001997387sd2: final 0.00012381612430187457\n",
      "2  sd2: ini 0.00013291410605737838sd2: final 0.00013283598832076243\n",
      "Best params: [(0.00011934205731950011, array([-8.26226622e-01,  3.17602037e-04,  2.63954135e+01, -1.29861260e+00,\n",
      "       -1.32762187e-01,  3.84555404e+00, -4.66251115e+00,  1.97382401e+00,\n",
      "       -1.54216445e-02, -1.42491240e-01])), (0.00012381612430187457, array([-8.27727340e-01,  3.17398935e-04,  2.59064298e+01, -9.94858971e-01,\n",
      "       -4.62851368e-01,  4.18914577e+00, -4.81551992e+00,  1.90278505e+00,\n",
      "        6.53588364e-02, -1.63904344e-01])), (0.00013283598832076243, array([-8.39549069e-01,  3.12815373e-04,  2.48350892e+01, -1.77527014e-01,\n",
      "       -1.01712347e+00,  4.60453907e+00, -4.95141838e+00,  1.81553611e+00,\n",
      "        1.37643125e-01, -1.79866368e-01]))]\n",
      "0  sd2: ini 0.00011934205731950011sd2: final 0.00011933086461427344\n",
      "1  sd2: ini 0.00012381612430187457sd2: final 0.00012375756233958083\n",
      "2  sd2: ini 0.00013283598832076243sd2: final 0.00013171503173083657\n",
      "Best params: [(0.00011933086461427344, array([-8.24809701e-01,  3.18040254e-04,  2.64121263e+01, -1.30154414e+00,\n",
      "       -1.34457800e-01,  3.84476224e+00, -4.65930231e+00,  1.97200712e+00,\n",
      "       -1.54022997e-02, -1.42474043e-01])), (0.00012375756233958083, array([-8.20193972e-01,  3.19894687e-04,  2.58138038e+01, -9.84581338e-01,\n",
      "       -4.69132167e-01,  4.19050940e+00, -4.81419242e+00,  1.90269693e+00,\n",
      "        6.46130334e-02, -1.64183097e-01])), (0.00013171503173083657, array([-8.11486584e-01,  3.23155800e-04,  2.45493642e+01, -3.22255417e-01,\n",
      "       -9.29836207e-01,  4.56854440e+00, -4.96679125e+00,  1.83937280e+00,\n",
      "        1.32634363e-01, -1.82189506e-01]))]\n",
      "0  sd2: ini 0.00011933086461427344sd2: final 0.00011932094304120536\n",
      "1  sd2: ini 0.00012375756233958083sd2: final 0.00012358538718998136\n",
      "2  sd2: ini 0.00013171503173083657sd2: final 0.00013057459886894415\n",
      "Best params: [(0.00011932094304120536, array([-8.21816337e-01,  3.19129076e-04,  2.63372263e+01, -1.28654150e+00,\n",
      "       -1.39559435e-01,  3.84605245e+00, -4.65960037e+00,  1.97280934e+00,\n",
      "       -1.62082214e-02, -1.42445617e-01])), (0.00012358538718998136, array([-8.25164411e-01,  3.17859494e-04,  2.60517694e+01, -1.01963151e+00,\n",
      "       -4.55246996e-01,  4.16860078e+00, -4.79209780e+00,  1.89705497e+00,\n",
      "        6.14973202e-02, -1.62410296e-01])), (0.00013057459886894415, array([-8.41149736e-01,  3.12498619e-04,  2.53943498e+01, -5.45250153e-01,\n",
      "       -8.21402350e-01,  4.50158687e+00, -4.93628201e+00,  1.83731583e+00,\n",
      "        1.29694650e-01, -1.79181630e-01]))]\n",
      "ieam: 6\n",
      "0  sd2: ini 16.384992981383363sd2: final 0.00014328351402673157\n",
      "1  sd2: ini 16.278346569439062sd2: final 0.00022578591263343892\n",
      "2  sd2: ini 15.785730889811017sd2: final 0.00012279519145925365\n",
      "Best params: [(0.00012279519145925365, array([-4.53961194e-01,  1.08497191e-04,  2.07355015e+01,  2.84752833e-01,\n",
      "       -1.17589620e+00,  4.38242507e+00, -4.45116749e+00,  1.53116641e+00,\n",
      "        4.22506566e-02, -1.22694339e-01])), (0.00014328351402673157, array([-3.33411585e-01,  1.25273436e-04,  2.07168757e+01, -1.44198919e+00,\n",
      "       -2.35430372e-01,  3.96512516e+00, -4.52786837e+00,  1.75538991e+00,\n",
      "       -1.55695391e-02, -1.38193537e-01])), (0.00022578591263343892, array([-6.98911634e-01,  7.32329624e-05,  3.11130642e+01, -1.59873416e+00,\n",
      "       -6.43200753e-01,  4.00189684e+00, -3.98079117e+00,  1.18207689e+00,\n",
      "        1.27891940e-01, -9.60522921e-02]))]\n"
     ]
    },
    {
     "name": "stdout",
     "output_type": "stream",
     "text": [
      "0  sd2: ini 0.00012279519145925365sd2: final 0.0001192150258184016\n",
      "1  sd2: ini 0.00014328351402673157sd2: final 0.00012245572005451693\n",
      "2  sd2: ini 0.00022578591263343892sd2: final 0.00015263874483426327\n",
      "Best params: [(0.0001192150258184016, array([-5.09673158e-01,  1.00664114e-04,  2.13508107e+01,  7.15861534e-01,\n",
      "       -1.31827202e+00,  4.31391831e+00, -4.30581569e+00,  1.47574484e+00,\n",
      "        1.57216859e-02, -1.01611944e-01])), (0.00012245572005451693, array([-4.21137683e-01,  1.12168080e-04,  2.00286423e+01,  4.15360277e-01,\n",
      "       -1.03881195e+00,  4.14901577e+00, -4.35724247e+00,  1.62950377e+00,\n",
      "       -4.30600295e-02, -1.05860061e-01])), (0.00015263874483426327, array([-6.59045858e-01,  7.94644329e-05,  2.36118041e+01,  1.65973378e+00,\n",
      "       -1.88790627e+00,  4.47484187e+00, -4.08691288e+00,  1.22998922e+00,\n",
      "        5.79785648e-02, -7.64059947e-02]))]\n",
      "0  sd2: ini 0.0001192150258184016sd2: final 0.00011902068130670727\n",
      "1  sd2: ini 0.00012245572005451693sd2: final 0.00011306400919688697\n",
      "2  sd2: ini 0.00015263874483426327sd2: final 0.00014974899103325611\n",
      "Best params: [(0.00011306400919688697, array([-4.94859195e-01,  1.02746659e-04,  2.23516834e+01, -1.10992119e-01,\n",
      "       -8.18050103e-01,  3.98650117e+00, -4.22254974e+00,  1.55373795e+00,\n",
      "       -3.42064547e-02, -9.36481073e-02])), (0.00011902068130670727, array([-5.15428902e-01,  9.99894517e-05,  2.13887008e+01,  6.99202876e-01,\n",
      "       -1.30201923e+00,  4.30924054e+00, -4.31069379e+00,  1.47766042e+00,\n",
      "        1.65939774e-02, -1.01276639e-01])), (0.00014974899103325611, array([-6.66712548e-01,  7.90476483e-05,  2.39034398e+01,  1.29693124e+00,\n",
      "       -1.69853109e+00,  4.41742013e+00, -4.11799286e+00,  1.25294349e+00,\n",
      "        6.30838305e-02, -7.90709464e-02]))]\n",
      "0  sd2: ini 0.00011306400919688697sd2: final 0.00011224540007065279\n",
      "1  sd2: ini 0.00011902068130670727sd2: final 0.00011877629003066735\n",
      "2  sd2: ini 0.00014974899103325611sd2: final 0.00014404138282741926\n",
      "Best params: [(0.00011224540007065279, array([-5.10869341e-01,  1.00508397e-04,  2.21641214e+01,  2.12813154e-01,\n",
      "       -9.23334852e-01,  3.97387932e+00, -4.17356782e+00,  1.54348728e+00,\n",
      "       -5.18888872e-02, -8.43691584e-02])), (0.00011877629003066735, array([-5.10717007e-01,  1.00553553e-04,  2.17006203e+01,  4.95877381e-01,\n",
      "       -1.22792078e+00,  4.28904734e+00, -4.31311787e+00,  1.47845448e+00,\n",
      "        2.17646323e-02, -1.03993527e-01])), (0.00014404138282741926, array([-6.10244092e-01,  8.65430374e-05,  2.19810473e+01,  1.82487584e+00,\n",
      "       -2.00893882e+00,  4.66722582e+00, -4.25820831e+00,  1.27205390e+00,\n",
      "        8.57732055e-02, -9.51481615e-02]))]\n",
      "0  sd2: ini 0.00011224540007065279sd2: final 0.00011103524477953071\n",
      "1  sd2: ini 0.00011877629003066735sd2: final 0.00011876418504607389\n",
      "2  sd2: ini 0.00014404138282741926sd2: final 0.00011987926792244307\n",
      "Best params: [(0.00011103524477953071, array([-4.85779470e-01,  1.04186797e-04,  2.19454506e+01, -1.06126490e-01,\n",
      "       -7.09114193e-01,  3.86118255e+00, -4.18818500e+00,  1.60690967e+00,\n",
      "       -7.45728949e-02, -8.51670053e-02])), (0.00011876418504607389, array([-5.09432960e-01,  1.00692157e-04,  2.17335851e+01,  4.81070639e-01,\n",
      "       -1.22384434e+00,  4.28628308e+00, -4.31073798e+00,  1.47799222e+00,\n",
      "        2.16399459e-02, -1.04118968e-01])), (0.00011987926792244307, array([-5.29362861e-01,  9.74393903e-05,  2.44008555e+01, -6.47516366e-01,\n",
      "       -6.60187944e-01,  3.91934270e+00, -4.15407174e+00,  1.49044123e+00,\n",
      "       -8.24473634e-03, -9.39349013e-02]))]\n",
      "0  sd2: ini 0.00011103524477953071sd2: final 0.0001109504240641604\n",
      "1  sd2: ini 0.00011876418504607389sd2: final 0.00011841962940608683\n",
      "2  sd2: ini 0.00011987926792244307sd2: final 0.00011567811064746321\n",
      "Best params: [(0.0001109504240641604, array([-4.82533667e-01,  1.04450766e-04,  2.20112781e+01, -1.23480890e-01,\n",
      "       -7.06783501e-01,  3.85638820e+00, -4.18161665e+00,  1.60592156e+00,\n",
      "       -7.55159559e-02, -8.52927683e-02])), (0.00011567811064746321, array([-4.83684076e-01,  1.04429245e-04,  2.24325099e+01, -3.50193597e-01,\n",
      "       -7.58119455e-01,  4.02924737e+00, -4.28059585e+00,  1.55652210e+00,\n",
      "       -1.16877203e-02, -1.03206694e-01])), (0.00011841962940608683, array([-5.07233975e-01,  1.01005196e-04,  2.21252930e+01,  2.14125947e-01,\n",
      "       -1.10332812e+00,  4.23630728e+00, -4.30793205e+00,  1.48627350e+00,\n",
      "        2.24552524e-02, -1.05642930e-01]))]\n",
      "0  sd2: ini 0.0001109504240641604sd2: final 0.00010885329952057366\n",
      "1  sd2: ini 0.00011567811064746321sd2: final 0.00011290036996642346\n",
      "2  sd2: ini 0.00011841962940608683sd2: final 0.00011839291576122831\n",
      "Best params: [(0.00010885329952057366, array([-5.19750860e-01,  9.91660268e-05,  2.33094131e+01, -3.42849496e-01,\n",
      "       -5.03237714e-01,  3.60349567e+00, -4.01335586e+00,  1.60204582e+00,\n",
      "       -1.22158020e-01, -6.46001793e-02])), (0.00011290036996642346, array([-5.17011560e-01,  9.96034019e-05,  2.23266101e+01,  2.15376262e-01,\n",
      "       -9.48896305e-01,  4.00077162e+00, -4.17780780e+00,  1.52821310e+00,\n",
      "       -4.21606939e-02, -8.56991472e-02])), (0.00011839291576122831, array([-5.05186855e-01,  1.01298262e-04,  2.21136351e+01,  2.10351453e-01,\n",
      "       -1.10396771e+00,  4.23481432e+00, -4.30523934e+00,  1.48592884e+00,\n",
      "        2.17810487e-02, -1.05659682e-01]))]\n",
      "0  sd2: ini 0.00010885329952057366sd2: final 0.00010828214477099634\n",
      "1  sd2: ini 0.00011290036996642346sd2: final 0.00011284933192654681\n",
      "2  sd2: ini 0.00011839291576122831sd2: final 0.00011420946168127328\n",
      "Best params: [(0.00010828214477099634, array([-5.07273001e-01,  1.00986691e-04,  2.30585042e+01, -4.17072470e-01,\n",
      "       -3.89422601e-01,  3.49772322e+00, -3.98924634e+00,  1.64695646e+00,\n",
      "       -1.52760962e-01, -5.93811135e-02])), (0.00011284933192654681, array([-5.12061402e-01,  1.00171955e-04,  2.23407174e+01,  1.81258077e-01,\n",
      "       -9.37328859e-01,  3.99678349e+00, -4.17812972e+00,  1.53087144e+00,\n",
      "       -4.26040797e-02, -8.64857952e-02])), (0.00011420946168127328, array([-5.52000352e-01,  9.45291195e-05,  2.32545804e+01,  2.45007801e-01,\n",
      "       -9.34021804e-01,  3.89875119e+00, -4.06163889e+00,  1.49273145e+00,\n",
      "       -6.05606954e-02, -7.21797909e-02]))]\n",
      "ieam: 7\n",
      "0  sd2: ini 18.51871221210819sd2: final 0.00015000204193759716\n",
      "1  sd2: ini 18.393417484949175sd2: final 0.002823873724374046\n",
      "2  sd2: ini 17.310440954617953sd2: final 0.000163183236430828\n",
      "Best params: [(0.00015000204193759716, array([-3.15028520e-01,  3.45403577e-05,  2.11126902e+01, -2.83970364e-01,\n",
      "       -8.79405103e-01,  3.81495271e+00, -3.72639482e+00,  1.19899558e+00,\n",
      "        7.11143483e-04, -8.25501151e-02])), (0.000163183236430828, array([-2.21423015e-01,  3.96977326e-05,  1.76893849e+01,  1.05289884e-01,\n",
      "       -9.29042984e-01,  3.90774368e+00, -3.95124241e+00,  1.39125877e+00,\n",
      "       -1.73134100e-02, -1.12111064e-01])), (0.002823873724374046, array([-1.39358785e+00, -2.22126610e-05,  5.52772988e+01,  4.05281288e+00,\n",
      "       -4.85540376e+00,  4.37018992e+00, -9.36233556e-01, -1.40218007e+00,\n",
      "        1.69031418e-01,  3.04931373e-01]))]\n",
      "0  sd2: ini 0.00015000204193759716sd2: final 0.0001470756108607874\n",
      "1  sd2: ini 0.000163183236430828sd2: final 0.00012304359243564387\n",
      "2  sd2: ini 0.002823873724374046sd2: final 0.0003610116688941106\n",
      "Best params: [(0.00012304359243564387, array([-3.84816599e-01,  3.05576590e-05,  2.15412559e+01,  8.47557077e-01,\n",
      "       -9.47889590e-01,  3.23580639e+00, -3.19769028e+00,  1.20897300e+00,\n",
      "       -2.17348722e-01,  7.57486723e-03])), (0.0001470756108607874, array([-2.89159776e-01,  3.59579294e-05,  1.99262797e+01,  3.71399050e-02,\n",
      "       -9.94579358e-01,  3.88249550e+00, -3.79135321e+00,  1.24609595e+00,\n",
      "       -4.79690374e-03, -8.98806515e-02])), (0.0003610116688941106, array([-6.69923320e-01,  1.44039900e-05,  2.90499721e+01,  2.11061055e+00,\n",
      "       -8.68563370e-02,  6.50752109e-01, -1.08679205e+00,  1.15763044e+00,\n",
      "       -9.65858724e-01,  3.30824210e-01]))]\n",
      "0  sd2: ini 0.00012304359243564387sd2: final 0.00012304264170549437\n",
      "1  sd2: ini 0.0001470756108607874sd2: final 0.00014023612501259862\n",
      "2  sd2: ini 0.0003610116688941106sd2: final 0.0003473995643507192\n",
      "Best params: [(0.00012304264170549437, array([-3.84732375e-01,  3.05650559e-05,  2.15336945e+01,  8.46605364e-01,\n",
      "       -9.47138699e-01,  3.23551128e+00, -3.19764353e+00,  1.20899794e+00,\n",
      "       -2.17396238e-01,  7.58262825e-03])), (0.00014023612501259862, array([-3.10537080e-01,  3.47363664e-05,  1.84023897e+01,  1.27964824e+00,\n",
      "       -1.51327268e+00,  4.04528874e+00, -3.75391845e+00,  1.20470238e+00,\n",
      "       -2.82883610e-02, -7.24108522e-02])), (0.0003473995643507192, array([-6.99831071e-01,  1.29408330e-05,  2.96847759e+01,  1.72627089e+00,\n",
      "        1.15706650e-01,  6.09261370e-01, -1.12560939e+00,  1.15819029e+00,\n",
      "       -9.52583363e-01,  3.32995131e-01]))]\n"
     ]
    },
    {
     "name": "stdout",
     "output_type": "stream",
     "text": [
      "0  sd2: ini 0.00012304264170549437sd2: final 0.0001230417519210576\n",
      "1  sd2: ini 0.00014023612501259862sd2: final 0.00013577853403711789\n",
      "2  sd2: ini 0.0003473995643507192sd2: final 0.00022663074344298113\n",
      "Best params: [(0.0001230417519210576, array([-3.84727553e-01,  3.05564832e-05,  2.15444448e+01,  8.47279603e-01,\n",
      "       -9.47764601e-01,  3.23564425e+00, -3.19748965e+00,  1.20899262e+00,\n",
      "       -2.17394773e-01,  7.56835291e-03])), (0.00013577853403711789, array([-3.24123523e-01,  3.39746420e-05,  2.04453413e+01,  4.63257826e-01,\n",
      "       -1.12996614e+00,  3.78624661e+00, -3.62070045e+00,  1.19333869e+00,\n",
      "       -4.91853885e-02, -6.24370121e-02])), (0.00022663074344298113, array([-4.25859892e-01,  2.81885525e-05,  2.38025173e+01, -2.99619411e-01,\n",
      "        1.05001191e+00,  9.03619099e-01, -2.11124264e+00,  1.69757175e+00,\n",
      "       -8.15677639e-01,  1.80807402e-01]))]\n",
      "0  sd2: ini 0.0001230417519210576sd2: final 0.00012300680036869625\n",
      "1  sd2: ini 0.00013577853403711789sd2: final 0.00013312289854717588\n",
      "2  sd2: ini 0.00022663074344298113sd2: final 0.00021148249079894422\n",
      "Best params: [(0.00012300680036869625, array([-3.84218671e-01,  3.05947910e-05,  2.16822039e+01,  7.57809390e-01,\n",
      "       -9.06671969e-01,  3.21561982e+00, -3.19332577e+00,  1.21130312e+00,\n",
      "       -2.17823705e-01,  7.31808969e-03])), (0.00013312289854717588, array([-3.65929760e-01,  3.16571886e-05,  2.08649176e+01,  9.84625865e-01,\n",
      "       -1.38569236e+00,  3.83006516e+00, -3.51399455e+00,  1.10531844e+00,\n",
      "       -5.79569492e-02, -4.25644497e-02])), (0.00021148249079894422, array([-4.13994430e-01,  2.87173729e-05,  2.67512937e+01, -1.76544504e+00,\n",
      "        1.59346837e+00,  6.75853016e-01, -2.03596186e+00,  1.67819271e+00,\n",
      "       -7.91677720e-01,  1.69354488e-01]))]\n",
      "0  sd2: ini 0.00012300680036869625sd2: final 0.00012299395534860226\n",
      "1  sd2: ini 0.00013312289854717588sd2: final 0.00013182949473961833\n",
      "2  sd2: ini 0.00021148249079894422sd2: final 0.0001480820753314553\n",
      "Best params: [(0.00012299395534860226, array([-3.83410981e-01,  3.06249483e-05,  2.16531122e+01,  7.79991225e-01,\n",
      "       -9.17604062e-01,  3.21956084e+00, -3.19318484e+00,  1.21129273e+00,\n",
      "       -2.18104661e-01,  7.23365437e-03])), (0.00013182949473961833, array([-3.53592313e-01,  3.22911351e-05,  2.00219348e+01,  1.26636242e+00,\n",
      "       -1.47637576e+00,  3.86290525e+00, -3.53945513e+00,  1.13344672e+00,\n",
      "       -6.85233255e-02, -4.36403473e-02])), (0.0001480820753314553, array([-4.95839501e-01,  2.42827918e-05,  2.51683027e+01,  9.03281621e-01,\n",
      "       -5.70374396e-01,  2.37225462e+00, -2.48161603e+00,  1.14687362e+00,\n",
      "       -4.41824886e-01,  1.13499815e-01]))]\n",
      "0  sd2: ini 0.00012299395534860226sd2: final 0.00012299328128874225\n",
      "1  sd2: ini 0.00013182949473961833sd2: final 0.0001316738959009234\n",
      "2  sd2: ini 0.0001480820753314553sd2: final 0.00013597676825352568\n",
      "Best params: [(0.00012299328128874225, array([-3.83280008e-01,  3.06381446e-05,  2.16489892e+01,  7.77221689e-01,\n",
      "       -9.16281467e-01,  3.21882912e+00, -3.19294224e+00,  1.21134984e+00,\n",
      "       -2.18165356e-01,  7.22560665e-03])), (0.0001316738959009234, array([-3.56743572e-01,  3.21521365e-05,  2.01520309e+01,  1.19140812e+00,\n",
      "       -1.44039102e+00,  3.85004342e+00, -3.53989820e+00,  1.13325079e+00,\n",
      "       -6.73843898e-02, -4.33455748e-02])), (0.00013597676825352568, array([-4.66918886e-01,  2.59325442e-05,  2.39256367e+01,  1.10756048e+00,\n",
      "       -1.11290589e+00,  3.13746869e+00, -2.92016397e+00,  1.04050541e+00,\n",
      "       -2.40758693e-01,  4.72863835e-02]))]\n",
      "0  sd2: ini 0.00012299328128874225sd2: final 0.0001229914312381669\n",
      "1  sd2: ini 0.0001316738959009234sd2: final 0.00012366273763566893\n",
      "2  sd2: ini 0.00013597676825352568sd2: final 0.0001301394683208257\n",
      "Best params: [(0.0001229914312381669, array([-3.82853992e-01,  3.06567664e-05,  2.16720805e+01,  7.65223747e-01,\n",
      "       -9.11277743e-01,  3.21601252e+00, -3.19207082e+00,  1.21184163e+00,\n",
      "       -2.18291803e-01,  7.10826227e-03])), (0.00012366273763566893, array([-3.67106634e-01,  3.15207658e-05,  2.21512973e+01,  2.48590450e-01,\n",
      "       -6.57348264e-01,  3.10107896e+00, -3.19502491e+00,  1.25251750e+00,\n",
      "       -2.23475728e-01,  1.49609491e-03])), (0.0001301394683208257, array([-4.43894286e-01,  2.72107147e-05,  2.37430301e+01,  7.17578109e-01,\n",
      "       -6.46114076e-01,  2.70240427e+00, -2.79090384e+00,  1.18920995e+00,\n",
      "       -3.48531619e-01,  6.66899281e-02]))]\n"
     ]
    }
   ],
   "source": [
    "for ieam in range(5, len(stats_opts[it]['hyperparams'])):\n",
    "    print('ieam:', ieam)\n",
    "    for i in range(8):\n",
    "        best_pars = optimize_EAM(target, stats, ieam, multi_pars)\n",
    "        multi_pars = [p[1] for p in best_pars]"
   ]
  },
  {
   "cell_type": "code",
   "execution_count": 88,
   "metadata": {},
   "outputs": [
    {
     "data": {
      "text/plain": [
       "[array([-2.46692536e+00, -7.07645876e-04, -1.92990197e+02,  5.43710332e+01,\n",
       "        -1.17019464e+01,  1.26314518e+00,  3.72747439e+00, -4.17045991e+00,\n",
       "         2.46942853e+00, -4.39168938e-01]),\n",
       " array([-1.39247738e+00,  1.45832318e-03, -1.22829256e+02,  3.89427039e+01,\n",
       "        -7.01985954e+00, -4.45624270e-01,  3.84825703e+00, -3.54791628e+00,\n",
       "         1.89469535e+00, -3.48857885e-01])]"
      ]
     },
     "execution_count": 88,
     "metadata": {},
     "output_type": "execute_result"
    }
   ],
   "source": [
    "multi_pars"
   ]
  },
  {
   "cell_type": "code",
   "execution_count": 33,
   "metadata": {
    "collapsed": true
   },
   "outputs": [],
   "source": [
    "optimal_parameters = [(0.00010828214477099634, [-5.07273001e-01,  1.00986691e-04,  2.30585042e+01, -4.17072470e-01,\n",
    "       -3.89422601e-01,  3.49772322e+00, -3.98924634e+00,  1.64695646e+00,\n",
    "       -1.52760962e-01, -5.93811135e-02])]"
   ]
  },
  {
   "cell_type": "code",
   "execution_count": 35,
   "metadata": {},
   "outputs": [
    {
     "name": "stdout",
     "output_type": "stream",
     "text": [
      "5\n",
      "Targ: [-1139.2, -906.9778906249999, -1127.13044453125, -1136.3561554687499, -1136.7059554687498]\n",
      "Model: [-1138.7488477377608, -906.9738682312168, -1127.553437043172, -1136.518797663825, -1136.520270221656]\n",
      "[0.0390625  0.0462963  0.03937008 0.03875969 0.03875969]\n",
      "0 0.00010828214477099634\n"
     ]
    },
    {
     "data": {
      "text/plain": [
       "<matplotlib.legend.Legend at 0x16a302668>"
      ]
     },
     "execution_count": 35,
     "metadata": {},
     "output_type": "execute_result"
    },
    {
     "data": {
      "image/png": "[encoded data removed]",
      "text/plain": [
       "<Figure size 1440x720 with 1 Axes>"
      ]
     },
     "metadata": {},
     "output_type": "display_data"
    }
   ],
   "source": [
    "plt.figure(figsize=(20,10))\n",
    "\n",
    "nat = np.array([len(x) for x in targ_ready['relax']['xyz']])[:-2]\n",
    "print(len(nat))\n",
    "\n",
    "for i, params_uopt in enumerate(optimal_parameters):\n",
    "\n",
    "    #print(params_uopt[1])\n",
    "\n",
    "    opti_out, targ_out = udif_print(params_uopt[1], stats, target, utot_EAM, [6])\n",
    "    plt.title('Selected configurations at 0K')\n",
    "    if i == 0:\n",
    "        print('Targ:', targ_out[-2][:-2])\n",
    "        print('Model:', opti_out[-2][:-2])\n",
    "\n",
    "        #nat = np.array([len(x) for x in targ_dict['relax']['xyz']])\n",
    "        print(len(np.array(targ_out[-2][:-2]))/nat)\n",
    "        plt.plot(np.array(targ_out[-2][:-2])/nat, 'o', label='target'+str(i), markersize=10)\n",
    "        \n",
    "    if params_uopt[0] > 0.6e-3:\n",
    "        continue\n",
    "    #if i != 10 and i != 12:\n",
    "    #    continue\n",
    "    print(i, params_uopt[0])\n",
    "\n",
    "        \n",
    "    #print('Opti:', [o for o in opti_out[-1][:-1]])\n",
    "    plt.plot(np.array([o for o in opti_out[-2][:-2]])/nat, 'x--', label='optimized '+str(i))\n",
    "#    else:\n",
    "#        plt.plot([o for o in opti_out[-1][:-1]], 'x--', label='optimized '+str(i))\n",
    "#        plt.plot(targ_out[-1][:-1], 'o', markersize=10)\n",
    "\n",
    "plt.xticks([0, 1, 2, 3, 4, 5, 6], ['BCC','FCC', 'vacancy','110','111','liq','inf'])\n",
    "plt.ylabel('Energy [eV]')\n",
    "#plt.ylim(-1145, -1136)\n",
    "#plt.ylim(-8.905, -8.7533)\n",
    "#plt.ylim(-8.9, -8.35)\n",
    "#plt.xlim(0, 4)\n",
    "\n",
    "plt.legend()"
   ]
  },
  {
   "cell_type": "code",
   "execution_count": 36,
   "metadata": {},
   "outputs": [
    {
     "name": "stdout",
     "output_type": "stream",
     "text": [
      "13\n",
      "Targ: [-271.8047221070888, -837.1711089986524, -1079.5267350307165, -1139.2, -1100.8887858645915, -1014.6561261471663, -909.2807161131147, -800.6633444635341, -697.0611202328876, -602.3043063713144, -517.7429994565125, -443.4032853774631, -378.657941519064]\n",
      "Model: [-268.01653182308155, -825.6909491763752, -1070.8429256792974, -1138.7488477377608, -1091.6473294287673, -1005.4501862742802, -902.2479595240828, -791.9733141355346, -687.6603625120888, -600.222799832683, -521.4371681836519, -439.42695875639924, -362.9073642311022]\n",
      "[0.1015625 0.1015625 0.1015625 0.1015625 0.1015625 0.1015625 0.1015625\n",
      " 0.1015625 0.1015625 0.1015625 0.1015625 0.1015625 0.1015625]\n",
      "0 0.00010828214477099634\n"
     ]
    },
    {
     "data": {
      "text/plain": [
       "<matplotlib.legend.Legend at 0x12549b4e0>"
      ]
     },
     "execution_count": 36,
     "metadata": {},
     "output_type": "execute_result"
    },
    {
     "data": {
      "image/png": "[encoded data removed]",
      "text/plain": [
       "<Figure size 1440x720 with 1 Axes>"
      ]
     },
     "metadata": {},
     "output_type": "display_data"
    }
   ],
   "source": [
    "plt.figure(figsize=(20,10))\n",
    "\n",
    "nat = np.array([len(x) for x in targ_ready['eos']['xyz']])[1:]\n",
    "print(len(nat))\n",
    "\n",
    "for i, params_uopt in enumerate(optimal_parameters):\n",
    "\n",
    "    #print(params_uopt[1])\n",
    "\n",
    "    opti_out, targ_out = udif_print(params_uopt[1], stats, target, utot_EAM, [6])\n",
    "    plt.title('Selected configurations at 0K')\n",
    "    if i == 0:\n",
    "        print('Targ:', targ_out[-1][1:])\n",
    "        print('Model:', opti_out[-1][1:])\n",
    "\n",
    "        #nat = np.array([len(x) for x in targ_dict['relax']['xyz']])\n",
    "        print(len(np.array(targ_out[-1][1:]))/nat)\n",
    "        plt.plot(reos, np.array(targ_out[-1][1:])/nat, 'o', label='target'+str(i), markersize=10)\n",
    "        \n",
    "    if params_uopt[0] > 0.6e-3:\n",
    "        continue\n",
    "    #if i != 10 and i != 12:\n",
    "    #    continue\n",
    "    print(i, params_uopt[0])\n",
    "\n",
    "        \n",
    "    #print('Opti:', [o for o in opti_out[-1][:-1]])\n",
    "    plt.plot(reos, np.array([o for o in opti_out[-1][1:]])/nat, 'x--', label='optimized '+str(i))\n",
    "#    else:\n",
    "#        plt.plot([o for o in opti_out[-1][:-1]], 'x--', label='optimized '+str(i))\n",
    "#        plt.plot(targ_out[-1][:-1], 'o', markersize=10)\n",
    "\n",
    "#plt.xticks([0, 1, 2, 3, 4, 5, 6], ['BCC','FCC', 'vacancy','110','111','liq','inf'])\n",
    "plt.ylabel('Energy [eV]')\n",
    "#plt.ylim(-1145, -1136)\n",
    "#plt.ylim(-8.905, -8.7533)\n",
    "#plt.ylim(-8.9, -8.35)\n",
    "#plt.xlim(0, 4)\n",
    "\n",
    "plt.legend()"
   ]
  },
  {
   "cell_type": "code",
   "execution_count": 65,
   "metadata": {},
   "outputs": [
    {
     "name": "stdout",
     "output_type": "stream",
     "text": [
      "1138\n",
      "[8.890625 8.890625 8.890625 ... 8.890625 8.890625 8.890625]\n",
      "0 0.00010828214477099634\n"
     ]
    },
    {
     "data": {
      "text/plain": [
       "<matplotlib.legend.Legend at 0x18bf9ef60>"
      ]
     },
     "execution_count": 65,
     "metadata": {},
     "output_type": "execute_result"
    },
    {
     "data": {
      "image/png": "[encoded data removed]",
      "text/plain": [
       "<Figure size 1440x720 with 1 Axes>"
      ]
     },
     "metadata": {},
     "output_type": "display_data"
    }
   ],
   "source": [
    "plt.figure(figsize=(20,10))\n",
    "\n",
    "nat = np.array([len(x) for x in targ_ready['md']['xyz']])[:]\n",
    "print(len(nat))\n",
    "\n",
    "for i, params_uopt in enumerate(optimal_parameters):\n",
    "\n",
    "    #print(params_uopt[1])\n",
    "\n",
    "    opti_out, targ_out = udif_print(params_uopt[1], stats, target, utot_EAM,[6])\n",
    "    plt.title('Selected configurations at 0K')\n",
    "    if i == 0:\n",
    "        #print('Targ:', targ_out[0][:])\n",
    "        #print('Model:', opti_out[0][:])\n",
    "\n",
    "        #nat = np.array([len(x) for x in targ_dict['relax']['xyz']])\n",
    "        print(len(np.array(targ_out[0][:]))/nat)\n",
    "        #plt.plot(np.array(targ_out[0][:])/nat, 'o', label='target'+str(i), markersize=10)\n",
    "        plt.plot(np.array(targ_out[0][:]), 'o', label='target'+str(i), markersize=2)\n",
    "\n",
    "        \n",
    "    if params_uopt[0] > 0.6e-3:\n",
    "        continue\n",
    "    #if i != 10 and i != 12:\n",
    "    #    continue\n",
    "    print(i, params_uopt[0])\n",
    "\n",
    "    #print('Opti:', [o for o in opti_out[-1][:-1]])\n",
    "    #plt.plot(np.array([o for o in opti_out[0][:]])/nat, 'x--', label='optimized '+str(i))\n",
    "    plt.plot(np.array([o for o in opti_out[0][:]]), '--', label='optimized '+str(i), lw=1.0)\n",
    "\n",
    "#    else:\n",
    "#        plt.plot([o for o in opti_out[-1][:-1]], 'x--', label='optimized '+str(i))\n",
    "#        plt.plot(targ_out[-1][:-1], 'o', markersize=10)\n",
    "\n",
    "#plt.xticks([0, 1, 2, 3, 4, 5, 6], ['BCC','FCC', 'vacancy','110','111','liq','inf'])\n",
    "plt.ylabel('Energy [eV]')\n",
    "#plt.ylim(-1145, -1136)\n",
    "#plt.ylim(-8.905, -8.533)\n",
    "#plt.ylim(-8.9, -8.35)\n",
    "\n",
    "plt.ylim(-1180,-700)\n",
    "#plt.ylim(-1136,-1132)\n",
    "plt.ylim(-900,-800)\n",
    "\n",
    "plt.legend()"
   ]
  },
  {
   "cell_type": "code",
   "execution_count": 42,
   "metadata": {},
   "outputs": [
    {
     "name": "stdout",
     "output_type": "stream",
     "text": [
      "0 0.00010828214477099634 \n",
      " [-0.507273001, 0.000100986691, 23.0585042, -0.41707247, -0.389422601, 3.49772322, -3.98924634, 1.64695646, -0.152760962, -0.0593811135]\n"
     ]
    }
   ],
   "source": [
    "for i, params_uopt in enumerate(optimal_parameters):\n",
    "    if params_uopt[0] > 1.1e-3:\n",
    "        continue\n",
    "    print(i, params_uopt[0], '\\n', params_uopt[1])"
   ]
  },
  {
   "cell_type": "code",
   "execution_count": 43,
   "metadata": {},
   "outputs": [
    {
     "ename": "NameError",
     "evalue": "name 'stats_opt' is not defined",
     "output_type": "error",
     "traceback": [
      "\u001b[0;31m---------------------------------------------------------------------------\u001b[0m",
      "\u001b[0;31mNameError\u001b[0m                                 Traceback (most recent call last)",
      "\u001b[0;32m<ipython-input-43-362f54d30ca7>\u001b[0m in \u001b[0;36m<module>\u001b[0;34m()\u001b[0m\n\u001b[0;32m----> 1\u001b[0;31m \u001b[0mstats_opt\u001b[0m\u001b[0;34m[\u001b[0m\u001b[0;34m'hyperparams'\u001b[0m\u001b[0;34m]\u001b[0m\u001b[0;34m\u001b[0m\u001b[0m\n\u001b[0m",
      "\u001b[0;31mNameError\u001b[0m: name 'stats_opt' is not defined"
     ]
    }
   ],
   "source": [
    "stats_opt['hyperparams']"
   ]
  },
  {
   "cell_type": "code",
   "execution_count": 44,
   "metadata": {},
   "outputs": [
    {
     "data": {
      "text/plain": [
       "[2.65, 3.0, 3.5, 4.0, 4.356, 4.75, 5.25, 5.75]"
      ]
     },
     "execution_count": 44,
     "metadata": {},
     "output_type": "execute_result"
    }
   ],
   "source": [
    "stats_opts[it]['hyperparams']"
   ]
  },
  {
   "cell_type": "code",
   "execution_count": 45,
   "metadata": {
    "collapsed": true
   },
   "outputs": [],
   "source": [
    "pars_out = {}\n",
    "pars_out['pair_nodes'] = stats_opts[it]['hyperparams']\n",
    "pars_out['mb_node'] = 6\n",
    "pars_out['params'] = [optimal_parameters[0]]"
   ]
  },
  {
   "cell_type": "code",
   "execution_count": 46,
   "metadata": {
    "collapsed": true
   },
   "outputs": [],
   "source": [
    "optimal_list = []\n",
    "\n",
    "#with open(os.path.join(working, 'pars_out.pickle'), 'rb') as fi:\n",
    "#    optimal_list = pickle.load(fi)\n",
    "\n",
    "#if type(optimal_list) != list:\n",
    "#    optimal_list = [optimal_list]\n",
    "\n",
    "optimal_list.append(pars_out)\n",
    "\n",
    "with open(os.path.join(working, 'pars_out.pickle'), 'wb') as fo:\n",
    "    pickle.dump(optimal_list, fo)"
   ]
  },
  {
   "cell_type": "code",
   "execution_count": 47,
   "metadata": {
    "collapsed": true
   },
   "outputs": [],
   "source": [
    "with open(os.path.join(working, 'pars_out.pickle'), 'rb') as fi:\n",
    "    optimal_list = pickle.load(fi)"
   ]
  },
  {
   "cell_type": "code",
   "execution_count": 48,
   "metadata": {},
   "outputs": [
    {
     "data": {
      "text/plain": [
       "[{'pair_nodes': [2.65, 3.0, 3.5, 4.0, 4.356, 4.75, 5.25, 5.75],\n",
       "  'mb_node': 6,\n",
       "  'params': [(0.00010828214477099634,\n",
       "    [-0.507273001,\n",
       "     0.000100986691,\n",
       "     23.0585042,\n",
       "     -0.41707247,\n",
       "     -0.389422601,\n",
       "     3.49772322,\n",
       "     -3.98924634,\n",
       "     1.64695646,\n",
       "     -0.152760962,\n",
       "     -0.0593811135])]}]"
      ]
     },
     "execution_count": 48,
     "metadata": {},
     "output_type": "execute_result"
    }
   ],
   "source": [
    "optimal_list"
   ]
  },
  {
   "cell_type": "code",
   "execution_count": 49,
   "metadata": {
    "collapsed": true
   },
   "outputs": [],
   "source": [
    "# Total pair potential\n",
    "pos = targ_ready['relax']['xyz'][0]\n",
    "bx = targ_ready['relax']['box'][0]\n",
    "rr, rx = pair_dist_cutoff(pos, bx, 5.5)"
   ]
  },
  {
   "cell_type": "code",
   "execution_count": 50,
   "metadata": {
    "collapsed": true
   },
   "outputs": [],
   "source": [
    "# embedding function\n",
    "F = lambda d, a: a[0]*d**0.5 + a[1]*d + a[2]*d**2\n",
    "\n",
    "V = lambda r, aa, cc: sum([a*(rc - r)**3 for a, rc in zip(aa, cc) if r < rc])\n",
    "\n",
    "# Cohesive potential (cubic splines - same form as V)\n",
    "phi = lambda r, aa, cc: sum([a*(rc - r)**3 for a, rc in zip(aa, cc) if r < rc])\n",
    "\n",
    "rho = lambda r, aa, kk: sum([a*(rk - r)**3 for a, rk in zip(aa, kk) if r < rk and r > 0.01])"
   ]
  },
  {
   "cell_type": "code",
   "execution_count": 51,
   "metadata": {},
   "outputs": [
    {
     "data": {
      "text/plain": [
       "[-0.507273001,\n",
       " 0.000100986691,\n",
       " 23.0585042,\n",
       " -0.41707247,\n",
       " -0.389422601,\n",
       " 3.49772322,\n",
       " -3.98924634,\n",
       " 1.64695646,\n",
       " -0.152760962,\n",
       " -0.0593811135]"
      ]
     },
     "execution_count": 51,
     "metadata": {},
     "output_type": "execute_result"
    }
   ],
   "source": [
    "optimal_list[-1]['params'][0][1]"
   ]
  },
  {
   "cell_type": "code",
   "execution_count": 52,
   "metadata": {
    "collapsed": true
   },
   "outputs": [],
   "source": [
    "#optimal_parameters.append(tuple([output[1:], params_uopt]))\n",
    "pair_y = optimal_list[-1]['params'][0][1][2:]\n",
    "par = optimal_list[-1]['params'][0][1][:2]\n",
    "many_y = [par[0], 0.0, par[1]]\n",
    "V_x_r = optimal_list[-1]['pair_nodes'] #stats_opt['hyperparams']\n",
    "rho_x_r = [V_x_r[optimal_list[-1]['mb_node']]] #stats_opt['hyperparams'][4:5]\n",
    "rho_x_a = [1.0]"
   ]
  },
  {
   "cell_type": "code",
   "execution_count": 53,
   "metadata": {},
   "outputs": [
    {
     "data": {
      "text/plain": [
       "([23.0585042,\n",
       "  -0.41707247,\n",
       "  -0.389422601,\n",
       "  3.49772322,\n",
       "  -3.98924634,\n",
       "  1.64695646,\n",
       "  -0.152760962,\n",
       "  -0.0593811135],\n",
       " [-0.507273001, 0.0, 0.000100986691],\n",
       " [2.65, 3.0, 3.5, 4.0, 4.356, 4.75, 5.25, 5.75],\n",
       " [5.25])"
      ]
     },
     "execution_count": 53,
     "metadata": {},
     "output_type": "execute_result"
    }
   ],
   "source": [
    "pair_y, many_y, V_x_r, rho_x_r"
   ]
  },
  {
   "cell_type": "code",
   "execution_count": 54,
   "metadata": {
    "collapsed": true
   },
   "outputs": [],
   "source": [
    "ene = []\n",
    "for a in np.linspace(0.5, 2.0, 101):\n",
    "    z = a*rr\n",
    "    u_pair = 0.5*np.sum([V(x, pair_y, V_x_r) for x in z.flatten() if x > 0.1])\n",
    "\n",
    "    u_many = 0.0\n",
    "    for i in range(z.shape[0]):\n",
    "        d = np.sum([phi(x, rho_x_a, rho_x_r) for x in z[i] if x > 0.1])\n",
    "        u_many += F(d, many_y)\n",
    "\n",
    "    ene.append([a, u_pair, u_many, u_pair+u_many])\n",
    "\n",
    "ene = np.array(ene)"
   ]
  },
  {
   "cell_type": "code",
   "execution_count": 55,
   "metadata": {},
   "outputs": [
    {
     "data": {
      "text/plain": [
       "Text(0,0.5,'U')"
      ]
     },
     "execution_count": 55,
     "metadata": {},
     "output_type": "execute_result"
    },
    {
     "data": {
      "image/png": "[encoded data removed]",
      "text/plain": [
       "<Figure size 432x288 with 1 Axes>"
      ]
     },
     "metadata": {},
     "output_type": "display_data"
    }
   ],
   "source": [
    "#plt.plot(ene[:,0], ene[:,1]/54, label='pair')\n",
    "#plt.plot(ene[:,0], ene[:,2]/54, label='manybody')\n",
    "plt.title('Equation of state (T=0K)')\n",
    "plt.plot(ene[:,0]*2.74, [universal_eos(x, 'W') for x in ene[:,0]], label='universal EOS')\n",
    "plt.plot(ene[:,0]*2.74, ene[:,3]/128, label='u-total')\n",
    "plt.hlines(0.0,0.5,6.0,lw=1)\n",
    "plt.legend()\n",
    "plt.xlim(2.0, 5.75)\n",
    "plt.ylim(-10,10)\n",
    "\n",
    "plt.xlabel('x')\n",
    "plt.ylabel(r'U')"
   ]
  },
  {
   "cell_type": "code",
   "execution_count": 56,
   "metadata": {
    "collapsed": true
   },
   "outputs": [],
   "source": [
    "pair_a = optimal_list[-1]['params'][0][1][2:]#pars_in1[2:]\n",
    "pair_r = optimal_list[-1]['pair_nodes']\n",
    "\n",
    "rho_a = [1.0]\n",
    "rho_r = [pair_r[optimal_list[-1]['mb_node']]]\n",
    "\n",
    "par = optimal_list[-1]['params'][0][1][:2]\n",
    "many_a = [par[0], 0.0, par[1]]"
   ]
  },
  {
   "cell_type": "code",
   "execution_count": 58,
   "metadata": {},
   "outputs": [
    {
     "name": "stdout",
     "output_type": "stream",
     "text": [
      "rhomax: 632.8125\n"
     ]
    }
   ],
   "source": [
    "# Ranges of densities and separations\n",
    "\n",
    "nr = 5000\n",
    "rcut = pair_r[-1]\n",
    "dr = rcut/nr\n",
    "\n",
    "rhomax = 12.0*phi(1.5, rho_a, rho_r)\n",
    "print('rhomax:', rhomax)\n",
    "rhomax = 1000.0\n",
    "nrho = 5000\n",
    "drho = rhomax/nrho\n",
    "\n",
    "ri = 1.0\n",
    "ro = 2.0\n",
    "\n",
    "# W properties\n",
    "na = 74\n",
    "ma = 183.84\n",
    "lc = 3.1653\n",
    "alat = 'bcc'\n",
    "\n",
    "# System composition\n",
    "n_el = 1\n",
    "el_name = ['W']"
   ]
  },
  {
   "cell_type": "code",
   "execution_count": 59,
   "metadata": {
    "collapsed": true
   },
   "outputs": [],
   "source": [
    "def u_trans(r, unucl, ueq, ri=1.0, ro=2.0):\n",
    "    \"\"\"Transition between the core and equillibrium potentials\"\"\"\n",
    "    if r < ri:\n",
    "        return unucl\n",
    "    elif r < ro:\n",
    "        x = (ro + ri - 2*r)/(ro - ri)\n",
    "        eta = 3/16*x**5 - 5/8*x**3 + 15/16*x + 1/2\n",
    "        return ueq + eta*(unucl - ueq)\n",
    "    else:\n",
    "        return ueq"
   ]
  },
  {
   "cell_type": "code",
   "execution_count": 60,
   "metadata": {
    "collapsed": true
   },
   "outputs": [],
   "source": [
    "\n",
    "# prepare lists of values\n",
    "dens = np.linspace(0., rhomax-drho, nrho, endpoint=True)\n",
    "r = np.linspace(0., rcut-dr, nr, endpoint=True)\n",
    "r2 = np.linspace(0., rcut, 201)\n",
    "\n",
    "fembd = [F(d, many_a) for d in dens] # W\n",
    "edens = np.array([phi(x, rho_a, rho_r) for x in r])\n",
    "\n",
    "# 1. Cubic spline for r > r_o\n",
    "f_outer = [V(x, pair_a, pair_r) for i, x in enumerate(r)]\n",
    "# 2. Repulsive core for r < r_i (precalculate up to r_o)\n",
    "f_inner = [0.0] + [u_core(x) for x in r[1:]]\n",
    "# 3. Transition region for r_i < r < r_o\n",
    "fpair = [x*u_trans(x, f_inner[i], f_outer[i]) for i, x in enumerate(r)]\n",
    "#fpair = f_outer"
   ]
  },
  {
   "cell_type": "code",
   "execution_count": 61,
   "metadata": {
    "collapsed": true
   },
   "outputs": [],
   "source": [
    "# LAMMPS format\n",
    "pot_path = '../sim/potentials'\n",
    "\n",
    "with open(os.path.join(pot_path, 'W_lv_2.eam.fs'), 'w') as fo:\n",
    "    \n",
    "    # Comment section\n",
    "    fo.write('Comment 1\\n')\n",
    "    fo.write('Comment 2\\n')\n",
    "    fo.write('Comment 3\\n')\n",
    "    \n",
    "    # Number of elements\n",
    "    fo.write(f\"{n_el:5d} \")\n",
    "    for i in range(n_el):\n",
    "        fo.write(f\"{el_name[i]:2}\")\n",
    "    fo.write(\"\\n\")\n",
    "    \n",
    "    # number of grid points, step size, and cutoff\n",
    "    fo.write(f\"{nrho:5d}{drho:24.16e}{nr:5d}{dr:24.16e}{rcut:24.16e}\\n\")\n",
    "    \n",
    "    # atomic number, mass, lattice size, lattice type\n",
    "    fo.write(f\"{na:5d} {ma:14.4f} {lc:14.4f} {alat:10}\\n\")\n",
    "    \n",
    "    # Embeding function\n",
    "    for i in range(nrho//4):\n",
    "        fo.write(\"{0:20.12e}{1:20.12e}{2:20.12e}{3:20.12e}\\n\".format(*fembd[i*4:i*4+4]))\n",
    "    \n",
    "    # Electronic density\n",
    "    for i in range(nr//4):\n",
    "        fo.write(\"{0:20.12e}{1:20.12e}{2:20.12e}{3:20.12e}\\n\".format(*edens[i*4:i*4+4]))\n",
    "        \n",
    "    # Pair potential\n",
    "    for i in range(nr//4):\n",
    "        fo.write(\"{0:20.12e}{1:20.12e}{2:20.12e}{3:20.12e}\\n\".format(*fpair[i*4:i*4+4]))"
   ]
  },
  {
   "cell_type": "code",
   "execution_count": null,
   "metadata": {
    "collapsed": true
   },
   "outputs": [],
   "source": []
  }
 ],
 "metadata": {
  "kernelspec": {
   "display_name": "Python 3",
   "language": "python",
   "name": "python3"
  },
  "language_info": {
   "codemirror_mode": {
    "name": "ipython",
    "version": 3
   },
   "file_extension": ".py",
   "mimetype": "text/x-python",
   "name": "python",
   "nbconvert_exporter": "python",
   "pygments_lexer": "ipython3",
   "version": "3.6.1"
  }
 },
 "nbformat": 4,
 "nbformat_minor": 2
}
