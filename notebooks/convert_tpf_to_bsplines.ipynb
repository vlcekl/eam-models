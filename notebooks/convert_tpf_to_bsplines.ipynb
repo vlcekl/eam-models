{
 "cells": [
  {
   "cell_type": "markdown",
   "metadata": {},
   "source": [
    "1. Make sure that b-splines are correct\n",
    "    x. Check the code for obvious errors\n",
    "    2. Write energy function that works with b-splines\n",
    "    3. Check if the TPF and B-spline energies are the same\n",
    "2. Write LinReg optimization function\n",
    "3. Fit energy to an existing potential (e.g., Marinica)\n",
    "4. Write Backfitting optimization function\n",
    "5. Optimize stat. distance"
   ]
  },
  {
   "cell_type": "code",
   "execution_count": 7,
   "metadata": {},
   "outputs": [],
   "source": [
    "%matplotlib inline\n",
    "import os\n",
    "import sys\n",
    "import re\n",
    "import numpy as np\n",
    "import pickle\n",
    "from scipy.optimize import fmin\n",
    "import multiprocessing as mp\n",
    "import functools\n",
    "import matplotlib.pyplot as plt"
   ]
  },
  {
   "cell_type": "code",
   "execution_count": 8,
   "metadata": {},
   "outputs": [
    {
     "name": "stdout",
     "output_type": "stream",
     "text": [
      "The autoreload extension is already loaded. To reload it, use:\n",
      "  %reload_ext autoreload\n"
     ]
    }
   ],
   "source": [
    "%load_ext autoreload\n",
    "%autoreload 2"
   ]
  },
  {
   "cell_type": "code",
   "execution_count": 3,
   "metadata": {},
   "outputs": [],
   "source": [
    "# statmech library setup\n",
    "sys.path.append('../../statmechlib')\n",
    "from statmechlib.preprocessing import select_nodes, to_param_dict, to_param_list, tpf_to_bsplines\n",
    "from statmechlib.preprocessing import Trajectory, scale_configuration, pair_dist_cutoff, find_index\n",
    "from statmechlib.read_write import params_to_pickle"
   ]
  },
  {
   "cell_type": "code",
   "execution_count": 4,
   "metadata": {},
   "outputs": [],
   "source": [
    "working = '../data/working'"
   ]
  },
  {
   "cell_type": "code",
   "execution_count": 5,
   "metadata": {},
   "outputs": [],
   "source": [
    "stats_file = 'stats_bs_samples' # 'stats_samples'"
   ]
  },
  {
   "cell_type": "code",
   "execution_count": 13,
   "metadata": {},
   "outputs": [],
   "source": [
    "with open(os.path.join(working, stats_file+'.pickle'), 'rb') as fi:\n",
    "    stats_tpf = pickle.load(fi)"
   ]
  },
  {
   "cell_type": "code",
   "execution_count": 14,
   "metadata": {},
   "outputs": [
    {
     "name": "stdout",
     "output_type": "stream",
     "text": [
      "{u'pair': [1.05, 1.1500000000000001, 1.25, 1.35, 1.4500000000000002, 1.55, 1.6500000000000001, 1.75, 1.85, 1.9500000000000002, 2.05, 2.1500000000000004, 2.25, 2.35, 2.45, 2.55, 2.6500000000000004, 2.75, 2.85, 2.95, 3.05, 3.1500000000000004, 3.25, 3.3500000000000005, 3.45, 3.55, 3.6500000000000004, 3.75, 3.8500000000000005, 3.95, 4.05, 4.15, 4.25, 4.3500000000000005, 4.45, 4.55, 4.65, 4.75, 4.8500000000000005, 4.95, 5.05, 5.15, 5.25, 5.35, 5.45, 5.55, 5.65, 5.75, 5.8500000000000005, 5.95], u'edens': [1.05, 1.1500000000000001, 1.25, 1.35, 1.4500000000000002, 1.55, 1.6500000000000001, 1.75, 1.85, 1.9500000000000002, 2.05, 2.1500000000000004, 2.25, 2.35, 2.45, 2.55, 2.6500000000000004, 2.75, 2.85, 2.95, 3.05, 3.1500000000000004, 3.25, 3.3500000000000005, 3.45, 3.55, 3.6500000000000004, 3.75, 3.8500000000000005, 3.95, 4.05, 4.15, 4.25, 4.3500000000000005, 4.45, 4.55, 4.65, 4.75, 4.8500000000000005, 4.95, 5.05, 5.15, 5.25, 5.35, 5.45, 5.55, 5.65, 5.75, 5.8500000000000005, 5.95]}\n"
     ]
    }
   ],
   "source": [
    "print(stats_tpf['hyperparams'])"
   ]
  },
  {
   "cell_type": "code",
   "execution_count": 15,
   "metadata": {},
   "outputs": [
    {
     "name": "stdout",
     "output_type": "stream",
     "text": [
      "\n",
      "    Convert statistics data from the cubic truncated power function (TPF) basis to b-splines.\n",
      "    Only works for the special case of evenly separated knots. \n",
      "\n",
      "    Parameters\n",
      "    ----------\n",
      "    stats_tpf: dict\n",
      "               Trajectory statistics information using TPF basis\n",
      "               Should be based on evenly spaced knots with the last three\n",
      "               being the boundary knots\n",
      "\n",
      "    Returns\n",
      "    -------\n",
      "    stats_bspline: dict\n",
      "               Trajectory statistics information using b-spline basis\n",
      "\n",
      "    \n"
     ]
    }
   ],
   "source": [
    "print(tpf_to_bsplines.__doc__)"
   ]
  },
  {
   "cell_type": "code",
   "execution_count": 16,
   "metadata": {},
   "outputs": [
    {
     "data": {
      "text/plain": [
       "array([1.05, 1.15, 1.25, 1.35, 1.45, 1.55, 1.65, 1.75, 1.85, 1.95, 2.05,\n",
       "       2.15, 2.25, 2.35, 2.45, 2.55, 2.65, 2.75, 2.85, 2.95, 3.05, 3.15,\n",
       "       3.25, 3.35, 3.45, 3.55, 3.65, 3.75, 3.85, 3.95, 4.05, 4.15, 4.25,\n",
       "       4.35, 4.45, 4.55, 4.65, 4.75, 4.85, 4.95, 5.05, 5.15, 5.25, 5.35,\n",
       "       5.45, 5.55, 5.65, 5.75, 5.85, 5.95])"
      ]
     },
     "execution_count": 16,
     "metadata": {},
     "output_type": "execute_result"
    }
   ],
   "source": [
    "np.linspace(1.05, 5.95, 50)"
   ]
  },
  {
   "cell_type": "code",
   "execution_count": 17,
   "metadata": {},
   "outputs": [
    {
     "data": {
      "text/plain": [
       "[u'function',\n",
       " 'bcc_npt_langevin_3700K',\n",
       " 'vac_npt_langevin_2000K',\n",
       " 'inf',\n",
       " 'relax',\n",
       " 'screw_111_npt_langevin_2000K',\n",
       " u'hyperparams',\n",
       " 'bcc_npt_langevin_300K',\n",
       " 'eos_bcc',\n",
       " 'eos',\n",
       " 'fcc_npt_langevin_300K',\n",
       " 'vacint',\n",
       " 'eos_fcc',\n",
       " 'i110_npt_langevin_2000K',\n",
       " 'liq_3700K',\n",
       " 'liq_5000K',\n",
       " 'i111_npt_langevin_2000K',\n",
       " 'bain']"
      ]
     },
     "execution_count": 17,
     "metadata": {},
     "output_type": "execute_result"
    }
   ],
   "source": [
    "stats_tpf.keys()"
   ]
  },
  {
   "cell_type": "code",
   "execution_count": 18,
   "metadata": {},
   "outputs": [
    {
     "name": "stdout",
     "output_type": "stream",
     "text": [
      "len 50\n"
     ]
    }
   ],
   "source": [
    "stats_bspline = tpf_to_bsplines(stats_tpf)"
   ]
  },
  {
   "cell_type": "code",
   "execution_count": 51,
   "metadata": {},
   "outputs": [
    {
     "data": {
      "text/plain": [
       "(1.95, 5.95)"
      ]
     },
     "execution_count": 51,
     "metadata": {},
     "output_type": "execute_result"
    },
    {
     "data": {
      "image/png": "[encoded data removed]",
      "text/plain": [
       "<Figure size 432x288 with 1 Axes>"
      ]
     },
     "metadata": {
      "needs_background": "light"
     },
     "output_type": "display_data"
    }
   ],
   "source": [
    "plt.plot(np.array(stats_bspline['hyperparams']['pair'][:-4-3])+0.4, stats_bspline['fcc_npt_langevin_300K']['energy'][0][2][:-3], 'r.-')\n",
    "plt.plot(np.array(stats_bspline['hyperparams']['pair'][:-4-3])+0.4, stats_bspline['bcc_npt_langevin_300K']['energy'][0][2][:-3], 'b.-')\n",
    "plt.plot(np.array(stats_bspline['hyperparams']['pair'][:-4-3])+0.4, stats_bspline['bcc_npt_langevin_3700K']['energy'][0][2][:-3], 'g.-')\n",
    "plt.plot(np.array(stats_bspline['hyperparams']['pair'][:-4-3])+0.4, stats_bspline['liq_3700K']['energy'][0][2][:-3], 'y.-')\n",
    "\n",
    "plt.xlim(1.95,5.95)\n"
   ]
  },
  {
   "cell_type": "code",
   "execution_count": 52,
   "metadata": {},
   "outputs": [
    {
     "data": {
      "text/plain": [
       "[<matplotlib.lines.Line2D at 0x104ab15cd0>]"
      ]
     },
     "execution_count": 52,
     "metadata": {},
     "output_type": "execute_result"
    },
    {
     "data": {
      "image/png": "[encoded data removed]",
      "text/plain": [
       "<Figure size 432x288 with 1 Axes>"
      ]
     },
     "metadata": {
      "needs_background": "light"
     },
     "output_type": "display_data"
    }
   ],
   "source": [
    "plt.plot(stats_tpf['relax']['energy'][0][2], 'bo-')"
   ]
  },
  {
   "cell_type": "code",
   "execution_count": 53,
   "metadata": {},
   "outputs": [
    {
     "data": {
      "text/plain": [
       "(45, 50)"
      ]
     },
     "execution_count": 53,
     "metadata": {},
     "output_type": "execute_result"
    }
   ],
   "source": [
    "len(stats_bspline['hyperparams']['pair'][:-5]), len(stats_bspline['hyperparams']['pair'])"
   ]
  },
  {
   "cell_type": "code",
   "execution_count": 55,
   "metadata": {},
   "outputs": [],
   "source": [
    "target_file = 'target_bs_samples'\n",
    "with open(os.path.join(working, target_file+'.pickle'), 'rb') as fi:\n",
    "    target = pickle.load(fi)"
   ]
  },
  {
   "cell_type": "code",
   "execution_count": 60,
   "metadata": {},
   "outputs": [
    {
     "data": {
      "text/plain": [
       "{'function', 'hyperparams'}"
      ]
     },
     "execution_count": 60,
     "metadata": {},
     "output_type": "execute_result"
    }
   ],
   "source": [
    "set(stats_bspline.keys()).difference(set(target.keys()))"
   ]
  },
  {
   "cell_type": "code",
   "execution_count": 58,
   "metadata": {},
   "outputs": [
    {
     "data": {
      "text/plain": [
       "['function',\n",
       " 'bcc_npt_langevin_3700K',\n",
       " 'vac_npt_langevin_2000K',\n",
       " 'relax',\n",
       " 'screw_111_npt_langevin_2000K',\n",
       " 'hyperparams',\n",
       " 'i110_npt_langevin_2000K',\n",
       " 'bcc_npt_langevin_300K',\n",
       " 'i111_npt_langevin_2000K',\n",
       " 'eos',\n",
       " 'fcc_npt_langevin_300K',\n",
       " 'vacint',\n",
       " 'eos_fcc',\n",
       " 'inf',\n",
       " 'liq_3700K',\n",
       " 'liq_5000K',\n",
       " 'eos_bcc',\n",
       " 'bain']"
      ]
     },
     "execution_count": 58,
     "metadata": {},
     "output_type": "execute_result"
    }
   ],
   "source": [
    "stats_bspline.keys()"
   ]
  },
  {
   "cell_type": "code",
   "execution_count": 64,
   "metadata": {},
   "outputs": [],
   "source": [
    "def make_matrices(target, stats):\n",
    "    \"\"\"\n",
    "    Creates input data for energy minimization with target as dependent variable and stats as independent.\n",
    "    Assumes that all appropriate knots from stats have been selected, so it includes everything.\n",
    "    \"\"\"\n",
    "    \n",
    "    # matrix of independent variables (Embedding and B-spline coefficients)\n",
    "    X = []\n",
    "    # vector of dependent variable (configurational energies)\n",
    "    y = []\n",
    "    \n",
    "    for key in target:\n",
    "        for config, energy in zip(stats[key]['energy'], target[key]['energy']):\n",
    "            # add energy\n",
    "            y.append(energy)\n",
    "            \n",
    "            # create an array of independent variables\n",
    "            x_vars = [config[0][0], config[1][0]] # embedding\n",
    "            x_vars += config[2]                   # pair interaction b-spline stats\n",
    "            X.append()\n",
    "    \n",
    "    return X, y"
   ]
  },
  {
   "cell_type": "code",
   "execution_count": null,
   "metadata": {},
   "outputs": [],
   "source": []
  }
 ],
 "metadata": {
  "kernelspec": {
   "display_name": "Python 2",
   "language": "python",
   "name": "python2"
  },
  "language_info": {
   "codemirror_mode": {
    "name": "ipython",
    "version": 2
   },
   "file_extension": ".py",
   "mimetype": "text/x-python",
   "name": "python",
   "nbconvert_exporter": "python",
   "pygments_lexer": "ipython2",
   "version": "2.7.15"
  }
 },
 "nbformat": 4,
 "nbformat_minor": 2
}
