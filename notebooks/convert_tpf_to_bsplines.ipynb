{
 "cells": [
  {
   "cell_type": "markdown",
   "metadata": {},
   "source": [
    "1. Make sure that b-splines are correct\n",
    "    x. Check the code for obvious errors\n",
    "    2. Write energy function that works with b-splines\n",
    "    3. Check if the TPF and B-spline energies are the same\n",
    "2. Write LinReg optimization function\n",
    "3. Fit energy to an existing potential (e.g., Marinica)\n",
    "4. Write Backfitting optimization function\n",
    "5. Optimize stat. distance"
   ]
  },
  {
   "cell_type": "code",
   "execution_count": 52,
   "metadata": {
    "collapsed": true
   },
   "outputs": [],
   "source": [
    "%matplotlib inline\n",
    "import os\n",
    "import sys\n",
    "import re\n",
    "import numpy as np\n",
    "import pickle\n",
    "from scipy.optimize import fmin\n",
    "import multiprocessing as mp\n",
    "import functools\n",
    "import matplotlib.pyplot as plt"
   ]
  },
  {
   "cell_type": "code",
   "execution_count": 2,
   "metadata": {
    "collapsed": true
   },
   "outputs": [],
   "source": [
    "%load_ext autoreload\n",
    "%autoreload 2"
   ]
  },
  {
   "cell_type": "code",
   "execution_count": 3,
   "metadata": {
    "collapsed": true
   },
   "outputs": [],
   "source": [
    "# statmech library setup\n",
    "sys.path.append('../../statmechlib')\n",
    "from statmechlib.preprocessing import select_nodes, to_param_dict, to_param_list, tpf_to_bsplines\n",
    "from statmechlib.preprocessing import Trajectory, scale_configuration, pair_dist_cutoff, find_index\n",
    "from statmechlib.read_write import params_to_pickle"
   ]
  },
  {
   "cell_type": "code",
   "execution_count": 4,
   "metadata": {
    "collapsed": true
   },
   "outputs": [],
   "source": [
    "working = '../data/working'"
   ]
  },
  {
   "cell_type": "code",
   "execution_count": 5,
   "metadata": {
    "collapsed": true
   },
   "outputs": [],
   "source": [
    "stats_file = 'stats_bs_samples' # 'stats_samples'"
   ]
  },
  {
   "cell_type": "code",
   "execution_count": 6,
   "metadata": {},
   "outputs": [],
   "source": [
    "with open(os.path.join(working, stats_file+'.pickle'), 'rb') as fi:\n",
    "    stats_tpf = pickle.load(fi)"
   ]
  },
  {
   "cell_type": "code",
   "execution_count": 7,
   "metadata": {},
   "outputs": [
    {
     "name": "stdout",
     "output_type": "stream",
     "text": [
      "{u'pair': [1.05, 1.1499999999999999, 1.25, 1.3500000000000001, 1.45, 1.55, 1.6499999999999999, 1.75, 1.8500000000000001, 1.95, 2.0499999999999998, 2.1499999999999999, 2.25, 2.3500000000000001, 2.4500000000000002, 2.5499999999999998, 2.6499999999999999, 2.75, 2.8500000000000001, 2.9500000000000002, 3.0499999999999998, 3.1499999999999999, 3.25, 3.3500000000000001, 3.4500000000000002, 3.5499999999999998, 3.6499999999999999, 3.75, 3.8500000000000001, 3.9500000000000002, 4.0499999999999998, 4.1500000000000004, 4.25, 4.3499999999999996, 4.4500000000000002, 4.5499999999999998, 4.6500000000000004, 4.75, 4.8499999999999996, 4.9500000000000002, 5.0499999999999998, 5.1500000000000004, 5.25, 5.3499999999999996, 5.4500000000000002, 5.5499999999999998, 5.6500000000000004, 5.75, 5.8499999999999996, 5.9500000000000002], u'edens': [1.05, 1.1499999999999999, 1.25, 1.3500000000000001, 1.45, 1.55, 1.6499999999999999, 1.75, 1.8500000000000001, 1.95, 2.0499999999999998, 2.1499999999999999, 2.25, 2.3500000000000001, 2.4500000000000002, 2.5499999999999998, 2.6499999999999999, 2.75, 2.8500000000000001, 2.9500000000000002, 3.0499999999999998, 3.1499999999999999, 3.25, 3.3500000000000001, 3.4500000000000002, 3.5499999999999998, 3.6499999999999999, 3.75, 3.8500000000000001, 3.9500000000000002, 4.0499999999999998, 4.1500000000000004, 4.25, 4.3499999999999996, 4.4500000000000002, 4.5499999999999998, 4.6500000000000004, 4.75, 4.8499999999999996, 4.9500000000000002, 5.0499999999999998, 5.1500000000000004, 5.25, 5.3499999999999996, 5.4500000000000002, 5.5499999999999998, 5.6500000000000004, 5.75, 5.8499999999999996, 5.9500000000000002]}\n"
     ]
    }
   ],
   "source": [
    "print(stats_tpf['hyperparams'])"
   ]
  },
  {
   "cell_type": "code",
   "execution_count": 12,
   "metadata": {},
   "outputs": [
    {
     "name": "stdout",
     "output_type": "stream",
     "text": [
      "\n",
      "    Convert statistics data from the cubic truncated power function (TPF) basis to b-splines.\n",
      "    Only works for the special case of evenly separated knots. \n",
      "\n",
      "    Parameters\n",
      "    ----------\n",
      "    stats_tpf: dict\n",
      "               Trajectory statistics information using TPF basis\n",
      "               Should be based on evenly spaced knots with the last three\n",
      "               being the boundary knots\n",
      "\n",
      "    Returns\n",
      "    -------\n",
      "    stats_bspline: dict\n",
      "               Trajectory statistics information using b-spline basis\n",
      "\n",
      "    \n"
     ]
    }
   ],
   "source": [
    "print(tpf_to_bsplines.__doc__)"
   ]
  },
  {
   "cell_type": "code",
   "execution_count": 13,
   "metadata": {},
   "outputs": [
    {
     "data": {
      "text/plain": [
       "[u'function',\n",
       " 'bcc_npt_langevin_3700K',\n",
       " 'vac_npt_langevin_2000K',\n",
       " 'inf',\n",
       " 'relax',\n",
       " 'screw_111_npt_langevin_2000K',\n",
       " u'hyperparams',\n",
       " 'bcc_npt_langevin_300K',\n",
       " 'eos_bcc',\n",
       " 'eos',\n",
       " 'fcc_npt_langevin_300K',\n",
       " 'vacint',\n",
       " 'eos_fcc',\n",
       " 'i110_npt_langevin_2000K',\n",
       " 'liq_3700K',\n",
       " 'liq_5000K',\n",
       " 'i111_npt_langevin_2000K',\n",
       " 'bain']"
      ]
     },
     "execution_count": 13,
     "metadata": {},
     "output_type": "execute_result"
    }
   ],
   "source": [
    "stats_tpf.keys()"
   ]
  },
  {
   "cell_type": "code",
   "execution_count": 73,
   "metadata": {},
   "outputs": [
    {
     "name": "stdout",
     "output_type": "stream",
     "text": [
      "len 50\n"
     ]
    }
   ],
   "source": [
    "stats_bspline = tpf_to_bsplines(stats_tpf)"
   ]
  },
  {
   "cell_type": "code",
   "execution_count": 76,
   "metadata": {},
   "outputs": [
    {
     "data": {
      "text/plain": [
       "[<matplotlib.lines.Line2D at 0x158978e90>]"
      ]
     },
     "execution_count": 76,
     "metadata": {},
     "output_type": "execute_result"
    },
    {
     "data": {
      "image/png": "[encoded data removed]",
      "text/plain": [
       "<matplotlib.figure.Figure at 0x1475cded0>"
      ]
     },
     "metadata": {},
     "output_type": "display_data"
    }
   ],
   "source": [
    "plt.plot(stats_bspline['hyperparams']['pair'][:], stats_bspline['fcc_npt_langevin_300K']['energy'][0][2])"
   ]
  },
  {
   "cell_type": "code",
   "execution_count": 77,
   "metadata": {},
   "outputs": [
    {
     "data": {
      "text/plain": [
       "[<matplotlib.lines.Line2D at 0x1589d3c10>]"
      ]
     },
     "execution_count": 77,
     "metadata": {},
     "output_type": "execute_result"
    },
    {
     "data": {
      "image/png": "[encoded data removed]",
      "text/plain": [
       "<matplotlib.figure.Figure at 0x15891ed50>"
      ]
     },
     "metadata": {},
     "output_type": "display_data"
    }
   ],
   "source": [
    "plt.plot(stats_bspline['hyperparams']['pair'][:], stats_bspline['bcc_npt_langevin_300K']['energy'][0][2])"
   ]
  },
  {
   "cell_type": "code",
   "execution_count": 54,
   "metadata": {},
   "outputs": [
    {
     "data": {
      "text/plain": [
       "[<matplotlib.lines.Line2D at 0x133475e90>]"
      ]
     },
     "execution_count": 54,
     "metadata": {},
     "output_type": "execute_result"
    },
    {
     "data": {
      "image/png": "[encoded data removed]",
      "text/plain": [
       "<matplotlib.figure.Figure at 0x14d779390>"
      ]
     },
     "metadata": {},
     "output_type": "display_data"
    }
   ],
   "source": [
    "plt.plot(stats_tpf['relax']['energy'][0][2])"
   ]
  },
  {
   "cell_type": "code",
   "execution_count": 69,
   "metadata": {},
   "outputs": [
    {
     "data": {
      "text/plain": [
       "(45, 50)"
      ]
     },
     "execution_count": 69,
     "metadata": {},
     "output_type": "execute_result"
    }
   ],
   "source": [
    "len(stats_bspline['hyperparams']['pair'][:-5]), len(stats_bspline['hyperparams']['pair'])"
   ]
  },
  {
   "cell_type": "code",
   "execution_count": null,
   "metadata": {
    "collapsed": true
   },
   "outputs": [],
   "source": []
  }
 ],
 "metadata": {
  "kernelspec": {
   "display_name": "Python 2",
   "language": "python",
   "name": "python2"
  },
  "language_info": {
   "codemirror_mode": {
    "name": "ipython",
    "version": 2
   },
   "file_extension": ".py",
   "mimetype": "text/x-python",
   "name": "python",
   "nbconvert_exporter": "python",
   "pygments_lexer": "ipython2",
   "version": "2.7.13"
  }
 },
 "nbformat": 4,
 "nbformat_minor": 2
}
